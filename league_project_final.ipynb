{
 "cells": [
  {
   "cell_type": "markdown",
   "metadata": {},
   "source": [
    "# League of Legends Project\n",
    "\n",
    "## Part 1: Data Collection\n",
    "    Ranked match data will be collected from each Summoner Name provided. \n",
    "\n",
    "    Part 1A: Data Collection from Data Dragon\n",
    "        - create mapping dictionaries from the json files provided\n",
    "\n",
    "    Part 1B: Data Collection from Riot API\n",
    "        - extract data from RIOT API\n",
    "    \n",
    "## Part 2: Data Analysis & Machine Learning\n",
    "    Exploratory Data Analysis will be done on the match data to discover basic statistics and trends.\n",
    "    \n",
    "    Part 2A: Data Wrangling and Cleaning\n",
    "        - wrangle and manipulate data table for consistency\n",
    "        - prepare data for visualization and machine learning\n",
    "\n",
    "    Part 2B: Data Visualization\n",
    "        - visualize trends and correlations show in the data\n",
    "        - create dashboard to visualize game statistics by player\n",
    "        \n",
    "    Part 2C: Machine Learning\n",
    "        - using data extracted from top 100 players, predict the outcome of a match based off the different variables provided\n",
    "        - using data extracted from top 100 players, identify and group champions based off classification algorithm"
   ]
  },
  {
   "source": [
    "# Part 1A"
   ],
   "cell_type": "markdown",
   "metadata": {}
  },
  {
   "cell_type": "code",
   "execution_count": 9,
   "metadata": {},
   "outputs": [],
   "source": [
    "import pandas as pd\n",
    "import plotly.express as px\n",
    "import plotly.io as pio\n",
    "import plotly.graph_objects as go\n",
    "import dash\n",
    "import dash_core_components as dcc\n",
    "import dash_html_components as html\n",
    "# pd.set_option('display.max_rows', None)\n",
    "pd.set_option('display.max_columns', None)\n",
    "# pd.set_option('display.width', None)\n",
    "import numpy as np\n",
    "import requests\n",
    "import regex as re\n",
    "import json\n",
    "import pprint\n",
    "import time\n",
    "from bs4 import BeautifulSoup"
   ]
  },
  {
   "cell_type": "markdown",
   "metadata": {},
   "source": [
    "## Champion JSON"
   ]
  },
  {
   "cell_type": "code",
   "execution_count": null,
   "metadata": {},
   "outputs": [],
   "source": [
    "def create_champion_mapping_dict(file_name):\n",
    "    champion_key_dict = {}\n",
    "    with open(f'json_files/{file_name}', encoding = 'utf-8') as f:\n",
    "        champion_json = json.load(f)\n",
    "        for champion, info in champion_json['data'].items():\n",
    "            champion_name = champion\n",
    "            for c_key, c_value in info.items():\n",
    "                if c_key == 'key':\n",
    "                    champion_key_dict[champion_name] = int(c_value)\n",
    "    return champion_key_dict\n",
    "\n",
    "champion_key_dict = create_champion_mapping_dict('champion.json')"
   ]
  },
  {
   "cell_type": "markdown",
   "metadata": {},
   "source": [
    "## Item JSON"
   ]
  },
  {
   "cell_type": "code",
   "execution_count": null,
   "metadata": {},
   "outputs": [],
   "source": [
    "def create_item_mapping_dict(file_name):\n",
    "    item_key_dict = {}\n",
    "    with open(f'json_files/{file_name}', encoding = 'utf-8') as f:\n",
    "        item_data = json.load(f)\n",
    "        for item, info in item_data['data'].items():\n",
    "            item_id = item\n",
    "            for i_key, i_value in info.items():\n",
    "                if i_key == 'name':\n",
    "                    item_key_dict[int(item_id)] = i_value\n",
    "    return item_key_dict\n",
    "\n",
    "item_key_dict = create_item_mapping_dict('item.json')"
   ]
  },
  {
   "cell_type": "markdown",
   "metadata": {},
   "source": [
    "## Queue JSON"
   ]
  },
  {
   "cell_type": "code",
   "execution_count": null,
   "metadata": {},
   "outputs": [],
   "source": [
    "def create_queue_mapping_dict(file_name):\n",
    "    queue_info_dict = {}\n",
    "    with open(f'json_files/{file_name}', encoding = 'utf-8') as f:\n",
    "        queue_data = json.load(f)\n",
    "        for queue in queue_data:\n",
    "            queue_key = queue['queueId']\n",
    "            queue_name = queue['description']\n",
    "            queue_notes = str(queue['notes'])\n",
    "            if 'deprecated' not in queue_notes.lower():\n",
    "                queue_info_dict[queue_key] = str(queue_name).upper()\n",
    "\n",
    "    queue_info_dict_reverse = {str(v).upper(): k for (k,v) in queue_info_dict.items()}\n",
    "    return queue_info_dict, queue_info_dict_reverse\n",
    "\n",
    "queue_key_dict, queue_key_dict_reverse = create_queue_mapping_dict('queue.json')"
   ]
  },
  {
   "cell_type": "markdown",
   "metadata": {},
   "source": [
    "## Summoner Spell JSON"
   ]
  },
  {
   "cell_type": "code",
   "execution_count": null,
   "metadata": {},
   "outputs": [],
   "source": [
    "def create_summoner_spell_mapping_dict(file_name):\n",
    "    ss_info_dict = {}\n",
    "    with open(f'json_files/{file_name}', encoding = 'utf-8') as f:\n",
    "        ss_data = json.load(f)\n",
    "        for s_spell, info in ss_data['data'].items():\n",
    "            for key in info:\n",
    "                ss_key = info['key']\n",
    "                ss_name = info['name']\n",
    "                ss_description = info['description']\n",
    "                ss_info_dict[ss_name] = (ss_key, ss_description)\n",
    "    return ss_info_dict\n",
    "\n",
    "ss_key_dict = create_summoner_spell_mapping_dict('summoner.json')"
   ]
  },
  {
   "cell_type": "markdown",
   "metadata": {},
   "source": [
    "## Season JSON"
   ]
  },
  {
   "cell_type": "code",
   "execution_count": null,
   "metadata": {},
   "outputs": [],
   "source": [
    "def create_season_mapping_dict(file_name):\n",
    "    season_info_dict = {}\n",
    "    with open(f\"json_files/{file_name}\", encoding = \"utf-8\") as f:\n",
    "        season_data = json.load(f)\n",
    "        for season in season_data:\n",
    "            season_info_dict[season['id']] = season['season']\n",
    "    return season_info_dict\n",
    "    \n",
    "season_key_dict = create_season_mapping_dict('season.json')"
   ]
  },
  {
   "source": [
    "# Part 1B"
   ],
   "cell_type": "markdown",
   "metadata": {}
  },
  {
   "cell_type": "code",
   "execution_count": null,
   "metadata": {},
   "outputs": [],
   "source": [
    "REQUEST_HEADERS = {\n",
    "    'User-Agent': 'Mozilla/5.0 (Windows NT 10.0; Win64; x64) AppleWebKit/537.36 (KHTML, like Gecko) Chrome/87.0.4280.66 Safari/537.36',\n",
    "    'Accept-Language': 'en-US,en;q=0.9',\n",
    "    'Accept-Charset': 'application/x-www-form-urlencoded; charset=UTF-8',\n",
    "    'Origin': 'https://developer.riotgames.com',\n",
    "    'X-Riot-Token': ''\n",
    "    }\n",
    "RIOT_API = ''"
   ]
  },
  {
   "cell_type": "markdown",
   "metadata": {},
   "source": [
    "## Getting Account Information Using Summoner Name"
   ]
  },
  {
   "cell_type": "code",
   "execution_count": null,
   "metadata": {},
   "outputs": [],
   "source": [
    "def get_puu_id(summoner_name, riot_api_key = RIOT_API, request_headers = REQUEST_HEADERS, access = True):\n",
    "    summoner_name_updated = summoner_name.replace(' ', '%20')\n",
    "    url = 'https://na1.api.riotgames.com/lol/summoner/v4/summoners/by-name/'\n",
    "    account_url = url + summoner_name_updated\n",
    "    riot_headers = request_headers\n",
    "    riot_headers[\"X-Riot-Token\"] = riot_api_key\n",
    "    while access:\n",
    "        req = requests.get(account_url, headers = riot_headers)\n",
    "        if req.status_code == 200:\n",
    "            account_info = json.loads(req.content.decode(\"utf-8\"))\n",
    "            puu_id = account_info['puuid']\n",
    "            access = False\n",
    "\n",
    "        elif req.status_code == 404:\n",
    "            puu_id = None\n",
    "            access = False\n",
    "\n",
    "        else:\n",
    "            time.sleep(10)\n",
    "    return  puu_id"
   ]
  },
  {
   "cell_type": "markdown",
   "metadata": {},
   "source": [
    "## Getting A List of Match IDs Using PUU ID"
   ]
  },
  {
   "cell_type": "code",
   "execution_count": null,
   "metadata": {},
   "outputs": [],
   "source": [
    "def get_match_ids(puu_id, start, end, riot_api_key = RIOT_API, request_headers = REQUEST_HEADERS, access = True):\n",
    "    match_ids = []\n",
    "    match_history_url = f'https://americas.api.riotgames.com/lol/match/v5/matches/by-puuid/{puu_id}/ids?start={start}&count={end}'\n",
    "    riot_headers = request_headers\n",
    "    riot_headers[\"X-Riot-Token\"] = riot_api_key\n",
    "\n",
    "    while access:\n",
    "        req = requests.get(match_history_url, headers = riot_headers)\n",
    "        if req.status_code == 200:\n",
    "            match_id_info = json.loads(req.content.decode(\"utf-8\"))\n",
    "            for match_id in match_id_info:\n",
    "                match_ids.append(match_id)\n",
    "            access = False\n",
    "        else:\n",
    "            print('Waiting for 10 seconds to refresh restriction request...')\n",
    "            time.sleep(10)\n",
    "\n",
    "    return match_ids"
   ]
  },
  {
   "cell_type": "markdown",
   "metadata": {},
   "source": [
    "## Get Match Information Using Match ID"
   ]
  },
  {
   "cell_type": "code",
   "execution_count": null,
   "metadata": {},
   "outputs": [],
   "source": [
    "def get_match_details(match_id, riot_api_key = RIOT_API, request_headers = REQUEST_HEADERS, access = True):\n",
    "    match_url = 'https://americas.api.riotgames.com/lol/match/v5/matches/' + str(match_id)\n",
    "    riot_headers = request_headers\n",
    "    riot_headers[\"X-Riot-Token\"] = riot_api_key\n",
    "\n",
    "    while access:\n",
    "        req = requests.get(match_url, headers = riot_headers)\n",
    "        if req.status_code == 200:\n",
    "            match_details = json.loads(req.content.decode(\"utf-8\"))\n",
    "            access = False\n",
    "\n",
    "        elif req.status_code == 404:\n",
    "            print(f'{match_id} - DATA NOT FOUND - MATCH FILE NOT FOUND')\n",
    "            match_details = None\n",
    "            access = False\n",
    "            \n",
    "        else:\n",
    "            print(req.status_code)\n",
    "            print('Waiting for 10 seconds to refresh restriction request...')\n",
    "            time.sleep(10)\n",
    "\n",
    "    return match_details"
   ]
  },
  {
   "source": [
    "## Cleaning and Reducing Match Data"
   ],
   "cell_type": "markdown",
   "metadata": {}
  },
  {
   "cell_type": "code",
   "execution_count": null,
   "metadata": {},
   "outputs": [],
   "source": [
    "def clean_and_reduce_match_data(match_details, queue_type, queue_mapping_info = queue_key_dict_reverse):\n",
    "    queue_filter = queue_mapping_info[queue_type.upper()]\n",
    "    match_cleaned_dict = {}\n",
    "    for key, value in match_details['info'].items():\n",
    "\n",
    "        if key == 'gameId':\n",
    "            match_id = value\n",
    "\n",
    "        if key == 'gameMode':\n",
    "            match_type = value\n",
    "            \n",
    "        if key == 'participants':\n",
    "            participant_details = value\n",
    "        \n",
    "        if key == 'queueId':\n",
    "            if value == queue_filter:\n",
    "                queue_id = value\n",
    "                match_cleaned_dict[(match_type, queue_id, match_id)] = participant_details\n",
    "            else:\n",
    "                return None\n",
    "    return match_cleaned_dict"
   ]
  },
  {
   "cell_type": "code",
   "execution_count": null,
   "metadata": {},
   "outputs": [],
   "source": [
    "def filter_match_data_by_puuid(match_cleaned_dict, puu_id):\n",
    "    for match_id, match_details in match_cleaned_dict.items():\n",
    "        for participant_dict in match_details:\n",
    "            if participant_dict['puuid'] == puu_id:\n",
    "                return {match_id[0] + '_' + str(match_id[1]) + '_' + str(match_id[2]): participant_dict}"
   ]
  },
  {
   "cell_type": "code",
   "execution_count": null,
   "metadata": {},
   "outputs": [],
   "source": [
    "def remove_perks_attribute(match):\n",
    "    for key, info in match.items():\n",
    "        for key in list(info.keys()):\n",
    "            if key == 'perks':\n",
    "                del info[key]\n",
    "\n",
    "    return match"
   ]
  },
  {
   "source": [
    "## Turn Match Data into DataFrame"
   ],
   "cell_type": "markdown",
   "metadata": {}
  },
  {
   "cell_type": "code",
   "execution_count": null,
   "metadata": {},
   "outputs": [],
   "source": [
    "def make_match_df(match):\n",
    "    match_df = pd.DataFrame.from_dict(match, orient = 'index')\n",
    "    return match_df"
   ]
  },
  {
   "source": [
    "## Create Super Function for Data Collection"
   ],
   "cell_type": "markdown",
   "metadata": {}
  },
  {
   "cell_type": "code",
   "execution_count": null,
   "metadata": {},
   "outputs": [],
   "source": [
    "def get_match_history_by_summoner_name(summoner_name, start, end, queue_type, riot_api = RIOT_API, request_headers = REQUEST_HEADERS):\n",
    "    puu_id = get_puu_id(summoner_name, riot_api, request_headers)\n",
    "\n",
    "    if puu_id != None:\n",
    "        match_ids = get_match_ids(puu_id, start, end, riot_api, request_headers)\n",
    "\n",
    "        matches_df_listed = []\n",
    "\n",
    "        for match_id in match_ids:\n",
    "            match_detail = get_match_details(match_id, riot_api, request_headers)\n",
    "            if match_detail != None:\n",
    "                match_cleaned = clean_and_reduce_match_data(match_detail, queue_type)\n",
    "                if match_cleaned != None:\n",
    "                    match_cleaned_filtered = filter_match_data_by_puuid(match_cleaned, puu_id)\n",
    "\n",
    "                    match_final = remove_perks_attribute(match_cleaned_filtered)\n",
    "\n",
    "                    match_df = make_match_df(match_final)\n",
    "    \n",
    "                    matches_df_listed.append(match_df)\n",
    "                    \n",
    "                else:\n",
    "                    print(f'Match ID: {match_id} IS NOT OF THE QUEUE TYPE: {queue_type.upper()}')\n",
    "                    continue\n",
    "\n",
    "        if matches_df_listed != []:\n",
    "            return pd.concat(matches_df_listed)\n",
    "                \n",
    "        \n",
    "    else:\n",
    "        return f'NO PUU_ID FOUND FOR SUMMONER: {summoner_name}'"
   ]
  },
  {
   "source": [
    "# Part 2A"
   ],
   "cell_type": "markdown",
   "metadata": {}
  },
  {
   "source": [
    "## Create Super Function for Initial Data Cleanup\n"
   ],
   "cell_type": "markdown",
   "metadata": {}
  },
  {
   "cell_type": "code",
   "execution_count": null,
   "metadata": {},
   "outputs": [],
   "source": [
    "def clean_columns(data):\n",
    "    data = data.reset_index()\n",
    "\n",
    "    cleaned_cols = list(data.columns.values)[1:]\n",
    "\n",
    "    data[['matchType', 'queueId', 'matchId']] = data['index'].str.split('_', expand = True)\n",
    "\n",
    "    cleaned_cols = ['queueId', 'matchId'] + cleaned_cols\n",
    "    data = data[cleaned_cols]\n",
    "    \n",
    "    data['queueId'] = data['queueId'].astype(int)\n",
    "\n",
    "    return data\n",
    "\n",
    "def mapping_data_values(data, mapping_key):\n",
    "    if mapping_key == 'Q':\n",
    "        data['queueId'] = data['queueId'].map(queue_key_dict)\n",
    "\n",
    "    if mapping_key == 'I':\n",
    "        item_columns = [\"item0\", \"item1\", \"item2\", \"item3\", \"item4\", \"item5\", \"item6\"]\n",
    "        for col in item_columns:\n",
    "            data[col] = data[col].map(item_key_dict)\n",
    "\n",
    "    if mapping_key == 'S':\n",
    "        summoner_columns = ['summoner1Id', 'summoner2Id']\n",
    "        for col in summoner_columns:\n",
    "            data[col] = data[col].map(ss_key_dict)\n",
    "    \n",
    "    if mapping_key == 'T':\n",
    "        team_color = data['teamId'].map({100: 'Blue', 200: 'Red'})\n",
    "        data.insert(1, 'teamColor', team_color)\n",
    "    \n",
    "    return data"
   ]
  },
  {
   "cell_type": "code",
   "execution_count": null,
   "metadata": {},
   "outputs": [],
   "source": [
    "def initial_cleanup(data):\n",
    "    data = clean_columns(data)\n",
    "\n",
    "    data = mapping_data_values(data, 'Q')\n",
    "\n",
    "    data = mapping_data_values(data, 'I')\n",
    "\n",
    "    data = mapping_data_values(data, 'S')\n",
    "\n",
    "    data = mapping_data_values(data, 'T')\n",
    "\n",
    "    return data"
   ]
  },
  {
   "source": [
    "## Combine All Super Functions"
   ],
   "cell_type": "markdown",
   "metadata": {}
  },
  {
   "cell_type": "code",
   "execution_count": null,
   "metadata": {},
   "outputs": [],
   "source": [
    "def get_clean_match_data_by_summoner(summoner_name, start, end, queue_type):\n",
    "\n",
    "    df = get_match_history_by_summoner_name(summoner_name, start, end, queue_type)\n",
    "    if isinstance(df, pd.DataFrame):\n",
    "        df = initial_cleanup(df)\n",
    "    else:\n",
    "        df = f'NO MATCHES OF THE TYPE {queue_type.upper()} IN THE LAST {end} GAMES'   \n",
    "\n",
    "    return df"
   ]
  },
  {
   "cell_type": "code",
   "execution_count": null,
   "metadata": {},
   "outputs": [],
   "source": [
    "def get_summoner_match_clean_df(summoner_name, num_games, q_type):\n",
    "\n",
    "    solo_game_count = 0\n",
    "    starting = 101\n",
    "    df_listed = []\n",
    "    ending = 1\n",
    "\n",
    "    print(f'STARTED PROCESSING FOR SUMMONER: {summoner_name}')\n",
    "    print(f'ROW {starting} HAS BEEN PROCESSED')\n",
    "\n",
    "    while solo_game_count < num_games:\n",
    "        df = get_clean_match_data_by_summoner(summoner_name = summoner_name, start = starting, end = ending, queue_type = q_type)\n",
    "        starting += ending\n",
    "        print(f'ROW {starting} HAS BEEN PROCESSED')\n",
    "\n",
    "        if isinstance(df, pd.DataFrame):\n",
    "            solo_game_count += df.shape[0]\n",
    "            print(f'SOLO GAME ROW COUNT: {solo_game_count}')\n",
    "            df_listed.append(df)\n",
    "\n",
    "    final = pd.concat(df_listed)\n",
    "    return final"
   ]
  },
  {
   "source": [
    "## Getting Most Recent 50 Solo Ranked Matches From Top 100 Challenger Level Players"
   ],
   "cell_type": "markdown",
   "metadata": {}
  },
  {
   "cell_type": "code",
   "execution_count": null,
   "metadata": {},
   "outputs": [],
   "source": [
    "def get_top_100_challenger_players(chall_url):\n",
    "    response = requests.get(chall_url)\n",
    "    html_soup  = BeautifulSoup(response.text, 'html.parser')\n",
    "    challlenger_top_100_snames = []\n",
    "\n",
    "    chall_top_4 = html_soup.find_all('li', class_ = 'ranking-highest__item')\n",
    "    for challenger in chall_top_4:\n",
    "        chall_sname = challenger.find('a', class_ = 'ranking-highest__name').text\n",
    "        challlenger_top_100_snames.append(chall_sname)\n",
    "    \n",
    "    chall_rest = html_soup.find_all('tr', class_ = 'ranking-table__row')\n",
    "    for challenger in chall_rest:\n",
    "        challlenger_top_100_snames.append(challenger.span.text)\n",
    "\n",
    "    return challlenger_top_100_snames"
   ]
  },
  {
   "cell_type": "code",
   "execution_count": null,
   "metadata": {},
   "outputs": [],
   "source": [
    "challenger_top100_snames = get_top_100_challenger_players('https://na.op.gg/ranking/ladder/page=1')"
   ]
  },
  {
   "cell_type": "code",
   "execution_count": null,
   "metadata": {},
   "outputs": [],
   "source": [
    "match_df_listed = []\n",
    "for challenger in challenger_top100_snames:\n",
    "    match_df = get_summoner_match_clean_df(summoner_name = challenger, num_games = 50, q_type = '5v5 Ranked Solo Games')\n",
    "    match_df_listed.append(match_df)"
   ]
  },
  {
   "cell_type": "code",
   "execution_count": null,
   "metadata": {},
   "outputs": [],
   "source": [
    "final_df = pd.concat(match_df_listed)\n",
    "final_df.head()"
   ]
  },
  {
   "cell_type": "code",
   "execution_count": null,
   "metadata": {},
   "outputs": [],
   "source": [
    "final_df.shape"
   ]
  },
  {
   "cell_type": "code",
   "execution_count": null,
   "metadata": {},
   "outputs": [],
   "source": [
    "final_df.to_csv('export_data/data_6_18.csv', index = False)"
   ]
  },
  {
   "source": [
    "## Final Cleanup to Combined Data"
   ],
   "cell_type": "markdown",
   "metadata": {}
  },
  {
   "cell_type": "code",
   "execution_count": 43,
   "metadata": {},
   "outputs": [],
   "source": [
    "match_data_total = pd.read_csv('export_data/data_combined.csv')\n",
    "match_data_total.loc[match_data_total['teamPosition'] == 'UTILITY', 'teamPosition'] = 'SUPPORT'\n",
    "match_data_total.loc[match_data_total['championName'] == 'MonkeyKing', 'championName'] = 'Wukong'"
   ]
  },
  {
   "cell_type": "code",
   "execution_count": 44,
   "metadata": {},
   "outputs": [],
   "source": [
    "subset = ['puuid', 'kills', 'deaths','assists', 'totalDamageDealt', 'totalDamageTaken', 'totalHeal', 'item0', 'item1', 'item2', 'item3', 'item4', 'item5', 'item6']\n",
    "match_data_total_deduped = match_data_total.drop_duplicates(subset, keep = 'first')"
   ]
  },
  {
   "cell_type": "code",
   "execution_count": 45,
   "metadata": {},
   "outputs": [
    {
     "output_type": "execute_result",
     "data": {
      "text/plain": [
       "(12282, 100)"
      ]
     },
     "metadata": {},
     "execution_count": 45
    }
   ],
   "source": [
    "match_data_total_deduped.shape"
   ]
  },
  {
   "cell_type": "code",
   "execution_count": 46,
   "metadata": {},
   "outputs": [],
   "source": [
    "item_cols = ['item0', 'item1', 'item2', 'item3', 'item4', 'item5', 'item6']\n",
    "\n",
    "for col in item_cols:\n",
    "    match_data_total_deduped[col] = match_data_total_deduped[col].fillna(value = 'None')"
   ]
  },
  {
   "cell_type": "code",
   "execution_count": 47,
   "metadata": {},
   "outputs": [],
   "source": [
    "match_data_total_deduped['inhibitorsLost'] = match_data_total_deduped['inhibitorsLost'].fillna(value = 0)\n",
    "match_data_total_deduped['nexusLost'] = match_data_total_deduped['nexusLost'].fillna(value = 0)\n",
    "match_data_total_deduped['turretsLost'] = match_data_total_deduped['turretsLost'].fillna(value = 0)\n",
    "match_data_total_deduped['damageDealtToBuildings'] = match_data_total_deduped['damageDealtToBuildings'].fillna(value = 0)"
   ]
  },
  {
   "cell_type": "code",
   "execution_count": 48,
   "metadata": {},
   "outputs": [],
   "source": [
    "match_data_total_deduped.to_csv('export_data/data_combined_cleaned.csv', index = False)"
   ]
  },
  {
   "source": [
    "# Part 2B"
   ],
   "cell_type": "markdown",
   "metadata": {}
  },
  {
   "source": [
    "## Questions to Visualize:\n",
    "\n",
    "### Who is the most played champion by lane?\n",
    "    - select the top 3 played champions by lane and display the # of games played\n",
    "    \n",
    "### Who are the top 3 champions that hold the highest win rate by lane?\n",
    "    - visualize win rates by lane and visualize win rate by champions\n",
    "    - to decrease bias from lack of games played, the champions that have at least average game count will only be used when looking at win rate\n",
    "\n",
    "### What is the k/D/A for the top 10 played champions?\n",
    "    - after filtering the data for top 10 played champions, visualize the average K/D/A\n",
    "\n",
    "### How correlated is offensive/defensive statistics to winning?\n",
    "    - create correlation matrix to determine variables highly correlated with win/loss\n",
    "    - filter correlation plot for any variables that have a correlation higher than .25 or lower than -.25"
   ],
   "cell_type": "markdown",
   "metadata": {}
  },
  {
   "cell_type": "code",
   "execution_count": 60,
   "metadata": {},
   "outputs": [],
   "source": [
    "match_data_total_deduped = pd.read_csv('export_data/data_combined_cleaned.csv')"
   ]
  },
  {
   "cell_type": "code",
   "execution_count": 61,
   "metadata": {},
   "outputs": [
    {
     "output_type": "execute_result",
     "data": {
      "text/plain": [
       "    teamPosition championName  matchCount\n",
       "12        BOTTOM       Ezreal         344\n",
       "19        BOTTOM        Kaisa         296\n",
       "42        BOTTOM     Tristana         249\n",
       "76        JUNGLE      Kindred         248\n",
       "91        JUNGLE       Rumble         179\n",
       "74        JUNGLE         Kayn         157\n",
       "178       MIDDLE        Sylas         244\n",
       "150       MIDDLE       LeeSin         208\n",
       "152       MIDDLE       Lucian         177\n",
       "238      SUPPORT       Thresh         354\n",
       "219      SUPPORT     Nautilus         299\n",
       "210      SUPPORT        Karma         254\n",
       "279          TOP       LeeSin         237\n",
       "270          TOP        Jayce         221\n",
       "264          TOP         Gwen         152"
      ],
      "text/html": "<div>\n<style scoped>\n    .dataframe tbody tr th:only-of-type {\n        vertical-align: middle;\n    }\n\n    .dataframe tbody tr th {\n        vertical-align: top;\n    }\n\n    .dataframe thead th {\n        text-align: right;\n    }\n</style>\n<table border=\"1\" class=\"dataframe\">\n  <thead>\n    <tr style=\"text-align: right;\">\n      <th></th>\n      <th>teamPosition</th>\n      <th>championName</th>\n      <th>matchCount</th>\n    </tr>\n  </thead>\n  <tbody>\n    <tr>\n      <th>12</th>\n      <td>BOTTOM</td>\n      <td>Ezreal</td>\n      <td>344</td>\n    </tr>\n    <tr>\n      <th>19</th>\n      <td>BOTTOM</td>\n      <td>Kaisa</td>\n      <td>296</td>\n    </tr>\n    <tr>\n      <th>42</th>\n      <td>BOTTOM</td>\n      <td>Tristana</td>\n      <td>249</td>\n    </tr>\n    <tr>\n      <th>76</th>\n      <td>JUNGLE</td>\n      <td>Kindred</td>\n      <td>248</td>\n    </tr>\n    <tr>\n      <th>91</th>\n      <td>JUNGLE</td>\n      <td>Rumble</td>\n      <td>179</td>\n    </tr>\n    <tr>\n      <th>74</th>\n      <td>JUNGLE</td>\n      <td>Kayn</td>\n      <td>157</td>\n    </tr>\n    <tr>\n      <th>178</th>\n      <td>MIDDLE</td>\n      <td>Sylas</td>\n      <td>244</td>\n    </tr>\n    <tr>\n      <th>150</th>\n      <td>MIDDLE</td>\n      <td>LeeSin</td>\n      <td>208</td>\n    </tr>\n    <tr>\n      <th>152</th>\n      <td>MIDDLE</td>\n      <td>Lucian</td>\n      <td>177</td>\n    </tr>\n    <tr>\n      <th>238</th>\n      <td>SUPPORT</td>\n      <td>Thresh</td>\n      <td>354</td>\n    </tr>\n    <tr>\n      <th>219</th>\n      <td>SUPPORT</td>\n      <td>Nautilus</td>\n      <td>299</td>\n    </tr>\n    <tr>\n      <th>210</th>\n      <td>SUPPORT</td>\n      <td>Karma</td>\n      <td>254</td>\n    </tr>\n    <tr>\n      <th>279</th>\n      <td>TOP</td>\n      <td>LeeSin</td>\n      <td>237</td>\n    </tr>\n    <tr>\n      <th>270</th>\n      <td>TOP</td>\n      <td>Jayce</td>\n      <td>221</td>\n    </tr>\n    <tr>\n      <th>264</th>\n      <td>TOP</td>\n      <td>Gwen</td>\n      <td>152</td>\n    </tr>\n  </tbody>\n</table>\n</div>"
     },
     "metadata": {},
     "execution_count": 61
    }
   ],
   "source": [
    "test = match_data_total_deduped.groupby(['teamPosition', 'championName'])['matchId'].agg('count').reset_index()\n",
    "test.rename(columns = {'matchId':'matchCount'}, inplace = True)\n",
    "test_sorted = test.sort_values(['teamPosition', 'matchCount'], ascending = [True, False])\n",
    "test_filtered = test_sorted.loc[test_sorted['teamPosition'] != 'AFK']\n",
    "test_filtered\n",
    "top3_bottom = ['Ezreal', 'Kaisa', 'Tristana']\n",
    "top3_jungle = ['Kindred', 'Kayn', 'Rumble']\n",
    "top3_mid = ['Sylas', 'LeeSin', 'Lucian']\n",
    "top3_top = ['LeeSin', 'Jayce', 'Gwen']\n",
    "top3_supp = ['Thresh', 'Nautilus', 'Karma']\n",
    "\n",
    "bot_mask = test_sorted['teamPosition'] == 'BOTTOM'\n",
    "jung_mask = test_sorted['teamPosition'] == 'JUNGLE'\n",
    "mid_mask = test_sorted['teamPosition'] == 'MIDDLE'\n",
    "top_mask = test_sorted['teamPosition'] == 'TOP'\n",
    "supp_mask = test_sorted['teamPosition'] == 'SUPPORT'\n",
    "\n",
    "top3_all_lanes = test.loc[\n",
    "    (bot_mask & test['championName'].isin(top3_bottom)) |\n",
    "    (jung_mask & test['championName'].isin(top3_jungle)) |\n",
    "    (mid_mask & test['championName'].isin(top3_mid)) |\n",
    "    (top_mask & test['championName'].isin(top3_top)) |\n",
    "    (supp_mask & test['championName'].isin(top3_supp))\n",
    "]\n",
    "top3_all_lanes_sorted = top3_all_lanes.sort_values(['teamPosition', 'matchCount'], ascending = [True, False])\n",
    "top3_all_lanes_sorted"
   ]
  },
  {
   "cell_type": "code",
   "execution_count": 62,
   "metadata": {},
   "outputs": [
    {
     "output_type": "display_data",
     "data": {
      "text/html": "        <script type=\"text/javascript\">\n        window.PlotlyConfig = {MathJaxConfig: 'local'};\n        if (window.MathJax) {MathJax.Hub.Config({SVG: {font: \"STIX-Web\"}});}\n        if (typeof require !== 'undefined') {\n        require.undef(\"plotly\");\n        requirejs.config({\n            paths: {\n                'plotly': ['https://cdn.plot.ly/plotly-latest.min']\n            }\n        });\n        require(['plotly'], function(Plotly) {\n            window._Plotly = Plotly;\n        });\n        }\n        </script>\n        "
     },
     "metadata": {}
    },
    {
     "output_type": "display_data",
     "data": {
      "text/html": "<div>                            <div id=\"39702dc5-1455-47ca-a3b8-ecc5ce69a5bc\" class=\"plotly-graph-div\" style=\"height:600px; width:800px;\"></div>            <script type=\"text/javascript\">                require([\"plotly\"], function(Plotly) {                    window.PLOTLYENV=window.PLOTLYENV || {};                                    if (document.getElementById(\"39702dc5-1455-47ca-a3b8-ecc5ce69a5bc\")) {                    Plotly.newPlot(                        \"39702dc5-1455-47ca-a3b8-ecc5ce69a5bc\",                        [{\"alignmentgroup\": \"True\", \"hovertemplate\": \"Champion=Ezreal<br>Position=%{x}<br># of Games Played=%{text}<extra></extra>\", \"insidetextanchor\": \"middle\", \"legendgroup\": \"Ezreal\", \"marker\": {\"color\": \"#5F9EA0\"}, \"name\": \"Ezreal\", \"offsetgroup\": \"Ezreal\", \"orientation\": \"v\", \"showlegend\": true, \"text\": [344.0], \"textposition\": \"inside\", \"texttemplate\": \"%{text} Games\", \"type\": \"bar\", \"x\": [\"BOTTOM\"], \"xaxis\": \"x\", \"y\": [344], \"yaxis\": \"y\"}, {\"alignmentgroup\": \"True\", \"hovertemplate\": \"Champion=Kaisa<br>Position=%{x}<br># of Games Played=%{text}<extra></extra>\", \"insidetextanchor\": \"middle\", \"legendgroup\": \"Kaisa\", \"marker\": {\"color\": \"#4B0082\"}, \"name\": \"Kaisa\", \"offsetgroup\": \"Kaisa\", \"orientation\": \"v\", \"showlegend\": true, \"text\": [296.0], \"textposition\": \"inside\", \"texttemplate\": \"%{text} Games\", \"type\": \"bar\", \"x\": [\"BOTTOM\"], \"xaxis\": \"x\", \"y\": [296], \"yaxis\": \"y\"}, {\"alignmentgroup\": \"True\", \"hovertemplate\": \"Champion=Tristana<br>Position=%{x}<br># of Games Played=%{text}<extra></extra>\", \"insidetextanchor\": \"middle\", \"legendgroup\": \"Tristana\", \"marker\": {\"color\": \"#FFA07A\"}, \"name\": \"Tristana\", \"offsetgroup\": \"Tristana\", \"orientation\": \"v\", \"showlegend\": true, \"text\": [249.0], \"textposition\": \"inside\", \"texttemplate\": \"%{text} Games\", \"type\": \"bar\", \"x\": [\"BOTTOM\"], \"xaxis\": \"x\", \"y\": [249], \"yaxis\": \"y\"}, {\"alignmentgroup\": \"True\", \"hovertemplate\": \"Champion=Kindred<br>Position=%{x}<br># of Games Played=%{text}<extra></extra>\", \"insidetextanchor\": \"middle\", \"legendgroup\": \"Kindred\", \"marker\": {\"color\": \"#708090\"}, \"name\": \"Kindred\", \"offsetgroup\": \"Kindred\", \"orientation\": \"v\", \"showlegend\": true, \"text\": [248.0], \"textposition\": \"inside\", \"texttemplate\": \"%{text} Games\", \"type\": \"bar\", \"x\": [\"JUNGLE\"], \"xaxis\": \"x\", \"y\": [248], \"yaxis\": \"y\"}, {\"alignmentgroup\": \"True\", \"hovertemplate\": \"Champion=Rumble<br>Position=%{x}<br># of Games Played=%{text}<extra></extra>\", \"insidetextanchor\": \"middle\", \"legendgroup\": \"Rumble\", \"marker\": {\"color\": \"#CD853F\"}, \"name\": \"Rumble\", \"offsetgroup\": \"Rumble\", \"orientation\": \"v\", \"showlegend\": true, \"text\": [179.0], \"textposition\": \"inside\", \"texttemplate\": \"%{text} Games\", \"type\": \"bar\", \"x\": [\"JUNGLE\"], \"xaxis\": \"x\", \"y\": [179], \"yaxis\": \"y\"}, {\"alignmentgroup\": \"True\", \"hovertemplate\": \"Champion=Kayn<br>Position=%{x}<br># of Games Played=%{text}<extra></extra>\", \"insidetextanchor\": \"middle\", \"legendgroup\": \"Kayn\", \"marker\": {\"color\": \"#4682B4\"}, \"name\": \"Kayn\", \"offsetgroup\": \"Kayn\", \"orientation\": \"v\", \"showlegend\": true, \"text\": [157.0], \"textposition\": \"inside\", \"texttemplate\": \"%{text} Games\", \"type\": \"bar\", \"x\": [\"JUNGLE\"], \"xaxis\": \"x\", \"y\": [157], \"yaxis\": \"y\"}, {\"alignmentgroup\": \"True\", \"hovertemplate\": \"Champion=Sylas<br>Position=%{x}<br># of Games Played=%{text}<extra></extra>\", \"insidetextanchor\": \"middle\", \"legendgroup\": \"Sylas\", \"marker\": {\"color\": \"#191970\"}, \"name\": \"Sylas\", \"offsetgroup\": \"Sylas\", \"orientation\": \"v\", \"showlegend\": true, \"text\": [244.0], \"textposition\": \"inside\", \"texttemplate\": \"%{text} Games\", \"type\": \"bar\", \"x\": [\"MIDDLE\"], \"xaxis\": \"x\", \"y\": [244], \"yaxis\": \"y\"}, {\"alignmentgroup\": \"True\", \"hovertemplate\": \"Champion=LeeSin<br>Position=%{x}<br># of Games Played=%{text}<extra></extra>\", \"insidetextanchor\": \"middle\", \"legendgroup\": \"LeeSin\", \"marker\": {\"color\": \"#A0522D\"}, \"name\": \"LeeSin\", \"offsetgroup\": \"LeeSin\", \"orientation\": \"v\", \"showlegend\": true, \"text\": [208.0, 237.0], \"textposition\": \"inside\", \"texttemplate\": \"%{text} Games\", \"type\": \"bar\", \"x\": [\"MIDDLE\", \"TOP\"], \"xaxis\": \"x\", \"y\": [208, 237], \"yaxis\": \"y\"}, {\"alignmentgroup\": \"True\", \"hovertemplate\": \"Champion=Lucian<br>Position=%{x}<br># of Games Played=%{text}<extra></extra>\", \"insidetextanchor\": \"middle\", \"legendgroup\": \"Lucian\", \"marker\": {\"color\": \"#DCDCDC\"}, \"name\": \"Lucian\", \"offsetgroup\": \"Lucian\", \"orientation\": \"v\", \"showlegend\": true, \"text\": [177.0], \"textposition\": \"inside\", \"texttemplate\": \"%{text} Games\", \"type\": \"bar\", \"x\": [\"MIDDLE\"], \"xaxis\": \"x\", \"y\": [177], \"yaxis\": \"y\"}, {\"alignmentgroup\": \"True\", \"hovertemplate\": \"Champion=Thresh<br>Position=%{x}<br># of Games Played=%{text}<extra></extra>\", \"insidetextanchor\": \"middle\", \"legendgroup\": \"Thresh\", \"marker\": {\"color\": \"#556B2F\"}, \"name\": \"Thresh\", \"offsetgroup\": \"Thresh\", \"orientation\": \"v\", \"showlegend\": true, \"text\": [354.0], \"textposition\": \"inside\", \"texttemplate\": \"%{text} Games\", \"type\": \"bar\", \"x\": [\"SUPPORT\"], \"xaxis\": \"x\", \"y\": [354], \"yaxis\": \"y\"}, {\"alignmentgroup\": \"True\", \"hovertemplate\": \"Champion=Nautilus<br>Position=%{x}<br># of Games Played=%{text}<extra></extra>\", \"insidetextanchor\": \"middle\", \"legendgroup\": \"Nautilus\", \"marker\": {\"color\": \"#2E8B57\"}, \"name\": \"Nautilus\", \"offsetgroup\": \"Nautilus\", \"orientation\": \"v\", \"showlegend\": true, \"text\": [299.0], \"textposition\": \"inside\", \"texttemplate\": \"%{text} Games\", \"type\": \"bar\", \"x\": [\"SUPPORT\"], \"xaxis\": \"x\", \"y\": [299], \"yaxis\": \"y\"}, {\"alignmentgroup\": \"True\", \"hovertemplate\": \"Champion=Karma<br>Position=%{x}<br># of Games Played=%{text}<extra></extra>\", \"insidetextanchor\": \"middle\", \"legendgroup\": \"Karma\", \"marker\": {\"color\": \"#FFB6C1\"}, \"name\": \"Karma\", \"offsetgroup\": \"Karma\", \"orientation\": \"v\", \"showlegend\": true, \"text\": [254.0], \"textposition\": \"inside\", \"texttemplate\": \"%{text} Games\", \"type\": \"bar\", \"x\": [\"SUPPORT\"], \"xaxis\": \"x\", \"y\": [254], \"yaxis\": \"y\"}, {\"alignmentgroup\": \"True\", \"hovertemplate\": \"Champion=Jayce<br>Position=%{x}<br># of Games Played=%{text}<extra></extra>\", \"insidetextanchor\": \"middle\", \"legendgroup\": \"Jayce\", \"marker\": {\"color\": \"#D2B48C\"}, \"name\": \"Jayce\", \"offsetgroup\": \"Jayce\", \"orientation\": \"v\", \"showlegend\": true, \"text\": [221.0], \"textposition\": \"inside\", \"texttemplate\": \"%{text} Games\", \"type\": \"bar\", \"x\": [\"TOP\"], \"xaxis\": \"x\", \"y\": [221], \"yaxis\": \"y\"}, {\"alignmentgroup\": \"True\", \"hovertemplate\": \"Champion=Gwen<br>Position=%{x}<br># of Games Played=%{text}<extra></extra>\", \"insidetextanchor\": \"middle\", \"legendgroup\": \"Gwen\", \"marker\": {\"color\": \"#40E0D0\"}, \"name\": \"Gwen\", \"offsetgroup\": \"Gwen\", \"orientation\": \"v\", \"showlegend\": true, \"text\": [152.0], \"textposition\": \"inside\", \"texttemplate\": \"%{text} Games\", \"type\": \"bar\", \"x\": [\"TOP\"], \"xaxis\": \"x\", \"y\": [152], \"yaxis\": \"y\"}],                        {\"barmode\": \"relative\", \"height\": 600, \"legend\": {\"bgcolor\": \"white\", \"title\": {\"font\": {\"size\": 12}, \"text\": \"Champion\"}, \"tracegroupgap\": 8, \"x\": 1.15, \"xanchor\": \"right\", \"y\": 0.96, \"yanchor\": \"top\"}, \"paper_bgcolor\": \"rgb(0,0,0,0)\", \"plot_bgcolor\": \"rgb(0,0,0,0)\", \"template\": {\"data\": {\"bar\": [{\"error_x\": {\"color\": \"#2a3f5f\"}, \"error_y\": {\"color\": \"#2a3f5f\"}, \"marker\": {\"line\": {\"color\": \"#E5ECF6\", \"width\": 0.5}}, \"type\": \"bar\"}], \"barpolar\": [{\"marker\": {\"line\": {\"color\": \"#E5ECF6\", \"width\": 0.5}}, \"type\": \"barpolar\"}], \"carpet\": [{\"aaxis\": {\"endlinecolor\": \"#2a3f5f\", \"gridcolor\": \"white\", \"linecolor\": \"white\", \"minorgridcolor\": \"white\", \"startlinecolor\": \"#2a3f5f\"}, \"baxis\": {\"endlinecolor\": \"#2a3f5f\", \"gridcolor\": \"white\", \"linecolor\": \"white\", \"minorgridcolor\": \"white\", \"startlinecolor\": \"#2a3f5f\"}, \"type\": \"carpet\"}], \"choropleth\": [{\"colorbar\": {\"outlinewidth\": 0, \"ticks\": \"\"}, \"type\": \"choropleth\"}], \"contour\": [{\"colorbar\": {\"outlinewidth\": 0, \"ticks\": \"\"}, \"colorscale\": [[0.0, \"#0d0887\"], [0.1111111111111111, \"#46039f\"], [0.2222222222222222, \"#7201a8\"], [0.3333333333333333, \"#9c179e\"], [0.4444444444444444, \"#bd3786\"], [0.5555555555555556, \"#d8576b\"], [0.6666666666666666, \"#ed7953\"], [0.7777777777777778, \"#fb9f3a\"], [0.8888888888888888, \"#fdca26\"], [1.0, \"#f0f921\"]], \"type\": \"contour\"}], \"contourcarpet\": [{\"colorbar\": {\"outlinewidth\": 0, \"ticks\": \"\"}, \"type\": \"contourcarpet\"}], \"heatmap\": [{\"colorbar\": {\"outlinewidth\": 0, \"ticks\": \"\"}, \"colorscale\": [[0.0, \"#0d0887\"], [0.1111111111111111, \"#46039f\"], [0.2222222222222222, \"#7201a8\"], [0.3333333333333333, \"#9c179e\"], [0.4444444444444444, \"#bd3786\"], [0.5555555555555556, \"#d8576b\"], [0.6666666666666666, \"#ed7953\"], [0.7777777777777778, \"#fb9f3a\"], [0.8888888888888888, \"#fdca26\"], [1.0, \"#f0f921\"]], \"type\": \"heatmap\"}], \"heatmapgl\": [{\"colorbar\": {\"outlinewidth\": 0, \"ticks\": \"\"}, \"colorscale\": [[0.0, \"#0d0887\"], [0.1111111111111111, \"#46039f\"], [0.2222222222222222, \"#7201a8\"], [0.3333333333333333, \"#9c179e\"], [0.4444444444444444, \"#bd3786\"], [0.5555555555555556, \"#d8576b\"], [0.6666666666666666, \"#ed7953\"], [0.7777777777777778, \"#fb9f3a\"], [0.8888888888888888, \"#fdca26\"], [1.0, \"#f0f921\"]], \"type\": \"heatmapgl\"}], \"histogram\": [{\"marker\": {\"colorbar\": {\"outlinewidth\": 0, \"ticks\": \"\"}}, \"type\": \"histogram\"}], \"histogram2d\": [{\"colorbar\": {\"outlinewidth\": 0, \"ticks\": \"\"}, \"colorscale\": [[0.0, \"#0d0887\"], [0.1111111111111111, \"#46039f\"], [0.2222222222222222, \"#7201a8\"], [0.3333333333333333, \"#9c179e\"], [0.4444444444444444, \"#bd3786\"], [0.5555555555555556, \"#d8576b\"], [0.6666666666666666, \"#ed7953\"], [0.7777777777777778, \"#fb9f3a\"], [0.8888888888888888, \"#fdca26\"], [1.0, \"#f0f921\"]], \"type\": \"histogram2d\"}], \"histogram2dcontour\": [{\"colorbar\": {\"outlinewidth\": 0, \"ticks\": \"\"}, \"colorscale\": [[0.0, \"#0d0887\"], [0.1111111111111111, \"#46039f\"], [0.2222222222222222, \"#7201a8\"], [0.3333333333333333, \"#9c179e\"], [0.4444444444444444, \"#bd3786\"], [0.5555555555555556, \"#d8576b\"], [0.6666666666666666, \"#ed7953\"], [0.7777777777777778, \"#fb9f3a\"], [0.8888888888888888, \"#fdca26\"], [1.0, \"#f0f921\"]], \"type\": \"histogram2dcontour\"}], \"mesh3d\": [{\"colorbar\": {\"outlinewidth\": 0, \"ticks\": \"\"}, \"type\": \"mesh3d\"}], \"parcoords\": [{\"line\": {\"colorbar\": {\"outlinewidth\": 0, \"ticks\": \"\"}}, \"type\": \"parcoords\"}], \"pie\": [{\"automargin\": true, \"type\": \"pie\"}], \"scatter\": [{\"marker\": {\"colorbar\": {\"outlinewidth\": 0, \"ticks\": \"\"}}, \"type\": \"scatter\"}], \"scatter3d\": [{\"line\": {\"colorbar\": {\"outlinewidth\": 0, \"ticks\": \"\"}}, \"marker\": {\"colorbar\": {\"outlinewidth\": 0, \"ticks\": \"\"}}, \"type\": \"scatter3d\"}], \"scattercarpet\": [{\"marker\": {\"colorbar\": {\"outlinewidth\": 0, \"ticks\": \"\"}}, \"type\": \"scattercarpet\"}], \"scattergeo\": [{\"marker\": {\"colorbar\": {\"outlinewidth\": 0, \"ticks\": \"\"}}, \"type\": \"scattergeo\"}], \"scattergl\": [{\"marker\": {\"colorbar\": {\"outlinewidth\": 0, \"ticks\": \"\"}}, \"type\": \"scattergl\"}], \"scattermapbox\": [{\"marker\": {\"colorbar\": {\"outlinewidth\": 0, \"ticks\": \"\"}}, \"type\": \"scattermapbox\"}], \"scatterpolar\": [{\"marker\": {\"colorbar\": {\"outlinewidth\": 0, \"ticks\": \"\"}}, \"type\": \"scatterpolar\"}], \"scatterpolargl\": [{\"marker\": {\"colorbar\": {\"outlinewidth\": 0, \"ticks\": \"\"}}, \"type\": \"scatterpolargl\"}], \"scatterternary\": [{\"marker\": {\"colorbar\": {\"outlinewidth\": 0, \"ticks\": \"\"}}, \"type\": \"scatterternary\"}], \"surface\": [{\"colorbar\": {\"outlinewidth\": 0, \"ticks\": \"\"}, \"colorscale\": [[0.0, \"#0d0887\"], [0.1111111111111111, \"#46039f\"], [0.2222222222222222, \"#7201a8\"], [0.3333333333333333, \"#9c179e\"], [0.4444444444444444, \"#bd3786\"], [0.5555555555555556, \"#d8576b\"], [0.6666666666666666, \"#ed7953\"], [0.7777777777777778, \"#fb9f3a\"], [0.8888888888888888, \"#fdca26\"], [1.0, \"#f0f921\"]], \"type\": \"surface\"}], \"table\": [{\"cells\": {\"fill\": {\"color\": \"#EBF0F8\"}, \"line\": {\"color\": \"white\"}}, \"header\": {\"fill\": {\"color\": \"#C8D4E3\"}, \"line\": {\"color\": \"white\"}}, \"type\": \"table\"}]}, \"layout\": {\"annotationdefaults\": {\"arrowcolor\": \"#2a3f5f\", \"arrowhead\": 0, \"arrowwidth\": 1}, \"autotypenumbers\": \"strict\", \"coloraxis\": {\"colorbar\": {\"outlinewidth\": 0, \"ticks\": \"\"}}, \"colorscale\": {\"diverging\": [[0, \"#8e0152\"], [0.1, \"#c51b7d\"], [0.2, \"#de77ae\"], [0.3, \"#f1b6da\"], [0.4, \"#fde0ef\"], [0.5, \"#f7f7f7\"], [0.6, \"#e6f5d0\"], [0.7, \"#b8e186\"], [0.8, \"#7fbc41\"], [0.9, \"#4d9221\"], [1, \"#276419\"]], \"sequential\": [[0.0, \"#0d0887\"], [0.1111111111111111, \"#46039f\"], [0.2222222222222222, \"#7201a8\"], [0.3333333333333333, \"#9c179e\"], [0.4444444444444444, \"#bd3786\"], [0.5555555555555556, \"#d8576b\"], [0.6666666666666666, \"#ed7953\"], [0.7777777777777778, \"#fb9f3a\"], [0.8888888888888888, \"#fdca26\"], [1.0, \"#f0f921\"]], \"sequentialminus\": [[0.0, \"#0d0887\"], [0.1111111111111111, \"#46039f\"], [0.2222222222222222, \"#7201a8\"], [0.3333333333333333, \"#9c179e\"], [0.4444444444444444, \"#bd3786\"], [0.5555555555555556, \"#d8576b\"], [0.6666666666666666, \"#ed7953\"], [0.7777777777777778, \"#fb9f3a\"], [0.8888888888888888, \"#fdca26\"], [1.0, \"#f0f921\"]]}, \"colorway\": [\"#636efa\", \"#EF553B\", \"#00cc96\", \"#ab63fa\", \"#FFA15A\", \"#19d3f3\", \"#FF6692\", \"#B6E880\", \"#FF97FF\", \"#FECB52\"], \"font\": {\"color\": \"#2a3f5f\"}, \"geo\": {\"bgcolor\": \"white\", \"lakecolor\": \"white\", \"landcolor\": \"#E5ECF6\", \"showlakes\": true, \"showland\": true, \"subunitcolor\": \"white\"}, \"hoverlabel\": {\"align\": \"left\"}, \"hovermode\": \"closest\", \"mapbox\": {\"style\": \"light\"}, \"paper_bgcolor\": \"white\", \"plot_bgcolor\": \"#E5ECF6\", \"polar\": {\"angularaxis\": {\"gridcolor\": \"white\", \"linecolor\": \"white\", \"ticks\": \"\"}, \"bgcolor\": \"#E5ECF6\", \"radialaxis\": {\"gridcolor\": \"white\", \"linecolor\": \"white\", \"ticks\": \"\"}}, \"scene\": {\"xaxis\": {\"backgroundcolor\": \"#E5ECF6\", \"gridcolor\": \"white\", \"gridwidth\": 2, \"linecolor\": \"white\", \"showbackground\": true, \"ticks\": \"\", \"zerolinecolor\": \"white\"}, \"yaxis\": {\"backgroundcolor\": \"#E5ECF6\", \"gridcolor\": \"white\", \"gridwidth\": 2, \"linecolor\": \"white\", \"showbackground\": true, \"ticks\": \"\", \"zerolinecolor\": \"white\"}, \"zaxis\": {\"backgroundcolor\": \"#E5ECF6\", \"gridcolor\": \"white\", \"gridwidth\": 2, \"linecolor\": \"white\", \"showbackground\": true, \"ticks\": \"\", \"zerolinecolor\": \"white\"}}, \"shapedefaults\": {\"line\": {\"color\": \"#2a3f5f\"}}, \"ternary\": {\"aaxis\": {\"gridcolor\": \"white\", \"linecolor\": \"white\", \"ticks\": \"\"}, \"baxis\": {\"gridcolor\": \"white\", \"linecolor\": \"white\", \"ticks\": \"\"}, \"bgcolor\": \"#E5ECF6\", \"caxis\": {\"gridcolor\": \"white\", \"linecolor\": \"white\", \"ticks\": \"\"}}, \"title\": {\"x\": 0.05}, \"xaxis\": {\"automargin\": true, \"gridcolor\": \"white\", \"linecolor\": \"white\", \"ticks\": \"\", \"title\": {\"standoff\": 15}, \"zerolinecolor\": \"white\", \"zerolinewidth\": 2}, \"yaxis\": {\"automargin\": true, \"gridcolor\": \"white\", \"linecolor\": \"white\", \"ticks\": \"\", \"title\": {\"standoff\": 15}, \"zerolinecolor\": \"white\", \"zerolinewidth\": 2}}}, \"title\": {\"text\": \"Top 3 Champions Played by Position\", \"x\": 0.5}, \"width\": 800, \"xaxis\": {\"anchor\": \"y\", \"categoryorder\": \"total ascending\", \"domain\": [0.0, 1.0], \"title\": {\"text\": \"Position\"}}, \"yaxis\": {\"anchor\": \"x\", \"domain\": [0.0, 1.0], \"title\": {\"text\": \"# of Games Played\"}}},                        {\"responsive\": true}                    ).then(function(){\n                            \nvar gd = document.getElementById('39702dc5-1455-47ca-a3b8-ecc5ce69a5bc');\nvar x = new MutationObserver(function (mutations, observer) {{\n        var display = window.getComputedStyle(gd).display;\n        if (!display || display === 'none') {{\n            console.log([gd, 'removed!']);\n            Plotly.purge(gd);\n            observer.disconnect();\n        }}\n}});\n\n// Listen for the removal of the full notebook cells\nvar notebookContainer = gd.closest('#notebook-container');\nif (notebookContainer) {{\n    x.observe(notebookContainer, {childList: true});\n}}\n\n// Listen for the clearing of the current output cell\nvar outputEl = gd.closest('.output');\nif (outputEl) {{\n    x.observe(outputEl, {childList: true});\n}}\n\n                        })                };                });            </script>        </div>"
     },
     "metadata": {}
    }
   ],
   "source": [
    "fig = px.bar(top3_all_lanes_sorted, x = 'teamPosition', y = 'matchCount', color = 'championName', text = 'matchCount',\n",
    "             color_discrete_map = {\n",
    "                'Ezreal': '#5F9EA0',\n",
    "                'Tristana': '#FFA07A',\n",
    "                'Kaisa': '#4B0082',\n",
    "                'Rumble': '#CD853F',\n",
    "                'Kindred': '#708090',\n",
    "                'Kayn': '#4682B4',\n",
    "                'Lucian': '#DCDCDC',\n",
    "                'LeeSin': '#A0522D',\n",
    "                'Sylas': '#191970',\n",
    "                'Gwen': '#40E0D0',\n",
    "                'Jayce': '#D2B48C',\n",
    "                'Nautilus': '#2E8B57',\n",
    "                'Thresh': '#556B2F',\n",
    "                'Karma': '#FFB6C1'\n",
    "            },\n",
    "\n",
    "             labels = {'teamPosition': 'Position', 'matchCount': '# of Games Played', 'championName': 'Champion'}, title = 'Top 3 Champions Played by Position')\n",
    "fig.update_layout(\n",
    "    plot_bgcolor = 'rgb(0,0,0,0)',\n",
    "    paper_bgcolor = 'rgb(0,0,0,0)',\n",
    "    width = 800,\n",
    "    height = 600,\n",
    "    title_x = 0.5,\n",
    "    legend = dict(bgcolor = 'white', yanchor = 'top', y = 0.96, xanchor = 'right', x = 1.15),\n",
    "    legend_title = dict(font = dict(size = 12)),\n",
    ")\n",
    "fig.update_xaxes(categoryorder = 'total ascending')\n",
    "\n",
    "fig.layout.legend.tracegroupgap = 8\n",
    "\n",
    "fig.update_traces(texttemplate = '%{text} Games', textposition = 'inside', insidetextanchor = 'middle')\n",
    "fig.show(renderer = 'notebook_connected')"
   ]
  },
  {
   "cell_type": "code",
   "execution_count": 63,
   "metadata": {},
   "outputs": [
    {
     "output_type": "execute_result",
     "data": {
      "text/plain": [
       "                 queueId teamColor     matchId  assists  baronKills  \\\n",
       "0  5V5 RANKED SOLO GAMES      Blue  3944288481       13           0   \n",
       "1  5V5 RANKED SOLO GAMES      Blue  3944251280       11           0   \n",
       "2  5V5 RANKED SOLO GAMES       Red  3944226110        0           0   \n",
       "3  5V5 RANKED SOLO GAMES       Red  3941904096       20           0   \n",
       "4  5V5 RANKED SOLO GAMES       Red  3941845033       18           0   \n",
       "\n",
       "   bountyLevel  champExperience  champLevel  championId championName  \\\n",
       "0            0             8243          11         223    TahmKench   \n",
       "1            0             6578          10         111     Nautilus   \n",
       "2            0             4583           8         202         Jhin   \n",
       "3            0            10417          13         111     Nautilus   \n",
       "4            1             8840          12         111     Nautilus   \n",
       "\n",
       "   championTransform  consumablesPurchased  damageDealtToBuildings  \\\n",
       "0                  0                     7                   488.0   \n",
       "1                  0                    10                     0.0   \n",
       "2                  0                     6                     0.0   \n",
       "3                  0                    11                   320.0   \n",
       "4                  0                    10                   796.0   \n",
       "\n",
       "   damageDealtToObjectives  damageDealtToTurrets  damageSelfMitigated  deaths  \\\n",
       "0                     1419                   488                17878       6   \n",
       "1                      174                     0                16060       5   \n",
       "2                        0                     0                 3309       5   \n",
       "3                      999                   320                30781       7   \n",
       "4                      796                   796                15092       4   \n",
       "\n",
       "   detectorWardsPlaced  doubleKills  dragonKills  firstBloodAssist  \\\n",
       "0                    3            0            0             False   \n",
       "1                    7            0            0             False   \n",
       "2                    2            0            0             False   \n",
       "3                    8            0            0             False   \n",
       "4                    6            0            0             False   \n",
       "\n",
       "   firstBloodKill  firstTowerAssist  firstTowerKill  \\\n",
       "0           False             False           False   \n",
       "1           False             False           False   \n",
       "2           False             False           False   \n",
       "3           False             False           False   \n",
       "4           False             False           False   \n",
       "\n",
       "   gameEndedInEarlySurrender  gameEndedInSurrender  goldEarned  goldSpent  \\\n",
       "0                      False                  True        7039       6425   \n",
       "1                      False                 False        6099       6000   \n",
       "2                      False                  True        4305       3100   \n",
       "3                      False                 False        7821       6575   \n",
       "4                      False                 False        7579       6050   \n",
       "\n",
       "  individualPosition  inhibitorKills  inhibitorsLost             item0  \\\n",
       "0             BOTTOM               0             0.0    Doran's Shield   \n",
       "1            UTILITY               0             1.0  Plated Steelcaps   \n",
       "2             BOTTOM               0             0.0     Serrated Dirk   \n",
       "3            UTILITY               0             0.0  Plated Steelcaps   \n",
       "4            UTILITY               0             0.0      Ruby Crystal   \n",
       "\n",
       "                       item1                    item2             item3  \\\n",
       "0              Sunfire Aegis         Plated Steelcaps         Kindlegem   \n",
       "1  Locket of the Iron Solari  Bulwark of the Mountain       Cloth Armor   \n",
       "2          Refillable Potion                    Boots  Vampiric Scepter   \n",
       "3  Locket of the Iron Solari  Bulwark of the Mountain      Control Ward   \n",
       "4  Locket of the Iron Solari  Bulwark of the Mountain      Control Ward   \n",
       "\n",
       "           item4             item5         item6  itemsPurchased  \\\n",
       "0   Ruby Crystal              None  Stealth Ward              18   \n",
       "1  Warden's Mail      Control Ward   Oracle Lens              28   \n",
       "2           None        Long Sword  Stealth Ward              16   \n",
       "3      Kindlegem     Warden's Mail   Oracle Lens              27   \n",
       "4   Bramble Vest  Plated Steelcaps   Oracle Lens              25   \n",
       "\n",
       "   killingSprees  kills    lane  largestCriticalStrike  largestKillingSpree  \\\n",
       "0              0      1  BOTTOM                      0                    0   \n",
       "1              1      2  BOTTOM                      0                    2   \n",
       "2              0      1    NONE                    358                    0   \n",
       "3              0      0  BOTTOM                      0                    0   \n",
       "4              0      2  BOTTOM                      0                    0   \n",
       "\n",
       "   largestMultiKill  longestTimeSpentLiving  magicDamageDealt  \\\n",
       "0                 1                     312             20774   \n",
       "1                 1                     407             10589   \n",
       "2                 1                     281               148   \n",
       "3                 0                     690              8449   \n",
       "4                 1                     538              8924   \n",
       "\n",
       "   magicDamageDealtToChampions  magicDamageTaken  neutralMinionsKilled  \\\n",
       "0                         4743              6487                     0   \n",
       "1                         4457              4313                     0   \n",
       "2                            0              1678                     0   \n",
       "3                         5522              8327                     0   \n",
       "4                         6108              3112                     0   \n",
       "\n",
       "   nexusKills  nexusLost  objectivesStolen  objectivesStolenAssists  \\\n",
       "0           0        0.0                 0                        0   \n",
       "1           0        1.0                 0                        0   \n",
       "2           0        0.0                 0                        0   \n",
       "3           0        0.0                 0                        0   \n",
       "4           0        0.0                 0                        0   \n",
       "\n",
       "   participantId  pentaKills  physicalDamageDealt  \\\n",
       "0              5           0                10610   \n",
       "1              5           0                 5748   \n",
       "2              9           0                34032   \n",
       "3             10           0                 7874   \n",
       "4             10           0                 7045   \n",
       "\n",
       "   physicalDamageDealtToChampions  physicalDamageTaken  profileIcon  \\\n",
       "0                             731                 9696         4568   \n",
       "1                            1951                 6472         4568   \n",
       "2                            3541                 6081         4568   \n",
       "3                            1919                10809         4568   \n",
       "4                            2408                 7007         4568   \n",
       "\n",
       "                                               puuid  quadraKills     role  \\\n",
       "0  6zpHc103eNNhAt8xC6Ujhak476wF7TuTm4K4vrCU2Zuu9Y...            0    CARRY   \n",
       "1  6zpHc103eNNhAt8xC6Ujhak476wF7TuTm4K4vrCU2Zuu9Y...            0  SUPPORT   \n",
       "2  6zpHc103eNNhAt8xC6Ujhak476wF7TuTm4K4vrCU2Zuu9Y...            0  SUPPORT   \n",
       "3  6zpHc103eNNhAt8xC6Ujhak476wF7TuTm4K4vrCU2Zuu9Y...            0  SUPPORT   \n",
       "4  6zpHc103eNNhAt8xC6Ujhak476wF7TuTm4K4vrCU2Zuu9Y...            0     SOLO   \n",
       "\n",
       "   sightWardsBoughtInGame  spell1Casts  spell2Casts  spell3Casts  spell4Casts  \\\n",
       "0                       0           71            4           11            2   \n",
       "1                       0           50           17           21            9   \n",
       "2                       0           36           17            3           10   \n",
       "3                       0           71           46           24            9   \n",
       "4                       0           60           32           27            6   \n",
       "\n",
       "   summoner1Casts  summoner2Casts  \\\n",
       "0               3               4   \n",
       "1              13               4   \n",
       "2               2               3   \n",
       "3               5               5   \n",
       "4               4               5   \n",
       "\n",
       "                                         summonerId  summonerLevel  \\\n",
       "0  -wR2sAu8IN0jiLgjgGyDQsjpnyX5tSwTwZHcIE7L9aS1TbyQ            274   \n",
       "1  -wR2sAu8IN0jiLgjgGyDQsjpnyX5tSwTwZHcIE7L9aS1TbyQ            274   \n",
       "2  -wR2sAu8IN0jiLgjgGyDQsjpnyX5tSwTwZHcIE7L9aS1TbyQ            274   \n",
       "3  -wR2sAu8IN0jiLgjgGyDQsjpnyX5tSwTwZHcIE7L9aS1TbyQ            274   \n",
       "4  -wR2sAu8IN0jiLgjgGyDQsjpnyX5tSwTwZHcIE7L9aS1TbyQ            274   \n",
       "\n",
       "  summonerName  teamEarlySurrendered  teamId teamPosition  timeCCingOthers  \\\n",
       "0    From Iron                 False     100       BOTTOM               14   \n",
       "1    From Iron                 False     100      SUPPORT               46   \n",
       "2    From Iron                 False     200       BOTTOM                3   \n",
       "3    From Iron                 False     200      SUPPORT               60   \n",
       "4    From Iron                 False     200      SUPPORT               59   \n",
       "\n",
       "   timePlayed  totalDamageDealt  totalDamageDealtToChampions  \\\n",
       "0        1284             31384                         5475   \n",
       "1        1347             21927                         7026   \n",
       "2         912             34180                         3541   \n",
       "3        1841             21192                         8025   \n",
       "4        1383             22463                         9136   \n",
       "\n",
       "   totalDamageShieldedOnTeammates  totalDamageTaken  totalHeal  \\\n",
       "0                            1105             16532       2087   \n",
       "1                             671             11566         62   \n",
       "2                               0              8214       1718   \n",
       "3                            1644             19624       1203   \n",
       "4                             541             10449         19   \n",
       "\n",
       "   totalHealsOnTeammates  totalMinionsKilled  totalTimeCCDealt  \\\n",
       "0                      0                  98               105   \n",
       "1                      0                  43               246   \n",
       "2                    216                  99                 7   \n",
       "3                      0                  40               190   \n",
       "4                      0                  32               191   \n",
       "\n",
       "   totalTimeSpentDead  totalUnitsHealed  tripleKills  trueDamageDealt  \\\n",
       "0                 140                 1            0                0   \n",
       "1                  98                 1            0             5589   \n",
       "2                  75                 3            0                0   \n",
       "3                 212                 1            0             4868   \n",
       "4                  94                 1            0             6494   \n",
       "\n",
       "   trueDamageDealtToChampions  trueDamageTaken  turretKills  turretsLost  \\\n",
       "0                           0              349            0          0.0   \n",
       "1                         616              779            0          9.0   \n",
       "2                           0              454            0          3.0   \n",
       "3                         584              487            0          1.0   \n",
       "4                         619              329            0          1.0   \n",
       "\n",
       "   unrealKills  visionScore  visionWardsBoughtInGame  wardsKilled  \\\n",
       "0            0           16                        3            4   \n",
       "1            0           53                        8            6   \n",
       "2            0           18                        2            3   \n",
       "3            0           64                        9            8   \n",
       "4            0           52                        8            6   \n",
       "\n",
       "   wardsPlaced    win  \n",
       "0            9   True  \n",
       "1           31  False  \n",
       "2           10  False  \n",
       "3           35   True  \n",
       "4           21   True  "
      ],
      "text/html": "<div>\n<style scoped>\n    .dataframe tbody tr th:only-of-type {\n        vertical-align: middle;\n    }\n\n    .dataframe tbody tr th {\n        vertical-align: top;\n    }\n\n    .dataframe thead th {\n        text-align: right;\n    }\n</style>\n<table border=\"1\" class=\"dataframe\">\n  <thead>\n    <tr style=\"text-align: right;\">\n      <th></th>\n      <th>queueId</th>\n      <th>teamColor</th>\n      <th>matchId</th>\n      <th>assists</th>\n      <th>baronKills</th>\n      <th>bountyLevel</th>\n      <th>champExperience</th>\n      <th>champLevel</th>\n      <th>championId</th>\n      <th>championName</th>\n      <th>championTransform</th>\n      <th>consumablesPurchased</th>\n      <th>damageDealtToBuildings</th>\n      <th>damageDealtToObjectives</th>\n      <th>damageDealtToTurrets</th>\n      <th>damageSelfMitigated</th>\n      <th>deaths</th>\n      <th>detectorWardsPlaced</th>\n      <th>doubleKills</th>\n      <th>dragonKills</th>\n      <th>firstBloodAssist</th>\n      <th>firstBloodKill</th>\n      <th>firstTowerAssist</th>\n      <th>firstTowerKill</th>\n      <th>gameEndedInEarlySurrender</th>\n      <th>gameEndedInSurrender</th>\n      <th>goldEarned</th>\n      <th>goldSpent</th>\n      <th>individualPosition</th>\n      <th>inhibitorKills</th>\n      <th>inhibitorsLost</th>\n      <th>item0</th>\n      <th>item1</th>\n      <th>item2</th>\n      <th>item3</th>\n      <th>item4</th>\n      <th>item5</th>\n      <th>item6</th>\n      <th>itemsPurchased</th>\n      <th>killingSprees</th>\n      <th>kills</th>\n      <th>lane</th>\n      <th>largestCriticalStrike</th>\n      <th>largestKillingSpree</th>\n      <th>largestMultiKill</th>\n      <th>longestTimeSpentLiving</th>\n      <th>magicDamageDealt</th>\n      <th>magicDamageDealtToChampions</th>\n      <th>magicDamageTaken</th>\n      <th>neutralMinionsKilled</th>\n      <th>nexusKills</th>\n      <th>nexusLost</th>\n      <th>objectivesStolen</th>\n      <th>objectivesStolenAssists</th>\n      <th>participantId</th>\n      <th>pentaKills</th>\n      <th>physicalDamageDealt</th>\n      <th>physicalDamageDealtToChampions</th>\n      <th>physicalDamageTaken</th>\n      <th>profileIcon</th>\n      <th>puuid</th>\n      <th>quadraKills</th>\n      <th>role</th>\n      <th>sightWardsBoughtInGame</th>\n      <th>spell1Casts</th>\n      <th>spell2Casts</th>\n      <th>spell3Casts</th>\n      <th>spell4Casts</th>\n      <th>summoner1Casts</th>\n      <th>summoner2Casts</th>\n      <th>summonerId</th>\n      <th>summonerLevel</th>\n      <th>summonerName</th>\n      <th>teamEarlySurrendered</th>\n      <th>teamId</th>\n      <th>teamPosition</th>\n      <th>timeCCingOthers</th>\n      <th>timePlayed</th>\n      <th>totalDamageDealt</th>\n      <th>totalDamageDealtToChampions</th>\n      <th>totalDamageShieldedOnTeammates</th>\n      <th>totalDamageTaken</th>\n      <th>totalHeal</th>\n      <th>totalHealsOnTeammates</th>\n      <th>totalMinionsKilled</th>\n      <th>totalTimeCCDealt</th>\n      <th>totalTimeSpentDead</th>\n      <th>totalUnitsHealed</th>\n      <th>tripleKills</th>\n      <th>trueDamageDealt</th>\n      <th>trueDamageDealtToChampions</th>\n      <th>trueDamageTaken</th>\n      <th>turretKills</th>\n      <th>turretsLost</th>\n      <th>unrealKills</th>\n      <th>visionScore</th>\n      <th>visionWardsBoughtInGame</th>\n      <th>wardsKilled</th>\n      <th>wardsPlaced</th>\n      <th>win</th>\n    </tr>\n  </thead>\n  <tbody>\n    <tr>\n      <th>0</th>\n      <td>5V5 RANKED SOLO GAMES</td>\n      <td>Blue</td>\n      <td>3944288481</td>\n      <td>13</td>\n      <td>0</td>\n      <td>0</td>\n      <td>8243</td>\n      <td>11</td>\n      <td>223</td>\n      <td>TahmKench</td>\n      <td>0</td>\n      <td>7</td>\n      <td>488.0</td>\n      <td>1419</td>\n      <td>488</td>\n      <td>17878</td>\n      <td>6</td>\n      <td>3</td>\n      <td>0</td>\n      <td>0</td>\n      <td>False</td>\n      <td>False</td>\n      <td>False</td>\n      <td>False</td>\n      <td>False</td>\n      <td>True</td>\n      <td>7039</td>\n      <td>6425</td>\n      <td>BOTTOM</td>\n      <td>0</td>\n      <td>0.0</td>\n      <td>Doran's Shield</td>\n      <td>Sunfire Aegis</td>\n      <td>Plated Steelcaps</td>\n      <td>Kindlegem</td>\n      <td>Ruby Crystal</td>\n      <td>None</td>\n      <td>Stealth Ward</td>\n      <td>18</td>\n      <td>0</td>\n      <td>1</td>\n      <td>BOTTOM</td>\n      <td>0</td>\n      <td>0</td>\n      <td>1</td>\n      <td>312</td>\n      <td>20774</td>\n      <td>4743</td>\n      <td>6487</td>\n      <td>0</td>\n      <td>0</td>\n      <td>0.0</td>\n      <td>0</td>\n      <td>0</td>\n      <td>5</td>\n      <td>0</td>\n      <td>10610</td>\n      <td>731</td>\n      <td>9696</td>\n      <td>4568</td>\n      <td>6zpHc103eNNhAt8xC6Ujhak476wF7TuTm4K4vrCU2Zuu9Y...</td>\n      <td>0</td>\n      <td>CARRY</td>\n      <td>0</td>\n      <td>71</td>\n      <td>4</td>\n      <td>11</td>\n      <td>2</td>\n      <td>3</td>\n      <td>4</td>\n      <td>-wR2sAu8IN0jiLgjgGyDQsjpnyX5tSwTwZHcIE7L9aS1TbyQ</td>\n      <td>274</td>\n      <td>From Iron</td>\n      <td>False</td>\n      <td>100</td>\n      <td>BOTTOM</td>\n      <td>14</td>\n      <td>1284</td>\n      <td>31384</td>\n      <td>5475</td>\n      <td>1105</td>\n      <td>16532</td>\n      <td>2087</td>\n      <td>0</td>\n      <td>98</td>\n      <td>105</td>\n      <td>140</td>\n      <td>1</td>\n      <td>0</td>\n      <td>0</td>\n      <td>0</td>\n      <td>349</td>\n      <td>0</td>\n      <td>0.0</td>\n      <td>0</td>\n      <td>16</td>\n      <td>3</td>\n      <td>4</td>\n      <td>9</td>\n      <td>True</td>\n    </tr>\n    <tr>\n      <th>1</th>\n      <td>5V5 RANKED SOLO GAMES</td>\n      <td>Blue</td>\n      <td>3944251280</td>\n      <td>11</td>\n      <td>0</td>\n      <td>0</td>\n      <td>6578</td>\n      <td>10</td>\n      <td>111</td>\n      <td>Nautilus</td>\n      <td>0</td>\n      <td>10</td>\n      <td>0.0</td>\n      <td>174</td>\n      <td>0</td>\n      <td>16060</td>\n      <td>5</td>\n      <td>7</td>\n      <td>0</td>\n      <td>0</td>\n      <td>False</td>\n      <td>False</td>\n      <td>False</td>\n      <td>False</td>\n      <td>False</td>\n      <td>False</td>\n      <td>6099</td>\n      <td>6000</td>\n      <td>UTILITY</td>\n      <td>0</td>\n      <td>1.0</td>\n      <td>Plated Steelcaps</td>\n      <td>Locket of the Iron Solari</td>\n      <td>Bulwark of the Mountain</td>\n      <td>Cloth Armor</td>\n      <td>Warden's Mail</td>\n      <td>Control Ward</td>\n      <td>Oracle Lens</td>\n      <td>28</td>\n      <td>1</td>\n      <td>2</td>\n      <td>BOTTOM</td>\n      <td>0</td>\n      <td>2</td>\n      <td>1</td>\n      <td>407</td>\n      <td>10589</td>\n      <td>4457</td>\n      <td>4313</td>\n      <td>0</td>\n      <td>0</td>\n      <td>1.0</td>\n      <td>0</td>\n      <td>0</td>\n      <td>5</td>\n      <td>0</td>\n      <td>5748</td>\n      <td>1951</td>\n      <td>6472</td>\n      <td>4568</td>\n      <td>6zpHc103eNNhAt8xC6Ujhak476wF7TuTm4K4vrCU2Zuu9Y...</td>\n      <td>0</td>\n      <td>SUPPORT</td>\n      <td>0</td>\n      <td>50</td>\n      <td>17</td>\n      <td>21</td>\n      <td>9</td>\n      <td>13</td>\n      <td>4</td>\n      <td>-wR2sAu8IN0jiLgjgGyDQsjpnyX5tSwTwZHcIE7L9aS1TbyQ</td>\n      <td>274</td>\n      <td>From Iron</td>\n      <td>False</td>\n      <td>100</td>\n      <td>SUPPORT</td>\n      <td>46</td>\n      <td>1347</td>\n      <td>21927</td>\n      <td>7026</td>\n      <td>671</td>\n      <td>11566</td>\n      <td>62</td>\n      <td>0</td>\n      <td>43</td>\n      <td>246</td>\n      <td>98</td>\n      <td>1</td>\n      <td>0</td>\n      <td>5589</td>\n      <td>616</td>\n      <td>779</td>\n      <td>0</td>\n      <td>9.0</td>\n      <td>0</td>\n      <td>53</td>\n      <td>8</td>\n      <td>6</td>\n      <td>31</td>\n      <td>False</td>\n    </tr>\n    <tr>\n      <th>2</th>\n      <td>5V5 RANKED SOLO GAMES</td>\n      <td>Red</td>\n      <td>3944226110</td>\n      <td>0</td>\n      <td>0</td>\n      <td>0</td>\n      <td>4583</td>\n      <td>8</td>\n      <td>202</td>\n      <td>Jhin</td>\n      <td>0</td>\n      <td>6</td>\n      <td>0.0</td>\n      <td>0</td>\n      <td>0</td>\n      <td>3309</td>\n      <td>5</td>\n      <td>2</td>\n      <td>0</td>\n      <td>0</td>\n      <td>False</td>\n      <td>False</td>\n      <td>False</td>\n      <td>False</td>\n      <td>False</td>\n      <td>True</td>\n      <td>4305</td>\n      <td>3100</td>\n      <td>BOTTOM</td>\n      <td>0</td>\n      <td>0.0</td>\n      <td>Serrated Dirk</td>\n      <td>Refillable Potion</td>\n      <td>Boots</td>\n      <td>Vampiric Scepter</td>\n      <td>None</td>\n      <td>Long Sword</td>\n      <td>Stealth Ward</td>\n      <td>16</td>\n      <td>0</td>\n      <td>1</td>\n      <td>NONE</td>\n      <td>358</td>\n      <td>0</td>\n      <td>1</td>\n      <td>281</td>\n      <td>148</td>\n      <td>0</td>\n      <td>1678</td>\n      <td>0</td>\n      <td>0</td>\n      <td>0.0</td>\n      <td>0</td>\n      <td>0</td>\n      <td>9</td>\n      <td>0</td>\n      <td>34032</td>\n      <td>3541</td>\n      <td>6081</td>\n      <td>4568</td>\n      <td>6zpHc103eNNhAt8xC6Ujhak476wF7TuTm4K4vrCU2Zuu9Y...</td>\n      <td>0</td>\n      <td>SUPPORT</td>\n      <td>0</td>\n      <td>36</td>\n      <td>17</td>\n      <td>3</td>\n      <td>10</td>\n      <td>2</td>\n      <td>3</td>\n      <td>-wR2sAu8IN0jiLgjgGyDQsjpnyX5tSwTwZHcIE7L9aS1TbyQ</td>\n      <td>274</td>\n      <td>From Iron</td>\n      <td>False</td>\n      <td>200</td>\n      <td>BOTTOM</td>\n      <td>3</td>\n      <td>912</td>\n      <td>34180</td>\n      <td>3541</td>\n      <td>0</td>\n      <td>8214</td>\n      <td>1718</td>\n      <td>216</td>\n      <td>99</td>\n      <td>7</td>\n      <td>75</td>\n      <td>3</td>\n      <td>0</td>\n      <td>0</td>\n      <td>0</td>\n      <td>454</td>\n      <td>0</td>\n      <td>3.0</td>\n      <td>0</td>\n      <td>18</td>\n      <td>2</td>\n      <td>3</td>\n      <td>10</td>\n      <td>False</td>\n    </tr>\n    <tr>\n      <th>3</th>\n      <td>5V5 RANKED SOLO GAMES</td>\n      <td>Red</td>\n      <td>3941904096</td>\n      <td>20</td>\n      <td>0</td>\n      <td>0</td>\n      <td>10417</td>\n      <td>13</td>\n      <td>111</td>\n      <td>Nautilus</td>\n      <td>0</td>\n      <td>11</td>\n      <td>320.0</td>\n      <td>999</td>\n      <td>320</td>\n      <td>30781</td>\n      <td>7</td>\n      <td>8</td>\n      <td>0</td>\n      <td>0</td>\n      <td>False</td>\n      <td>False</td>\n      <td>False</td>\n      <td>False</td>\n      <td>False</td>\n      <td>False</td>\n      <td>7821</td>\n      <td>6575</td>\n      <td>UTILITY</td>\n      <td>0</td>\n      <td>0.0</td>\n      <td>Plated Steelcaps</td>\n      <td>Locket of the Iron Solari</td>\n      <td>Bulwark of the Mountain</td>\n      <td>Control Ward</td>\n      <td>Kindlegem</td>\n      <td>Warden's Mail</td>\n      <td>Oracle Lens</td>\n      <td>27</td>\n      <td>0</td>\n      <td>0</td>\n      <td>BOTTOM</td>\n      <td>0</td>\n      <td>0</td>\n      <td>0</td>\n      <td>690</td>\n      <td>8449</td>\n      <td>5522</td>\n      <td>8327</td>\n      <td>0</td>\n      <td>0</td>\n      <td>0.0</td>\n      <td>0</td>\n      <td>0</td>\n      <td>10</td>\n      <td>0</td>\n      <td>7874</td>\n      <td>1919</td>\n      <td>10809</td>\n      <td>4568</td>\n      <td>6zpHc103eNNhAt8xC6Ujhak476wF7TuTm4K4vrCU2Zuu9Y...</td>\n      <td>0</td>\n      <td>SUPPORT</td>\n      <td>0</td>\n      <td>71</td>\n      <td>46</td>\n      <td>24</td>\n      <td>9</td>\n      <td>5</td>\n      <td>5</td>\n      <td>-wR2sAu8IN0jiLgjgGyDQsjpnyX5tSwTwZHcIE7L9aS1TbyQ</td>\n      <td>274</td>\n      <td>From Iron</td>\n      <td>False</td>\n      <td>200</td>\n      <td>SUPPORT</td>\n      <td>60</td>\n      <td>1841</td>\n      <td>21192</td>\n      <td>8025</td>\n      <td>1644</td>\n      <td>19624</td>\n      <td>1203</td>\n      <td>0</td>\n      <td>40</td>\n      <td>190</td>\n      <td>212</td>\n      <td>1</td>\n      <td>0</td>\n      <td>4868</td>\n      <td>584</td>\n      <td>487</td>\n      <td>0</td>\n      <td>1.0</td>\n      <td>0</td>\n      <td>64</td>\n      <td>9</td>\n      <td>8</td>\n      <td>35</td>\n      <td>True</td>\n    </tr>\n    <tr>\n      <th>4</th>\n      <td>5V5 RANKED SOLO GAMES</td>\n      <td>Red</td>\n      <td>3941845033</td>\n      <td>18</td>\n      <td>0</td>\n      <td>1</td>\n      <td>8840</td>\n      <td>12</td>\n      <td>111</td>\n      <td>Nautilus</td>\n      <td>0</td>\n      <td>10</td>\n      <td>796.0</td>\n      <td>796</td>\n      <td>796</td>\n      <td>15092</td>\n      <td>4</td>\n      <td>6</td>\n      <td>0</td>\n      <td>0</td>\n      <td>False</td>\n      <td>False</td>\n      <td>False</td>\n      <td>False</td>\n      <td>False</td>\n      <td>False</td>\n      <td>7579</td>\n      <td>6050</td>\n      <td>UTILITY</td>\n      <td>0</td>\n      <td>0.0</td>\n      <td>Ruby Crystal</td>\n      <td>Locket of the Iron Solari</td>\n      <td>Bulwark of the Mountain</td>\n      <td>Control Ward</td>\n      <td>Bramble Vest</td>\n      <td>Plated Steelcaps</td>\n      <td>Oracle Lens</td>\n      <td>25</td>\n      <td>0</td>\n      <td>2</td>\n      <td>BOTTOM</td>\n      <td>0</td>\n      <td>0</td>\n      <td>1</td>\n      <td>538</td>\n      <td>8924</td>\n      <td>6108</td>\n      <td>3112</td>\n      <td>0</td>\n      <td>0</td>\n      <td>0.0</td>\n      <td>0</td>\n      <td>0</td>\n      <td>10</td>\n      <td>0</td>\n      <td>7045</td>\n      <td>2408</td>\n      <td>7007</td>\n      <td>4568</td>\n      <td>6zpHc103eNNhAt8xC6Ujhak476wF7TuTm4K4vrCU2Zuu9Y...</td>\n      <td>0</td>\n      <td>SOLO</td>\n      <td>0</td>\n      <td>60</td>\n      <td>32</td>\n      <td>27</td>\n      <td>6</td>\n      <td>4</td>\n      <td>5</td>\n      <td>-wR2sAu8IN0jiLgjgGyDQsjpnyX5tSwTwZHcIE7L9aS1TbyQ</td>\n      <td>274</td>\n      <td>From Iron</td>\n      <td>False</td>\n      <td>200</td>\n      <td>SUPPORT</td>\n      <td>59</td>\n      <td>1383</td>\n      <td>22463</td>\n      <td>9136</td>\n      <td>541</td>\n      <td>10449</td>\n      <td>19</td>\n      <td>0</td>\n      <td>32</td>\n      <td>191</td>\n      <td>94</td>\n      <td>1</td>\n      <td>0</td>\n      <td>6494</td>\n      <td>619</td>\n      <td>329</td>\n      <td>0</td>\n      <td>1.0</td>\n      <td>0</td>\n      <td>52</td>\n      <td>8</td>\n      <td>6</td>\n      <td>21</td>\n      <td>True</td>\n    </tr>\n  </tbody>\n</table>\n</div>"
     },
     "metadata": {},
     "execution_count": 63
    }
   ],
   "source": [
    "match_data_total_deduped.head()"
   ]
  },
  {
   "cell_type": "code",
   "execution_count": 64,
   "metadata": {},
   "outputs": [
    {
     "output_type": "execute_result",
     "data": {
      "text/plain": [
       "  teamPosition championName  sum  count  winRatio\n",
       "4       BOTTOM       Aatrox    0      1    0.0000\n",
       "5       BOTTOM     Aphelios   15     26    0.5769\n",
       "6       BOTTOM         Ashe   24     47    0.5106\n",
       "7       BOTTOM        Brand    2      2    1.0000\n",
       "8       BOTTOM      Caitlyn   13     30    0.4333"
      ],
      "text/html": "<div>\n<style scoped>\n    .dataframe tbody tr th:only-of-type {\n        vertical-align: middle;\n    }\n\n    .dataframe tbody tr th {\n        vertical-align: top;\n    }\n\n    .dataframe thead th {\n        text-align: right;\n    }\n</style>\n<table border=\"1\" class=\"dataframe\">\n  <thead>\n    <tr style=\"text-align: right;\">\n      <th></th>\n      <th>teamPosition</th>\n      <th>championName</th>\n      <th>sum</th>\n      <th>count</th>\n      <th>winRatio</th>\n    </tr>\n  </thead>\n  <tbody>\n    <tr>\n      <th>4</th>\n      <td>BOTTOM</td>\n      <td>Aatrox</td>\n      <td>0</td>\n      <td>1</td>\n      <td>0.0000</td>\n    </tr>\n    <tr>\n      <th>5</th>\n      <td>BOTTOM</td>\n      <td>Aphelios</td>\n      <td>15</td>\n      <td>26</td>\n      <td>0.5769</td>\n    </tr>\n    <tr>\n      <th>6</th>\n      <td>BOTTOM</td>\n      <td>Ashe</td>\n      <td>24</td>\n      <td>47</td>\n      <td>0.5106</td>\n    </tr>\n    <tr>\n      <th>7</th>\n      <td>BOTTOM</td>\n      <td>Brand</td>\n      <td>2</td>\n      <td>2</td>\n      <td>1.0000</td>\n    </tr>\n    <tr>\n      <th>8</th>\n      <td>BOTTOM</td>\n      <td>Caitlyn</td>\n      <td>13</td>\n      <td>30</td>\n      <td>0.4333</td>\n    </tr>\n  </tbody>\n</table>\n</div>"
     },
     "metadata": {},
     "execution_count": 64
    }
   ],
   "source": [
    "win_ratio_df = match_data_total_deduped.groupby(['teamPosition', 'championName']).agg({'win': ['sum', 'count']}).droplevel(0, axis = 1)\n",
    "win_ratio_df['winRatio'] = round(win_ratio_df['sum'] / win_ratio_df['count'], 4)\n",
    "win_ratio_df = win_ratio_df.reset_index()\n",
    "win_ratio_df = win_ratio_df.loc[win_ratio_df['teamPosition'] != 'AFK', ]\n",
    "win_ratio_df.head()"
   ]
  },
  {
   "cell_type": "code",
   "execution_count": 65,
   "metadata": {},
   "outputs": [],
   "source": [
    "win_ratio_df.groupby('teamPosition').mean()['count']\n",
    "bottom_avg_game_count = win_ratio_df.groupby('teamPosition').mean()['count']['BOTTOM']\n",
    "jung_avg_game_count = win_ratio_df.groupby('teamPosition').mean()['count']['JUNGLE']\n",
    "mid_avg_game_count = win_ratio_df.groupby('teamPosition').mean()['count']['MIDDLE']\n",
    "top_avg_game_count = win_ratio_df.groupby('teamPosition').mean()['count']['TOP']\n",
    "supp_avg_game_count = win_ratio_df.groupby('teamPosition').mean()['count']['SUPPORT']"
   ]
  },
  {
   "cell_type": "code",
   "execution_count": 66,
   "metadata": {},
   "outputs": [],
   "source": [
    "bottom_win_rates = win_ratio_df.loc[(win_ratio_df['teamPosition'] == 'BOTTOM') & (win_ratio_df['count'] >= bottom_avg_game_count), ].sort_values(by = 'winRatio', ascending = False).head(10)\n",
    "jung_win_rates = win_ratio_df.loc[(win_ratio_df['teamPosition'] == 'JUNGLE') & (win_ratio_df['count'] >= jung_avg_game_count), ].sort_values(by = 'winRatio', ascending = False).head(10)\n",
    "mid_win_rates = win_ratio_df.loc[(win_ratio_df['teamPosition'] == 'MIDDLE') & (win_ratio_df['count'] >= mid_avg_game_count), ].sort_values(by = 'winRatio', ascending = False).head(10)\n",
    "top_win_rates = win_ratio_df.loc[(win_ratio_df['teamPosition'] == 'TOP') & (win_ratio_df['count'] >= top_avg_game_count), ].sort_values(by = 'winRatio', ascending = False).head(10)\n",
    "supp_win_rates = win_ratio_df.loc[(win_ratio_df['teamPosition'] == 'SUPPORT') & (win_ratio_df['count'] >= supp_avg_game_count), ].sort_values(by = 'winRatio', ascending = False).head(10)\n",
    "\n",
    "win_rates_top_10 = pd.concat([bottom_win_rates, jung_win_rates, mid_win_rates, top_win_rates, supp_win_rates])\n",
    "win_rates_top_10['winRatio'] = round((win_rates_top_10['winRatio'] * 100), 1)\n"
   ]
  },
  {
   "cell_type": "code",
   "execution_count": 67,
   "metadata": {},
   "outputs": [],
   "source": [
    "def graph_top10_win_rates(data, lane):\n",
    "    data = data.loc[data['teamPosition'] == lane, ]\n",
    "    fig = px.bar(data, x = 'championName', y = 'winRatio', text = 'winRatio', color = 'winRatio', color_continuous_scale = px.colors.sequential.Emrld,\n",
    "                 labels = {'teamPosition': 'Position', 'winRatio': 'Win Percentage', 'championName': 'Champion'},\n",
    "                 title = f'Top 10 Win Rates for {lane.title()} Position')\n",
    "    fig.update_layout(\n",
    "        plot_bgcolor = 'rgb(0,0,0,0)',\n",
    "        paper_bgcolor = 'rgb(0,0,0,0)',\n",
    "        width = 800,\n",
    "        height = 600,\n",
    "        title_x = 0.5,\n",
    "        coloraxis_showscale = False,\n",
    "        )\n",
    "    fig.update_xaxes(categoryorder = 'total ascending')\n",
    "    fig.update_yaxes(ticksuffix = '%', visible = False)\n",
    "    fig.update_traces(texttemplate = '%{text}%', textposition = 'outside', insidetextanchor = 'end', \n",
    "                      textfont_color = '#000000', textfont_size = 14)\n",
    "\n",
    "    return fig"
   ]
  },
  {
   "cell_type": "code",
   "execution_count": 68,
   "metadata": {},
   "outputs": [],
   "source": [
    "team_positions = ['BOTTOM', 'SUPPORT', 'TOP', 'MIDDLE', 'JUNGLE']\n",
    "top_10_by_position = []\n",
    "for position in team_positions:\n",
    "    fig = graph_top10_win_rates(win_rates_top_10, position)\n",
    "    top_10_by_position.append(fig)"
   ]
  },
  {
   "cell_type": "code",
   "execution_count": 69,
   "metadata": {},
   "outputs": [
    {
     "output_type": "display_data",
     "data": {
      "text/html": "        <script type=\"text/javascript\">\n        window.PlotlyConfig = {MathJaxConfig: 'local'};\n        if (window.MathJax) {MathJax.Hub.Config({SVG: {font: \"STIX-Web\"}});}\n        if (typeof require !== 'undefined') {\n        require.undef(\"plotly\");\n        requirejs.config({\n            paths: {\n                'plotly': ['https://cdn.plot.ly/plotly-latest.min']\n            }\n        });\n        require(['plotly'], function(Plotly) {\n            window._Plotly = Plotly;\n        });\n        }\n        </script>\n        "
     },
     "metadata": {}
    },
    {
     "output_type": "display_data",
     "data": {
      "text/html": "<div>                            <div id=\"aef720fc-ffa6-40bf-b62b-2b7c9820dc45\" class=\"plotly-graph-div\" style=\"height:600px; width:800px;\"></div>            <script type=\"text/javascript\">                require([\"plotly\"], function(Plotly) {                    window.PLOTLYENV=window.PLOTLYENV || {};                                    if (document.getElementById(\"aef720fc-ffa6-40bf-b62b-2b7c9820dc45\")) {                    Plotly.newPlot(                        \"aef720fc-ffa6-40bf-b62b-2b7c9820dc45\",                        [{\"alignmentgroup\": \"True\", \"hovertemplate\": \"Champion=%{x}<br>Win Percentage=%{marker.color}<extra></extra>\", \"insidetextanchor\": \"end\", \"legendgroup\": \"\", \"marker\": {\"color\": [68.2, 60.4, 57.3, 56.6, 56.1, 55.7, 55.6, 54.1, 52.4, 51.9], \"coloraxis\": \"coloraxis\"}, \"name\": \"\", \"offsetgroup\": \"\", \"orientation\": \"v\", \"showlegend\": false, \"text\": [68.2, 60.4, 57.3, 56.6, 56.1, 55.7, 55.6, 54.1, 52.4, 51.9], \"textfont\": {\"color\": \"#000000\", \"size\": 14}, \"textposition\": \"outside\", \"texttemplate\": \"%{text}%\", \"type\": \"bar\", \"x\": [\"TahmKench\", \"Karthus\", \"Ezreal\", \"Tristana\", \"Samira\", \"Jinx\", \"KogMaw\", \"Swain\", \"Kaisa\", \"Sivir\"], \"xaxis\": \"x\", \"y\": [68.2, 60.4, 57.3, 56.6, 56.1, 55.7, 55.6, 54.1, 52.4, 51.9], \"yaxis\": \"y\"}],                        {\"barmode\": \"relative\", \"coloraxis\": {\"colorbar\": {\"title\": {\"text\": \"Win Percentage\"}}, \"colorscale\": [[0.0, \"rgb(211, 242, 163)\"], [0.16666666666666666, \"rgb(151, 225, 150)\"], [0.3333333333333333, \"rgb(108, 192, 139)\"], [0.5, \"rgb(76, 155, 130)\"], [0.6666666666666666, \"rgb(33, 122, 121)\"], [0.8333333333333334, \"rgb(16, 89, 101)\"], [1.0, \"rgb(7, 64, 80)\"]], \"showscale\": false}, \"height\": 600, \"legend\": {\"tracegroupgap\": 0}, \"paper_bgcolor\": \"rgb(0,0,0,0)\", \"plot_bgcolor\": \"rgb(0,0,0,0)\", \"template\": {\"data\": {\"bar\": [{\"error_x\": {\"color\": \"#2a3f5f\"}, \"error_y\": {\"color\": \"#2a3f5f\"}, \"marker\": {\"line\": {\"color\": \"#E5ECF6\", \"width\": 0.5}}, \"type\": \"bar\"}], \"barpolar\": [{\"marker\": {\"line\": {\"color\": \"#E5ECF6\", \"width\": 0.5}}, \"type\": \"barpolar\"}], \"carpet\": [{\"aaxis\": {\"endlinecolor\": \"#2a3f5f\", \"gridcolor\": \"white\", \"linecolor\": \"white\", \"minorgridcolor\": \"white\", \"startlinecolor\": \"#2a3f5f\"}, \"baxis\": {\"endlinecolor\": \"#2a3f5f\", \"gridcolor\": \"white\", \"linecolor\": \"white\", \"minorgridcolor\": \"white\", \"startlinecolor\": \"#2a3f5f\"}, \"type\": \"carpet\"}], \"choropleth\": [{\"colorbar\": {\"outlinewidth\": 0, \"ticks\": \"\"}, \"type\": \"choropleth\"}], \"contour\": [{\"colorbar\": {\"outlinewidth\": 0, \"ticks\": \"\"}, \"colorscale\": [[0.0, \"#0d0887\"], [0.1111111111111111, \"#46039f\"], [0.2222222222222222, \"#7201a8\"], [0.3333333333333333, \"#9c179e\"], [0.4444444444444444, \"#bd3786\"], [0.5555555555555556, \"#d8576b\"], [0.6666666666666666, \"#ed7953\"], [0.7777777777777778, \"#fb9f3a\"], [0.8888888888888888, \"#fdca26\"], [1.0, \"#f0f921\"]], \"type\": \"contour\"}], \"contourcarpet\": [{\"colorbar\": {\"outlinewidth\": 0, \"ticks\": \"\"}, \"type\": \"contourcarpet\"}], \"heatmap\": [{\"colorbar\": {\"outlinewidth\": 0, \"ticks\": \"\"}, \"colorscale\": [[0.0, \"#0d0887\"], [0.1111111111111111, \"#46039f\"], [0.2222222222222222, \"#7201a8\"], [0.3333333333333333, \"#9c179e\"], [0.4444444444444444, \"#bd3786\"], [0.5555555555555556, \"#d8576b\"], [0.6666666666666666, \"#ed7953\"], [0.7777777777777778, \"#fb9f3a\"], [0.8888888888888888, \"#fdca26\"], [1.0, \"#f0f921\"]], \"type\": \"heatmap\"}], \"heatmapgl\": [{\"colorbar\": {\"outlinewidth\": 0, \"ticks\": \"\"}, \"colorscale\": [[0.0, \"#0d0887\"], [0.1111111111111111, \"#46039f\"], [0.2222222222222222, \"#7201a8\"], [0.3333333333333333, \"#9c179e\"], [0.4444444444444444, \"#bd3786\"], [0.5555555555555556, \"#d8576b\"], [0.6666666666666666, \"#ed7953\"], [0.7777777777777778, \"#fb9f3a\"], [0.8888888888888888, \"#fdca26\"], [1.0, \"#f0f921\"]], \"type\": \"heatmapgl\"}], \"histogram\": [{\"marker\": {\"colorbar\": {\"outlinewidth\": 0, \"ticks\": \"\"}}, \"type\": \"histogram\"}], \"histogram2d\": [{\"colorbar\": {\"outlinewidth\": 0, \"ticks\": \"\"}, \"colorscale\": [[0.0, \"#0d0887\"], [0.1111111111111111, \"#46039f\"], [0.2222222222222222, \"#7201a8\"], [0.3333333333333333, \"#9c179e\"], [0.4444444444444444, \"#bd3786\"], [0.5555555555555556, \"#d8576b\"], [0.6666666666666666, \"#ed7953\"], [0.7777777777777778, \"#fb9f3a\"], [0.8888888888888888, \"#fdca26\"], [1.0, \"#f0f921\"]], \"type\": \"histogram2d\"}], \"histogram2dcontour\": [{\"colorbar\": {\"outlinewidth\": 0, \"ticks\": \"\"}, \"colorscale\": [[0.0, \"#0d0887\"], [0.1111111111111111, \"#46039f\"], [0.2222222222222222, \"#7201a8\"], [0.3333333333333333, \"#9c179e\"], [0.4444444444444444, \"#bd3786\"], [0.5555555555555556, \"#d8576b\"], [0.6666666666666666, \"#ed7953\"], [0.7777777777777778, \"#fb9f3a\"], [0.8888888888888888, \"#fdca26\"], [1.0, \"#f0f921\"]], \"type\": \"histogram2dcontour\"}], \"mesh3d\": [{\"colorbar\": {\"outlinewidth\": 0, \"ticks\": \"\"}, \"type\": \"mesh3d\"}], \"parcoords\": [{\"line\": {\"colorbar\": {\"outlinewidth\": 0, \"ticks\": \"\"}}, \"type\": \"parcoords\"}], \"pie\": [{\"automargin\": true, \"type\": \"pie\"}], \"scatter\": [{\"marker\": {\"colorbar\": {\"outlinewidth\": 0, \"ticks\": \"\"}}, \"type\": \"scatter\"}], \"scatter3d\": [{\"line\": {\"colorbar\": {\"outlinewidth\": 0, \"ticks\": \"\"}}, \"marker\": {\"colorbar\": {\"outlinewidth\": 0, \"ticks\": \"\"}}, \"type\": \"scatter3d\"}], \"scattercarpet\": [{\"marker\": {\"colorbar\": {\"outlinewidth\": 0, \"ticks\": \"\"}}, \"type\": \"scattercarpet\"}], \"scattergeo\": [{\"marker\": {\"colorbar\": {\"outlinewidth\": 0, \"ticks\": \"\"}}, \"type\": \"scattergeo\"}], \"scattergl\": [{\"marker\": {\"colorbar\": {\"outlinewidth\": 0, \"ticks\": \"\"}}, \"type\": \"scattergl\"}], \"scattermapbox\": [{\"marker\": {\"colorbar\": {\"outlinewidth\": 0, \"ticks\": \"\"}}, \"type\": \"scattermapbox\"}], \"scatterpolar\": [{\"marker\": {\"colorbar\": {\"outlinewidth\": 0, \"ticks\": \"\"}}, \"type\": \"scatterpolar\"}], \"scatterpolargl\": [{\"marker\": {\"colorbar\": {\"outlinewidth\": 0, \"ticks\": \"\"}}, \"type\": \"scatterpolargl\"}], \"scatterternary\": [{\"marker\": {\"colorbar\": {\"outlinewidth\": 0, \"ticks\": \"\"}}, \"type\": \"scatterternary\"}], \"surface\": [{\"colorbar\": {\"outlinewidth\": 0, \"ticks\": \"\"}, \"colorscale\": [[0.0, \"#0d0887\"], [0.1111111111111111, \"#46039f\"], [0.2222222222222222, \"#7201a8\"], [0.3333333333333333, \"#9c179e\"], [0.4444444444444444, \"#bd3786\"], [0.5555555555555556, \"#d8576b\"], [0.6666666666666666, \"#ed7953\"], [0.7777777777777778, \"#fb9f3a\"], [0.8888888888888888, \"#fdca26\"], [1.0, \"#f0f921\"]], \"type\": \"surface\"}], \"table\": [{\"cells\": {\"fill\": {\"color\": \"#EBF0F8\"}, \"line\": {\"color\": \"white\"}}, \"header\": {\"fill\": {\"color\": \"#C8D4E3\"}, \"line\": {\"color\": \"white\"}}, \"type\": \"table\"}]}, \"layout\": {\"annotationdefaults\": {\"arrowcolor\": \"#2a3f5f\", \"arrowhead\": 0, \"arrowwidth\": 1}, \"autotypenumbers\": \"strict\", \"coloraxis\": {\"colorbar\": {\"outlinewidth\": 0, \"ticks\": \"\"}}, \"colorscale\": {\"diverging\": [[0, \"#8e0152\"], [0.1, \"#c51b7d\"], [0.2, \"#de77ae\"], [0.3, \"#f1b6da\"], [0.4, \"#fde0ef\"], [0.5, \"#f7f7f7\"], [0.6, \"#e6f5d0\"], [0.7, \"#b8e186\"], [0.8, \"#7fbc41\"], [0.9, \"#4d9221\"], [1, \"#276419\"]], \"sequential\": [[0.0, \"#0d0887\"], [0.1111111111111111, \"#46039f\"], [0.2222222222222222, \"#7201a8\"], [0.3333333333333333, \"#9c179e\"], [0.4444444444444444, \"#bd3786\"], [0.5555555555555556, \"#d8576b\"], [0.6666666666666666, \"#ed7953\"], [0.7777777777777778, \"#fb9f3a\"], [0.8888888888888888, \"#fdca26\"], [1.0, \"#f0f921\"]], \"sequentialminus\": [[0.0, \"#0d0887\"], [0.1111111111111111, \"#46039f\"], [0.2222222222222222, \"#7201a8\"], [0.3333333333333333, \"#9c179e\"], [0.4444444444444444, \"#bd3786\"], [0.5555555555555556, \"#d8576b\"], [0.6666666666666666, \"#ed7953\"], [0.7777777777777778, \"#fb9f3a\"], [0.8888888888888888, \"#fdca26\"], [1.0, \"#f0f921\"]]}, \"colorway\": [\"#636efa\", \"#EF553B\", \"#00cc96\", \"#ab63fa\", \"#FFA15A\", \"#19d3f3\", \"#FF6692\", \"#B6E880\", \"#FF97FF\", \"#FECB52\"], \"font\": {\"color\": \"#2a3f5f\"}, \"geo\": {\"bgcolor\": \"white\", \"lakecolor\": \"white\", \"landcolor\": \"#E5ECF6\", \"showlakes\": true, \"showland\": true, \"subunitcolor\": \"white\"}, \"hoverlabel\": {\"align\": \"left\"}, \"hovermode\": \"closest\", \"mapbox\": {\"style\": \"light\"}, \"paper_bgcolor\": \"white\", \"plot_bgcolor\": \"#E5ECF6\", \"polar\": {\"angularaxis\": {\"gridcolor\": \"white\", \"linecolor\": \"white\", \"ticks\": \"\"}, \"bgcolor\": \"#E5ECF6\", \"radialaxis\": {\"gridcolor\": \"white\", \"linecolor\": \"white\", \"ticks\": \"\"}}, \"scene\": {\"xaxis\": {\"backgroundcolor\": \"#E5ECF6\", \"gridcolor\": \"white\", \"gridwidth\": 2, \"linecolor\": \"white\", \"showbackground\": true, \"ticks\": \"\", \"zerolinecolor\": \"white\"}, \"yaxis\": {\"backgroundcolor\": \"#E5ECF6\", \"gridcolor\": \"white\", \"gridwidth\": 2, \"linecolor\": \"white\", \"showbackground\": true, \"ticks\": \"\", \"zerolinecolor\": \"white\"}, \"zaxis\": {\"backgroundcolor\": \"#E5ECF6\", \"gridcolor\": \"white\", \"gridwidth\": 2, \"linecolor\": \"white\", \"showbackground\": true, \"ticks\": \"\", \"zerolinecolor\": \"white\"}}, \"shapedefaults\": {\"line\": {\"color\": \"#2a3f5f\"}}, \"ternary\": {\"aaxis\": {\"gridcolor\": \"white\", \"linecolor\": \"white\", \"ticks\": \"\"}, \"baxis\": {\"gridcolor\": \"white\", \"linecolor\": \"white\", \"ticks\": \"\"}, \"bgcolor\": \"#E5ECF6\", \"caxis\": {\"gridcolor\": \"white\", \"linecolor\": \"white\", \"ticks\": \"\"}}, \"title\": {\"x\": 0.05}, \"xaxis\": {\"automargin\": true, \"gridcolor\": \"white\", \"linecolor\": \"white\", \"ticks\": \"\", \"title\": {\"standoff\": 15}, \"zerolinecolor\": \"white\", \"zerolinewidth\": 2}, \"yaxis\": {\"automargin\": true, \"gridcolor\": \"white\", \"linecolor\": \"white\", \"ticks\": \"\", \"title\": {\"standoff\": 15}, \"zerolinecolor\": \"white\", \"zerolinewidth\": 2}}}, \"title\": {\"text\": \"Top 10 Win Rates for Bottom Position\", \"x\": 0.5}, \"width\": 800, \"xaxis\": {\"anchor\": \"y\", \"categoryorder\": \"total ascending\", \"domain\": [0.0, 1.0], \"title\": {\"text\": \"Champion\"}}, \"yaxis\": {\"anchor\": \"x\", \"domain\": [0.0, 1.0], \"ticksuffix\": \"%\", \"title\": {\"text\": \"Win Percentage\"}, \"visible\": false}},                        {\"responsive\": true}                    ).then(function(){\n                            \nvar gd = document.getElementById('aef720fc-ffa6-40bf-b62b-2b7c9820dc45');\nvar x = new MutationObserver(function (mutations, observer) {{\n        var display = window.getComputedStyle(gd).display;\n        if (!display || display === 'none') {{\n            console.log([gd, 'removed!']);\n            Plotly.purge(gd);\n            observer.disconnect();\n        }}\n}});\n\n// Listen for the removal of the full notebook cells\nvar notebookContainer = gd.closest('#notebook-container');\nif (notebookContainer) {{\n    x.observe(notebookContainer, {childList: true});\n}}\n\n// Listen for the clearing of the current output cell\nvar outputEl = gd.closest('.output');\nif (outputEl) {{\n    x.observe(outputEl, {childList: true});\n}}\n\n                        })                };                });            </script>        </div>"
     },
     "metadata": {}
    },
    {
     "output_type": "display_data",
     "data": {
      "text/html": "        <script type=\"text/javascript\">\n        window.PlotlyConfig = {MathJaxConfig: 'local'};\n        if (window.MathJax) {MathJax.Hub.Config({SVG: {font: \"STIX-Web\"}});}\n        if (typeof require !== 'undefined') {\n        require.undef(\"plotly\");\n        requirejs.config({\n            paths: {\n                'plotly': ['https://cdn.plot.ly/plotly-latest.min']\n            }\n        });\n        require(['plotly'], function(Plotly) {\n            window._Plotly = Plotly;\n        });\n        }\n        </script>\n        "
     },
     "metadata": {}
    },
    {
     "output_type": "display_data",
     "data": {
      "text/html": "<div>                            <div id=\"09b7f55d-73f3-43c6-a21f-860be38153dc\" class=\"plotly-graph-div\" style=\"height:600px; width:800px;\"></div>            <script type=\"text/javascript\">                require([\"plotly\"], function(Plotly) {                    window.PLOTLYENV=window.PLOTLYENV || {};                                    if (document.getElementById(\"09b7f55d-73f3-43c6-a21f-860be38153dc\")) {                    Plotly.newPlot(                        \"09b7f55d-73f3-43c6-a21f-860be38153dc\",                        [{\"alignmentgroup\": \"True\", \"hovertemplate\": \"Champion=%{x}<br>Win Percentage=%{marker.color}<extra></extra>\", \"insidetextanchor\": \"end\", \"legendgroup\": \"\", \"marker\": {\"color\": [60.7, 60.0, 59.2, 58.3, 57.1, 56.4, 55.9, 55.8, 55.1, 53.6], \"coloraxis\": \"coloraxis\"}, \"name\": \"\", \"offsetgroup\": \"\", \"orientation\": \"v\", \"showlegend\": false, \"text\": [60.7, 60.0, 59.2, 58.3, 57.1, 56.4, 55.9, 55.8, 55.1, 53.6], \"textfont\": {\"color\": \"#000000\", \"size\": 14}, \"textposition\": \"outside\", \"texttemplate\": \"%{text}%\", \"type\": \"bar\", \"x\": [\"Thresh\", \"Lulu\", \"Rell\", \"Senna\", \"Bard\", \"Gragas\", \"Blitzcrank\", \"Leona\", \"Alistar\", \"Rakan\"], \"xaxis\": \"x\", \"y\": [60.7, 60.0, 59.2, 58.3, 57.1, 56.4, 55.9, 55.8, 55.1, 53.6], \"yaxis\": \"y\"}],                        {\"barmode\": \"relative\", \"coloraxis\": {\"colorbar\": {\"title\": {\"text\": \"Win Percentage\"}}, \"colorscale\": [[0.0, \"rgb(211, 242, 163)\"], [0.16666666666666666, \"rgb(151, 225, 150)\"], [0.3333333333333333, \"rgb(108, 192, 139)\"], [0.5, \"rgb(76, 155, 130)\"], [0.6666666666666666, \"rgb(33, 122, 121)\"], [0.8333333333333334, \"rgb(16, 89, 101)\"], [1.0, \"rgb(7, 64, 80)\"]], \"showscale\": false}, \"height\": 600, \"legend\": {\"tracegroupgap\": 0}, \"paper_bgcolor\": \"rgb(0,0,0,0)\", \"plot_bgcolor\": \"rgb(0,0,0,0)\", \"template\": {\"data\": {\"bar\": [{\"error_x\": {\"color\": \"#2a3f5f\"}, \"error_y\": {\"color\": \"#2a3f5f\"}, \"marker\": {\"line\": {\"color\": \"#E5ECF6\", \"width\": 0.5}}, \"type\": \"bar\"}], \"barpolar\": [{\"marker\": {\"line\": {\"color\": \"#E5ECF6\", \"width\": 0.5}}, \"type\": \"barpolar\"}], \"carpet\": [{\"aaxis\": {\"endlinecolor\": \"#2a3f5f\", \"gridcolor\": \"white\", \"linecolor\": \"white\", \"minorgridcolor\": \"white\", \"startlinecolor\": \"#2a3f5f\"}, \"baxis\": {\"endlinecolor\": \"#2a3f5f\", \"gridcolor\": \"white\", \"linecolor\": \"white\", \"minorgridcolor\": \"white\", \"startlinecolor\": \"#2a3f5f\"}, \"type\": \"carpet\"}], \"choropleth\": [{\"colorbar\": {\"outlinewidth\": 0, \"ticks\": \"\"}, \"type\": \"choropleth\"}], \"contour\": [{\"colorbar\": {\"outlinewidth\": 0, \"ticks\": \"\"}, \"colorscale\": [[0.0, \"#0d0887\"], [0.1111111111111111, \"#46039f\"], [0.2222222222222222, \"#7201a8\"], [0.3333333333333333, \"#9c179e\"], [0.4444444444444444, \"#bd3786\"], [0.5555555555555556, \"#d8576b\"], [0.6666666666666666, \"#ed7953\"], [0.7777777777777778, \"#fb9f3a\"], [0.8888888888888888, \"#fdca26\"], [1.0, \"#f0f921\"]], \"type\": \"contour\"}], \"contourcarpet\": [{\"colorbar\": {\"outlinewidth\": 0, \"ticks\": \"\"}, \"type\": \"contourcarpet\"}], \"heatmap\": [{\"colorbar\": {\"outlinewidth\": 0, \"ticks\": \"\"}, \"colorscale\": [[0.0, \"#0d0887\"], [0.1111111111111111, \"#46039f\"], [0.2222222222222222, \"#7201a8\"], [0.3333333333333333, \"#9c179e\"], [0.4444444444444444, \"#bd3786\"], [0.5555555555555556, \"#d8576b\"], [0.6666666666666666, \"#ed7953\"], [0.7777777777777778, \"#fb9f3a\"], [0.8888888888888888, \"#fdca26\"], [1.0, \"#f0f921\"]], \"type\": \"heatmap\"}], \"heatmapgl\": [{\"colorbar\": {\"outlinewidth\": 0, \"ticks\": \"\"}, \"colorscale\": [[0.0, \"#0d0887\"], [0.1111111111111111, \"#46039f\"], [0.2222222222222222, \"#7201a8\"], [0.3333333333333333, \"#9c179e\"], [0.4444444444444444, \"#bd3786\"], [0.5555555555555556, \"#d8576b\"], [0.6666666666666666, \"#ed7953\"], [0.7777777777777778, \"#fb9f3a\"], [0.8888888888888888, \"#fdca26\"], [1.0, \"#f0f921\"]], \"type\": \"heatmapgl\"}], \"histogram\": [{\"marker\": {\"colorbar\": {\"outlinewidth\": 0, \"ticks\": \"\"}}, \"type\": \"histogram\"}], \"histogram2d\": [{\"colorbar\": {\"outlinewidth\": 0, \"ticks\": \"\"}, \"colorscale\": [[0.0, \"#0d0887\"], [0.1111111111111111, \"#46039f\"], [0.2222222222222222, \"#7201a8\"], [0.3333333333333333, \"#9c179e\"], [0.4444444444444444, \"#bd3786\"], [0.5555555555555556, \"#d8576b\"], [0.6666666666666666, \"#ed7953\"], [0.7777777777777778, \"#fb9f3a\"], [0.8888888888888888, \"#fdca26\"], [1.0, \"#f0f921\"]], \"type\": \"histogram2d\"}], \"histogram2dcontour\": [{\"colorbar\": {\"outlinewidth\": 0, \"ticks\": \"\"}, \"colorscale\": [[0.0, \"#0d0887\"], [0.1111111111111111, \"#46039f\"], [0.2222222222222222, \"#7201a8\"], [0.3333333333333333, \"#9c179e\"], [0.4444444444444444, \"#bd3786\"], [0.5555555555555556, \"#d8576b\"], [0.6666666666666666, \"#ed7953\"], [0.7777777777777778, \"#fb9f3a\"], [0.8888888888888888, \"#fdca26\"], [1.0, \"#f0f921\"]], \"type\": \"histogram2dcontour\"}], \"mesh3d\": [{\"colorbar\": {\"outlinewidth\": 0, \"ticks\": \"\"}, \"type\": \"mesh3d\"}], \"parcoords\": [{\"line\": {\"colorbar\": {\"outlinewidth\": 0, \"ticks\": \"\"}}, \"type\": \"parcoords\"}], \"pie\": [{\"automargin\": true, \"type\": \"pie\"}], \"scatter\": [{\"marker\": {\"colorbar\": {\"outlinewidth\": 0, \"ticks\": \"\"}}, \"type\": \"scatter\"}], \"scatter3d\": [{\"line\": {\"colorbar\": {\"outlinewidth\": 0, \"ticks\": \"\"}}, \"marker\": {\"colorbar\": {\"outlinewidth\": 0, \"ticks\": \"\"}}, \"type\": \"scatter3d\"}], \"scattercarpet\": [{\"marker\": {\"colorbar\": {\"outlinewidth\": 0, \"ticks\": \"\"}}, \"type\": \"scattercarpet\"}], \"scattergeo\": [{\"marker\": {\"colorbar\": {\"outlinewidth\": 0, \"ticks\": \"\"}}, \"type\": \"scattergeo\"}], \"scattergl\": [{\"marker\": {\"colorbar\": {\"outlinewidth\": 0, \"ticks\": \"\"}}, \"type\": \"scattergl\"}], \"scattermapbox\": [{\"marker\": {\"colorbar\": {\"outlinewidth\": 0, \"ticks\": \"\"}}, \"type\": \"scattermapbox\"}], \"scatterpolar\": [{\"marker\": {\"colorbar\": {\"outlinewidth\": 0, \"ticks\": \"\"}}, \"type\": \"scatterpolar\"}], \"scatterpolargl\": [{\"marker\": {\"colorbar\": {\"outlinewidth\": 0, \"ticks\": \"\"}}, \"type\": \"scatterpolargl\"}], \"scatterternary\": [{\"marker\": {\"colorbar\": {\"outlinewidth\": 0, \"ticks\": \"\"}}, \"type\": \"scatterternary\"}], \"surface\": [{\"colorbar\": {\"outlinewidth\": 0, \"ticks\": \"\"}, \"colorscale\": [[0.0, \"#0d0887\"], [0.1111111111111111, \"#46039f\"], [0.2222222222222222, \"#7201a8\"], [0.3333333333333333, \"#9c179e\"], [0.4444444444444444, \"#bd3786\"], [0.5555555555555556, \"#d8576b\"], [0.6666666666666666, \"#ed7953\"], [0.7777777777777778, \"#fb9f3a\"], [0.8888888888888888, \"#fdca26\"], [1.0, \"#f0f921\"]], \"type\": \"surface\"}], \"table\": [{\"cells\": {\"fill\": {\"color\": \"#EBF0F8\"}, \"line\": {\"color\": \"white\"}}, \"header\": {\"fill\": {\"color\": \"#C8D4E3\"}, \"line\": {\"color\": \"white\"}}, \"type\": \"table\"}]}, \"layout\": {\"annotationdefaults\": {\"arrowcolor\": \"#2a3f5f\", \"arrowhead\": 0, \"arrowwidth\": 1}, \"autotypenumbers\": \"strict\", \"coloraxis\": {\"colorbar\": {\"outlinewidth\": 0, \"ticks\": \"\"}}, \"colorscale\": {\"diverging\": [[0, \"#8e0152\"], [0.1, \"#c51b7d\"], [0.2, \"#de77ae\"], [0.3, \"#f1b6da\"], [0.4, \"#fde0ef\"], [0.5, \"#f7f7f7\"], [0.6, \"#e6f5d0\"], [0.7, \"#b8e186\"], [0.8, \"#7fbc41\"], [0.9, \"#4d9221\"], [1, \"#276419\"]], \"sequential\": [[0.0, \"#0d0887\"], [0.1111111111111111, \"#46039f\"], [0.2222222222222222, \"#7201a8\"], [0.3333333333333333, \"#9c179e\"], [0.4444444444444444, \"#bd3786\"], [0.5555555555555556, \"#d8576b\"], [0.6666666666666666, \"#ed7953\"], [0.7777777777777778, \"#fb9f3a\"], [0.8888888888888888, \"#fdca26\"], [1.0, \"#f0f921\"]], \"sequentialminus\": [[0.0, \"#0d0887\"], [0.1111111111111111, \"#46039f\"], [0.2222222222222222, \"#7201a8\"], [0.3333333333333333, \"#9c179e\"], [0.4444444444444444, \"#bd3786\"], [0.5555555555555556, \"#d8576b\"], [0.6666666666666666, \"#ed7953\"], [0.7777777777777778, \"#fb9f3a\"], [0.8888888888888888, \"#fdca26\"], [1.0, \"#f0f921\"]]}, \"colorway\": [\"#636efa\", \"#EF553B\", \"#00cc96\", \"#ab63fa\", \"#FFA15A\", \"#19d3f3\", \"#FF6692\", \"#B6E880\", \"#FF97FF\", \"#FECB52\"], \"font\": {\"color\": \"#2a3f5f\"}, \"geo\": {\"bgcolor\": \"white\", \"lakecolor\": \"white\", \"landcolor\": \"#E5ECF6\", \"showlakes\": true, \"showland\": true, \"subunitcolor\": \"white\"}, \"hoverlabel\": {\"align\": \"left\"}, \"hovermode\": \"closest\", \"mapbox\": {\"style\": \"light\"}, \"paper_bgcolor\": \"white\", \"plot_bgcolor\": \"#E5ECF6\", \"polar\": {\"angularaxis\": {\"gridcolor\": \"white\", \"linecolor\": \"white\", \"ticks\": \"\"}, \"bgcolor\": \"#E5ECF6\", \"radialaxis\": {\"gridcolor\": \"white\", \"linecolor\": \"white\", \"ticks\": \"\"}}, \"scene\": {\"xaxis\": {\"backgroundcolor\": \"#E5ECF6\", \"gridcolor\": \"white\", \"gridwidth\": 2, \"linecolor\": \"white\", \"showbackground\": true, \"ticks\": \"\", \"zerolinecolor\": \"white\"}, \"yaxis\": {\"backgroundcolor\": \"#E5ECF6\", \"gridcolor\": \"white\", \"gridwidth\": 2, \"linecolor\": \"white\", \"showbackground\": true, \"ticks\": \"\", \"zerolinecolor\": \"white\"}, \"zaxis\": {\"backgroundcolor\": \"#E5ECF6\", \"gridcolor\": \"white\", \"gridwidth\": 2, \"linecolor\": \"white\", \"showbackground\": true, \"ticks\": \"\", \"zerolinecolor\": \"white\"}}, \"shapedefaults\": {\"line\": {\"color\": \"#2a3f5f\"}}, \"ternary\": {\"aaxis\": {\"gridcolor\": \"white\", \"linecolor\": \"white\", \"ticks\": \"\"}, \"baxis\": {\"gridcolor\": \"white\", \"linecolor\": \"white\", \"ticks\": \"\"}, \"bgcolor\": \"#E5ECF6\", \"caxis\": {\"gridcolor\": \"white\", \"linecolor\": \"white\", \"ticks\": \"\"}}, \"title\": {\"x\": 0.05}, \"xaxis\": {\"automargin\": true, \"gridcolor\": \"white\", \"linecolor\": \"white\", \"ticks\": \"\", \"title\": {\"standoff\": 15}, \"zerolinecolor\": \"white\", \"zerolinewidth\": 2}, \"yaxis\": {\"automargin\": true, \"gridcolor\": \"white\", \"linecolor\": \"white\", \"ticks\": \"\", \"title\": {\"standoff\": 15}, \"zerolinecolor\": \"white\", \"zerolinewidth\": 2}}}, \"title\": {\"text\": \"Top 10 Win Rates for Support Position\", \"x\": 0.5}, \"width\": 800, \"xaxis\": {\"anchor\": \"y\", \"categoryorder\": \"total ascending\", \"domain\": [0.0, 1.0], \"title\": {\"text\": \"Champion\"}}, \"yaxis\": {\"anchor\": \"x\", \"domain\": [0.0, 1.0], \"ticksuffix\": \"%\", \"title\": {\"text\": \"Win Percentage\"}, \"visible\": false}},                        {\"responsive\": true}                    ).then(function(){\n                            \nvar gd = document.getElementById('09b7f55d-73f3-43c6-a21f-860be38153dc');\nvar x = new MutationObserver(function (mutations, observer) {{\n        var display = window.getComputedStyle(gd).display;\n        if (!display || display === 'none') {{\n            console.log([gd, 'removed!']);\n            Plotly.purge(gd);\n            observer.disconnect();\n        }}\n}});\n\n// Listen for the removal of the full notebook cells\nvar notebookContainer = gd.closest('#notebook-container');\nif (notebookContainer) {{\n    x.observe(notebookContainer, {childList: true});\n}}\n\n// Listen for the clearing of the current output cell\nvar outputEl = gd.closest('.output');\nif (outputEl) {{\n    x.observe(outputEl, {childList: true});\n}}\n\n                        })                };                });            </script>        </div>"
     },
     "metadata": {}
    },
    {
     "output_type": "display_data",
     "data": {
      "text/html": "        <script type=\"text/javascript\">\n        window.PlotlyConfig = {MathJaxConfig: 'local'};\n        if (window.MathJax) {MathJax.Hub.Config({SVG: {font: \"STIX-Web\"}});}\n        if (typeof require !== 'undefined') {\n        require.undef(\"plotly\");\n        requirejs.config({\n            paths: {\n                'plotly': ['https://cdn.plot.ly/plotly-latest.min']\n            }\n        });\n        require(['plotly'], function(Plotly) {\n            window._Plotly = Plotly;\n        });\n        }\n        </script>\n        "
     },
     "metadata": {}
    },
    {
     "output_type": "display_data",
     "data": {
      "text/html": "<div>                            <div id=\"59fed8fe-2a1d-41f5-985f-b64c3f7a86e7\" class=\"plotly-graph-div\" style=\"height:600px; width:800px;\"></div>            <script type=\"text/javascript\">                require([\"plotly\"], function(Plotly) {                    window.PLOTLYENV=window.PLOTLYENV || {};                                    if (document.getElementById(\"59fed8fe-2a1d-41f5-985f-b64c3f7a86e7\")) {                    Plotly.newPlot(                        \"59fed8fe-2a1d-41f5-985f-b64c3f7a86e7\",                        [{\"alignmentgroup\": \"True\", \"hovertemplate\": \"Champion=%{x}<br>Win Percentage=%{marker.color}<extra></extra>\", \"insidetextanchor\": \"end\", \"legendgroup\": \"\", \"marker\": {\"color\": [66.0, 65.0, 64.9, 59.3, 59.2, 58.5, 56.7, 56.5, 55.3, 55.0], \"coloraxis\": \"coloraxis\"}, \"name\": \"\", \"offsetgroup\": \"\", \"orientation\": \"v\", \"showlegend\": false, \"text\": [66.0, 65.0, 64.9, 59.3, 59.2, 58.5, 56.7, 56.5, 55.3, 55.0], \"textfont\": {\"color\": \"#000000\", \"size\": 14}, \"textposition\": \"outside\", \"texttemplate\": \"%{text}%\", \"type\": \"bar\", \"x\": [\"Viego\", \"Kennen\", \"Wukong\", \"Camille\", \"Gwen\", \"Jax\", \"Akali\", \"Gnar\", \"Renekton\", \"Nasus\"], \"xaxis\": \"x\", \"y\": [66.0, 65.0, 64.9, 59.3, 59.2, 58.5, 56.7, 56.5, 55.3, 55.0], \"yaxis\": \"y\"}],                        {\"barmode\": \"relative\", \"coloraxis\": {\"colorbar\": {\"title\": {\"text\": \"Win Percentage\"}}, \"colorscale\": [[0.0, \"rgb(211, 242, 163)\"], [0.16666666666666666, \"rgb(151, 225, 150)\"], [0.3333333333333333, \"rgb(108, 192, 139)\"], [0.5, \"rgb(76, 155, 130)\"], [0.6666666666666666, \"rgb(33, 122, 121)\"], [0.8333333333333334, \"rgb(16, 89, 101)\"], [1.0, \"rgb(7, 64, 80)\"]], \"showscale\": false}, \"height\": 600, \"legend\": {\"tracegroupgap\": 0}, \"paper_bgcolor\": \"rgb(0,0,0,0)\", \"plot_bgcolor\": \"rgb(0,0,0,0)\", \"template\": {\"data\": {\"bar\": [{\"error_x\": {\"color\": \"#2a3f5f\"}, \"error_y\": {\"color\": \"#2a3f5f\"}, \"marker\": {\"line\": {\"color\": \"#E5ECF6\", \"width\": 0.5}}, \"type\": \"bar\"}], \"barpolar\": [{\"marker\": {\"line\": {\"color\": \"#E5ECF6\", \"width\": 0.5}}, \"type\": \"barpolar\"}], \"carpet\": [{\"aaxis\": {\"endlinecolor\": \"#2a3f5f\", \"gridcolor\": \"white\", \"linecolor\": \"white\", \"minorgridcolor\": \"white\", \"startlinecolor\": \"#2a3f5f\"}, \"baxis\": {\"endlinecolor\": \"#2a3f5f\", \"gridcolor\": \"white\", \"linecolor\": \"white\", \"minorgridcolor\": \"white\", \"startlinecolor\": \"#2a3f5f\"}, \"type\": \"carpet\"}], \"choropleth\": [{\"colorbar\": {\"outlinewidth\": 0, \"ticks\": \"\"}, \"type\": \"choropleth\"}], \"contour\": [{\"colorbar\": {\"outlinewidth\": 0, \"ticks\": \"\"}, \"colorscale\": [[0.0, \"#0d0887\"], [0.1111111111111111, \"#46039f\"], [0.2222222222222222, \"#7201a8\"], [0.3333333333333333, \"#9c179e\"], [0.4444444444444444, \"#bd3786\"], [0.5555555555555556, \"#d8576b\"], [0.6666666666666666, \"#ed7953\"], [0.7777777777777778, \"#fb9f3a\"], [0.8888888888888888, \"#fdca26\"], [1.0, \"#f0f921\"]], \"type\": \"contour\"}], \"contourcarpet\": [{\"colorbar\": {\"outlinewidth\": 0, \"ticks\": \"\"}, \"type\": \"contourcarpet\"}], \"heatmap\": [{\"colorbar\": {\"outlinewidth\": 0, \"ticks\": \"\"}, \"colorscale\": [[0.0, \"#0d0887\"], [0.1111111111111111, \"#46039f\"], [0.2222222222222222, \"#7201a8\"], [0.3333333333333333, \"#9c179e\"], [0.4444444444444444, \"#bd3786\"], [0.5555555555555556, \"#d8576b\"], [0.6666666666666666, \"#ed7953\"], [0.7777777777777778, \"#fb9f3a\"], [0.8888888888888888, \"#fdca26\"], [1.0, \"#f0f921\"]], \"type\": \"heatmap\"}], \"heatmapgl\": [{\"colorbar\": {\"outlinewidth\": 0, \"ticks\": \"\"}, \"colorscale\": [[0.0, \"#0d0887\"], [0.1111111111111111, \"#46039f\"], [0.2222222222222222, \"#7201a8\"], [0.3333333333333333, \"#9c179e\"], [0.4444444444444444, \"#bd3786\"], [0.5555555555555556, \"#d8576b\"], [0.6666666666666666, \"#ed7953\"], [0.7777777777777778, \"#fb9f3a\"], [0.8888888888888888, \"#fdca26\"], [1.0, \"#f0f921\"]], \"type\": \"heatmapgl\"}], \"histogram\": [{\"marker\": {\"colorbar\": {\"outlinewidth\": 0, \"ticks\": \"\"}}, \"type\": \"histogram\"}], \"histogram2d\": [{\"colorbar\": {\"outlinewidth\": 0, \"ticks\": \"\"}, \"colorscale\": [[0.0, \"#0d0887\"], [0.1111111111111111, \"#46039f\"], [0.2222222222222222, \"#7201a8\"], [0.3333333333333333, \"#9c179e\"], [0.4444444444444444, \"#bd3786\"], [0.5555555555555556, \"#d8576b\"], [0.6666666666666666, \"#ed7953\"], [0.7777777777777778, \"#fb9f3a\"], [0.8888888888888888, \"#fdca26\"], [1.0, \"#f0f921\"]], \"type\": \"histogram2d\"}], \"histogram2dcontour\": [{\"colorbar\": {\"outlinewidth\": 0, \"ticks\": \"\"}, \"colorscale\": [[0.0, \"#0d0887\"], [0.1111111111111111, \"#46039f\"], [0.2222222222222222, \"#7201a8\"], [0.3333333333333333, \"#9c179e\"], [0.4444444444444444, \"#bd3786\"], [0.5555555555555556, \"#d8576b\"], [0.6666666666666666, \"#ed7953\"], [0.7777777777777778, \"#fb9f3a\"], [0.8888888888888888, \"#fdca26\"], [1.0, \"#f0f921\"]], \"type\": \"histogram2dcontour\"}], \"mesh3d\": [{\"colorbar\": {\"outlinewidth\": 0, \"ticks\": \"\"}, \"type\": \"mesh3d\"}], \"parcoords\": [{\"line\": {\"colorbar\": {\"outlinewidth\": 0, \"ticks\": \"\"}}, \"type\": \"parcoords\"}], \"pie\": [{\"automargin\": true, \"type\": \"pie\"}], \"scatter\": [{\"marker\": {\"colorbar\": {\"outlinewidth\": 0, \"ticks\": \"\"}}, \"type\": \"scatter\"}], \"scatter3d\": [{\"line\": {\"colorbar\": {\"outlinewidth\": 0, \"ticks\": \"\"}}, \"marker\": {\"colorbar\": {\"outlinewidth\": 0, \"ticks\": \"\"}}, \"type\": \"scatter3d\"}], \"scattercarpet\": [{\"marker\": {\"colorbar\": {\"outlinewidth\": 0, \"ticks\": \"\"}}, \"type\": \"scattercarpet\"}], \"scattergeo\": [{\"marker\": {\"colorbar\": {\"outlinewidth\": 0, \"ticks\": \"\"}}, \"type\": \"scattergeo\"}], \"scattergl\": [{\"marker\": {\"colorbar\": {\"outlinewidth\": 0, \"ticks\": \"\"}}, \"type\": \"scattergl\"}], \"scattermapbox\": [{\"marker\": {\"colorbar\": {\"outlinewidth\": 0, \"ticks\": \"\"}}, \"type\": \"scattermapbox\"}], \"scatterpolar\": [{\"marker\": {\"colorbar\": {\"outlinewidth\": 0, \"ticks\": \"\"}}, \"type\": \"scatterpolar\"}], \"scatterpolargl\": [{\"marker\": {\"colorbar\": {\"outlinewidth\": 0, \"ticks\": \"\"}}, \"type\": \"scatterpolargl\"}], \"scatterternary\": [{\"marker\": {\"colorbar\": {\"outlinewidth\": 0, \"ticks\": \"\"}}, \"type\": \"scatterternary\"}], \"surface\": [{\"colorbar\": {\"outlinewidth\": 0, \"ticks\": \"\"}, \"colorscale\": [[0.0, \"#0d0887\"], [0.1111111111111111, \"#46039f\"], [0.2222222222222222, \"#7201a8\"], [0.3333333333333333, \"#9c179e\"], [0.4444444444444444, \"#bd3786\"], [0.5555555555555556, \"#d8576b\"], [0.6666666666666666, \"#ed7953\"], [0.7777777777777778, \"#fb9f3a\"], [0.8888888888888888, \"#fdca26\"], [1.0, \"#f0f921\"]], \"type\": \"surface\"}], \"table\": [{\"cells\": {\"fill\": {\"color\": \"#EBF0F8\"}, \"line\": {\"color\": \"white\"}}, \"header\": {\"fill\": {\"color\": \"#C8D4E3\"}, \"line\": {\"color\": \"white\"}}, \"type\": \"table\"}]}, \"layout\": {\"annotationdefaults\": {\"arrowcolor\": \"#2a3f5f\", \"arrowhead\": 0, \"arrowwidth\": 1}, \"autotypenumbers\": \"strict\", \"coloraxis\": {\"colorbar\": {\"outlinewidth\": 0, \"ticks\": \"\"}}, \"colorscale\": {\"diverging\": [[0, \"#8e0152\"], [0.1, \"#c51b7d\"], [0.2, \"#de77ae\"], [0.3, \"#f1b6da\"], [0.4, \"#fde0ef\"], [0.5, \"#f7f7f7\"], [0.6, \"#e6f5d0\"], [0.7, \"#b8e186\"], [0.8, \"#7fbc41\"], [0.9, \"#4d9221\"], [1, \"#276419\"]], \"sequential\": [[0.0, \"#0d0887\"], [0.1111111111111111, \"#46039f\"], [0.2222222222222222, \"#7201a8\"], [0.3333333333333333, \"#9c179e\"], [0.4444444444444444, \"#bd3786\"], [0.5555555555555556, \"#d8576b\"], [0.6666666666666666, \"#ed7953\"], [0.7777777777777778, \"#fb9f3a\"], [0.8888888888888888, \"#fdca26\"], [1.0, \"#f0f921\"]], \"sequentialminus\": [[0.0, \"#0d0887\"], [0.1111111111111111, \"#46039f\"], [0.2222222222222222, \"#7201a8\"], [0.3333333333333333, \"#9c179e\"], [0.4444444444444444, \"#bd3786\"], [0.5555555555555556, \"#d8576b\"], [0.6666666666666666, \"#ed7953\"], [0.7777777777777778, \"#fb9f3a\"], [0.8888888888888888, \"#fdca26\"], [1.0, \"#f0f921\"]]}, \"colorway\": [\"#636efa\", \"#EF553B\", \"#00cc96\", \"#ab63fa\", \"#FFA15A\", \"#19d3f3\", \"#FF6692\", \"#B6E880\", \"#FF97FF\", \"#FECB52\"], \"font\": {\"color\": \"#2a3f5f\"}, \"geo\": {\"bgcolor\": \"white\", \"lakecolor\": \"white\", \"landcolor\": \"#E5ECF6\", \"showlakes\": true, \"showland\": true, \"subunitcolor\": \"white\"}, \"hoverlabel\": {\"align\": \"left\"}, \"hovermode\": \"closest\", \"mapbox\": {\"style\": \"light\"}, \"paper_bgcolor\": \"white\", \"plot_bgcolor\": \"#E5ECF6\", \"polar\": {\"angularaxis\": {\"gridcolor\": \"white\", \"linecolor\": \"white\", \"ticks\": \"\"}, \"bgcolor\": \"#E5ECF6\", \"radialaxis\": {\"gridcolor\": \"white\", \"linecolor\": \"white\", \"ticks\": \"\"}}, \"scene\": {\"xaxis\": {\"backgroundcolor\": \"#E5ECF6\", \"gridcolor\": \"white\", \"gridwidth\": 2, \"linecolor\": \"white\", \"showbackground\": true, \"ticks\": \"\", \"zerolinecolor\": \"white\"}, \"yaxis\": {\"backgroundcolor\": \"#E5ECF6\", \"gridcolor\": \"white\", \"gridwidth\": 2, \"linecolor\": \"white\", \"showbackground\": true, \"ticks\": \"\", \"zerolinecolor\": \"white\"}, \"zaxis\": {\"backgroundcolor\": \"#E5ECF6\", \"gridcolor\": \"white\", \"gridwidth\": 2, \"linecolor\": \"white\", \"showbackground\": true, \"ticks\": \"\", \"zerolinecolor\": \"white\"}}, \"shapedefaults\": {\"line\": {\"color\": \"#2a3f5f\"}}, \"ternary\": {\"aaxis\": {\"gridcolor\": \"white\", \"linecolor\": \"white\", \"ticks\": \"\"}, \"baxis\": {\"gridcolor\": \"white\", \"linecolor\": \"white\", \"ticks\": \"\"}, \"bgcolor\": \"#E5ECF6\", \"caxis\": {\"gridcolor\": \"white\", \"linecolor\": \"white\", \"ticks\": \"\"}}, \"title\": {\"x\": 0.05}, \"xaxis\": {\"automargin\": true, \"gridcolor\": \"white\", \"linecolor\": \"white\", \"ticks\": \"\", \"title\": {\"standoff\": 15}, \"zerolinecolor\": \"white\", \"zerolinewidth\": 2}, \"yaxis\": {\"automargin\": true, \"gridcolor\": \"white\", \"linecolor\": \"white\", \"ticks\": \"\", \"title\": {\"standoff\": 15}, \"zerolinecolor\": \"white\", \"zerolinewidth\": 2}}}, \"title\": {\"text\": \"Top 10 Win Rates for Top Position\", \"x\": 0.5}, \"width\": 800, \"xaxis\": {\"anchor\": \"y\", \"categoryorder\": \"total ascending\", \"domain\": [0.0, 1.0], \"title\": {\"text\": \"Champion\"}}, \"yaxis\": {\"anchor\": \"x\", \"domain\": [0.0, 1.0], \"ticksuffix\": \"%\", \"title\": {\"text\": \"Win Percentage\"}, \"visible\": false}},                        {\"responsive\": true}                    ).then(function(){\n                            \nvar gd = document.getElementById('59fed8fe-2a1d-41f5-985f-b64c3f7a86e7');\nvar x = new MutationObserver(function (mutations, observer) {{\n        var display = window.getComputedStyle(gd).display;\n        if (!display || display === 'none') {{\n            console.log([gd, 'removed!']);\n            Plotly.purge(gd);\n            observer.disconnect();\n        }}\n}});\n\n// Listen for the removal of the full notebook cells\nvar notebookContainer = gd.closest('#notebook-container');\nif (notebookContainer) {{\n    x.observe(notebookContainer, {childList: true});\n}}\n\n// Listen for the clearing of the current output cell\nvar outputEl = gd.closest('.output');\nif (outputEl) {{\n    x.observe(outputEl, {childList: true});\n}}\n\n                        })                };                });            </script>        </div>"
     },
     "metadata": {}
    },
    {
     "output_type": "display_data",
     "data": {
      "text/html": "        <script type=\"text/javascript\">\n        window.PlotlyConfig = {MathJaxConfig: 'local'};\n        if (window.MathJax) {MathJax.Hub.Config({SVG: {font: \"STIX-Web\"}});}\n        if (typeof require !== 'undefined') {\n        require.undef(\"plotly\");\n        requirejs.config({\n            paths: {\n                'plotly': ['https://cdn.plot.ly/plotly-latest.min']\n            }\n        });\n        require(['plotly'], function(Plotly) {\n            window._Plotly = Plotly;\n        });\n        }\n        </script>\n        "
     },
     "metadata": {}
    },
    {
     "output_type": "display_data",
     "data": {
      "text/html": "<div>                            <div id=\"7755ae75-ae7f-4147-8e9b-117e3b87bc1a\" class=\"plotly-graph-div\" style=\"height:600px; width:800px;\"></div>            <script type=\"text/javascript\">                require([\"plotly\"], function(Plotly) {                    window.PLOTLYENV=window.PLOTLYENV || {};                                    if (document.getElementById(\"7755ae75-ae7f-4147-8e9b-117e3b87bc1a\")) {                    Plotly.newPlot(                        \"7755ae75-ae7f-4147-8e9b-117e3b87bc1a\",                        [{\"alignmentgroup\": \"True\", \"hovertemplate\": \"Champion=%{x}<br>Win Percentage=%{marker.color}<extra></extra>\", \"insidetextanchor\": \"end\", \"legendgroup\": \"\", \"marker\": {\"color\": [72.2, 67.6, 67.1, 65.7, 64.4, 62.8, 60.6, 58.8, 58.8, 58.5], \"coloraxis\": \"coloraxis\"}, \"name\": \"\", \"offsetgroup\": \"\", \"orientation\": \"v\", \"showlegend\": false, \"text\": [72.2, 67.6, 67.1, 65.7, 64.4, 62.8, 60.6, 58.8, 58.8, 58.5], \"textfont\": {\"color\": \"#000000\", \"size\": 14}, \"textposition\": \"outside\", \"texttemplate\": \"%{text}%\", \"type\": \"bar\", \"x\": [\"Leblanc\", \"Nocturne\", \"Lulu\", \"Tristana\", \"Rumble\", \"Annie\", \"LeeSin\", \"Orianna\", \"TwistedFate\", \"Viktor\"], \"xaxis\": \"x\", \"y\": [72.2, 67.6, 67.1, 65.7, 64.4, 62.8, 60.6, 58.8, 58.8, 58.5], \"yaxis\": \"y\"}],                        {\"barmode\": \"relative\", \"coloraxis\": {\"colorbar\": {\"title\": {\"text\": \"Win Percentage\"}}, \"colorscale\": [[0.0, \"rgb(211, 242, 163)\"], [0.16666666666666666, \"rgb(151, 225, 150)\"], [0.3333333333333333, \"rgb(108, 192, 139)\"], [0.5, \"rgb(76, 155, 130)\"], [0.6666666666666666, \"rgb(33, 122, 121)\"], [0.8333333333333334, \"rgb(16, 89, 101)\"], [1.0, \"rgb(7, 64, 80)\"]], \"showscale\": false}, \"height\": 600, \"legend\": {\"tracegroupgap\": 0}, \"paper_bgcolor\": \"rgb(0,0,0,0)\", \"plot_bgcolor\": \"rgb(0,0,0,0)\", \"template\": {\"data\": {\"bar\": [{\"error_x\": {\"color\": \"#2a3f5f\"}, \"error_y\": {\"color\": \"#2a3f5f\"}, \"marker\": {\"line\": {\"color\": \"#E5ECF6\", \"width\": 0.5}}, \"type\": \"bar\"}], \"barpolar\": [{\"marker\": {\"line\": {\"color\": \"#E5ECF6\", \"width\": 0.5}}, \"type\": \"barpolar\"}], \"carpet\": [{\"aaxis\": {\"endlinecolor\": \"#2a3f5f\", \"gridcolor\": \"white\", \"linecolor\": \"white\", \"minorgridcolor\": \"white\", \"startlinecolor\": \"#2a3f5f\"}, \"baxis\": {\"endlinecolor\": \"#2a3f5f\", \"gridcolor\": \"white\", \"linecolor\": \"white\", \"minorgridcolor\": \"white\", \"startlinecolor\": \"#2a3f5f\"}, \"type\": \"carpet\"}], \"choropleth\": [{\"colorbar\": {\"outlinewidth\": 0, \"ticks\": \"\"}, \"type\": \"choropleth\"}], \"contour\": [{\"colorbar\": {\"outlinewidth\": 0, \"ticks\": \"\"}, \"colorscale\": [[0.0, \"#0d0887\"], [0.1111111111111111, \"#46039f\"], [0.2222222222222222, \"#7201a8\"], [0.3333333333333333, \"#9c179e\"], [0.4444444444444444, \"#bd3786\"], [0.5555555555555556, \"#d8576b\"], [0.6666666666666666, \"#ed7953\"], [0.7777777777777778, \"#fb9f3a\"], [0.8888888888888888, \"#fdca26\"], [1.0, \"#f0f921\"]], \"type\": \"contour\"}], \"contourcarpet\": [{\"colorbar\": {\"outlinewidth\": 0, \"ticks\": \"\"}, \"type\": \"contourcarpet\"}], \"heatmap\": [{\"colorbar\": {\"outlinewidth\": 0, \"ticks\": \"\"}, \"colorscale\": [[0.0, \"#0d0887\"], [0.1111111111111111, \"#46039f\"], [0.2222222222222222, \"#7201a8\"], [0.3333333333333333, \"#9c179e\"], [0.4444444444444444, \"#bd3786\"], [0.5555555555555556, \"#d8576b\"], [0.6666666666666666, \"#ed7953\"], [0.7777777777777778, \"#fb9f3a\"], [0.8888888888888888, \"#fdca26\"], [1.0, \"#f0f921\"]], \"type\": \"heatmap\"}], \"heatmapgl\": [{\"colorbar\": {\"outlinewidth\": 0, \"ticks\": \"\"}, \"colorscale\": [[0.0, \"#0d0887\"], [0.1111111111111111, \"#46039f\"], [0.2222222222222222, \"#7201a8\"], [0.3333333333333333, \"#9c179e\"], [0.4444444444444444, \"#bd3786\"], [0.5555555555555556, \"#d8576b\"], [0.6666666666666666, \"#ed7953\"], [0.7777777777777778, \"#fb9f3a\"], [0.8888888888888888, \"#fdca26\"], [1.0, \"#f0f921\"]], \"type\": \"heatmapgl\"}], \"histogram\": [{\"marker\": {\"colorbar\": {\"outlinewidth\": 0, \"ticks\": \"\"}}, \"type\": \"histogram\"}], \"histogram2d\": [{\"colorbar\": {\"outlinewidth\": 0, \"ticks\": \"\"}, \"colorscale\": [[0.0, \"#0d0887\"], [0.1111111111111111, \"#46039f\"], [0.2222222222222222, \"#7201a8\"], [0.3333333333333333, \"#9c179e\"], [0.4444444444444444, \"#bd3786\"], [0.5555555555555556, \"#d8576b\"], [0.6666666666666666, \"#ed7953\"], [0.7777777777777778, \"#fb9f3a\"], [0.8888888888888888, \"#fdca26\"], [1.0, \"#f0f921\"]], \"type\": \"histogram2d\"}], \"histogram2dcontour\": [{\"colorbar\": {\"outlinewidth\": 0, \"ticks\": \"\"}, \"colorscale\": [[0.0, \"#0d0887\"], [0.1111111111111111, \"#46039f\"], [0.2222222222222222, \"#7201a8\"], [0.3333333333333333, \"#9c179e\"], [0.4444444444444444, \"#bd3786\"], [0.5555555555555556, \"#d8576b\"], [0.6666666666666666, \"#ed7953\"], [0.7777777777777778, \"#fb9f3a\"], [0.8888888888888888, \"#fdca26\"], [1.0, \"#f0f921\"]], \"type\": \"histogram2dcontour\"}], \"mesh3d\": [{\"colorbar\": {\"outlinewidth\": 0, \"ticks\": \"\"}, \"type\": \"mesh3d\"}], \"parcoords\": [{\"line\": {\"colorbar\": {\"outlinewidth\": 0, \"ticks\": \"\"}}, \"type\": \"parcoords\"}], \"pie\": [{\"automargin\": true, \"type\": \"pie\"}], \"scatter\": [{\"marker\": {\"colorbar\": {\"outlinewidth\": 0, \"ticks\": \"\"}}, \"type\": \"scatter\"}], \"scatter3d\": [{\"line\": {\"colorbar\": {\"outlinewidth\": 0, \"ticks\": \"\"}}, \"marker\": {\"colorbar\": {\"outlinewidth\": 0, \"ticks\": \"\"}}, \"type\": \"scatter3d\"}], \"scattercarpet\": [{\"marker\": {\"colorbar\": {\"outlinewidth\": 0, \"ticks\": \"\"}}, \"type\": \"scattercarpet\"}], \"scattergeo\": [{\"marker\": {\"colorbar\": {\"outlinewidth\": 0, \"ticks\": \"\"}}, \"type\": \"scattergeo\"}], \"scattergl\": [{\"marker\": {\"colorbar\": {\"outlinewidth\": 0, \"ticks\": \"\"}}, \"type\": \"scattergl\"}], \"scattermapbox\": [{\"marker\": {\"colorbar\": {\"outlinewidth\": 0, \"ticks\": \"\"}}, \"type\": \"scattermapbox\"}], \"scatterpolar\": [{\"marker\": {\"colorbar\": {\"outlinewidth\": 0, \"ticks\": \"\"}}, \"type\": \"scatterpolar\"}], \"scatterpolargl\": [{\"marker\": {\"colorbar\": {\"outlinewidth\": 0, \"ticks\": \"\"}}, \"type\": \"scatterpolargl\"}], \"scatterternary\": [{\"marker\": {\"colorbar\": {\"outlinewidth\": 0, \"ticks\": \"\"}}, \"type\": \"scatterternary\"}], \"surface\": [{\"colorbar\": {\"outlinewidth\": 0, \"ticks\": \"\"}, \"colorscale\": [[0.0, \"#0d0887\"], [0.1111111111111111, \"#46039f\"], [0.2222222222222222, \"#7201a8\"], [0.3333333333333333, \"#9c179e\"], [0.4444444444444444, \"#bd3786\"], [0.5555555555555556, \"#d8576b\"], [0.6666666666666666, \"#ed7953\"], [0.7777777777777778, \"#fb9f3a\"], [0.8888888888888888, \"#fdca26\"], [1.0, \"#f0f921\"]], \"type\": \"surface\"}], \"table\": [{\"cells\": {\"fill\": {\"color\": \"#EBF0F8\"}, \"line\": {\"color\": \"white\"}}, \"header\": {\"fill\": {\"color\": \"#C8D4E3\"}, \"line\": {\"color\": \"white\"}}, \"type\": \"table\"}]}, \"layout\": {\"annotationdefaults\": {\"arrowcolor\": \"#2a3f5f\", \"arrowhead\": 0, \"arrowwidth\": 1}, \"autotypenumbers\": \"strict\", \"coloraxis\": {\"colorbar\": {\"outlinewidth\": 0, \"ticks\": \"\"}}, \"colorscale\": {\"diverging\": [[0, \"#8e0152\"], [0.1, \"#c51b7d\"], [0.2, \"#de77ae\"], [0.3, \"#f1b6da\"], [0.4, \"#fde0ef\"], [0.5, \"#f7f7f7\"], [0.6, \"#e6f5d0\"], [0.7, \"#b8e186\"], [0.8, \"#7fbc41\"], [0.9, \"#4d9221\"], [1, \"#276419\"]], \"sequential\": [[0.0, \"#0d0887\"], [0.1111111111111111, \"#46039f\"], [0.2222222222222222, \"#7201a8\"], [0.3333333333333333, \"#9c179e\"], [0.4444444444444444, \"#bd3786\"], [0.5555555555555556, \"#d8576b\"], [0.6666666666666666, \"#ed7953\"], [0.7777777777777778, \"#fb9f3a\"], [0.8888888888888888, \"#fdca26\"], [1.0, \"#f0f921\"]], \"sequentialminus\": [[0.0, \"#0d0887\"], [0.1111111111111111, \"#46039f\"], [0.2222222222222222, \"#7201a8\"], [0.3333333333333333, \"#9c179e\"], [0.4444444444444444, \"#bd3786\"], [0.5555555555555556, \"#d8576b\"], [0.6666666666666666, \"#ed7953\"], [0.7777777777777778, \"#fb9f3a\"], [0.8888888888888888, \"#fdca26\"], [1.0, \"#f0f921\"]]}, \"colorway\": [\"#636efa\", \"#EF553B\", \"#00cc96\", \"#ab63fa\", \"#FFA15A\", \"#19d3f3\", \"#FF6692\", \"#B6E880\", \"#FF97FF\", \"#FECB52\"], \"font\": {\"color\": \"#2a3f5f\"}, \"geo\": {\"bgcolor\": \"white\", \"lakecolor\": \"white\", \"landcolor\": \"#E5ECF6\", \"showlakes\": true, \"showland\": true, \"subunitcolor\": \"white\"}, \"hoverlabel\": {\"align\": \"left\"}, \"hovermode\": \"closest\", \"mapbox\": {\"style\": \"light\"}, \"paper_bgcolor\": \"white\", \"plot_bgcolor\": \"#E5ECF6\", \"polar\": {\"angularaxis\": {\"gridcolor\": \"white\", \"linecolor\": \"white\", \"ticks\": \"\"}, \"bgcolor\": \"#E5ECF6\", \"radialaxis\": {\"gridcolor\": \"white\", \"linecolor\": \"white\", \"ticks\": \"\"}}, \"scene\": {\"xaxis\": {\"backgroundcolor\": \"#E5ECF6\", \"gridcolor\": \"white\", \"gridwidth\": 2, \"linecolor\": \"white\", \"showbackground\": true, \"ticks\": \"\", \"zerolinecolor\": \"white\"}, \"yaxis\": {\"backgroundcolor\": \"#E5ECF6\", \"gridcolor\": \"white\", \"gridwidth\": 2, \"linecolor\": \"white\", \"showbackground\": true, \"ticks\": \"\", \"zerolinecolor\": \"white\"}, \"zaxis\": {\"backgroundcolor\": \"#E5ECF6\", \"gridcolor\": \"white\", \"gridwidth\": 2, \"linecolor\": \"white\", \"showbackground\": true, \"ticks\": \"\", \"zerolinecolor\": \"white\"}}, \"shapedefaults\": {\"line\": {\"color\": \"#2a3f5f\"}}, \"ternary\": {\"aaxis\": {\"gridcolor\": \"white\", \"linecolor\": \"white\", \"ticks\": \"\"}, \"baxis\": {\"gridcolor\": \"white\", \"linecolor\": \"white\", \"ticks\": \"\"}, \"bgcolor\": \"#E5ECF6\", \"caxis\": {\"gridcolor\": \"white\", \"linecolor\": \"white\", \"ticks\": \"\"}}, \"title\": {\"x\": 0.05}, \"xaxis\": {\"automargin\": true, \"gridcolor\": \"white\", \"linecolor\": \"white\", \"ticks\": \"\", \"title\": {\"standoff\": 15}, \"zerolinecolor\": \"white\", \"zerolinewidth\": 2}, \"yaxis\": {\"automargin\": true, \"gridcolor\": \"white\", \"linecolor\": \"white\", \"ticks\": \"\", \"title\": {\"standoff\": 15}, \"zerolinecolor\": \"white\", \"zerolinewidth\": 2}}}, \"title\": {\"text\": \"Top 10 Win Rates for Middle Position\", \"x\": 0.5}, \"width\": 800, \"xaxis\": {\"anchor\": \"y\", \"categoryorder\": \"total ascending\", \"domain\": [0.0, 1.0], \"title\": {\"text\": \"Champion\"}}, \"yaxis\": {\"anchor\": \"x\", \"domain\": [0.0, 1.0], \"ticksuffix\": \"%\", \"title\": {\"text\": \"Win Percentage\"}, \"visible\": false}},                        {\"responsive\": true}                    ).then(function(){\n                            \nvar gd = document.getElementById('7755ae75-ae7f-4147-8e9b-117e3b87bc1a');\nvar x = new MutationObserver(function (mutations, observer) {{\n        var display = window.getComputedStyle(gd).display;\n        if (!display || display === 'none') {{\n            console.log([gd, 'removed!']);\n            Plotly.purge(gd);\n            observer.disconnect();\n        }}\n}});\n\n// Listen for the removal of the full notebook cells\nvar notebookContainer = gd.closest('#notebook-container');\nif (notebookContainer) {{\n    x.observe(notebookContainer, {childList: true});\n}}\n\n// Listen for the clearing of the current output cell\nvar outputEl = gd.closest('.output');\nif (outputEl) {{\n    x.observe(outputEl, {childList: true});\n}}\n\n                        })                };                });            </script>        </div>"
     },
     "metadata": {}
    },
    {
     "output_type": "display_data",
     "data": {
      "text/html": "        <script type=\"text/javascript\">\n        window.PlotlyConfig = {MathJaxConfig: 'local'};\n        if (window.MathJax) {MathJax.Hub.Config({SVG: {font: \"STIX-Web\"}});}\n        if (typeof require !== 'undefined') {\n        require.undef(\"plotly\");\n        requirejs.config({\n            paths: {\n                'plotly': ['https://cdn.plot.ly/plotly-latest.min']\n            }\n        });\n        require(['plotly'], function(Plotly) {\n            window._Plotly = Plotly;\n        });\n        }\n        </script>\n        "
     },
     "metadata": {}
    },
    {
     "output_type": "display_data",
     "data": {
      "text/html": "<div>                            <div id=\"ded7c13c-27f6-4b88-8fed-8cab67a1c7e1\" class=\"plotly-graph-div\" style=\"height:600px; width:800px;\"></div>            <script type=\"text/javascript\">                require([\"plotly\"], function(Plotly) {                    window.PLOTLYENV=window.PLOTLYENV || {};                                    if (document.getElementById(\"ded7c13c-27f6-4b88-8fed-8cab67a1c7e1\")) {                    Plotly.newPlot(                        \"ded7c13c-27f6-4b88-8fed-8cab67a1c7e1\",                        [{\"alignmentgroup\": \"True\", \"hovertemplate\": \"Champion=%{x}<br>Win Percentage=%{marker.color}<extra></extra>\", \"insidetextanchor\": \"end\", \"legendgroup\": \"\", \"marker\": {\"color\": [63.5, 62.5, 61.2, 59.8, 59.2, 59.1, 58.2, 58.1, 56.7, 55.7], \"coloraxis\": \"coloraxis\"}, \"name\": \"\", \"offsetgroup\": \"\", \"orientation\": \"v\", \"showlegend\": false, \"text\": [63.5, 62.5, 61.2, 59.8, 59.2, 59.1, 58.2, 58.1, 56.7, 55.7], \"textfont\": {\"color\": \"#000000\", \"size\": 14}, \"textposition\": \"outside\", \"texttemplate\": \"%{text}%\", \"type\": \"bar\", \"x\": [\"Hecarim\", \"Kindred\", \"Olaf\", \"Rumble\", \"Kayn\", \"Elise\", \"Ekko\", \"LeeSin\", \"XinZhao\", \"FiddleSticks\"], \"xaxis\": \"x\", \"y\": [63.5, 62.5, 61.2, 59.8, 59.2, 59.1, 58.2, 58.1, 56.7, 55.7], \"yaxis\": \"y\"}],                        {\"barmode\": \"relative\", \"coloraxis\": {\"colorbar\": {\"title\": {\"text\": \"Win Percentage\"}}, \"colorscale\": [[0.0, \"rgb(211, 242, 163)\"], [0.16666666666666666, \"rgb(151, 225, 150)\"], [0.3333333333333333, \"rgb(108, 192, 139)\"], [0.5, \"rgb(76, 155, 130)\"], [0.6666666666666666, \"rgb(33, 122, 121)\"], [0.8333333333333334, \"rgb(16, 89, 101)\"], [1.0, \"rgb(7, 64, 80)\"]], \"showscale\": false}, \"height\": 600, \"legend\": {\"tracegroupgap\": 0}, \"paper_bgcolor\": \"rgb(0,0,0,0)\", \"plot_bgcolor\": \"rgb(0,0,0,0)\", \"template\": {\"data\": {\"bar\": [{\"error_x\": {\"color\": \"#2a3f5f\"}, \"error_y\": {\"color\": \"#2a3f5f\"}, \"marker\": {\"line\": {\"color\": \"#E5ECF6\", \"width\": 0.5}}, \"type\": \"bar\"}], \"barpolar\": [{\"marker\": {\"line\": {\"color\": \"#E5ECF6\", \"width\": 0.5}}, \"type\": \"barpolar\"}], \"carpet\": [{\"aaxis\": {\"endlinecolor\": \"#2a3f5f\", \"gridcolor\": \"white\", \"linecolor\": \"white\", \"minorgridcolor\": \"white\", \"startlinecolor\": \"#2a3f5f\"}, \"baxis\": {\"endlinecolor\": \"#2a3f5f\", \"gridcolor\": \"white\", \"linecolor\": \"white\", \"minorgridcolor\": \"white\", \"startlinecolor\": \"#2a3f5f\"}, \"type\": \"carpet\"}], \"choropleth\": [{\"colorbar\": {\"outlinewidth\": 0, \"ticks\": \"\"}, \"type\": \"choropleth\"}], \"contour\": [{\"colorbar\": {\"outlinewidth\": 0, \"ticks\": \"\"}, \"colorscale\": [[0.0, \"#0d0887\"], [0.1111111111111111, \"#46039f\"], [0.2222222222222222, \"#7201a8\"], [0.3333333333333333, \"#9c179e\"], [0.4444444444444444, \"#bd3786\"], [0.5555555555555556, \"#d8576b\"], [0.6666666666666666, \"#ed7953\"], [0.7777777777777778, \"#fb9f3a\"], [0.8888888888888888, \"#fdca26\"], [1.0, \"#f0f921\"]], \"type\": \"contour\"}], \"contourcarpet\": [{\"colorbar\": {\"outlinewidth\": 0, \"ticks\": \"\"}, \"type\": \"contourcarpet\"}], \"heatmap\": [{\"colorbar\": {\"outlinewidth\": 0, \"ticks\": \"\"}, \"colorscale\": [[0.0, \"#0d0887\"], [0.1111111111111111, \"#46039f\"], [0.2222222222222222, \"#7201a8\"], [0.3333333333333333, \"#9c179e\"], [0.4444444444444444, \"#bd3786\"], [0.5555555555555556, \"#d8576b\"], [0.6666666666666666, \"#ed7953\"], [0.7777777777777778, \"#fb9f3a\"], [0.8888888888888888, \"#fdca26\"], [1.0, \"#f0f921\"]], \"type\": \"heatmap\"}], \"heatmapgl\": [{\"colorbar\": {\"outlinewidth\": 0, \"ticks\": \"\"}, \"colorscale\": [[0.0, \"#0d0887\"], [0.1111111111111111, \"#46039f\"], [0.2222222222222222, \"#7201a8\"], [0.3333333333333333, \"#9c179e\"], [0.4444444444444444, \"#bd3786\"], [0.5555555555555556, \"#d8576b\"], [0.6666666666666666, \"#ed7953\"], [0.7777777777777778, \"#fb9f3a\"], [0.8888888888888888, \"#fdca26\"], [1.0, \"#f0f921\"]], \"type\": \"heatmapgl\"}], \"histogram\": [{\"marker\": {\"colorbar\": {\"outlinewidth\": 0, \"ticks\": \"\"}}, \"type\": \"histogram\"}], \"histogram2d\": [{\"colorbar\": {\"outlinewidth\": 0, \"ticks\": \"\"}, \"colorscale\": [[0.0, \"#0d0887\"], [0.1111111111111111, \"#46039f\"], [0.2222222222222222, \"#7201a8\"], [0.3333333333333333, \"#9c179e\"], [0.4444444444444444, \"#bd3786\"], [0.5555555555555556, \"#d8576b\"], [0.6666666666666666, \"#ed7953\"], [0.7777777777777778, \"#fb9f3a\"], [0.8888888888888888, \"#fdca26\"], [1.0, \"#f0f921\"]], \"type\": \"histogram2d\"}], \"histogram2dcontour\": [{\"colorbar\": {\"outlinewidth\": 0, \"ticks\": \"\"}, \"colorscale\": [[0.0, \"#0d0887\"], [0.1111111111111111, \"#46039f\"], [0.2222222222222222, \"#7201a8\"], [0.3333333333333333, \"#9c179e\"], [0.4444444444444444, \"#bd3786\"], [0.5555555555555556, \"#d8576b\"], [0.6666666666666666, \"#ed7953\"], [0.7777777777777778, \"#fb9f3a\"], [0.8888888888888888, \"#fdca26\"], [1.0, \"#f0f921\"]], \"type\": \"histogram2dcontour\"}], \"mesh3d\": [{\"colorbar\": {\"outlinewidth\": 0, \"ticks\": \"\"}, \"type\": \"mesh3d\"}], \"parcoords\": [{\"line\": {\"colorbar\": {\"outlinewidth\": 0, \"ticks\": \"\"}}, \"type\": \"parcoords\"}], \"pie\": [{\"automargin\": true, \"type\": \"pie\"}], \"scatter\": [{\"marker\": {\"colorbar\": {\"outlinewidth\": 0, \"ticks\": \"\"}}, \"type\": \"scatter\"}], \"scatter3d\": [{\"line\": {\"colorbar\": {\"outlinewidth\": 0, \"ticks\": \"\"}}, \"marker\": {\"colorbar\": {\"outlinewidth\": 0, \"ticks\": \"\"}}, \"type\": \"scatter3d\"}], \"scattercarpet\": [{\"marker\": {\"colorbar\": {\"outlinewidth\": 0, \"ticks\": \"\"}}, \"type\": \"scattercarpet\"}], \"scattergeo\": [{\"marker\": {\"colorbar\": {\"outlinewidth\": 0, \"ticks\": \"\"}}, \"type\": \"scattergeo\"}], \"scattergl\": [{\"marker\": {\"colorbar\": {\"outlinewidth\": 0, \"ticks\": \"\"}}, \"type\": \"scattergl\"}], \"scattermapbox\": [{\"marker\": {\"colorbar\": {\"outlinewidth\": 0, \"ticks\": \"\"}}, \"type\": \"scattermapbox\"}], \"scatterpolar\": [{\"marker\": {\"colorbar\": {\"outlinewidth\": 0, \"ticks\": \"\"}}, \"type\": \"scatterpolar\"}], \"scatterpolargl\": [{\"marker\": {\"colorbar\": {\"outlinewidth\": 0, \"ticks\": \"\"}}, \"type\": \"scatterpolargl\"}], \"scatterternary\": [{\"marker\": {\"colorbar\": {\"outlinewidth\": 0, \"ticks\": \"\"}}, \"type\": \"scatterternary\"}], \"surface\": [{\"colorbar\": {\"outlinewidth\": 0, \"ticks\": \"\"}, \"colorscale\": [[0.0, \"#0d0887\"], [0.1111111111111111, \"#46039f\"], [0.2222222222222222, \"#7201a8\"], [0.3333333333333333, \"#9c179e\"], [0.4444444444444444, \"#bd3786\"], [0.5555555555555556, \"#d8576b\"], [0.6666666666666666, \"#ed7953\"], [0.7777777777777778, \"#fb9f3a\"], [0.8888888888888888, \"#fdca26\"], [1.0, \"#f0f921\"]], \"type\": \"surface\"}], \"table\": [{\"cells\": {\"fill\": {\"color\": \"#EBF0F8\"}, \"line\": {\"color\": \"white\"}}, \"header\": {\"fill\": {\"color\": \"#C8D4E3\"}, \"line\": {\"color\": \"white\"}}, \"type\": \"table\"}]}, \"layout\": {\"annotationdefaults\": {\"arrowcolor\": \"#2a3f5f\", \"arrowhead\": 0, \"arrowwidth\": 1}, \"autotypenumbers\": \"strict\", \"coloraxis\": {\"colorbar\": {\"outlinewidth\": 0, \"ticks\": \"\"}}, \"colorscale\": {\"diverging\": [[0, \"#8e0152\"], [0.1, \"#c51b7d\"], [0.2, \"#de77ae\"], [0.3, \"#f1b6da\"], [0.4, \"#fde0ef\"], [0.5, \"#f7f7f7\"], [0.6, \"#e6f5d0\"], [0.7, \"#b8e186\"], [0.8, \"#7fbc41\"], [0.9, \"#4d9221\"], [1, \"#276419\"]], \"sequential\": [[0.0, \"#0d0887\"], [0.1111111111111111, \"#46039f\"], [0.2222222222222222, \"#7201a8\"], [0.3333333333333333, \"#9c179e\"], [0.4444444444444444, \"#bd3786\"], [0.5555555555555556, \"#d8576b\"], [0.6666666666666666, \"#ed7953\"], [0.7777777777777778, \"#fb9f3a\"], [0.8888888888888888, \"#fdca26\"], [1.0, \"#f0f921\"]], \"sequentialminus\": [[0.0, \"#0d0887\"], [0.1111111111111111, \"#46039f\"], [0.2222222222222222, \"#7201a8\"], [0.3333333333333333, \"#9c179e\"], [0.4444444444444444, \"#bd3786\"], [0.5555555555555556, \"#d8576b\"], [0.6666666666666666, \"#ed7953\"], [0.7777777777777778, \"#fb9f3a\"], [0.8888888888888888, \"#fdca26\"], [1.0, \"#f0f921\"]]}, \"colorway\": [\"#636efa\", \"#EF553B\", \"#00cc96\", \"#ab63fa\", \"#FFA15A\", \"#19d3f3\", \"#FF6692\", \"#B6E880\", \"#FF97FF\", \"#FECB52\"], \"font\": {\"color\": \"#2a3f5f\"}, \"geo\": {\"bgcolor\": \"white\", \"lakecolor\": \"white\", \"landcolor\": \"#E5ECF6\", \"showlakes\": true, \"showland\": true, \"subunitcolor\": \"white\"}, \"hoverlabel\": {\"align\": \"left\"}, \"hovermode\": \"closest\", \"mapbox\": {\"style\": \"light\"}, \"paper_bgcolor\": \"white\", \"plot_bgcolor\": \"#E5ECF6\", \"polar\": {\"angularaxis\": {\"gridcolor\": \"white\", \"linecolor\": \"white\", \"ticks\": \"\"}, \"bgcolor\": \"#E5ECF6\", \"radialaxis\": {\"gridcolor\": \"white\", \"linecolor\": \"white\", \"ticks\": \"\"}}, \"scene\": {\"xaxis\": {\"backgroundcolor\": \"#E5ECF6\", \"gridcolor\": \"white\", \"gridwidth\": 2, \"linecolor\": \"white\", \"showbackground\": true, \"ticks\": \"\", \"zerolinecolor\": \"white\"}, \"yaxis\": {\"backgroundcolor\": \"#E5ECF6\", \"gridcolor\": \"white\", \"gridwidth\": 2, \"linecolor\": \"white\", \"showbackground\": true, \"ticks\": \"\", \"zerolinecolor\": \"white\"}, \"zaxis\": {\"backgroundcolor\": \"#E5ECF6\", \"gridcolor\": \"white\", \"gridwidth\": 2, \"linecolor\": \"white\", \"showbackground\": true, \"ticks\": \"\", \"zerolinecolor\": \"white\"}}, \"shapedefaults\": {\"line\": {\"color\": \"#2a3f5f\"}}, \"ternary\": {\"aaxis\": {\"gridcolor\": \"white\", \"linecolor\": \"white\", \"ticks\": \"\"}, \"baxis\": {\"gridcolor\": \"white\", \"linecolor\": \"white\", \"ticks\": \"\"}, \"bgcolor\": \"#E5ECF6\", \"caxis\": {\"gridcolor\": \"white\", \"linecolor\": \"white\", \"ticks\": \"\"}}, \"title\": {\"x\": 0.05}, \"xaxis\": {\"automargin\": true, \"gridcolor\": \"white\", \"linecolor\": \"white\", \"ticks\": \"\", \"title\": {\"standoff\": 15}, \"zerolinecolor\": \"white\", \"zerolinewidth\": 2}, \"yaxis\": {\"automargin\": true, \"gridcolor\": \"white\", \"linecolor\": \"white\", \"ticks\": \"\", \"title\": {\"standoff\": 15}, \"zerolinecolor\": \"white\", \"zerolinewidth\": 2}}}, \"title\": {\"text\": \"Top 10 Win Rates for Jungle Position\", \"x\": 0.5}, \"width\": 800, \"xaxis\": {\"anchor\": \"y\", \"categoryorder\": \"total ascending\", \"domain\": [0.0, 1.0], \"title\": {\"text\": \"Champion\"}}, \"yaxis\": {\"anchor\": \"x\", \"domain\": [0.0, 1.0], \"ticksuffix\": \"%\", \"title\": {\"text\": \"Win Percentage\"}, \"visible\": false}},                        {\"responsive\": true}                    ).then(function(){\n                            \nvar gd = document.getElementById('ded7c13c-27f6-4b88-8fed-8cab67a1c7e1');\nvar x = new MutationObserver(function (mutations, observer) {{\n        var display = window.getComputedStyle(gd).display;\n        if (!display || display === 'none') {{\n            console.log([gd, 'removed!']);\n            Plotly.purge(gd);\n            observer.disconnect();\n        }}\n}});\n\n// Listen for the removal of the full notebook cells\nvar notebookContainer = gd.closest('#notebook-container');\nif (notebookContainer) {{\n    x.observe(notebookContainer, {childList: true});\n}}\n\n// Listen for the clearing of the current output cell\nvar outputEl = gd.closest('.output');\nif (outputEl) {{\n    x.observe(outputEl, {childList: true});\n}}\n\n                        })                };                });            </script>        </div>"
     },
     "metadata": {}
    }
   ],
   "source": [
    "for fig in top_10_by_position:\n",
    "    fig.show(renderer = 'notebook_connected')"
   ]
  },
  {
   "cell_type": "code",
   "execution_count": 70,
   "metadata": {},
   "outputs": [
    {
     "output_type": "execute_result",
     "data": {
      "text/plain": [
       "win                       1.000000\n",
       "bountyLevel               0.461929\n",
       "assists                   0.373235\n",
       "turretKills               0.362904\n",
       "largestKillingSpree       0.356634\n",
       "                            ...   \n",
       "inhibitorsLost           -0.571607\n",
       "nexusLost                -0.607605\n",
       "turretsLost              -0.714582\n",
       "sightWardsBoughtInGame         NaN\n",
       "unrealKills                    NaN\n",
       "Name: win, Length: 83, dtype: float64"
      ]
     },
     "metadata": {},
     "execution_count": 70
    }
   ],
   "source": [
    "win_correlations = match_data_total_deduped.corr()['win'].sort_values(ascending = False)\n",
    "win_correlations"
   ]
  },
  {
   "cell_type": "code",
   "execution_count": 71,
   "metadata": {},
   "outputs": [
    {
     "output_type": "execute_result",
     "data": {
      "text/plain": [
       "win                        1.000000\n",
       "bountyLevel                0.461929\n",
       "assists                    0.373235\n",
       "turretKills                0.362904\n",
       "largestKillingSpree        0.356634\n",
       "damageDealtToBuildings     0.345849\n",
       "damageDealtToTurrets       0.345254\n",
       "kills                      0.307865\n",
       "damageDealtToObjectives    0.284228\n",
       "killingSprees              0.270374\n",
       "inhibitorKills             0.255280\n",
       "largestMultiKill           0.253910\n",
       "totalTimeSpentDead        -0.343363\n",
       "deaths                    -0.443197\n",
       "inhibitorsLost            -0.571607\n",
       "nexusLost                 -0.607605\n",
       "turretsLost               -0.714582\n",
       "Name: win, dtype: float64"
      ]
     },
     "metadata": {},
     "execution_count": 71
    }
   ],
   "source": [
    "# correlation at least 25%\n",
    "win_correlations.loc[(win_correlations >= 0.25) | (win_correlations <= -.25)]"
   ]
  },
  {
   "cell_type": "code",
   "execution_count": 72,
   "metadata": {},
   "outputs": [
    {
     "output_type": "display_data",
     "data": {
      "text/html": "        <script type=\"text/javascript\">\n        window.PlotlyConfig = {MathJaxConfig: 'local'};\n        if (window.MathJax) {MathJax.Hub.Config({SVG: {font: \"STIX-Web\"}});}\n        if (typeof require !== 'undefined') {\n        require.undef(\"plotly\");\n        requirejs.config({\n            paths: {\n                'plotly': ['https://cdn.plot.ly/plotly-latest.min']\n            }\n        });\n        require(['plotly'], function(Plotly) {\n            window._Plotly = Plotly;\n        });\n        }\n        </script>\n        "
     },
     "metadata": {}
    },
    {
     "output_type": "display_data",
     "data": {
      "text/html": "<div>                            <div id=\"14e3898e-d387-4725-ac9b-5955603266cf\" class=\"plotly-graph-div\" style=\"height:600px; width:800px;\"></div>            <script type=\"text/javascript\">                require([\"plotly\"], function(Plotly) {                    window.PLOTLYENV=window.PLOTLYENV || {};                                    if (document.getElementById(\"14e3898e-d387-4725-ac9b-5955603266cf\")) {                    Plotly.newPlot(                        \"14e3898e-d387-4725-ac9b-5955603266cf\",                        [{\"alignmentgroup\": \"True\", \"bingroup\": \"x\", \"hovertemplate\": \"Turrets Lost=%{x}<br>count=%{y}<extra></extra>\", \"legendgroup\": \"\", \"marker\": {\"color\": \"#636efa\"}, \"name\": \"\", \"nbinsx\": 20, \"offsetgroup\": \"\", \"orientation\": \"v\", \"showlegend\": false, \"type\": \"histogram\", \"x\": [0.0, 9.0, 3.0, 1.0, 1.0, 1.0, 1.0, 2.0, 1.0, 2.0, 3.0, 5.0, 10.0, 3.0, 1.0, 8.0, 10.0, 8.0, 1.0, 3.0, 0.0, 5.0, 8.0, 4.0, 6.0, 0.0, 0.0, 8.0, 3.0, 3.0, 3.0, 0.0, 8.0, 11.0, 4.0, 3.0, 2.0, 1.0, 1.0, 1.0, 0.0, 10.0, 11.0, 1.0, 3.0, 5.0, 3.0, 6.0, 7.0, 5.0, 0.0, 2.0, 2.0, 0.0, 6.0, 2.0, 0.0, 4.0, 4.0, 5.0, 0.0, 0.0, 0.0, 0.0, 4.0, 2.0, 0.0, 6.0, 3.0, 1.0, 2.0, 5.0, 0.0, 6.0, 0.0, 9.0, 1.0, 4.0, 9.0, 10.0, 9.0, 7.0, 4.0, 8.0, 3.0, 9.0, 0.0, 8.0, 1.0, 2.0, 10.0, 0.0, 4.0, 2.0, 1.0, 5.0, 6.0, 5.0, 4.0, 9.0, 6.0, 0.0, 0.0, 4.0, 6.0, 3.0, 0.0, 7.0, 0.0, 5.0, 1.0, 9.0, 0.0, 2.0, 9.0, 5.0, 7.0, 1.0, 8.0, 7.0, 3.0, 0.0, 5.0, 3.0, 7.0, 5.0, 7.0, 3.0, 4.0, 2.0, 3.0, 2.0, 3.0, 1.0, 4.0, 2.0, 6.0, 4.0, 0.0, 7.0, 7.0, 1.0, 1.0, 9.0, 7.0, 8.0, 0.0, 0.0, 7.0, 5.0, 3.0, 3.0, 5.0, 7.0, 0.0, 3.0, 5.0, 0.0, 4.0, 5.0, 0.0, 1.0, 10.0, 7.0, 8.0, 11.0, 2.0, 7.0, 2.0, 0.0, 7.0, 5.0, 5.0, 6.0, 1.0, 2.0, 0.0, 4.0, 11.0, 0.0, 0.0, 4.0, 7.0, 3.0, 0.0, 4.0, 0.0, 5.0, 1.0, 5.0, 1.0, 0.0, 7.0, 3.0, 5.0, 1.0, 2.0, 1.0, 9.0, 4.0, 1.0, 9.0, 8.0, 10.0, 2.0, 4.0, 0.0, 7.0, 7.0, 0.0, 1.0, 11.0, 2.0, 4.0, 1.0, 2.0, 1.0, 9.0, 4.0, 2.0, 4.0, 3.0, 2.0, 7.0, 0.0, 2.0, 1.0, 2.0, 1.0, 4.0, 1.0, 0.0, 6.0, 2.0, 1.0, 0.0, 2.0, 0.0, 2.0, 1.0, 7.0, 5.0, 2.0, 10.0, 1.0, 3.0, 7.0, 2.0, 0.0, 2.0, 2.0, 1.0, 0.0, 0.0, 6.0, 4.0, 3.0, 10.0, 5.0, 3.0, 3.0, 2.0, 4.0, 3.0, 4.0, 9.0, 0.0, 7.0, 6.0, 9.0, 2.0, 7.0, 3.0, 4.0, 2.0, 0.0, 9.0, 7.0, 2.0, 8.0, 0.0, 9.0, 1.0, 8.0, 9.0, 11.0, 10.0, 11.0, 1.0, 6.0, 4.0, 8.0, 8.0, 2.0, 0.0, 5.0, 2.0, 0.0, 7.0, 0.0, 7.0, 10.0, 4.0, 9.0, 9.0, 4.0, 4.0, 4.0, 2.0, 6.0, 0.0, 1.0, 9.0, 2.0, 0.0, 2.0, 2.0, 3.0, 3.0, 6.0, 0.0, 10.0, 6.0, 1.0, 6.0, 1.0, 9.0, 5.0, 6.0, 2.0, 2.0, 3.0, 1.0, 6.0, 10.0, 1.0, 10.0, 5.0, 5.0, 0.0, 4.0, 2.0, 8.0, 8.0, 9.0, 5.0, 4.0, 11.0, 0.0, 3.0, 3.0, 3.0, 1.0, 2.0, 3.0, 8.0, 7.0, 0.0, 8.0, 0.0, 2.0, 9.0, 1.0, 0.0, 3.0, 7.0, 0.0, 7.0, 6.0, 2.0, 7.0, 10.0, 5.0, 1.0, 8.0, 11.0, 1.0, 6.0, 2.0, 1.0, 5.0, 9.0, 10.0, 0.0, 6.0, 5.0, 2.0, 2.0, 9.0, 8.0, 5.0, 2.0, 1.0, 9.0, 1.0, 3.0, 2.0, 3.0, 0.0, 7.0, 2.0, 1.0, 8.0, 5.0, 3.0, 8.0, 7.0, 6.0, 2.0, 11.0, 9.0, 2.0, 0.0, 2.0, 8.0, 5.0, 1.0, 5.0, 9.0, 8.0, 2.0, 1.0, 10.0, 1.0, 4.0, 6.0, 2.0, 10.0, 5.0, 9.0, 1.0, 9.0, 1.0, 4.0, 9.0, 0.0, 1.0, 4.0, 3.0, 6.0, 3.0, 0.0, 9.0, 8.0, 4.0, 10.0, 0.0, 3.0, 0.0, 11.0, 5.0, 7.0, 2.0, 2.0, 9.0, 8.0, 8.0, 3.0, 6.0, 8.0, 9.0, 4.0, 9.0, 7.0, 7.0, 2.0, 10.0, 3.0, 7.0, 7.0, 3.0, 0.0, 10.0, 5.0, 1.0, 0.0, 9.0, 8.0, 7.0, 1.0, 4.0, 2.0, 4.0, 3.0, 11.0, 0.0, 9.0, 10.0, 9.0, 6.0, 1.0, 4.0, 2.0, 7.0, 6.0, 6.0, 0.0, 0.0, 2.0, 10.0, 9.0, 10.0, 1.0, 3.0, 4.0, 10.0, 4.0, 0.0, 2.0, 5.0, 4.0, 8.0, 8.0, 0.0, 0.0, 3.0, 1.0, 4.0, 4.0, 2.0, 9.0, 8.0, 3.0, 7.0, 4.0, 1.0, 0.0, 2.0, 9.0, 1.0, 0.0, 8.0, 8.0, 1.0, 2.0, 3.0, 1.0, 2.0, 0.0, 4.0, 0.0, 7.0, 4.0, 5.0, 2.0, 2.0, 1.0, 9.0, 2.0, 1.0, 2.0, 2.0, 2.0, 5.0, 7.0, 1.0, 0.0, 3.0, 2.0, 0.0, 10.0, 6.0, 8.0, 7.0, 9.0, 9.0, 6.0, 7.0, 10.0, 8.0, 2.0, 3.0, 6.0, 3.0, 6.0, 1.0, 3.0, 2.0, 9.0, 4.0, 3.0, 1.0, 3.0, 3.0, 1.0, 3.0, 2.0, 0.0, 0.0, 4.0, 6.0, 10.0, 1.0, 3.0, 11.0, 1.0, 0.0, 1.0, 2.0, 1.0, 4.0, 0.0, 2.0, 7.0, 1.0, 3.0, 0.0, 0.0, 11.0, 1.0, 7.0, 5.0, 5.0, 2.0, 1.0, 0.0, 3.0, 1.0, 0.0, 5.0, 8.0, 0.0, 9.0, 0.0, 5.0, 6.0, 3.0, 0.0, 8.0, 3.0, 1.0, 11.0, 0.0, 3.0, 3.0, 0.0, 3.0, 3.0, 8.0, 1.0, 0.0, 6.0, 2.0, 5.0, 0.0, 4.0, 11.0, 2.0, 4.0, 8.0, 1.0, 1.0, 1.0, 0.0, 3.0, 1.0, 3.0, 3.0, 1.0, 4.0, 3.0, 0.0, 2.0, 5.0, 4.0, 10.0, 0.0, 7.0, 2.0, 7.0, 6.0, 4.0, 1.0, 2.0, 10.0, 0.0, 4.0, 9.0, 2.0, 3.0, 5.0, 0.0, 6.0, 5.0, 8.0, 3.0, 1.0, 0.0, 5.0, 10.0, 3.0, 2.0, 3.0, 4.0, 11.0, 0.0, 7.0, 9.0, 4.0, 1.0, 8.0, 3.0, 3.0, 0.0, 3.0, 7.0, 7.0, 8.0, 2.0, 3.0, 0.0, 0.0, 8.0, 9.0, 4.0, 9.0, 4.0, 9.0, 9.0, 0.0, 5.0, 1.0, 7.0, 1.0, 1.0, 10.0, 3.0, 2.0, 8.0, 3.0, 9.0, 3.0, 2.0, 2.0, 1.0, 0.0, 5.0, 2.0, 7.0, 5.0, 9.0, 6.0, 4.0, 3.0, 1.0, 0.0, 2.0, 0.0, 2.0, 0.0, 10.0, 0.0, 3.0, 8.0, 4.0, 2.0, 3.0, 2.0, 3.0, 5.0, 8.0, 3.0, 0.0, 1.0, 8.0, 5.0, 0.0, 3.0, 9.0, 6.0, 10.0, 6.0, 4.0, 8.0, 1.0, 2.0, 11.0, 9.0, 4.0, 0.0, 7.0, 3.0, 6.0, 3.0, 4.0, 9.0, 8.0, 8.0, 2.0, 9.0, 4.0, 0.0, 9.0, 1.0, 2.0, 7.0, 6.0, 9.0, 0.0, 3.0, 3.0, 8.0, 1.0, 3.0, 10.0, 5.0, 6.0, 10.0, 6.0, 3.0, 0.0, 0.0, 5.0, 1.0, 7.0, 4.0, 9.0, 1.0, 1.0, 9.0, 4.0, 4.0, 9.0, 1.0, 0.0, 0.0, 10.0, 8.0, 10.0, 0.0, 8.0, 0.0, 5.0, 1.0, 0.0, 0.0, 6.0, 8.0, 8.0, 7.0, 8.0, 2.0, 11.0, 2.0, 0.0, 2.0, 0.0, 9.0, 3.0, 0.0, 4.0, 5.0, 1.0, 0.0, 1.0, 2.0, 10.0, 0.0, 6.0, 1.0, 0.0, 9.0, 3.0, 2.0, 8.0, 0.0, 9.0, 1.0, 3.0, 6.0, 0.0, 1.0, 10.0, 9.0, 6.0, 1.0, 0.0, 4.0, 11.0, 3.0, 7.0, 11.0, 7.0, 8.0, 0.0, 2.0, 9.0, 0.0, 2.0, 9.0, 1.0, 0.0, 2.0, 4.0, 11.0, 0.0, 0.0, 0.0, 1.0, 0.0, 5.0, 5.0, 9.0, 0.0, 2.0, 10.0, 0.0, 9.0, 0.0, 0.0, 8.0, 4.0, 10.0, 7.0, 8.0, 7.0, 1.0, 7.0, 5.0, 1.0, 6.0, 0.0, 7.0, 6.0, 1.0, 1.0, 0.0, 2.0, 3.0, 0.0, 1.0, 3.0, 8.0, 2.0, 4.0, 7.0, 7.0, 0.0, 2.0, 2.0, 4.0, 6.0, 2.0, 5.0, 3.0, 0.0, 2.0, 3.0, 8.0, 2.0, 6.0, 10.0, 5.0, 6.0, 3.0, 1.0, 3.0, 9.0, 0.0, 1.0, 9.0, 0.0, 5.0, 7.0, 7.0, 2.0, 4.0, 2.0, 5.0, 8.0, 2.0, 2.0, 6.0, 3.0, 10.0, 0.0, 10.0, 1.0, 4.0, 10.0, 0.0, 2.0, 4.0, 0.0, 7.0, 10.0, 0.0, 3.0, 1.0, 0.0, 3.0, 2.0, 7.0, 4.0, 7.0, 0.0, 7.0, 0.0, 0.0, 11.0, 7.0, 1.0, 10.0, 11.0, 4.0, 3.0, 7.0, 4.0, 8.0, 8.0, 0.0, 0.0, 1.0, 4.0, 3.0, 6.0, 1.0, 8.0, 7.0, 0.0, 1.0, 1.0, 1.0, 10.0, 8.0, 3.0, 1.0, 0.0, 2.0, 4.0, 1.0, 2.0, 0.0, 1.0, 10.0, 0.0, 1.0, 0.0, 10.0, 6.0, 9.0, 2.0, 3.0, 7.0, 9.0, 2.0, 6.0, 2.0, 6.0, 1.0, 5.0, 7.0, 3.0, 5.0, 10.0, 9.0, 2.0, 1.0, 5.0, 2.0, 8.0, 9.0, 4.0, 9.0, 4.0, 3.0, 2.0, 7.0, 2.0, 5.0, 0.0, 4.0, 0.0, 7.0, 11.0, 10.0, 7.0, 1.0, 3.0, 1.0, 2.0, 6.0, 6.0, 9.0, 9.0, 2.0, 9.0, 9.0, 8.0, 5.0, 8.0, 3.0, 9.0, 1.0, 9.0, 1.0, 1.0, 1.0, 7.0, 10.0, 2.0, 3.0, 2.0, 5.0, 3.0, 2.0, 10.0, 1.0, 0.0, 4.0, 2.0, 2.0, 1.0, 9.0, 3.0, 8.0, 1.0, 5.0, 0.0, 1.0, 0.0, 1.0, 0.0, 6.0, 0.0, 11.0, 10.0, 8.0, 10.0, 4.0, 4.0, 1.0, 4.0, 3.0, 3.0, 2.0, 0.0, 2.0, 0.0, 0.0, 9.0, 0.0, 3.0, 5.0, 3.0, 2.0, 10.0, 0.0, 6.0, 3.0, 7.0, 5.0, 3.0, 0.0, 8.0, 5.0, 5.0, 10.0, 7.0, 1.0, 1.0, 4.0, 0.0, 3.0, 2.0, 0.0, 6.0, 10.0, 3.0, 1.0, 11.0, 3.0, 3.0, 10.0, 3.0, 1.0, 3.0, 2.0, 5.0, 10.0, 7.0, 3.0, 1.0, 1.0, 8.0, 7.0, 4.0, 7.0, 1.0, 5.0, 3.0, 2.0, 3.0, 3.0, 2.0, 4.0, 2.0, 2.0, 5.0, 7.0, 2.0, 1.0, 8.0, 2.0, 1.0, 0.0, 8.0, 3.0, 9.0, 10.0, 0.0, 9.0, 2.0, 0.0, 3.0, 0.0, 9.0, 0.0, 4.0, 9.0, 2.0, 11.0, 7.0, 7.0, 2.0, 7.0, 1.0, 4.0, 0.0, 2.0, 4.0, 8.0, 3.0, 0.0, 8.0, 0.0, 0.0, 0.0, 5.0, 8.0, 0.0, 9.0, 1.0, 1.0, 0.0, 8.0, 0.0, 0.0, 3.0, 0.0, 8.0, 7.0, 9.0, 2.0, 11.0, 1.0, 7.0, 9.0, 2.0, 8.0, 0.0, 7.0, 2.0, 2.0, 0.0, 9.0, 3.0, 9.0, 1.0, 3.0, 2.0, 2.0, 1.0, 9.0, 3.0, 1.0, 3.0, 4.0, 3.0, 2.0, 3.0, 1.0, 1.0, 4.0, 8.0, 3.0, 4.0, 0.0, 7.0, 5.0, 4.0, 1.0, 2.0, 2.0, 1.0, 1.0, 4.0, 2.0, 4.0, 0.0, 4.0, 5.0, 2.0, 2.0, 10.0, 3.0, 5.0, 8.0, 1.0, 3.0, 6.0, 4.0, 1.0, 6.0, 3.0, 0.0, 5.0, 1.0, 8.0, 3.0, 7.0, 1.0, 3.0, 4.0, 7.0, 5.0, 10.0, 1.0, 9.0, 8.0, 2.0, 9.0, 1.0, 8.0, 1.0, 1.0, 0.0, 1.0, 1.0, 0.0, 7.0, 4.0, 6.0, 4.0, 4.0, 10.0, 1.0, 10.0, 3.0, 2.0, 2.0, 9.0, 7.0, 2.0, 4.0, 0.0, 6.0, 6.0, 8.0, 4.0, 0.0, 0.0, 0.0, 7.0, 5.0, 1.0, 0.0, 0.0, 1.0, 8.0, 1.0, 8.0, 4.0, 6.0, 2.0, 7.0, 1.0, 1.0, 0.0, 4.0, 3.0, 6.0, 1.0, 8.0, 0.0, 3.0, 1.0, 3.0, 3.0, 3.0, 2.0, 1.0, 0.0, 7.0, 3.0, 8.0, 3.0, 0.0, 0.0, 2.0, 3.0, 1.0, 10.0, 4.0, 3.0, 0.0, 0.0, 3.0, 3.0, 0.0, 1.0, 0.0, 6.0, 7.0, 0.0, 2.0, 3.0, 9.0, 7.0, 11.0, 9.0, 5.0, 3.0, 5.0, 1.0, 4.0, 5.0, 5.0, 4.0, 8.0, 0.0, 0.0, 8.0, 0.0, 6.0, 1.0, 0.0, 6.0, 5.0, 2.0, 2.0, 1.0, 2.0, 3.0, 0.0, 0.0, 10.0, 3.0, 4.0, 5.0, 7.0, 2.0, 7.0, 0.0, 3.0, 4.0, 1.0, 5.0, 3.0, 3.0, 6.0, 0.0, 7.0, 1.0, 5.0, 0.0, 0.0, 6.0, 2.0, 3.0, 8.0, 2.0, 2.0, 0.0, 8.0, 2.0, 0.0, 0.0, 3.0, 9.0, 1.0, 1.0, 4.0, 0.0, 7.0, 7.0, 0.0, 1.0, 8.0, 4.0, 5.0, 9.0, 8.0, 8.0, 8.0, 10.0, 0.0, 7.0, 0.0, 7.0, 1.0, 0.0, 0.0, 6.0, 2.0, 5.0, 5.0, 3.0, 10.0, 4.0, 0.0, 9.0, 0.0, 8.0, 0.0, 2.0, 9.0, 1.0, 6.0, 3.0, 4.0, 10.0, 7.0, 9.0, 7.0, 4.0, 2.0, 0.0, 3.0, 2.0, 6.0, 3.0, 0.0, 0.0, 9.0, 8.0, 1.0, 4.0, 8.0, 0.0, 3.0, 3.0, 8.0, 11.0, 3.0, 11.0, 8.0, 6.0, 9.0, 5.0, 2.0, 3.0, 1.0, 1.0, 5.0, 9.0, 9.0, 8.0, 5.0, 0.0, 3.0, 1.0, 0.0, 0.0, 5.0, 2.0, 0.0, 5.0, 8.0, 0.0, 3.0, 4.0, 5.0, 2.0, 1.0, 9.0, 4.0, 2.0, 5.0, 8.0, 0.0, 1.0, 1.0, 2.0, 9.0, 7.0, 0.0, 9.0, 1.0, 1.0, 1.0, 1.0, 4.0, 0.0, 2.0, 9.0, 0.0, 7.0, 0.0, 0.0, 1.0, 5.0, 8.0, 2.0, 2.0, 8.0, 10.0, 2.0, 4.0, 8.0, 5.0, 0.0, 0.0, 2.0, 4.0, 7.0, 9.0, 1.0, 6.0, 8.0, 1.0, 0.0, 3.0, 8.0, 7.0, 0.0, 6.0, 2.0, 4.0, 8.0, 0.0, 0.0, 0.0, 6.0, 8.0, 9.0, 7.0, 2.0, 0.0, 4.0, 7.0, 11.0, 9.0, 7.0, 4.0, 8.0, 7.0, 0.0, 0.0, 3.0, 1.0, 2.0, 0.0, 8.0, 2.0, 3.0, 8.0, 4.0, 2.0, 3.0, 4.0, 8.0, 0.0, 3.0, 1.0, 1.0, 1.0, 9.0, 1.0, 1.0, 4.0, 2.0, 1.0, 4.0, 9.0, 5.0, 0.0, 8.0, 6.0, 8.0, 7.0, 9.0, 7.0, 7.0, 0.0, 5.0, 8.0, 9.0, 4.0, 9.0, 2.0, 2.0, 2.0, 11.0, 4.0, 2.0, 6.0, 9.0, 5.0, 4.0, 8.0, 3.0, 0.0, 1.0, 1.0, 6.0, 4.0, 0.0, 1.0, 0.0, 5.0, 7.0, 1.0, 7.0, 9.0, 0.0, 4.0, 0.0, 4.0, 4.0, 0.0, 3.0, 9.0, 8.0, 2.0, 7.0, 1.0, 3.0, 9.0, 4.0, 0.0, 2.0, 0.0, 5.0, 0.0, 2.0, 1.0, 1.0, 2.0, 0.0, 8.0, 10.0, 0.0, 1.0, 2.0, 9.0, 11.0, 2.0, 5.0, 3.0, 11.0, 3.0, 8.0, 0.0, 8.0, 8.0, 2.0, 7.0, 5.0, 4.0, 2.0, 3.0, 1.0, 3.0, 9.0, 1.0, 8.0, 3.0, 0.0, 5.0, 10.0, 8.0, 9.0, 10.0, 1.0, 0.0, 2.0, 10.0, 2.0, 7.0, 3.0, 3.0, 0.0, 5.0, 7.0, 2.0, 0.0, 4.0, 7.0, 3.0, 5.0, 0.0, 6.0, 2.0, 0.0, 9.0, 11.0, 8.0, 7.0, 5.0, 7.0, 2.0, 11.0, 7.0, 2.0, 1.0, 10.0, 1.0, 9.0, 7.0, 5.0, 2.0, 1.0, 1.0, 4.0, 3.0, 5.0, 1.0, 0.0, 6.0, 7.0, 5.0, 7.0, 7.0, 0.0, 0.0, 4.0, 8.0, 7.0, 1.0, 0.0, 8.0, 4.0, 5.0, 9.0, 4.0, 3.0, 4.0, 2.0, 1.0, 0.0, 1.0, 3.0, 9.0, 9.0, 3.0, 7.0, 5.0, 1.0, 7.0, 4.0, 1.0, 3.0, 0.0, 3.0, 5.0, 3.0, 3.0, 4.0, 3.0, 11.0, 7.0, 2.0, 3.0, 8.0, 8.0, 5.0, 2.0, 5.0, 5.0, 0.0, 0.0, 2.0, 7.0, 9.0, 8.0, 9.0, 1.0, 2.0, 9.0, 2.0, 0.0, 2.0, 7.0, 0.0, 3.0, 5.0, 0.0, 8.0, 0.0, 2.0, 1.0, 0.0, 6.0, 3.0, 3.0, 10.0, 1.0, 1.0, 6.0, 4.0, 7.0, 8.0, 10.0, 7.0, 7.0, 9.0, 6.0, 0.0, 7.0, 1.0, 8.0, 0.0, 2.0, 8.0, 0.0, 9.0, 5.0, 2.0, 2.0, 3.0, 0.0, 2.0, 9.0, 5.0, 4.0, 9.0, 7.0, 3.0, 7.0, 3.0, 5.0, 6.0, 1.0, 3.0, 3.0, 1.0, 3.0, 5.0, 9.0, 9.0, 4.0, 3.0, 9.0, 0.0, 7.0, 3.0, 7.0, 8.0, 0.0, 4.0, 0.0, 4.0, 9.0, 0.0, 0.0, 9.0, 0.0, 8.0, 9.0, 1.0, 1.0, 2.0, 10.0, 5.0, 7.0, 0.0, 2.0, 8.0, 3.0, 6.0, 9.0, 3.0, 1.0, 7.0, 7.0, 5.0, 9.0, 6.0, 0.0, 8.0, 8.0, 8.0, 10.0, 2.0, 1.0, 3.0, 1.0, 5.0, 5.0, 2.0, 5.0, 9.0, 8.0, 0.0, 1.0, 7.0, 9.0, 2.0, 1.0, 2.0, 5.0, 3.0, 2.0, 6.0, 6.0, 0.0, 4.0, 8.0, 6.0, 0.0, 1.0, 2.0, 5.0, 10.0, 2.0, 5.0, 6.0, 1.0, 0.0, 1.0, 7.0, 0.0, 5.0, 1.0, 4.0, 1.0, 9.0, 11.0, 9.0, 5.0, 0.0, 1.0, 4.0, 3.0, 3.0, 4.0, 0.0, 0.0, 1.0, 3.0, 5.0, 2.0, 9.0, 4.0, 1.0, 1.0, 3.0, 0.0, 0.0, 4.0, 2.0, 3.0, 3.0, 6.0, 4.0, 1.0, 9.0, 2.0, 0.0, 10.0, 2.0, 3.0, 8.0, 1.0, 3.0, 9.0, 2.0, 7.0, 3.0, 1.0, 9.0, 9.0, 3.0, 3.0, 2.0, 7.0, 2.0, 8.0, 1.0, 8.0, 3.0, 6.0, 7.0, 2.0, 1.0, 4.0, 1.0, 0.0, 1.0, 0.0, 2.0, 9.0, 3.0, 0.0, 2.0, 8.0, 5.0, 9.0, 8.0, 9.0, 0.0, 0.0, 2.0, 2.0, 0.0, 3.0, 6.0, 9.0, 1.0, 8.0, 8.0, 1.0, 2.0, 5.0, 8.0, 3.0, 9.0, 5.0, 10.0, 0.0, 9.0, 2.0, 1.0, 7.0, 1.0, 4.0, 0.0, 1.0, 0.0, 0.0, 7.0, 7.0, 7.0, 6.0, 2.0, 0.0, 1.0, 4.0, 1.0, 0.0, 3.0, 7.0, 0.0, 0.0, 2.0, 0.0, 1.0, 1.0, 5.0, 4.0, 6.0, 1.0, 0.0, 8.0, 7.0, 3.0, 8.0, 1.0, 10.0, 4.0, 4.0, 5.0, 1.0, 1.0, 8.0, 3.0, 0.0, 2.0, 1.0, 4.0, 6.0, 7.0, 0.0, 4.0, 9.0, 9.0, 2.0, 6.0, 1.0, 1.0, 10.0, 4.0, 9.0, 4.0, 0.0, 4.0, 3.0, 8.0, 4.0, 11.0, 0.0, 6.0, 6.0, 1.0, 0.0, 3.0, 4.0, 2.0, 5.0, 3.0, 1.0, 3.0, 6.0, 10.0, 5.0, 7.0, 7.0, 5.0, 0.0, 2.0, 9.0, 3.0, 1.0, 11.0, 7.0, 3.0, 9.0, 5.0, 3.0, 8.0, 8.0, 2.0, 6.0, 10.0, 10.0, 2.0, 9.0, 2.0, 5.0, 0.0, 7.0, 10.0, 2.0, 4.0, 0.0, 3.0, 1.0, 2.0, 2.0, 5.0, 4.0, 4.0, 2.0, 5.0, 5.0, 3.0, 9.0, 2.0, 5.0, 3.0, 1.0, 10.0, 1.0, 7.0, 1.0, 8.0, 8.0, 3.0, 3.0, 0.0, 0.0, 1.0, 4.0, 4.0, 4.0, 6.0, 9.0, 8.0, 0.0, 5.0, 8.0, 8.0, 3.0, 5.0, 9.0, 0.0, 0.0, 4.0, 5.0, 2.0, 5.0, 5.0, 0.0, 6.0, 7.0, 0.0, 2.0, 0.0, 1.0, 5.0, 1.0, 8.0, 6.0, 2.0, 2.0, 10.0, 4.0, 6.0, 2.0, 7.0, 1.0, 0.0, 9.0, 5.0, 1.0, 10.0, 0.0, 8.0, 6.0, 2.0, 2.0, 5.0, 0.0, 0.0, 4.0, 0.0, 4.0, 5.0, 3.0, 8.0, 2.0, 2.0, 0.0, 0.0, 7.0, 2.0, 2.0, 4.0, 9.0, 0.0, 1.0, 3.0, 8.0, 4.0, 6.0, 7.0, 6.0, 1.0, 1.0, 2.0, 2.0, 7.0, 0.0, 2.0, 10.0, 1.0, 1.0, 4.0, 3.0, 3.0, 3.0, 0.0, 11.0, 10.0, 5.0, 0.0, 1.0, 3.0, 7.0, 4.0, 0.0, 2.0, 0.0, 4.0, 4.0, 3.0, 7.0, 9.0, 5.0, 4.0, 1.0, 2.0, 4.0, 2.0, 9.0, 6.0, 4.0, 3.0, 9.0, 3.0, 7.0, 0.0, 6.0, 3.0, 9.0, 5.0, 3.0, 0.0, 11.0, 2.0, 2.0, 2.0, 7.0, 2.0, 4.0, 3.0, 0.0, 3.0, 3.0, 2.0, 7.0, 2.0, 9.0, 2.0, 6.0, 8.0, 9.0, 4.0, 9.0, 1.0, 9.0, 0.0, 3.0, 5.0, 8.0, 10.0, 0.0, 5.0, 3.0, 1.0, 3.0, 6.0, 0.0, 10.0, 7.0, 10.0, 2.0, 1.0, 6.0, 2.0, 6.0, 2.0, 9.0, 3.0, 3.0, 2.0, 10.0, 5.0, 8.0, 3.0, 0.0, 10.0, 2.0, 8.0, 6.0, 3.0, 2.0, 3.0, 4.0, 1.0, 1.0, 10.0, 0.0, 6.0, 0.0, 4.0, 1.0, 3.0, 6.0, 5.0, 9.0, 1.0, 1.0, 9.0, 7.0, 2.0, 3.0, 3.0, 3.0, 5.0, 3.0, 0.0, 6.0, 6.0, 0.0, 0.0, 8.0, 1.0, 0.0, 7.0, 2.0, 8.0, 10.0, 0.0, 3.0, 10.0, 0.0, 8.0, 1.0, 9.0, 8.0, 2.0, 3.0, 0.0, 0.0, 3.0, 8.0, 4.0, 7.0, 9.0, 5.0, 0.0, 2.0, 1.0, 10.0, 0.0, 2.0, 9.0, 5.0, 3.0, 10.0, 9.0, 9.0, 7.0, 0.0, 0.0, 9.0, 0.0, 5.0, 9.0, 9.0, 1.0, 9.0, 4.0, 1.0, 4.0, 4.0, 3.0, 3.0, 9.0, 5.0, 5.0, 1.0, 1.0, 3.0, 11.0, 6.0, 2.0, 1.0, 4.0, 3.0, 8.0, 3.0, 0.0, 0.0, 1.0, 8.0, 8.0, 2.0, 1.0, 0.0, 3.0, 2.0, 1.0, 2.0, 0.0, 9.0, 2.0, 6.0, 5.0, 3.0, 5.0, 6.0, 0.0, 1.0, 8.0, 3.0, 6.0, 1.0, 4.0, 2.0, 8.0, 3.0, 2.0, 8.0, 0.0, 3.0, 3.0, 1.0, 6.0, 10.0, 6.0, 2.0, 9.0, 0.0, 5.0, 3.0, 8.0, 3.0, 6.0, 0.0, 7.0, 5.0, 2.0, 2.0, 5.0, 2.0, 8.0, 7.0, 7.0, 3.0, 1.0, 2.0, 0.0, 6.0, 4.0, 3.0, 2.0, 3.0, 1.0, 9.0, 5.0, 8.0, 2.0, 3.0, 7.0, 2.0, 2.0, 6.0, 10.0, 7.0, 6.0, 5.0, 1.0, 4.0, 9.0, 4.0, 3.0, 7.0, 3.0, 4.0, 9.0, 1.0, 0.0, 4.0, 1.0, 0.0, 3.0, 10.0, 3.0, 3.0, 1.0, 7.0, 4.0, 0.0, 3.0, 9.0, 7.0, 5.0, 3.0, 1.0, 8.0, 8.0, 0.0, 3.0, 4.0, 5.0, 1.0, 0.0, 4.0, 3.0, 1.0, 0.0, 5.0, 9.0, 0.0, 3.0, 4.0, 0.0, 4.0, 4.0, 0.0, 9.0, 0.0, 3.0, 2.0, 11.0, 3.0, 7.0, 2.0, 2.0, 3.0, 0.0, 10.0, 0.0, 8.0, 3.0, 7.0, 9.0, 5.0, 0.0, 3.0, 3.0, 3.0, 9.0, 0.0, 4.0, 5.0, 4.0, 1.0, 7.0, 8.0, 0.0, 1.0, 4.0, 9.0, 3.0, 1.0, 1.0, 6.0, 7.0, 0.0, 0.0, 0.0, 5.0, 1.0, 0.0, 6.0, 9.0, 4.0, 5.0, 7.0, 3.0, 3.0, 2.0, 3.0, 4.0, 0.0, 3.0, 8.0, 6.0, 7.0, 2.0, 0.0, 3.0, 1.0, 3.0, 0.0, 8.0, 3.0, 6.0, 0.0, 0.0, 8.0, 11.0, 7.0, 4.0, 2.0, 5.0, 9.0, 9.0, 3.0, 4.0, 3.0, 2.0, 3.0, 3.0, 3.0, 0.0, 8.0, 6.0, 8.0, 2.0, 2.0, 0.0, 2.0, 5.0, 4.0, 2.0, 3.0, 2.0, 1.0, 2.0, 5.0, 6.0, 0.0, 3.0, 6.0, 6.0, 3.0, 0.0, 6.0, 1.0, 2.0, 3.0, 1.0, 0.0, 7.0, 5.0, 4.0, 1.0, 3.0, 4.0, 8.0, 9.0, 5.0, 0.0, 3.0, 7.0, 1.0, 9.0, 10.0, 3.0, 0.0, 2.0, 9.0, 0.0, 0.0, 6.0, 2.0, 2.0, 4.0, 2.0, 1.0, 0.0, 0.0, 8.0, 8.0, 3.0, 2.0, 2.0, 3.0, 6.0, 2.0, 2.0, 0.0, 8.0, 10.0, 3.0, 2.0, 7.0, 1.0, 6.0, 8.0, 10.0, 2.0, 7.0, 0.0, 7.0, 3.0, 5.0, 6.0, 9.0, 4.0, 10.0, 11.0, 0.0, 8.0, 0.0, 6.0, 10.0, 2.0, 4.0, 2.0, 1.0, 0.0, 9.0, 2.0, 0.0, 7.0, 1.0, 0.0, 8.0, 10.0, 8.0, 10.0, 0.0, 3.0, 1.0, 0.0, 3.0, 1.0, 3.0, 1.0, 0.0, 0.0, 2.0, 6.0, 10.0, 5.0, 0.0, 7.0, 0.0, 3.0, 7.0, 1.0, 5.0, 3.0, 10.0, 0.0, 7.0, 10.0, 5.0, 3.0, 9.0, 8.0, 3.0, 7.0, 0.0, 0.0, 2.0, 7.0, 0.0, 0.0, 1.0, 8.0, 9.0, 5.0, 3.0, 0.0, 1.0, 1.0, 6.0, 3.0, 4.0, 8.0, 1.0, 0.0, 5.0, 9.0, 0.0, 6.0, 3.0, 2.0, 1.0, 2.0, 8.0, 8.0, 2.0, 4.0, 0.0, 2.0, 7.0, 4.0, 0.0, 2.0, 7.0, 1.0, 7.0, 3.0, 5.0, 3.0, 3.0, 6.0, 0.0, 4.0, 0.0, 2.0, 11.0, 11.0, 8.0, 0.0, 0.0, 2.0, 7.0, 0.0, 3.0, 4.0, 0.0, 1.0, 2.0, 11.0, 6.0, 6.0, 6.0, 10.0, 8.0, 8.0, 4.0, 5.0, 3.0, 0.0, 4.0, 0.0, 6.0, 6.0, 1.0, 3.0, 6.0, 5.0, 0.0, 3.0, 8.0, 0.0, 0.0, 6.0, 9.0, 4.0, 7.0, 5.0, 0.0, 2.0, 0.0, 7.0, 7.0, 1.0, 2.0, 4.0, 10.0, 2.0, 1.0, 4.0, 8.0, 2.0, 1.0, 3.0, 0.0, 5.0, 1.0, 1.0, 4.0, 2.0, 10.0, 5.0, 9.0, 8.0, 8.0, 10.0, 4.0, 1.0, 6.0, 9.0, 6.0, 4.0, 2.0, 0.0, 2.0, 10.0, 10.0, 0.0, 7.0, 3.0, 0.0, 4.0, 3.0, 1.0, 5.0, 6.0, 2.0, 5.0, 1.0, 2.0, 8.0, 3.0, 3.0, 1.0, 3.0, 5.0, 5.0, 3.0, 2.0, 1.0, 8.0, 4.0, 4.0, 11.0, 4.0, 9.0, 7.0, 3.0, 2.0, 7.0, 3.0, 1.0, 7.0, 8.0, 1.0, 3.0, 0.0, 10.0, 8.0, 6.0, 8.0, 2.0, 3.0, 6.0, 2.0, 0.0, 3.0, 6.0, 2.0, 2.0, 3.0, 0.0, 7.0, 5.0, 0.0, 5.0, 5.0, 3.0, 2.0, 1.0, 9.0, 2.0, 0.0, 7.0, 0.0, 3.0, 1.0, 1.0, 4.0, 3.0, 4.0, 3.0, 5.0, 5.0, 2.0, 6.0, 5.0, 2.0, 3.0, 8.0, 6.0, 9.0, 9.0, 10.0, 1.0, 7.0, 6.0, 3.0, 1.0, 9.0, 0.0, 2.0, 1.0, 6.0, 0.0, 2.0, 2.0, 1.0, 2.0, 2.0, 8.0, 4.0, 6.0, 2.0, 3.0, 6.0, 7.0, 1.0, 3.0, 8.0, 2.0, 5.0, 1.0, 4.0, 3.0, 0.0, 8.0, 8.0, 6.0, 7.0, 4.0, 1.0, 3.0, 0.0, 9.0, 9.0, 0.0, 5.0, 9.0, 1.0, 0.0, 8.0, 2.0, 4.0, 2.0, 7.0, 3.0, 7.0, 5.0, 9.0, 7.0, 0.0, 0.0, 3.0, 9.0, 1.0, 10.0, 0.0, 2.0, 10.0, 0.0, 8.0, 7.0, 11.0, 2.0, 2.0, 8.0, 5.0, 1.0, 1.0, 3.0, 2.0, 3.0, 4.0, 6.0, 3.0, 3.0, 5.0, 0.0, 10.0, 1.0, 8.0, 0.0, 4.0, 3.0, 1.0, 1.0, 3.0, 8.0, 5.0, 5.0, 8.0, 4.0, 4.0, 2.0, 0.0, 0.0, 3.0, 0.0, 4.0, 4.0, 1.0, 5.0, 0.0, 0.0, 1.0, 9.0, 9.0, 11.0, 1.0, 10.0, 3.0, 0.0, 11.0, 1.0, 1.0, 1.0, 2.0, 7.0, 11.0, 10.0, 5.0, 1.0, 2.0, 1.0, 2.0, 0.0, 9.0, 4.0, 0.0, 2.0, 4.0, 3.0, 6.0, 9.0, 0.0, 10.0, 0.0, 7.0, 3.0, 3.0, 6.0, 7.0, 3.0, 2.0, 7.0, 4.0, 1.0, 2.0, 8.0, 10.0, 7.0, 0.0, 8.0, 2.0, 2.0, 7.0, 2.0, 2.0, 3.0, 1.0, 9.0, 11.0, 0.0, 9.0, 4.0, 1.0, 1.0, 3.0, 6.0, 10.0, 6.0, 5.0, 0.0, 8.0, 5.0, 8.0, 4.0, 4.0, 7.0, 7.0, 8.0, 8.0, 4.0, 9.0, 6.0, 2.0, 1.0, 0.0, 4.0, 6.0, 10.0, 4.0, 9.0, 0.0, 7.0, 0.0, 0.0, 7.0, 9.0, 7.0, 4.0, 1.0, 3.0, 10.0, 7.0, 9.0, 1.0, 8.0, 1.0, 11.0, 4.0, 9.0, 9.0, 5.0, 1.0, 7.0, 8.0, 9.0, 1.0, 2.0, 3.0, 0.0, 1.0, 5.0, 0.0, 3.0, 3.0, 0.0, 1.0, 10.0, 7.0, 0.0, 2.0, 8.0, 8.0, 1.0, 3.0, 5.0, 8.0, 1.0, 4.0, 2.0, 0.0, 7.0, 5.0, 4.0, 3.0, 0.0, 4.0, 3.0, 3.0, 7.0, 1.0, 0.0, 6.0, 1.0, 1.0, 2.0, 6.0, 4.0, 8.0, 1.0, 3.0, 2.0, 1.0, 2.0, 0.0, 5.0, 3.0, 2.0, 5.0, 7.0, 3.0, 0.0, 7.0, 5.0, 2.0, 0.0, 0.0, 4.0, 9.0, 1.0, 5.0, 9.0, 1.0, 5.0, 6.0, 0.0, 5.0, 5.0, 7.0, 6.0, 1.0, 8.0, 0.0, 2.0, 5.0, 3.0, 6.0, 7.0, 7.0, 3.0, 10.0, 3.0, 10.0, 1.0, 3.0, 4.0, 1.0, 0.0, 9.0, 1.0, 9.0, 0.0, 2.0, 9.0, 8.0, 10.0, 2.0, 8.0, 0.0, 1.0, 1.0, 4.0, 9.0, 0.0, 0.0, 3.0, 1.0, 5.0, 0.0, 9.0, 4.0, 11.0, 11.0, 11.0, 7.0, 0.0, 0.0, 2.0, 3.0, 1.0, 3.0, 9.0, 1.0, 2.0, 0.0, 2.0, 8.0, 6.0, 3.0, 2.0, 2.0, 3.0, 3.0, 8.0, 9.0, 1.0, 4.0, 8.0, 3.0, 0.0, 0.0, 3.0, 0.0, 2.0, 1.0, 3.0, 0.0, 7.0, 3.0, 4.0, 3.0, 8.0, 2.0, 4.0, 8.0, 3.0, 2.0, 4.0, 2.0, 0.0, 6.0, 8.0, 0.0, 0.0, 5.0, 2.0, 4.0, 7.0, 5.0, 5.0, 9.0, 0.0, 0.0, 5.0, 9.0, 3.0, 7.0, 7.0, 1.0, 6.0, 4.0, 9.0, 7.0, 3.0, 11.0, 0.0, 2.0, 7.0, 1.0, 2.0, 8.0, 8.0, 3.0, 0.0, 9.0, 4.0, 10.0, 6.0, 1.0, 3.0, 4.0, 1.0, 2.0, 10.0, 3.0, 4.0, 5.0, 3.0, 3.0, 10.0, 1.0, 1.0, 0.0, 0.0, 0.0, 2.0, 9.0, 10.0, 1.0, 0.0, 11.0, 8.0, 1.0, 9.0, 1.0, 6.0, 1.0, 4.0, 1.0, 1.0, 5.0, 0.0, 3.0, 1.0, 7.0, 5.0, 6.0, 1.0, 3.0, 7.0, 2.0, 0.0, 5.0, 2.0, 1.0, 2.0, 5.0, 7.0, 11.0, 0.0, 1.0, 1.0, 9.0, 5.0, 1.0, 2.0, 1.0, 0.0, 2.0, 3.0, 7.0, 1.0, 1.0, 0.0, 1.0, 4.0, 3.0, 3.0, 2.0, 1.0, 2.0, 8.0, 3.0, 2.0, 4.0, 6.0, 10.0, 8.0, 10.0, 0.0, 6.0, 1.0, 0.0, 0.0, 2.0, 4.0, 7.0, 0.0, 1.0, 2.0, 2.0, 1.0, 4.0, 3.0, 5.0, 1.0, 5.0, 2.0, 5.0, 2.0, 2.0, 4.0, 3.0, 8.0, 10.0, 7.0, 1.0, 7.0, 3.0, 2.0, 0.0, 1.0, 3.0, 0.0, 0.0, 2.0, 7.0, 6.0, 0.0, 3.0, 9.0, 0.0, 3.0, 3.0, 0.0, 9.0, 0.0, 3.0, 9.0, 3.0, 3.0, 3.0, 0.0, 2.0, 1.0, 2.0, 7.0, 1.0, 2.0, 2.0, 11.0, 1.0, 9.0, 2.0, 1.0, 7.0, 9.0, 11.0, 9.0, 10.0, 4.0, 1.0, 1.0, 2.0, 7.0, 5.0, 4.0, 9.0, 11.0, 0.0, 3.0, 0.0, 0.0, 3.0, 4.0, 9.0, 7.0, 0.0, 4.0, 2.0, 6.0, 3.0, 8.0, 7.0, 0.0, 0.0, 4.0, 3.0, 4.0, 2.0, 6.0, 0.0, 0.0, 5.0, 0.0, 0.0, 6.0, 8.0, 9.0, 0.0, 2.0, 0.0, 9.0, 0.0, 6.0, 0.0, 7.0, 4.0, 3.0, 10.0, 0.0, 2.0, 0.0, 5.0, 6.0, 1.0, 3.0, 9.0, 0.0, 3.0, 8.0, 6.0, 3.0, 4.0, 3.0, 0.0, 3.0, 2.0, 0.0, 4.0, 1.0, 3.0, 0.0, 0.0, 2.0, 5.0, 0.0, 3.0, 7.0, 4.0, 9.0, 3.0, 4.0, 7.0, 10.0, 9.0, 6.0, 1.0, 3.0, 3.0, 2.0, 9.0, 3.0, 0.0, 7.0, 3.0, 8.0, 1.0, 2.0, 1.0, 1.0, 9.0, 2.0, 4.0, 4.0, 0.0, 0.0, 1.0, 9.0, 1.0, 0.0, 5.0, 4.0, 1.0, 5.0, 4.0, 0.0, 2.0, 1.0, 7.0, 2.0, 8.0, 2.0, 9.0, 8.0, 3.0, 0.0, 8.0, 2.0, 1.0, 4.0, 9.0, 7.0, 3.0, 5.0, 3.0, 5.0, 9.0, 4.0, 2.0, 6.0, 0.0, 5.0, 9.0, 10.0, 1.0, 6.0, 9.0, 2.0, 11.0, 2.0, 7.0, 5.0, 2.0, 2.0, 2.0, 10.0, 4.0, 3.0, 1.0, 8.0, 7.0, 4.0, 2.0, 2.0, 4.0, 2.0, 10.0, 3.0, 1.0, 1.0, 1.0, 11.0, 11.0, 2.0, 3.0, 3.0, 0.0, 3.0, 0.0, 1.0, 5.0, 4.0, 11.0, 1.0, 0.0, 5.0, 2.0, 0.0, 2.0, 2.0, 1.0, 3.0, 6.0, 1.0, 1.0, 1.0, 2.0, 0.0, 0.0, 9.0, 7.0, 0.0, 5.0, 7.0, 1.0, 0.0, 3.0, 0.0, 1.0, 0.0, 9.0, 1.0, 2.0, 10.0, 8.0, 5.0, 8.0, 4.0, 1.0, 11.0, 1.0, 10.0, 1.0, 4.0, 3.0, 3.0, 1.0, 3.0, 10.0, 1.0, 3.0, 0.0, 6.0, 4.0, 1.0, 9.0, 7.0, 0.0, 11.0, 8.0, 1.0, 2.0, 5.0, 5.0, 2.0, 8.0, 4.0, 7.0, 3.0, 4.0, 1.0, 0.0, 8.0, 1.0, 0.0, 4.0, 9.0, 8.0, 11.0, 4.0, 0.0, 0.0, 6.0, 5.0, 1.0, 0.0, 2.0, 2.0, 0.0, 4.0, 2.0, 4.0, 3.0, 7.0, 6.0, 9.0, 7.0, 1.0, 5.0, 1.0, 5.0, 7.0, 1.0, 9.0, 1.0, 1.0, 7.0, 4.0, 5.0, 5.0, 5.0, 2.0, 5.0, 2.0, 8.0, 2.0, 3.0, 7.0, 2.0, 9.0, 4.0, 9.0, 1.0, 4.0, 9.0, 2.0, 0.0, 2.0, 5.0, 2.0, 0.0, 3.0, 10.0, 5.0, 4.0, 0.0, 0.0, 5.0, 5.0, 5.0, 3.0, 0.0, 3.0, 8.0, 1.0, 2.0, 4.0, 9.0, 3.0, 9.0, 0.0, 8.0, 9.0, 0.0, 3.0, 8.0, 5.0, 5.0, 1.0, 2.0, 3.0, 4.0, 4.0, 9.0, 0.0, 4.0, 3.0, 9.0, 5.0, 10.0, 2.0, 4.0, 5.0, 7.0, 1.0, 5.0, 1.0, 0.0, 2.0, 7.0, 9.0, 9.0, 11.0, 9.0, 1.0, 1.0, 5.0, 0.0, 11.0, 6.0, 0.0, 1.0, 2.0, 7.0, 3.0, 3.0, 9.0, 0.0, 7.0, 8.0, 0.0, 0.0, 5.0, 3.0, 9.0, 0.0, 3.0, 1.0, 0.0, 5.0, 5.0, 9.0, 4.0, 3.0, 4.0, 3.0, 2.0, 1.0, 3.0, 5.0, 6.0, 2.0, 6.0, 4.0, 6.0, 5.0, 1.0, 9.0, 5.0, 3.0, 9.0, 6.0, 2.0, 0.0, 0.0, 9.0, 1.0, 7.0, 2.0, 3.0, 10.0, 1.0, 2.0, 0.0, 9.0, 1.0, 11.0, 6.0, 4.0, 3.0, 6.0, 3.0, 9.0, 2.0, 7.0, 0.0, 4.0, 2.0, 0.0, 7.0, 1.0, 4.0, 0.0, 3.0, 0.0, 6.0, 1.0, 10.0, 10.0, 0.0, 9.0, 11.0, 1.0, 7.0, 1.0, 2.0, 1.0, 8.0, 8.0, 8.0, 3.0, 1.0, 2.0, 1.0, 0.0, 7.0, 2.0, 6.0, 4.0, 4.0, 9.0, 4.0, 2.0, 7.0, 9.0, 0.0, 3.0, 8.0, 1.0, 0.0, 4.0, 10.0, 0.0, 5.0, 0.0, 0.0, 4.0, 1.0, 9.0, 8.0, 5.0, 1.0, 0.0, 2.0, 1.0, 1.0, 0.0, 1.0, 4.0, 9.0, 7.0, 3.0, 2.0, 6.0, 1.0, 2.0, 7.0, 0.0, 0.0, 7.0, 1.0, 4.0, 10.0, 8.0, 10.0, 0.0, 9.0, 1.0, 0.0, 4.0, 8.0, 8.0, 7.0, 9.0, 4.0, 7.0, 1.0, 1.0, 5.0, 3.0, 4.0, 1.0, 1.0, 4.0, 1.0, 9.0, 6.0, 1.0, 1.0, 1.0, 6.0, 0.0, 1.0, 11.0, 0.0, 3.0, 5.0, 1.0, 8.0, 5.0, 7.0, 1.0, 2.0, 4.0, 1.0, 0.0, 4.0, 2.0, 8.0, 9.0, 3.0, 7.0, 1.0, 9.0, 2.0, 0.0, 4.0, 4.0, 5.0, 7.0, 2.0, 3.0, 7.0, 5.0, 1.0, 1.0, 4.0, 2.0, 2.0, 7.0, 6.0, 9.0, 4.0, 9.0, 5.0, 3.0, 5.0, 1.0, 2.0, 2.0, 1.0, 9.0, 4.0, 4.0, 5.0, 7.0, 1.0, 10.0, 0.0, 3.0, 3.0, 9.0, 2.0, 2.0, 1.0, 2.0, 9.0, 7.0, 6.0, 10.0, 0.0, 3.0, 6.0, 3.0, 10.0, 6.0, 8.0, 11.0, 2.0, 3.0, 1.0, 1.0, 2.0, 0.0, 2.0, 3.0, 3.0, 9.0, 3.0, 0.0, 0.0, 4.0, 0.0, 8.0, 5.0, 1.0, 0.0, 10.0, 1.0, 11.0, 0.0, 8.0, 3.0, 3.0, 4.0, 3.0, 1.0, 1.0, 4.0, 9.0, 7.0, 0.0, 4.0, 11.0, 2.0, 0.0, 6.0, 7.0, 2.0, 1.0, 5.0, 9.0, 9.0, 6.0, 4.0, 1.0, 0.0, 3.0, 7.0, 4.0, 3.0, 0.0, 6.0, 3.0, 8.0, 4.0, 2.0, 7.0, 0.0, 8.0, 7.0, 3.0, 7.0, 2.0, 0.0, 7.0, 4.0, 2.0, 7.0, 4.0, 7.0, 3.0, 10.0, 3.0, 10.0, 7.0, 0.0, 2.0, 4.0, 7.0, 8.0, 6.0, 8.0, 11.0, 9.0, 3.0, 7.0, 3.0, 5.0, 0.0, 8.0, 11.0, 2.0, 4.0, 0.0, 10.0, 3.0, 11.0, 5.0, 0.0, 3.0, 2.0, 7.0, 0.0, 10.0, 0.0, 2.0, 9.0, 0.0, 5.0, 9.0, 4.0, 3.0, 1.0, 3.0, 7.0, 2.0, 4.0, 10.0, 0.0, 4.0, 11.0, 0.0, 0.0, 1.0, 5.0, 8.0, 11.0, 3.0, 2.0, 1.0, 0.0, 7.0, 3.0, 3.0, 5.0, 3.0, 4.0, 4.0, 4.0, 11.0, 6.0, 2.0, 2.0, 1.0, 7.0, 0.0, 3.0, 7.0, 0.0, 1.0, 0.0, 0.0, 7.0, 7.0, 7.0, 1.0, 8.0, 1.0, 3.0, 1.0, 10.0, 1.0, 0.0, 6.0, 0.0, 3.0, 5.0, 6.0, 4.0, 7.0, 1.0, 8.0, 0.0, 11.0, 2.0, 9.0, 9.0, 4.0, 10.0, 0.0, 4.0, 9.0, 4.0, 4.0, 4.0, 10.0, 2.0, 0.0, 3.0, 1.0, 1.0, 2.0, 2.0, 8.0, 3.0, 1.0, 1.0, 0.0, 7.0, 2.0, 0.0, 9.0, 3.0, 8.0, 2.0, 4.0, 8.0, 2.0, 4.0, 9.0, 7.0, 0.0, 0.0, 5.0, 8.0, 1.0, 3.0, 2.0, 7.0, 9.0, 3.0, 3.0, 10.0, 1.0, 2.0, 6.0, 11.0, 3.0, 0.0, 2.0, 9.0, 10.0, 1.0, 3.0, 3.0, 6.0, 5.0, 2.0, 9.0, 7.0, 6.0, 0.0, 11.0, 2.0, 8.0, 9.0, 9.0, 0.0, 11.0, 7.0, 4.0, 9.0, 7.0, 1.0, 1.0, 4.0, 9.0, 2.0, 1.0, 3.0, 7.0, 0.0, 3.0, 1.0, 1.0, 2.0, 2.0, 7.0, 4.0, 3.0, 2.0, 9.0, 1.0, 3.0, 7.0, 1.0, 3.0, 7.0, 0.0, 3.0, 9.0, 8.0, 9.0, 4.0, 0.0, 7.0, 7.0, 2.0, 2.0, 1.0, 2.0, 1.0, 10.0, 8.0, 3.0, 0.0, 1.0, 3.0, 1.0, 0.0, 1.0, 2.0, 3.0, 9.0, 6.0, 0.0, 3.0, 9.0, 4.0, 7.0, 6.0, 0.0, 1.0, 3.0, 7.0, 9.0, 7.0, 7.0, 4.0, 4.0, 0.0, 2.0, 4.0, 2.0, 5.0, 11.0, 2.0, 11.0, 5.0, 6.0, 9.0, 1.0, 0.0, 0.0, 3.0, 3.0, 3.0, 5.0, 4.0, 11.0, 10.0, 1.0, 7.0, 9.0, 9.0, 11.0, 0.0, 0.0, 1.0, 1.0, 8.0, 9.0, 5.0, 2.0, 1.0, 2.0, 9.0, 10.0, 8.0, 11.0, 2.0, 1.0, 3.0, 4.0, 3.0, 6.0, 10.0, 0.0, 0.0, 3.0, 7.0, 3.0, 1.0, 0.0, 0.0, 2.0, 6.0, 4.0, 4.0, 0.0, 2.0, 6.0, 2.0, 6.0, 2.0, 2.0, 4.0, 10.0, 1.0, 2.0, 0.0, 3.0, 0.0, 7.0, 5.0, 6.0, 3.0, 6.0, 10.0, 6.0, 4.0, 0.0, 7.0, 1.0, 10.0, 8.0, 7.0, 2.0, 5.0, 4.0, 2.0, 2.0, 1.0, 7.0, 3.0, 9.0, 5.0, 9.0, 1.0, 3.0, 0.0, 10.0, 3.0, 9.0, 8.0, 2.0, 7.0, 1.0, 2.0, 8.0, 1.0, 2.0, 1.0, 1.0, 8.0, 4.0, 3.0, 3.0, 1.0, 8.0, 5.0, 0.0, 7.0, 0.0, 7.0, 0.0, 0.0, 6.0, 4.0, 3.0, 0.0, 8.0, 5.0, 7.0, 2.0, 8.0, 3.0, 10.0, 0.0, 4.0, 9.0, 4.0, 6.0, 7.0, 1.0, 2.0, 7.0, 1.0, 4.0, 6.0, 10.0, 9.0, 3.0, 5.0, 2.0, 7.0, 5.0, 10.0, 8.0, 5.0, 8.0, 2.0, 6.0, 9.0, 3.0, 7.0, 9.0, 2.0, 1.0, 10.0, 9.0, 4.0, 10.0, 0.0, 5.0, 0.0, 3.0, 6.0, 8.0, 5.0, 3.0, 10.0, 9.0, 6.0, 7.0, 7.0, 0.0, 8.0, 3.0, 9.0, 9.0, 11.0, 3.0, 1.0, 9.0, 3.0, 9.0, 2.0, 0.0, 3.0, 2.0, 1.0, 8.0, 1.0, 0.0, 0.0, 9.0, 9.0, 2.0, 1.0, 7.0, 0.0, 9.0, 7.0, 0.0, 9.0, 2.0, 0.0, 6.0, 3.0, 8.0, 2.0, 4.0, 4.0, 1.0, 5.0, 0.0, 9.0, 1.0, 5.0, 2.0, 5.0, 2.0, 6.0, 6.0, 11.0, 1.0, 4.0, 0.0, 9.0, 0.0, 1.0, 8.0, 9.0, 3.0, 4.0, 5.0, 9.0, 1.0, 0.0, 0.0, 9.0, 2.0, 6.0, 5.0, 0.0, 10.0, 3.0, 0.0, 0.0, 0.0, 3.0, 8.0, 0.0, 4.0, 9.0, 1.0, 4.0, 3.0, 5.0, 3.0, 3.0, 8.0, 5.0, 8.0, 10.0, 4.0, 9.0, 11.0, 11.0, 5.0, 10.0, 9.0, 7.0, 8.0, 3.0, 0.0, 7.0, 0.0, 10.0, 3.0, 10.0, 2.0, 8.0, 9.0, 1.0, 3.0, 8.0, 7.0, 7.0, 4.0, 9.0, 6.0, 8.0, 2.0, 0.0, 8.0, 7.0, 0.0, 1.0, 2.0, 0.0, 8.0, 0.0, 3.0, 8.0, 0.0, 10.0, 1.0, 7.0, 0.0, 1.0, 2.0, 8.0, 5.0, 4.0, 8.0, 5.0, 3.0, 3.0, 10.0, 1.0, 9.0, 1.0, 4.0, 4.0, 1.0, 3.0, 6.0, 8.0, 0.0, 3.0, 0.0, 3.0, 2.0, 1.0, 0.0, 8.0, 0.0, 7.0, 10.0, 2.0, 1.0, 4.0, 3.0, 7.0, 8.0, 5.0, 1.0, 0.0, 4.0, 1.0, 1.0, 9.0, 0.0, 8.0, 6.0, 9.0, 0.0, 10.0, 8.0, 7.0, 9.0, 5.0, 9.0, 10.0, 2.0, 9.0, 11.0, 0.0, 0.0, 5.0, 6.0, 10.0, 0.0, 3.0, 0.0, 0.0, 3.0, 9.0, 2.0, 9.0, 6.0, 10.0, 7.0, 1.0, 3.0, 9.0, 1.0, 0.0, 8.0, 1.0, 2.0, 1.0, 8.0, 2.0, 3.0, 8.0, 2.0, 5.0, 9.0, 5.0, 5.0, 2.0, 2.0, 3.0, 8.0, 11.0, 8.0, 0.0, 9.0, 3.0, 8.0, 11.0, 6.0, 10.0, 6.0, 5.0, 2.0, 3.0, 8.0, 0.0, 10.0, 6.0, 6.0, 1.0, 2.0, 1.0, 1.0, 9.0, 0.0, 5.0, 2.0, 5.0, 9.0, 2.0, 6.0, 10.0, 0.0, 7.0, 3.0, 0.0, 4.0, 8.0, 0.0, 7.0, 1.0, 11.0, 1.0, 3.0, 1.0, 5.0, 0.0, 2.0, 0.0, 0.0, 1.0, 3.0, 0.0, 10.0, 0.0, 3.0, 3.0, 1.0, 0.0, 0.0, 8.0, 6.0, 2.0, 7.0, 5.0, 2.0, 3.0, 4.0, 0.0, 9.0, 7.0, 9.0, 5.0, 8.0, 0.0, 8.0, 5.0, 4.0, 5.0, 5.0, 0.0, 0.0, 9.0, 2.0, 3.0, 8.0, 0.0, 3.0, 2.0, 6.0, 1.0, 2.0, 2.0, 3.0, 4.0, 4.0, 7.0, 1.0, 1.0, 1.0, 4.0, 8.0, 0.0, 2.0, 9.0, 0.0, 1.0, 0.0, 11.0, 11.0, 1.0, 0.0, 2.0, 6.0, 8.0, 1.0, 0.0, 7.0, 3.0, 1.0, 0.0, 1.0, 4.0, 4.0, 4.0, 3.0, 1.0, 3.0, 8.0, 3.0, 3.0, 3.0, 7.0, 4.0, 0.0, 5.0, 0.0, 3.0, 7.0, 7.0, 4.0, 9.0, 11.0, 2.0, 0.0, 2.0, 9.0, 0.0, 6.0, 0.0, 11.0, 2.0, 6.0, 4.0, 9.0, 2.0, 0.0, 2.0, 3.0, 6.0, 3.0, 8.0, 0.0, 1.0, 4.0, 10.0, 3.0, 2.0, 6.0, 9.0, 9.0, 5.0, 3.0, 0.0, 0.0, 10.0, 4.0, 2.0, 3.0, 0.0, 10.0, 9.0, 2.0, 8.0, 11.0, 10.0, 3.0, 9.0, 5.0, 3.0, 0.0, 1.0, 6.0, 8.0, 3.0, 0.0, 2.0, 2.0, 4.0, 7.0, 3.0, 1.0, 2.0, 4.0, 1.0, 1.0, 4.0, 1.0, 3.0, 2.0, 7.0, 6.0, 1.0, 4.0, 1.0, 2.0, 0.0, 1.0, 0.0, 10.0, 4.0, 6.0, 10.0, 4.0, 4.0, 7.0, 6.0, 7.0, 4.0, 0.0, 8.0, 3.0, 0.0, 7.0, 2.0, 9.0, 3.0, 6.0, 9.0, 1.0, 6.0, 6.0, 4.0, 3.0, 5.0, 1.0, 10.0, 4.0, 10.0, 7.0, 1.0, 0.0, 1.0, 5.0, 8.0, 8.0, 11.0, 4.0, 0.0, 3.0, 4.0, 0.0, 3.0, 0.0, 1.0, 6.0, 9.0, 1.0, 3.0, 9.0, 7.0, 3.0, 8.0, 0.0, 4.0, 9.0, 9.0, 1.0, 4.0, 2.0, 0.0, 8.0, 1.0, 2.0, 2.0, 6.0, 8.0, 1.0, 7.0, 0.0, 10.0, 4.0, 6.0, 8.0, 4.0, 1.0, 4.0, 10.0, 2.0, 6.0, 2.0, 5.0, 9.0, 0.0, 1.0, 0.0, 8.0, 5.0, 11.0, 2.0, 0.0, 9.0, 7.0, 2.0, 8.0, 0.0, 0.0, 0.0, 5.0, 0.0, 2.0, 8.0, 1.0, 3.0, 4.0, 4.0, 3.0, 0.0, 2.0, 9.0, 6.0, 7.0, 0.0, 2.0, 5.0, 7.0, 9.0, 1.0, 4.0, 0.0, 4.0, 6.0, 5.0, 10.0, 1.0, 8.0, 5.0, 7.0, 9.0, 8.0, 0.0, 0.0, 0.0, 1.0, 8.0, 2.0, 8.0, 5.0, 1.0, 8.0, 0.0, 4.0, 0.0, 0.0, 4.0, 10.0, 2.0, 1.0, 4.0, 1.0, 2.0, 8.0, 5.0, 1.0, 8.0, 0.0, 3.0, 7.0, 2.0, 8.0, 8.0, 5.0, 2.0, 9.0, 8.0, 1.0, 8.0, 2.0, 2.0, 7.0, 5.0, 4.0, 2.0, 7.0, 9.0, 3.0, 7.0, 4.0, 0.0, 7.0, 6.0, 3.0, 1.0, 0.0, 6.0, 1.0, 6.0, 1.0, 10.0, 2.0, 8.0, 5.0, 10.0, 6.0, 4.0, 9.0, 1.0, 1.0, 1.0, 2.0, 3.0, 3.0, 5.0, 6.0, 7.0, 7.0, 6.0, 9.0, 10.0, 3.0, 0.0, 5.0, 6.0, 9.0, 3.0, 3.0, 3.0, 7.0, 3.0, 0.0, 5.0, 4.0, 5.0, 3.0, 4.0, 5.0, 3.0, 8.0, 9.0, 2.0, 3.0, 5.0, 2.0, 8.0, 2.0, 5.0, 9.0, 0.0, 11.0, 9.0, 5.0, 8.0, 1.0, 0.0, 2.0, 2.0, 9.0, 2.0, 7.0, 8.0, 4.0, 3.0, 0.0, 0.0, 8.0, 3.0, 6.0, 3.0, 0.0, 4.0, 2.0, 7.0, 9.0, 1.0, 6.0, 4.0, 10.0, 8.0, 4.0, 11.0, 10.0, 2.0, 11.0, 9.0, 0.0, 4.0, 10.0, 8.0, 6.0, 0.0, 3.0, 2.0, 4.0, 0.0, 1.0, 2.0, 0.0, 9.0, 6.0, 4.0, 1.0, 7.0, 0.0, 2.0, 3.0, 8.0, 0.0, 5.0, 4.0, 1.0, 3.0, 7.0, 2.0, 0.0, 1.0, 1.0, 1.0, 5.0, 8.0, 7.0, 6.0, 1.0, 8.0, 10.0, 2.0, 0.0, 7.0, 8.0, 2.0, 3.0, 2.0, 5.0, 0.0, 1.0, 5.0, 7.0, 1.0, 7.0, 4.0, 1.0, 4.0, 0.0, 4.0, 3.0, 0.0, 5.0, 2.0, 7.0, 3.0, 0.0, 1.0, 2.0, 1.0, 0.0, 0.0, 5.0, 0.0, 5.0, 2.0, 1.0, 1.0, 4.0, 7.0, 2.0, 7.0, 3.0, 0.0, 7.0, 2.0, 5.0, 3.0, 1.0, 7.0, 0.0, 4.0, 7.0, 9.0, 3.0, 1.0, 10.0, 7.0, 3.0, 7.0, 3.0, 5.0, 2.0, 0.0, 10.0, 1.0, 9.0, 8.0, 3.0, 3.0, 8.0, 9.0, 2.0, 2.0, 2.0, 1.0, 6.0, 5.0, 2.0, 8.0, 7.0, 5.0, 4.0, 4.0, 7.0, 4.0, 5.0, 0.0, 0.0, 11.0, 8.0, 2.0, 9.0, 5.0, 8.0, 10.0, 7.0, 2.0, 5.0, 2.0, 4.0, 5.0, 4.0, 11.0, 5.0, 4.0, 6.0, 5.0, 4.0, 9.0, 1.0, 4.0, 2.0, 2.0, 2.0, 4.0, 2.0, 9.0, 10.0, 11.0, 8.0, 0.0, 8.0, 3.0, 10.0, 3.0, 11.0, 5.0, 1.0, 3.0, 3.0, 10.0, 0.0, 7.0, 1.0, 1.0, 0.0, 9.0, 7.0, 0.0, 2.0, 0.0, 3.0, 3.0, 1.0, 5.0, 0.0, 2.0, 3.0, 2.0, 3.0, 1.0, 0.0, 0.0, 1.0, 0.0, 7.0, 5.0, 2.0, 10.0, 0.0, 1.0, 8.0, 2.0, 3.0, 2.0, 4.0, 1.0, 3.0, 1.0, 4.0, 3.0, 8.0, 3.0, 0.0, 6.0, 5.0, 8.0, 3.0, 11.0, 3.0, 8.0, 3.0, 9.0, 8.0, 11.0, 2.0, 0.0, 9.0, 1.0, 0.0, 1.0, 4.0, 5.0, 10.0, 3.0, 9.0, 10.0, 6.0, 1.0, 2.0, 8.0, 9.0, 0.0, 3.0, 3.0, 4.0, 8.0, 0.0, 1.0, 3.0, 3.0, 10.0, 1.0, 11.0, 0.0, 5.0, 0.0, 0.0, 11.0, 7.0, 0.0, 4.0, 8.0, 11.0, 1.0, 9.0, 0.0, 0.0, 1.0, 0.0, 7.0, 7.0, 10.0, 6.0, 1.0, 3.0, 9.0, 1.0, 9.0, 5.0, 8.0, 3.0, 0.0, 10.0, 6.0, 0.0, 9.0, 5.0, 0.0, 7.0, 8.0, 0.0, 0.0, 0.0, 0.0, 1.0, 9.0, 11.0, 4.0, 0.0, 1.0, 1.0, 3.0, 4.0, 0.0, 10.0, 4.0, 2.0, 2.0, 7.0, 0.0, 9.0, 8.0, 3.0, 2.0, 9.0, 6.0, 1.0, 2.0, 3.0, 10.0, 2.0, 1.0, 1.0, 1.0, 0.0, 10.0, 2.0, 1.0, 7.0, 2.0, 2.0, 4.0, 0.0, 1.0, 9.0, 8.0, 6.0, 1.0, 1.0, 6.0, 0.0, 0.0, 1.0, 5.0, 4.0, 10.0, 9.0, 1.0, 7.0, 8.0, 2.0, 0.0, 4.0, 7.0, 10.0, 2.0, 6.0, 8.0, 6.0, 0.0, 4.0, 5.0, 3.0, 3.0, 8.0, 1.0, 2.0, 4.0, 5.0, 7.0, 4.0, 0.0, 7.0, 4.0, 5.0, 2.0, 6.0, 1.0, 5.0, 7.0, 7.0, 4.0, 3.0, 7.0, 3.0, 2.0, 9.0, 4.0, 7.0, 10.0, 5.0, 10.0, 6.0, 0.0, 10.0, 7.0, 9.0, 1.0, 4.0, 9.0, 5.0, 6.0, 10.0, 7.0, 5.0, 9.0, 3.0, 9.0, 7.0, 1.0, 4.0, 3.0, 1.0, 10.0, 8.0, 10.0, 9.0, 4.0, 6.0, 8.0, 9.0, 9.0, 1.0, 4.0, 2.0, 7.0, 5.0, 7.0, 9.0, 5.0, 2.0, 10.0, 1.0, 1.0, 8.0, 9.0, 2.0, 4.0, 3.0, 10.0, 3.0, 4.0, 7.0, 8.0, 0.0, 8.0, 3.0, 9.0, 0.0, 1.0, 0.0, 1.0, 2.0, 2.0, 3.0, 6.0, 9.0, 3.0, 2.0, 8.0, 2.0, 1.0, 3.0, 2.0, 10.0, 8.0, 0.0, 8.0, 1.0, 2.0, 4.0, 8.0, 3.0, 9.0, 0.0, 2.0, 8.0, 3.0, 7.0, 2.0, 0.0, 5.0, 2.0, 0.0, 6.0, 0.0, 4.0, 9.0, 3.0, 5.0, 10.0, 1.0, 3.0, 6.0, 9.0, 2.0, 6.0, 2.0, 3.0, 6.0, 8.0, 9.0, 9.0, 5.0, 2.0, 0.0, 7.0, 3.0, 5.0, 5.0, 1.0, 2.0, 11.0, 2.0, 2.0, 10.0, 7.0, 3.0, 4.0, 1.0, 2.0, 1.0, 3.0, 5.0, 1.0, 9.0, 8.0, 7.0, 1.0, 8.0, 8.0, 2.0, 0.0, 9.0, 9.0, 3.0, 0.0, 4.0, 3.0, 2.0, 2.0, 3.0, 1.0, 1.0, 9.0, 6.0, 5.0, 8.0, 1.0, 8.0, 3.0, 10.0, 3.0, 11.0, 3.0, 7.0, 0.0, 2.0, 10.0, 3.0, 4.0, 8.0, 5.0, 6.0, 4.0, 7.0, 2.0, 5.0, 3.0, 7.0, 0.0, 10.0, 1.0, 4.0, 1.0, 2.0, 9.0, 2.0, 0.0, 10.0, 2.0, 10.0, 9.0, 2.0, 8.0, 2.0, 8.0, 0.0, 9.0, 6.0, 7.0, 0.0, 2.0, 8.0, 0.0, 3.0, 3.0, 3.0, 11.0, 4.0, 8.0, 6.0, 7.0, 3.0, 5.0, 5.0, 8.0, 7.0, 3.0, 2.0, 3.0, 0.0, 4.0, 1.0, 0.0, 6.0, 3.0, 7.0, 2.0, 2.0, 0.0, 0.0, 11.0, 5.0, 2.0, 4.0, 0.0, 0.0, 1.0, 4.0, 1.0, 0.0, 3.0, 11.0, 4.0, 0.0, 0.0, 0.0, 8.0, 10.0, 10.0, 9.0, 0.0, 6.0, 11.0, 6.0, 0.0, 8.0, 9.0, 5.0, 0.0, 8.0, 6.0, 6.0, 4.0, 1.0, 3.0, 4.0, 8.0, 7.0, 9.0, 0.0, 3.0, 4.0, 7.0, 7.0, 7.0, 0.0, 1.0, 4.0, 1.0, 9.0, 6.0, 2.0, 3.0, 2.0, 10.0, 2.0, 3.0, 6.0, 3.0, 1.0, 4.0, 0.0, 4.0, 4.0, 8.0, 1.0, 0.0, 3.0, 1.0, 8.0, 4.0, 0.0, 5.0, 6.0, 1.0, 6.0, 2.0, 4.0, 2.0, 11.0, 1.0, 0.0, 5.0, 7.0, 0.0, 1.0, 6.0, 4.0, 9.0, 9.0, 7.0, 3.0, 2.0, 3.0, 0.0, 10.0, 8.0, 4.0, 3.0, 9.0, 8.0, 3.0, 7.0, 8.0, 9.0, 4.0, 3.0, 2.0, 6.0, 0.0, 8.0, 8.0, 1.0, 7.0, 0.0, 5.0, 2.0, 2.0, 9.0, 0.0, 6.0, 2.0, 6.0, 6.0, 3.0, 3.0, 4.0, 5.0, 4.0, 3.0, 10.0, 5.0, 7.0, 5.0, 8.0, 3.0, 0.0, 3.0, 5.0, 8.0, 5.0, 2.0, 7.0, 4.0, 4.0, 7.0, 4.0, 10.0, 8.0, 6.0, 2.0, 8.0, 7.0, 5.0, 6.0, 2.0, 4.0, 10.0, 1.0, 2.0, 7.0, 2.0, 4.0, 1.0, 3.0, 1.0, 7.0, 7.0, 1.0, 10.0, 2.0, 3.0, 0.0, 0.0, 7.0, 1.0, 3.0, 2.0, 8.0, 1.0, 0.0, 3.0, 2.0, 6.0, 9.0, 8.0, 0.0, 7.0, 5.0, 3.0, 4.0, 1.0, 2.0, 6.0, 7.0, 0.0, 2.0, 7.0, 1.0, 2.0, 7.0, 9.0, 3.0, 4.0, 0.0, 6.0, 0.0, 7.0, 9.0, 3.0, 3.0, 9.0, 4.0, 8.0, 6.0, 2.0, 2.0, 11.0, 3.0, 2.0, 1.0, 4.0, 1.0, 4.0, 9.0, 1.0, 0.0, 4.0, 5.0, 7.0, 2.0, 2.0, 3.0, 0.0, 9.0, 1.0, 1.0, 2.0, 0.0, 8.0, 3.0, 1.0, 0.0, 8.0, 1.0, 3.0, 4.0, 0.0, 3.0, 10.0, 1.0, 7.0, 0.0, 5.0, 9.0, 3.0, 5.0, 8.0, 6.0, 2.0, 0.0, 1.0, 3.0, 2.0, 4.0, 0.0, 7.0, 6.0, 9.0, 4.0, 4.0, 9.0, 9.0, 3.0, 10.0, 7.0, 0.0, 0.0, 3.0, 2.0, 5.0, 11.0, 2.0, 4.0, 0.0, 3.0, 9.0, 2.0, 4.0, 3.0, 2.0, 5.0, 9.0, 3.0, 0.0, 6.0, 0.0, 9.0, 1.0, 0.0, 8.0, 9.0, 2.0, 5.0, 0.0, 0.0, 1.0, 10.0, 8.0, 0.0, 3.0, 8.0, 7.0, 8.0, 0.0, 3.0, 3.0, 9.0, 3.0, 6.0, 11.0, 6.0, 4.0, 0.0, 5.0, 8.0, 3.0, 0.0, 1.0, 8.0, 2.0, 2.0, 0.0, 3.0, 4.0, 0.0, 1.0, 10.0, 3.0, 10.0, 2.0, 3.0, 10.0, 9.0, 3.0, 3.0, 8.0, 10.0, 10.0, 8.0, 2.0, 0.0, 0.0, 0.0, 4.0, 4.0, 0.0, 1.0, 3.0, 2.0, 0.0, 6.0, 5.0, 0.0, 0.0, 4.0, 7.0, 1.0, 6.0, 2.0, 9.0, 3.0, 0.0, 0.0, 0.0, 1.0, 2.0, 7.0, 0.0, 8.0, 9.0, 5.0, 9.0, 1.0, 0.0, 2.0, 2.0, 4.0, 0.0, 4.0, 1.0, 7.0, 2.0, 5.0, 5.0, 3.0, 7.0, 1.0, 5.0, 0.0, 0.0, 0.0, 3.0, 3.0, 3.0, 8.0, 2.0, 8.0, 10.0, 0.0, 3.0, 7.0, 10.0, 6.0, 0.0, 2.0, 7.0, 4.0, 3.0, 7.0, 0.0, 6.0, 9.0, 8.0, 0.0, 0.0, 2.0, 4.0, 5.0, 3.0, 11.0, 10.0, 4.0, 3.0, 3.0, 4.0, 0.0, 2.0, 4.0, 0.0, 5.0, 0.0, 0.0, 0.0, 0.0, 1.0, 1.0, 0.0, 2.0, 3.0, 1.0, 4.0, 6.0, 1.0, 0.0, 6.0, 4.0, 1.0, 3.0, 4.0, 3.0, 9.0, 5.0, 8.0, 1.0, 3.0, 7.0, 1.0, 2.0, 1.0, 1.0, 3.0, 0.0, 5.0, 5.0, 3.0, 3.0, 5.0, 2.0, 0.0, 4.0, 0.0, 8.0, 7.0, 3.0, 0.0, 8.0, 1.0, 0.0, 8.0, 1.0, 0.0, 0.0, 6.0, 3.0, 8.0, 3.0, 2.0, 7.0, 0.0, 11.0, 0.0, 0.0, 0.0, 8.0, 0.0, 8.0, 2.0, 3.0, 3.0, 0.0, 8.0, 8.0, 2.0, 2.0, 1.0, 1.0, 1.0, 5.0, 3.0, 3.0, 8.0, 1.0, 1.0, 2.0, 1.0, 3.0, 3.0, 7.0, 2.0, 4.0, 0.0, 0.0, 9.0, 3.0, 7.0, 7.0, 1.0, 1.0, 4.0, 8.0, 8.0, 9.0, 0.0, 6.0, 7.0, 5.0, 3.0, 2.0, 5.0, 1.0, 6.0, 1.0, 6.0, 1.0, 4.0, 8.0, 2.0, 5.0, 2.0, 1.0, 7.0, 1.0, 7.0, 0.0, 0.0, 5.0, 2.0, 6.0, 9.0, 0.0, 0.0, 7.0, 0.0, 7.0, 5.0, 11.0, 0.0, 3.0, 4.0, 4.0, 1.0, 7.0, 1.0, 4.0, 4.0, 3.0, 0.0, 0.0, 7.0, 1.0, 9.0, 2.0, 1.0, 3.0, 6.0, 9.0, 4.0, 1.0, 8.0, 10.0, 7.0, 2.0, 6.0, 10.0, 3.0, 3.0, 3.0, 0.0, 2.0, 8.0, 5.0, 0.0, 2.0, 0.0, 3.0, 1.0, 6.0, 4.0, 0.0, 2.0, 1.0, 10.0, 2.0, 2.0, 2.0, 11.0, 2.0, 2.0, 0.0, 2.0, 7.0, 9.0, 3.0, 3.0, 8.0, 11.0, 2.0, 7.0, 5.0, 2.0, 1.0, 5.0, 7.0, 1.0, 6.0, 9.0, 4.0, 2.0, 2.0, 2.0, 8.0, 2.0, 2.0, 4.0, 2.0, 7.0, 6.0, 9.0, 7.0, 0.0, 7.0, 3.0, 5.0, 4.0, 2.0, 6.0, 5.0, 9.0, 8.0, 4.0, 8.0, 8.0, 10.0, 9.0, 7.0, 3.0, 3.0, 4.0, 5.0, 0.0, 4.0, 7.0, 4.0, 2.0, 0.0, 0.0, 4.0, 1.0, 5.0, 2.0, 1.0, 5.0, 2.0, 3.0, 10.0, 3.0, 3.0, 0.0, 1.0, 1.0, 4.0, 9.0, 1.0, 2.0, 2.0, 7.0, 2.0, 1.0, 7.0, 11.0, 9.0, 0.0, 2.0, 8.0, 3.0, 8.0, 4.0, 1.0, 0.0, 8.0, 3.0, 8.0, 1.0, 3.0, 1.0, 6.0, 4.0, 8.0, 8.0, 9.0, 3.0, 3.0, 6.0, 9.0, 0.0, 1.0, 5.0, 7.0, 2.0, 4.0, 9.0, 10.0, 0.0, 0.0, 8.0, 1.0, 6.0, 9.0, 1.0, 9.0, 3.0, 5.0, 7.0, 0.0, 8.0, 6.0, 7.0, 3.0, 10.0, 3.0, 8.0, 5.0, 1.0, 10.0, 8.0, 3.0, 2.0, 3.0, 0.0, 2.0, 4.0, 9.0, 10.0, 3.0, 1.0, 7.0, 2.0, 3.0, 0.0, 4.0, 9.0, 3.0, 0.0, 9.0, 1.0, 3.0, 2.0, 6.0, 5.0, 5.0, 5.0, 4.0, 6.0, 4.0, 2.0, 4.0, 0.0, 3.0, 4.0, 1.0, 1.0, 9.0, 0.0, 1.0, 3.0, 3.0, 8.0, 3.0, 3.0, 10.0, 8.0, 3.0, 4.0, 5.0, 3.0, 8.0, 6.0, 8.0, 0.0, 9.0, 1.0, 3.0, 2.0, 6.0, 7.0, 10.0, 8.0, 9.0, 7.0, 8.0, 1.0, 1.0, 3.0, 7.0, 10.0, 7.0, 1.0, 2.0, 5.0, 5.0, 4.0, 8.0, 9.0, 3.0, 8.0, 4.0, 2.0, 1.0, 2.0, 3.0, 7.0, 3.0, 8.0, 2.0, 3.0, 1.0, 10.0, 0.0, 4.0, 1.0, 6.0, 2.0, 8.0, 7.0, 2.0, 3.0, 10.0, 4.0, 0.0, 6.0, 0.0, 3.0, 2.0, 1.0, 0.0, 2.0, 0.0, 0.0, 0.0, 1.0, 1.0, 0.0, 2.0, 8.0, 3.0, 8.0, 0.0, 1.0, 0.0, 0.0, 5.0, 0.0, 0.0, 7.0, 5.0, 1.0, 3.0, 1.0, 0.0, 0.0, 2.0, 3.0, 3.0, 8.0, 10.0, 7.0, 0.0, 3.0, 2.0, 5.0, 2.0, 0.0, 1.0, 8.0, 5.0, 3.0, 7.0, 5.0, 4.0, 6.0, 6.0, 5.0, 1.0, 2.0, 1.0, 8.0, 1.0, 0.0, 3.0, 0.0, 1.0, 3.0, 2.0, 2.0, 7.0, 0.0, 8.0, 0.0, 8.0, 8.0, 3.0, 3.0, 1.0, 9.0, 3.0, 1.0, 9.0, 0.0, 0.0, 1.0, 9.0, 3.0, 11.0, 1.0, 0.0, 7.0, 10.0, 3.0, 2.0, 2.0, 9.0, 11.0, 1.0, 7.0, 2.0, 9.0, 0.0, 1.0, 5.0, 0.0, 7.0, 2.0, 7.0, 3.0, 8.0, 1.0, 0.0, 8.0, 0.0, 9.0, 1.0, 1.0, 3.0, 10.0, 8.0, 2.0, 3.0, 8.0, 2.0, 2.0, 3.0, 8.0, 0.0, 0.0, 0.0, 0.0, 10.0, 9.0, 5.0, 1.0, 0.0, 0.0, 2.0, 1.0, 9.0, 1.0, 0.0, 5.0, 11.0, 2.0, 4.0, 7.0, 0.0, 1.0, 10.0, 0.0, 2.0, 1.0, 4.0, 4.0, 2.0, 10.0, 3.0, 9.0, 3.0, 0.0, 1.0, 2.0, 0.0, 8.0, 0.0, 4.0, 10.0, 1.0, 1.0, 3.0, 2.0, 3.0, 0.0, 5.0, 9.0, 7.0, 10.0, 0.0, 4.0, 3.0, 2.0, 0.0, 11.0, 5.0, 0.0, 4.0, 7.0, 4.0, 2.0, 10.0, 10.0, 1.0, 2.0, 3.0, 5.0, 0.0, 9.0, 6.0, 11.0, 0.0, 7.0, 0.0, 10.0, 2.0, 7.0, 4.0, 1.0, 0.0, 1.0, 2.0, 1.0, 0.0, 9.0, 5.0, 6.0, 4.0, 2.0, 1.0, 5.0, 9.0, 10.0, 2.0, 3.0, 6.0, 1.0, 1.0, 5.0, 7.0, 3.0, 9.0, 0.0, 5.0, 7.0, 0.0, 0.0, 5.0, 0.0, 1.0, 1.0, 1.0, 9.0, 0.0, 5.0, 8.0, 3.0, 3.0, 1.0, 8.0, 4.0, 5.0, 9.0, 0.0, 1.0, 6.0, 0.0, 9.0, 3.0, 0.0, 0.0, 2.0, 5.0, 9.0, 0.0, 7.0, 2.0, 0.0, 2.0, 1.0, 8.0, 3.0, 5.0, 9.0, 9.0, 4.0, 3.0, 5.0, 1.0, 1.0, 4.0, 0.0, 9.0, 6.0, 9.0, 5.0, 2.0, 1.0, 0.0, 9.0, 5.0, 7.0, 5.0, 5.0, 6.0, 10.0, 2.0, 2.0, 7.0, 10.0, 2.0, 1.0, 1.0, 2.0, 10.0, 8.0, 1.0, 1.0, 8.0, 3.0, 6.0, 8.0, 5.0, 4.0, 8.0, 10.0, 7.0, 7.0, 1.0, 2.0, 5.0, 9.0, 10.0, 4.0, 3.0, 4.0, 11.0, 5.0, 7.0, 8.0, 2.0, 8.0, 2.0, 2.0, 3.0, 0.0, 2.0, 7.0, 7.0, 1.0, 8.0, 5.0, 1.0, 3.0, 4.0, 0.0, 0.0, 4.0, 2.0, 0.0, 0.0, 0.0, 8.0, 0.0, 7.0, 6.0, 0.0, 4.0, 1.0, 5.0, 1.0, 1.0, 11.0, 10.0, 3.0, 7.0, 1.0, 4.0, 11.0, 1.0, 1.0, 0.0, 7.0, 3.0, 2.0, 9.0, 1.0, 9.0, 3.0, 4.0, 1.0, 11.0, 1.0, 8.0, 9.0, 4.0, 3.0, 9.0, 2.0, 2.0, 9.0, 0.0, 1.0, 0.0, 3.0, 4.0, 7.0, 0.0, 7.0, 8.0, 9.0, 6.0, 0.0, 2.0, 8.0, 1.0, 5.0, 3.0, 8.0, 9.0, 4.0, 10.0, 3.0, 2.0, 0.0, 4.0, 5.0, 0.0, 10.0, 3.0, 1.0, 8.0, 7.0, 8.0, 1.0, 0.0, 2.0, 3.0, 1.0, 0.0, 2.0, 2.0, 1.0, 8.0, 7.0, 7.0, 4.0, 7.0, 8.0, 2.0, 0.0, 1.0, 10.0, 0.0, 9.0, 1.0, 3.0, 4.0, 4.0, 1.0, 4.0, 9.0, 0.0, 6.0, 6.0, 10.0, 2.0, 5.0, 3.0, 3.0, 4.0, 2.0, 1.0, 5.0, 0.0, 0.0, 10.0, 5.0, 7.0, 4.0, 4.0, 1.0, 1.0, 5.0, 7.0, 6.0, 10.0, 0.0, 0.0, 3.0, 5.0, 9.0, 5.0, 6.0, 4.0, 2.0, 8.0, 5.0, 7.0, 9.0, 2.0, 3.0, 3.0, 3.0, 2.0, 1.0, 5.0, 0.0, 3.0, 10.0, 3.0, 6.0, 2.0, 10.0, 0.0, 10.0, 9.0, 2.0, 7.0, 10.0, 9.0, 4.0, 3.0, 8.0, 4.0, 3.0, 1.0, 3.0, 9.0, 2.0, 8.0, 0.0, 1.0, 4.0, 3.0, 10.0, 9.0, 1.0, 5.0, 3.0, 2.0, 0.0, 3.0, 4.0, 6.0, 6.0, 2.0, 2.0, 6.0, 9.0, 10.0, 3.0, 6.0, 1.0, 8.0, 9.0, 3.0, 1.0, 5.0, 2.0, 7.0, 5.0, 3.0, 4.0, 6.0, 2.0, 6.0, 3.0, 8.0, 3.0, 0.0, 3.0, 1.0, 1.0, 3.0, 5.0, 0.0, 8.0, 2.0, 9.0, 0.0, 7.0, 1.0, 1.0, 0.0, 5.0, 2.0, 7.0, 4.0, 0.0, 4.0, 9.0, 0.0, 3.0, 3.0, 0.0, 4.0, 8.0, 6.0, 6.0, 0.0, 6.0, 6.0, 2.0, 7.0, 9.0, 5.0, 9.0, 4.0, 5.0, 1.0, 0.0, 10.0, 0.0, 2.0, 0.0, 2.0, 1.0, 9.0, 0.0, 6.0, 1.0, 0.0, 2.0, 3.0, 0.0, 4.0, 9.0, 2.0, 11.0, 11.0, 10.0, 0.0, 3.0, 9.0, 7.0, 10.0, 2.0, 0.0, 7.0, 3.0, 6.0, 1.0, 5.0, 0.0, 7.0, 10.0, 11.0, 4.0, 7.0, 4.0, 9.0, 1.0, 7.0, 4.0, 8.0, 5.0, 7.0, 6.0, 7.0, 2.0, 2.0, 1.0, 0.0, 1.0, 4.0, 2.0, 10.0, 6.0, 3.0, 3.0, 1.0, 4.0, 0.0, 2.0, 1.0, 8.0, 4.0, 2.0, 8.0, 0.0, 8.0, 2.0, 7.0, 10.0, 11.0, 2.0, 2.0, 9.0, 9.0, 2.0, 9.0, 3.0, 9.0, 7.0, 9.0, 7.0, 2.0, 11.0, 4.0, 8.0, 2.0, 0.0, 2.0, 3.0, 1.0, 9.0, 4.0, 2.0, 8.0, 1.0, 9.0, 7.0, 9.0, 10.0, 2.0, 3.0, 5.0, 0.0, 8.0, 4.0, 9.0, 5.0, 0.0, 4.0, 8.0, 10.0, 4.0, 6.0, 8.0, 7.0, 5.0, 1.0, 9.0, 3.0, 1.0, 6.0, 3.0, 3.0, 5.0, 1.0, 1.0, 6.0, 4.0, 4.0, 2.0, 3.0, 10.0, 0.0, 0.0, 7.0, 11.0, 3.0, 3.0, 8.0, 2.0, 4.0, 1.0, 9.0, 10.0, 6.0, 10.0, 0.0, 8.0, 3.0, 0.0, 4.0, 1.0, 4.0, 0.0, 6.0, 4.0, 4.0, 6.0, 2.0, 0.0, 4.0, 2.0, 1.0, 3.0, 9.0, 9.0, 5.0, 4.0, 0.0, 8.0, 4.0, 2.0, 3.0, 1.0, 3.0, 3.0, 3.0, 1.0, 3.0, 9.0, 3.0, 5.0, 10.0, 0.0, 4.0, 3.0, 1.0, 1.0, 3.0, 0.0, 2.0, 0.0, 1.0, 7.0, 0.0, 2.0, 0.0, 6.0, 8.0, 2.0, 1.0, 2.0, 10.0, 1.0, 3.0, 10.0, 1.0, 0.0, 6.0, 3.0, 4.0, 7.0, 2.0, 7.0, 2.0, 8.0, 4.0, 3.0, 6.0, 7.0, 3.0, 10.0, 2.0, 1.0, 6.0, 1.0, 0.0, 2.0, 1.0, 8.0, 2.0, 5.0, 0.0, 2.0, 1.0, 5.0, 2.0, 3.0, 4.0, 0.0, 0.0, 1.0, 10.0, 2.0, 4.0, 7.0, 7.0, 2.0, 2.0, 3.0, 1.0, 5.0, 0.0, 8.0, 0.0, 1.0, 0.0, 3.0, 0.0, 3.0, 5.0, 2.0, 3.0, 9.0, 1.0, 5.0, 1.0, 9.0, 10.0, 5.0, 7.0, 8.0, 0.0, 2.0, 8.0, 0.0, 7.0, 5.0, 3.0, 7.0, 2.0, 1.0, 1.0, 1.0, 4.0, 8.0, 5.0, 0.0, 3.0, 5.0, 4.0, 3.0, 7.0, 1.0, 9.0, 3.0, 10.0, 5.0, 9.0, 5.0, 1.0, 5.0, 1.0, 7.0, 9.0, 5.0, 0.0, 1.0, 4.0, 0.0, 3.0, 0.0, 1.0, 3.0, 5.0, 9.0, 5.0, 0.0, 1.0, 4.0, 8.0, 9.0, 3.0, 7.0, 2.0, 9.0, 0.0, 3.0, 8.0, 7.0, 5.0, 8.0, 0.0, 0.0, 2.0, 6.0, 1.0, 3.0, 0.0, 4.0, 5.0, 8.0, 5.0, 1.0, 1.0, 8.0, 2.0, 8.0, 2.0, 0.0, 4.0, 1.0, 9.0, 8.0, 1.0, 1.0, 0.0, 5.0, 1.0, 9.0, 10.0, 1.0, 2.0, 10.0, 5.0, 6.0, 3.0, 10.0, 1.0, 8.0, 3.0, 0.0, 9.0, 2.0, 8.0, 2.0, 0.0, 2.0, 3.0, 0.0, 3.0, 0.0, 2.0, 5.0, 3.0, 2.0, 0.0, 1.0, 2.0, 10.0, 9.0, 2.0, 3.0, 2.0, 0.0, 0.0, 3.0, 2.0, 2.0, 10.0, 2.0, 9.0, 3.0, 3.0, 0.0, 1.0, 4.0, 0.0, 6.0, 2.0, 9.0, 7.0, 2.0, 8.0, 0.0, 3.0, 2.0, 6.0, 0.0, 0.0, 2.0, 0.0, 5.0, 7.0, 4.0, 5.0, 9.0, 0.0, 4.0, 9.0, 0.0, 5.0, 8.0, 9.0, 8.0, 11.0, 5.0, 0.0, 3.0, 0.0, 3.0, 4.0, 6.0, 4.0, 3.0, 8.0, 11.0, 10.0, 2.0, 7.0, 2.0, 8.0, 6.0, 8.0, 0.0, 8.0, 3.0, 6.0, 3.0, 3.0, 3.0, 1.0, 9.0, 2.0, 0.0, 7.0, 10.0, 3.0, 5.0, 9.0, 7.0, 10.0, 2.0, 9.0, 0.0, 9.0, 7.0, 7.0, 3.0, 5.0, 1.0, 8.0, 3.0, 1.0, 6.0, 8.0, 7.0, 5.0, 7.0, 3.0, 0.0, 0.0, 9.0, 7.0, 7.0, 4.0, 11.0, 4.0, 5.0, 3.0, 0.0, 4.0, 11.0, 5.0, 8.0, 3.0, 0.0, 4.0, 7.0, 9.0, 0.0, 4.0, 3.0, 7.0, 5.0, 8.0, 2.0, 3.0, 7.0, 9.0, 9.0, 10.0, 0.0, 0.0, 5.0, 6.0, 0.0, 1.0, 9.0, 4.0, 0.0, 3.0, 6.0, 2.0, 9.0, 1.0, 0.0, 2.0, 10.0, 11.0, 1.0, 6.0, 4.0, 5.0, 0.0, 5.0, 1.0, 8.0, 3.0, 1.0, 9.0, 0.0, 0.0, 0.0, 3.0, 2.0, 2.0, 1.0, 0.0, 9.0, 5.0, 0.0, 7.0, 4.0, 3.0, 0.0, 4.0, 8.0, 3.0, 3.0, 7.0, 4.0, 4.0, 5.0, 4.0, 9.0, 6.0, 5.0, 3.0, 5.0, 5.0, 0.0, 1.0, 10.0, 3.0, 0.0, 0.0, 5.0, 0.0, 2.0, 10.0, 6.0, 5.0, 5.0, 9.0, 10.0, 0.0, 0.0, 5.0, 0.0, 10.0, 1.0, 4.0, 4.0, 6.0, 6.0, 8.0, 5.0, 8.0, 2.0, 8.0, 6.0, 9.0, 5.0, 3.0, 5.0, 4.0, 1.0, 7.0, 1.0, 6.0, 3.0, 11.0, 1.0, 5.0, 8.0, 4.0, 3.0, 5.0, 9.0, 3.0, 7.0, 8.0, 3.0, 10.0, 0.0, 1.0, 1.0, 7.0, 2.0, 10.0, 4.0, 4.0, 3.0, 3.0, 6.0, 2.0, 0.0, 8.0, 1.0, 0.0, 4.0, 3.0, 5.0, 8.0, 3.0, 10.0, 5.0, 1.0, 4.0, 10.0, 1.0, 0.0, 1.0, 2.0, 0.0, 0.0, 5.0, 10.0, 1.0, 4.0, 11.0, 4.0, 0.0, 2.0, 2.0, 4.0, 9.0, 0.0, 2.0, 3.0, 8.0, 3.0, 8.0, 6.0, 0.0, 2.0, 2.0, 4.0, 7.0, 8.0, 7.0, 6.0, 2.0, 4.0, 3.0, 8.0, 7.0, 3.0, 2.0, 7.0, 8.0, 8.0, 2.0, 5.0, 4.0, 1.0, 3.0, 1.0, 10.0, 2.0, 10.0, 7.0, 10.0, 7.0, 4.0, 2.0, 2.0, 9.0, 7.0, 4.0, 0.0, 0.0, 0.0, 1.0, 5.0, 7.0, 1.0, 2.0, 2.0, 7.0, 1.0, 8.0, 10.0, 3.0, 9.0, 4.0, 0.0, 1.0, 9.0, 3.0, 3.0, 4.0, 0.0, 4.0, 2.0, 5.0, 7.0, 3.0, 1.0, 0.0, 1.0, 8.0, 9.0, 10.0, 5.0, 2.0, 1.0, 0.0, 0.0, 6.0, 10.0, 5.0, 0.0, 0.0, 3.0, 3.0, 5.0, 10.0, 0.0, 8.0, 3.0, 9.0, 2.0, 2.0, 1.0, 11.0, 5.0, 1.0, 3.0, 9.0, 2.0, 11.0, 4.0, 3.0, 0.0, 10.0, 0.0, 7.0, 3.0, 0.0, 4.0, 0.0, 8.0, 1.0, 7.0, 7.0, 8.0, 3.0, 3.0, 6.0, 2.0, 4.0, 8.0, 0.0, 7.0, 3.0, 9.0, 11.0, 1.0, 3.0, 9.0, 1.0, 8.0, 2.0, 8.0, 5.0, 3.0, 10.0, 2.0, 2.0, 3.0, 7.0, 0.0, 7.0, 2.0, 1.0, 4.0, 9.0, 8.0, 7.0, 2.0, 9.0, 0.0, 3.0, 5.0, 1.0, 0.0, 9.0, 2.0, 2.0, 7.0, 3.0, 2.0, 5.0, 9.0, 10.0, 6.0, 7.0, 9.0, 2.0, 9.0, 11.0, 0.0, 10.0, 2.0, 0.0, 4.0, 2.0, 1.0, 3.0, 1.0, 0.0, 2.0, 3.0, 11.0, 11.0, 9.0, 0.0, 0.0, 1.0, 1.0, 4.0, 5.0, 10.0, 9.0, 4.0, 3.0, 3.0, 6.0, 4.0, 4.0, 1.0, 4.0, 3.0, 7.0, 6.0, 2.0, 1.0, 4.0, 2.0, 5.0, 5.0, 0.0, 3.0, 10.0, 2.0, 5.0, 3.0, 2.0, 1.0, 0.0, 3.0, 4.0, 3.0, 1.0, 5.0, 9.0, 6.0, 1.0, 9.0, 0.0, 4.0, 2.0, 2.0, 4.0, 2.0, 3.0, 1.0, 7.0, 0.0, 2.0, 3.0, 6.0, 0.0, 4.0, 0.0, 4.0, 7.0, 3.0, 6.0, 5.0, 4.0, 5.0, 1.0, 1.0, 1.0, 2.0, 4.0, 8.0, 0.0, 3.0, 0.0, 7.0, 2.0, 9.0, 4.0, 8.0, 8.0, 0.0, 9.0, 6.0, 1.0, 1.0, 1.0, 2.0, 9.0, 6.0, 4.0, 0.0, 3.0, 0.0, 1.0, 9.0, 9.0, 1.0, 11.0, 3.0, 0.0, 0.0, 0.0, 5.0, 3.0, 0.0, 1.0, 9.0, 0.0, 7.0, 9.0, 2.0, 2.0, 7.0, 1.0, 4.0, 11.0, 9.0, 0.0, 5.0, 1.0, 7.0, 8.0, 1.0, 3.0, 2.0, 0.0, 3.0, 1.0, 1.0, 9.0, 6.0, 7.0, 8.0, 3.0, 7.0, 2.0, 9.0, 4.0, 8.0, 3.0, 9.0, 4.0, 4.0, 9.0, 2.0, 9.0, 7.0, 0.0, 3.0, 2.0, 7.0, 5.0, 3.0, 0.0, 5.0, 8.0, 10.0, 3.0, 1.0, 1.0, 2.0, 4.0, 4.0, 1.0, 8.0, 3.0, 2.0, 3.0, 1.0, 3.0, 2.0, 1.0, 2.0, 8.0, 2.0, 7.0, 1.0, 9.0, 8.0, 3.0, 1.0, 3.0, 4.0, 1.0, 9.0, 3.0, 6.0, 4.0, 0.0, 3.0, 5.0, 9.0, 0.0, 4.0, 9.0, 3.0, 3.0, 8.0, 3.0, 1.0, 7.0, 10.0, 0.0, 7.0, 8.0, 4.0, 5.0, 5.0, 0.0, 2.0, 3.0, 2.0, 2.0, 4.0, 2.0, 7.0, 0.0, 7.0, 1.0, 1.0, 6.0, 3.0, 4.0, 3.0, 2.0, 6.0, 2.0, 3.0, 7.0, 1.0, 8.0, 6.0, 1.0, 7.0, 1.0, 2.0, 2.0, 3.0, 10.0, 7.0, 7.0, 0.0, 9.0, 0.0, 1.0, 1.0, 7.0, 2.0, 4.0, 1.0, 2.0, 9.0, 1.0, 6.0, 2.0, 7.0, 2.0, 9.0, 3.0, 7.0, 3.0, 4.0, 0.0, 7.0, 3.0, 1.0, 5.0, 6.0, 5.0, 9.0, 8.0, 5.0, 4.0, 10.0, 2.0, 11.0, 1.0, 0.0, 10.0, 10.0, 0.0, 10.0, 4.0, 0.0, 3.0, 0.0, 3.0, 4.0, 1.0, 9.0, 3.0, 1.0, 8.0, 1.0, 2.0, 0.0, 4.0, 5.0, 0.0, 1.0, 3.0, 0.0, 4.0, 0.0, 7.0, 1.0, 4.0, 0.0, 9.0, 9.0, 0.0, 7.0, 9.0, 7.0, 0.0, 4.0, 4.0, 2.0, 2.0, 1.0, 3.0, 1.0, 10.0, 0.0, 7.0, 5.0, 2.0, 1.0, 3.0, 2.0, 0.0, 0.0, 1.0, 2.0, 3.0, 0.0, 1.0, 2.0, 2.0, 3.0, 6.0, 2.0, 0.0, 9.0, 0.0, 4.0, 1.0, 1.0, 0.0, 2.0, 9.0, 1.0, 0.0, 1.0, 11.0, 1.0, 10.0, 3.0, 5.0, 4.0, 0.0, 0.0, 4.0, 4.0, 9.0, 1.0, 5.0, 3.0, 2.0, 7.0, 2.0, 0.0, 1.0, 1.0, 8.0, 8.0, 7.0, 0.0, 1.0, 1.0, 2.0, 1.0, 2.0, 2.0, 3.0, 9.0, 2.0, 5.0, 10.0, 1.0, 1.0, 0.0, 1.0, 8.0, 7.0, 8.0, 9.0, 0.0, 7.0, 3.0, 0.0, 4.0, 9.0, 1.0, 3.0, 9.0, 7.0, 4.0, 1.0, 3.0, 2.0, 2.0, 0.0, 4.0, 2.0, 1.0, 4.0, 2.0, 10.0, 1.0, 10.0, 2.0, 2.0, 5.0, 1.0, 0.0, 9.0, 6.0, 7.0, 2.0, 0.0, 2.0, 9.0, 0.0, 0.0, 1.0, 8.0, 6.0, 8.0, 1.0, 0.0, 0.0, 3.0, 2.0, 7.0, 0.0, 1.0, 3.0, 7.0, 0.0, 3.0, 2.0, 7.0, 1.0, 3.0, 2.0, 6.0, 2.0, 0.0, 9.0, 0.0, 3.0, 0.0, 3.0, 9.0, 3.0, 8.0, 7.0, 2.0, 5.0, 6.0, 7.0, 6.0, 0.0, 10.0, 10.0, 1.0, 2.0, 1.0, 5.0, 7.0, 0.0, 1.0, 10.0, 5.0, 1.0, 4.0, 3.0, 6.0, 0.0, 4.0, 3.0, 4.0, 10.0, 9.0, 8.0, 7.0, 10.0, 8.0, 10.0, 1.0, 3.0, 5.0, 4.0, 1.0, 1.0, 5.0, 1.0, 0.0, 3.0, 10.0, 7.0, 3.0, 9.0, 2.0, 6.0, 5.0, 2.0, 1.0, 5.0, 3.0, 0.0, 8.0, 5.0, 6.0, 9.0, 2.0, 7.0, 6.0, 11.0, 4.0, 4.0, 8.0, 1.0, 9.0, 1.0, 9.0, 8.0, 0.0, 4.0, 5.0, 8.0, 1.0, 8.0, 2.0, 3.0, 2.0, 2.0, 7.0, 7.0, 3.0, 3.0, 6.0, 5.0, 4.0, 2.0, 5.0, 1.0, 0.0, 0.0, 6.0, 1.0, 5.0, 11.0, 1.0, 3.0, 1.0, 3.0, 5.0, 1.0, 4.0, 3.0, 0.0, 0.0, 2.0, 2.0, 2.0, 9.0, 0.0, 0.0, 4.0, 3.0, 5.0, 2.0, 7.0, 0.0, 9.0, 1.0, 2.0, 4.0, 0.0, 2.0, 4.0, 11.0, 0.0, 2.0, 0.0, 3.0, 10.0, 10.0, 5.0, 5.0, 0.0, 3.0, 6.0, 0.0, 0.0, 1.0, 1.0, 3.0, 4.0, 8.0, 2.0, 1.0, 5.0, 4.0, 2.0, 2.0, 0.0, 7.0, 3.0, 1.0, 7.0, 8.0, 0.0, 2.0, 1.0, 6.0, 2.0, 0.0, 0.0, 3.0, 8.0, 8.0, 1.0, 7.0, 1.0, 1.0, 3.0, 8.0, 0.0, 7.0, 2.0, 9.0, 2.0, 0.0, 3.0, 1.0, 4.0, 9.0, 1.0, 10.0, 7.0, 3.0, 7.0, 4.0, 1.0, 2.0, 2.0, 1.0, 5.0, 7.0, 2.0, 10.0, 10.0, 4.0, 10.0, 7.0, 2.0, 3.0, 10.0, 7.0, 5.0, 2.0, 4.0, 3.0, 6.0, 3.0, 1.0, 0.0, 6.0, 1.0, 10.0, 7.0, 3.0, 6.0, 7.0, 9.0, 0.0, 11.0, 0.0, 3.0, 8.0, 2.0, 3.0, 7.0, 3.0, 0.0, 0.0, 6.0, 2.0, 2.0, 9.0, 5.0, 1.0, 10.0, 6.0, 4.0, 3.0, 8.0, 7.0, 10.0, 7.0, 1.0, 1.0, 7.0, 1.0, 3.0, 0.0, 1.0, 3.0, 2.0, 5.0, 2.0, 4.0, 11.0, 5.0, 5.0, 9.0, 5.0, 5.0, 9.0, 1.0, 6.0, 5.0, 1.0, 0.0, 5.0, 9.0, 3.0, 3.0, 2.0, 6.0, 1.0, 3.0, 6.0, 4.0, 0.0, 7.0, 2.0, 2.0, 9.0, 0.0, 3.0, 5.0, 3.0, 0.0, 0.0, 3.0, 3.0, 8.0, 9.0, 1.0, 7.0, 2.0, 11.0, 3.0, 2.0, 2.0, 8.0, 0.0, 6.0, 7.0, 8.0, 8.0, 11.0, 2.0, 2.0, 9.0, 0.0, 7.0, 7.0, 0.0, 7.0, 0.0, 8.0, 7.0, 0.0, 1.0, 0.0, 8.0, 0.0, 9.0, 0.0, 0.0, 6.0, 11.0, 3.0, 11.0, 10.0, 7.0, 1.0, 3.0, 4.0, 10.0, 8.0, 10.0, 4.0, 0.0, 1.0, 7.0, 4.0, 0.0, 4.0, 0.0, 2.0, 2.0, 1.0, 3.0, 8.0, 1.0, 7.0, 2.0, 0.0, 4.0, 2.0, 2.0, 4.0, 2.0, 5.0, 2.0, 3.0, 2.0, 4.0, 2.0, 2.0, 7.0, 2.0, 9.0, 7.0, 3.0, 7.0, 1.0, 8.0, 3.0, 2.0, 7.0, 4.0, 0.0, 7.0, 6.0, 3.0, 0.0, 1.0, 1.0, 0.0, 5.0, 4.0, 3.0, 7.0, 3.0, 11.0, 0.0, 4.0, 1.0, 11.0, 1.0, 3.0, 2.0, 9.0, 2.0, 0.0, 3.0, 4.0, 4.0, 9.0, 3.0, 3.0, 9.0, 10.0, 1.0, 1.0, 8.0, 9.0, 4.0, 3.0, 11.0, 10.0, 1.0, 3.0, 3.0, 9.0, 9.0, 3.0, 1.0, 0.0, 0.0, 5.0, 10.0, 10.0, 8.0, 8.0, 7.0, 3.0, 1.0, 9.0, 7.0, 5.0, 3.0, 5.0, 0.0, 3.0, 1.0, 0.0, 3.0, 0.0, 1.0, 5.0, 10.0, 1.0, 2.0, 5.0, 9.0, 0.0, 2.0, 5.0, 1.0, 8.0, 8.0, 1.0, 2.0, 1.0, 3.0, 1.0, 3.0, 4.0, 0.0, 3.0, 0.0, 3.0, 2.0, 1.0, 2.0, 5.0, 1.0, 10.0, 4.0, 5.0, 2.0, 5.0, 6.0, 2.0, 6.0, 3.0, 5.0, 7.0, 1.0, 8.0, 2.0, 0.0, 1.0, 4.0, 4.0, 11.0, 2.0, 6.0, 2.0, 2.0, 2.0, 5.0, 3.0, 4.0, 2.0, 9.0, 0.0, 7.0, 2.0, 7.0, 0.0, 8.0, 1.0, 3.0, 2.0, 4.0, 0.0, 2.0, 3.0, 9.0, 2.0, 9.0, 7.0, 5.0, 1.0, 1.0, 6.0, 3.0, 3.0, 5.0, 2.0, 2.0, 9.0, 5.0, 4.0, 8.0, 4.0, 9.0, 1.0, 4.0, 7.0, 11.0, 5.0, 9.0, 7.0, 11.0, 8.0, 1.0, 0.0, 7.0, 10.0, 4.0, 7.0, 2.0, 6.0, 3.0, 4.0, 1.0, 5.0, 10.0, 0.0, 3.0, 3.0, 3.0, 5.0, 2.0, 0.0, 8.0, 0.0, 10.0, 10.0, 0.0, 0.0, 1.0, 2.0, 7.0, 9.0, 1.0, 1.0, 0.0, 6.0, 0.0, 4.0, 1.0, 1.0, 9.0, 7.0, 0.0, 2.0, 7.0, 1.0, 10.0, 5.0, 2.0, 0.0, 5.0, 5.0, 6.0, 0.0, 9.0, 10.0, 7.0, 2.0, 7.0, 8.0, 3.0, 0.0, 1.0, 7.0, 0.0, 1.0, 2.0, 1.0, 4.0, 6.0, 5.0, 3.0, 10.0, 8.0, 1.0, 1.0, 3.0, 2.0, 9.0, 9.0, 8.0, 9.0, 3.0, 8.0, 1.0, 6.0, 10.0, 8.0, 8.0, 9.0, 7.0, 1.0, 0.0, 9.0, 4.0, 1.0, 7.0, 6.0, 1.0, 9.0, 5.0, 9.0, 3.0, 9.0, 3.0, 10.0, 7.0, 0.0, 2.0, 0.0, 2.0, 11.0, 6.0, 0.0, 2.0, 1.0, 4.0, 9.0, 3.0, 6.0, 2.0, 2.0, 9.0, 10.0, 4.0, 8.0, 1.0, 2.0, 7.0, 5.0, 6.0, 9.0, 1.0, 1.0, 9.0, 7.0, 4.0, 8.0, 5.0, 3.0, 1.0, 8.0, 1.0, 1.0, 2.0, 1.0, 2.0, 2.0, 9.0, 6.0, 7.0, 0.0, 8.0, 0.0, 0.0, 2.0, 8.0, 3.0, 5.0, 7.0, 1.0, 3.0, 3.0, 8.0, 6.0, 3.0, 1.0, 4.0, 2.0, 8.0, 1.0, 1.0, 5.0, 2.0, 9.0, 3.0, 1.0, 0.0, 4.0, 7.0, 2.0, 0.0, 4.0, 11.0, 3.0, 5.0, 11.0, 6.0, 2.0, 4.0, 3.0, 0.0, 5.0, 5.0, 7.0, 0.0, 8.0, 1.0, 4.0, 3.0, 0.0, 0.0, 0.0, 2.0, 11.0, 5.0, 4.0, 3.0, 7.0, 4.0, 4.0, 5.0, 3.0, 5.0, 4.0, 3.0, 11.0, 3.0, 10.0, 7.0, 0.0, 0.0, 5.0, 0.0, 2.0, 5.0, 9.0, 5.0, 1.0, 1.0, 10.0, 0.0, 0.0, 8.0, 8.0, 10.0, 1.0, 1.0, 6.0, 1.0, 11.0, 1.0, 0.0, 4.0, 1.0, 0.0, 4.0, 3.0, 1.0, 8.0, 3.0, 6.0, 5.0, 3.0, 0.0, 1.0, 7.0, 0.0, 4.0, 4.0, 3.0, 11.0, 8.0, 10.0, 11.0, 5.0, 4.0, 1.0, 0.0, 8.0, 7.0, 0.0, 5.0, 6.0, 0.0, 11.0, 8.0, 9.0, 2.0, 9.0, 0.0, 0.0, 8.0, 1.0, 0.0, 6.0, 0.0, 1.0, 1.0, 0.0, 0.0, 5.0, 5.0, 4.0, 7.0, 1.0, 8.0, 3.0, 3.0, 5.0, 0.0, 6.0, 8.0, 5.0, 2.0, 2.0, 2.0, 5.0, 11.0, 0.0, 4.0, 3.0, 0.0, 1.0, 0.0, 0.0, 3.0, 6.0, 5.0, 5.0, 3.0, 11.0, 1.0, 7.0, 5.0, 0.0, 0.0, 0.0, 10.0, 0.0, 8.0, 0.0, 6.0, 5.0, 1.0, 3.0, 3.0, 6.0, 1.0, 2.0, 4.0, 9.0, 4.0, 3.0, 1.0, 9.0, 1.0, 0.0, 4.0, 0.0, 6.0, 3.0, 3.0, 2.0, 0.0, 0.0, 3.0, 1.0, 8.0, 2.0, 2.0, 5.0, 8.0, 1.0, 1.0, 0.0, 7.0, 2.0, 2.0, 8.0, 1.0, 4.0, 0.0, 2.0, 3.0, 4.0, 0.0, 0.0, 2.0, 0.0, 11.0, 3.0, 0.0, 5.0, 4.0, 5.0, 4.0, 3.0, 3.0, 5.0, 3.0, 0.0, 6.0, 1.0, 5.0, 4.0, 9.0, 9.0, 9.0, 3.0, 2.0, 8.0, 1.0, 2.0, 3.0, 9.0, 3.0, 7.0, 1.0, 3.0, 7.0, 2.0, 2.0, 4.0, 2.0, 10.0, 10.0, 3.0, 1.0, 2.0, 6.0, 7.0, 0.0, 4.0, 0.0, 6.0, 1.0, 9.0, 2.0, 2.0, 7.0, 3.0, 11.0, 0.0, 1.0, 5.0, 0.0, 1.0, 2.0, 9.0, 2.0, 6.0, 0.0, 5.0, 10.0, 8.0, 8.0, 2.0, 1.0, 11.0, 10.0, 10.0, 5.0, 8.0, 10.0, 3.0, 8.0, 1.0, 10.0, 11.0, 5.0, 9.0, 2.0, 0.0, 1.0, 1.0, 0.0, 5.0, 5.0, 0.0, 0.0, 1.0, 9.0, 9.0, 0.0, 5.0, 6.0, 0.0, 5.0, 2.0, 11.0, 6.0, 1.0, 3.0, 1.0, 6.0, 1.0, 3.0, 1.0, 0.0, 10.0, 2.0, 0.0, 3.0, 10.0, 1.0, 7.0, 3.0, 9.0, 6.0, 0.0, 7.0, 2.0, 0.0, 5.0, 4.0, 2.0, 6.0, 7.0, 1.0, 2.0, 2.0, 0.0, 3.0, 3.0, 7.0, 5.0, 5.0, 0.0, 3.0, 5.0, 1.0, 5.0, 6.0, 3.0, 6.0, 1.0, 1.0, 5.0, 8.0, 4.0, 0.0, 3.0, 1.0, 5.0, 3.0, 1.0, 7.0, 7.0, 1.0, 1.0, 4.0, 4.0, 3.0, 9.0, 0.0, 0.0, 4.0, 5.0, 3.0, 5.0, 11.0, 3.0, 0.0, 0.0, 1.0, 3.0, 7.0, 6.0, 9.0, 6.0, 0.0, 7.0, 8.0, 1.0, 2.0, 2.0, 6.0, 0.0, 1.0, 10.0, 7.0, 4.0, 0.0, 3.0, 9.0, 7.0, 3.0, 0.0, 5.0, 8.0, 3.0, 3.0, 2.0, 4.0, 2.0, 6.0, 10.0, 10.0, 7.0, 0.0, 7.0, 0.0, 0.0, 8.0, 9.0, 2.0, 4.0, 3.0, 10.0, 0.0, 3.0, 0.0, 5.0, 3.0, 5.0, 4.0, 11.0, 9.0, 2.0, 2.0, 6.0, 4.0, 7.0, 2.0, 1.0, 0.0, 3.0, 3.0, 11.0, 8.0, 9.0, 1.0, 6.0, 3.0, 1.0, 5.0, 2.0, 2.0, 2.0, 0.0, 8.0, 1.0, 3.0, 1.0, 1.0, 8.0, 2.0, 2.0, 0.0, 7.0, 7.0, 2.0, 2.0, 0.0, 3.0, 8.0, 7.0, 1.0, 4.0, 3.0, 4.0, 9.0, 1.0, 2.0, 0.0, 6.0, 9.0, 0.0, 2.0, 5.0, 11.0, 8.0, 1.0, 9.0, 3.0, 4.0, 1.0, 2.0, 2.0, 9.0, 4.0, 0.0, 11.0, 1.0, 11.0, 9.0, 2.0, 1.0, 7.0, 0.0, 0.0, 2.0, 1.0, 0.0, 1.0, 5.0, 7.0, 2.0, 4.0, 0.0, 9.0, 1.0, 5.0, 8.0, 3.0, 3.0, 6.0, 2.0, 11.0, 3.0, 3.0, 9.0, 0.0, 0.0, 5.0, 4.0, 2.0, 1.0, 2.0, 4.0, 0.0, 1.0, 6.0, 8.0, 10.0, 0.0, 6.0, 0.0, 9.0, 3.0, 1.0, 7.0, 3.0, 1.0, 7.0, 0.0, 8.0, 4.0, 1.0, 8.0, 2.0, 6.0, 9.0, 5.0, 5.0, 5.0, 9.0, 1.0, 9.0, 3.0, 8.0, 3.0, 2.0, 1.0, 10.0, 0.0, 1.0, 0.0, 1.0, 9.0, 8.0, 1.0, 2.0, 0.0, 5.0, 7.0, 9.0, 1.0, 2.0, 5.0, 5.0, 7.0, 0.0, 1.0, 6.0, 1.0, 0.0, 0.0, 4.0, 5.0, 2.0, 3.0, 0.0, 1.0, 2.0, 7.0, 6.0, 1.0, 4.0, 2.0, 3.0, 8.0, 8.0, 1.0, 8.0, 3.0, 2.0, 3.0, 1.0, 1.0, 8.0, 0.0, 2.0, 8.0, 10.0, 0.0, 6.0, 2.0, 3.0, 7.0, 0.0, 8.0, 0.0, 9.0, 0.0, 11.0, 7.0, 1.0, 1.0, 7.0, 11.0, 1.0, 4.0, 1.0, 4.0, 4.0, 0.0, 4.0, 2.0, 0.0, 2.0, 3.0, 1.0, 0.0, 1.0, 1.0, 9.0, 8.0, 0.0, 2.0, 1.0, 9.0, 4.0, 6.0, 8.0, 5.0, 5.0, 10.0, 3.0, 2.0, 7.0, 0.0, 1.0, 8.0, 2.0, 5.0, 9.0, 3.0, 9.0, 7.0, 0.0, 7.0, 4.0, 2.0, 0.0, 1.0, 8.0, 10.0, 3.0, 3.0, 7.0, 1.0, 0.0, 2.0, 7.0, 2.0, 8.0, 8.0, 0.0, 2.0, 0.0, 6.0, 0.0, 10.0, 9.0, 0.0, 7.0, 1.0, 6.0, 2.0, 2.0, 3.0, 3.0, 5.0, 3.0, 9.0, 2.0, 1.0, 7.0, 0.0, 1.0, 3.0, 3.0, 0.0, 3.0, 1.0, 2.0, 3.0, 1.0, 2.0, 0.0, 9.0, 8.0, 10.0, 2.0, 8.0, 4.0, 7.0, 3.0, 7.0, 3.0, 3.0, 8.0, 10.0, 2.0, 1.0, 8.0, 1.0, 11.0, 0.0, 2.0, 2.0, 1.0, 8.0, 4.0, 0.0, 2.0, 7.0, 3.0, 5.0, 11.0, 7.0, 9.0, 0.0, 7.0, 0.0, 4.0, 4.0, 10.0, 1.0, 9.0, 5.0, 0.0, 6.0, 11.0, 0.0, 7.0, 7.0, 0.0, 1.0, 6.0, 7.0, 10.0, 4.0, 2.0, 9.0, 0.0, 1.0, 10.0, 11.0, 9.0, 9.0, 7.0, 11.0, 8.0, 6.0, 0.0, 4.0, 1.0, 8.0, 8.0, 6.0, 8.0, 5.0, 0.0, 4.0, 10.0, 0.0, 5.0, 2.0, 8.0, 1.0, 9.0, 2.0, 4.0, 9.0, 6.0, 8.0, 0.0, 3.0, 1.0, 4.0, 7.0, 8.0, 1.0, 9.0, 9.0, 10.0, 4.0, 5.0, 7.0, 4.0, 0.0, 3.0, 9.0, 4.0, 1.0, 5.0, 0.0, 9.0, 4.0, 9.0, 5.0, 1.0, 10.0, 2.0, 3.0, 4.0, 8.0, 7.0, 5.0, 0.0, 4.0, 2.0, 2.0, 1.0, 1.0, 1.0, 0.0, 1.0, 8.0, 2.0, 2.0, 4.0, 11.0, 3.0, 7.0, 11.0, 0.0, 3.0, 7.0, 3.0, 3.0, 11.0, 3.0, 2.0, 1.0, 0.0, 5.0, 0.0, 1.0, 7.0, 4.0, 4.0, 0.0, 6.0, 1.0, 6.0, 10.0, 1.0, 3.0, 10.0, 0.0, 0.0, 3.0, 7.0, 9.0, 8.0, 3.0, 3.0, 0.0, 2.0, 11.0, 6.0, 3.0, 10.0, 5.0, 2.0, 0.0, 0.0, 5.0, 2.0, 3.0, 0.0, 1.0, 5.0, 0.0, 0.0, 8.0, 2.0, 8.0, 8.0, 3.0, 0.0, 2.0, 5.0, 4.0, 6.0, 3.0, 0.0, 0.0, 6.0, 3.0, 1.0, 8.0, 0.0, 4.0, 0.0, 6.0, 3.0, 3.0, 3.0, 0.0, 0.0, 9.0, 4.0, 1.0, 8.0, 7.0, 5.0, 2.0, 3.0, 0.0, 0.0, 6.0, 2.0, 0.0, 1.0, 3.0, 3.0, 4.0, 4.0, 0.0, 5.0, 3.0, 2.0, 9.0, 2.0, 0.0, 0.0, 1.0, 6.0, 0.0, 7.0, 3.0, 2.0, 7.0, 10.0, 8.0, 6.0, 7.0, 9.0, 3.0, 5.0, 1.0, 8.0, 1.0, 10.0, 3.0, 4.0, 8.0, 8.0, 9.0, 3.0, 4.0, 7.0, 5.0, 0.0, 10.0, 7.0, 0.0, 1.0, 10.0, 2.0, 0.0, 1.0, 8.0, 1.0, 1.0, 5.0, 0.0, 11.0, 7.0, 6.0, 10.0, 0.0, 4.0, 3.0, 6.0, 8.0, 3.0, 11.0, 6.0, 8.0, 0.0, 8.0, 2.0, 4.0, 3.0, 5.0, 1.0, 8.0, 1.0, 2.0, 8.0, 7.0, 7.0, 1.0, 6.0, 2.0, 2.0, 5.0, 0.0, 1.0, 2.0, 8.0, 2.0, 0.0, 6.0, 2.0, 8.0, 2.0, 3.0, 6.0, 8.0, 1.0, 10.0, 6.0, 2.0, 11.0, 1.0, 7.0, 8.0, 10.0, 7.0, 3.0, 8.0, 4.0, 4.0, 8.0, 3.0, 7.0, 1.0, 0.0, 3.0, 9.0, 3.0, 4.0, 4.0, 2.0, 1.0, 6.0, 4.0, 0.0, 7.0, 9.0, 11.0, 8.0, 8.0, 2.0, 8.0, 8.0, 1.0, 5.0, 7.0, 1.0, 0.0, 10.0, 3.0, 1.0, 0.0, 0.0, 2.0, 1.0, 10.0, 0.0, 1.0, 3.0, 7.0, 2.0, 10.0, 10.0, 1.0, 11.0, 1.0, 9.0, 1.0, 4.0, 6.0, 2.0, 7.0, 2.0, 3.0, 3.0, 11.0, 0.0, 5.0, 6.0, 5.0, 11.0, 1.0, 2.0, 3.0, 9.0, 6.0, 4.0, 9.0, 8.0, 8.0, 5.0, 5.0, 7.0, 7.0, 6.0, 6.0, 10.0, 9.0, 1.0, 2.0, 1.0, 4.0, 3.0, 10.0, 4.0, 9.0, 5.0, 1.0, 8.0, 10.0, 4.0, 9.0, 4.0, 9.0, 0.0, 2.0, 8.0, 9.0, 5.0, 8.0, 8.0, 0.0, 1.0, 9.0, 1.0, 9.0, 2.0, 7.0, 0.0, 5.0, 10.0, 4.0, 0.0, 2.0, 1.0, 11.0, 3.0, 7.0, 4.0, 8.0, 1.0, 2.0, 11.0, 4.0, 1.0, 8.0, 4.0, 0.0, 2.0, 0.0, 1.0, 3.0, 1.0, 8.0, 6.0, 7.0, 9.0, 1.0, 0.0, 2.0, 4.0, 1.0, 7.0, 3.0, 5.0, 4.0, 3.0, 0.0, 4.0, 5.0, 0.0, 7.0, 2.0, 3.0, 5.0, 1.0, 8.0, 7.0, 8.0, 3.0, 2.0, 4.0, 2.0, 0.0, 8.0, 5.0, 9.0, 1.0, 11.0, 2.0, 0.0, 10.0, 8.0, 9.0, 8.0, 1.0, 8.0, 0.0, 2.0, 9.0, 1.0, 2.0, 2.0, 0.0, 9.0, 6.0, 4.0, 1.0, 2.0, 2.0, 0.0, 2.0, 8.0, 3.0, 0.0, 9.0, 0.0, 10.0, 8.0, 0.0, 4.0, 0.0, 6.0, 5.0, 4.0, 7.0, 4.0, 0.0, 4.0, 2.0, 2.0, 6.0, 0.0, 4.0, 9.0, 7.0, 1.0, 11.0, 8.0, 7.0, 0.0, 7.0, 7.0, 3.0, 0.0, 8.0, 10.0, 9.0, 7.0, 4.0, 11.0, 8.0, 5.0, 0.0, 10.0, 8.0, 9.0, 5.0, 3.0, 1.0, 7.0, 4.0, 9.0, 7.0, 4.0, 5.0, 9.0, 9.0, 11.0, 0.0, 1.0, 1.0, 8.0, 7.0, 3.0, 4.0, 4.0, 0.0, 1.0, 5.0, 4.0, 6.0, 1.0, 8.0, 1.0, 3.0, 1.0, 2.0, 3.0, 2.0, 0.0, 7.0, 9.0, 2.0, 3.0, 4.0, 3.0, 2.0, 2.0, 0.0, 0.0, 2.0, 3.0, 0.0, 9.0, 7.0, 9.0, 1.0, 9.0, 11.0, 9.0, 0.0, 3.0, 3.0, 1.0, 8.0, 7.0, 8.0, 2.0, 3.0, 3.0, 1.0, 4.0, 4.0, 0.0, 10.0, 8.0, 1.0, 8.0, 1.0, 7.0, 3.0, 9.0, 9.0, 11.0, 1.0, 0.0, 0.0, 5.0, 2.0, 4.0, 4.0, 1.0, 7.0, 3.0, 4.0, 8.0, 8.0, 2.0, 6.0, 0.0, 7.0, 8.0, 0.0, 1.0, 6.0, 6.0, 2.0, 3.0, 1.0, 10.0, 4.0, 3.0, 2.0, 8.0, 1.0, 8.0, 10.0, 3.0, 1.0, 3.0, 4.0, 4.0, 2.0, 2.0, 2.0, 1.0, 0.0, 2.0, 10.0, 4.0, 11.0, 6.0, 0.0, 2.0, 4.0, 1.0, 0.0, 1.0, 5.0, 4.0, 6.0, 0.0, 6.0, 3.0, 2.0, 0.0, 3.0, 1.0, 5.0, 3.0, 5.0, 2.0, 3.0, 5.0, 6.0, 4.0, 2.0, 5.0, 0.0, 3.0, 2.0, 2.0, 1.0, 6.0, 1.0, 9.0, 2.0, 9.0, 4.0, 0.0, 2.0, 3.0, 8.0, 3.0, 11.0, 8.0, 10.0, 4.0, 4.0, 11.0, 8.0, 1.0, 9.0, 6.0, 8.0, 2.0, 1.0, 6.0, 2.0, 2.0, 1.0, 2.0, 2.0, 2.0, 1.0, 4.0, 2.0, 2.0, 10.0, 1.0, 6.0, 1.0, 1.0, 7.0, 3.0, 3.0, 5.0, 6.0, 4.0, 5.0, 3.0, 5.0, 11.0, 3.0, 7.0, 9.0, 6.0, 4.0, 4.0, 3.0, 5.0, 0.0, 1.0, 7.0, 2.0, 5.0, 1.0, 1.0, 0.0, 10.0, 10.0, 4.0, 0.0, 4.0, 9.0, 4.0, 7.0, 8.0, 5.0, 0.0, 3.0, 3.0, 0.0, 6.0, 3.0, 7.0, 8.0, 0.0, 1.0, 7.0, 1.0, 1.0, 3.0, 10.0, 5.0, 7.0, 0.0, 0.0, 5.0, 6.0, 2.0, 3.0, 0.0, 4.0, 6.0, 3.0, 6.0, 3.0, 0.0, 3.0, 7.0, 7.0, 1.0, 2.0, 5.0, 2.0, 6.0, 6.0, 1.0, 10.0, 1.0, 3.0, 3.0, 7.0, 2.0, 0.0, 0.0, 6.0, 6.0, 7.0, 0.0, 6.0, 8.0, 2.0, 11.0, 3.0, 3.0, 10.0, 1.0, 1.0, 1.0, 7.0, 1.0, 10.0, 10.0, 1.0, 5.0, 5.0, 1.0, 3.0, 10.0, 3.0, 6.0, 2.0, 0.0, 8.0, 4.0, 7.0, 3.0, 6.0, 7.0, 3.0, 6.0, 7.0, 0.0, 4.0, 6.0, 2.0, 4.0, 6.0, 10.0, 0.0, 6.0, 9.0, 8.0, 1.0, 6.0, 7.0, 10.0, 3.0, 3.0, 6.0, 0.0, 8.0, 5.0, 5.0, 6.0, 2.0, 3.0, 0.0, 1.0, 2.0, 9.0, 8.0, 1.0, 7.0, 3.0, 5.0, 4.0, 6.0, 3.0, 4.0, 9.0, 0.0, 9.0, 5.0, 5.0, 3.0, 2.0, 3.0, 2.0, 3.0, 3.0, 3.0, 4.0, 5.0, 3.0, 2.0, 8.0, 1.0, 8.0, 0.0, 0.0, 9.0, 1.0, 9.0, 7.0, 11.0, 6.0, 0.0, 9.0, 1.0, 3.0, 3.0, 9.0, 9.0, 8.0, 9.0, 8.0, 10.0, 1.0, 5.0, 0.0, 11.0, 7.0, 3.0, 0.0, 1.0, 9.0, 7.0, 5.0, 11.0, 0.0, 7.0, 2.0, 2.0, 9.0, 2.0, 8.0, 4.0, 1.0, 1.0, 4.0, 6.0, 1.0, 4.0, 8.0, 3.0, 3.0, 1.0, 1.0, 0.0, 7.0, 5.0, 6.0, 1.0, 1.0, 2.0, 2.0, 3.0, 7.0, 1.0, 0.0, 0.0, 6.0, 9.0, 3.0, 0.0, 1.0, 2.0, 1.0, 8.0, 6.0, 3.0, 3.0, 1.0, 1.0, 11.0, 3.0, 6.0, 10.0, 2.0, 3.0, 3.0, 2.0, 0.0, 0.0, 0.0, 0.0, 0.0, 0.0, 0.0, 0.0, 0.0, 0.0, 0.0, 0.0, 0.0, 0.0, 8.0, 6.0, 8.0, 0.0, 1.0, 4.0, 7.0, 2.0, 10.0, 7.0, 9.0, 2.0, 6.0, 2.0, 0.0, 2.0, 3.0, 9.0, 8.0, 9.0, 3.0, 11.0, 3.0, 7.0, 10.0, 0.0, 2.0, 0.0, 5.0, 6.0, 1.0, 0.0, 1.0, 3.0, 1.0, 4.0, 0.0, 6.0, 3.0, 1.0, 3.0, 5.0, 1.0, 7.0, 4.0, 8.0, 4.0, 0.0, 7.0, 3.0, 4.0, 0.0, 6.0, 5.0, 1.0, 6.0, 9.0, 0.0, 1.0, 3.0, 0.0, 4.0, 0.0, 5.0, 10.0, 7.0, 7.0, 2.0, 9.0, 1.0, 5.0, 5.0, 4.0, 4.0, 1.0, 1.0, 9.0, 9.0, 7.0, 1.0, 2.0, 7.0, 2.0, 1.0, 9.0, 5.0, 11.0, 3.0, 3.0, 3.0, 7.0, 1.0, 9.0, 1.0, 7.0, 3.0, 2.0, 2.0, 0.0, 8.0, 1.0, 0.0, 0.0, 0.0, 2.0, 10.0, 3.0, 7.0, 5.0, 4.0, 8.0, 3.0, 8.0, 9.0, 9.0, 2.0, 7.0, 1.0, 0.0, 7.0, 5.0, 0.0, 4.0, 2.0, 9.0, 8.0, 0.0, 10.0, 3.0, 0.0, 4.0, 1.0, 5.0, 2.0, 6.0, 3.0, 8.0, 2.0, 2.0, 5.0, 9.0, 9.0, 9.0, 2.0, 3.0, 3.0, 4.0, 8.0, 3.0, 9.0, 2.0, 3.0, 9.0, 3.0, 0.0, 5.0, 10.0, 0.0, 3.0, 1.0, 1.0, 0.0, 3.0, 6.0, 7.0, 11.0, 2.0, 5.0, 5.0, 5.0, 0.0, 2.0, 6.0, 8.0, 2.0, 4.0, 3.0, 8.0, 2.0, 3.0, 10.0, 8.0, 4.0, 3.0, 4.0, 3.0, 5.0, 7.0, 5.0, 2.0, 1.0, 7.0, 10.0, 0.0, 7.0, 6.0, 6.0, 8.0, 3.0, 8.0, 8.0, 10.0, 7.0, 9.0, 2.0, 9.0, 0.0, 10.0, 6.0, 7.0, 0.0, 3.0, 2.0, 2.0, 9.0, 3.0, 9.0, 2.0, 5.0, 3.0, 9.0, 9.0, 0.0, 0.0, 0.0, 7.0, 0.0, 2.0, 9.0, 5.0, 8.0, 4.0, 10.0, 1.0, 9.0, 2.0, 7.0, 1.0, 0.0, 2.0, 2.0, 5.0, 0.0, 4.0, 4.0, 9.0, 3.0, 1.0, 3.0, 6.0, 1.0, 5.0, 1.0, 2.0, 2.0, 0.0, 8.0, 11.0, 4.0, 7.0, 0.0, 5.0, 3.0, 5.0, 4.0, 7.0, 6.0, 4.0, 1.0, 7.0, 2.0, 1.0, 2.0, 1.0, 5.0, 2.0, 0.0, 9.0, 7.0, 4.0, 10.0, 0.0, 7.0, 6.0, 9.0, 2.0, 9.0, 1.0, 5.0, 1.0, 9.0, 3.0, 1.0, 5.0, 7.0, 5.0, 7.0, 8.0, 5.0, 4.0, 0.0, 9.0, 4.0, 10.0, 0.0, 2.0, 1.0, 4.0, 3.0, 0.0, 3.0, 0.0, 2.0, 9.0, 6.0, 0.0, 2.0, 2.0, 5.0, 10.0, 1.0, 4.0, 7.0, 10.0, 1.0, 6.0, 1.0, 10.0, 5.0, 11.0, 10.0, 0.0, 8.0, 0.0, 7.0, 9.0, 5.0, 11.0, 10.0, 1.0, 9.0, 2.0, 2.0, 3.0, 7.0, 9.0, 10.0, 5.0, 3.0, 5.0, 11.0, 0.0, 0.0, 10.0, 9.0, 11.0, 4.0, 8.0, 6.0, 6.0, 3.0, 4.0, 2.0, 6.0, 2.0, 0.0, 3.0, 2.0, 5.0, 0.0, 1.0, 3.0, 9.0, 3.0, 1.0, 3.0, 4.0, 0.0, 4.0, 4.0, 8.0, 7.0, 3.0, 9.0, 11.0, 4.0, 8.0, 0.0, 1.0, 2.0, 1.0, 2.0, 1.0, 2.0, 3.0, 0.0, 3.0, 0.0, 2.0, 4.0, 10.0, 1.0, 2.0, 3.0, 4.0, 3.0, 10.0, 5.0, 4.0, 3.0, 8.0, 2.0, 3.0, 3.0, 8.0, 8.0, 0.0, 9.0, 0.0, 1.0, 5.0, 8.0, 9.0, 8.0, 1.0, 1.0, 3.0, 0.0, 10.0, 10.0, 11.0, 1.0, 3.0, 10.0, 7.0, 4.0, 7.0, 6.0, 4.0, 7.0, 4.0, 8.0, 4.0, 4.0, 3.0, 0.0, 7.0, 7.0, 10.0, 3.0, 3.0, 10.0, 9.0, 3.0, 3.0, 2.0, 10.0, 2.0, 0.0, 1.0, 4.0, 1.0, 4.0, 4.0, 2.0, 1.0, 7.0, 9.0, 1.0, 4.0, 1.0, 4.0, 2.0, 3.0, 5.0, 4.0, 2.0, 11.0, 1.0, 8.0, 5.0, 8.0, 1.0, 8.0, 2.0, 9.0, 0.0, 11.0, 7.0, 0.0, 3.0, 3.0, 4.0, 3.0, 1.0, 9.0, 9.0, 4.0, 2.0, 3.0, 0.0, 0.0, 1.0, 5.0, 1.0, 0.0, 11.0, 4.0, 7.0, 1.0, 5.0, 5.0, 8.0, 7.0, 3.0, 9.0, 4.0, 4.0, 2.0, 6.0, 1.0, 4.0, 4.0, 0.0, 3.0, 6.0, 1.0, 0.0, 2.0, 2.0, 6.0, 0.0, 10.0, 11.0, 2.0, 9.0, 6.0, 0.0, 6.0, 1.0, 1.0, 6.0, 8.0, 10.0, 7.0, 1.0, 8.0, 3.0, 2.0, 10.0, 9.0, 8.0, 6.0, 2.0, 2.0, 2.0, 3.0, 0.0, 3.0, 10.0, 1.0, 2.0, 9.0, 1.0, 1.0, 2.0, 0.0, 8.0, 0.0, 7.0, 3.0, 8.0, 1.0, 4.0, 0.0, 5.0, 7.0, 3.0, 5.0, 1.0, 4.0, 9.0, 5.0, 5.0, 0.0, 2.0, 9.0, 5.0, 7.0, 10.0, 1.0, 1.0, 3.0, 9.0, 4.0, 3.0, 8.0, 4.0, 4.0, 1.0, 3.0, 8.0, 10.0, 0.0, 4.0, 2.0, 5.0, 3.0, 5.0, 2.0, 3.0, 1.0, 2.0, 1.0, 4.0, 8.0, 3.0, 4.0, 2.0, 0.0, 1.0, 1.0, 8.0, 7.0, 5.0, 0.0, 2.0, 11.0, 4.0, 2.0, 9.0, 5.0, 2.0, 7.0, 3.0, 6.0, 2.0, 4.0, 1.0, 3.0, 9.0, 1.0, 8.0, 11.0, 0.0, 1.0, 0.0, 0.0, 8.0, 2.0, 0.0, 5.0, 1.0, 11.0, 0.0, 2.0, 1.0, 7.0, 3.0, 8.0, 9.0, 2.0, 0.0, 8.0, 3.0, 2.0, 0.0, 0.0, 0.0, 1.0, 5.0, 2.0, 3.0, 3.0, 0.0, 3.0, 8.0, 1.0, 1.0, 4.0, 7.0, 8.0, 2.0, 0.0, 2.0, 4.0, 2.0, 2.0, 4.0, 8.0, 5.0, 3.0, 2.0, 3.0, 6.0, 7.0, 2.0, 10.0, 3.0, 0.0, 0.0, 2.0, 11.0, 0.0, 0.0, 3.0, 3.0, 3.0, 4.0, 3.0, 4.0, 3.0, 11.0, 9.0, 11.0, 2.0, 7.0, 10.0, 10.0, 6.0, 2.0, 5.0, 6.0, 0.0, 4.0, 1.0, 10.0, 1.0, 8.0, 10.0, 7.0, 2.0, 0.0, 5.0, 10.0, 7.0, 7.0, 1.0, 3.0, 3.0, 4.0, 8.0, 9.0, 0.0, 11.0, 6.0, 2.0, 2.0, 4.0, 11.0, 2.0, 4.0, 4.0, 0.0, 6.0, 1.0, 4.0, 1.0, 0.0, 9.0, 1.0, 9.0, 7.0, 0.0, 9.0, 3.0, 0.0, 4.0, 8.0, 2.0, 8.0, 5.0, 8.0, 0.0, 3.0, 2.0, 0.0, 3.0, 1.0, 5.0, 8.0, 7.0, 3.0, 6.0, 8.0, 3.0, 0.0, 2.0, 8.0, 5.0, 10.0, 9.0, 10.0, 0.0, 7.0, 2.0, 4.0, 10.0, 7.0, 2.0, 4.0, 2.0, 10.0, 5.0, 1.0, 10.0, 7.0, 6.0], \"xaxis\": \"x\", \"yaxis\": \"y\"}],                        {\"barmode\": \"relative\", \"height\": 600, \"legend\": {\"bgcolor\": \"white\", \"title\": {\"font\": {\"size\": 12}}, \"tracegroupgap\": 0, \"x\": 1.15, \"xanchor\": \"right\", \"y\": 0.9, \"yanchor\": \"top\"}, \"paper_bgcolor\": \"rgb(0,0,0,0)\", \"plot_bgcolor\": \"rgb(0,0,0,0)\", \"template\": {\"data\": {\"bar\": [{\"error_x\": {\"color\": \"#2a3f5f\"}, \"error_y\": {\"color\": \"#2a3f5f\"}, \"marker\": {\"line\": {\"color\": \"#E5ECF6\", \"width\": 0.5}}, \"type\": \"bar\"}], \"barpolar\": [{\"marker\": {\"line\": {\"color\": \"#E5ECF6\", \"width\": 0.5}}, \"type\": \"barpolar\"}], \"carpet\": [{\"aaxis\": {\"endlinecolor\": \"#2a3f5f\", \"gridcolor\": \"white\", \"linecolor\": \"white\", \"minorgridcolor\": \"white\", \"startlinecolor\": \"#2a3f5f\"}, \"baxis\": {\"endlinecolor\": \"#2a3f5f\", \"gridcolor\": \"white\", \"linecolor\": \"white\", \"minorgridcolor\": \"white\", \"startlinecolor\": \"#2a3f5f\"}, \"type\": \"carpet\"}], \"choropleth\": [{\"colorbar\": {\"outlinewidth\": 0, \"ticks\": \"\"}, \"type\": \"choropleth\"}], \"contour\": [{\"colorbar\": {\"outlinewidth\": 0, \"ticks\": \"\"}, \"colorscale\": [[0.0, \"#0d0887\"], [0.1111111111111111, \"#46039f\"], [0.2222222222222222, \"#7201a8\"], [0.3333333333333333, \"#9c179e\"], [0.4444444444444444, \"#bd3786\"], [0.5555555555555556, \"#d8576b\"], [0.6666666666666666, \"#ed7953\"], [0.7777777777777778, \"#fb9f3a\"], [0.8888888888888888, \"#fdca26\"], [1.0, \"#f0f921\"]], \"type\": \"contour\"}], \"contourcarpet\": [{\"colorbar\": {\"outlinewidth\": 0, \"ticks\": \"\"}, \"type\": \"contourcarpet\"}], \"heatmap\": [{\"colorbar\": {\"outlinewidth\": 0, \"ticks\": \"\"}, \"colorscale\": [[0.0, \"#0d0887\"], [0.1111111111111111, \"#46039f\"], [0.2222222222222222, \"#7201a8\"], [0.3333333333333333, \"#9c179e\"], [0.4444444444444444, \"#bd3786\"], [0.5555555555555556, \"#d8576b\"], [0.6666666666666666, \"#ed7953\"], [0.7777777777777778, \"#fb9f3a\"], [0.8888888888888888, \"#fdca26\"], [1.0, \"#f0f921\"]], \"type\": \"heatmap\"}], \"heatmapgl\": [{\"colorbar\": {\"outlinewidth\": 0, \"ticks\": \"\"}, \"colorscale\": [[0.0, \"#0d0887\"], [0.1111111111111111, \"#46039f\"], [0.2222222222222222, \"#7201a8\"], [0.3333333333333333, \"#9c179e\"], [0.4444444444444444, \"#bd3786\"], [0.5555555555555556, \"#d8576b\"], [0.6666666666666666, \"#ed7953\"], [0.7777777777777778, \"#fb9f3a\"], [0.8888888888888888, \"#fdca26\"], [1.0, \"#f0f921\"]], \"type\": \"heatmapgl\"}], \"histogram\": [{\"marker\": {\"colorbar\": {\"outlinewidth\": 0, \"ticks\": \"\"}}, \"type\": \"histogram\"}], \"histogram2d\": [{\"colorbar\": {\"outlinewidth\": 0, \"ticks\": \"\"}, \"colorscale\": [[0.0, \"#0d0887\"], [0.1111111111111111, \"#46039f\"], [0.2222222222222222, \"#7201a8\"], [0.3333333333333333, \"#9c179e\"], [0.4444444444444444, \"#bd3786\"], [0.5555555555555556, \"#d8576b\"], [0.6666666666666666, \"#ed7953\"], [0.7777777777777778, \"#fb9f3a\"], [0.8888888888888888, \"#fdca26\"], [1.0, \"#f0f921\"]], \"type\": \"histogram2d\"}], \"histogram2dcontour\": [{\"colorbar\": {\"outlinewidth\": 0, \"ticks\": \"\"}, \"colorscale\": [[0.0, \"#0d0887\"], [0.1111111111111111, \"#46039f\"], [0.2222222222222222, \"#7201a8\"], [0.3333333333333333, \"#9c179e\"], [0.4444444444444444, \"#bd3786\"], [0.5555555555555556, \"#d8576b\"], [0.6666666666666666, \"#ed7953\"], [0.7777777777777778, \"#fb9f3a\"], [0.8888888888888888, \"#fdca26\"], [1.0, \"#f0f921\"]], \"type\": \"histogram2dcontour\"}], \"mesh3d\": [{\"colorbar\": {\"outlinewidth\": 0, \"ticks\": \"\"}, \"type\": \"mesh3d\"}], \"parcoords\": [{\"line\": {\"colorbar\": {\"outlinewidth\": 0, \"ticks\": \"\"}}, \"type\": \"parcoords\"}], \"pie\": [{\"automargin\": true, \"type\": \"pie\"}], \"scatter\": [{\"marker\": {\"colorbar\": {\"outlinewidth\": 0, \"ticks\": \"\"}}, \"type\": \"scatter\"}], \"scatter3d\": [{\"line\": {\"colorbar\": {\"outlinewidth\": 0, \"ticks\": \"\"}}, \"marker\": {\"colorbar\": {\"outlinewidth\": 0, \"ticks\": \"\"}}, \"type\": \"scatter3d\"}], \"scattercarpet\": [{\"marker\": {\"colorbar\": {\"outlinewidth\": 0, \"ticks\": \"\"}}, \"type\": \"scattercarpet\"}], \"scattergeo\": [{\"marker\": {\"colorbar\": {\"outlinewidth\": 0, \"ticks\": \"\"}}, \"type\": \"scattergeo\"}], \"scattergl\": [{\"marker\": {\"colorbar\": {\"outlinewidth\": 0, \"ticks\": \"\"}}, \"type\": \"scattergl\"}], \"scattermapbox\": [{\"marker\": {\"colorbar\": {\"outlinewidth\": 0, \"ticks\": \"\"}}, \"type\": \"scattermapbox\"}], \"scatterpolar\": [{\"marker\": {\"colorbar\": {\"outlinewidth\": 0, \"ticks\": \"\"}}, \"type\": \"scatterpolar\"}], \"scatterpolargl\": [{\"marker\": {\"colorbar\": {\"outlinewidth\": 0, \"ticks\": \"\"}}, \"type\": \"scatterpolargl\"}], \"scatterternary\": [{\"marker\": {\"colorbar\": {\"outlinewidth\": 0, \"ticks\": \"\"}}, \"type\": \"scatterternary\"}], \"surface\": [{\"colorbar\": {\"outlinewidth\": 0, \"ticks\": \"\"}, \"colorscale\": [[0.0, \"#0d0887\"], [0.1111111111111111, \"#46039f\"], [0.2222222222222222, \"#7201a8\"], [0.3333333333333333, \"#9c179e\"], [0.4444444444444444, \"#bd3786\"], [0.5555555555555556, \"#d8576b\"], [0.6666666666666666, \"#ed7953\"], [0.7777777777777778, \"#fb9f3a\"], [0.8888888888888888, \"#fdca26\"], [1.0, \"#f0f921\"]], \"type\": \"surface\"}], \"table\": [{\"cells\": {\"fill\": {\"color\": \"#EBF0F8\"}, \"line\": {\"color\": \"white\"}}, \"header\": {\"fill\": {\"color\": \"#C8D4E3\"}, \"line\": {\"color\": \"white\"}}, \"type\": \"table\"}]}, \"layout\": {\"annotationdefaults\": {\"arrowcolor\": \"#2a3f5f\", \"arrowhead\": 0, \"arrowwidth\": 1}, \"autotypenumbers\": \"strict\", \"coloraxis\": {\"colorbar\": {\"outlinewidth\": 0, \"ticks\": \"\"}}, \"colorscale\": {\"diverging\": [[0, \"#8e0152\"], [0.1, \"#c51b7d\"], [0.2, \"#de77ae\"], [0.3, \"#f1b6da\"], [0.4, \"#fde0ef\"], [0.5, \"#f7f7f7\"], [0.6, \"#e6f5d0\"], [0.7, \"#b8e186\"], [0.8, \"#7fbc41\"], [0.9, \"#4d9221\"], [1, \"#276419\"]], \"sequential\": [[0.0, \"#0d0887\"], [0.1111111111111111, \"#46039f\"], [0.2222222222222222, \"#7201a8\"], [0.3333333333333333, \"#9c179e\"], [0.4444444444444444, \"#bd3786\"], [0.5555555555555556, \"#d8576b\"], [0.6666666666666666, \"#ed7953\"], [0.7777777777777778, \"#fb9f3a\"], [0.8888888888888888, \"#fdca26\"], [1.0, \"#f0f921\"]], \"sequentialminus\": [[0.0, \"#0d0887\"], [0.1111111111111111, \"#46039f\"], [0.2222222222222222, \"#7201a8\"], [0.3333333333333333, \"#9c179e\"], [0.4444444444444444, \"#bd3786\"], [0.5555555555555556, \"#d8576b\"], [0.6666666666666666, \"#ed7953\"], [0.7777777777777778, \"#fb9f3a\"], [0.8888888888888888, \"#fdca26\"], [1.0, \"#f0f921\"]]}, \"colorway\": [\"#636efa\", \"#EF553B\", \"#00cc96\", \"#ab63fa\", \"#FFA15A\", \"#19d3f3\", \"#FF6692\", \"#B6E880\", \"#FF97FF\", \"#FECB52\"], \"font\": {\"color\": \"#2a3f5f\"}, \"geo\": {\"bgcolor\": \"white\", \"lakecolor\": \"white\", \"landcolor\": \"#E5ECF6\", \"showlakes\": true, \"showland\": true, \"subunitcolor\": \"white\"}, \"hoverlabel\": {\"align\": \"left\"}, \"hovermode\": \"closest\", \"mapbox\": {\"style\": \"light\"}, \"paper_bgcolor\": \"white\", \"plot_bgcolor\": \"#E5ECF6\", \"polar\": {\"angularaxis\": {\"gridcolor\": \"white\", \"linecolor\": \"white\", \"ticks\": \"\"}, \"bgcolor\": \"#E5ECF6\", \"radialaxis\": {\"gridcolor\": \"white\", \"linecolor\": \"white\", \"ticks\": \"\"}}, \"scene\": {\"xaxis\": {\"backgroundcolor\": \"#E5ECF6\", \"gridcolor\": \"white\", \"gridwidth\": 2, \"linecolor\": \"white\", \"showbackground\": true, \"ticks\": \"\", \"zerolinecolor\": \"white\"}, \"yaxis\": {\"backgroundcolor\": \"#E5ECF6\", \"gridcolor\": \"white\", \"gridwidth\": 2, \"linecolor\": \"white\", \"showbackground\": true, \"ticks\": \"\", \"zerolinecolor\": \"white\"}, \"zaxis\": {\"backgroundcolor\": \"#E5ECF6\", \"gridcolor\": \"white\", \"gridwidth\": 2, \"linecolor\": \"white\", \"showbackground\": true, \"ticks\": \"\", \"zerolinecolor\": \"white\"}}, \"shapedefaults\": {\"line\": {\"color\": \"#2a3f5f\"}}, \"ternary\": {\"aaxis\": {\"gridcolor\": \"white\", \"linecolor\": \"white\", \"ticks\": \"\"}, \"baxis\": {\"gridcolor\": \"white\", \"linecolor\": \"white\", \"ticks\": \"\"}, \"bgcolor\": \"#E5ECF6\", \"caxis\": {\"gridcolor\": \"white\", \"linecolor\": \"white\", \"ticks\": \"\"}}, \"title\": {\"x\": 0.05}, \"xaxis\": {\"automargin\": true, \"gridcolor\": \"white\", \"linecolor\": \"white\", \"ticks\": \"\", \"title\": {\"standoff\": 15}, \"zerolinecolor\": \"white\", \"zerolinewidth\": 2}, \"yaxis\": {\"automargin\": true, \"gridcolor\": \"white\", \"linecolor\": \"white\", \"ticks\": \"\", \"title\": {\"standoff\": 15}, \"zerolinecolor\": \"white\", \"zerolinewidth\": 2}}}, \"title\": {\"text\": \"Distribution of Turrets Lost\", \"x\": 0.5}, \"width\": 800, \"xaxis\": {\"anchor\": \"y\", \"domain\": [0.0, 1.0], \"title\": {\"text\": \"Turrets Lost\"}}, \"yaxis\": {\"anchor\": \"x\", \"domain\": [0.0, 1.0], \"ticksuffix\": \"\", \"title\": {\"text\": \"# of Games\"}, \"visible\": true}},                        {\"responsive\": true}                    ).then(function(){\n                            \nvar gd = document.getElementById('14e3898e-d387-4725-ac9b-5955603266cf');\nvar x = new MutationObserver(function (mutations, observer) {{\n        var display = window.getComputedStyle(gd).display;\n        if (!display || display === 'none') {{\n            console.log([gd, 'removed!']);\n            Plotly.purge(gd);\n            observer.disconnect();\n        }}\n}});\n\n// Listen for the removal of the full notebook cells\nvar notebookContainer = gd.closest('#notebook-container');\nif (notebookContainer) {{\n    x.observe(notebookContainer, {childList: true});\n}}\n\n// Listen for the clearing of the current output cell\nvar outputEl = gd.closest('.output');\nif (outputEl) {{\n    x.observe(outputEl, {childList: true});\n}}\n\n                        })                };                });            </script>        </div>"
     },
     "metadata": {}
    }
   ],
   "source": [
    "# highest correlated variable - turretsLost\n",
    "\n",
    "fig = px.histogram(match_data_total_deduped, x = 'turretsLost', nbins = 20,\n",
    "                  labels = {'turretsLost': 'Turrets Lost'}, title = 'Distribution of Turrets Lost')\n",
    "fig.update_layout(\n",
    "    plot_bgcolor = 'rgb(0,0,0,0)',\n",
    "    paper_bgcolor = 'rgb(0,0,0,0)',\n",
    "    yaxis_title_text = '# of Games',\n",
    "    width = 800,\n",
    "    height = 600,\n",
    "    title_x = 0.5,\n",
    "    legend = dict(bgcolor = 'white', yanchor = 'top', y = 0.9, xanchor = 'right', x = 1.15),\n",
    "    legend_title = dict(font = dict(size = 12))\n",
    "    )\n",
    "fig.update_yaxes(ticksuffix = '', visible = True)\n",
    "\n",
    "fig.show(renderer = 'notebook_connected')"
   ]
  },
  {
   "cell_type": "code",
   "execution_count": 73,
   "metadata": {},
   "outputs": [],
   "source": [
    "average_kda = match_data_total_deduped.loc[:, ['championName', 'kills', 'deaths', 'assists', 'matchId']].groupby('championName').agg({\n",
    "    'kills': 'mean', 'deaths': 'mean', 'assists': 'mean', 'matchId': 'count'\n",
    "})\n",
    "average_kda.rename(columns = {'matchId': 'game_count'}, inplace = True)\n",
    "average_kda_df = average_kda.reset_index()\n",
    "average_kda_df_top_10_gamecount = average_kda_df.sort_values(by = 'game_count', ascending = False).iloc[:10, :]\n",
    "\n",
    "average_kda_df_top_10_gamecount_cleaned = average_kda_df_top_10_gamecount.rename(\n",
    "    columns = {'championName': 'Champion', 'kills': 'Average Kills', 'deaths': 'Average Deaths', 'assists': 'Average Assists', 'game_count': '# of Games'}\n",
    ")\n",
    "average_kda_df_top_10_gamecount_cleaned['Average Kills'] = round(average_kda_df_top_10_gamecount_cleaned['Average Kills'], 1)\n",
    "average_kda_df_top_10_gamecount_cleaned['Average Deaths'] = round(average_kda_df_top_10_gamecount_cleaned['Average Deaths'], 1)\n",
    "average_kda_df_top_10_gamecount_cleaned['Average Assists'] = round(average_kda_df_top_10_gamecount_cleaned['Average Assists'], 1)\n",
    "\n",
    "average_kda_df_top_10_nogamecount =  average_kda_df_top_10_gamecount_cleaned.drop(columns = '# of Games')\n",
    "average_kda_df_long = pd.melt(average_kda_df_top_10_nogamecount, id_vars = ['Champion'], var_name = 'stat_type', value_name = 'stat_count')"
   ]
  },
  {
   "cell_type": "code",
   "execution_count": 74,
   "metadata": {},
   "outputs": [
    {
     "output_type": "display_data",
     "data": {
      "text/html": "        <script type=\"text/javascript\">\n        window.PlotlyConfig = {MathJaxConfig: 'local'};\n        if (window.MathJax) {MathJax.Hub.Config({SVG: {font: \"STIX-Web\"}});}\n        if (typeof require !== 'undefined') {\n        require.undef(\"plotly\");\n        requirejs.config({\n            paths: {\n                'plotly': ['https://cdn.plot.ly/plotly-latest.min']\n            }\n        });\n        require(['plotly'], function(Plotly) {\n            window._Plotly = Plotly;\n        });\n        }\n        </script>\n        "
     },
     "metadata": {}
    },
    {
     "output_type": "display_data",
     "data": {
      "text/html": "<div>                            <div id=\"033d6252-eb71-4020-9748-66df19399136\" class=\"plotly-graph-div\" style=\"height:600px; width:950px;\"></div>            <script type=\"text/javascript\">                require([\"plotly\"], function(Plotly) {                    window.PLOTLYENV=window.PLOTLYENV || {};                                    if (document.getElementById(\"033d6252-eb71-4020-9748-66df19399136\")) {                    Plotly.newPlot(                        \"033d6252-eb71-4020-9748-66df19399136\",                        [{\"alignmentgroup\": \"True\", \"hovertemplate\": \"Stat Type=Average Kills<br>Champion=%{x}<br>=%{text}<extra></extra>\", \"insidetextanchor\": \"end\", \"legendgroup\": \"Average Kills\", \"marker\": {\"color\": \"#636efa\"}, \"name\": \"Average Kills\", \"offsetgroup\": \"Average Kills\", \"orientation\": \"v\", \"showlegend\": true, \"text\": [6.3, 4.1, 5.6, 1.3, 1.6, 2.1, 6.5, 5.7, 6.5, 4.9], \"textfont\": {\"color\": \"#000000\"}, \"textposition\": \"inside\", \"texttemplate\": \"%{text}\", \"type\": \"bar\", \"x\": [\"LeeSin\", \"Sett\", \"Ezreal\", \"Thresh\", \"Nautilus\", \"Karma\", \"Kaisa\", \"Sylas\", \"Tristana\", \"Jayce\"], \"xaxis\": \"x\", \"y\": [6.3, 4.1, 5.6, 1.3, 1.6, 2.1, 6.5, 5.7, 6.5, 4.9], \"yaxis\": \"y\"}, {\"alignmentgroup\": \"True\", \"hovertemplate\": \"Stat Type=Average Deaths<br>Champion=%{x}<br>=%{text}<extra></extra>\", \"insidetextanchor\": \"end\", \"legendgroup\": \"Average Deaths\", \"marker\": {\"color\": \"#EF553B\"}, \"name\": \"Average Deaths\", \"offsetgroup\": \"Average Deaths\", \"orientation\": \"v\", \"showlegend\": true, \"text\": [4.2, 5.5, 4.1, 4.1, 4.7, 4.1, 4.2, 4.7, 3.9, 5.1], \"textfont\": {\"color\": \"#000000\"}, \"textposition\": \"inside\", \"texttemplate\": \"%{text}\", \"type\": \"bar\", \"x\": [\"LeeSin\", \"Sett\", \"Ezreal\", \"Thresh\", \"Nautilus\", \"Karma\", \"Kaisa\", \"Sylas\", \"Tristana\", \"Jayce\"], \"xaxis\": \"x\", \"y\": [4.2, 5.5, 4.1, 4.1, 4.7, 4.1, 4.2, 4.7, 3.9, 5.1], \"yaxis\": \"y\"}, {\"alignmentgroup\": \"True\", \"hovertemplate\": \"Stat Type=Average Assists<br>Champion=%{x}<br>=%{text}<extra></extra>\", \"insidetextanchor\": \"end\", \"legendgroup\": \"Average Assists\", \"marker\": {\"color\": \"#00cc96\"}, \"name\": \"Average Assists\", \"offsetgroup\": \"Average Assists\", \"orientation\": \"v\", \"showlegend\": true, \"text\": [6.7, 7.6, 6.4, 12.8, 11.4, 11.5, 5.7, 6.1, 5.3, 5.7], \"textfont\": {\"color\": \"#000000\"}, \"textposition\": \"inside\", \"texttemplate\": \"%{text}\", \"type\": \"bar\", \"x\": [\"LeeSin\", \"Sett\", \"Ezreal\", \"Thresh\", \"Nautilus\", \"Karma\", \"Kaisa\", \"Sylas\", \"Tristana\", \"Jayce\"], \"xaxis\": \"x\", \"y\": [6.7, 7.6, 6.4, 12.8, 11.4, 11.5, 5.7, 6.1, 5.3, 5.7], \"yaxis\": \"y\"}],                        {\"barmode\": \"group\", \"height\": 600, \"legend\": {\"bgcolor\": \"white\", \"bordercolor\": \"Black\", \"borderwidth\": 1, \"title\": {\"font\": {\"size\": 11}, \"text\": \"Stat Type\"}, \"tracegroupgap\": 0, \"x\": 0.0, \"y\": 1.2}, \"paper_bgcolor\": \"rgb(0,0,0,0)\", \"plot_bgcolor\": \"rgb(0,0,0,0)\", \"template\": {\"data\": {\"bar\": [{\"error_x\": {\"color\": \"#2a3f5f\"}, \"error_y\": {\"color\": \"#2a3f5f\"}, \"marker\": {\"line\": {\"color\": \"#E5ECF6\", \"width\": 0.5}}, \"type\": \"bar\"}], \"barpolar\": [{\"marker\": {\"line\": {\"color\": \"#E5ECF6\", \"width\": 0.5}}, \"type\": \"barpolar\"}], \"carpet\": [{\"aaxis\": {\"endlinecolor\": \"#2a3f5f\", \"gridcolor\": \"white\", \"linecolor\": \"white\", \"minorgridcolor\": \"white\", \"startlinecolor\": \"#2a3f5f\"}, \"baxis\": {\"endlinecolor\": \"#2a3f5f\", \"gridcolor\": \"white\", \"linecolor\": \"white\", \"minorgridcolor\": \"white\", \"startlinecolor\": \"#2a3f5f\"}, \"type\": \"carpet\"}], \"choropleth\": [{\"colorbar\": {\"outlinewidth\": 0, \"ticks\": \"\"}, \"type\": \"choropleth\"}], \"contour\": [{\"colorbar\": {\"outlinewidth\": 0, \"ticks\": \"\"}, \"colorscale\": [[0.0, \"#0d0887\"], [0.1111111111111111, \"#46039f\"], [0.2222222222222222, \"#7201a8\"], [0.3333333333333333, \"#9c179e\"], [0.4444444444444444, \"#bd3786\"], [0.5555555555555556, \"#d8576b\"], [0.6666666666666666, \"#ed7953\"], [0.7777777777777778, \"#fb9f3a\"], [0.8888888888888888, \"#fdca26\"], [1.0, \"#f0f921\"]], \"type\": \"contour\"}], \"contourcarpet\": [{\"colorbar\": {\"outlinewidth\": 0, \"ticks\": \"\"}, \"type\": \"contourcarpet\"}], \"heatmap\": [{\"colorbar\": {\"outlinewidth\": 0, \"ticks\": \"\"}, \"colorscale\": [[0.0, \"#0d0887\"], [0.1111111111111111, \"#46039f\"], [0.2222222222222222, \"#7201a8\"], [0.3333333333333333, \"#9c179e\"], [0.4444444444444444, \"#bd3786\"], [0.5555555555555556, \"#d8576b\"], [0.6666666666666666, \"#ed7953\"], [0.7777777777777778, \"#fb9f3a\"], [0.8888888888888888, \"#fdca26\"], [1.0, \"#f0f921\"]], \"type\": \"heatmap\"}], \"heatmapgl\": [{\"colorbar\": {\"outlinewidth\": 0, \"ticks\": \"\"}, \"colorscale\": [[0.0, \"#0d0887\"], [0.1111111111111111, \"#46039f\"], [0.2222222222222222, \"#7201a8\"], [0.3333333333333333, \"#9c179e\"], [0.4444444444444444, \"#bd3786\"], [0.5555555555555556, \"#d8576b\"], [0.6666666666666666, \"#ed7953\"], [0.7777777777777778, \"#fb9f3a\"], [0.8888888888888888, \"#fdca26\"], [1.0, \"#f0f921\"]], \"type\": \"heatmapgl\"}], \"histogram\": [{\"marker\": {\"colorbar\": {\"outlinewidth\": 0, \"ticks\": \"\"}}, \"type\": \"histogram\"}], \"histogram2d\": [{\"colorbar\": {\"outlinewidth\": 0, \"ticks\": \"\"}, \"colorscale\": [[0.0, \"#0d0887\"], [0.1111111111111111, \"#46039f\"], [0.2222222222222222, \"#7201a8\"], [0.3333333333333333, \"#9c179e\"], [0.4444444444444444, \"#bd3786\"], [0.5555555555555556, \"#d8576b\"], [0.6666666666666666, \"#ed7953\"], [0.7777777777777778, \"#fb9f3a\"], [0.8888888888888888, \"#fdca26\"], [1.0, \"#f0f921\"]], \"type\": \"histogram2d\"}], \"histogram2dcontour\": [{\"colorbar\": {\"outlinewidth\": 0, \"ticks\": \"\"}, \"colorscale\": [[0.0, \"#0d0887\"], [0.1111111111111111, \"#46039f\"], [0.2222222222222222, \"#7201a8\"], [0.3333333333333333, \"#9c179e\"], [0.4444444444444444, \"#bd3786\"], [0.5555555555555556, \"#d8576b\"], [0.6666666666666666, \"#ed7953\"], [0.7777777777777778, \"#fb9f3a\"], [0.8888888888888888, \"#fdca26\"], [1.0, \"#f0f921\"]], \"type\": \"histogram2dcontour\"}], \"mesh3d\": [{\"colorbar\": {\"outlinewidth\": 0, \"ticks\": \"\"}, \"type\": \"mesh3d\"}], \"parcoords\": [{\"line\": {\"colorbar\": {\"outlinewidth\": 0, \"ticks\": \"\"}}, \"type\": \"parcoords\"}], \"pie\": [{\"automargin\": true, \"type\": \"pie\"}], \"scatter\": [{\"marker\": {\"colorbar\": {\"outlinewidth\": 0, \"ticks\": \"\"}}, \"type\": \"scatter\"}], \"scatter3d\": [{\"line\": {\"colorbar\": {\"outlinewidth\": 0, \"ticks\": \"\"}}, \"marker\": {\"colorbar\": {\"outlinewidth\": 0, \"ticks\": \"\"}}, \"type\": \"scatter3d\"}], \"scattercarpet\": [{\"marker\": {\"colorbar\": {\"outlinewidth\": 0, \"ticks\": \"\"}}, \"type\": \"scattercarpet\"}], \"scattergeo\": [{\"marker\": {\"colorbar\": {\"outlinewidth\": 0, \"ticks\": \"\"}}, \"type\": \"scattergeo\"}], \"scattergl\": [{\"marker\": {\"colorbar\": {\"outlinewidth\": 0, \"ticks\": \"\"}}, \"type\": \"scattergl\"}], \"scattermapbox\": [{\"marker\": {\"colorbar\": {\"outlinewidth\": 0, \"ticks\": \"\"}}, \"type\": \"scattermapbox\"}], \"scatterpolar\": [{\"marker\": {\"colorbar\": {\"outlinewidth\": 0, \"ticks\": \"\"}}, \"type\": \"scatterpolar\"}], \"scatterpolargl\": [{\"marker\": {\"colorbar\": {\"outlinewidth\": 0, \"ticks\": \"\"}}, \"type\": \"scatterpolargl\"}], \"scatterternary\": [{\"marker\": {\"colorbar\": {\"outlinewidth\": 0, \"ticks\": \"\"}}, \"type\": \"scatterternary\"}], \"surface\": [{\"colorbar\": {\"outlinewidth\": 0, \"ticks\": \"\"}, \"colorscale\": [[0.0, \"#0d0887\"], [0.1111111111111111, \"#46039f\"], [0.2222222222222222, \"#7201a8\"], [0.3333333333333333, \"#9c179e\"], [0.4444444444444444, \"#bd3786\"], [0.5555555555555556, \"#d8576b\"], [0.6666666666666666, \"#ed7953\"], [0.7777777777777778, \"#fb9f3a\"], [0.8888888888888888, \"#fdca26\"], [1.0, \"#f0f921\"]], \"type\": \"surface\"}], \"table\": [{\"cells\": {\"fill\": {\"color\": \"#EBF0F8\"}, \"line\": {\"color\": \"white\"}}, \"header\": {\"fill\": {\"color\": \"#C8D4E3\"}, \"line\": {\"color\": \"white\"}}, \"type\": \"table\"}]}, \"layout\": {\"annotationdefaults\": {\"arrowcolor\": \"#2a3f5f\", \"arrowhead\": 0, \"arrowwidth\": 1}, \"autotypenumbers\": \"strict\", \"coloraxis\": {\"colorbar\": {\"outlinewidth\": 0, \"ticks\": \"\"}}, \"colorscale\": {\"diverging\": [[0, \"#8e0152\"], [0.1, \"#c51b7d\"], [0.2, \"#de77ae\"], [0.3, \"#f1b6da\"], [0.4, \"#fde0ef\"], [0.5, \"#f7f7f7\"], [0.6, \"#e6f5d0\"], [0.7, \"#b8e186\"], [0.8, \"#7fbc41\"], [0.9, \"#4d9221\"], [1, \"#276419\"]], \"sequential\": [[0.0, \"#0d0887\"], [0.1111111111111111, \"#46039f\"], [0.2222222222222222, \"#7201a8\"], [0.3333333333333333, \"#9c179e\"], [0.4444444444444444, \"#bd3786\"], [0.5555555555555556, \"#d8576b\"], [0.6666666666666666, \"#ed7953\"], [0.7777777777777778, \"#fb9f3a\"], [0.8888888888888888, \"#fdca26\"], [1.0, \"#f0f921\"]], \"sequentialminus\": [[0.0, \"#0d0887\"], [0.1111111111111111, \"#46039f\"], [0.2222222222222222, \"#7201a8\"], [0.3333333333333333, \"#9c179e\"], [0.4444444444444444, \"#bd3786\"], [0.5555555555555556, \"#d8576b\"], [0.6666666666666666, \"#ed7953\"], [0.7777777777777778, \"#fb9f3a\"], [0.8888888888888888, \"#fdca26\"], [1.0, \"#f0f921\"]]}, \"colorway\": [\"#636efa\", \"#EF553B\", \"#00cc96\", \"#ab63fa\", \"#FFA15A\", \"#19d3f3\", \"#FF6692\", \"#B6E880\", \"#FF97FF\", \"#FECB52\"], \"font\": {\"color\": \"#2a3f5f\"}, \"geo\": {\"bgcolor\": \"white\", \"lakecolor\": \"white\", \"landcolor\": \"#E5ECF6\", \"showlakes\": true, \"showland\": true, \"subunitcolor\": \"white\"}, \"hoverlabel\": {\"align\": \"left\"}, \"hovermode\": \"closest\", \"mapbox\": {\"style\": \"light\"}, \"paper_bgcolor\": \"white\", \"plot_bgcolor\": \"#E5ECF6\", \"polar\": {\"angularaxis\": {\"gridcolor\": \"white\", \"linecolor\": \"white\", \"ticks\": \"\"}, \"bgcolor\": \"#E5ECF6\", \"radialaxis\": {\"gridcolor\": \"white\", \"linecolor\": \"white\", \"ticks\": \"\"}}, \"scene\": {\"xaxis\": {\"backgroundcolor\": \"#E5ECF6\", \"gridcolor\": \"white\", \"gridwidth\": 2, \"linecolor\": \"white\", \"showbackground\": true, \"ticks\": \"\", \"zerolinecolor\": \"white\"}, \"yaxis\": {\"backgroundcolor\": \"#E5ECF6\", \"gridcolor\": \"white\", \"gridwidth\": 2, \"linecolor\": \"white\", \"showbackground\": true, \"ticks\": \"\", \"zerolinecolor\": \"white\"}, \"zaxis\": {\"backgroundcolor\": \"#E5ECF6\", \"gridcolor\": \"white\", \"gridwidth\": 2, \"linecolor\": \"white\", \"showbackground\": true, \"ticks\": \"\", \"zerolinecolor\": \"white\"}}, \"shapedefaults\": {\"line\": {\"color\": \"#2a3f5f\"}}, \"ternary\": {\"aaxis\": {\"gridcolor\": \"white\", \"linecolor\": \"white\", \"ticks\": \"\"}, \"baxis\": {\"gridcolor\": \"white\", \"linecolor\": \"white\", \"ticks\": \"\"}, \"bgcolor\": \"#E5ECF6\", \"caxis\": {\"gridcolor\": \"white\", \"linecolor\": \"white\", \"ticks\": \"\"}}, \"title\": {\"x\": 0.05}, \"xaxis\": {\"automargin\": true, \"gridcolor\": \"white\", \"linecolor\": \"white\", \"ticks\": \"\", \"title\": {\"standoff\": 15}, \"zerolinecolor\": \"white\", \"zerolinewidth\": 2}, \"yaxis\": {\"automargin\": true, \"gridcolor\": \"white\", \"linecolor\": \"white\", \"ticks\": \"\", \"title\": {\"standoff\": 15}, \"zerolinecolor\": \"white\", \"zerolinewidth\": 2}}}, \"title\": {\"text\": \"KDA for Top 10 Played Champions\", \"x\": 0.5}, \"width\": 950, \"xaxis\": {\"anchor\": \"y\", \"categoryorder\": \"total ascending\", \"domain\": [0.0, 1.0], \"title\": {\"text\": \"Champion\"}}, \"yaxis\": {\"anchor\": \"x\", \"domain\": [0.0, 1.0], \"title\": {\"text\": \"\"}}},                        {\"responsive\": true}                    ).then(function(){\n                            \nvar gd = document.getElementById('033d6252-eb71-4020-9748-66df19399136');\nvar x = new MutationObserver(function (mutations, observer) {{\n        var display = window.getComputedStyle(gd).display;\n        if (!display || display === 'none') {{\n            console.log([gd, 'removed!']);\n            Plotly.purge(gd);\n            observer.disconnect();\n        }}\n}});\n\n// Listen for the removal of the full notebook cells\nvar notebookContainer = gd.closest('#notebook-container');\nif (notebookContainer) {{\n    x.observe(notebookContainer, {childList: true});\n}}\n\n// Listen for the clearing of the current output cell\nvar outputEl = gd.closest('.output');\nif (outputEl) {{\n    x.observe(outputEl, {childList: true});\n}}\n\n                        })                };                });            </script>        </div>"
     },
     "metadata": {}
    }
   ],
   "source": [
    "fig = px.bar(average_kda_df_long, x = 'Champion', y = 'stat_count', color = 'stat_type', barmode = 'group', text = 'stat_count',\n",
    "             labels = {'stat_count': '', 'stat_type': 'Stat Type'}, title = 'KDA for Top 10 Played Champions')\n",
    "\n",
    "fig.update_layout(\n",
    "    plot_bgcolor = 'rgb(0,0,0,0)',\n",
    "    paper_bgcolor = 'rgb(0,0,0,0)',\n",
    "    width = 950,\n",
    "    height = 600,\n",
    "    title_x = 0.5,\n",
    "    legend = dict(bgcolor = 'white', y = 1.2, x = 0.0, bordercolor = 'Black', borderwidth = 1),\n",
    "    legend_title = dict(font = dict(size = 11)),\n",
    ")\n",
    "fig.update_xaxes(categoryorder = 'total ascending')\n",
    "fig.update_traces(texttemplate = '%{text}', textposition = 'inside', insidetextanchor = 'end', \n",
    "                      textfont_color = '#000000')\n",
    "fig.show(renderer = 'notebook_connected')"
   ]
  },
  {
   "source": [
    "# Part 2C"
   ],
   "cell_type": "markdown",
   "metadata": {}
  },
  {
   "source": [
    "## Logistic Regression to Determine Win/Loss"
   ],
   "cell_type": "markdown",
   "metadata": {}
  },
  {
   "cell_type": "code",
   "execution_count": 145,
   "metadata": {},
   "outputs": [],
   "source": [
    "import matplotlib.pyplot as plt\n",
    "import seaborn as sns\n",
    "from sklearn import metrics\n",
    "from sklearn.linear_model import LogisticRegression\n",
    "from sklearn.model_selection import train_test_split"
   ]
  },
  {
   "cell_type": "code",
   "execution_count": 146,
   "metadata": {},
   "outputs": [
    {
     "output_type": "execute_result",
     "data": {
      "text/plain": [
       "win                        1.000000\n",
       "bountyLevel                0.461929\n",
       "assists                    0.373235\n",
       "turretKills                0.362904\n",
       "largestKillingSpree        0.356634\n",
       "damageDealtToBuildings     0.345849\n",
       "damageDealtToTurrets       0.345254\n",
       "kills                      0.307865\n",
       "damageDealtToObjectives    0.284228\n",
       "killingSprees              0.270374\n",
       "inhibitorKills             0.255280\n",
       "largestMultiKill           0.253910\n",
       "totalTimeSpentDead        -0.343363\n",
       "deaths                    -0.443197\n",
       "inhibitorsLost            -0.571607\n",
       "nexusLost                 -0.607605\n",
       "turretsLost               -0.714582\n",
       "Name: win, dtype: float64"
      ]
     },
     "metadata": {},
     "execution_count": 146
    }
   ],
   "source": [
    "win_correlations.loc[(win_correlations >= 0.25) | (win_correlations <= -.25)]"
   ]
  },
  {
   "cell_type": "code",
   "execution_count": 147,
   "metadata": {},
   "outputs": [],
   "source": [
    "# tale highly correlated columns to use as x variables\n",
    "corr_cols = list(win_correlations.loc[(win_correlations >= 0.25) | (win_correlations <= -.25)].index)"
   ]
  },
  {
   "cell_type": "code",
   "execution_count": 148,
   "metadata": {},
   "outputs": [],
   "source": [
    "x = match_data_total_deduped.loc[:, corr_cols[1:]]\n",
    "y = match_data_total_deduped[corr_cols[0]]"
   ]
  },
  {
   "cell_type": "code",
   "execution_count": 149,
   "metadata": {},
   "outputs": [
    {
     "output_type": "execute_result",
     "data": {
      "text/plain": [
       "   bountyLevel  assists  turretKills  largestKillingSpree  \\\n",
       "0            0       13            0                    0   \n",
       "1            0       11            0                    2   \n",
       "2            0        0            0                    0   \n",
       "3            0       20            0                    0   \n",
       "4            1       18            0                    0   \n",
       "\n",
       "   damageDealtToBuildings  damageDealtToTurrets  kills  \\\n",
       "0                   488.0                   488      1   \n",
       "1                     0.0                     0      2   \n",
       "2                     0.0                     0      1   \n",
       "3                   320.0                   320      0   \n",
       "4                   796.0                   796      2   \n",
       "\n",
       "   damageDealtToObjectives  killingSprees  inhibitorKills  largestMultiKill  \\\n",
       "0                     1419              0               0                 1   \n",
       "1                      174              1               0                 1   \n",
       "2                        0              0               0                 1   \n",
       "3                      999              0               0                 0   \n",
       "4                      796              0               0                 1   \n",
       "\n",
       "   totalTimeSpentDead  deaths  inhibitorsLost  nexusLost  turretsLost  \n",
       "0                 140       6             0.0        0.0          0.0  \n",
       "1                  98       5             1.0        1.0          9.0  \n",
       "2                  75       5             0.0        0.0          3.0  \n",
       "3                 212       7             0.0        0.0          1.0  \n",
       "4                  94       4             0.0        0.0          1.0  "
      ],
      "text/html": "<div>\n<style scoped>\n    .dataframe tbody tr th:only-of-type {\n        vertical-align: middle;\n    }\n\n    .dataframe tbody tr th {\n        vertical-align: top;\n    }\n\n    .dataframe thead th {\n        text-align: right;\n    }\n</style>\n<table border=\"1\" class=\"dataframe\">\n  <thead>\n    <tr style=\"text-align: right;\">\n      <th></th>\n      <th>bountyLevel</th>\n      <th>assists</th>\n      <th>turretKills</th>\n      <th>largestKillingSpree</th>\n      <th>damageDealtToBuildings</th>\n      <th>damageDealtToTurrets</th>\n      <th>kills</th>\n      <th>damageDealtToObjectives</th>\n      <th>killingSprees</th>\n      <th>inhibitorKills</th>\n      <th>largestMultiKill</th>\n      <th>totalTimeSpentDead</th>\n      <th>deaths</th>\n      <th>inhibitorsLost</th>\n      <th>nexusLost</th>\n      <th>turretsLost</th>\n    </tr>\n  </thead>\n  <tbody>\n    <tr>\n      <th>0</th>\n      <td>0</td>\n      <td>13</td>\n      <td>0</td>\n      <td>0</td>\n      <td>488.0</td>\n      <td>488</td>\n      <td>1</td>\n      <td>1419</td>\n      <td>0</td>\n      <td>0</td>\n      <td>1</td>\n      <td>140</td>\n      <td>6</td>\n      <td>0.0</td>\n      <td>0.0</td>\n      <td>0.0</td>\n    </tr>\n    <tr>\n      <th>1</th>\n      <td>0</td>\n      <td>11</td>\n      <td>0</td>\n      <td>2</td>\n      <td>0.0</td>\n      <td>0</td>\n      <td>2</td>\n      <td>174</td>\n      <td>1</td>\n      <td>0</td>\n      <td>1</td>\n      <td>98</td>\n      <td>5</td>\n      <td>1.0</td>\n      <td>1.0</td>\n      <td>9.0</td>\n    </tr>\n    <tr>\n      <th>2</th>\n      <td>0</td>\n      <td>0</td>\n      <td>0</td>\n      <td>0</td>\n      <td>0.0</td>\n      <td>0</td>\n      <td>1</td>\n      <td>0</td>\n      <td>0</td>\n      <td>0</td>\n      <td>1</td>\n      <td>75</td>\n      <td>5</td>\n      <td>0.0</td>\n      <td>0.0</td>\n      <td>3.0</td>\n    </tr>\n    <tr>\n      <th>3</th>\n      <td>0</td>\n      <td>20</td>\n      <td>0</td>\n      <td>0</td>\n      <td>320.0</td>\n      <td>320</td>\n      <td>0</td>\n      <td>999</td>\n      <td>0</td>\n      <td>0</td>\n      <td>0</td>\n      <td>212</td>\n      <td>7</td>\n      <td>0.0</td>\n      <td>0.0</td>\n      <td>1.0</td>\n    </tr>\n    <tr>\n      <th>4</th>\n      <td>1</td>\n      <td>18</td>\n      <td>0</td>\n      <td>0</td>\n      <td>796.0</td>\n      <td>796</td>\n      <td>2</td>\n      <td>796</td>\n      <td>0</td>\n      <td>0</td>\n      <td>1</td>\n      <td>94</td>\n      <td>4</td>\n      <td>0.0</td>\n      <td>0.0</td>\n      <td>1.0</td>\n    </tr>\n  </tbody>\n</table>\n</div>"
     },
     "metadata": {},
     "execution_count": 149
    }
   ],
   "source": [
    "d_types = ['int16', 'int32', 'int64', 'float16', 'float32', 'float64', 'bool']\n",
    "x = x.select_dtypes(include = d_types)\n",
    "x.head()"
   ]
  },
  {
   "cell_type": "code",
   "execution_count": 150,
   "metadata": {},
   "outputs": [
    {
     "output_type": "execute_result",
     "data": {
      "text/plain": [
       "0    1\n",
       "1    0\n",
       "2    0\n",
       "3    1\n",
       "4    1\n",
       "Name: win, dtype: int32"
      ]
     },
     "metadata": {},
     "execution_count": 150
    }
   ],
   "source": [
    "y = y.astype('int')\n",
    "y.head()"
   ]
  },
  {
   "cell_type": "code",
   "execution_count": 151,
   "metadata": {},
   "outputs": [],
   "source": [
    "x_train, x_test, y_train, y_test = train_test_split(x, y, random_state = 4)"
   ]
  },
  {
   "source": [
    "## Training the Model"
   ],
   "cell_type": "markdown",
   "metadata": {}
  },
  {
   "source": [
    "logistic_regression = LogisticRegression(solver='lbfgs', max_iter = 1000)\n",
    "logistic_regression.fit(x_train, y_train)"
   ],
   "cell_type": "markdown",
   "metadata": {}
  },
  {
   "source": [
    "## Testing the Model"
   ],
   "cell_type": "markdown",
   "metadata": {}
  },
  {
   "cell_type": "code",
   "execution_count": 163,
   "metadata": {},
   "outputs": [],
   "source": [
    "# use the model tuned by the x_train and y_train to get predicted values for y\n",
    "y_pred = logistic_regression.predict(x_test)"
   ]
  },
  {
   "cell_type": "code",
   "execution_count": 164,
   "metadata": {},
   "outputs": [
    {
     "output_type": "execute_result",
     "data": {
      "text/plain": [
       "96.48323021816998"
      ]
     },
     "metadata": {},
     "execution_count": 164
    }
   ],
   "source": [
    "# get the accuracy of the model\n",
    "accuracy = metrics.accuracy_score(y_test, y_pred)\n",
    "accuracy_percentage = 100 * accuracy\n",
    "accuracy_percentage"
   ]
  },
  {
   "cell_type": "code",
   "execution_count": 165,
   "metadata": {},
   "outputs": [
    {
     "output_type": "stream",
     "name": "stdout",
     "text": [
      "[[1347   53]\n [  55 1616]]\n"
     ]
    }
   ],
   "source": [
    "cm = metrics.confusion_matrix(y_test, y_pred)\n",
    "print(cm)"
   ]
  },
  {
   "cell_type": "code",
   "execution_count": 170,
   "metadata": {},
   "outputs": [
    {
     "output_type": "display_data",
     "data": {
      "text/plain": "<Figure size 648x648 with 2 Axes>",
      "image/svg+xml": "<?xml version=\"1.0\" encoding=\"utf-8\" standalone=\"no\"?>\r\n<!DOCTYPE svg PUBLIC \"-//W3C//DTD SVG 1.1//EN\"\r\n  \"http://www.w3.org/Graphics/SVG/1.1/DTD/svg11.dtd\">\r\n<svg height=\"503.64pt\" version=\"1.1\" viewBox=\"0 0 528.53825 503.64\" width=\"528.53825pt\" xmlns=\"http://www.w3.org/2000/svg\" xmlns:xlink=\"http://www.w3.org/1999/xlink\">\r\n <metadata>\r\n  <rdf:RDF xmlns:cc=\"http://creativecommons.org/ns#\" xmlns:dc=\"http://purl.org/dc/elements/1.1/\" xmlns:rdf=\"http://www.w3.org/1999/02/22-rdf-syntax-ns#\">\r\n   <cc:Work>\r\n    <dc:type rdf:resource=\"http://purl.org/dc/dcmitype/StillImage\"/>\r\n    <dc:date>2021-06-23T17:09:27.427558</dc:date>\r\n    <dc:format>image/svg+xml</dc:format>\r\n    <dc:creator>\r\n     <cc:Agent>\r\n      <dc:title>Matplotlib v3.4.2, https://matplotlib.org/</dc:title>\r\n     </cc:Agent>\r\n    </dc:creator>\r\n   </cc:Work>\r\n  </rdf:RDF>\r\n </metadata>\r\n <defs>\r\n  <style type=\"text/css\">*{stroke-linecap:butt;stroke-linejoin:round;}</style>\r\n </defs>\r\n <g id=\"figure_1\">\r\n  <g id=\"patch_1\">\r\n   <path d=\"M 0 503.64 \r\nL 528.53825 503.64 \r\nL 528.53825 0 \r\nL 0 0 \r\nz\r\n\" style=\"fill:none;\"/>\r\n  </g>\r\n  <g id=\"axes_1\">\r\n   <g id=\"patch_2\">\r\n    <path d=\"M 37.55625 452.7 \r\nL 439.31625 452.7 \r\nL 439.31625 50.94 \r\nL 37.55625 50.94 \r\nz\r\n\" style=\"fill:#ffffff;\"/>\r\n   </g>\r\n   <g id=\"QuadMesh_1\">\r\n    <path clip-path=\"url(#p5a9be15c0a)\" d=\"M 37.55625 50.94 \r\nL 238.43625 50.94 \r\nL 238.43625 251.82 \r\nL 37.55625 251.82 \r\nL 37.55625 50.94 \r\n\" style=\"fill:#d5e5f4;stroke:#ffffff;stroke-width:0.5;\"/>\r\n    <path clip-path=\"url(#p5a9be15c0a)\" d=\"M 238.43625 50.94 \r\nL 439.31625 50.94 \r\nL 439.31625 251.82 \r\nL 238.43625 251.82 \r\nL 238.43625 50.94 \r\n\" style=\"fill:#08306b;stroke:#ffffff;stroke-width:0.5;\"/>\r\n    <path clip-path=\"url(#p5a9be15c0a)\" d=\"M 37.55625 251.82 \r\nL 238.43625 251.82 \r\nL 238.43625 452.7 \r\nL 37.55625 452.7 \r\nL 37.55625 251.82 \r\n\" style=\"fill:#08306b;stroke:#ffffff;stroke-width:0.5;\"/>\r\n    <path clip-path=\"url(#p5a9be15c0a)\" d=\"M 238.43625 251.82 \r\nL 439.31625 251.82 \r\nL 439.31625 452.7 \r\nL 238.43625 452.7 \r\nL 238.43625 251.82 \r\n\" style=\"fill:#f7fbff;stroke:#ffffff;stroke-width:0.5;\"/>\r\n   </g>\r\n   <g id=\"matplotlib.axis_1\">\r\n    <g id=\"xtick_1\">\r\n     <g id=\"line2d_1\">\r\n      <defs>\r\n       <path d=\"M 0 0 \r\nL 0 3.5 \r\n\" id=\"m17a474eb5f\" style=\"stroke:#000000;stroke-width:0.8;\"/>\r\n      </defs>\r\n      <g>\r\n       <use style=\"stroke:#000000;stroke-width:0.8;\" x=\"137.99625\" xlink:href=\"#m17a474eb5f\" y=\"452.7\"/>\r\n      </g>\r\n     </g>\r\n     <g id=\"text_1\">\r\n      <!-- 0 -->\r\n      <g transform=\"translate(134.815 467.298438)scale(0.1 -0.1)\">\r\n       <defs>\r\n        <path d=\"M 2034 4250 \r\nQ 1547 4250 1301 3770 \r\nQ 1056 3291 1056 2328 \r\nQ 1056 1369 1301 889 \r\nQ 1547 409 2034 409 \r\nQ 2525 409 2770 889 \r\nQ 3016 1369 3016 2328 \r\nQ 3016 3291 2770 3770 \r\nQ 2525 4250 2034 4250 \r\nz\r\nM 2034 4750 \r\nQ 2819 4750 3233 4129 \r\nQ 3647 3509 3647 2328 \r\nQ 3647 1150 3233 529 \r\nQ 2819 -91 2034 -91 \r\nQ 1250 -91 836 529 \r\nQ 422 1150 422 2328 \r\nQ 422 3509 836 4129 \r\nQ 1250 4750 2034 4750 \r\nz\r\n\" id=\"DejaVuSans-30\" transform=\"scale(0.015625)\"/>\r\n       </defs>\r\n       <use xlink:href=\"#DejaVuSans-30\"/>\r\n      </g>\r\n     </g>\r\n    </g>\r\n    <g id=\"xtick_2\">\r\n     <g id=\"line2d_2\">\r\n      <g>\r\n       <use style=\"stroke:#000000;stroke-width:0.8;\" x=\"338.87625\" xlink:href=\"#m17a474eb5f\" y=\"452.7\"/>\r\n      </g>\r\n     </g>\r\n     <g id=\"text_2\">\r\n      <!-- 1 -->\r\n      <g transform=\"translate(335.695 467.298438)scale(0.1 -0.1)\">\r\n       <defs>\r\n        <path d=\"M 794 531 \r\nL 1825 531 \r\nL 1825 4091 \r\nL 703 3866 \r\nL 703 4441 \r\nL 1819 4666 \r\nL 2450 4666 \r\nL 2450 531 \r\nL 3481 531 \r\nL 3481 0 \r\nL 794 0 \r\nL 794 531 \r\nz\r\n\" id=\"DejaVuSans-31\" transform=\"scale(0.015625)\"/>\r\n       </defs>\r\n       <use xlink:href=\"#DejaVuSans-31\"/>\r\n      </g>\r\n     </g>\r\n    </g>\r\n    <g id=\"text_3\">\r\n     <!-- Predicted Y -->\r\n     <g transform=\"translate(210.322969 480.976562)scale(0.1 -0.1)\">\r\n      <defs>\r\n       <path d=\"M 1259 4147 \r\nL 1259 2394 \r\nL 2053 2394 \r\nQ 2494 2394 2734 2622 \r\nQ 2975 2850 2975 3272 \r\nQ 2975 3691 2734 3919 \r\nQ 2494 4147 2053 4147 \r\nL 1259 4147 \r\nz\r\nM 628 4666 \r\nL 2053 4666 \r\nQ 2838 4666 3239 4311 \r\nQ 3641 3956 3641 3272 \r\nQ 3641 2581 3239 2228 \r\nQ 2838 1875 2053 1875 \r\nL 1259 1875 \r\nL 1259 0 \r\nL 628 0 \r\nL 628 4666 \r\nz\r\n\" id=\"DejaVuSans-50\" transform=\"scale(0.015625)\"/>\r\n       <path d=\"M 2631 2963 \r\nQ 2534 3019 2420 3045 \r\nQ 2306 3072 2169 3072 \r\nQ 1681 3072 1420 2755 \r\nQ 1159 2438 1159 1844 \r\nL 1159 0 \r\nL 581 0 \r\nL 581 3500 \r\nL 1159 3500 \r\nL 1159 2956 \r\nQ 1341 3275 1631 3429 \r\nQ 1922 3584 2338 3584 \r\nQ 2397 3584 2469 3576 \r\nQ 2541 3569 2628 3553 \r\nL 2631 2963 \r\nz\r\n\" id=\"DejaVuSans-72\" transform=\"scale(0.015625)\"/>\r\n       <path d=\"M 3597 1894 \r\nL 3597 1613 \r\nL 953 1613 \r\nQ 991 1019 1311 708 \r\nQ 1631 397 2203 397 \r\nQ 2534 397 2845 478 \r\nQ 3156 559 3463 722 \r\nL 3463 178 \r\nQ 3153 47 2828 -22 \r\nQ 2503 -91 2169 -91 \r\nQ 1331 -91 842 396 \r\nQ 353 884 353 1716 \r\nQ 353 2575 817 3079 \r\nQ 1281 3584 2069 3584 \r\nQ 2775 3584 3186 3129 \r\nQ 3597 2675 3597 1894 \r\nz\r\nM 3022 2063 \r\nQ 3016 2534 2758 2815 \r\nQ 2500 3097 2075 3097 \r\nQ 1594 3097 1305 2825 \r\nQ 1016 2553 972 2059 \r\nL 3022 2063 \r\nz\r\n\" id=\"DejaVuSans-65\" transform=\"scale(0.015625)\"/>\r\n       <path d=\"M 2906 2969 \r\nL 2906 4863 \r\nL 3481 4863 \r\nL 3481 0 \r\nL 2906 0 \r\nL 2906 525 \r\nQ 2725 213 2448 61 \r\nQ 2172 -91 1784 -91 \r\nQ 1150 -91 751 415 \r\nQ 353 922 353 1747 \r\nQ 353 2572 751 3078 \r\nQ 1150 3584 1784 3584 \r\nQ 2172 3584 2448 3432 \r\nQ 2725 3281 2906 2969 \r\nz\r\nM 947 1747 \r\nQ 947 1113 1208 752 \r\nQ 1469 391 1925 391 \r\nQ 2381 391 2643 752 \r\nQ 2906 1113 2906 1747 \r\nQ 2906 2381 2643 2742 \r\nQ 2381 3103 1925 3103 \r\nQ 1469 3103 1208 2742 \r\nQ 947 2381 947 1747 \r\nz\r\n\" id=\"DejaVuSans-64\" transform=\"scale(0.015625)\"/>\r\n       <path d=\"M 603 3500 \r\nL 1178 3500 \r\nL 1178 0 \r\nL 603 0 \r\nL 603 3500 \r\nz\r\nM 603 4863 \r\nL 1178 4863 \r\nL 1178 4134 \r\nL 603 4134 \r\nL 603 4863 \r\nz\r\n\" id=\"DejaVuSans-69\" transform=\"scale(0.015625)\"/>\r\n       <path d=\"M 3122 3366 \r\nL 3122 2828 \r\nQ 2878 2963 2633 3030 \r\nQ 2388 3097 2138 3097 \r\nQ 1578 3097 1268 2742 \r\nQ 959 2388 959 1747 \r\nQ 959 1106 1268 751 \r\nQ 1578 397 2138 397 \r\nQ 2388 397 2633 464 \r\nQ 2878 531 3122 666 \r\nL 3122 134 \r\nQ 2881 22 2623 -34 \r\nQ 2366 -91 2075 -91 \r\nQ 1284 -91 818 406 \r\nQ 353 903 353 1747 \r\nQ 353 2603 823 3093 \r\nQ 1294 3584 2113 3584 \r\nQ 2378 3584 2631 3529 \r\nQ 2884 3475 3122 3366 \r\nz\r\n\" id=\"DejaVuSans-63\" transform=\"scale(0.015625)\"/>\r\n       <path d=\"M 1172 4494 \r\nL 1172 3500 \r\nL 2356 3500 \r\nL 2356 3053 \r\nL 1172 3053 \r\nL 1172 1153 \r\nQ 1172 725 1289 603 \r\nQ 1406 481 1766 481 \r\nL 2356 481 \r\nL 2356 0 \r\nL 1766 0 \r\nQ 1100 0 847 248 \r\nQ 594 497 594 1153 \r\nL 594 3053 \r\nL 172 3053 \r\nL 172 3500 \r\nL 594 3500 \r\nL 594 4494 \r\nL 1172 4494 \r\nz\r\n\" id=\"DejaVuSans-74\" transform=\"scale(0.015625)\"/>\r\n       <path id=\"DejaVuSans-20\" transform=\"scale(0.015625)\"/>\r\n       <path d=\"M -13 4666 \r\nL 666 4666 \r\nL 1959 2747 \r\nL 3244 4666 \r\nL 3922 4666 \r\nL 2272 2222 \r\nL 2272 0 \r\nL 1638 0 \r\nL 1638 2222 \r\nL -13 4666 \r\nz\r\n\" id=\"DejaVuSans-59\" transform=\"scale(0.015625)\"/>\r\n      </defs>\r\n      <use xlink:href=\"#DejaVuSans-50\"/>\r\n      <use x=\"58.552734\" xlink:href=\"#DejaVuSans-72\"/>\r\n      <use x=\"97.416016\" xlink:href=\"#DejaVuSans-65\"/>\r\n      <use x=\"158.939453\" xlink:href=\"#DejaVuSans-64\"/>\r\n      <use x=\"222.416016\" xlink:href=\"#DejaVuSans-69\"/>\r\n      <use x=\"250.199219\" xlink:href=\"#DejaVuSans-63\"/>\r\n      <use x=\"305.179688\" xlink:href=\"#DejaVuSans-74\"/>\r\n      <use x=\"344.388672\" xlink:href=\"#DejaVuSans-65\"/>\r\n      <use x=\"405.912109\" xlink:href=\"#DejaVuSans-64\"/>\r\n      <use x=\"469.388672\" xlink:href=\"#DejaVuSans-20\"/>\r\n      <use x=\"501.175781\" xlink:href=\"#DejaVuSans-59\"/>\r\n     </g>\r\n    </g>\r\n   </g>\r\n   <g id=\"matplotlib.axis_2\">\r\n    <g id=\"ytick_1\">\r\n     <g id=\"line2d_3\">\r\n      <defs>\r\n       <path d=\"M 0 0 \r\nL -3.5 0 \r\n\" id=\"m506fdeb284\" style=\"stroke:#000000;stroke-width:0.8;\"/>\r\n      </defs>\r\n      <g>\r\n       <use style=\"stroke:#000000;stroke-width:0.8;\" x=\"37.55625\" xlink:href=\"#m506fdeb284\" y=\"151.38\"/>\r\n      </g>\r\n     </g>\r\n     <g id=\"text_4\">\r\n      <!-- 0 -->\r\n      <g transform=\"translate(28.476562 153.943281)rotate(-90)scale(0.1 -0.1)\">\r\n       <use xlink:href=\"#DejaVuSans-30\"/>\r\n      </g>\r\n     </g>\r\n    </g>\r\n    <g id=\"ytick_2\">\r\n     <g id=\"line2d_4\">\r\n      <g>\r\n       <use style=\"stroke:#000000;stroke-width:0.8;\" x=\"37.55625\" xlink:href=\"#m506fdeb284\" y=\"352.26\"/>\r\n      </g>\r\n     </g>\r\n     <g id=\"text_5\">\r\n      <!-- 1 -->\r\n      <g transform=\"translate(28.476562 354.823281)rotate(-90)scale(0.1 -0.1)\">\r\n       <use xlink:href=\"#DejaVuSans-31\"/>\r\n      </g>\r\n     </g>\r\n    </g>\r\n    <g id=\"text_6\">\r\n     <!-- Acttual Y -->\r\n     <g transform=\"translate(14.798437 274.087188)rotate(-90)scale(0.1 -0.1)\">\r\n      <defs>\r\n       <path d=\"M 2188 4044 \r\nL 1331 1722 \r\nL 3047 1722 \r\nL 2188 4044 \r\nz\r\nM 1831 4666 \r\nL 2547 4666 \r\nL 4325 0 \r\nL 3669 0 \r\nL 3244 1197 \r\nL 1141 1197 \r\nL 716 0 \r\nL 50 0 \r\nL 1831 4666 \r\nz\r\n\" id=\"DejaVuSans-41\" transform=\"scale(0.015625)\"/>\r\n       <path d=\"M 544 1381 \r\nL 544 3500 \r\nL 1119 3500 \r\nL 1119 1403 \r\nQ 1119 906 1312 657 \r\nQ 1506 409 1894 409 \r\nQ 2359 409 2629 706 \r\nQ 2900 1003 2900 1516 \r\nL 2900 3500 \r\nL 3475 3500 \r\nL 3475 0 \r\nL 2900 0 \r\nL 2900 538 \r\nQ 2691 219 2414 64 \r\nQ 2138 -91 1772 -91 \r\nQ 1169 -91 856 284 \r\nQ 544 659 544 1381 \r\nz\r\nM 1991 3584 \r\nL 1991 3584 \r\nz\r\n\" id=\"DejaVuSans-75\" transform=\"scale(0.015625)\"/>\r\n       <path d=\"M 2194 1759 \r\nQ 1497 1759 1228 1600 \r\nQ 959 1441 959 1056 \r\nQ 959 750 1161 570 \r\nQ 1363 391 1709 391 \r\nQ 2188 391 2477 730 \r\nQ 2766 1069 2766 1631 \r\nL 2766 1759 \r\nL 2194 1759 \r\nz\r\nM 3341 1997 \r\nL 3341 0 \r\nL 2766 0 \r\nL 2766 531 \r\nQ 2569 213 2275 61 \r\nQ 1981 -91 1556 -91 \r\nQ 1019 -91 701 211 \r\nQ 384 513 384 1019 \r\nQ 384 1609 779 1909 \r\nQ 1175 2209 1959 2209 \r\nL 2766 2209 \r\nL 2766 2266 \r\nQ 2766 2663 2505 2880 \r\nQ 2244 3097 1772 3097 \r\nQ 1472 3097 1187 3025 \r\nQ 903 2953 641 2809 \r\nL 641 3341 \r\nQ 956 3463 1253 3523 \r\nQ 1550 3584 1831 3584 \r\nQ 2591 3584 2966 3190 \r\nQ 3341 2797 3341 1997 \r\nz\r\n\" id=\"DejaVuSans-61\" transform=\"scale(0.015625)\"/>\r\n       <path d=\"M 603 4863 \r\nL 1178 4863 \r\nL 1178 0 \r\nL 603 0 \r\nL 603 4863 \r\nz\r\n\" id=\"DejaVuSans-6c\" transform=\"scale(0.015625)\"/>\r\n      </defs>\r\n      <use xlink:href=\"#DejaVuSans-41\"/>\r\n      <use x=\"66.658203\" xlink:href=\"#DejaVuSans-63\"/>\r\n      <use x=\"121.638672\" xlink:href=\"#DejaVuSans-74\"/>\r\n      <use x=\"160.847656\" xlink:href=\"#DejaVuSans-74\"/>\r\n      <use x=\"200.056641\" xlink:href=\"#DejaVuSans-75\"/>\r\n      <use x=\"263.435547\" xlink:href=\"#DejaVuSans-61\"/>\r\n      <use x=\"324.714844\" xlink:href=\"#DejaVuSans-6c\"/>\r\n      <use x=\"352.498047\" xlink:href=\"#DejaVuSans-20\"/>\r\n      <use x=\"384.285156\" xlink:href=\"#DejaVuSans-59\"/>\r\n     </g>\r\n    </g>\r\n   </g>\r\n   <g id=\"text_7\">\r\n    <!-- 1347 -->\r\n    <g style=\"fill:#262626;\" transform=\"translate(125.27125 154.139375)scale(0.1 -0.1)\">\r\n     <defs>\r\n      <path d=\"M 2597 2516 \r\nQ 3050 2419 3304 2112 \r\nQ 3559 1806 3559 1356 \r\nQ 3559 666 3084 287 \r\nQ 2609 -91 1734 -91 \r\nQ 1441 -91 1130 -33 \r\nQ 819 25 488 141 \r\nL 488 750 \r\nQ 750 597 1062 519 \r\nQ 1375 441 1716 441 \r\nQ 2309 441 2620 675 \r\nQ 2931 909 2931 1356 \r\nQ 2931 1769 2642 2001 \r\nQ 2353 2234 1838 2234 \r\nL 1294 2234 \r\nL 1294 2753 \r\nL 1863 2753 \r\nQ 2328 2753 2575 2939 \r\nQ 2822 3125 2822 3475 \r\nQ 2822 3834 2567 4026 \r\nQ 2313 4219 1838 4219 \r\nQ 1578 4219 1281 4162 \r\nQ 984 4106 628 3988 \r\nL 628 4550 \r\nQ 988 4650 1302 4700 \r\nQ 1616 4750 1894 4750 \r\nQ 2613 4750 3031 4423 \r\nQ 3450 4097 3450 3541 \r\nQ 3450 3153 3228 2886 \r\nQ 3006 2619 2597 2516 \r\nz\r\n\" id=\"DejaVuSans-33\" transform=\"scale(0.015625)\"/>\r\n      <path d=\"M 2419 4116 \r\nL 825 1625 \r\nL 2419 1625 \r\nL 2419 4116 \r\nz\r\nM 2253 4666 \r\nL 3047 4666 \r\nL 3047 1625 \r\nL 3713 1625 \r\nL 3713 1100 \r\nL 3047 1100 \r\nL 3047 0 \r\nL 2419 0 \r\nL 2419 1100 \r\nL 313 1100 \r\nL 313 1709 \r\nL 2253 4666 \r\nz\r\n\" id=\"DejaVuSans-34\" transform=\"scale(0.015625)\"/>\r\n      <path d=\"M 525 4666 \r\nL 3525 4666 \r\nL 3525 4397 \r\nL 1831 0 \r\nL 1172 0 \r\nL 2766 4134 \r\nL 525 4134 \r\nL 525 4666 \r\nz\r\n\" id=\"DejaVuSans-37\" transform=\"scale(0.015625)\"/>\r\n     </defs>\r\n     <use xlink:href=\"#DejaVuSans-31\"/>\r\n     <use x=\"63.623047\" xlink:href=\"#DejaVuSans-33\"/>\r\n     <use x=\"127.246094\" xlink:href=\"#DejaVuSans-34\"/>\r\n     <use x=\"190.869141\" xlink:href=\"#DejaVuSans-37\"/>\r\n    </g>\r\n   </g>\r\n   <g id=\"text_8\">\r\n    <!-- 53 -->\r\n    <g style=\"fill:#ffffff;\" transform=\"translate(332.51375 154.139375)scale(0.1 -0.1)\">\r\n     <defs>\r\n      <path d=\"M 691 4666 \r\nL 3169 4666 \r\nL 3169 4134 \r\nL 1269 4134 \r\nL 1269 2991 \r\nQ 1406 3038 1543 3061 \r\nQ 1681 3084 1819 3084 \r\nQ 2600 3084 3056 2656 \r\nQ 3513 2228 3513 1497 \r\nQ 3513 744 3044 326 \r\nQ 2575 -91 1722 -91 \r\nQ 1428 -91 1123 -41 \r\nQ 819 9 494 109 \r\nL 494 744 \r\nQ 775 591 1075 516 \r\nQ 1375 441 1709 441 \r\nQ 2250 441 2565 725 \r\nQ 2881 1009 2881 1497 \r\nQ 2881 1984 2565 2268 \r\nQ 2250 2553 1709 2553 \r\nQ 1456 2553 1204 2497 \r\nQ 953 2441 691 2322 \r\nL 691 4666 \r\nz\r\n\" id=\"DejaVuSans-35\" transform=\"scale(0.015625)\"/>\r\n     </defs>\r\n     <use xlink:href=\"#DejaVuSans-35\"/>\r\n     <use x=\"63.623047\" xlink:href=\"#DejaVuSans-33\"/>\r\n    </g>\r\n   </g>\r\n   <g id=\"text_9\">\r\n    <!-- 55 -->\r\n    <g style=\"fill:#ffffff;\" transform=\"translate(131.63375 355.019375)scale(0.1 -0.1)\">\r\n     <use xlink:href=\"#DejaVuSans-35\"/>\r\n     <use x=\"63.623047\" xlink:href=\"#DejaVuSans-35\"/>\r\n    </g>\r\n   </g>\r\n   <g id=\"text_10\">\r\n    <!-- 1616 -->\r\n    <g style=\"fill:#262626;\" transform=\"translate(326.15125 355.019375)scale(0.1 -0.1)\">\r\n     <defs>\r\n      <path d=\"M 2113 2584 \r\nQ 1688 2584 1439 2293 \r\nQ 1191 2003 1191 1497 \r\nQ 1191 994 1439 701 \r\nQ 1688 409 2113 409 \r\nQ 2538 409 2786 701 \r\nQ 3034 994 3034 1497 \r\nQ 3034 2003 2786 2293 \r\nQ 2538 2584 2113 2584 \r\nz\r\nM 3366 4563 \r\nL 3366 3988 \r\nQ 3128 4100 2886 4159 \r\nQ 2644 4219 2406 4219 \r\nQ 1781 4219 1451 3797 \r\nQ 1122 3375 1075 2522 \r\nQ 1259 2794 1537 2939 \r\nQ 1816 3084 2150 3084 \r\nQ 2853 3084 3261 2657 \r\nQ 3669 2231 3669 1497 \r\nQ 3669 778 3244 343 \r\nQ 2819 -91 2113 -91 \r\nQ 1303 -91 875 529 \r\nQ 447 1150 447 2328 \r\nQ 447 3434 972 4092 \r\nQ 1497 4750 2381 4750 \r\nQ 2619 4750 2861 4703 \r\nQ 3103 4656 3366 4563 \r\nz\r\n\" id=\"DejaVuSans-36\" transform=\"scale(0.015625)\"/>\r\n     </defs>\r\n     <use xlink:href=\"#DejaVuSans-31\"/>\r\n     <use x=\"63.623047\" xlink:href=\"#DejaVuSans-36\"/>\r\n     <use x=\"127.246094\" xlink:href=\"#DejaVuSans-31\"/>\r\n     <use x=\"190.869141\" xlink:href=\"#DejaVuSans-36\"/>\r\n    </g>\r\n   </g>\r\n   <g id=\"text_11\">\r\n    <!-- Accuracy Score: 96% -->\r\n    <g transform=\"translate(159.226875 44.94)scale(0.15 -0.15)\">\r\n     <defs>\r\n      <path d=\"M 2059 -325 \r\nQ 1816 -950 1584 -1140 \r\nQ 1353 -1331 966 -1331 \r\nL 506 -1331 \r\nL 506 -850 \r\nL 844 -850 \r\nQ 1081 -850 1212 -737 \r\nQ 1344 -625 1503 -206 \r\nL 1606 56 \r\nL 191 3500 \r\nL 800 3500 \r\nL 1894 763 \r\nL 2988 3500 \r\nL 3597 3500 \r\nL 2059 -325 \r\nz\r\n\" id=\"DejaVuSans-79\" transform=\"scale(0.015625)\"/>\r\n      <path d=\"M 3425 4513 \r\nL 3425 3897 \r\nQ 3066 4069 2747 4153 \r\nQ 2428 4238 2131 4238 \r\nQ 1616 4238 1336 4038 \r\nQ 1056 3838 1056 3469 \r\nQ 1056 3159 1242 3001 \r\nQ 1428 2844 1947 2747 \r\nL 2328 2669 \r\nQ 3034 2534 3370 2195 \r\nQ 3706 1856 3706 1288 \r\nQ 3706 609 3251 259 \r\nQ 2797 -91 1919 -91 \r\nQ 1588 -91 1214 -16 \r\nQ 841 59 441 206 \r\nL 441 856 \r\nQ 825 641 1194 531 \r\nQ 1563 422 1919 422 \r\nQ 2459 422 2753 634 \r\nQ 3047 847 3047 1241 \r\nQ 3047 1584 2836 1778 \r\nQ 2625 1972 2144 2069 \r\nL 1759 2144 \r\nQ 1053 2284 737 2584 \r\nQ 422 2884 422 3419 \r\nQ 422 4038 858 4394 \r\nQ 1294 4750 2059 4750 \r\nQ 2388 4750 2728 4690 \r\nQ 3069 4631 3425 4513 \r\nz\r\n\" id=\"DejaVuSans-53\" transform=\"scale(0.015625)\"/>\r\n      <path d=\"M 1959 3097 \r\nQ 1497 3097 1228 2736 \r\nQ 959 2375 959 1747 \r\nQ 959 1119 1226 758 \r\nQ 1494 397 1959 397 \r\nQ 2419 397 2687 759 \r\nQ 2956 1122 2956 1747 \r\nQ 2956 2369 2687 2733 \r\nQ 2419 3097 1959 3097 \r\nz\r\nM 1959 3584 \r\nQ 2709 3584 3137 3096 \r\nQ 3566 2609 3566 1747 \r\nQ 3566 888 3137 398 \r\nQ 2709 -91 1959 -91 \r\nQ 1206 -91 779 398 \r\nQ 353 888 353 1747 \r\nQ 353 2609 779 3096 \r\nQ 1206 3584 1959 3584 \r\nz\r\n\" id=\"DejaVuSans-6f\" transform=\"scale(0.015625)\"/>\r\n      <path d=\"M 750 794 \r\nL 1409 794 \r\nL 1409 0 \r\nL 750 0 \r\nL 750 794 \r\nz\r\nM 750 3309 \r\nL 1409 3309 \r\nL 1409 2516 \r\nL 750 2516 \r\nL 750 3309 \r\nz\r\n\" id=\"DejaVuSans-3a\" transform=\"scale(0.015625)\"/>\r\n      <path d=\"M 703 97 \r\nL 703 672 \r\nQ 941 559 1184 500 \r\nQ 1428 441 1663 441 \r\nQ 2288 441 2617 861 \r\nQ 2947 1281 2994 2138 \r\nQ 2813 1869 2534 1725 \r\nQ 2256 1581 1919 1581 \r\nQ 1219 1581 811 2004 \r\nQ 403 2428 403 3163 \r\nQ 403 3881 828 4315 \r\nQ 1253 4750 1959 4750 \r\nQ 2769 4750 3195 4129 \r\nQ 3622 3509 3622 2328 \r\nQ 3622 1225 3098 567 \r\nQ 2575 -91 1691 -91 \r\nQ 1453 -91 1209 -44 \r\nQ 966 3 703 97 \r\nz\r\nM 1959 2075 \r\nQ 2384 2075 2632 2365 \r\nQ 2881 2656 2881 3163 \r\nQ 2881 3666 2632 3958 \r\nQ 2384 4250 1959 4250 \r\nQ 1534 4250 1286 3958 \r\nQ 1038 3666 1038 3163 \r\nQ 1038 2656 1286 2365 \r\nQ 1534 2075 1959 2075 \r\nz\r\n\" id=\"DejaVuSans-39\" transform=\"scale(0.015625)\"/>\r\n      <path d=\"M 4653 2053 \r\nQ 4381 2053 4226 1822 \r\nQ 4072 1591 4072 1178 \r\nQ 4072 772 4226 539 \r\nQ 4381 306 4653 306 \r\nQ 4919 306 5073 539 \r\nQ 5228 772 5228 1178 \r\nQ 5228 1588 5073 1820 \r\nQ 4919 2053 4653 2053 \r\nz\r\nM 4653 2450 \r\nQ 5147 2450 5437 2106 \r\nQ 5728 1763 5728 1178 \r\nQ 5728 594 5436 251 \r\nQ 5144 -91 4653 -91 \r\nQ 4153 -91 3862 251 \r\nQ 3572 594 3572 1178 \r\nQ 3572 1766 3864 2108 \r\nQ 4156 2450 4653 2450 \r\nz\r\nM 1428 4353 \r\nQ 1159 4353 1004 4120 \r\nQ 850 3888 850 3481 \r\nQ 850 3069 1003 2837 \r\nQ 1156 2606 1428 2606 \r\nQ 1700 2606 1854 2837 \r\nQ 2009 3069 2009 3481 \r\nQ 2009 3884 1853 4118 \r\nQ 1697 4353 1428 4353 \r\nz\r\nM 4250 4750 \r\nL 4750 4750 \r\nL 1831 -91 \r\nL 1331 -91 \r\nL 4250 4750 \r\nz\r\nM 1428 4750 \r\nQ 1922 4750 2215 4408 \r\nQ 2509 4066 2509 3481 \r\nQ 2509 2891 2217 2550 \r\nQ 1925 2209 1428 2209 \r\nQ 931 2209 642 2551 \r\nQ 353 2894 353 3481 \r\nQ 353 4063 643 4406 \r\nQ 934 4750 1428 4750 \r\nz\r\n\" id=\"DejaVuSans-25\" transform=\"scale(0.015625)\"/>\r\n     </defs>\r\n     <use xlink:href=\"#DejaVuSans-41\"/>\r\n     <use x=\"66.658203\" xlink:href=\"#DejaVuSans-63\"/>\r\n     <use x=\"121.638672\" xlink:href=\"#DejaVuSans-63\"/>\r\n     <use x=\"176.619141\" xlink:href=\"#DejaVuSans-75\"/>\r\n     <use x=\"239.998047\" xlink:href=\"#DejaVuSans-72\"/>\r\n     <use x=\"281.111328\" xlink:href=\"#DejaVuSans-61\"/>\r\n     <use x=\"342.390625\" xlink:href=\"#DejaVuSans-63\"/>\r\n     <use x=\"397.371094\" xlink:href=\"#DejaVuSans-79\"/>\r\n     <use x=\"456.550781\" xlink:href=\"#DejaVuSans-20\"/>\r\n     <use x=\"488.337891\" xlink:href=\"#DejaVuSans-53\"/>\r\n     <use x=\"551.814453\" xlink:href=\"#DejaVuSans-63\"/>\r\n     <use x=\"606.794922\" xlink:href=\"#DejaVuSans-6f\"/>\r\n     <use x=\"667.976562\" xlink:href=\"#DejaVuSans-72\"/>\r\n     <use x=\"706.839844\" xlink:href=\"#DejaVuSans-65\"/>\r\n     <use x=\"768.363281\" xlink:href=\"#DejaVuSans-3a\"/>\r\n     <use x=\"802.054688\" xlink:href=\"#DejaVuSans-20\"/>\r\n     <use x=\"833.841797\" xlink:href=\"#DejaVuSans-39\"/>\r\n     <use x=\"897.464844\" xlink:href=\"#DejaVuSans-36\"/>\r\n     <use x=\"961.087891\" xlink:href=\"#DejaVuSans-25\"/>\r\n    </g>\r\n   </g>\r\n  </g>\r\n  <g id=\"axes_2\">\r\n   <g id=\"patch_3\">\r\n    <path d=\"M 464.42625 496.44 \r\nL 488.88825 496.44 \r\nL 488.88825 7.2 \r\nL 464.42625 7.2 \r\nz\r\n\" style=\"fill:#ffffff;\"/>\r\n   </g>\r\n   <g id=\"patch_4\">\r\n    <path clip-path=\"url(#pdcc7c5e8ca)\" d=\"M 464.42625 496.44 \r\nL 464.42625 494.528906 \r\nL 464.42625 9.111094 \r\nL 464.42625 7.2 \r\nL 488.88825 7.2 \r\nL 488.88825 9.111094 \r\nL 488.88825 494.528906 \r\nL 488.88825 496.44 \r\nL 488.88825 496.44 \r\nz\r\n\" style=\"fill:#ffffff;stroke:#ffffff;stroke-linejoin:miter;stroke-width:0.01;\"/>\r\n   </g>\r\n   <image height=\"489\" id=\"image70a67fc167\" transform=\"scale(1 -1)translate(0 -489)\" width=\"25\" x=\"464\" xlink:href=\"data:image/png;base64,\r\niVBORw0KGgoAAAANSUhEUgAAABkAAAHpCAYAAAB3DJfOAAACLElEQVR4nO2dwW0DQQzE9g73SDnpK/2/nRaODwkGQTYgSDOjXa8N+Pr5/fucYe7pAuec85xrvs5WJ9d4kTRBpAkiTRArmjQuRBZGpAkiTRCmTu7c9Z4Sj0gTWqRxvScLI9IEkSYIlSaeTnLXezyaNC7ETidXnQC23DVfJE0QdYKoE0SJ/74innHVCaIwIuoEIeqknBDqBNFFAlEYEXWCEHVSTgh1gqgTRIlHdCVCPAuNiIRPE0SaIHY6uTU/G/VoUk4IHk0SHuERPk0QaYJIE0SaINIEsXWRGK8hGlcWRqg08XQyXyRNEGmCSBPEc3eRAIgsvPBimyYMU04WvvwtJ4hygvAcv2mC6G0FYbLwQhGPhTt+ESJNPLvLo0k5IXjOE9Pxm4UBaYIoJ4hygng2qqQJQnQl2ugk4RGteoTo+DWt+vkiuQuh0mS+SO5CrLhLJHzfYhPqBNGFG+FZkB1aiNyF2PoQZHFXVyKCaK2IwpgmgF6JEKJrquf3XaLELxTx7C5RGFuQhMKIEGlSTgjlBKG6cGvctXKRaFyALIwQaSLqROMuz2uqR5NyQvDkRDQuk4Xn6aETIdJE9L8O7S5AOUGUE4QnJ1kYkYURrXpEOUGUE0Q5QZQTWEQ0rnmyMKJVjygniHKCKCeIcsKKZGFCFka06hHlBCHKiUeTU04AnpyoxmWxsOn4nae1gigniHKCKCeINPm+Ip5xZWFEqx6hOn7LyXvKCaKcIDw5+QeStQm+fiVRLgAAAABJRU5ErkJggg==\" y=\"-7\"/>\r\n   <g id=\"matplotlib.axis_3\"/>\r\n   <g id=\"matplotlib.axis_4\">\r\n    <g id=\"ytick_3\">\r\n     <g id=\"line2d_5\">\r\n      <defs>\r\n       <path d=\"M 0 0 \r\nL 3.5 0 \r\n\" id=\"m3ca1e9cd11\" style=\"stroke:#000000;stroke-width:0.8;\"/>\r\n      </defs>\r\n      <g>\r\n       <use style=\"stroke:#000000;stroke-width:0.8;\" x=\"488.88825\" xlink:href=\"#m3ca1e9cd11\" y=\"450.427025\"/>\r\n      </g>\r\n     </g>\r\n     <g id=\"text_12\">\r\n      <!-- 200 -->\r\n      <g transform=\"translate(495.88825 454.226244)scale(0.1 -0.1)\">\r\n       <defs>\r\n        <path d=\"M 1228 531 \r\nL 3431 531 \r\nL 3431 0 \r\nL 469 0 \r\nL 469 531 \r\nQ 828 903 1448 1529 \r\nQ 2069 2156 2228 2338 \r\nQ 2531 2678 2651 2914 \r\nQ 2772 3150 2772 3378 \r\nQ 2772 3750 2511 3984 \r\nQ 2250 4219 1831 4219 \r\nQ 1534 4219 1204 4116 \r\nQ 875 4013 500 3803 \r\nL 500 4441 \r\nQ 881 4594 1212 4672 \r\nQ 1544 4750 1819 4750 \r\nQ 2544 4750 2975 4387 \r\nQ 3406 4025 3406 3419 \r\nQ 3406 3131 3298 2873 \r\nQ 3191 2616 2906 2266 \r\nQ 2828 2175 2409 1742 \r\nQ 1991 1309 1228 531 \r\nz\r\n\" id=\"DejaVuSans-32\" transform=\"scale(0.015625)\"/>\r\n       </defs>\r\n       <use xlink:href=\"#DejaVuSans-32\"/>\r\n       <use x=\"63.623047\" xlink:href=\"#DejaVuSans-30\"/>\r\n       <use x=\"127.246094\" xlink:href=\"#DejaVuSans-30\"/>\r\n      </g>\r\n     </g>\r\n    </g>\r\n    <g id=\"ytick_4\">\r\n     <g id=\"line2d_6\">\r\n      <g>\r\n       <use style=\"stroke:#000000;stroke-width:0.8;\" x=\"488.88825\" xlink:href=\"#m3ca1e9cd11\" y=\"387.824338\"/>\r\n      </g>\r\n     </g>\r\n     <g id=\"text_13\">\r\n      <!-- 400 -->\r\n      <g transform=\"translate(495.88825 391.623557)scale(0.1 -0.1)\">\r\n       <use xlink:href=\"#DejaVuSans-34\"/>\r\n       <use x=\"63.623047\" xlink:href=\"#DejaVuSans-30\"/>\r\n       <use x=\"127.246094\" xlink:href=\"#DejaVuSans-30\"/>\r\n      </g>\r\n     </g>\r\n    </g>\r\n    <g id=\"ytick_5\">\r\n     <g id=\"line2d_7\">\r\n      <g>\r\n       <use style=\"stroke:#000000;stroke-width:0.8;\" x=\"488.88825\" xlink:href=\"#m3ca1e9cd11\" y=\"325.221651\"/>\r\n      </g>\r\n     </g>\r\n     <g id=\"text_14\">\r\n      <!-- 600 -->\r\n      <g transform=\"translate(495.88825 329.020869)scale(0.1 -0.1)\">\r\n       <use xlink:href=\"#DejaVuSans-36\"/>\r\n       <use x=\"63.623047\" xlink:href=\"#DejaVuSans-30\"/>\r\n       <use x=\"127.246094\" xlink:href=\"#DejaVuSans-30\"/>\r\n      </g>\r\n     </g>\r\n    </g>\r\n    <g id=\"ytick_6\">\r\n     <g id=\"line2d_8\">\r\n      <g>\r\n       <use style=\"stroke:#000000;stroke-width:0.8;\" x=\"488.88825\" xlink:href=\"#m3ca1e9cd11\" y=\"262.618964\"/>\r\n      </g>\r\n     </g>\r\n     <g id=\"text_15\">\r\n      <!-- 800 -->\r\n      <g transform=\"translate(495.88825 266.418182)scale(0.1 -0.1)\">\r\n       <defs>\r\n        <path d=\"M 2034 2216 \r\nQ 1584 2216 1326 1975 \r\nQ 1069 1734 1069 1313 \r\nQ 1069 891 1326 650 \r\nQ 1584 409 2034 409 \r\nQ 2484 409 2743 651 \r\nQ 3003 894 3003 1313 \r\nQ 3003 1734 2745 1975 \r\nQ 2488 2216 2034 2216 \r\nz\r\nM 1403 2484 \r\nQ 997 2584 770 2862 \r\nQ 544 3141 544 3541 \r\nQ 544 4100 942 4425 \r\nQ 1341 4750 2034 4750 \r\nQ 2731 4750 3128 4425 \r\nQ 3525 4100 3525 3541 \r\nQ 3525 3141 3298 2862 \r\nQ 3072 2584 2669 2484 \r\nQ 3125 2378 3379 2068 \r\nQ 3634 1759 3634 1313 \r\nQ 3634 634 3220 271 \r\nQ 2806 -91 2034 -91 \r\nQ 1263 -91 848 271 \r\nQ 434 634 434 1313 \r\nQ 434 1759 690 2068 \r\nQ 947 2378 1403 2484 \r\nz\r\nM 1172 3481 \r\nQ 1172 3119 1398 2916 \r\nQ 1625 2713 2034 2713 \r\nQ 2441 2713 2670 2916 \r\nQ 2900 3119 2900 3481 \r\nQ 2900 3844 2670 4047 \r\nQ 2441 4250 2034 4250 \r\nQ 1625 4250 1398 4047 \r\nQ 1172 3844 1172 3481 \r\nz\r\n\" id=\"DejaVuSans-38\" transform=\"scale(0.015625)\"/>\r\n       </defs>\r\n       <use xlink:href=\"#DejaVuSans-38\"/>\r\n       <use x=\"63.623047\" xlink:href=\"#DejaVuSans-30\"/>\r\n       <use x=\"127.246094\" xlink:href=\"#DejaVuSans-30\"/>\r\n      </g>\r\n     </g>\r\n    </g>\r\n    <g id=\"ytick_7\">\r\n     <g id=\"line2d_9\">\r\n      <g>\r\n       <use style=\"stroke:#000000;stroke-width:0.8;\" x=\"488.88825\" xlink:href=\"#m3ca1e9cd11\" y=\"200.016276\"/>\r\n      </g>\r\n     </g>\r\n     <g id=\"text_16\">\r\n      <!-- 1000 -->\r\n      <g transform=\"translate(495.88825 203.815495)scale(0.1 -0.1)\">\r\n       <use xlink:href=\"#DejaVuSans-31\"/>\r\n       <use x=\"63.623047\" xlink:href=\"#DejaVuSans-30\"/>\r\n       <use x=\"127.246094\" xlink:href=\"#DejaVuSans-30\"/>\r\n       <use x=\"190.869141\" xlink:href=\"#DejaVuSans-30\"/>\r\n      </g>\r\n     </g>\r\n    </g>\r\n    <g id=\"ytick_8\">\r\n     <g id=\"line2d_10\">\r\n      <g>\r\n       <use style=\"stroke:#000000;stroke-width:0.8;\" x=\"488.88825\" xlink:href=\"#m3ca1e9cd11\" y=\"137.413589\"/>\r\n      </g>\r\n     </g>\r\n     <g id=\"text_17\">\r\n      <!-- 1200 -->\r\n      <g transform=\"translate(495.88825 141.212808)scale(0.1 -0.1)\">\r\n       <use xlink:href=\"#DejaVuSans-31\"/>\r\n       <use x=\"63.623047\" xlink:href=\"#DejaVuSans-32\"/>\r\n       <use x=\"127.246094\" xlink:href=\"#DejaVuSans-30\"/>\r\n       <use x=\"190.869141\" xlink:href=\"#DejaVuSans-30\"/>\r\n      </g>\r\n     </g>\r\n    </g>\r\n    <g id=\"ytick_9\">\r\n     <g id=\"line2d_11\">\r\n      <g>\r\n       <use style=\"stroke:#000000;stroke-width:0.8;\" x=\"488.88825\" xlink:href=\"#m3ca1e9cd11\" y=\"74.810902\"/>\r\n      </g>\r\n     </g>\r\n     <g id=\"text_18\">\r\n      <!-- 1400 -->\r\n      <g transform=\"translate(495.88825 78.610121)scale(0.1 -0.1)\">\r\n       <use xlink:href=\"#DejaVuSans-31\"/>\r\n       <use x=\"63.623047\" xlink:href=\"#DejaVuSans-34\"/>\r\n       <use x=\"127.246094\" xlink:href=\"#DejaVuSans-30\"/>\r\n       <use x=\"190.869141\" xlink:href=\"#DejaVuSans-30\"/>\r\n      </g>\r\n     </g>\r\n    </g>\r\n    <g id=\"ytick_10\">\r\n     <g id=\"line2d_12\">\r\n      <g>\r\n       <use style=\"stroke:#000000;stroke-width:0.8;\" x=\"488.88825\" xlink:href=\"#m3ca1e9cd11\" y=\"12.208215\"/>\r\n      </g>\r\n     </g>\r\n     <g id=\"text_19\">\r\n      <!-- 1600 -->\r\n      <g transform=\"translate(495.88825 16.007434)scale(0.1 -0.1)\">\r\n       <use xlink:href=\"#DejaVuSans-31\"/>\r\n       <use x=\"63.623047\" xlink:href=\"#DejaVuSans-36\"/>\r\n       <use x=\"127.246094\" xlink:href=\"#DejaVuSans-30\"/>\r\n       <use x=\"190.869141\" xlink:href=\"#DejaVuSans-30\"/>\r\n      </g>\r\n     </g>\r\n    </g>\r\n   </g>\r\n   <g id=\"LineCollection_1\"/>\r\n   <g id=\"patch_5\">\r\n    <path d=\"M 464.42625 496.44 \r\nL 464.42625 494.528906 \r\nL 464.42625 9.111094 \r\nL 464.42625 7.2 \r\nL 488.88825 7.2 \r\nL 488.88825 9.111094 \r\nL 488.88825 494.528906 \r\nL 488.88825 496.44 \r\nz\r\n\" style=\"fill:none;\"/>\r\n   </g>\r\n  </g>\r\n </g>\r\n <defs>\r\n  <clipPath id=\"p5a9be15c0a\">\r\n   <rect height=\"401.76\" width=\"401.76\" x=\"37.55625\" y=\"50.94\"/>\r\n  </clipPath>\r\n  <clipPath id=\"pdcc7c5e8ca\">\r\n   <rect height=\"489.24\" width=\"24.462\" x=\"464.42625\" y=\"7.2\"/>\r\n  </clipPath>\r\n </defs>\r\n</svg>\r\n",
      "image/png": "[encoded data removed]"
     },
     "metadata": {
      "needs_background": "light"
     }
    }
   ],
   "source": [
    "plt.figure(figsize=(9,9))\n",
    "sns.heatmap(cm, annot=True, fmt=\"\", linewidths=.5, square = True, cmap = 'Blues_r');\n",
    "plt.ylabel('Acttual Y');\n",
    "plt.xlabel('Predicted Y');\n",
    "title = f'Accuracy Score: {round(accuracy_percentage)}%'\n",
    "plt.title(title, size = 15);"
   ]
  }
 ],
 "metadata": {
  "kernelspec": {
   "name": "python3",
   "display_name": "Python 3.9.2 64-bit"
  },
  "language_info": {
   "codemirror_mode": {
    "name": "ipython",
    "version": 3
   },
   "file_extension": ".py",
   "mimetype": "text/x-python",
   "name": "python",
   "nbconvert_exporter": "python",
   "pygments_lexer": "ipython3",
   "version": "3.9.2"
  },
  "metadata": {
   "interpreter": {
    "hash": "65722d08b9c0bc5cbeb1591a99d644545f6f4506367bb583be773e1987c2af01"
   }
  },
  "interpreter": {
   "hash": "65722d08b9c0bc5cbeb1591a99d644545f6f4506367bb583be773e1987c2af01"
  }
 },
 "nbformat": 4,
 "nbformat_minor": 4
}