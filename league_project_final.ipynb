{
 "cells": [
  {
   "cell_type": "markdown",
   "metadata": {},
   "source": [
    "# League of Legends Project\n",
    "\n",
    "## Part 1: Data Collection\n",
    "    Ranked match data will be collected from each Summoner Name provided. \n",
    "\n",
    "    Part 1A: Data Collection from Data Dragon\n",
    "        - create mapping dictionaries from the json files provided\n",
    "\n",
    "    Part 1B: Data Collection from Riot API\n",
    "        - extract data from RIOT API\n",
    "    \n",
    "## Part 2: Data Analysis & Machine Learning\n",
    "    Exploratory Data Analysis will be done on the match data to discover basic statistics and trends.\n",
    "    \n",
    "    Part 2A: Data Wrangling and Cleaning\n",
    "        - wrangle and manipulate data table for consistency\n",
    "        - prepare data for visualization and machine learning\n",
    "\n",
    "    Part 2B: Data Visualization\n",
    "        - visualize trends and correlations show in the data\n",
    "        - create dashboard to visualize game statistics by player\n",
    "        \n",
    "    Part 2C: Machine Learning\n",
    "        - using data extracted from top 100 players, predict the outcome of a match based off the different variables provided\n",
    "        - using data extracted from top 100 players, identify and group champions based off classification algorithm"
   ]
  },
  {
   "source": [
    "# Part 1A"
   ],
   "cell_type": "markdown",
   "metadata": {}
  },
  {
   "cell_type": "code",
   "execution_count": 1,
   "metadata": {},
   "outputs": [],
   "source": [
    "import pandas as pd\n",
    "import plotly.express as px\n",
    "import plotly.io as pio\n",
    "import plotly.graph_objects as go\n",
    "import dash\n",
    "import dash_core_components as dcc\n",
    "import dash_html_components as html\n",
    "# pd.set_option('display.max_rows', None)\n",
    "pd.set_option('display.max_columns', None)\n",
    "# pd.set_option('display.width', None)\n",
    "import numpy as np\n",
    "import requests\n",
    "import regex as re\n",
    "import json\n",
    "import pprint\n",
    "import time\n",
    "from bs4 import BeautifulSoup"
   ]
  },
  {
   "cell_type": "markdown",
   "metadata": {},
   "source": [
    "## Champion JSON"
   ]
  },
  {
   "cell_type": "code",
   "execution_count": null,
   "metadata": {},
   "outputs": [],
   "source": [
    "def create_champion_mapping_dict(file_name):\n",
    "    champion_key_dict = {}\n",
    "    with open(f'json_files/{file_name}', encoding = 'utf-8') as f:\n",
    "        champion_json = json.load(f)\n",
    "        for champion, info in champion_json['data'].items():\n",
    "            champion_name = champion\n",
    "            for c_key, c_value in info.items():\n",
    "                if c_key == 'key':\n",
    "                    champion_key_dict[champion_name] = int(c_value)\n",
    "    return champion_key_dict\n",
    "\n",
    "champion_key_dict = create_champion_mapping_dict('champion.json')"
   ]
  },
  {
   "cell_type": "markdown",
   "metadata": {},
   "source": [
    "## Item JSON"
   ]
  },
  {
   "cell_type": "code",
   "execution_count": null,
   "metadata": {},
   "outputs": [],
   "source": [
    "def create_item_mapping_dict(file_name):\n",
    "    item_key_dict = {}\n",
    "    with open(f'json_files/{file_name}', encoding = 'utf-8') as f:\n",
    "        item_data = json.load(f)\n",
    "        for item, info in item_data['data'].items():\n",
    "            item_id = item\n",
    "            for i_key, i_value in info.items():\n",
    "                if i_key == 'name':\n",
    "                    item_key_dict[int(item_id)] = i_value\n",
    "    return item_key_dict\n",
    "\n",
    "item_key_dict = create_item_mapping_dict('item.json')"
   ]
  },
  {
   "cell_type": "markdown",
   "metadata": {},
   "source": [
    "## Queue JSON"
   ]
  },
  {
   "cell_type": "code",
   "execution_count": null,
   "metadata": {},
   "outputs": [],
   "source": [
    "def create_queue_mapping_dict(file_name):\n",
    "    queue_info_dict = {}\n",
    "    with open(f'json_files/{file_name}', encoding = 'utf-8') as f:\n",
    "        queue_data = json.load(f)\n",
    "        for queue in queue_data:\n",
    "            queue_key = queue['queueId']\n",
    "            queue_name = queue['description']\n",
    "            queue_notes = str(queue['notes'])\n",
    "            if 'deprecated' not in queue_notes.lower():\n",
    "                queue_info_dict[queue_key] = str(queue_name).upper()\n",
    "\n",
    "    queue_info_dict_reverse = {str(v).upper(): k for (k,v) in queue_info_dict.items()}\n",
    "    return queue_info_dict, queue_info_dict_reverse\n",
    "\n",
    "queue_key_dict, queue_key_dict_reverse = create_queue_mapping_dict('queue.json')"
   ]
  },
  {
   "cell_type": "markdown",
   "metadata": {},
   "source": [
    "## Summoner Spell JSON"
   ]
  },
  {
   "cell_type": "code",
   "execution_count": null,
   "metadata": {},
   "outputs": [],
   "source": [
    "def create_summoner_spell_mapping_dict(file_name):\n",
    "    ss_info_dict = {}\n",
    "    with open(f'json_files/{file_name}', encoding = 'utf-8') as f:\n",
    "        ss_data = json.load(f)\n",
    "        for s_spell, info in ss_data['data'].items():\n",
    "            for key in info:\n",
    "                ss_key = info['key']\n",
    "                ss_name = info['name']\n",
    "                ss_description = info['description']\n",
    "                ss_info_dict[ss_name] = (ss_key, ss_description)\n",
    "    return ss_info_dict\n",
    "\n",
    "ss_key_dict = create_summoner_spell_mapping_dict('summoner.json')"
   ]
  },
  {
   "cell_type": "markdown",
   "metadata": {},
   "source": [
    "## Season JSON"
   ]
  },
  {
   "cell_type": "code",
   "execution_count": null,
   "metadata": {},
   "outputs": [],
   "source": [
    "def create_season_mapping_dict(file_name):\n",
    "    season_info_dict = {}\n",
    "    with open(f\"json_files/{file_name}\", encoding = \"utf-8\") as f:\n",
    "        season_data = json.load(f)\n",
    "        for season in season_data:\n",
    "            season_info_dict[season['id']] = season['season']\n",
    "    return season_info_dict\n",
    "    \n",
    "season_key_dict = create_season_mapping_dict('season.json')"
   ]
  },
  {
   "source": [
    "# Part 1B"
   ],
   "cell_type": "markdown",
   "metadata": {}
  },
  {
   "cell_type": "code",
   "execution_count": null,
   "metadata": {},
   "outputs": [],
   "source": [
    "REQUEST_HEADERS = {\n",
    "    'User-Agent': 'Mozilla/5.0 (Windows NT 10.0; Win64; x64) AppleWebKit/537.36 (KHTML, like Gecko) Chrome/87.0.4280.66 Safari/537.36',\n",
    "    'Accept-Language': 'en-US,en;q=0.9',\n",
    "    'Accept-Charset': 'application/x-www-form-urlencoded; charset=UTF-8',\n",
    "    'Origin': 'https://developer.riotgames.com',\n",
    "    'X-Riot-Token': ''\n",
    "    }\n",
    "RIOT_API = ''"
   ]
  },
  {
   "cell_type": "markdown",
   "metadata": {},
   "source": [
    "## Getting Account Information Using Summoner Name"
   ]
  },
  {
   "cell_type": "code",
   "execution_count": null,
   "metadata": {},
   "outputs": [],
   "source": [
    "def get_puu_id(summoner_name, riot_api_key = RIOT_API, request_headers = REQUEST_HEADERS, access = True):\n",
    "    summoner_name_updated = summoner_name.replace(' ', '%20')\n",
    "    url = 'https://na1.api.riotgames.com/lol/summoner/v4/summoners/by-name/'\n",
    "    account_url = url + summoner_name_updated\n",
    "    riot_headers = request_headers\n",
    "    riot_headers[\"X-Riot-Token\"] = riot_api_key\n",
    "    while access:\n",
    "        req = requests.get(account_url, headers = riot_headers)\n",
    "        if req.status_code == 200:\n",
    "            account_info = json.loads(req.content.decode(\"utf-8\"))\n",
    "            puu_id = account_info['puuid']\n",
    "            access = False\n",
    "\n",
    "        elif req.status_code == 404:\n",
    "            puu_id = None\n",
    "            access = False\n",
    "\n",
    "        else:\n",
    "            time.sleep(10)\n",
    "    return  puu_id"
   ]
  },
  {
   "cell_type": "markdown",
   "metadata": {},
   "source": [
    "## Getting A List of Match IDs Using PUU ID"
   ]
  },
  {
   "cell_type": "code",
   "execution_count": null,
   "metadata": {},
   "outputs": [],
   "source": [
    "def get_match_ids(puu_id, start, end, riot_api_key = RIOT_API, request_headers = REQUEST_HEADERS, access = True):\n",
    "    match_ids = []\n",
    "    match_history_url = f'https://americas.api.riotgames.com/lol/match/v5/matches/by-puuid/{puu_id}/ids?start={start}&count={end}'\n",
    "    riot_headers = request_headers\n",
    "    riot_headers[\"X-Riot-Token\"] = riot_api_key\n",
    "\n",
    "    while access:\n",
    "        req = requests.get(match_history_url, headers = riot_headers)\n",
    "        if req.status_code == 200:\n",
    "            match_id_info = json.loads(req.content.decode(\"utf-8\"))\n",
    "            for match_id in match_id_info:\n",
    "                match_ids.append(match_id)\n",
    "            access = False\n",
    "        else:\n",
    "            print('Waiting for 10 seconds to refresh restriction request...')\n",
    "            time.sleep(10)\n",
    "\n",
    "    return match_ids"
   ]
  },
  {
   "cell_type": "markdown",
   "metadata": {},
   "source": [
    "## Get Match Information Using Match ID"
   ]
  },
  {
   "cell_type": "code",
   "execution_count": null,
   "metadata": {},
   "outputs": [],
   "source": [
    "def get_match_details(match_id, riot_api_key = RIOT_API, request_headers = REQUEST_HEADERS, access = True):\n",
    "    match_url = 'https://americas.api.riotgames.com/lol/match/v5/matches/' + str(match_id)\n",
    "    riot_headers = request_headers\n",
    "    riot_headers[\"X-Riot-Token\"] = riot_api_key\n",
    "\n",
    "    while access:\n",
    "        req = requests.get(match_url, headers = riot_headers)\n",
    "        if req.status_code == 200:\n",
    "            match_details = json.loads(req.content.decode(\"utf-8\"))\n",
    "            access = False\n",
    "\n",
    "        elif req.status_code == 404:\n",
    "            print(f'{match_id} - DATA NOT FOUND - MATCH FILE NOT FOUND')\n",
    "            match_details = None\n",
    "            access = False\n",
    "            \n",
    "        else:\n",
    "            print(req.status_code)\n",
    "            print('Waiting for 10 seconds to refresh restriction request...')\n",
    "            time.sleep(10)\n",
    "\n",
    "    return match_details"
   ]
  },
  {
   "source": [
    "## Cleaning and Reducing Match Data"
   ],
   "cell_type": "markdown",
   "metadata": {}
  },
  {
   "cell_type": "code",
   "execution_count": null,
   "metadata": {},
   "outputs": [],
   "source": [
    "def clean_and_reduce_match_data(match_details, queue_type, queue_mapping_info = queue_key_dict_reverse):\n",
    "    queue_filter = queue_mapping_info[queue_type.upper()]\n",
    "    match_cleaned_dict = {}\n",
    "    for key, value in match_details['info'].items():\n",
    "\n",
    "        if key == 'gameId':\n",
    "            match_id = value\n",
    "\n",
    "        if key == 'gameMode':\n",
    "            match_type = value\n",
    "            \n",
    "        if key == 'participants':\n",
    "            participant_details = value\n",
    "        \n",
    "        if key == 'queueId':\n",
    "            if value == queue_filter:\n",
    "                queue_id = value\n",
    "                match_cleaned_dict[(match_type, queue_id, match_id)] = participant_details\n",
    "            else:\n",
    "                return None\n",
    "    return match_cleaned_dict"
   ]
  },
  {
   "cell_type": "code",
   "execution_count": null,
   "metadata": {},
   "outputs": [],
   "source": [
    "def filter_match_data_by_puuid(match_cleaned_dict, puu_id):\n",
    "    for match_id, match_details in match_cleaned_dict.items():\n",
    "        for participant_dict in match_details:\n",
    "            if participant_dict['puuid'] == puu_id:\n",
    "                return {match_id[0] + '_' + str(match_id[1]) + '_' + str(match_id[2]): participant_dict}"
   ]
  },
  {
   "cell_type": "code",
   "execution_count": null,
   "metadata": {},
   "outputs": [],
   "source": [
    "def remove_perks_attribute(match):\n",
    "    for key, info in match.items():\n",
    "        for key in list(info.keys()):\n",
    "            if key == 'perks':\n",
    "                del info[key]\n",
    "\n",
    "    return match"
   ]
  },
  {
   "source": [
    "## Turn Match Data into DataFrame"
   ],
   "cell_type": "markdown",
   "metadata": {}
  },
  {
   "cell_type": "code",
   "execution_count": null,
   "metadata": {},
   "outputs": [],
   "source": [
    "def make_match_df(match):\n",
    "    match_df = pd.DataFrame.from_dict(match, orient = 'index')\n",
    "    return match_df"
   ]
  },
  {
   "source": [
    "## Create Super Function for Data Collection"
   ],
   "cell_type": "markdown",
   "metadata": {}
  },
  {
   "cell_type": "code",
   "execution_count": null,
   "metadata": {},
   "outputs": [],
   "source": [
    "def get_match_history_by_summoner_name(summoner_name, start, end, queue_type, riot_api = RIOT_API, request_headers = REQUEST_HEADERS):\n",
    "    puu_id = get_puu_id(summoner_name, riot_api, request_headers)\n",
    "\n",
    "    if puu_id != None:\n",
    "        match_ids = get_match_ids(puu_id, start, end, riot_api, request_headers)\n",
    "\n",
    "        matches_df_listed = []\n",
    "\n",
    "        for match_id in match_ids:\n",
    "            match_detail = get_match_details(match_id, riot_api, request_headers)\n",
    "            if match_detail != None:\n",
    "                match_cleaned = clean_and_reduce_match_data(match_detail, queue_type)\n",
    "                if match_cleaned != None:\n",
    "                    match_cleaned_filtered = filter_match_data_by_puuid(match_cleaned, puu_id)\n",
    "\n",
    "                    match_final = remove_perks_attribute(match_cleaned_filtered)\n",
    "\n",
    "                    match_df = make_match_df(match_final)\n",
    "    \n",
    "                    matches_df_listed.append(match_df)\n",
    "                    \n",
    "                else:\n",
    "                    print(f'Match ID: {match_id} IS NOT OF THE QUEUE TYPE: {queue_type.upper()}')\n",
    "                    continue\n",
    "\n",
    "        if matches_df_listed != []:\n",
    "            return pd.concat(matches_df_listed)\n",
    "                \n",
    "        \n",
    "    else:\n",
    "        return f'NO PUU_ID FOUND FOR SUMMONER: {summoner_name}'"
   ]
  },
  {
   "source": [
    "# Part 2A"
   ],
   "cell_type": "markdown",
   "metadata": {}
  },
  {
   "source": [
    "## Create Super Function for Initial Data Cleanup\n"
   ],
   "cell_type": "markdown",
   "metadata": {}
  },
  {
   "cell_type": "code",
   "execution_count": null,
   "metadata": {},
   "outputs": [],
   "source": [
    "def clean_columns(data):\n",
    "    data = data.reset_index()\n",
    "\n",
    "    cleaned_cols = list(data.columns.values)[1:]\n",
    "\n",
    "    data[['matchType', 'queueId', 'matchId']] = data['index'].str.split('_', expand = True)\n",
    "\n",
    "    cleaned_cols = ['queueId', 'matchId'] + cleaned_cols\n",
    "    data = data[cleaned_cols]\n",
    "    \n",
    "    data['queueId'] = data['queueId'].astype(int)\n",
    "\n",
    "    return data\n",
    "\n",
    "def mapping_data_values(data, mapping_key):\n",
    "    if mapping_key == 'Q':\n",
    "        data['queueId'] = data['queueId'].map(queue_key_dict)\n",
    "\n",
    "    if mapping_key == 'I':\n",
    "        item_columns = [\"item0\", \"item1\", \"item2\", \"item3\", \"item4\", \"item5\", \"item6\"]\n",
    "        for col in item_columns:\n",
    "            data[col] = data[col].map(item_key_dict)\n",
    "\n",
    "    if mapping_key == 'S':\n",
    "        summoner_columns = ['summoner1Id', 'summoner2Id']\n",
    "        for col in summoner_columns:\n",
    "            data[col] = data[col].map(ss_key_dict)\n",
    "    \n",
    "    if mapping_key == 'T':\n",
    "        team_color = data['teamId'].map({100: 'Blue', 200: 'Red'})\n",
    "        data.insert(1, 'teamColor', team_color)\n",
    "    \n",
    "    return data"
   ]
  },
  {
   "cell_type": "code",
   "execution_count": null,
   "metadata": {},
   "outputs": [],
   "source": [
    "def initial_cleanup(data):\n",
    "    data = clean_columns(data)\n",
    "\n",
    "    data = mapping_data_values(data, 'Q')\n",
    "\n",
    "    data = mapping_data_values(data, 'I')\n",
    "\n",
    "    data = mapping_data_values(data, 'S')\n",
    "\n",
    "    data = mapping_data_values(data, 'T')\n",
    "\n",
    "    return data"
   ]
  },
  {
   "source": [
    "## Combine All Super Functions"
   ],
   "cell_type": "markdown",
   "metadata": {}
  },
  {
   "cell_type": "code",
   "execution_count": null,
   "metadata": {},
   "outputs": [],
   "source": [
    "def get_clean_match_data_by_summoner(summoner_name, start, end, queue_type):\n",
    "\n",
    "    df = get_match_history_by_summoner_name(summoner_name, start, end, queue_type)\n",
    "    if isinstance(df, pd.DataFrame):\n",
    "        df = initial_cleanup(df)\n",
    "    else:\n",
    "        df = f'NO MATCHES OF THE TYPE {queue_type.upper()} IN THE LAST {end} GAMES'   \n",
    "\n",
    "    return df"
   ]
  },
  {
   "cell_type": "code",
   "execution_count": null,
   "metadata": {},
   "outputs": [],
   "source": [
    "def get_summoner_match_clean_df(summoner_name, num_games, q_type):\n",
    "\n",
    "    solo_game_count = 0\n",
    "    starting = 101\n",
    "    df_listed = []\n",
    "    ending = 1\n",
    "\n",
    "    print(f'STARTED PROCESSING FOR SUMMONER: {summoner_name}')\n",
    "    print(f'ROW {starting} HAS BEEN PROCESSED')\n",
    "\n",
    "    while solo_game_count < num_games:\n",
    "        df = get_clean_match_data_by_summoner(summoner_name = summoner_name, start = starting, end = ending, queue_type = q_type)\n",
    "        starting += ending\n",
    "        print(f'ROW {starting} HAS BEEN PROCESSED')\n",
    "\n",
    "        if isinstance(df, pd.DataFrame):\n",
    "            solo_game_count += df.shape[0]\n",
    "            print(f'SOLO GAME ROW COUNT: {solo_game_count}')\n",
    "            df_listed.append(df)\n",
    "\n",
    "    final = pd.concat(df_listed)\n",
    "    return final"
   ]
  },
  {
   "source": [
    "## Getting Most Recent 50 Solo Ranked Matches From Top 100 Challenger Level Players"
   ],
   "cell_type": "markdown",
   "metadata": {}
  },
  {
   "cell_type": "code",
   "execution_count": null,
   "metadata": {},
   "outputs": [],
   "source": [
    "def get_top_100_challenger_players(chall_url):\n",
    "    response = requests.get(chall_url)\n",
    "    html_soup  = BeautifulSoup(response.text, 'html.parser')\n",
    "    challlenger_top_100_snames = []\n",
    "\n",
    "    chall_top_4 = html_soup.find_all('li', class_ = 'ranking-highest__item')\n",
    "    for challenger in chall_top_4:\n",
    "        chall_sname = challenger.find('a', class_ = 'ranking-highest__name').text\n",
    "        challlenger_top_100_snames.append(chall_sname)\n",
    "    \n",
    "    chall_rest = html_soup.find_all('tr', class_ = 'ranking-table__row')\n",
    "    for challenger in chall_rest:\n",
    "        challlenger_top_100_snames.append(challenger.span.text)\n",
    "\n",
    "    return challlenger_top_100_snames"
   ]
  },
  {
   "cell_type": "code",
   "execution_count": null,
   "metadata": {},
   "outputs": [],
   "source": [
    "challenger_top100_snames = get_top_100_challenger_players('https://na.op.gg/ranking/ladder/page=1')"
   ]
  },
  {
   "cell_type": "code",
   "execution_count": null,
   "metadata": {},
   "outputs": [],
   "source": [
    "match_df_listed = []\n",
    "for challenger in challenger_top100_snames:\n",
    "    match_df = get_summoner_match_clean_df(summoner_name = challenger, num_games = 50, q_type = '5v5 Ranked Solo Games')\n",
    "    match_df_listed.append(match_df)"
   ]
  },
  {
   "cell_type": "code",
   "execution_count": null,
   "metadata": {},
   "outputs": [],
   "source": [
    "final_df = pd.concat(match_df_listed)\n",
    "final_df.head()"
   ]
  },
  {
   "cell_type": "code",
   "execution_count": null,
   "metadata": {},
   "outputs": [],
   "source": [
    "final_df.shape"
   ]
  },
  {
   "cell_type": "code",
   "execution_count": null,
   "metadata": {},
   "outputs": [],
   "source": [
    "final_df.to_csv('export_data/data_6_18.csv', index = False)"
   ]
  },
  {
   "source": [
    "## Final Cleanup to Combined Data"
   ],
   "cell_type": "markdown",
   "metadata": {}
  },
  {
   "cell_type": "code",
   "execution_count": 43,
   "metadata": {},
   "outputs": [],
   "source": [
    "match_data_total = pd.read_csv('export_data/data_combined.csv')\n",
    "match_data_total.loc[match_data_total['teamPosition'] == 'UTILITY', 'teamPosition'] = 'SUPPORT'\n",
    "match_data_total.loc[match_data_total['championName'] == 'MonkeyKing', 'championName'] = 'Wukong'"
   ]
  },
  {
   "cell_type": "code",
   "execution_count": 44,
   "metadata": {},
   "outputs": [],
   "source": [
    "subset = ['puuid', 'kills', 'deaths','assists', 'totalDamageDealt', 'totalDamageTaken', 'totalHeal', 'item0', 'item1', 'item2', 'item3', 'item4', 'item5', 'item6']\n",
    "match_data_total_deduped = match_data_total.drop_duplicates(subset, keep = 'first')"
   ]
  },
  {
   "cell_type": "code",
   "execution_count": 45,
   "metadata": {},
   "outputs": [
    {
     "output_type": "execute_result",
     "data": {
      "text/plain": [
       "(12282, 100)"
      ]
     },
     "metadata": {},
     "execution_count": 45
    }
   ],
   "source": [
    "match_data_total_deduped.shape"
   ]
  },
  {
   "cell_type": "code",
   "execution_count": 46,
   "metadata": {},
   "outputs": [],
   "source": [
    "item_cols = ['item0', 'item1', 'item2', 'item3', 'item4', 'item5', 'item6']\n",
    "\n",
    "for col in item_cols:\n",
    "    match_data_total_deduped[col] = match_data_total_deduped[col].fillna(value = 'None')"
   ]
  },
  {
   "cell_type": "code",
   "execution_count": 47,
   "metadata": {},
   "outputs": [],
   "source": [
    "match_data_total_deduped['inhibitorsLost'] = match_data_total_deduped['inhibitorsLost'].fillna(value = 0)\n",
    "match_data_total_deduped['nexusLost'] = match_data_total_deduped['nexusLost'].fillna(value = 0)\n",
    "match_data_total_deduped['turretsLost'] = match_data_total_deduped['turretsLost'].fillna(value = 0)\n",
    "match_data_total_deduped['damageDealtToBuildings'] = match_data_total_deduped['damageDealtToBuildings'].fillna(value = 0)"
   ]
  },
  {
   "cell_type": "code",
   "execution_count": 48,
   "metadata": {},
   "outputs": [],
   "source": [
    "match_data_total_deduped.to_csv('export_data/data_combined_cleaned.csv', index = False)"
   ]
  },
  {
   "source": [
    "# Part 2B"
   ],
   "cell_type": "markdown",
   "metadata": {}
  },
  {
   "source": [
    "## Questions to Visualize:\n",
    "\n",
    "### Who is the most played champion by lane?\n",
    "    - select the top 3 played champions by lane and display the # of games played\n",
    "    \n",
    "### Who are the top 3 champions that hold the highest win rate by lane?\n",
    "    - visualize win rates by lane and visualize win rate by champions\n",
    "    - to decrease bias from lack of games played, the champions that have at least average game count will only be used when looking at win rate\n",
    "\n",
    "### What is the k/D/A for the top 10 played champions?\n",
    "    - after filtering the data for top 10 played champions, visualize the average K/D/A\n",
    "\n",
    "### How correlated is offensive/defensive statistics to winning?\n",
    "    - create correlation matrix to determine variables highly correlated with win/loss\n",
    "    - filter correlation plot for any variables that have a correlation higher than .25 or lower than -.25"
   ],
   "cell_type": "markdown",
   "metadata": {}
  },
  {
   "cell_type": "code",
   "execution_count": 39,
   "metadata": {},
   "outputs": [],
   "source": [
    "match_data_total_deduped = pd.read_csv('export_data/data_combined_cleaned.csv')"
   ]
  },
  {
   "cell_type": "code",
   "execution_count": 40,
   "metadata": {},
   "outputs": [
    {
     "output_type": "execute_result",
     "data": {
      "text/plain": [
       "    teamPosition championName  matchCount\n",
       "12        BOTTOM       Ezreal         344\n",
       "19        BOTTOM        Kaisa         296\n",
       "42        BOTTOM     Tristana         249\n",
       "76        JUNGLE      Kindred         248\n",
       "91        JUNGLE       Rumble         179\n",
       "74        JUNGLE         Kayn         157\n",
       "178       MIDDLE        Sylas         244\n",
       "150       MIDDLE       LeeSin         208\n",
       "152       MIDDLE       Lucian         177\n",
       "238      SUPPORT       Thresh         354\n",
       "219      SUPPORT     Nautilus         299\n",
       "210      SUPPORT        Karma         254\n",
       "279          TOP       LeeSin         237\n",
       "270          TOP        Jayce         221\n",
       "264          TOP         Gwen         152"
      ],
      "text/html": "<div>\n<style scoped>\n    .dataframe tbody tr th:only-of-type {\n        vertical-align: middle;\n    }\n\n    .dataframe tbody tr th {\n        vertical-align: top;\n    }\n\n    .dataframe thead th {\n        text-align: right;\n    }\n</style>\n<table border=\"1\" class=\"dataframe\">\n  <thead>\n    <tr style=\"text-align: right;\">\n      <th></th>\n      <th>teamPosition</th>\n      <th>championName</th>\n      <th>matchCount</th>\n    </tr>\n  </thead>\n  <tbody>\n    <tr>\n      <th>12</th>\n      <td>BOTTOM</td>\n      <td>Ezreal</td>\n      <td>344</td>\n    </tr>\n    <tr>\n      <th>19</th>\n      <td>BOTTOM</td>\n      <td>Kaisa</td>\n      <td>296</td>\n    </tr>\n    <tr>\n      <th>42</th>\n      <td>BOTTOM</td>\n      <td>Tristana</td>\n      <td>249</td>\n    </tr>\n    <tr>\n      <th>76</th>\n      <td>JUNGLE</td>\n      <td>Kindred</td>\n      <td>248</td>\n    </tr>\n    <tr>\n      <th>91</th>\n      <td>JUNGLE</td>\n      <td>Rumble</td>\n      <td>179</td>\n    </tr>\n    <tr>\n      <th>74</th>\n      <td>JUNGLE</td>\n      <td>Kayn</td>\n      <td>157</td>\n    </tr>\n    <tr>\n      <th>178</th>\n      <td>MIDDLE</td>\n      <td>Sylas</td>\n      <td>244</td>\n    </tr>\n    <tr>\n      <th>150</th>\n      <td>MIDDLE</td>\n      <td>LeeSin</td>\n      <td>208</td>\n    </tr>\n    <tr>\n      <th>152</th>\n      <td>MIDDLE</td>\n      <td>Lucian</td>\n      <td>177</td>\n    </tr>\n    <tr>\n      <th>238</th>\n      <td>SUPPORT</td>\n      <td>Thresh</td>\n      <td>354</td>\n    </tr>\n    <tr>\n      <th>219</th>\n      <td>SUPPORT</td>\n      <td>Nautilus</td>\n      <td>299</td>\n    </tr>\n    <tr>\n      <th>210</th>\n      <td>SUPPORT</td>\n      <td>Karma</td>\n      <td>254</td>\n    </tr>\n    <tr>\n      <th>279</th>\n      <td>TOP</td>\n      <td>LeeSin</td>\n      <td>237</td>\n    </tr>\n    <tr>\n      <th>270</th>\n      <td>TOP</td>\n      <td>Jayce</td>\n      <td>221</td>\n    </tr>\n    <tr>\n      <th>264</th>\n      <td>TOP</td>\n      <td>Gwen</td>\n      <td>152</td>\n    </tr>\n  </tbody>\n</table>\n</div>"
     },
     "metadata": {},
     "execution_count": 40
    }
   ],
   "source": [
    "test = match_data_total_deduped.groupby(['teamPosition', 'championName'])['matchId'].agg('count').reset_index()\n",
    "test.rename(columns = {'matchId':'matchCount'}, inplace = True)\n",
    "test_sorted = test.sort_values(['teamPosition', 'matchCount'], ascending = [True, False])\n",
    "test_filtered = test_sorted.loc[test_sorted['teamPosition'] != 'AFK']\n",
    "test_filtered\n",
    "top3_bottom = ['Ezreal', 'Kaisa', 'Tristana']\n",
    "top3_jungle = ['Kindred', 'Kayn', 'Rumble']\n",
    "top3_mid = ['Sylas', 'LeeSin', 'Lucian']\n",
    "top3_top = ['LeeSin', 'Jayce', 'Gwen']\n",
    "top3_supp = ['Thresh', 'Nautilus', 'Karma']\n",
    "\n",
    "bot_mask = test_sorted['teamPosition'] == 'BOTTOM'\n",
    "jung_mask = test_sorted['teamPosition'] == 'JUNGLE'\n",
    "mid_mask = test_sorted['teamPosition'] == 'MIDDLE'\n",
    "top_mask = test_sorted['teamPosition'] == 'TOP'\n",
    "supp_mask = test_sorted['teamPosition'] == 'SUPPORT'\n",
    "\n",
    "top3_all_lanes = test.loc[\n",
    "    (bot_mask & test['championName'].isin(top3_bottom)) |\n",
    "    (jung_mask & test['championName'].isin(top3_jungle)) |\n",
    "    (mid_mask & test['championName'].isin(top3_mid)) |\n",
    "    (top_mask & test['championName'].isin(top3_top)) |\n",
    "    (supp_mask & test['championName'].isin(top3_supp))\n",
    "]\n",
    "top3_all_lanes_sorted = top3_all_lanes.sort_values(['teamPosition', 'matchCount'], ascending = [True, False])\n",
    "top3_all_lanes_sorted"
   ]
  },
  {
   "cell_type": "code",
   "execution_count": 41,
   "metadata": {},
   "outputs": [
    {
     "output_type": "display_data",
     "data": {
      "text/html": "        <script type=\"text/javascript\">\n        window.PlotlyConfig = {MathJaxConfig: 'local'};\n        if (window.MathJax) {MathJax.Hub.Config({SVG: {font: \"STIX-Web\"}});}\n        if (typeof require !== 'undefined') {\n        require.undef(\"plotly\");\n        requirejs.config({\n            paths: {\n                'plotly': ['https://cdn.plot.ly/plotly-latest.min']\n            }\n        });\n        require(['plotly'], function(Plotly) {\n            window._Plotly = Plotly;\n        });\n        }\n        </script>\n        "
     },
     "metadata": {}
    },
    {
     "output_type": "display_data",
     "data": {
      "text/html": "<div>                            <div id=\"00aca445-a5e2-493a-9f79-24cead91b8ae\" class=\"plotly-graph-div\" style=\"height:600px; width:800px;\"></div>            <script type=\"text/javascript\">                require([\"plotly\"], function(Plotly) {                    window.PLOTLYENV=window.PLOTLYENV || {};                                    if (document.getElementById(\"00aca445-a5e2-493a-9f79-24cead91b8ae\")) {                    Plotly.newPlot(                        \"00aca445-a5e2-493a-9f79-24cead91b8ae\",                        [{\"alignmentgroup\": \"True\", \"hovertemplate\": \"Champion=Ezreal<br>Position=%{x}<br># of Games Played=%{text}<extra></extra>\", \"insidetextanchor\": \"middle\", \"legendgroup\": \"Ezreal\", \"marker\": {\"color\": \"#5F9EA0\"}, \"name\": \"Ezreal\", \"offsetgroup\": \"Ezreal\", \"orientation\": \"v\", \"showlegend\": true, \"text\": [344.0], \"textposition\": \"inside\", \"texttemplate\": \"%{text} Games\", \"type\": \"bar\", \"x\": [\"BOTTOM\"], \"xaxis\": \"x\", \"y\": [344], \"yaxis\": \"y\"}, {\"alignmentgroup\": \"True\", \"hovertemplate\": \"Champion=Kaisa<br>Position=%{x}<br># of Games Played=%{text}<extra></extra>\", \"insidetextanchor\": \"middle\", \"legendgroup\": \"Kaisa\", \"marker\": {\"color\": \"#4B0082\"}, \"name\": \"Kaisa\", \"offsetgroup\": \"Kaisa\", \"orientation\": \"v\", \"showlegend\": true, \"text\": [296.0], \"textposition\": \"inside\", \"texttemplate\": \"%{text} Games\", \"type\": \"bar\", \"x\": [\"BOTTOM\"], \"xaxis\": \"x\", \"y\": [296], \"yaxis\": \"y\"}, {\"alignmentgroup\": \"True\", \"hovertemplate\": \"Champion=Tristana<br>Position=%{x}<br># of Games Played=%{text}<extra></extra>\", \"insidetextanchor\": \"middle\", \"legendgroup\": \"Tristana\", \"marker\": {\"color\": \"#FFA07A\"}, \"name\": \"Tristana\", \"offsetgroup\": \"Tristana\", \"orientation\": \"v\", \"showlegend\": true, \"text\": [249.0], \"textposition\": \"inside\", \"texttemplate\": \"%{text} Games\", \"type\": \"bar\", \"x\": [\"BOTTOM\"], \"xaxis\": \"x\", \"y\": [249], \"yaxis\": \"y\"}, {\"alignmentgroup\": \"True\", \"hovertemplate\": \"Champion=Kindred<br>Position=%{x}<br># of Games Played=%{text}<extra></extra>\", \"insidetextanchor\": \"middle\", \"legendgroup\": \"Kindred\", \"marker\": {\"color\": \"#708090\"}, \"name\": \"Kindred\", \"offsetgroup\": \"Kindred\", \"orientation\": \"v\", \"showlegend\": true, \"text\": [248.0], \"textposition\": \"inside\", \"texttemplate\": \"%{text} Games\", \"type\": \"bar\", \"x\": [\"JUNGLE\"], \"xaxis\": \"x\", \"y\": [248], \"yaxis\": \"y\"}, {\"alignmentgroup\": \"True\", \"hovertemplate\": \"Champion=Rumble<br>Position=%{x}<br># of Games Played=%{text}<extra></extra>\", \"insidetextanchor\": \"middle\", \"legendgroup\": \"Rumble\", \"marker\": {\"color\": \"#CD853F\"}, \"name\": \"Rumble\", \"offsetgroup\": \"Rumble\", \"orientation\": \"v\", \"showlegend\": true, \"text\": [179.0], \"textposition\": \"inside\", \"texttemplate\": \"%{text} Games\", \"type\": \"bar\", \"x\": [\"JUNGLE\"], \"xaxis\": \"x\", \"y\": [179], \"yaxis\": \"y\"}, {\"alignmentgroup\": \"True\", \"hovertemplate\": \"Champion=Kayn<br>Position=%{x}<br># of Games Played=%{text}<extra></extra>\", \"insidetextanchor\": \"middle\", \"legendgroup\": \"Kayn\", \"marker\": {\"color\": \"#4682B4\"}, \"name\": \"Kayn\", \"offsetgroup\": \"Kayn\", \"orientation\": \"v\", \"showlegend\": true, \"text\": [157.0], \"textposition\": \"inside\", \"texttemplate\": \"%{text} Games\", \"type\": \"bar\", \"x\": [\"JUNGLE\"], \"xaxis\": \"x\", \"y\": [157], \"yaxis\": \"y\"}, {\"alignmentgroup\": \"True\", \"hovertemplate\": \"Champion=Sylas<br>Position=%{x}<br># of Games Played=%{text}<extra></extra>\", \"insidetextanchor\": \"middle\", \"legendgroup\": \"Sylas\", \"marker\": {\"color\": \"#191970\"}, \"name\": \"Sylas\", \"offsetgroup\": \"Sylas\", \"orientation\": \"v\", \"showlegend\": true, \"text\": [244.0], \"textposition\": \"inside\", \"texttemplate\": \"%{text} Games\", \"type\": \"bar\", \"x\": [\"MIDDLE\"], \"xaxis\": \"x\", \"y\": [244], \"yaxis\": \"y\"}, {\"alignmentgroup\": \"True\", \"hovertemplate\": \"Champion=LeeSin<br>Position=%{x}<br># of Games Played=%{text}<extra></extra>\", \"insidetextanchor\": \"middle\", \"legendgroup\": \"LeeSin\", \"marker\": {\"color\": \"#A0522D\"}, \"name\": \"LeeSin\", \"offsetgroup\": \"LeeSin\", \"orientation\": \"v\", \"showlegend\": true, \"text\": [208.0, 237.0], \"textposition\": \"inside\", \"texttemplate\": \"%{text} Games\", \"type\": \"bar\", \"x\": [\"MIDDLE\", \"TOP\"], \"xaxis\": \"x\", \"y\": [208, 237], \"yaxis\": \"y\"}, {\"alignmentgroup\": \"True\", \"hovertemplate\": \"Champion=Lucian<br>Position=%{x}<br># of Games Played=%{text}<extra></extra>\", \"insidetextanchor\": \"middle\", \"legendgroup\": \"Lucian\", \"marker\": {\"color\": \"#DCDCDC\"}, \"name\": \"Lucian\", \"offsetgroup\": \"Lucian\", \"orientation\": \"v\", \"showlegend\": true, \"text\": [177.0], \"textposition\": \"inside\", \"texttemplate\": \"%{text} Games\", \"type\": \"bar\", \"x\": [\"MIDDLE\"], \"xaxis\": \"x\", \"y\": [177], \"yaxis\": \"y\"}, {\"alignmentgroup\": \"True\", \"hovertemplate\": \"Champion=Thresh<br>Position=%{x}<br># of Games Played=%{text}<extra></extra>\", \"insidetextanchor\": \"middle\", \"legendgroup\": \"Thresh\", \"marker\": {\"color\": \"#556B2F\"}, \"name\": \"Thresh\", \"offsetgroup\": \"Thresh\", \"orientation\": \"v\", \"showlegend\": true, \"text\": [354.0], \"textposition\": \"inside\", \"texttemplate\": \"%{text} Games\", \"type\": \"bar\", \"x\": [\"SUPPORT\"], \"xaxis\": \"x\", \"y\": [354], \"yaxis\": \"y\"}, {\"alignmentgroup\": \"True\", \"hovertemplate\": \"Champion=Nautilus<br>Position=%{x}<br># of Games Played=%{text}<extra></extra>\", \"insidetextanchor\": \"middle\", \"legendgroup\": \"Nautilus\", \"marker\": {\"color\": \"#2E8B57\"}, \"name\": \"Nautilus\", \"offsetgroup\": \"Nautilus\", \"orientation\": \"v\", \"showlegend\": true, \"text\": [299.0], \"textposition\": \"inside\", \"texttemplate\": \"%{text} Games\", \"type\": \"bar\", \"x\": [\"SUPPORT\"], \"xaxis\": \"x\", \"y\": [299], \"yaxis\": \"y\"}, {\"alignmentgroup\": \"True\", \"hovertemplate\": \"Champion=Karma<br>Position=%{x}<br># of Games Played=%{text}<extra></extra>\", \"insidetextanchor\": \"middle\", \"legendgroup\": \"Karma\", \"marker\": {\"color\": \"#FFB6C1\"}, \"name\": \"Karma\", \"offsetgroup\": \"Karma\", \"orientation\": \"v\", \"showlegend\": true, \"text\": [254.0], \"textposition\": \"inside\", \"texttemplate\": \"%{text} Games\", \"type\": \"bar\", \"x\": [\"SUPPORT\"], \"xaxis\": \"x\", \"y\": [254], \"yaxis\": \"y\"}, {\"alignmentgroup\": \"True\", \"hovertemplate\": \"Champion=Jayce<br>Position=%{x}<br># of Games Played=%{text}<extra></extra>\", \"insidetextanchor\": \"middle\", \"legendgroup\": \"Jayce\", \"marker\": {\"color\": \"#D2B48C\"}, \"name\": \"Jayce\", \"offsetgroup\": \"Jayce\", \"orientation\": \"v\", \"showlegend\": true, \"text\": [221.0], \"textposition\": \"inside\", \"texttemplate\": \"%{text} Games\", \"type\": \"bar\", \"x\": [\"TOP\"], \"xaxis\": \"x\", \"y\": [221], \"yaxis\": \"y\"}, {\"alignmentgroup\": \"True\", \"hovertemplate\": \"Champion=Gwen<br>Position=%{x}<br># of Games Played=%{text}<extra></extra>\", \"insidetextanchor\": \"middle\", \"legendgroup\": \"Gwen\", \"marker\": {\"color\": \"#40E0D0\"}, \"name\": \"Gwen\", \"offsetgroup\": \"Gwen\", \"orientation\": \"v\", \"showlegend\": true, \"text\": [152.0], \"textposition\": \"inside\", \"texttemplate\": \"%{text} Games\", \"type\": \"bar\", \"x\": [\"TOP\"], \"xaxis\": \"x\", \"y\": [152], \"yaxis\": \"y\"}],                        {\"barmode\": \"relative\", \"height\": 600, \"legend\": {\"bgcolor\": \"white\", \"title\": {\"font\": {\"size\": 12}, \"text\": \"Champion\"}, \"tracegroupgap\": 8, \"x\": 1.15, \"xanchor\": \"right\", \"y\": 0.96, \"yanchor\": \"top\"}, \"paper_bgcolor\": \"rgb(0,0,0,0)\", \"plot_bgcolor\": \"rgb(0,0,0,0)\", \"template\": {\"data\": {\"bar\": [{\"error_x\": {\"color\": \"#2a3f5f\"}, \"error_y\": {\"color\": \"#2a3f5f\"}, \"marker\": {\"line\": {\"color\": \"#E5ECF6\", \"width\": 0.5}}, \"type\": \"bar\"}], \"barpolar\": [{\"marker\": {\"line\": {\"color\": \"#E5ECF6\", \"width\": 0.5}}, \"type\": \"barpolar\"}], \"carpet\": [{\"aaxis\": {\"endlinecolor\": \"#2a3f5f\", \"gridcolor\": \"white\", \"linecolor\": \"white\", \"minorgridcolor\": \"white\", \"startlinecolor\": \"#2a3f5f\"}, \"baxis\": {\"endlinecolor\": \"#2a3f5f\", \"gridcolor\": \"white\", \"linecolor\": \"white\", \"minorgridcolor\": \"white\", \"startlinecolor\": \"#2a3f5f\"}, \"type\": \"carpet\"}], \"choropleth\": [{\"colorbar\": {\"outlinewidth\": 0, \"ticks\": \"\"}, \"type\": \"choropleth\"}], \"contour\": [{\"colorbar\": {\"outlinewidth\": 0, \"ticks\": \"\"}, \"colorscale\": [[0.0, \"#0d0887\"], [0.1111111111111111, \"#46039f\"], [0.2222222222222222, \"#7201a8\"], [0.3333333333333333, \"#9c179e\"], [0.4444444444444444, \"#bd3786\"], [0.5555555555555556, \"#d8576b\"], [0.6666666666666666, \"#ed7953\"], [0.7777777777777778, \"#fb9f3a\"], [0.8888888888888888, \"#fdca26\"], [1.0, \"#f0f921\"]], \"type\": \"contour\"}], \"contourcarpet\": [{\"colorbar\": {\"outlinewidth\": 0, \"ticks\": \"\"}, \"type\": \"contourcarpet\"}], \"heatmap\": [{\"colorbar\": {\"outlinewidth\": 0, \"ticks\": \"\"}, \"colorscale\": [[0.0, \"#0d0887\"], [0.1111111111111111, \"#46039f\"], [0.2222222222222222, \"#7201a8\"], [0.3333333333333333, \"#9c179e\"], [0.4444444444444444, \"#bd3786\"], [0.5555555555555556, \"#d8576b\"], [0.6666666666666666, \"#ed7953\"], [0.7777777777777778, \"#fb9f3a\"], [0.8888888888888888, \"#fdca26\"], [1.0, \"#f0f921\"]], \"type\": \"heatmap\"}], \"heatmapgl\": [{\"colorbar\": {\"outlinewidth\": 0, \"ticks\": \"\"}, \"colorscale\": [[0.0, \"#0d0887\"], [0.1111111111111111, \"#46039f\"], [0.2222222222222222, \"#7201a8\"], [0.3333333333333333, \"#9c179e\"], [0.4444444444444444, \"#bd3786\"], [0.5555555555555556, \"#d8576b\"], [0.6666666666666666, \"#ed7953\"], [0.7777777777777778, \"#fb9f3a\"], [0.8888888888888888, \"#fdca26\"], [1.0, \"#f0f921\"]], \"type\": \"heatmapgl\"}], \"histogram\": [{\"marker\": {\"colorbar\": {\"outlinewidth\": 0, \"ticks\": \"\"}}, \"type\": \"histogram\"}], \"histogram2d\": [{\"colorbar\": {\"outlinewidth\": 0, \"ticks\": \"\"}, \"colorscale\": [[0.0, \"#0d0887\"], [0.1111111111111111, \"#46039f\"], [0.2222222222222222, \"#7201a8\"], [0.3333333333333333, \"#9c179e\"], [0.4444444444444444, \"#bd3786\"], [0.5555555555555556, \"#d8576b\"], [0.6666666666666666, \"#ed7953\"], [0.7777777777777778, \"#fb9f3a\"], [0.8888888888888888, \"#fdca26\"], [1.0, \"#f0f921\"]], \"type\": \"histogram2d\"}], \"histogram2dcontour\": [{\"colorbar\": {\"outlinewidth\": 0, \"ticks\": \"\"}, \"colorscale\": [[0.0, \"#0d0887\"], [0.1111111111111111, \"#46039f\"], [0.2222222222222222, \"#7201a8\"], [0.3333333333333333, \"#9c179e\"], [0.4444444444444444, \"#bd3786\"], [0.5555555555555556, \"#d8576b\"], [0.6666666666666666, \"#ed7953\"], [0.7777777777777778, \"#fb9f3a\"], [0.8888888888888888, \"#fdca26\"], [1.0, \"#f0f921\"]], \"type\": \"histogram2dcontour\"}], \"mesh3d\": [{\"colorbar\": {\"outlinewidth\": 0, \"ticks\": \"\"}, \"type\": \"mesh3d\"}], \"parcoords\": [{\"line\": {\"colorbar\": {\"outlinewidth\": 0, \"ticks\": \"\"}}, \"type\": \"parcoords\"}], \"pie\": [{\"automargin\": true, \"type\": \"pie\"}], \"scatter\": [{\"marker\": {\"colorbar\": {\"outlinewidth\": 0, \"ticks\": \"\"}}, \"type\": \"scatter\"}], \"scatter3d\": [{\"line\": {\"colorbar\": {\"outlinewidth\": 0, \"ticks\": \"\"}}, \"marker\": {\"colorbar\": {\"outlinewidth\": 0, \"ticks\": \"\"}}, \"type\": \"scatter3d\"}], \"scattercarpet\": [{\"marker\": {\"colorbar\": {\"outlinewidth\": 0, \"ticks\": \"\"}}, \"type\": \"scattercarpet\"}], \"scattergeo\": [{\"marker\": {\"colorbar\": {\"outlinewidth\": 0, \"ticks\": \"\"}}, \"type\": \"scattergeo\"}], \"scattergl\": [{\"marker\": {\"colorbar\": {\"outlinewidth\": 0, \"ticks\": \"\"}}, \"type\": \"scattergl\"}], \"scattermapbox\": [{\"marker\": {\"colorbar\": {\"outlinewidth\": 0, \"ticks\": \"\"}}, \"type\": \"scattermapbox\"}], \"scatterpolar\": [{\"marker\": {\"colorbar\": {\"outlinewidth\": 0, \"ticks\": \"\"}}, \"type\": \"scatterpolar\"}], \"scatterpolargl\": [{\"marker\": {\"colorbar\": {\"outlinewidth\": 0, \"ticks\": \"\"}}, \"type\": \"scatterpolargl\"}], \"scatterternary\": [{\"marker\": {\"colorbar\": {\"outlinewidth\": 0, \"ticks\": \"\"}}, \"type\": \"scatterternary\"}], \"surface\": [{\"colorbar\": {\"outlinewidth\": 0, \"ticks\": \"\"}, \"colorscale\": [[0.0, \"#0d0887\"], [0.1111111111111111, \"#46039f\"], [0.2222222222222222, \"#7201a8\"], [0.3333333333333333, \"#9c179e\"], [0.4444444444444444, \"#bd3786\"], [0.5555555555555556, \"#d8576b\"], [0.6666666666666666, \"#ed7953\"], [0.7777777777777778, \"#fb9f3a\"], [0.8888888888888888, \"#fdca26\"], [1.0, \"#f0f921\"]], \"type\": \"surface\"}], \"table\": [{\"cells\": {\"fill\": {\"color\": \"#EBF0F8\"}, \"line\": {\"color\": \"white\"}}, \"header\": {\"fill\": {\"color\": \"#C8D4E3\"}, \"line\": {\"color\": \"white\"}}, \"type\": \"table\"}]}, \"layout\": {\"annotationdefaults\": {\"arrowcolor\": \"#2a3f5f\", \"arrowhead\": 0, \"arrowwidth\": 1}, \"autotypenumbers\": \"strict\", \"coloraxis\": {\"colorbar\": {\"outlinewidth\": 0, \"ticks\": \"\"}}, \"colorscale\": {\"diverging\": [[0, \"#8e0152\"], [0.1, \"#c51b7d\"], [0.2, \"#de77ae\"], [0.3, \"#f1b6da\"], [0.4, \"#fde0ef\"], [0.5, \"#f7f7f7\"], [0.6, \"#e6f5d0\"], [0.7, \"#b8e186\"], [0.8, \"#7fbc41\"], [0.9, \"#4d9221\"], [1, \"#276419\"]], \"sequential\": [[0.0, \"#0d0887\"], [0.1111111111111111, \"#46039f\"], [0.2222222222222222, \"#7201a8\"], [0.3333333333333333, \"#9c179e\"], [0.4444444444444444, \"#bd3786\"], [0.5555555555555556, \"#d8576b\"], [0.6666666666666666, \"#ed7953\"], [0.7777777777777778, \"#fb9f3a\"], [0.8888888888888888, \"#fdca26\"], [1.0, \"#f0f921\"]], \"sequentialminus\": [[0.0, \"#0d0887\"], [0.1111111111111111, \"#46039f\"], [0.2222222222222222, \"#7201a8\"], [0.3333333333333333, \"#9c179e\"], [0.4444444444444444, \"#bd3786\"], [0.5555555555555556, \"#d8576b\"], [0.6666666666666666, \"#ed7953\"], [0.7777777777777778, \"#fb9f3a\"], [0.8888888888888888, \"#fdca26\"], [1.0, \"#f0f921\"]]}, \"colorway\": [\"#636efa\", \"#EF553B\", \"#00cc96\", \"#ab63fa\", \"#FFA15A\", \"#19d3f3\", \"#FF6692\", \"#B6E880\", \"#FF97FF\", \"#FECB52\"], \"font\": {\"color\": \"#2a3f5f\"}, \"geo\": {\"bgcolor\": \"white\", \"lakecolor\": \"white\", \"landcolor\": \"#E5ECF6\", \"showlakes\": true, \"showland\": true, \"subunitcolor\": \"white\"}, \"hoverlabel\": {\"align\": \"left\"}, \"hovermode\": \"closest\", \"mapbox\": {\"style\": \"light\"}, \"paper_bgcolor\": \"white\", \"plot_bgcolor\": \"#E5ECF6\", \"polar\": {\"angularaxis\": {\"gridcolor\": \"white\", \"linecolor\": \"white\", \"ticks\": \"\"}, \"bgcolor\": \"#E5ECF6\", \"radialaxis\": {\"gridcolor\": \"white\", \"linecolor\": \"white\", \"ticks\": \"\"}}, \"scene\": {\"xaxis\": {\"backgroundcolor\": \"#E5ECF6\", \"gridcolor\": \"white\", \"gridwidth\": 2, \"linecolor\": \"white\", \"showbackground\": true, \"ticks\": \"\", \"zerolinecolor\": \"white\"}, \"yaxis\": {\"backgroundcolor\": \"#E5ECF6\", \"gridcolor\": \"white\", \"gridwidth\": 2, \"linecolor\": \"white\", \"showbackground\": true, \"ticks\": \"\", \"zerolinecolor\": \"white\"}, \"zaxis\": {\"backgroundcolor\": \"#E5ECF6\", \"gridcolor\": \"white\", \"gridwidth\": 2, \"linecolor\": \"white\", \"showbackground\": true, \"ticks\": \"\", \"zerolinecolor\": \"white\"}}, \"shapedefaults\": {\"line\": {\"color\": \"#2a3f5f\"}}, \"ternary\": {\"aaxis\": {\"gridcolor\": \"white\", \"linecolor\": \"white\", \"ticks\": \"\"}, \"baxis\": {\"gridcolor\": \"white\", \"linecolor\": \"white\", \"ticks\": \"\"}, \"bgcolor\": \"#E5ECF6\", \"caxis\": {\"gridcolor\": \"white\", \"linecolor\": \"white\", \"ticks\": \"\"}}, \"title\": {\"x\": 0.05}, \"xaxis\": {\"automargin\": true, \"gridcolor\": \"white\", \"linecolor\": \"white\", \"ticks\": \"\", \"title\": {\"standoff\": 15}, \"zerolinecolor\": \"white\", \"zerolinewidth\": 2}, \"yaxis\": {\"automargin\": true, \"gridcolor\": \"white\", \"linecolor\": \"white\", \"ticks\": \"\", \"title\": {\"standoff\": 15}, \"zerolinecolor\": \"white\", \"zerolinewidth\": 2}}}, \"title\": {\"text\": \"Top 3 Champions Played by Position\", \"x\": 0.5}, \"width\": 800, \"xaxis\": {\"anchor\": \"y\", \"categoryorder\": \"total ascending\", \"domain\": [0.0, 1.0], \"title\": {\"text\": \"Position\"}}, \"yaxis\": {\"anchor\": \"x\", \"domain\": [0.0, 1.0], \"title\": {\"text\": \"# of Games Played\"}}},                        {\"responsive\": true}                    ).then(function(){\n                            \nvar gd = document.getElementById('00aca445-a5e2-493a-9f79-24cead91b8ae');\nvar x = new MutationObserver(function (mutations, observer) {{\n        var display = window.getComputedStyle(gd).display;\n        if (!display || display === 'none') {{\n            console.log([gd, 'removed!']);\n            Plotly.purge(gd);\n            observer.disconnect();\n        }}\n}});\n\n// Listen for the removal of the full notebook cells\nvar notebookContainer = gd.closest('#notebook-container');\nif (notebookContainer) {{\n    x.observe(notebookContainer, {childList: true});\n}}\n\n// Listen for the clearing of the current output cell\nvar outputEl = gd.closest('.output');\nif (outputEl) {{\n    x.observe(outputEl, {childList: true});\n}}\n\n                        })                };                });            </script>        </div>"
     },
     "metadata": {}
    }
   ],
   "source": [
    "fig = px.bar(top3_all_lanes_sorted, x = 'teamPosition', y = 'matchCount', color = 'championName', text = 'matchCount',\n",
    "             color_discrete_map = {\n",
    "                'Ezreal': '#5F9EA0',\n",
    "                'Tristana': '#FFA07A',\n",
    "                'Kaisa': '#4B0082',\n",
    "                'Rumble': '#CD853F',\n",
    "                'Kindred': '#708090',\n",
    "                'Kayn': '#4682B4',\n",
    "                'Lucian': '#DCDCDC',\n",
    "                'LeeSin': '#A0522D',\n",
    "                'Sylas': '#191970',\n",
    "                'Gwen': '#40E0D0',\n",
    "                'Jayce': '#D2B48C',\n",
    "                'Nautilus': '#2E8B57',\n",
    "                'Thresh': '#556B2F',\n",
    "                'Karma': '#FFB6C1'\n",
    "            },\n",
    "\n",
    "             labels = {'teamPosition': 'Position', 'matchCount': '# of Games Played', 'championName': 'Champion'}, title = 'Top 3 Champions Played by Position')\n",
    "fig.update_layout(\n",
    "    plot_bgcolor = 'rgb(0,0,0,0)',\n",
    "    paper_bgcolor = 'rgb(0,0,0,0)',\n",
    "    width = 800,\n",
    "    height = 600,\n",
    "    title_x = 0.5,\n",
    "    legend = dict(bgcolor = 'white', yanchor = 'top', y = 0.96, xanchor = 'right', x = 1.15),\n",
    "    legend_title = dict(font = dict(size = 12)),\n",
    ")\n",
    "fig.update_xaxes(categoryorder = 'total ascending')\n",
    "\n",
    "fig.layout.legend.tracegroupgap = 8\n",
    "\n",
    "fig.update_traces(texttemplate = '%{text} Games', textposition = 'inside', insidetextanchor = 'middle')\n",
    "fig.show(renderer = 'notebook_connected')"
   ]
  },
  {
   "cell_type": "code",
   "execution_count": 42,
   "metadata": {},
   "outputs": [
    {
     "output_type": "execute_result",
     "data": {
      "text/plain": [
       "                 queueId teamColor     matchId  assists  baronKills  \\\n",
       "0  5V5 RANKED SOLO GAMES      Blue  3944288481       13           0   \n",
       "1  5V5 RANKED SOLO GAMES      Blue  3944251280       11           0   \n",
       "2  5V5 RANKED SOLO GAMES       Red  3944226110        0           0   \n",
       "3  5V5 RANKED SOLO GAMES       Red  3941904096       20           0   \n",
       "4  5V5 RANKED SOLO GAMES       Red  3941845033       18           0   \n",
       "\n",
       "   bountyLevel  champExperience  champLevel  championId championName  \\\n",
       "0            0             8243          11         223    TahmKench   \n",
       "1            0             6578          10         111     Nautilus   \n",
       "2            0             4583           8         202         Jhin   \n",
       "3            0            10417          13         111     Nautilus   \n",
       "4            1             8840          12         111     Nautilus   \n",
       "\n",
       "   championTransform  consumablesPurchased  damageDealtToBuildings  \\\n",
       "0                  0                     7                   488.0   \n",
       "1                  0                    10                     0.0   \n",
       "2                  0                     6                     0.0   \n",
       "3                  0                    11                   320.0   \n",
       "4                  0                    10                   796.0   \n",
       "\n",
       "   damageDealtToObjectives  damageDealtToTurrets  damageSelfMitigated  deaths  \\\n",
       "0                     1419                   488                17878       6   \n",
       "1                      174                     0                16060       5   \n",
       "2                        0                     0                 3309       5   \n",
       "3                      999                   320                30781       7   \n",
       "4                      796                   796                15092       4   \n",
       "\n",
       "   detectorWardsPlaced  doubleKills  dragonKills  firstBloodAssist  \\\n",
       "0                    3            0            0             False   \n",
       "1                    7            0            0             False   \n",
       "2                    2            0            0             False   \n",
       "3                    8            0            0             False   \n",
       "4                    6            0            0             False   \n",
       "\n",
       "   firstBloodKill  firstTowerAssist  firstTowerKill  \\\n",
       "0           False             False           False   \n",
       "1           False             False           False   \n",
       "2           False             False           False   \n",
       "3           False             False           False   \n",
       "4           False             False           False   \n",
       "\n",
       "   gameEndedInEarlySurrender  gameEndedInSurrender  goldEarned  goldSpent  \\\n",
       "0                      False                  True        7039       6425   \n",
       "1                      False                 False        6099       6000   \n",
       "2                      False                  True        4305       3100   \n",
       "3                      False                 False        7821       6575   \n",
       "4                      False                 False        7579       6050   \n",
       "\n",
       "  individualPosition  inhibitorKills  inhibitorsLost             item0  \\\n",
       "0             BOTTOM               0             0.0    Doran's Shield   \n",
       "1            UTILITY               0             1.0  Plated Steelcaps   \n",
       "2             BOTTOM               0             0.0     Serrated Dirk   \n",
       "3            UTILITY               0             0.0  Plated Steelcaps   \n",
       "4            UTILITY               0             0.0      Ruby Crystal   \n",
       "\n",
       "                       item1                    item2             item3  \\\n",
       "0              Sunfire Aegis         Plated Steelcaps         Kindlegem   \n",
       "1  Locket of the Iron Solari  Bulwark of the Mountain       Cloth Armor   \n",
       "2          Refillable Potion                    Boots  Vampiric Scepter   \n",
       "3  Locket of the Iron Solari  Bulwark of the Mountain      Control Ward   \n",
       "4  Locket of the Iron Solari  Bulwark of the Mountain      Control Ward   \n",
       "\n",
       "           item4             item5         item6  itemsPurchased  \\\n",
       "0   Ruby Crystal              None  Stealth Ward              18   \n",
       "1  Warden's Mail      Control Ward   Oracle Lens              28   \n",
       "2           None        Long Sword  Stealth Ward              16   \n",
       "3      Kindlegem     Warden's Mail   Oracle Lens              27   \n",
       "4   Bramble Vest  Plated Steelcaps   Oracle Lens              25   \n",
       "\n",
       "   killingSprees  kills    lane  largestCriticalStrike  largestKillingSpree  \\\n",
       "0              0      1  BOTTOM                      0                    0   \n",
       "1              1      2  BOTTOM                      0                    2   \n",
       "2              0      1    NONE                    358                    0   \n",
       "3              0      0  BOTTOM                      0                    0   \n",
       "4              0      2  BOTTOM                      0                    0   \n",
       "\n",
       "   largestMultiKill  longestTimeSpentLiving  magicDamageDealt  \\\n",
       "0                 1                     312             20774   \n",
       "1                 1                     407             10589   \n",
       "2                 1                     281               148   \n",
       "3                 0                     690              8449   \n",
       "4                 1                     538              8924   \n",
       "\n",
       "   magicDamageDealtToChampions  magicDamageTaken  neutralMinionsKilled  \\\n",
       "0                         4743              6487                     0   \n",
       "1                         4457              4313                     0   \n",
       "2                            0              1678                     0   \n",
       "3                         5522              8327                     0   \n",
       "4                         6108              3112                     0   \n",
       "\n",
       "   nexusKills  nexusLost  objectivesStolen  objectivesStolenAssists  \\\n",
       "0           0        0.0                 0                        0   \n",
       "1           0        1.0                 0                        0   \n",
       "2           0        0.0                 0                        0   \n",
       "3           0        0.0                 0                        0   \n",
       "4           0        0.0                 0                        0   \n",
       "\n",
       "   participantId  pentaKills  physicalDamageDealt  \\\n",
       "0              5           0                10610   \n",
       "1              5           0                 5748   \n",
       "2              9           0                34032   \n",
       "3             10           0                 7874   \n",
       "4             10           0                 7045   \n",
       "\n",
       "   physicalDamageDealtToChampions  physicalDamageTaken  profileIcon  \\\n",
       "0                             731                 9696         4568   \n",
       "1                            1951                 6472         4568   \n",
       "2                            3541                 6081         4568   \n",
       "3                            1919                10809         4568   \n",
       "4                            2408                 7007         4568   \n",
       "\n",
       "                                               puuid  quadraKills     role  \\\n",
       "0  6zpHc103eNNhAt8xC6Ujhak476wF7TuTm4K4vrCU2Zuu9Y...            0    CARRY   \n",
       "1  6zpHc103eNNhAt8xC6Ujhak476wF7TuTm4K4vrCU2Zuu9Y...            0  SUPPORT   \n",
       "2  6zpHc103eNNhAt8xC6Ujhak476wF7TuTm4K4vrCU2Zuu9Y...            0  SUPPORT   \n",
       "3  6zpHc103eNNhAt8xC6Ujhak476wF7TuTm4K4vrCU2Zuu9Y...            0  SUPPORT   \n",
       "4  6zpHc103eNNhAt8xC6Ujhak476wF7TuTm4K4vrCU2Zuu9Y...            0     SOLO   \n",
       "\n",
       "   sightWardsBoughtInGame  spell1Casts  spell2Casts  spell3Casts  spell4Casts  \\\n",
       "0                       0           71            4           11            2   \n",
       "1                       0           50           17           21            9   \n",
       "2                       0           36           17            3           10   \n",
       "3                       0           71           46           24            9   \n",
       "4                       0           60           32           27            6   \n",
       "\n",
       "   summoner1Casts  summoner2Casts  \\\n",
       "0               3               4   \n",
       "1              13               4   \n",
       "2               2               3   \n",
       "3               5               5   \n",
       "4               4               5   \n",
       "\n",
       "                                         summonerId  summonerLevel  \\\n",
       "0  -wR2sAu8IN0jiLgjgGyDQsjpnyX5tSwTwZHcIE7L9aS1TbyQ            274   \n",
       "1  -wR2sAu8IN0jiLgjgGyDQsjpnyX5tSwTwZHcIE7L9aS1TbyQ            274   \n",
       "2  -wR2sAu8IN0jiLgjgGyDQsjpnyX5tSwTwZHcIE7L9aS1TbyQ            274   \n",
       "3  -wR2sAu8IN0jiLgjgGyDQsjpnyX5tSwTwZHcIE7L9aS1TbyQ            274   \n",
       "4  -wR2sAu8IN0jiLgjgGyDQsjpnyX5tSwTwZHcIE7L9aS1TbyQ            274   \n",
       "\n",
       "  summonerName  teamEarlySurrendered  teamId teamPosition  timeCCingOthers  \\\n",
       "0    From Iron                 False     100       BOTTOM               14   \n",
       "1    From Iron                 False     100      SUPPORT               46   \n",
       "2    From Iron                 False     200       BOTTOM                3   \n",
       "3    From Iron                 False     200      SUPPORT               60   \n",
       "4    From Iron                 False     200      SUPPORT               59   \n",
       "\n",
       "   timePlayed  totalDamageDealt  totalDamageDealtToChampions  \\\n",
       "0        1284             31384                         5475   \n",
       "1        1347             21927                         7026   \n",
       "2         912             34180                         3541   \n",
       "3        1841             21192                         8025   \n",
       "4        1383             22463                         9136   \n",
       "\n",
       "   totalDamageShieldedOnTeammates  totalDamageTaken  totalHeal  \\\n",
       "0                            1105             16532       2087   \n",
       "1                             671             11566         62   \n",
       "2                               0              8214       1718   \n",
       "3                            1644             19624       1203   \n",
       "4                             541             10449         19   \n",
       "\n",
       "   totalHealsOnTeammates  totalMinionsKilled  totalTimeCCDealt  \\\n",
       "0                      0                  98               105   \n",
       "1                      0                  43               246   \n",
       "2                    216                  99                 7   \n",
       "3                      0                  40               190   \n",
       "4                      0                  32               191   \n",
       "\n",
       "   totalTimeSpentDead  totalUnitsHealed  tripleKills  trueDamageDealt  \\\n",
       "0                 140                 1            0                0   \n",
       "1                  98                 1            0             5589   \n",
       "2                  75                 3            0                0   \n",
       "3                 212                 1            0             4868   \n",
       "4                  94                 1            0             6494   \n",
       "\n",
       "   trueDamageDealtToChampions  trueDamageTaken  turretKills  turretsLost  \\\n",
       "0                           0              349            0          0.0   \n",
       "1                         616              779            0          9.0   \n",
       "2                           0              454            0          3.0   \n",
       "3                         584              487            0          1.0   \n",
       "4                         619              329            0          1.0   \n",
       "\n",
       "   unrealKills  visionScore  visionWardsBoughtInGame  wardsKilled  \\\n",
       "0            0           16                        3            4   \n",
       "1            0           53                        8            6   \n",
       "2            0           18                        2            3   \n",
       "3            0           64                        9            8   \n",
       "4            0           52                        8            6   \n",
       "\n",
       "   wardsPlaced    win  \n",
       "0            9   True  \n",
       "1           31  False  \n",
       "2           10  False  \n",
       "3           35   True  \n",
       "4           21   True  "
      ],
      "text/html": "<div>\n<style scoped>\n    .dataframe tbody tr th:only-of-type {\n        vertical-align: middle;\n    }\n\n    .dataframe tbody tr th {\n        vertical-align: top;\n    }\n\n    .dataframe thead th {\n        text-align: right;\n    }\n</style>\n<table border=\"1\" class=\"dataframe\">\n  <thead>\n    <tr style=\"text-align: right;\">\n      <th></th>\n      <th>queueId</th>\n      <th>teamColor</th>\n      <th>matchId</th>\n      <th>assists</th>\n      <th>baronKills</th>\n      <th>bountyLevel</th>\n      <th>champExperience</th>\n      <th>champLevel</th>\n      <th>championId</th>\n      <th>championName</th>\n      <th>championTransform</th>\n      <th>consumablesPurchased</th>\n      <th>damageDealtToBuildings</th>\n      <th>damageDealtToObjectives</th>\n      <th>damageDealtToTurrets</th>\n      <th>damageSelfMitigated</th>\n      <th>deaths</th>\n      <th>detectorWardsPlaced</th>\n      <th>doubleKills</th>\n      <th>dragonKills</th>\n      <th>firstBloodAssist</th>\n      <th>firstBloodKill</th>\n      <th>firstTowerAssist</th>\n      <th>firstTowerKill</th>\n      <th>gameEndedInEarlySurrender</th>\n      <th>gameEndedInSurrender</th>\n      <th>goldEarned</th>\n      <th>goldSpent</th>\n      <th>individualPosition</th>\n      <th>inhibitorKills</th>\n      <th>inhibitorsLost</th>\n      <th>item0</th>\n      <th>item1</th>\n      <th>item2</th>\n      <th>item3</th>\n      <th>item4</th>\n      <th>item5</th>\n      <th>item6</th>\n      <th>itemsPurchased</th>\n      <th>killingSprees</th>\n      <th>kills</th>\n      <th>lane</th>\n      <th>largestCriticalStrike</th>\n      <th>largestKillingSpree</th>\n      <th>largestMultiKill</th>\n      <th>longestTimeSpentLiving</th>\n      <th>magicDamageDealt</th>\n      <th>magicDamageDealtToChampions</th>\n      <th>magicDamageTaken</th>\n      <th>neutralMinionsKilled</th>\n      <th>nexusKills</th>\n      <th>nexusLost</th>\n      <th>objectivesStolen</th>\n      <th>objectivesStolenAssists</th>\n      <th>participantId</th>\n      <th>pentaKills</th>\n      <th>physicalDamageDealt</th>\n      <th>physicalDamageDealtToChampions</th>\n      <th>physicalDamageTaken</th>\n      <th>profileIcon</th>\n      <th>puuid</th>\n      <th>quadraKills</th>\n      <th>role</th>\n      <th>sightWardsBoughtInGame</th>\n      <th>spell1Casts</th>\n      <th>spell2Casts</th>\n      <th>spell3Casts</th>\n      <th>spell4Casts</th>\n      <th>summoner1Casts</th>\n      <th>summoner2Casts</th>\n      <th>summonerId</th>\n      <th>summonerLevel</th>\n      <th>summonerName</th>\n      <th>teamEarlySurrendered</th>\n      <th>teamId</th>\n      <th>teamPosition</th>\n      <th>timeCCingOthers</th>\n      <th>timePlayed</th>\n      <th>totalDamageDealt</th>\n      <th>totalDamageDealtToChampions</th>\n      <th>totalDamageShieldedOnTeammates</th>\n      <th>totalDamageTaken</th>\n      <th>totalHeal</th>\n      <th>totalHealsOnTeammates</th>\n      <th>totalMinionsKilled</th>\n      <th>totalTimeCCDealt</th>\n      <th>totalTimeSpentDead</th>\n      <th>totalUnitsHealed</th>\n      <th>tripleKills</th>\n      <th>trueDamageDealt</th>\n      <th>trueDamageDealtToChampions</th>\n      <th>trueDamageTaken</th>\n      <th>turretKills</th>\n      <th>turretsLost</th>\n      <th>unrealKills</th>\n      <th>visionScore</th>\n      <th>visionWardsBoughtInGame</th>\n      <th>wardsKilled</th>\n      <th>wardsPlaced</th>\n      <th>win</th>\n    </tr>\n  </thead>\n  <tbody>\n    <tr>\n      <th>0</th>\n      <td>5V5 RANKED SOLO GAMES</td>\n      <td>Blue</td>\n      <td>3944288481</td>\n      <td>13</td>\n      <td>0</td>\n      <td>0</td>\n      <td>8243</td>\n      <td>11</td>\n      <td>223</td>\n      <td>TahmKench</td>\n      <td>0</td>\n      <td>7</td>\n      <td>488.0</td>\n      <td>1419</td>\n      <td>488</td>\n      <td>17878</td>\n      <td>6</td>\n      <td>3</td>\n      <td>0</td>\n      <td>0</td>\n      <td>False</td>\n      <td>False</td>\n      <td>False</td>\n      <td>False</td>\n      <td>False</td>\n      <td>True</td>\n      <td>7039</td>\n      <td>6425</td>\n      <td>BOTTOM</td>\n      <td>0</td>\n      <td>0.0</td>\n      <td>Doran's Shield</td>\n      <td>Sunfire Aegis</td>\n      <td>Plated Steelcaps</td>\n      <td>Kindlegem</td>\n      <td>Ruby Crystal</td>\n      <td>None</td>\n      <td>Stealth Ward</td>\n      <td>18</td>\n      <td>0</td>\n      <td>1</td>\n      <td>BOTTOM</td>\n      <td>0</td>\n      <td>0</td>\n      <td>1</td>\n      <td>312</td>\n      <td>20774</td>\n      <td>4743</td>\n      <td>6487</td>\n      <td>0</td>\n      <td>0</td>\n      <td>0.0</td>\n      <td>0</td>\n      <td>0</td>\n      <td>5</td>\n      <td>0</td>\n      <td>10610</td>\n      <td>731</td>\n      <td>9696</td>\n      <td>4568</td>\n      <td>6zpHc103eNNhAt8xC6Ujhak476wF7TuTm4K4vrCU2Zuu9Y...</td>\n      <td>0</td>\n      <td>CARRY</td>\n      <td>0</td>\n      <td>71</td>\n      <td>4</td>\n      <td>11</td>\n      <td>2</td>\n      <td>3</td>\n      <td>4</td>\n      <td>-wR2sAu8IN0jiLgjgGyDQsjpnyX5tSwTwZHcIE7L9aS1TbyQ</td>\n      <td>274</td>\n      <td>From Iron</td>\n      <td>False</td>\n      <td>100</td>\n      <td>BOTTOM</td>\n      <td>14</td>\n      <td>1284</td>\n      <td>31384</td>\n      <td>5475</td>\n      <td>1105</td>\n      <td>16532</td>\n      <td>2087</td>\n      <td>0</td>\n      <td>98</td>\n      <td>105</td>\n      <td>140</td>\n      <td>1</td>\n      <td>0</td>\n      <td>0</td>\n      <td>0</td>\n      <td>349</td>\n      <td>0</td>\n      <td>0.0</td>\n      <td>0</td>\n      <td>16</td>\n      <td>3</td>\n      <td>4</td>\n      <td>9</td>\n      <td>True</td>\n    </tr>\n    <tr>\n      <th>1</th>\n      <td>5V5 RANKED SOLO GAMES</td>\n      <td>Blue</td>\n      <td>3944251280</td>\n      <td>11</td>\n      <td>0</td>\n      <td>0</td>\n      <td>6578</td>\n      <td>10</td>\n      <td>111</td>\n      <td>Nautilus</td>\n      <td>0</td>\n      <td>10</td>\n      <td>0.0</td>\n      <td>174</td>\n      <td>0</td>\n      <td>16060</td>\n      <td>5</td>\n      <td>7</td>\n      <td>0</td>\n      <td>0</td>\n      <td>False</td>\n      <td>False</td>\n      <td>False</td>\n      <td>False</td>\n      <td>False</td>\n      <td>False</td>\n      <td>6099</td>\n      <td>6000</td>\n      <td>UTILITY</td>\n      <td>0</td>\n      <td>1.0</td>\n      <td>Plated Steelcaps</td>\n      <td>Locket of the Iron Solari</td>\n      <td>Bulwark of the Mountain</td>\n      <td>Cloth Armor</td>\n      <td>Warden's Mail</td>\n      <td>Control Ward</td>\n      <td>Oracle Lens</td>\n      <td>28</td>\n      <td>1</td>\n      <td>2</td>\n      <td>BOTTOM</td>\n      <td>0</td>\n      <td>2</td>\n      <td>1</td>\n      <td>407</td>\n      <td>10589</td>\n      <td>4457</td>\n      <td>4313</td>\n      <td>0</td>\n      <td>0</td>\n      <td>1.0</td>\n      <td>0</td>\n      <td>0</td>\n      <td>5</td>\n      <td>0</td>\n      <td>5748</td>\n      <td>1951</td>\n      <td>6472</td>\n      <td>4568</td>\n      <td>6zpHc103eNNhAt8xC6Ujhak476wF7TuTm4K4vrCU2Zuu9Y...</td>\n      <td>0</td>\n      <td>SUPPORT</td>\n      <td>0</td>\n      <td>50</td>\n      <td>17</td>\n      <td>21</td>\n      <td>9</td>\n      <td>13</td>\n      <td>4</td>\n      <td>-wR2sAu8IN0jiLgjgGyDQsjpnyX5tSwTwZHcIE7L9aS1TbyQ</td>\n      <td>274</td>\n      <td>From Iron</td>\n      <td>False</td>\n      <td>100</td>\n      <td>SUPPORT</td>\n      <td>46</td>\n      <td>1347</td>\n      <td>21927</td>\n      <td>7026</td>\n      <td>671</td>\n      <td>11566</td>\n      <td>62</td>\n      <td>0</td>\n      <td>43</td>\n      <td>246</td>\n      <td>98</td>\n      <td>1</td>\n      <td>0</td>\n      <td>5589</td>\n      <td>616</td>\n      <td>779</td>\n      <td>0</td>\n      <td>9.0</td>\n      <td>0</td>\n      <td>53</td>\n      <td>8</td>\n      <td>6</td>\n      <td>31</td>\n      <td>False</td>\n    </tr>\n    <tr>\n      <th>2</th>\n      <td>5V5 RANKED SOLO GAMES</td>\n      <td>Red</td>\n      <td>3944226110</td>\n      <td>0</td>\n      <td>0</td>\n      <td>0</td>\n      <td>4583</td>\n      <td>8</td>\n      <td>202</td>\n      <td>Jhin</td>\n      <td>0</td>\n      <td>6</td>\n      <td>0.0</td>\n      <td>0</td>\n      <td>0</td>\n      <td>3309</td>\n      <td>5</td>\n      <td>2</td>\n      <td>0</td>\n      <td>0</td>\n      <td>False</td>\n      <td>False</td>\n      <td>False</td>\n      <td>False</td>\n      <td>False</td>\n      <td>True</td>\n      <td>4305</td>\n      <td>3100</td>\n      <td>BOTTOM</td>\n      <td>0</td>\n      <td>0.0</td>\n      <td>Serrated Dirk</td>\n      <td>Refillable Potion</td>\n      <td>Boots</td>\n      <td>Vampiric Scepter</td>\n      <td>None</td>\n      <td>Long Sword</td>\n      <td>Stealth Ward</td>\n      <td>16</td>\n      <td>0</td>\n      <td>1</td>\n      <td>NONE</td>\n      <td>358</td>\n      <td>0</td>\n      <td>1</td>\n      <td>281</td>\n      <td>148</td>\n      <td>0</td>\n      <td>1678</td>\n      <td>0</td>\n      <td>0</td>\n      <td>0.0</td>\n      <td>0</td>\n      <td>0</td>\n      <td>9</td>\n      <td>0</td>\n      <td>34032</td>\n      <td>3541</td>\n      <td>6081</td>\n      <td>4568</td>\n      <td>6zpHc103eNNhAt8xC6Ujhak476wF7TuTm4K4vrCU2Zuu9Y...</td>\n      <td>0</td>\n      <td>SUPPORT</td>\n      <td>0</td>\n      <td>36</td>\n      <td>17</td>\n      <td>3</td>\n      <td>10</td>\n      <td>2</td>\n      <td>3</td>\n      <td>-wR2sAu8IN0jiLgjgGyDQsjpnyX5tSwTwZHcIE7L9aS1TbyQ</td>\n      <td>274</td>\n      <td>From Iron</td>\n      <td>False</td>\n      <td>200</td>\n      <td>BOTTOM</td>\n      <td>3</td>\n      <td>912</td>\n      <td>34180</td>\n      <td>3541</td>\n      <td>0</td>\n      <td>8214</td>\n      <td>1718</td>\n      <td>216</td>\n      <td>99</td>\n      <td>7</td>\n      <td>75</td>\n      <td>3</td>\n      <td>0</td>\n      <td>0</td>\n      <td>0</td>\n      <td>454</td>\n      <td>0</td>\n      <td>3.0</td>\n      <td>0</td>\n      <td>18</td>\n      <td>2</td>\n      <td>3</td>\n      <td>10</td>\n      <td>False</td>\n    </tr>\n    <tr>\n      <th>3</th>\n      <td>5V5 RANKED SOLO GAMES</td>\n      <td>Red</td>\n      <td>3941904096</td>\n      <td>20</td>\n      <td>0</td>\n      <td>0</td>\n      <td>10417</td>\n      <td>13</td>\n      <td>111</td>\n      <td>Nautilus</td>\n      <td>0</td>\n      <td>11</td>\n      <td>320.0</td>\n      <td>999</td>\n      <td>320</td>\n      <td>30781</td>\n      <td>7</td>\n      <td>8</td>\n      <td>0</td>\n      <td>0</td>\n      <td>False</td>\n      <td>False</td>\n      <td>False</td>\n      <td>False</td>\n      <td>False</td>\n      <td>False</td>\n      <td>7821</td>\n      <td>6575</td>\n      <td>UTILITY</td>\n      <td>0</td>\n      <td>0.0</td>\n      <td>Plated Steelcaps</td>\n      <td>Locket of the Iron Solari</td>\n      <td>Bulwark of the Mountain</td>\n      <td>Control Ward</td>\n      <td>Kindlegem</td>\n      <td>Warden's Mail</td>\n      <td>Oracle Lens</td>\n      <td>27</td>\n      <td>0</td>\n      <td>0</td>\n      <td>BOTTOM</td>\n      <td>0</td>\n      <td>0</td>\n      <td>0</td>\n      <td>690</td>\n      <td>8449</td>\n      <td>5522</td>\n      <td>8327</td>\n      <td>0</td>\n      <td>0</td>\n      <td>0.0</td>\n      <td>0</td>\n      <td>0</td>\n      <td>10</td>\n      <td>0</td>\n      <td>7874</td>\n      <td>1919</td>\n      <td>10809</td>\n      <td>4568</td>\n      <td>6zpHc103eNNhAt8xC6Ujhak476wF7TuTm4K4vrCU2Zuu9Y...</td>\n      <td>0</td>\n      <td>SUPPORT</td>\n      <td>0</td>\n      <td>71</td>\n      <td>46</td>\n      <td>24</td>\n      <td>9</td>\n      <td>5</td>\n      <td>5</td>\n      <td>-wR2sAu8IN0jiLgjgGyDQsjpnyX5tSwTwZHcIE7L9aS1TbyQ</td>\n      <td>274</td>\n      <td>From Iron</td>\n      <td>False</td>\n      <td>200</td>\n      <td>SUPPORT</td>\n      <td>60</td>\n      <td>1841</td>\n      <td>21192</td>\n      <td>8025</td>\n      <td>1644</td>\n      <td>19624</td>\n      <td>1203</td>\n      <td>0</td>\n      <td>40</td>\n      <td>190</td>\n      <td>212</td>\n      <td>1</td>\n      <td>0</td>\n      <td>4868</td>\n      <td>584</td>\n      <td>487</td>\n      <td>0</td>\n      <td>1.0</td>\n      <td>0</td>\n      <td>64</td>\n      <td>9</td>\n      <td>8</td>\n      <td>35</td>\n      <td>True</td>\n    </tr>\n    <tr>\n      <th>4</th>\n      <td>5V5 RANKED SOLO GAMES</td>\n      <td>Red</td>\n      <td>3941845033</td>\n      <td>18</td>\n      <td>0</td>\n      <td>1</td>\n      <td>8840</td>\n      <td>12</td>\n      <td>111</td>\n      <td>Nautilus</td>\n      <td>0</td>\n      <td>10</td>\n      <td>796.0</td>\n      <td>796</td>\n      <td>796</td>\n      <td>15092</td>\n      <td>4</td>\n      <td>6</td>\n      <td>0</td>\n      <td>0</td>\n      <td>False</td>\n      <td>False</td>\n      <td>False</td>\n      <td>False</td>\n      <td>False</td>\n      <td>False</td>\n      <td>7579</td>\n      <td>6050</td>\n      <td>UTILITY</td>\n      <td>0</td>\n      <td>0.0</td>\n      <td>Ruby Crystal</td>\n      <td>Locket of the Iron Solari</td>\n      <td>Bulwark of the Mountain</td>\n      <td>Control Ward</td>\n      <td>Bramble Vest</td>\n      <td>Plated Steelcaps</td>\n      <td>Oracle Lens</td>\n      <td>25</td>\n      <td>0</td>\n      <td>2</td>\n      <td>BOTTOM</td>\n      <td>0</td>\n      <td>0</td>\n      <td>1</td>\n      <td>538</td>\n      <td>8924</td>\n      <td>6108</td>\n      <td>3112</td>\n      <td>0</td>\n      <td>0</td>\n      <td>0.0</td>\n      <td>0</td>\n      <td>0</td>\n      <td>10</td>\n      <td>0</td>\n      <td>7045</td>\n      <td>2408</td>\n      <td>7007</td>\n      <td>4568</td>\n      <td>6zpHc103eNNhAt8xC6Ujhak476wF7TuTm4K4vrCU2Zuu9Y...</td>\n      <td>0</td>\n      <td>SOLO</td>\n      <td>0</td>\n      <td>60</td>\n      <td>32</td>\n      <td>27</td>\n      <td>6</td>\n      <td>4</td>\n      <td>5</td>\n      <td>-wR2sAu8IN0jiLgjgGyDQsjpnyX5tSwTwZHcIE7L9aS1TbyQ</td>\n      <td>274</td>\n      <td>From Iron</td>\n      <td>False</td>\n      <td>200</td>\n      <td>SUPPORT</td>\n      <td>59</td>\n      <td>1383</td>\n      <td>22463</td>\n      <td>9136</td>\n      <td>541</td>\n      <td>10449</td>\n      <td>19</td>\n      <td>0</td>\n      <td>32</td>\n      <td>191</td>\n      <td>94</td>\n      <td>1</td>\n      <td>0</td>\n      <td>6494</td>\n      <td>619</td>\n      <td>329</td>\n      <td>0</td>\n      <td>1.0</td>\n      <td>0</td>\n      <td>52</td>\n      <td>8</td>\n      <td>6</td>\n      <td>21</td>\n      <td>True</td>\n    </tr>\n  </tbody>\n</table>\n</div>"
     },
     "metadata": {},
     "execution_count": 42
    }
   ],
   "source": [
    "match_data_total_deduped.head()"
   ]
  },
  {
   "cell_type": "code",
   "execution_count": 43,
   "metadata": {},
   "outputs": [
    {
     "output_type": "execute_result",
     "data": {
      "text/plain": [
       "  teamPosition championName  sum  count  winRatio\n",
       "4       BOTTOM       Aatrox    0      1    0.0000\n",
       "5       BOTTOM     Aphelios   15     26    0.5769\n",
       "6       BOTTOM         Ashe   24     47    0.5106\n",
       "7       BOTTOM        Brand    2      2    1.0000\n",
       "8       BOTTOM      Caitlyn   13     30    0.4333"
      ],
      "text/html": "<div>\n<style scoped>\n    .dataframe tbody tr th:only-of-type {\n        vertical-align: middle;\n    }\n\n    .dataframe tbody tr th {\n        vertical-align: top;\n    }\n\n    .dataframe thead th {\n        text-align: right;\n    }\n</style>\n<table border=\"1\" class=\"dataframe\">\n  <thead>\n    <tr style=\"text-align: right;\">\n      <th></th>\n      <th>teamPosition</th>\n      <th>championName</th>\n      <th>sum</th>\n      <th>count</th>\n      <th>winRatio</th>\n    </tr>\n  </thead>\n  <tbody>\n    <tr>\n      <th>4</th>\n      <td>BOTTOM</td>\n      <td>Aatrox</td>\n      <td>0</td>\n      <td>1</td>\n      <td>0.0000</td>\n    </tr>\n    <tr>\n      <th>5</th>\n      <td>BOTTOM</td>\n      <td>Aphelios</td>\n      <td>15</td>\n      <td>26</td>\n      <td>0.5769</td>\n    </tr>\n    <tr>\n      <th>6</th>\n      <td>BOTTOM</td>\n      <td>Ashe</td>\n      <td>24</td>\n      <td>47</td>\n      <td>0.5106</td>\n    </tr>\n    <tr>\n      <th>7</th>\n      <td>BOTTOM</td>\n      <td>Brand</td>\n      <td>2</td>\n      <td>2</td>\n      <td>1.0000</td>\n    </tr>\n    <tr>\n      <th>8</th>\n      <td>BOTTOM</td>\n      <td>Caitlyn</td>\n      <td>13</td>\n      <td>30</td>\n      <td>0.4333</td>\n    </tr>\n  </tbody>\n</table>\n</div>"
     },
     "metadata": {},
     "execution_count": 43
    }
   ],
   "source": [
    "win_ratio_df = match_data_total_deduped.groupby(['teamPosition', 'championName']).agg({'win': ['sum', 'count']}).droplevel(0, axis = 1)\n",
    "win_ratio_df['winRatio'] = round(win_ratio_df['sum'] / win_ratio_df['count'], 4)\n",
    "win_ratio_df = win_ratio_df.reset_index()\n",
    "win_ratio_df = win_ratio_df.loc[win_ratio_df['teamPosition'] != 'AFK', ]\n",
    "win_ratio_df.head()"
   ]
  },
  {
   "cell_type": "code",
   "execution_count": 44,
   "metadata": {},
   "outputs": [],
   "source": [
    "win_ratio_df.groupby('teamPosition').mean()['count']\n",
    "bottom_avg_game_count = win_ratio_df.groupby('teamPosition').mean()['count']['BOTTOM']\n",
    "jung_avg_game_count = win_ratio_df.groupby('teamPosition').mean()['count']['JUNGLE']\n",
    "mid_avg_game_count = win_ratio_df.groupby('teamPosition').mean()['count']['MIDDLE']\n",
    "top_avg_game_count = win_ratio_df.groupby('teamPosition').mean()['count']['TOP']\n",
    "supp_avg_game_count = win_ratio_df.groupby('teamPosition').mean()['count']['SUPPORT']"
   ]
  },
  {
   "cell_type": "code",
   "execution_count": 45,
   "metadata": {},
   "outputs": [],
   "source": [
    "bottom_win_rates = win_ratio_df.loc[(win_ratio_df['teamPosition'] == 'BOTTOM') & (win_ratio_df['count'] >= bottom_avg_game_count), ].sort_values(by = 'winRatio', ascending = False).head(10)\n",
    "jung_win_rates = win_ratio_df.loc[(win_ratio_df['teamPosition'] == 'JUNGLE') & (win_ratio_df['count'] >= jung_avg_game_count), ].sort_values(by = 'winRatio', ascending = False).head(10)\n",
    "mid_win_rates = win_ratio_df.loc[(win_ratio_df['teamPosition'] == 'MIDDLE') & (win_ratio_df['count'] >= mid_avg_game_count), ].sort_values(by = 'winRatio', ascending = False).head(10)\n",
    "top_win_rates = win_ratio_df.loc[(win_ratio_df['teamPosition'] == 'TOP') & (win_ratio_df['count'] >= top_avg_game_count), ].sort_values(by = 'winRatio', ascending = False).head(10)\n",
    "supp_win_rates = win_ratio_df.loc[(win_ratio_df['teamPosition'] == 'SUPPORT') & (win_ratio_df['count'] >= supp_avg_game_count), ].sort_values(by = 'winRatio', ascending = False).head(10)\n",
    "\n",
    "win_rates_top_10 = pd.concat([bottom_win_rates, jung_win_rates, mid_win_rates, top_win_rates, supp_win_rates])\n",
    "win_rates_top_10['winRatio'] = round((win_rates_top_10['winRatio'] * 100), 1)\n"
   ]
  },
  {
   "cell_type": "code",
   "execution_count": 46,
   "metadata": {},
   "outputs": [],
   "source": [
    "def graph_top10_win_rates(data, lane):\n",
    "    data = data.loc[data['teamPosition'] == lane, ]\n",
    "    fig = px.bar(data, x = 'championName', y = 'winRatio', text = 'winRatio', color = 'winRatio', color_continuous_scale = px.colors.sequential.Emrld,\n",
    "                 labels = {'teamPosition': 'Position', 'winRatio': 'Win Percentage', 'championName': 'Champion'},\n",
    "                 title = f'Top 10 Win Rates for {lane.title()} Position')\n",
    "    fig.update_layout(\n",
    "        plot_bgcolor = 'rgb(0,0,0,0)',\n",
    "        paper_bgcolor = 'rgb(0,0,0,0)',\n",
    "        width = 800,\n",
    "        height = 600,\n",
    "        title_x = 0.5,\n",
    "        coloraxis_showscale = False,\n",
    "        )\n",
    "    fig.update_xaxes(categoryorder = 'total ascending')\n",
    "    fig.update_yaxes(ticksuffix = '%', visible = False)\n",
    "    fig.update_traces(texttemplate = '%{text}%', textposition = 'outside', insidetextanchor = 'end', \n",
    "                      textfont_color = '#000000', textfont_size = 14)\n",
    "\n",
    "    return fig"
   ]
  },
  {
   "cell_type": "code",
   "execution_count": 47,
   "metadata": {},
   "outputs": [],
   "source": [
    "team_positions = ['BOTTOM', 'SUPPORT', 'TOP', 'MIDDLE', 'JUNGLE']\n",
    "top_10_by_position = []\n",
    "for position in team_positions:\n",
    "    fig = graph_top10_win_rates(win_rates_top_10, position)\n",
    "    top_10_by_position.append(fig)"
   ]
  },
  {
   "cell_type": "code",
   "execution_count": 48,
   "metadata": {},
   "outputs": [
    {
     "output_type": "display_data",
     "data": {
      "text/html": "        <script type=\"text/javascript\">\n        window.PlotlyConfig = {MathJaxConfig: 'local'};\n        if (window.MathJax) {MathJax.Hub.Config({SVG: {font: \"STIX-Web\"}});}\n        if (typeof require !== 'undefined') {\n        require.undef(\"plotly\");\n        requirejs.config({\n            paths: {\n                'plotly': ['https://cdn.plot.ly/plotly-latest.min']\n            }\n        });\n        require(['plotly'], function(Plotly) {\n            window._Plotly = Plotly;\n        });\n        }\n        </script>\n        "
     },
     "metadata": {}
    },
    {
     "output_type": "display_data",
     "data": {
      "text/html": "<div>                            <div id=\"c498ab5c-0912-4744-b8ca-22db4026685c\" class=\"plotly-graph-div\" style=\"height:600px; width:800px;\"></div>            <script type=\"text/javascript\">                require([\"plotly\"], function(Plotly) {                    window.PLOTLYENV=window.PLOTLYENV || {};                                    if (document.getElementById(\"c498ab5c-0912-4744-b8ca-22db4026685c\")) {                    Plotly.newPlot(                        \"c498ab5c-0912-4744-b8ca-22db4026685c\",                        [{\"alignmentgroup\": \"True\", \"hovertemplate\": \"Champion=%{x}<br>Win Percentage=%{marker.color}<extra></extra>\", \"insidetextanchor\": \"end\", \"legendgroup\": \"\", \"marker\": {\"color\": [68.2, 60.4, 57.3, 56.6, 56.1, 55.7, 55.6, 54.1, 52.4, 51.9], \"coloraxis\": \"coloraxis\"}, \"name\": \"\", \"offsetgroup\": \"\", \"orientation\": \"v\", \"showlegend\": false, \"text\": [68.2, 60.4, 57.3, 56.6, 56.1, 55.7, 55.6, 54.1, 52.4, 51.9], \"textfont\": {\"color\": \"#000000\", \"size\": 14}, \"textposition\": \"outside\", \"texttemplate\": \"%{text}%\", \"type\": \"bar\", \"x\": [\"TahmKench\", \"Karthus\", \"Ezreal\", \"Tristana\", \"Samira\", \"Jinx\", \"KogMaw\", \"Swain\", \"Kaisa\", \"Sivir\"], \"xaxis\": \"x\", \"y\": [68.2, 60.4, 57.3, 56.6, 56.1, 55.7, 55.6, 54.1, 52.4, 51.9], \"yaxis\": \"y\"}],                        {\"barmode\": \"relative\", \"coloraxis\": {\"colorbar\": {\"title\": {\"text\": \"Win Percentage\"}}, \"colorscale\": [[0.0, \"rgb(211, 242, 163)\"], [0.16666666666666666, \"rgb(151, 225, 150)\"], [0.3333333333333333, \"rgb(108, 192, 139)\"], [0.5, \"rgb(76, 155, 130)\"], [0.6666666666666666, \"rgb(33, 122, 121)\"], [0.8333333333333334, \"rgb(16, 89, 101)\"], [1.0, \"rgb(7, 64, 80)\"]], \"showscale\": false}, \"height\": 600, \"legend\": {\"tracegroupgap\": 0}, \"paper_bgcolor\": \"rgb(0,0,0,0)\", \"plot_bgcolor\": \"rgb(0,0,0,0)\", \"template\": {\"data\": {\"bar\": [{\"error_x\": {\"color\": \"#2a3f5f\"}, \"error_y\": {\"color\": \"#2a3f5f\"}, \"marker\": {\"line\": {\"color\": \"#E5ECF6\", \"width\": 0.5}}, \"type\": \"bar\"}], \"barpolar\": [{\"marker\": {\"line\": {\"color\": \"#E5ECF6\", \"width\": 0.5}}, \"type\": \"barpolar\"}], \"carpet\": [{\"aaxis\": {\"endlinecolor\": \"#2a3f5f\", \"gridcolor\": \"white\", \"linecolor\": \"white\", \"minorgridcolor\": \"white\", \"startlinecolor\": \"#2a3f5f\"}, \"baxis\": {\"endlinecolor\": \"#2a3f5f\", \"gridcolor\": \"white\", \"linecolor\": \"white\", \"minorgridcolor\": \"white\", \"startlinecolor\": \"#2a3f5f\"}, \"type\": \"carpet\"}], \"choropleth\": [{\"colorbar\": {\"outlinewidth\": 0, \"ticks\": \"\"}, \"type\": \"choropleth\"}], \"contour\": [{\"colorbar\": {\"outlinewidth\": 0, \"ticks\": \"\"}, \"colorscale\": [[0.0, \"#0d0887\"], [0.1111111111111111, \"#46039f\"], [0.2222222222222222, \"#7201a8\"], [0.3333333333333333, \"#9c179e\"], [0.4444444444444444, \"#bd3786\"], [0.5555555555555556, \"#d8576b\"], [0.6666666666666666, \"#ed7953\"], [0.7777777777777778, \"#fb9f3a\"], [0.8888888888888888, \"#fdca26\"], [1.0, \"#f0f921\"]], \"type\": \"contour\"}], \"contourcarpet\": [{\"colorbar\": {\"outlinewidth\": 0, \"ticks\": \"\"}, \"type\": \"contourcarpet\"}], \"heatmap\": [{\"colorbar\": {\"outlinewidth\": 0, \"ticks\": \"\"}, \"colorscale\": [[0.0, \"#0d0887\"], [0.1111111111111111, \"#46039f\"], [0.2222222222222222, \"#7201a8\"], [0.3333333333333333, \"#9c179e\"], [0.4444444444444444, \"#bd3786\"], [0.5555555555555556, \"#d8576b\"], [0.6666666666666666, \"#ed7953\"], [0.7777777777777778, \"#fb9f3a\"], [0.8888888888888888, \"#fdca26\"], [1.0, \"#f0f921\"]], \"type\": \"heatmap\"}], \"heatmapgl\": [{\"colorbar\": {\"outlinewidth\": 0, \"ticks\": \"\"}, \"colorscale\": [[0.0, \"#0d0887\"], [0.1111111111111111, \"#46039f\"], [0.2222222222222222, \"#7201a8\"], [0.3333333333333333, \"#9c179e\"], [0.4444444444444444, \"#bd3786\"], [0.5555555555555556, \"#d8576b\"], [0.6666666666666666, \"#ed7953\"], [0.7777777777777778, \"#fb9f3a\"], [0.8888888888888888, \"#fdca26\"], [1.0, \"#f0f921\"]], \"type\": \"heatmapgl\"}], \"histogram\": [{\"marker\": {\"colorbar\": {\"outlinewidth\": 0, \"ticks\": \"\"}}, \"type\": \"histogram\"}], \"histogram2d\": [{\"colorbar\": {\"outlinewidth\": 0, \"ticks\": \"\"}, \"colorscale\": [[0.0, \"#0d0887\"], [0.1111111111111111, \"#46039f\"], [0.2222222222222222, \"#7201a8\"], [0.3333333333333333, \"#9c179e\"], [0.4444444444444444, \"#bd3786\"], [0.5555555555555556, \"#d8576b\"], [0.6666666666666666, \"#ed7953\"], [0.7777777777777778, \"#fb9f3a\"], [0.8888888888888888, \"#fdca26\"], [1.0, \"#f0f921\"]], \"type\": \"histogram2d\"}], \"histogram2dcontour\": [{\"colorbar\": {\"outlinewidth\": 0, \"ticks\": \"\"}, \"colorscale\": [[0.0, \"#0d0887\"], [0.1111111111111111, \"#46039f\"], [0.2222222222222222, \"#7201a8\"], [0.3333333333333333, \"#9c179e\"], [0.4444444444444444, \"#bd3786\"], [0.5555555555555556, \"#d8576b\"], [0.6666666666666666, \"#ed7953\"], [0.7777777777777778, \"#fb9f3a\"], [0.8888888888888888, \"#fdca26\"], [1.0, \"#f0f921\"]], \"type\": \"histogram2dcontour\"}], \"mesh3d\": [{\"colorbar\": {\"outlinewidth\": 0, \"ticks\": \"\"}, \"type\": \"mesh3d\"}], \"parcoords\": [{\"line\": {\"colorbar\": {\"outlinewidth\": 0, \"ticks\": \"\"}}, \"type\": \"parcoords\"}], \"pie\": [{\"automargin\": true, \"type\": \"pie\"}], \"scatter\": [{\"marker\": {\"colorbar\": {\"outlinewidth\": 0, \"ticks\": \"\"}}, \"type\": \"scatter\"}], \"scatter3d\": [{\"line\": {\"colorbar\": {\"outlinewidth\": 0, \"ticks\": \"\"}}, \"marker\": {\"colorbar\": {\"outlinewidth\": 0, \"ticks\": \"\"}}, \"type\": \"scatter3d\"}], \"scattercarpet\": [{\"marker\": {\"colorbar\": {\"outlinewidth\": 0, \"ticks\": \"\"}}, \"type\": \"scattercarpet\"}], \"scattergeo\": [{\"marker\": {\"colorbar\": {\"outlinewidth\": 0, \"ticks\": \"\"}}, \"type\": \"scattergeo\"}], \"scattergl\": [{\"marker\": {\"colorbar\": {\"outlinewidth\": 0, \"ticks\": \"\"}}, \"type\": \"scattergl\"}], \"scattermapbox\": [{\"marker\": {\"colorbar\": {\"outlinewidth\": 0, \"ticks\": \"\"}}, \"type\": \"scattermapbox\"}], \"scatterpolar\": [{\"marker\": {\"colorbar\": {\"outlinewidth\": 0, \"ticks\": \"\"}}, \"type\": \"scatterpolar\"}], \"scatterpolargl\": [{\"marker\": {\"colorbar\": {\"outlinewidth\": 0, \"ticks\": \"\"}}, \"type\": \"scatterpolargl\"}], \"scatterternary\": [{\"marker\": {\"colorbar\": {\"outlinewidth\": 0, \"ticks\": \"\"}}, \"type\": \"scatterternary\"}], \"surface\": [{\"colorbar\": {\"outlinewidth\": 0, \"ticks\": \"\"}, \"colorscale\": [[0.0, \"#0d0887\"], [0.1111111111111111, \"#46039f\"], [0.2222222222222222, \"#7201a8\"], [0.3333333333333333, \"#9c179e\"], [0.4444444444444444, \"#bd3786\"], [0.5555555555555556, \"#d8576b\"], [0.6666666666666666, \"#ed7953\"], [0.7777777777777778, \"#fb9f3a\"], [0.8888888888888888, \"#fdca26\"], [1.0, \"#f0f921\"]], \"type\": \"surface\"}], \"table\": [{\"cells\": {\"fill\": {\"color\": \"#EBF0F8\"}, \"line\": {\"color\": \"white\"}}, \"header\": {\"fill\": {\"color\": \"#C8D4E3\"}, \"line\": {\"color\": \"white\"}}, \"type\": \"table\"}]}, \"layout\": {\"annotationdefaults\": {\"arrowcolor\": \"#2a3f5f\", \"arrowhead\": 0, \"arrowwidth\": 1}, \"autotypenumbers\": \"strict\", \"coloraxis\": {\"colorbar\": {\"outlinewidth\": 0, \"ticks\": \"\"}}, \"colorscale\": {\"diverging\": [[0, \"#8e0152\"], [0.1, \"#c51b7d\"], [0.2, \"#de77ae\"], [0.3, \"#f1b6da\"], [0.4, \"#fde0ef\"], [0.5, \"#f7f7f7\"], [0.6, \"#e6f5d0\"], [0.7, \"#b8e186\"], [0.8, \"#7fbc41\"], [0.9, \"#4d9221\"], [1, \"#276419\"]], \"sequential\": [[0.0, \"#0d0887\"], [0.1111111111111111, \"#46039f\"], [0.2222222222222222, \"#7201a8\"], [0.3333333333333333, \"#9c179e\"], [0.4444444444444444, \"#bd3786\"], [0.5555555555555556, \"#d8576b\"], [0.6666666666666666, \"#ed7953\"], [0.7777777777777778, \"#fb9f3a\"], [0.8888888888888888, \"#fdca26\"], [1.0, \"#f0f921\"]], \"sequentialminus\": [[0.0, \"#0d0887\"], [0.1111111111111111, \"#46039f\"], [0.2222222222222222, \"#7201a8\"], [0.3333333333333333, \"#9c179e\"], [0.4444444444444444, \"#bd3786\"], [0.5555555555555556, \"#d8576b\"], [0.6666666666666666, \"#ed7953\"], [0.7777777777777778, \"#fb9f3a\"], [0.8888888888888888, \"#fdca26\"], [1.0, \"#f0f921\"]]}, \"colorway\": [\"#636efa\", \"#EF553B\", \"#00cc96\", \"#ab63fa\", \"#FFA15A\", \"#19d3f3\", \"#FF6692\", \"#B6E880\", \"#FF97FF\", \"#FECB52\"], \"font\": {\"color\": \"#2a3f5f\"}, \"geo\": {\"bgcolor\": \"white\", \"lakecolor\": \"white\", \"landcolor\": \"#E5ECF6\", \"showlakes\": true, \"showland\": true, \"subunitcolor\": \"white\"}, \"hoverlabel\": {\"align\": \"left\"}, \"hovermode\": \"closest\", \"mapbox\": {\"style\": \"light\"}, \"paper_bgcolor\": \"white\", \"plot_bgcolor\": \"#E5ECF6\", \"polar\": {\"angularaxis\": {\"gridcolor\": \"white\", \"linecolor\": \"white\", \"ticks\": \"\"}, \"bgcolor\": \"#E5ECF6\", \"radialaxis\": {\"gridcolor\": \"white\", \"linecolor\": \"white\", \"ticks\": \"\"}}, \"scene\": {\"xaxis\": {\"backgroundcolor\": \"#E5ECF6\", \"gridcolor\": \"white\", \"gridwidth\": 2, \"linecolor\": \"white\", \"showbackground\": true, \"ticks\": \"\", \"zerolinecolor\": \"white\"}, \"yaxis\": {\"backgroundcolor\": \"#E5ECF6\", \"gridcolor\": \"white\", \"gridwidth\": 2, \"linecolor\": \"white\", \"showbackground\": true, \"ticks\": \"\", \"zerolinecolor\": \"white\"}, \"zaxis\": {\"backgroundcolor\": \"#E5ECF6\", \"gridcolor\": \"white\", \"gridwidth\": 2, \"linecolor\": \"white\", \"showbackground\": true, \"ticks\": \"\", \"zerolinecolor\": \"white\"}}, \"shapedefaults\": {\"line\": {\"color\": \"#2a3f5f\"}}, \"ternary\": {\"aaxis\": {\"gridcolor\": \"white\", \"linecolor\": \"white\", \"ticks\": \"\"}, \"baxis\": {\"gridcolor\": \"white\", \"linecolor\": \"white\", \"ticks\": \"\"}, \"bgcolor\": \"#E5ECF6\", \"caxis\": {\"gridcolor\": \"white\", \"linecolor\": \"white\", \"ticks\": \"\"}}, \"title\": {\"x\": 0.05}, \"xaxis\": {\"automargin\": true, \"gridcolor\": \"white\", \"linecolor\": \"white\", \"ticks\": \"\", \"title\": {\"standoff\": 15}, \"zerolinecolor\": \"white\", \"zerolinewidth\": 2}, \"yaxis\": {\"automargin\": true, \"gridcolor\": \"white\", \"linecolor\": \"white\", \"ticks\": \"\", \"title\": {\"standoff\": 15}, \"zerolinecolor\": \"white\", \"zerolinewidth\": 2}}}, \"title\": {\"text\": \"Top 10 Win Rates for Bottom Position\", \"x\": 0.5}, \"width\": 800, \"xaxis\": {\"anchor\": \"y\", \"categoryorder\": \"total ascending\", \"domain\": [0.0, 1.0], \"title\": {\"text\": \"Champion\"}}, \"yaxis\": {\"anchor\": \"x\", \"domain\": [0.0, 1.0], \"ticksuffix\": \"%\", \"title\": {\"text\": \"Win Percentage\"}, \"visible\": false}},                        {\"responsive\": true}                    ).then(function(){\n                            \nvar gd = document.getElementById('c498ab5c-0912-4744-b8ca-22db4026685c');\nvar x = new MutationObserver(function (mutations, observer) {{\n        var display = window.getComputedStyle(gd).display;\n        if (!display || display === 'none') {{\n            console.log([gd, 'removed!']);\n            Plotly.purge(gd);\n            observer.disconnect();\n        }}\n}});\n\n// Listen for the removal of the full notebook cells\nvar notebookContainer = gd.closest('#notebook-container');\nif (notebookContainer) {{\n    x.observe(notebookContainer, {childList: true});\n}}\n\n// Listen for the clearing of the current output cell\nvar outputEl = gd.closest('.output');\nif (outputEl) {{\n    x.observe(outputEl, {childList: true});\n}}\n\n                        })                };                });            </script>        </div>"
     },
     "metadata": {}
    },
    {
     "output_type": "display_data",
     "data": {
      "text/html": "        <script type=\"text/javascript\">\n        window.PlotlyConfig = {MathJaxConfig: 'local'};\n        if (window.MathJax) {MathJax.Hub.Config({SVG: {font: \"STIX-Web\"}});}\n        if (typeof require !== 'undefined') {\n        require.undef(\"plotly\");\n        requirejs.config({\n            paths: {\n                'plotly': ['https://cdn.plot.ly/plotly-latest.min']\n            }\n        });\n        require(['plotly'], function(Plotly) {\n            window._Plotly = Plotly;\n        });\n        }\n        </script>\n        "
     },
     "metadata": {}
    },
    {
     "output_type": "display_data",
     "data": {
      "text/html": "<div>                            <div id=\"1f18245f-fb48-420c-81a6-57a8e1e2a58a\" class=\"plotly-graph-div\" style=\"height:600px; width:800px;\"></div>            <script type=\"text/javascript\">                require([\"plotly\"], function(Plotly) {                    window.PLOTLYENV=window.PLOTLYENV || {};                                    if (document.getElementById(\"1f18245f-fb48-420c-81a6-57a8e1e2a58a\")) {                    Plotly.newPlot(                        \"1f18245f-fb48-420c-81a6-57a8e1e2a58a\",                        [{\"alignmentgroup\": \"True\", \"hovertemplate\": \"Champion=%{x}<br>Win Percentage=%{marker.color}<extra></extra>\", \"insidetextanchor\": \"end\", \"legendgroup\": \"\", \"marker\": {\"color\": [60.7, 60.0, 59.2, 58.3, 57.1, 56.4, 55.9, 55.8, 55.1, 53.6], \"coloraxis\": \"coloraxis\"}, \"name\": \"\", \"offsetgroup\": \"\", \"orientation\": \"v\", \"showlegend\": false, \"text\": [60.7, 60.0, 59.2, 58.3, 57.1, 56.4, 55.9, 55.8, 55.1, 53.6], \"textfont\": {\"color\": \"#000000\", \"size\": 14}, \"textposition\": \"outside\", \"texttemplate\": \"%{text}%\", \"type\": \"bar\", \"x\": [\"Thresh\", \"Lulu\", \"Rell\", \"Senna\", \"Bard\", \"Gragas\", \"Blitzcrank\", \"Leona\", \"Alistar\", \"Rakan\"], \"xaxis\": \"x\", \"y\": [60.7, 60.0, 59.2, 58.3, 57.1, 56.4, 55.9, 55.8, 55.1, 53.6], \"yaxis\": \"y\"}],                        {\"barmode\": \"relative\", \"coloraxis\": {\"colorbar\": {\"title\": {\"text\": \"Win Percentage\"}}, \"colorscale\": [[0.0, \"rgb(211, 242, 163)\"], [0.16666666666666666, \"rgb(151, 225, 150)\"], [0.3333333333333333, \"rgb(108, 192, 139)\"], [0.5, \"rgb(76, 155, 130)\"], [0.6666666666666666, \"rgb(33, 122, 121)\"], [0.8333333333333334, \"rgb(16, 89, 101)\"], [1.0, \"rgb(7, 64, 80)\"]], \"showscale\": false}, \"height\": 600, \"legend\": {\"tracegroupgap\": 0}, \"paper_bgcolor\": \"rgb(0,0,0,0)\", \"plot_bgcolor\": \"rgb(0,0,0,0)\", \"template\": {\"data\": {\"bar\": [{\"error_x\": {\"color\": \"#2a3f5f\"}, \"error_y\": {\"color\": \"#2a3f5f\"}, \"marker\": {\"line\": {\"color\": \"#E5ECF6\", \"width\": 0.5}}, \"type\": \"bar\"}], \"barpolar\": [{\"marker\": {\"line\": {\"color\": \"#E5ECF6\", \"width\": 0.5}}, \"type\": \"barpolar\"}], \"carpet\": [{\"aaxis\": {\"endlinecolor\": \"#2a3f5f\", \"gridcolor\": \"white\", \"linecolor\": \"white\", \"minorgridcolor\": \"white\", \"startlinecolor\": \"#2a3f5f\"}, \"baxis\": {\"endlinecolor\": \"#2a3f5f\", \"gridcolor\": \"white\", \"linecolor\": \"white\", \"minorgridcolor\": \"white\", \"startlinecolor\": \"#2a3f5f\"}, \"type\": \"carpet\"}], \"choropleth\": [{\"colorbar\": {\"outlinewidth\": 0, \"ticks\": \"\"}, \"type\": \"choropleth\"}], \"contour\": [{\"colorbar\": {\"outlinewidth\": 0, \"ticks\": \"\"}, \"colorscale\": [[0.0, \"#0d0887\"], [0.1111111111111111, \"#46039f\"], [0.2222222222222222, \"#7201a8\"], [0.3333333333333333, \"#9c179e\"], [0.4444444444444444, \"#bd3786\"], [0.5555555555555556, \"#d8576b\"], [0.6666666666666666, \"#ed7953\"], [0.7777777777777778, \"#fb9f3a\"], [0.8888888888888888, \"#fdca26\"], [1.0, \"#f0f921\"]], \"type\": \"contour\"}], \"contourcarpet\": [{\"colorbar\": {\"outlinewidth\": 0, \"ticks\": \"\"}, \"type\": \"contourcarpet\"}], \"heatmap\": [{\"colorbar\": {\"outlinewidth\": 0, \"ticks\": \"\"}, \"colorscale\": [[0.0, \"#0d0887\"], [0.1111111111111111, \"#46039f\"], [0.2222222222222222, \"#7201a8\"], [0.3333333333333333, \"#9c179e\"], [0.4444444444444444, \"#bd3786\"], [0.5555555555555556, \"#d8576b\"], [0.6666666666666666, \"#ed7953\"], [0.7777777777777778, \"#fb9f3a\"], [0.8888888888888888, \"#fdca26\"], [1.0, \"#f0f921\"]], \"type\": \"heatmap\"}], \"heatmapgl\": [{\"colorbar\": {\"outlinewidth\": 0, \"ticks\": \"\"}, \"colorscale\": [[0.0, \"#0d0887\"], [0.1111111111111111, \"#46039f\"], [0.2222222222222222, \"#7201a8\"], [0.3333333333333333, \"#9c179e\"], [0.4444444444444444, \"#bd3786\"], [0.5555555555555556, \"#d8576b\"], [0.6666666666666666, \"#ed7953\"], [0.7777777777777778, \"#fb9f3a\"], [0.8888888888888888, \"#fdca26\"], [1.0, \"#f0f921\"]], \"type\": \"heatmapgl\"}], \"histogram\": [{\"marker\": {\"colorbar\": {\"outlinewidth\": 0, \"ticks\": \"\"}}, \"type\": \"histogram\"}], \"histogram2d\": [{\"colorbar\": {\"outlinewidth\": 0, \"ticks\": \"\"}, \"colorscale\": [[0.0, \"#0d0887\"], [0.1111111111111111, \"#46039f\"], [0.2222222222222222, \"#7201a8\"], [0.3333333333333333, \"#9c179e\"], [0.4444444444444444, \"#bd3786\"], [0.5555555555555556, \"#d8576b\"], [0.6666666666666666, \"#ed7953\"], [0.7777777777777778, \"#fb9f3a\"], [0.8888888888888888, \"#fdca26\"], [1.0, \"#f0f921\"]], \"type\": \"histogram2d\"}], \"histogram2dcontour\": [{\"colorbar\": {\"outlinewidth\": 0, \"ticks\": \"\"}, \"colorscale\": [[0.0, \"#0d0887\"], [0.1111111111111111, \"#46039f\"], [0.2222222222222222, \"#7201a8\"], [0.3333333333333333, \"#9c179e\"], [0.4444444444444444, \"#bd3786\"], [0.5555555555555556, \"#d8576b\"], [0.6666666666666666, \"#ed7953\"], [0.7777777777777778, \"#fb9f3a\"], [0.8888888888888888, \"#fdca26\"], [1.0, \"#f0f921\"]], \"type\": \"histogram2dcontour\"}], \"mesh3d\": [{\"colorbar\": {\"outlinewidth\": 0, \"ticks\": \"\"}, \"type\": \"mesh3d\"}], \"parcoords\": [{\"line\": {\"colorbar\": {\"outlinewidth\": 0, \"ticks\": \"\"}}, \"type\": \"parcoords\"}], \"pie\": [{\"automargin\": true, \"type\": \"pie\"}], \"scatter\": [{\"marker\": {\"colorbar\": {\"outlinewidth\": 0, \"ticks\": \"\"}}, \"type\": \"scatter\"}], \"scatter3d\": [{\"line\": {\"colorbar\": {\"outlinewidth\": 0, \"ticks\": \"\"}}, \"marker\": {\"colorbar\": {\"outlinewidth\": 0, \"ticks\": \"\"}}, \"type\": \"scatter3d\"}], \"scattercarpet\": [{\"marker\": {\"colorbar\": {\"outlinewidth\": 0, \"ticks\": \"\"}}, \"type\": \"scattercarpet\"}], \"scattergeo\": [{\"marker\": {\"colorbar\": {\"outlinewidth\": 0, \"ticks\": \"\"}}, \"type\": \"scattergeo\"}], \"scattergl\": [{\"marker\": {\"colorbar\": {\"outlinewidth\": 0, \"ticks\": \"\"}}, \"type\": \"scattergl\"}], \"scattermapbox\": [{\"marker\": {\"colorbar\": {\"outlinewidth\": 0, \"ticks\": \"\"}}, \"type\": \"scattermapbox\"}], \"scatterpolar\": [{\"marker\": {\"colorbar\": {\"outlinewidth\": 0, \"ticks\": \"\"}}, \"type\": \"scatterpolar\"}], \"scatterpolargl\": [{\"marker\": {\"colorbar\": {\"outlinewidth\": 0, \"ticks\": \"\"}}, \"type\": \"scatterpolargl\"}], \"scatterternary\": [{\"marker\": {\"colorbar\": {\"outlinewidth\": 0, \"ticks\": \"\"}}, \"type\": \"scatterternary\"}], \"surface\": [{\"colorbar\": {\"outlinewidth\": 0, \"ticks\": \"\"}, \"colorscale\": [[0.0, \"#0d0887\"], [0.1111111111111111, \"#46039f\"], [0.2222222222222222, \"#7201a8\"], [0.3333333333333333, \"#9c179e\"], [0.4444444444444444, \"#bd3786\"], [0.5555555555555556, \"#d8576b\"], [0.6666666666666666, \"#ed7953\"], [0.7777777777777778, \"#fb9f3a\"], [0.8888888888888888, \"#fdca26\"], [1.0, \"#f0f921\"]], \"type\": \"surface\"}], \"table\": [{\"cells\": {\"fill\": {\"color\": \"#EBF0F8\"}, \"line\": {\"color\": \"white\"}}, \"header\": {\"fill\": {\"color\": \"#C8D4E3\"}, \"line\": {\"color\": \"white\"}}, \"type\": \"table\"}]}, \"layout\": {\"annotationdefaults\": {\"arrowcolor\": \"#2a3f5f\", \"arrowhead\": 0, \"arrowwidth\": 1}, \"autotypenumbers\": \"strict\", \"coloraxis\": {\"colorbar\": {\"outlinewidth\": 0, \"ticks\": \"\"}}, \"colorscale\": {\"diverging\": [[0, \"#8e0152\"], [0.1, \"#c51b7d\"], [0.2, \"#de77ae\"], [0.3, \"#f1b6da\"], [0.4, \"#fde0ef\"], [0.5, \"#f7f7f7\"], [0.6, \"#e6f5d0\"], [0.7, \"#b8e186\"], [0.8, \"#7fbc41\"], [0.9, \"#4d9221\"], [1, \"#276419\"]], \"sequential\": [[0.0, \"#0d0887\"], [0.1111111111111111, \"#46039f\"], [0.2222222222222222, \"#7201a8\"], [0.3333333333333333, \"#9c179e\"], [0.4444444444444444, \"#bd3786\"], [0.5555555555555556, \"#d8576b\"], [0.6666666666666666, \"#ed7953\"], [0.7777777777777778, \"#fb9f3a\"], [0.8888888888888888, \"#fdca26\"], [1.0, \"#f0f921\"]], \"sequentialminus\": [[0.0, \"#0d0887\"], [0.1111111111111111, \"#46039f\"], [0.2222222222222222, \"#7201a8\"], [0.3333333333333333, \"#9c179e\"], [0.4444444444444444, \"#bd3786\"], [0.5555555555555556, \"#d8576b\"], [0.6666666666666666, \"#ed7953\"], [0.7777777777777778, \"#fb9f3a\"], [0.8888888888888888, \"#fdca26\"], [1.0, \"#f0f921\"]]}, \"colorway\": [\"#636efa\", \"#EF553B\", \"#00cc96\", \"#ab63fa\", \"#FFA15A\", \"#19d3f3\", \"#FF6692\", \"#B6E880\", \"#FF97FF\", \"#FECB52\"], \"font\": {\"color\": \"#2a3f5f\"}, \"geo\": {\"bgcolor\": \"white\", \"lakecolor\": \"white\", \"landcolor\": \"#E5ECF6\", \"showlakes\": true, \"showland\": true, \"subunitcolor\": \"white\"}, \"hoverlabel\": {\"align\": \"left\"}, \"hovermode\": \"closest\", \"mapbox\": {\"style\": \"light\"}, \"paper_bgcolor\": \"white\", \"plot_bgcolor\": \"#E5ECF6\", \"polar\": {\"angularaxis\": {\"gridcolor\": \"white\", \"linecolor\": \"white\", \"ticks\": \"\"}, \"bgcolor\": \"#E5ECF6\", \"radialaxis\": {\"gridcolor\": \"white\", \"linecolor\": \"white\", \"ticks\": \"\"}}, \"scene\": {\"xaxis\": {\"backgroundcolor\": \"#E5ECF6\", \"gridcolor\": \"white\", \"gridwidth\": 2, \"linecolor\": \"white\", \"showbackground\": true, \"ticks\": \"\", \"zerolinecolor\": \"white\"}, \"yaxis\": {\"backgroundcolor\": \"#E5ECF6\", \"gridcolor\": \"white\", \"gridwidth\": 2, \"linecolor\": \"white\", \"showbackground\": true, \"ticks\": \"\", \"zerolinecolor\": \"white\"}, \"zaxis\": {\"backgroundcolor\": \"#E5ECF6\", \"gridcolor\": \"white\", \"gridwidth\": 2, \"linecolor\": \"white\", \"showbackground\": true, \"ticks\": \"\", \"zerolinecolor\": \"white\"}}, \"shapedefaults\": {\"line\": {\"color\": \"#2a3f5f\"}}, \"ternary\": {\"aaxis\": {\"gridcolor\": \"white\", \"linecolor\": \"white\", \"ticks\": \"\"}, \"baxis\": {\"gridcolor\": \"white\", \"linecolor\": \"white\", \"ticks\": \"\"}, \"bgcolor\": \"#E5ECF6\", \"caxis\": {\"gridcolor\": \"white\", \"linecolor\": \"white\", \"ticks\": \"\"}}, \"title\": {\"x\": 0.05}, \"xaxis\": {\"automargin\": true, \"gridcolor\": \"white\", \"linecolor\": \"white\", \"ticks\": \"\", \"title\": {\"standoff\": 15}, \"zerolinecolor\": \"white\", \"zerolinewidth\": 2}, \"yaxis\": {\"automargin\": true, \"gridcolor\": \"white\", \"linecolor\": \"white\", \"ticks\": \"\", \"title\": {\"standoff\": 15}, \"zerolinecolor\": \"white\", \"zerolinewidth\": 2}}}, \"title\": {\"text\": \"Top 10 Win Rates for Support Position\", \"x\": 0.5}, \"width\": 800, \"xaxis\": {\"anchor\": \"y\", \"categoryorder\": \"total ascending\", \"domain\": [0.0, 1.0], \"title\": {\"text\": \"Champion\"}}, \"yaxis\": {\"anchor\": \"x\", \"domain\": [0.0, 1.0], \"ticksuffix\": \"%\", \"title\": {\"text\": \"Win Percentage\"}, \"visible\": false}},                        {\"responsive\": true}                    ).then(function(){\n                            \nvar gd = document.getElementById('1f18245f-fb48-420c-81a6-57a8e1e2a58a');\nvar x = new MutationObserver(function (mutations, observer) {{\n        var display = window.getComputedStyle(gd).display;\n        if (!display || display === 'none') {{\n            console.log([gd, 'removed!']);\n            Plotly.purge(gd);\n            observer.disconnect();\n        }}\n}});\n\n// Listen for the removal of the full notebook cells\nvar notebookContainer = gd.closest('#notebook-container');\nif (notebookContainer) {{\n    x.observe(notebookContainer, {childList: true});\n}}\n\n// Listen for the clearing of the current output cell\nvar outputEl = gd.closest('.output');\nif (outputEl) {{\n    x.observe(outputEl, {childList: true});\n}}\n\n                        })                };                });            </script>        </div>"
     },
     "metadata": {}
    },
    {
     "output_type": "display_data",
     "data": {
      "text/html": "        <script type=\"text/javascript\">\n        window.PlotlyConfig = {MathJaxConfig: 'local'};\n        if (window.MathJax) {MathJax.Hub.Config({SVG: {font: \"STIX-Web\"}});}\n        if (typeof require !== 'undefined') {\n        require.undef(\"plotly\");\n        requirejs.config({\n            paths: {\n                'plotly': ['https://cdn.plot.ly/plotly-latest.min']\n            }\n        });\n        require(['plotly'], function(Plotly) {\n            window._Plotly = Plotly;\n        });\n        }\n        </script>\n        "
     },
     "metadata": {}
    },
    {
     "output_type": "display_data",
     "data": {
      "text/html": "<div>                            <div id=\"42fd765f-91f2-4ddc-bd21-e776c7c07289\" class=\"plotly-graph-div\" style=\"height:600px; width:800px;\"></div>            <script type=\"text/javascript\">                require([\"plotly\"], function(Plotly) {                    window.PLOTLYENV=window.PLOTLYENV || {};                                    if (document.getElementById(\"42fd765f-91f2-4ddc-bd21-e776c7c07289\")) {                    Plotly.newPlot(                        \"42fd765f-91f2-4ddc-bd21-e776c7c07289\",                        [{\"alignmentgroup\": \"True\", \"hovertemplate\": \"Champion=%{x}<br>Win Percentage=%{marker.color}<extra></extra>\", \"insidetextanchor\": \"end\", \"legendgroup\": \"\", \"marker\": {\"color\": [66.0, 65.0, 64.9, 59.3, 59.2, 58.5, 56.7, 56.5, 55.3, 55.0], \"coloraxis\": \"coloraxis\"}, \"name\": \"\", \"offsetgroup\": \"\", \"orientation\": \"v\", \"showlegend\": false, \"text\": [66.0, 65.0, 64.9, 59.3, 59.2, 58.5, 56.7, 56.5, 55.3, 55.0], \"textfont\": {\"color\": \"#000000\", \"size\": 14}, \"textposition\": \"outside\", \"texttemplate\": \"%{text}%\", \"type\": \"bar\", \"x\": [\"Viego\", \"Kennen\", \"Wukong\", \"Camille\", \"Gwen\", \"Jax\", \"Akali\", \"Gnar\", \"Renekton\", \"Nasus\"], \"xaxis\": \"x\", \"y\": [66.0, 65.0, 64.9, 59.3, 59.2, 58.5, 56.7, 56.5, 55.3, 55.0], \"yaxis\": \"y\"}],                        {\"barmode\": \"relative\", \"coloraxis\": {\"colorbar\": {\"title\": {\"text\": \"Win Percentage\"}}, \"colorscale\": [[0.0, \"rgb(211, 242, 163)\"], [0.16666666666666666, \"rgb(151, 225, 150)\"], [0.3333333333333333, \"rgb(108, 192, 139)\"], [0.5, \"rgb(76, 155, 130)\"], [0.6666666666666666, \"rgb(33, 122, 121)\"], [0.8333333333333334, \"rgb(16, 89, 101)\"], [1.0, \"rgb(7, 64, 80)\"]], \"showscale\": false}, \"height\": 600, \"legend\": {\"tracegroupgap\": 0}, \"paper_bgcolor\": \"rgb(0,0,0,0)\", \"plot_bgcolor\": \"rgb(0,0,0,0)\", \"template\": {\"data\": {\"bar\": [{\"error_x\": {\"color\": \"#2a3f5f\"}, \"error_y\": {\"color\": \"#2a3f5f\"}, \"marker\": {\"line\": {\"color\": \"#E5ECF6\", \"width\": 0.5}}, \"type\": \"bar\"}], \"barpolar\": [{\"marker\": {\"line\": {\"color\": \"#E5ECF6\", \"width\": 0.5}}, \"type\": \"barpolar\"}], \"carpet\": [{\"aaxis\": {\"endlinecolor\": \"#2a3f5f\", \"gridcolor\": \"white\", \"linecolor\": \"white\", \"minorgridcolor\": \"white\", \"startlinecolor\": \"#2a3f5f\"}, \"baxis\": {\"endlinecolor\": \"#2a3f5f\", \"gridcolor\": \"white\", \"linecolor\": \"white\", \"minorgridcolor\": \"white\", \"startlinecolor\": \"#2a3f5f\"}, \"type\": \"carpet\"}], \"choropleth\": [{\"colorbar\": {\"outlinewidth\": 0, \"ticks\": \"\"}, \"type\": \"choropleth\"}], \"contour\": [{\"colorbar\": {\"outlinewidth\": 0, \"ticks\": \"\"}, \"colorscale\": [[0.0, \"#0d0887\"], [0.1111111111111111, \"#46039f\"], [0.2222222222222222, \"#7201a8\"], [0.3333333333333333, \"#9c179e\"], [0.4444444444444444, \"#bd3786\"], [0.5555555555555556, \"#d8576b\"], [0.6666666666666666, \"#ed7953\"], [0.7777777777777778, \"#fb9f3a\"], [0.8888888888888888, \"#fdca26\"], [1.0, \"#f0f921\"]], \"type\": \"contour\"}], \"contourcarpet\": [{\"colorbar\": {\"outlinewidth\": 0, \"ticks\": \"\"}, \"type\": \"contourcarpet\"}], \"heatmap\": [{\"colorbar\": {\"outlinewidth\": 0, \"ticks\": \"\"}, \"colorscale\": [[0.0, \"#0d0887\"], [0.1111111111111111, \"#46039f\"], [0.2222222222222222, \"#7201a8\"], [0.3333333333333333, \"#9c179e\"], [0.4444444444444444, \"#bd3786\"], [0.5555555555555556, \"#d8576b\"], [0.6666666666666666, \"#ed7953\"], [0.7777777777777778, \"#fb9f3a\"], [0.8888888888888888, \"#fdca26\"], [1.0, \"#f0f921\"]], \"type\": \"heatmap\"}], \"heatmapgl\": [{\"colorbar\": {\"outlinewidth\": 0, \"ticks\": \"\"}, \"colorscale\": [[0.0, \"#0d0887\"], [0.1111111111111111, \"#46039f\"], [0.2222222222222222, \"#7201a8\"], [0.3333333333333333, \"#9c179e\"], [0.4444444444444444, \"#bd3786\"], [0.5555555555555556, \"#d8576b\"], [0.6666666666666666, \"#ed7953\"], [0.7777777777777778, \"#fb9f3a\"], [0.8888888888888888, \"#fdca26\"], [1.0, \"#f0f921\"]], \"type\": \"heatmapgl\"}], \"histogram\": [{\"marker\": {\"colorbar\": {\"outlinewidth\": 0, \"ticks\": \"\"}}, \"type\": \"histogram\"}], \"histogram2d\": [{\"colorbar\": {\"outlinewidth\": 0, \"ticks\": \"\"}, \"colorscale\": [[0.0, \"#0d0887\"], [0.1111111111111111, \"#46039f\"], [0.2222222222222222, \"#7201a8\"], [0.3333333333333333, \"#9c179e\"], [0.4444444444444444, \"#bd3786\"], [0.5555555555555556, \"#d8576b\"], [0.6666666666666666, \"#ed7953\"], [0.7777777777777778, \"#fb9f3a\"], [0.8888888888888888, \"#fdca26\"], [1.0, \"#f0f921\"]], \"type\": \"histogram2d\"}], \"histogram2dcontour\": [{\"colorbar\": {\"outlinewidth\": 0, \"ticks\": \"\"}, \"colorscale\": [[0.0, \"#0d0887\"], [0.1111111111111111, \"#46039f\"], [0.2222222222222222, \"#7201a8\"], [0.3333333333333333, \"#9c179e\"], [0.4444444444444444, \"#bd3786\"], [0.5555555555555556, \"#d8576b\"], [0.6666666666666666, \"#ed7953\"], [0.7777777777777778, \"#fb9f3a\"], [0.8888888888888888, \"#fdca26\"], [1.0, \"#f0f921\"]], \"type\": \"histogram2dcontour\"}], \"mesh3d\": [{\"colorbar\": {\"outlinewidth\": 0, \"ticks\": \"\"}, \"type\": \"mesh3d\"}], \"parcoords\": [{\"line\": {\"colorbar\": {\"outlinewidth\": 0, \"ticks\": \"\"}}, \"type\": \"parcoords\"}], \"pie\": [{\"automargin\": true, \"type\": \"pie\"}], \"scatter\": [{\"marker\": {\"colorbar\": {\"outlinewidth\": 0, \"ticks\": \"\"}}, \"type\": \"scatter\"}], \"scatter3d\": [{\"line\": {\"colorbar\": {\"outlinewidth\": 0, \"ticks\": \"\"}}, \"marker\": {\"colorbar\": {\"outlinewidth\": 0, \"ticks\": \"\"}}, \"type\": \"scatter3d\"}], \"scattercarpet\": [{\"marker\": {\"colorbar\": {\"outlinewidth\": 0, \"ticks\": \"\"}}, \"type\": \"scattercarpet\"}], \"scattergeo\": [{\"marker\": {\"colorbar\": {\"outlinewidth\": 0, \"ticks\": \"\"}}, \"type\": \"scattergeo\"}], \"scattergl\": [{\"marker\": {\"colorbar\": {\"outlinewidth\": 0, \"ticks\": \"\"}}, \"type\": \"scattergl\"}], \"scattermapbox\": [{\"marker\": {\"colorbar\": {\"outlinewidth\": 0, \"ticks\": \"\"}}, \"type\": \"scattermapbox\"}], \"scatterpolar\": [{\"marker\": {\"colorbar\": {\"outlinewidth\": 0, \"ticks\": \"\"}}, \"type\": \"scatterpolar\"}], \"scatterpolargl\": [{\"marker\": {\"colorbar\": {\"outlinewidth\": 0, \"ticks\": \"\"}}, \"type\": \"scatterpolargl\"}], \"scatterternary\": [{\"marker\": {\"colorbar\": {\"outlinewidth\": 0, \"ticks\": \"\"}}, \"type\": \"scatterternary\"}], \"surface\": [{\"colorbar\": {\"outlinewidth\": 0, \"ticks\": \"\"}, \"colorscale\": [[0.0, \"#0d0887\"], [0.1111111111111111, \"#46039f\"], [0.2222222222222222, \"#7201a8\"], [0.3333333333333333, \"#9c179e\"], [0.4444444444444444, \"#bd3786\"], [0.5555555555555556, \"#d8576b\"], [0.6666666666666666, \"#ed7953\"], [0.7777777777777778, \"#fb9f3a\"], [0.8888888888888888, \"#fdca26\"], [1.0, \"#f0f921\"]], \"type\": \"surface\"}], \"table\": [{\"cells\": {\"fill\": {\"color\": \"#EBF0F8\"}, \"line\": {\"color\": \"white\"}}, \"header\": {\"fill\": {\"color\": \"#C8D4E3\"}, \"line\": {\"color\": \"white\"}}, \"type\": \"table\"}]}, \"layout\": {\"annotationdefaults\": {\"arrowcolor\": \"#2a3f5f\", \"arrowhead\": 0, \"arrowwidth\": 1}, \"autotypenumbers\": \"strict\", \"coloraxis\": {\"colorbar\": {\"outlinewidth\": 0, \"ticks\": \"\"}}, \"colorscale\": {\"diverging\": [[0, \"#8e0152\"], [0.1, \"#c51b7d\"], [0.2, \"#de77ae\"], [0.3, \"#f1b6da\"], [0.4, \"#fde0ef\"], [0.5, \"#f7f7f7\"], [0.6, \"#e6f5d0\"], [0.7, \"#b8e186\"], [0.8, \"#7fbc41\"], [0.9, \"#4d9221\"], [1, \"#276419\"]], \"sequential\": [[0.0, \"#0d0887\"], [0.1111111111111111, \"#46039f\"], [0.2222222222222222, \"#7201a8\"], [0.3333333333333333, \"#9c179e\"], [0.4444444444444444, \"#bd3786\"], [0.5555555555555556, \"#d8576b\"], [0.6666666666666666, \"#ed7953\"], [0.7777777777777778, \"#fb9f3a\"], [0.8888888888888888, \"#fdca26\"], [1.0, \"#f0f921\"]], \"sequentialminus\": [[0.0, \"#0d0887\"], [0.1111111111111111, \"#46039f\"], [0.2222222222222222, \"#7201a8\"], [0.3333333333333333, \"#9c179e\"], [0.4444444444444444, \"#bd3786\"], [0.5555555555555556, \"#d8576b\"], [0.6666666666666666, \"#ed7953\"], [0.7777777777777778, \"#fb9f3a\"], [0.8888888888888888, \"#fdca26\"], [1.0, \"#f0f921\"]]}, \"colorway\": [\"#636efa\", \"#EF553B\", \"#00cc96\", \"#ab63fa\", \"#FFA15A\", \"#19d3f3\", \"#FF6692\", \"#B6E880\", \"#FF97FF\", \"#FECB52\"], \"font\": {\"color\": \"#2a3f5f\"}, \"geo\": {\"bgcolor\": \"white\", \"lakecolor\": \"white\", \"landcolor\": \"#E5ECF6\", \"showlakes\": true, \"showland\": true, \"subunitcolor\": \"white\"}, \"hoverlabel\": {\"align\": \"left\"}, \"hovermode\": \"closest\", \"mapbox\": {\"style\": \"light\"}, \"paper_bgcolor\": \"white\", \"plot_bgcolor\": \"#E5ECF6\", \"polar\": {\"angularaxis\": {\"gridcolor\": \"white\", \"linecolor\": \"white\", \"ticks\": \"\"}, \"bgcolor\": \"#E5ECF6\", \"radialaxis\": {\"gridcolor\": \"white\", \"linecolor\": \"white\", \"ticks\": \"\"}}, \"scene\": {\"xaxis\": {\"backgroundcolor\": \"#E5ECF6\", \"gridcolor\": \"white\", \"gridwidth\": 2, \"linecolor\": \"white\", \"showbackground\": true, \"ticks\": \"\", \"zerolinecolor\": \"white\"}, \"yaxis\": {\"backgroundcolor\": \"#E5ECF6\", \"gridcolor\": \"white\", \"gridwidth\": 2, \"linecolor\": \"white\", \"showbackground\": true, \"ticks\": \"\", \"zerolinecolor\": \"white\"}, \"zaxis\": {\"backgroundcolor\": \"#E5ECF6\", \"gridcolor\": \"white\", \"gridwidth\": 2, \"linecolor\": \"white\", \"showbackground\": true, \"ticks\": \"\", \"zerolinecolor\": \"white\"}}, \"shapedefaults\": {\"line\": {\"color\": \"#2a3f5f\"}}, \"ternary\": {\"aaxis\": {\"gridcolor\": \"white\", \"linecolor\": \"white\", \"ticks\": \"\"}, \"baxis\": {\"gridcolor\": \"white\", \"linecolor\": \"white\", \"ticks\": \"\"}, \"bgcolor\": \"#E5ECF6\", \"caxis\": {\"gridcolor\": \"white\", \"linecolor\": \"white\", \"ticks\": \"\"}}, \"title\": {\"x\": 0.05}, \"xaxis\": {\"automargin\": true, \"gridcolor\": \"white\", \"linecolor\": \"white\", \"ticks\": \"\", \"title\": {\"standoff\": 15}, \"zerolinecolor\": \"white\", \"zerolinewidth\": 2}, \"yaxis\": {\"automargin\": true, \"gridcolor\": \"white\", \"linecolor\": \"white\", \"ticks\": \"\", \"title\": {\"standoff\": 15}, \"zerolinecolor\": \"white\", \"zerolinewidth\": 2}}}, \"title\": {\"text\": \"Top 10 Win Rates for Top Position\", \"x\": 0.5}, \"width\": 800, \"xaxis\": {\"anchor\": \"y\", \"categoryorder\": \"total ascending\", \"domain\": [0.0, 1.0], \"title\": {\"text\": \"Champion\"}}, \"yaxis\": {\"anchor\": \"x\", \"domain\": [0.0, 1.0], \"ticksuffix\": \"%\", \"title\": {\"text\": \"Win Percentage\"}, \"visible\": false}},                        {\"responsive\": true}                    ).then(function(){\n                            \nvar gd = document.getElementById('42fd765f-91f2-4ddc-bd21-e776c7c07289');\nvar x = new MutationObserver(function (mutations, observer) {{\n        var display = window.getComputedStyle(gd).display;\n        if (!display || display === 'none') {{\n            console.log([gd, 'removed!']);\n            Plotly.purge(gd);\n            observer.disconnect();\n        }}\n}});\n\n// Listen for the removal of the full notebook cells\nvar notebookContainer = gd.closest('#notebook-container');\nif (notebookContainer) {{\n    x.observe(notebookContainer, {childList: true});\n}}\n\n// Listen for the clearing of the current output cell\nvar outputEl = gd.closest('.output');\nif (outputEl) {{\n    x.observe(outputEl, {childList: true});\n}}\n\n                        })                };                });            </script>        </div>"
     },
     "metadata": {}
    },
    {
     "output_type": "display_data",
     "data": {
      "text/html": "        <script type=\"text/javascript\">\n        window.PlotlyConfig = {MathJaxConfig: 'local'};\n        if (window.MathJax) {MathJax.Hub.Config({SVG: {font: \"STIX-Web\"}});}\n        if (typeof require !== 'undefined') {\n        require.undef(\"plotly\");\n        requirejs.config({\n            paths: {\n                'plotly': ['https://cdn.plot.ly/plotly-latest.min']\n            }\n        });\n        require(['plotly'], function(Plotly) {\n            window._Plotly = Plotly;\n        });\n        }\n        </script>\n        "
     },
     "metadata": {}
    },
    {
     "output_type": "display_data",
     "data": {
      "text/html": "<div>                            <div id=\"8282c9c6-5e98-492a-9c81-15b51aac90c2\" class=\"plotly-graph-div\" style=\"height:600px; width:800px;\"></div>            <script type=\"text/javascript\">                require([\"plotly\"], function(Plotly) {                    window.PLOTLYENV=window.PLOTLYENV || {};                                    if (document.getElementById(\"8282c9c6-5e98-492a-9c81-15b51aac90c2\")) {                    Plotly.newPlot(                        \"8282c9c6-5e98-492a-9c81-15b51aac90c2\",                        [{\"alignmentgroup\": \"True\", \"hovertemplate\": \"Champion=%{x}<br>Win Percentage=%{marker.color}<extra></extra>\", \"insidetextanchor\": \"end\", \"legendgroup\": \"\", \"marker\": {\"color\": [72.2, 67.6, 67.1, 65.7, 64.4, 62.8, 60.6, 58.8, 58.8, 58.5], \"coloraxis\": \"coloraxis\"}, \"name\": \"\", \"offsetgroup\": \"\", \"orientation\": \"v\", \"showlegend\": false, \"text\": [72.2, 67.6, 67.1, 65.7, 64.4, 62.8, 60.6, 58.8, 58.8, 58.5], \"textfont\": {\"color\": \"#000000\", \"size\": 14}, \"textposition\": \"outside\", \"texttemplate\": \"%{text}%\", \"type\": \"bar\", \"x\": [\"Leblanc\", \"Nocturne\", \"Lulu\", \"Tristana\", \"Rumble\", \"Annie\", \"LeeSin\", \"Orianna\", \"TwistedFate\", \"Viktor\"], \"xaxis\": \"x\", \"y\": [72.2, 67.6, 67.1, 65.7, 64.4, 62.8, 60.6, 58.8, 58.8, 58.5], \"yaxis\": \"y\"}],                        {\"barmode\": \"relative\", \"coloraxis\": {\"colorbar\": {\"title\": {\"text\": \"Win Percentage\"}}, \"colorscale\": [[0.0, \"rgb(211, 242, 163)\"], [0.16666666666666666, \"rgb(151, 225, 150)\"], [0.3333333333333333, \"rgb(108, 192, 139)\"], [0.5, \"rgb(76, 155, 130)\"], [0.6666666666666666, \"rgb(33, 122, 121)\"], [0.8333333333333334, \"rgb(16, 89, 101)\"], [1.0, \"rgb(7, 64, 80)\"]], \"showscale\": false}, \"height\": 600, \"legend\": {\"tracegroupgap\": 0}, \"paper_bgcolor\": \"rgb(0,0,0,0)\", \"plot_bgcolor\": \"rgb(0,0,0,0)\", \"template\": {\"data\": {\"bar\": [{\"error_x\": {\"color\": \"#2a3f5f\"}, \"error_y\": {\"color\": \"#2a3f5f\"}, \"marker\": {\"line\": {\"color\": \"#E5ECF6\", \"width\": 0.5}}, \"type\": \"bar\"}], \"barpolar\": [{\"marker\": {\"line\": {\"color\": \"#E5ECF6\", \"width\": 0.5}}, \"type\": \"barpolar\"}], \"carpet\": [{\"aaxis\": {\"endlinecolor\": \"#2a3f5f\", \"gridcolor\": \"white\", \"linecolor\": \"white\", \"minorgridcolor\": \"white\", \"startlinecolor\": \"#2a3f5f\"}, \"baxis\": {\"endlinecolor\": \"#2a3f5f\", \"gridcolor\": \"white\", \"linecolor\": \"white\", \"minorgridcolor\": \"white\", \"startlinecolor\": \"#2a3f5f\"}, \"type\": \"carpet\"}], \"choropleth\": [{\"colorbar\": {\"outlinewidth\": 0, \"ticks\": \"\"}, \"type\": \"choropleth\"}], \"contour\": [{\"colorbar\": {\"outlinewidth\": 0, \"ticks\": \"\"}, \"colorscale\": [[0.0, \"#0d0887\"], [0.1111111111111111, \"#46039f\"], [0.2222222222222222, \"#7201a8\"], [0.3333333333333333, \"#9c179e\"], [0.4444444444444444, \"#bd3786\"], [0.5555555555555556, \"#d8576b\"], [0.6666666666666666, \"#ed7953\"], [0.7777777777777778, \"#fb9f3a\"], [0.8888888888888888, \"#fdca26\"], [1.0, \"#f0f921\"]], \"type\": \"contour\"}], \"contourcarpet\": [{\"colorbar\": {\"outlinewidth\": 0, \"ticks\": \"\"}, \"type\": \"contourcarpet\"}], \"heatmap\": [{\"colorbar\": {\"outlinewidth\": 0, \"ticks\": \"\"}, \"colorscale\": [[0.0, \"#0d0887\"], [0.1111111111111111, \"#46039f\"], [0.2222222222222222, \"#7201a8\"], [0.3333333333333333, \"#9c179e\"], [0.4444444444444444, \"#bd3786\"], [0.5555555555555556, \"#d8576b\"], [0.6666666666666666, \"#ed7953\"], [0.7777777777777778, \"#fb9f3a\"], [0.8888888888888888, \"#fdca26\"], [1.0, \"#f0f921\"]], \"type\": \"heatmap\"}], \"heatmapgl\": [{\"colorbar\": {\"outlinewidth\": 0, \"ticks\": \"\"}, \"colorscale\": [[0.0, \"#0d0887\"], [0.1111111111111111, \"#46039f\"], [0.2222222222222222, \"#7201a8\"], [0.3333333333333333, \"#9c179e\"], [0.4444444444444444, \"#bd3786\"], [0.5555555555555556, \"#d8576b\"], [0.6666666666666666, \"#ed7953\"], [0.7777777777777778, \"#fb9f3a\"], [0.8888888888888888, \"#fdca26\"], [1.0, \"#f0f921\"]], \"type\": \"heatmapgl\"}], \"histogram\": [{\"marker\": {\"colorbar\": {\"outlinewidth\": 0, \"ticks\": \"\"}}, \"type\": \"histogram\"}], \"histogram2d\": [{\"colorbar\": {\"outlinewidth\": 0, \"ticks\": \"\"}, \"colorscale\": [[0.0, \"#0d0887\"], [0.1111111111111111, \"#46039f\"], [0.2222222222222222, \"#7201a8\"], [0.3333333333333333, \"#9c179e\"], [0.4444444444444444, \"#bd3786\"], [0.5555555555555556, \"#d8576b\"], [0.6666666666666666, \"#ed7953\"], [0.7777777777777778, \"#fb9f3a\"], [0.8888888888888888, \"#fdca26\"], [1.0, \"#f0f921\"]], \"type\": \"histogram2d\"}], \"histogram2dcontour\": [{\"colorbar\": {\"outlinewidth\": 0, \"ticks\": \"\"}, \"colorscale\": [[0.0, \"#0d0887\"], [0.1111111111111111, \"#46039f\"], [0.2222222222222222, \"#7201a8\"], [0.3333333333333333, \"#9c179e\"], [0.4444444444444444, \"#bd3786\"], [0.5555555555555556, \"#d8576b\"], [0.6666666666666666, \"#ed7953\"], [0.7777777777777778, \"#fb9f3a\"], [0.8888888888888888, \"#fdca26\"], [1.0, \"#f0f921\"]], \"type\": \"histogram2dcontour\"}], \"mesh3d\": [{\"colorbar\": {\"outlinewidth\": 0, \"ticks\": \"\"}, \"type\": \"mesh3d\"}], \"parcoords\": [{\"line\": {\"colorbar\": {\"outlinewidth\": 0, \"ticks\": \"\"}}, \"type\": \"parcoords\"}], \"pie\": [{\"automargin\": true, \"type\": \"pie\"}], \"scatter\": [{\"marker\": {\"colorbar\": {\"outlinewidth\": 0, \"ticks\": \"\"}}, \"type\": \"scatter\"}], \"scatter3d\": [{\"line\": {\"colorbar\": {\"outlinewidth\": 0, \"ticks\": \"\"}}, \"marker\": {\"colorbar\": {\"outlinewidth\": 0, \"ticks\": \"\"}}, \"type\": \"scatter3d\"}], \"scattercarpet\": [{\"marker\": {\"colorbar\": {\"outlinewidth\": 0, \"ticks\": \"\"}}, \"type\": \"scattercarpet\"}], \"scattergeo\": [{\"marker\": {\"colorbar\": {\"outlinewidth\": 0, \"ticks\": \"\"}}, \"type\": \"scattergeo\"}], \"scattergl\": [{\"marker\": {\"colorbar\": {\"outlinewidth\": 0, \"ticks\": \"\"}}, \"type\": \"scattergl\"}], \"scattermapbox\": [{\"marker\": {\"colorbar\": {\"outlinewidth\": 0, \"ticks\": \"\"}}, \"type\": \"scattermapbox\"}], \"scatterpolar\": [{\"marker\": {\"colorbar\": {\"outlinewidth\": 0, \"ticks\": \"\"}}, \"type\": \"scatterpolar\"}], \"scatterpolargl\": [{\"marker\": {\"colorbar\": {\"outlinewidth\": 0, \"ticks\": \"\"}}, \"type\": \"scatterpolargl\"}], \"scatterternary\": [{\"marker\": {\"colorbar\": {\"outlinewidth\": 0, \"ticks\": \"\"}}, \"type\": \"scatterternary\"}], \"surface\": [{\"colorbar\": {\"outlinewidth\": 0, \"ticks\": \"\"}, \"colorscale\": [[0.0, \"#0d0887\"], [0.1111111111111111, \"#46039f\"], [0.2222222222222222, \"#7201a8\"], [0.3333333333333333, \"#9c179e\"], [0.4444444444444444, \"#bd3786\"], [0.5555555555555556, \"#d8576b\"], [0.6666666666666666, \"#ed7953\"], [0.7777777777777778, \"#fb9f3a\"], [0.8888888888888888, \"#fdca26\"], [1.0, \"#f0f921\"]], \"type\": \"surface\"}], \"table\": [{\"cells\": {\"fill\": {\"color\": \"#EBF0F8\"}, \"line\": {\"color\": \"white\"}}, \"header\": {\"fill\": {\"color\": \"#C8D4E3\"}, \"line\": {\"color\": \"white\"}}, \"type\": \"table\"}]}, \"layout\": {\"annotationdefaults\": {\"arrowcolor\": \"#2a3f5f\", \"arrowhead\": 0, \"arrowwidth\": 1}, \"autotypenumbers\": \"strict\", \"coloraxis\": {\"colorbar\": {\"outlinewidth\": 0, \"ticks\": \"\"}}, \"colorscale\": {\"diverging\": [[0, \"#8e0152\"], [0.1, \"#c51b7d\"], [0.2, \"#de77ae\"], [0.3, \"#f1b6da\"], [0.4, \"#fde0ef\"], [0.5, \"#f7f7f7\"], [0.6, \"#e6f5d0\"], [0.7, \"#b8e186\"], [0.8, \"#7fbc41\"], [0.9, \"#4d9221\"], [1, \"#276419\"]], \"sequential\": [[0.0, \"#0d0887\"], [0.1111111111111111, \"#46039f\"], [0.2222222222222222, \"#7201a8\"], [0.3333333333333333, \"#9c179e\"], [0.4444444444444444, \"#bd3786\"], [0.5555555555555556, \"#d8576b\"], [0.6666666666666666, \"#ed7953\"], [0.7777777777777778, \"#fb9f3a\"], [0.8888888888888888, \"#fdca26\"], [1.0, \"#f0f921\"]], \"sequentialminus\": [[0.0, \"#0d0887\"], [0.1111111111111111, \"#46039f\"], [0.2222222222222222, \"#7201a8\"], [0.3333333333333333, \"#9c179e\"], [0.4444444444444444, \"#bd3786\"], [0.5555555555555556, \"#d8576b\"], [0.6666666666666666, \"#ed7953\"], [0.7777777777777778, \"#fb9f3a\"], [0.8888888888888888, \"#fdca26\"], [1.0, \"#f0f921\"]]}, \"colorway\": [\"#636efa\", \"#EF553B\", \"#00cc96\", \"#ab63fa\", \"#FFA15A\", \"#19d3f3\", \"#FF6692\", \"#B6E880\", \"#FF97FF\", \"#FECB52\"], \"font\": {\"color\": \"#2a3f5f\"}, \"geo\": {\"bgcolor\": \"white\", \"lakecolor\": \"white\", \"landcolor\": \"#E5ECF6\", \"showlakes\": true, \"showland\": true, \"subunitcolor\": \"white\"}, \"hoverlabel\": {\"align\": \"left\"}, \"hovermode\": \"closest\", \"mapbox\": {\"style\": \"light\"}, \"paper_bgcolor\": \"white\", \"plot_bgcolor\": \"#E5ECF6\", \"polar\": {\"angularaxis\": {\"gridcolor\": \"white\", \"linecolor\": \"white\", \"ticks\": \"\"}, \"bgcolor\": \"#E5ECF6\", \"radialaxis\": {\"gridcolor\": \"white\", \"linecolor\": \"white\", \"ticks\": \"\"}}, \"scene\": {\"xaxis\": {\"backgroundcolor\": \"#E5ECF6\", \"gridcolor\": \"white\", \"gridwidth\": 2, \"linecolor\": \"white\", \"showbackground\": true, \"ticks\": \"\", \"zerolinecolor\": \"white\"}, \"yaxis\": {\"backgroundcolor\": \"#E5ECF6\", \"gridcolor\": \"white\", \"gridwidth\": 2, \"linecolor\": \"white\", \"showbackground\": true, \"ticks\": \"\", \"zerolinecolor\": \"white\"}, \"zaxis\": {\"backgroundcolor\": \"#E5ECF6\", \"gridcolor\": \"white\", \"gridwidth\": 2, \"linecolor\": \"white\", \"showbackground\": true, \"ticks\": \"\", \"zerolinecolor\": \"white\"}}, \"shapedefaults\": {\"line\": {\"color\": \"#2a3f5f\"}}, \"ternary\": {\"aaxis\": {\"gridcolor\": \"white\", \"linecolor\": \"white\", \"ticks\": \"\"}, \"baxis\": {\"gridcolor\": \"white\", \"linecolor\": \"white\", \"ticks\": \"\"}, \"bgcolor\": \"#E5ECF6\", \"caxis\": {\"gridcolor\": \"white\", \"linecolor\": \"white\", \"ticks\": \"\"}}, \"title\": {\"x\": 0.05}, \"xaxis\": {\"automargin\": true, \"gridcolor\": \"white\", \"linecolor\": \"white\", \"ticks\": \"\", \"title\": {\"standoff\": 15}, \"zerolinecolor\": \"white\", \"zerolinewidth\": 2}, \"yaxis\": {\"automargin\": true, \"gridcolor\": \"white\", \"linecolor\": \"white\", \"ticks\": \"\", \"title\": {\"standoff\": 15}, \"zerolinecolor\": \"white\", \"zerolinewidth\": 2}}}, \"title\": {\"text\": \"Top 10 Win Rates for Middle Position\", \"x\": 0.5}, \"width\": 800, \"xaxis\": {\"anchor\": \"y\", \"categoryorder\": \"total ascending\", \"domain\": [0.0, 1.0], \"title\": {\"text\": \"Champion\"}}, \"yaxis\": {\"anchor\": \"x\", \"domain\": [0.0, 1.0], \"ticksuffix\": \"%\", \"title\": {\"text\": \"Win Percentage\"}, \"visible\": false}},                        {\"responsive\": true}                    ).then(function(){\n                            \nvar gd = document.getElementById('8282c9c6-5e98-492a-9c81-15b51aac90c2');\nvar x = new MutationObserver(function (mutations, observer) {{\n        var display = window.getComputedStyle(gd).display;\n        if (!display || display === 'none') {{\n            console.log([gd, 'removed!']);\n            Plotly.purge(gd);\n            observer.disconnect();\n        }}\n}});\n\n// Listen for the removal of the full notebook cells\nvar notebookContainer = gd.closest('#notebook-container');\nif (notebookContainer) {{\n    x.observe(notebookContainer, {childList: true});\n}}\n\n// Listen for the clearing of the current output cell\nvar outputEl = gd.closest('.output');\nif (outputEl) {{\n    x.observe(outputEl, {childList: true});\n}}\n\n                        })                };                });            </script>        </div>"
     },
     "metadata": {}
    },
    {
     "output_type": "display_data",
     "data": {
      "text/html": "        <script type=\"text/javascript\">\n        window.PlotlyConfig = {MathJaxConfig: 'local'};\n        if (window.MathJax) {MathJax.Hub.Config({SVG: {font: \"STIX-Web\"}});}\n        if (typeof require !== 'undefined') {\n        require.undef(\"plotly\");\n        requirejs.config({\n            paths: {\n                'plotly': ['https://cdn.plot.ly/plotly-latest.min']\n            }\n        });\n        require(['plotly'], function(Plotly) {\n            window._Plotly = Plotly;\n        });\n        }\n        </script>\n        "
     },
     "metadata": {}
    },
    {
     "output_type": "display_data",
     "data": {
      "text/html": "<div>                            <div id=\"5301f61b-6352-4d85-b7c0-4f011bce25dd\" class=\"plotly-graph-div\" style=\"height:600px; width:800px;\"></div>            <script type=\"text/javascript\">                require([\"plotly\"], function(Plotly) {                    window.PLOTLYENV=window.PLOTLYENV || {};                                    if (document.getElementById(\"5301f61b-6352-4d85-b7c0-4f011bce25dd\")) {                    Plotly.newPlot(                        \"5301f61b-6352-4d85-b7c0-4f011bce25dd\",                        [{\"alignmentgroup\": \"True\", \"hovertemplate\": \"Champion=%{x}<br>Win Percentage=%{marker.color}<extra></extra>\", \"insidetextanchor\": \"end\", \"legendgroup\": \"\", \"marker\": {\"color\": [63.5, 62.5, 61.2, 59.8, 59.2, 59.1, 58.2, 58.1, 56.7, 55.7], \"coloraxis\": \"coloraxis\"}, \"name\": \"\", \"offsetgroup\": \"\", \"orientation\": \"v\", \"showlegend\": false, \"text\": [63.5, 62.5, 61.2, 59.8, 59.2, 59.1, 58.2, 58.1, 56.7, 55.7], \"textfont\": {\"color\": \"#000000\", \"size\": 14}, \"textposition\": \"outside\", \"texttemplate\": \"%{text}%\", \"type\": \"bar\", \"x\": [\"Hecarim\", \"Kindred\", \"Olaf\", \"Rumble\", \"Kayn\", \"Elise\", \"Ekko\", \"LeeSin\", \"XinZhao\", \"FiddleSticks\"], \"xaxis\": \"x\", \"y\": [63.5, 62.5, 61.2, 59.8, 59.2, 59.1, 58.2, 58.1, 56.7, 55.7], \"yaxis\": \"y\"}],                        {\"barmode\": \"relative\", \"coloraxis\": {\"colorbar\": {\"title\": {\"text\": \"Win Percentage\"}}, \"colorscale\": [[0.0, \"rgb(211, 242, 163)\"], [0.16666666666666666, \"rgb(151, 225, 150)\"], [0.3333333333333333, \"rgb(108, 192, 139)\"], [0.5, \"rgb(76, 155, 130)\"], [0.6666666666666666, \"rgb(33, 122, 121)\"], [0.8333333333333334, \"rgb(16, 89, 101)\"], [1.0, \"rgb(7, 64, 80)\"]], \"showscale\": false}, \"height\": 600, \"legend\": {\"tracegroupgap\": 0}, \"paper_bgcolor\": \"rgb(0,0,0,0)\", \"plot_bgcolor\": \"rgb(0,0,0,0)\", \"template\": {\"data\": {\"bar\": [{\"error_x\": {\"color\": \"#2a3f5f\"}, \"error_y\": {\"color\": \"#2a3f5f\"}, \"marker\": {\"line\": {\"color\": \"#E5ECF6\", \"width\": 0.5}}, \"type\": \"bar\"}], \"barpolar\": [{\"marker\": {\"line\": {\"color\": \"#E5ECF6\", \"width\": 0.5}}, \"type\": \"barpolar\"}], \"carpet\": [{\"aaxis\": {\"endlinecolor\": \"#2a3f5f\", \"gridcolor\": \"white\", \"linecolor\": \"white\", \"minorgridcolor\": \"white\", \"startlinecolor\": \"#2a3f5f\"}, \"baxis\": {\"endlinecolor\": \"#2a3f5f\", \"gridcolor\": \"white\", \"linecolor\": \"white\", \"minorgridcolor\": \"white\", \"startlinecolor\": \"#2a3f5f\"}, \"type\": \"carpet\"}], \"choropleth\": [{\"colorbar\": {\"outlinewidth\": 0, \"ticks\": \"\"}, \"type\": \"choropleth\"}], \"contour\": [{\"colorbar\": {\"outlinewidth\": 0, \"ticks\": \"\"}, \"colorscale\": [[0.0, \"#0d0887\"], [0.1111111111111111, \"#46039f\"], [0.2222222222222222, \"#7201a8\"], [0.3333333333333333, \"#9c179e\"], [0.4444444444444444, \"#bd3786\"], [0.5555555555555556, \"#d8576b\"], [0.6666666666666666, \"#ed7953\"], [0.7777777777777778, \"#fb9f3a\"], [0.8888888888888888, \"#fdca26\"], [1.0, \"#f0f921\"]], \"type\": \"contour\"}], \"contourcarpet\": [{\"colorbar\": {\"outlinewidth\": 0, \"ticks\": \"\"}, \"type\": \"contourcarpet\"}], \"heatmap\": [{\"colorbar\": {\"outlinewidth\": 0, \"ticks\": \"\"}, \"colorscale\": [[0.0, \"#0d0887\"], [0.1111111111111111, \"#46039f\"], [0.2222222222222222, \"#7201a8\"], [0.3333333333333333, \"#9c179e\"], [0.4444444444444444, \"#bd3786\"], [0.5555555555555556, \"#d8576b\"], [0.6666666666666666, \"#ed7953\"], [0.7777777777777778, \"#fb9f3a\"], [0.8888888888888888, \"#fdca26\"], [1.0, \"#f0f921\"]], \"type\": \"heatmap\"}], \"heatmapgl\": [{\"colorbar\": {\"outlinewidth\": 0, \"ticks\": \"\"}, \"colorscale\": [[0.0, \"#0d0887\"], [0.1111111111111111, \"#46039f\"], [0.2222222222222222, \"#7201a8\"], [0.3333333333333333, \"#9c179e\"], [0.4444444444444444, \"#bd3786\"], [0.5555555555555556, \"#d8576b\"], [0.6666666666666666, \"#ed7953\"], [0.7777777777777778, \"#fb9f3a\"], [0.8888888888888888, \"#fdca26\"], [1.0, \"#f0f921\"]], \"type\": \"heatmapgl\"}], \"histogram\": [{\"marker\": {\"colorbar\": {\"outlinewidth\": 0, \"ticks\": \"\"}}, \"type\": \"histogram\"}], \"histogram2d\": [{\"colorbar\": {\"outlinewidth\": 0, \"ticks\": \"\"}, \"colorscale\": [[0.0, \"#0d0887\"], [0.1111111111111111, \"#46039f\"], [0.2222222222222222, \"#7201a8\"], [0.3333333333333333, \"#9c179e\"], [0.4444444444444444, \"#bd3786\"], [0.5555555555555556, \"#d8576b\"], [0.6666666666666666, \"#ed7953\"], [0.7777777777777778, \"#fb9f3a\"], [0.8888888888888888, \"#fdca26\"], [1.0, \"#f0f921\"]], \"type\": \"histogram2d\"}], \"histogram2dcontour\": [{\"colorbar\": {\"outlinewidth\": 0, \"ticks\": \"\"}, \"colorscale\": [[0.0, \"#0d0887\"], [0.1111111111111111, \"#46039f\"], [0.2222222222222222, \"#7201a8\"], [0.3333333333333333, \"#9c179e\"], [0.4444444444444444, \"#bd3786\"], [0.5555555555555556, \"#d8576b\"], [0.6666666666666666, \"#ed7953\"], [0.7777777777777778, \"#fb9f3a\"], [0.8888888888888888, \"#fdca26\"], [1.0, \"#f0f921\"]], \"type\": \"histogram2dcontour\"}], \"mesh3d\": [{\"colorbar\": {\"outlinewidth\": 0, \"ticks\": \"\"}, \"type\": \"mesh3d\"}], \"parcoords\": [{\"line\": {\"colorbar\": {\"outlinewidth\": 0, \"ticks\": \"\"}}, \"type\": \"parcoords\"}], \"pie\": [{\"automargin\": true, \"type\": \"pie\"}], \"scatter\": [{\"marker\": {\"colorbar\": {\"outlinewidth\": 0, \"ticks\": \"\"}}, \"type\": \"scatter\"}], \"scatter3d\": [{\"line\": {\"colorbar\": {\"outlinewidth\": 0, \"ticks\": \"\"}}, \"marker\": {\"colorbar\": {\"outlinewidth\": 0, \"ticks\": \"\"}}, \"type\": \"scatter3d\"}], \"scattercarpet\": [{\"marker\": {\"colorbar\": {\"outlinewidth\": 0, \"ticks\": \"\"}}, \"type\": \"scattercarpet\"}], \"scattergeo\": [{\"marker\": {\"colorbar\": {\"outlinewidth\": 0, \"ticks\": \"\"}}, \"type\": \"scattergeo\"}], \"scattergl\": [{\"marker\": {\"colorbar\": {\"outlinewidth\": 0, \"ticks\": \"\"}}, \"type\": \"scattergl\"}], \"scattermapbox\": [{\"marker\": {\"colorbar\": {\"outlinewidth\": 0, \"ticks\": \"\"}}, \"type\": \"scattermapbox\"}], \"scatterpolar\": [{\"marker\": {\"colorbar\": {\"outlinewidth\": 0, \"ticks\": \"\"}}, \"type\": \"scatterpolar\"}], \"scatterpolargl\": [{\"marker\": {\"colorbar\": {\"outlinewidth\": 0, \"ticks\": \"\"}}, \"type\": \"scatterpolargl\"}], \"scatterternary\": [{\"marker\": {\"colorbar\": {\"outlinewidth\": 0, \"ticks\": \"\"}}, \"type\": \"scatterternary\"}], \"surface\": [{\"colorbar\": {\"outlinewidth\": 0, \"ticks\": \"\"}, \"colorscale\": [[0.0, \"#0d0887\"], [0.1111111111111111, \"#46039f\"], [0.2222222222222222, \"#7201a8\"], [0.3333333333333333, \"#9c179e\"], [0.4444444444444444, \"#bd3786\"], [0.5555555555555556, \"#d8576b\"], [0.6666666666666666, \"#ed7953\"], [0.7777777777777778, \"#fb9f3a\"], [0.8888888888888888, \"#fdca26\"], [1.0, \"#f0f921\"]], \"type\": \"surface\"}], \"table\": [{\"cells\": {\"fill\": {\"color\": \"#EBF0F8\"}, \"line\": {\"color\": \"white\"}}, \"header\": {\"fill\": {\"color\": \"#C8D4E3\"}, \"line\": {\"color\": \"white\"}}, \"type\": \"table\"}]}, \"layout\": {\"annotationdefaults\": {\"arrowcolor\": \"#2a3f5f\", \"arrowhead\": 0, \"arrowwidth\": 1}, \"autotypenumbers\": \"strict\", \"coloraxis\": {\"colorbar\": {\"outlinewidth\": 0, \"ticks\": \"\"}}, \"colorscale\": {\"diverging\": [[0, \"#8e0152\"], [0.1, \"#c51b7d\"], [0.2, \"#de77ae\"], [0.3, \"#f1b6da\"], [0.4, \"#fde0ef\"], [0.5, \"#f7f7f7\"], [0.6, \"#e6f5d0\"], [0.7, \"#b8e186\"], [0.8, \"#7fbc41\"], [0.9, \"#4d9221\"], [1, \"#276419\"]], \"sequential\": [[0.0, \"#0d0887\"], [0.1111111111111111, \"#46039f\"], [0.2222222222222222, \"#7201a8\"], [0.3333333333333333, \"#9c179e\"], [0.4444444444444444, \"#bd3786\"], [0.5555555555555556, \"#d8576b\"], [0.6666666666666666, \"#ed7953\"], [0.7777777777777778, \"#fb9f3a\"], [0.8888888888888888, \"#fdca26\"], [1.0, \"#f0f921\"]], \"sequentialminus\": [[0.0, \"#0d0887\"], [0.1111111111111111, \"#46039f\"], [0.2222222222222222, \"#7201a8\"], [0.3333333333333333, \"#9c179e\"], [0.4444444444444444, \"#bd3786\"], [0.5555555555555556, \"#d8576b\"], [0.6666666666666666, \"#ed7953\"], [0.7777777777777778, \"#fb9f3a\"], [0.8888888888888888, \"#fdca26\"], [1.0, \"#f0f921\"]]}, \"colorway\": [\"#636efa\", \"#EF553B\", \"#00cc96\", \"#ab63fa\", \"#FFA15A\", \"#19d3f3\", \"#FF6692\", \"#B6E880\", \"#FF97FF\", \"#FECB52\"], \"font\": {\"color\": \"#2a3f5f\"}, \"geo\": {\"bgcolor\": \"white\", \"lakecolor\": \"white\", \"landcolor\": \"#E5ECF6\", \"showlakes\": true, \"showland\": true, \"subunitcolor\": \"white\"}, \"hoverlabel\": {\"align\": \"left\"}, \"hovermode\": \"closest\", \"mapbox\": {\"style\": \"light\"}, \"paper_bgcolor\": \"white\", \"plot_bgcolor\": \"#E5ECF6\", \"polar\": {\"angularaxis\": {\"gridcolor\": \"white\", \"linecolor\": \"white\", \"ticks\": \"\"}, \"bgcolor\": \"#E5ECF6\", \"radialaxis\": {\"gridcolor\": \"white\", \"linecolor\": \"white\", \"ticks\": \"\"}}, \"scene\": {\"xaxis\": {\"backgroundcolor\": \"#E5ECF6\", \"gridcolor\": \"white\", \"gridwidth\": 2, \"linecolor\": \"white\", \"showbackground\": true, \"ticks\": \"\", \"zerolinecolor\": \"white\"}, \"yaxis\": {\"backgroundcolor\": \"#E5ECF6\", \"gridcolor\": \"white\", \"gridwidth\": 2, \"linecolor\": \"white\", \"showbackground\": true, \"ticks\": \"\", \"zerolinecolor\": \"white\"}, \"zaxis\": {\"backgroundcolor\": \"#E5ECF6\", \"gridcolor\": \"white\", \"gridwidth\": 2, \"linecolor\": \"white\", \"showbackground\": true, \"ticks\": \"\", \"zerolinecolor\": \"white\"}}, \"shapedefaults\": {\"line\": {\"color\": \"#2a3f5f\"}}, \"ternary\": {\"aaxis\": {\"gridcolor\": \"white\", \"linecolor\": \"white\", \"ticks\": \"\"}, \"baxis\": {\"gridcolor\": \"white\", \"linecolor\": \"white\", \"ticks\": \"\"}, \"bgcolor\": \"#E5ECF6\", \"caxis\": {\"gridcolor\": \"white\", \"linecolor\": \"white\", \"ticks\": \"\"}}, \"title\": {\"x\": 0.05}, \"xaxis\": {\"automargin\": true, \"gridcolor\": \"white\", \"linecolor\": \"white\", \"ticks\": \"\", \"title\": {\"standoff\": 15}, \"zerolinecolor\": \"white\", \"zerolinewidth\": 2}, \"yaxis\": {\"automargin\": true, \"gridcolor\": \"white\", \"linecolor\": \"white\", \"ticks\": \"\", \"title\": {\"standoff\": 15}, \"zerolinecolor\": \"white\", \"zerolinewidth\": 2}}}, \"title\": {\"text\": \"Top 10 Win Rates for Jungle Position\", \"x\": 0.5}, \"width\": 800, \"xaxis\": {\"anchor\": \"y\", \"categoryorder\": \"total ascending\", \"domain\": [0.0, 1.0], \"title\": {\"text\": \"Champion\"}}, \"yaxis\": {\"anchor\": \"x\", \"domain\": [0.0, 1.0], \"ticksuffix\": \"%\", \"title\": {\"text\": \"Win Percentage\"}, \"visible\": false}},                        {\"responsive\": true}                    ).then(function(){\n                            \nvar gd = document.getElementById('5301f61b-6352-4d85-b7c0-4f011bce25dd');\nvar x = new MutationObserver(function (mutations, observer) {{\n        var display = window.getComputedStyle(gd).display;\n        if (!display || display === 'none') {{\n            console.log([gd, 'removed!']);\n            Plotly.purge(gd);\n            observer.disconnect();\n        }}\n}});\n\n// Listen for the removal of the full notebook cells\nvar notebookContainer = gd.closest('#notebook-container');\nif (notebookContainer) {{\n    x.observe(notebookContainer, {childList: true});\n}}\n\n// Listen for the clearing of the current output cell\nvar outputEl = gd.closest('.output');\nif (outputEl) {{\n    x.observe(outputEl, {childList: true});\n}}\n\n                        })                };                });            </script>        </div>"
     },
     "metadata": {}
    }
   ],
   "source": [
    "for fig in top_10_by_position:\n",
    "    fig.show(renderer = 'notebook_connected')"
   ]
  },
  {
   "cell_type": "code",
   "execution_count": 49,
   "metadata": {},
   "outputs": [
    {
     "output_type": "execute_result",
     "data": {
      "text/plain": [
       "win                       1.000000\n",
       "bountyLevel               0.461929\n",
       "assists                   0.373235\n",
       "turretKills               0.362904\n",
       "largestKillingSpree       0.356634\n",
       "                            ...   \n",
       "inhibitorsLost           -0.571607\n",
       "nexusLost                -0.607605\n",
       "turretsLost              -0.714582\n",
       "sightWardsBoughtInGame         NaN\n",
       "unrealKills                    NaN\n",
       "Name: win, Length: 83, dtype: float64"
      ]
     },
     "metadata": {},
     "execution_count": 49
    }
   ],
   "source": [
    "win_correlations = match_data_total_deduped.corr()['win'].sort_values(ascending = False)\n",
    "win_correlations"
   ]
  },
  {
   "cell_type": "code",
   "execution_count": 50,
   "metadata": {},
   "outputs": [
    {
     "output_type": "execute_result",
     "data": {
      "text/plain": [
       "win                        1.000000\n",
       "bountyLevel                0.461929\n",
       "assists                    0.373235\n",
       "turretKills                0.362904\n",
       "largestKillingSpree        0.356634\n",
       "damageDealtToBuildings     0.345849\n",
       "damageDealtToTurrets       0.345254\n",
       "kills                      0.307865\n",
       "damageDealtToObjectives    0.284228\n",
       "killingSprees              0.270374\n",
       "inhibitorKills             0.255280\n",
       "largestMultiKill           0.253910\n",
       "totalTimeSpentDead        -0.343363\n",
       "deaths                    -0.443197\n",
       "inhibitorsLost            -0.571607\n",
       "nexusLost                 -0.607605\n",
       "turretsLost               -0.714582\n",
       "Name: win, dtype: float64"
      ]
     },
     "metadata": {},
     "execution_count": 50
    }
   ],
   "source": [
    "# correlation at least 25%\n",
    "win_correlations.loc[(win_correlations >= 0.25) | (win_correlations <= -.25)]"
   ]
  },
  {
   "cell_type": "code",
   "execution_count": 51,
   "metadata": {},
   "outputs": [
    {
     "output_type": "display_data",
     "data": {
      "text/html": "        <script type=\"text/javascript\">\n        window.PlotlyConfig = {MathJaxConfig: 'local'};\n        if (window.MathJax) {MathJax.Hub.Config({SVG: {font: \"STIX-Web\"}});}\n        if (typeof require !== 'undefined') {\n        require.undef(\"plotly\");\n        requirejs.config({\n            paths: {\n                'plotly': ['https://cdn.plot.ly/plotly-latest.min']\n            }\n        });\n        require(['plotly'], function(Plotly) {\n            window._Plotly = Plotly;\n        });\n        }\n        </script>\n        "
     },
     "metadata": {}
    },
    {
     "output_type": "display_data",
     "data": {
      "text/html": "<div>                            <div id=\"5590e7f4-af3c-4a04-8633-0007c35a9b6c\" class=\"plotly-graph-div\" style=\"height:600px; width:800px;\"></div>            <script type=\"text/javascript\">                require([\"plotly\"], function(Plotly) {                    window.PLOTLYENV=window.PLOTLYENV || {};                                    if (document.getElementById(\"5590e7f4-af3c-4a04-8633-0007c35a9b6c\")) {                    Plotly.newPlot(                        \"5590e7f4-af3c-4a04-8633-0007c35a9b6c\",                        [{\"alignmentgroup\": \"True\", \"bingroup\": \"x\", \"hovertemplate\": \"Turrets Lost=%{x}<br>count=%{y}<extra></extra>\", \"legendgroup\": \"\", \"marker\": {\"color\": \"#636efa\"}, \"name\": \"\", \"nbinsx\": 20, \"offsetgroup\": \"\", \"orientation\": \"v\", \"showlegend\": false, \"type\": \"histogram\", \"x\": [0.0, 9.0, 3.0, 1.0, 1.0, 1.0, 1.0, 2.0, 1.0, 2.0, 3.0, 5.0, 10.0, 3.0, 1.0, 8.0, 10.0, 8.0, 1.0, 3.0, 0.0, 5.0, 8.0, 4.0, 6.0, 0.0, 0.0, 8.0, 3.0, 3.0, 3.0, 0.0, 8.0, 11.0, 4.0, 3.0, 2.0, 1.0, 1.0, 1.0, 0.0, 10.0, 11.0, 1.0, 3.0, 5.0, 3.0, 6.0, 7.0, 5.0, 0.0, 2.0, 2.0, 0.0, 6.0, 2.0, 0.0, 4.0, 4.0, 5.0, 0.0, 0.0, 0.0, 0.0, 4.0, 2.0, 0.0, 6.0, 3.0, 1.0, 2.0, 5.0, 0.0, 6.0, 0.0, 9.0, 1.0, 4.0, 9.0, 10.0, 9.0, 7.0, 4.0, 8.0, 3.0, 9.0, 0.0, 8.0, 1.0, 2.0, 10.0, 0.0, 4.0, 2.0, 1.0, 5.0, 6.0, 5.0, 4.0, 9.0, 6.0, 0.0, 0.0, 4.0, 6.0, 3.0, 0.0, 7.0, 0.0, 5.0, 1.0, 9.0, 0.0, 2.0, 9.0, 5.0, 7.0, 1.0, 8.0, 7.0, 3.0, 0.0, 5.0, 3.0, 7.0, 5.0, 7.0, 3.0, 4.0, 2.0, 3.0, 2.0, 3.0, 1.0, 4.0, 2.0, 6.0, 4.0, 0.0, 7.0, 7.0, 1.0, 1.0, 9.0, 7.0, 8.0, 0.0, 0.0, 7.0, 5.0, 3.0, 3.0, 5.0, 7.0, 0.0, 3.0, 5.0, 0.0, 4.0, 5.0, 0.0, 1.0, 10.0, 7.0, 8.0, 11.0, 2.0, 7.0, 2.0, 0.0, 7.0, 5.0, 5.0, 6.0, 1.0, 2.0, 0.0, 4.0, 11.0, 0.0, 0.0, 4.0, 7.0, 3.0, 0.0, 4.0, 0.0, 5.0, 1.0, 5.0, 1.0, 0.0, 7.0, 3.0, 5.0, 1.0, 2.0, 1.0, 9.0, 4.0, 1.0, 9.0, 8.0, 10.0, 2.0, 4.0, 0.0, 7.0, 7.0, 0.0, 1.0, 11.0, 2.0, 4.0, 1.0, 2.0, 1.0, 9.0, 4.0, 2.0, 4.0, 3.0, 2.0, 7.0, 0.0, 2.0, 1.0, 2.0, 1.0, 4.0, 1.0, 0.0, 6.0, 2.0, 1.0, 0.0, 2.0, 0.0, 2.0, 1.0, 7.0, 5.0, 2.0, 10.0, 1.0, 3.0, 7.0, 2.0, 0.0, 2.0, 2.0, 1.0, 0.0, 0.0, 6.0, 4.0, 3.0, 10.0, 5.0, 3.0, 3.0, 2.0, 4.0, 3.0, 4.0, 9.0, 0.0, 7.0, 6.0, 9.0, 2.0, 7.0, 3.0, 4.0, 2.0, 0.0, 9.0, 7.0, 2.0, 8.0, 0.0, 9.0, 1.0, 8.0, 9.0, 11.0, 10.0, 11.0, 1.0, 6.0, 4.0, 8.0, 8.0, 2.0, 0.0, 5.0, 2.0, 0.0, 7.0, 0.0, 7.0, 10.0, 4.0, 9.0, 9.0, 4.0, 4.0, 4.0, 2.0, 6.0, 0.0, 1.0, 9.0, 2.0, 0.0, 2.0, 2.0, 3.0, 3.0, 6.0, 0.0, 10.0, 6.0, 1.0, 6.0, 1.0, 9.0, 5.0, 6.0, 2.0, 2.0, 3.0, 1.0, 6.0, 10.0, 1.0, 10.0, 5.0, 5.0, 0.0, 4.0, 2.0, 8.0, 8.0, 9.0, 5.0, 4.0, 11.0, 0.0, 3.0, 3.0, 3.0, 1.0, 2.0, 3.0, 8.0, 7.0, 0.0, 8.0, 0.0, 2.0, 9.0, 1.0, 0.0, 3.0, 7.0, 0.0, 7.0, 6.0, 2.0, 7.0, 10.0, 5.0, 1.0, 8.0, 11.0, 1.0, 6.0, 2.0, 1.0, 5.0, 9.0, 10.0, 0.0, 6.0, 5.0, 2.0, 2.0, 9.0, 8.0, 5.0, 2.0, 1.0, 9.0, 1.0, 3.0, 2.0, 3.0, 0.0, 7.0, 2.0, 1.0, 8.0, 5.0, 3.0, 8.0, 7.0, 6.0, 2.0, 11.0, 9.0, 2.0, 0.0, 2.0, 8.0, 5.0, 1.0, 5.0, 9.0, 8.0, 2.0, 1.0, 10.0, 1.0, 4.0, 6.0, 2.0, 10.0, 5.0, 9.0, 1.0, 9.0, 1.0, 4.0, 9.0, 0.0, 1.0, 4.0, 3.0, 6.0, 3.0, 0.0, 9.0, 8.0, 4.0, 10.0, 0.0, 3.0, 0.0, 11.0, 5.0, 7.0, 2.0, 2.0, 9.0, 8.0, 8.0, 3.0, 6.0, 8.0, 9.0, 4.0, 9.0, 7.0, 7.0, 2.0, 10.0, 3.0, 7.0, 7.0, 3.0, 0.0, 10.0, 5.0, 1.0, 0.0, 9.0, 8.0, 7.0, 1.0, 4.0, 2.0, 4.0, 3.0, 11.0, 0.0, 9.0, 10.0, 9.0, 6.0, 1.0, 4.0, 2.0, 7.0, 6.0, 6.0, 0.0, 0.0, 2.0, 10.0, 9.0, 10.0, 1.0, 3.0, 4.0, 10.0, 4.0, 0.0, 2.0, 5.0, 4.0, 8.0, 8.0, 0.0, 0.0, 3.0, 1.0, 4.0, 4.0, 2.0, 9.0, 8.0, 3.0, 7.0, 4.0, 1.0, 0.0, 2.0, 9.0, 1.0, 0.0, 8.0, 8.0, 1.0, 2.0, 3.0, 1.0, 2.0, 0.0, 4.0, 0.0, 7.0, 4.0, 5.0, 2.0, 2.0, 1.0, 9.0, 2.0, 1.0, 2.0, 2.0, 2.0, 5.0, 7.0, 1.0, 0.0, 3.0, 2.0, 0.0, 10.0, 6.0, 8.0, 7.0, 9.0, 9.0, 6.0, 7.0, 10.0, 8.0, 2.0, 3.0, 6.0, 3.0, 6.0, 1.0, 3.0, 2.0, 9.0, 4.0, 3.0, 1.0, 3.0, 3.0, 1.0, 3.0, 2.0, 0.0, 0.0, 4.0, 6.0, 10.0, 1.0, 3.0, 11.0, 1.0, 0.0, 1.0, 2.0, 1.0, 4.0, 0.0, 2.0, 7.0, 1.0, 3.0, 0.0, 0.0, 11.0, 1.0, 7.0, 5.0, 5.0, 2.0, 1.0, 0.0, 3.0, 1.0, 0.0, 5.0, 8.0, 0.0, 9.0, 0.0, 5.0, 6.0, 3.0, 0.0, 8.0, 3.0, 1.0, 11.0, 0.0, 3.0, 3.0, 0.0, 3.0, 3.0, 8.0, 1.0, 0.0, 6.0, 2.0, 5.0, 0.0, 4.0, 11.0, 2.0, 4.0, 8.0, 1.0, 1.0, 1.0, 0.0, 3.0, 1.0, 3.0, 3.0, 1.0, 4.0, 3.0, 0.0, 2.0, 5.0, 4.0, 10.0, 0.0, 7.0, 2.0, 7.0, 6.0, 4.0, 1.0, 2.0, 10.0, 0.0, 4.0, 9.0, 2.0, 3.0, 5.0, 0.0, 6.0, 5.0, 8.0, 3.0, 1.0, 0.0, 5.0, 10.0, 3.0, 2.0, 3.0, 4.0, 11.0, 0.0, 7.0, 9.0, 4.0, 1.0, 8.0, 3.0, 3.0, 0.0, 3.0, 7.0, 7.0, 8.0, 2.0, 3.0, 0.0, 0.0, 8.0, 9.0, 4.0, 9.0, 4.0, 9.0, 9.0, 0.0, 5.0, 1.0, 7.0, 1.0, 1.0, 10.0, 3.0, 2.0, 8.0, 3.0, 9.0, 3.0, 2.0, 2.0, 1.0, 0.0, 5.0, 2.0, 7.0, 5.0, 9.0, 6.0, 4.0, 3.0, 1.0, 0.0, 2.0, 0.0, 2.0, 0.0, 10.0, 0.0, 3.0, 8.0, 4.0, 2.0, 3.0, 2.0, 3.0, 5.0, 8.0, 3.0, 0.0, 1.0, 8.0, 5.0, 0.0, 3.0, 9.0, 6.0, 10.0, 6.0, 4.0, 8.0, 1.0, 2.0, 11.0, 9.0, 4.0, 0.0, 7.0, 3.0, 6.0, 3.0, 4.0, 9.0, 8.0, 8.0, 2.0, 9.0, 4.0, 0.0, 9.0, 1.0, 2.0, 7.0, 6.0, 9.0, 0.0, 3.0, 3.0, 8.0, 1.0, 3.0, 10.0, 5.0, 6.0, 10.0, 6.0, 3.0, 0.0, 0.0, 5.0, 1.0, 7.0, 4.0, 9.0, 1.0, 1.0, 9.0, 4.0, 4.0, 9.0, 1.0, 0.0, 0.0, 10.0, 8.0, 10.0, 0.0, 8.0, 0.0, 5.0, 1.0, 0.0, 0.0, 6.0, 8.0, 8.0, 7.0, 8.0, 2.0, 11.0, 2.0, 0.0, 2.0, 0.0, 9.0, 3.0, 0.0, 4.0, 5.0, 1.0, 0.0, 1.0, 2.0, 10.0, 0.0, 6.0, 1.0, 0.0, 9.0, 3.0, 2.0, 8.0, 0.0, 9.0, 1.0, 3.0, 6.0, 0.0, 1.0, 10.0, 9.0, 6.0, 1.0, 0.0, 4.0, 11.0, 3.0, 7.0, 11.0, 7.0, 8.0, 0.0, 2.0, 9.0, 0.0, 2.0, 9.0, 1.0, 0.0, 2.0, 4.0, 11.0, 0.0, 0.0, 0.0, 1.0, 0.0, 5.0, 5.0, 9.0, 0.0, 2.0, 10.0, 0.0, 9.0, 0.0, 0.0, 8.0, 4.0, 10.0, 7.0, 8.0, 7.0, 1.0, 7.0, 5.0, 1.0, 6.0, 0.0, 7.0, 6.0, 1.0, 1.0, 0.0, 2.0, 3.0, 0.0, 1.0, 3.0, 8.0, 2.0, 4.0, 7.0, 7.0, 0.0, 2.0, 2.0, 4.0, 6.0, 2.0, 5.0, 3.0, 0.0, 2.0, 3.0, 8.0, 2.0, 6.0, 10.0, 5.0, 6.0, 3.0, 1.0, 3.0, 9.0, 0.0, 1.0, 9.0, 0.0, 5.0, 7.0, 7.0, 2.0, 4.0, 2.0, 5.0, 8.0, 2.0, 2.0, 6.0, 3.0, 10.0, 0.0, 10.0, 1.0, 4.0, 10.0, 0.0, 2.0, 4.0, 0.0, 7.0, 10.0, 0.0, 3.0, 1.0, 0.0, 3.0, 2.0, 7.0, 4.0, 7.0, 0.0, 7.0, 0.0, 0.0, 11.0, 7.0, 1.0, 10.0, 11.0, 4.0, 3.0, 7.0, 4.0, 8.0, 8.0, 0.0, 0.0, 1.0, 4.0, 3.0, 6.0, 1.0, 8.0, 7.0, 0.0, 1.0, 1.0, 1.0, 10.0, 8.0, 3.0, 1.0, 0.0, 2.0, 4.0, 1.0, 2.0, 0.0, 1.0, 10.0, 0.0, 1.0, 0.0, 10.0, 6.0, 9.0, 2.0, 3.0, 7.0, 9.0, 2.0, 6.0, 2.0, 6.0, 1.0, 5.0, 7.0, 3.0, 5.0, 10.0, 9.0, 2.0, 1.0, 5.0, 2.0, 8.0, 9.0, 4.0, 9.0, 4.0, 3.0, 2.0, 7.0, 2.0, 5.0, 0.0, 4.0, 0.0, 7.0, 11.0, 10.0, 7.0, 1.0, 3.0, 1.0, 2.0, 6.0, 6.0, 9.0, 9.0, 2.0, 9.0, 9.0, 8.0, 5.0, 8.0, 3.0, 9.0, 1.0, 9.0, 1.0, 1.0, 1.0, 7.0, 10.0, 2.0, 3.0, 2.0, 5.0, 3.0, 2.0, 10.0, 1.0, 0.0, 4.0, 2.0, 2.0, 1.0, 9.0, 3.0, 8.0, 1.0, 5.0, 0.0, 1.0, 0.0, 1.0, 0.0, 6.0, 0.0, 11.0, 10.0, 8.0, 10.0, 4.0, 4.0, 1.0, 4.0, 3.0, 3.0, 2.0, 0.0, 2.0, 0.0, 0.0, 9.0, 0.0, 3.0, 5.0, 3.0, 2.0, 10.0, 0.0, 6.0, 3.0, 7.0, 5.0, 3.0, 0.0, 8.0, 5.0, 5.0, 10.0, 7.0, 1.0, 1.0, 4.0, 0.0, 3.0, 2.0, 0.0, 6.0, 10.0, 3.0, 1.0, 11.0, 3.0, 3.0, 10.0, 3.0, 1.0, 3.0, 2.0, 5.0, 10.0, 7.0, 3.0, 1.0, 1.0, 8.0, 7.0, 4.0, 7.0, 1.0, 5.0, 3.0, 2.0, 3.0, 3.0, 2.0, 4.0, 2.0, 2.0, 5.0, 7.0, 2.0, 1.0, 8.0, 2.0, 1.0, 0.0, 8.0, 3.0, 9.0, 10.0, 0.0, 9.0, 2.0, 0.0, 3.0, 0.0, 9.0, 0.0, 4.0, 9.0, 2.0, 11.0, 7.0, 7.0, 2.0, 7.0, 1.0, 4.0, 0.0, 2.0, 4.0, 8.0, 3.0, 0.0, 8.0, 0.0, 0.0, 0.0, 5.0, 8.0, 0.0, 9.0, 1.0, 1.0, 0.0, 8.0, 0.0, 0.0, 3.0, 0.0, 8.0, 7.0, 9.0, 2.0, 11.0, 1.0, 7.0, 9.0, 2.0, 8.0, 0.0, 7.0, 2.0, 2.0, 0.0, 9.0, 3.0, 9.0, 1.0, 3.0, 2.0, 2.0, 1.0, 9.0, 3.0, 1.0, 3.0, 4.0, 3.0, 2.0, 3.0, 1.0, 1.0, 4.0, 8.0, 3.0, 4.0, 0.0, 7.0, 5.0, 4.0, 1.0, 2.0, 2.0, 1.0, 1.0, 4.0, 2.0, 4.0, 0.0, 4.0, 5.0, 2.0, 2.0, 10.0, 3.0, 5.0, 8.0, 1.0, 3.0, 6.0, 4.0, 1.0, 6.0, 3.0, 0.0, 5.0, 1.0, 8.0, 3.0, 7.0, 1.0, 3.0, 4.0, 7.0, 5.0, 10.0, 1.0, 9.0, 8.0, 2.0, 9.0, 1.0, 8.0, 1.0, 1.0, 0.0, 1.0, 1.0, 0.0, 7.0, 4.0, 6.0, 4.0, 4.0, 10.0, 1.0, 10.0, 3.0, 2.0, 2.0, 9.0, 7.0, 2.0, 4.0, 0.0, 6.0, 6.0, 8.0, 4.0, 0.0, 0.0, 0.0, 7.0, 5.0, 1.0, 0.0, 0.0, 1.0, 8.0, 1.0, 8.0, 4.0, 6.0, 2.0, 7.0, 1.0, 1.0, 0.0, 4.0, 3.0, 6.0, 1.0, 8.0, 0.0, 3.0, 1.0, 3.0, 3.0, 3.0, 2.0, 1.0, 0.0, 7.0, 3.0, 8.0, 3.0, 0.0, 0.0, 2.0, 3.0, 1.0, 10.0, 4.0, 3.0, 0.0, 0.0, 3.0, 3.0, 0.0, 1.0, 0.0, 6.0, 7.0, 0.0, 2.0, 3.0, 9.0, 7.0, 11.0, 9.0, 5.0, 3.0, 5.0, 1.0, 4.0, 5.0, 5.0, 4.0, 8.0, 0.0, 0.0, 8.0, 0.0, 6.0, 1.0, 0.0, 6.0, 5.0, 2.0, 2.0, 1.0, 2.0, 3.0, 0.0, 0.0, 10.0, 3.0, 4.0, 5.0, 7.0, 2.0, 7.0, 0.0, 3.0, 4.0, 1.0, 5.0, 3.0, 3.0, 6.0, 0.0, 7.0, 1.0, 5.0, 0.0, 0.0, 6.0, 2.0, 3.0, 8.0, 2.0, 2.0, 0.0, 8.0, 2.0, 0.0, 0.0, 3.0, 9.0, 1.0, 1.0, 4.0, 0.0, 7.0, 7.0, 0.0, 1.0, 8.0, 4.0, 5.0, 9.0, 8.0, 8.0, 8.0, 10.0, 0.0, 7.0, 0.0, 7.0, 1.0, 0.0, 0.0, 6.0, 2.0, 5.0, 5.0, 3.0, 10.0, 4.0, 0.0, 9.0, 0.0, 8.0, 0.0, 2.0, 9.0, 1.0, 6.0, 3.0, 4.0, 10.0, 7.0, 9.0, 7.0, 4.0, 2.0, 0.0, 3.0, 2.0, 6.0, 3.0, 0.0, 0.0, 9.0, 8.0, 1.0, 4.0, 8.0, 0.0, 3.0, 3.0, 8.0, 11.0, 3.0, 11.0, 8.0, 6.0, 9.0, 5.0, 2.0, 3.0, 1.0, 1.0, 5.0, 9.0, 9.0, 8.0, 5.0, 0.0, 3.0, 1.0, 0.0, 0.0, 5.0, 2.0, 0.0, 5.0, 8.0, 0.0, 3.0, 4.0, 5.0, 2.0, 1.0, 9.0, 4.0, 2.0, 5.0, 8.0, 0.0, 1.0, 1.0, 2.0, 9.0, 7.0, 0.0, 9.0, 1.0, 1.0, 1.0, 1.0, 4.0, 0.0, 2.0, 9.0, 0.0, 7.0, 0.0, 0.0, 1.0, 5.0, 8.0, 2.0, 2.0, 8.0, 10.0, 2.0, 4.0, 8.0, 5.0, 0.0, 0.0, 2.0, 4.0, 7.0, 9.0, 1.0, 6.0, 8.0, 1.0, 0.0, 3.0, 8.0, 7.0, 0.0, 6.0, 2.0, 4.0, 8.0, 0.0, 0.0, 0.0, 6.0, 8.0, 9.0, 7.0, 2.0, 0.0, 4.0, 7.0, 11.0, 9.0, 7.0, 4.0, 8.0, 7.0, 0.0, 0.0, 3.0, 1.0, 2.0, 0.0, 8.0, 2.0, 3.0, 8.0, 4.0, 2.0, 3.0, 4.0, 8.0, 0.0, 3.0, 1.0, 1.0, 1.0, 9.0, 1.0, 1.0, 4.0, 2.0, 1.0, 4.0, 9.0, 5.0, 0.0, 8.0, 6.0, 8.0, 7.0, 9.0, 7.0, 7.0, 0.0, 5.0, 8.0, 9.0, 4.0, 9.0, 2.0, 2.0, 2.0, 11.0, 4.0, 2.0, 6.0, 9.0, 5.0, 4.0, 8.0, 3.0, 0.0, 1.0, 1.0, 6.0, 4.0, 0.0, 1.0, 0.0, 5.0, 7.0, 1.0, 7.0, 9.0, 0.0, 4.0, 0.0, 4.0, 4.0, 0.0, 3.0, 9.0, 8.0, 2.0, 7.0, 1.0, 3.0, 9.0, 4.0, 0.0, 2.0, 0.0, 5.0, 0.0, 2.0, 1.0, 1.0, 2.0, 0.0, 8.0, 10.0, 0.0, 1.0, 2.0, 9.0, 11.0, 2.0, 5.0, 3.0, 11.0, 3.0, 8.0, 0.0, 8.0, 8.0, 2.0, 7.0, 5.0, 4.0, 2.0, 3.0, 1.0, 3.0, 9.0, 1.0, 8.0, 3.0, 0.0, 5.0, 10.0, 8.0, 9.0, 10.0, 1.0, 0.0, 2.0, 10.0, 2.0, 7.0, 3.0, 3.0, 0.0, 5.0, 7.0, 2.0, 0.0, 4.0, 7.0, 3.0, 5.0, 0.0, 6.0, 2.0, 0.0, 9.0, 11.0, 8.0, 7.0, 5.0, 7.0, 2.0, 11.0, 7.0, 2.0, 1.0, 10.0, 1.0, 9.0, 7.0, 5.0, 2.0, 1.0, 1.0, 4.0, 3.0, 5.0, 1.0, 0.0, 6.0, 7.0, 5.0, 7.0, 7.0, 0.0, 0.0, 4.0, 8.0, 7.0, 1.0, 0.0, 8.0, 4.0, 5.0, 9.0, 4.0, 3.0, 4.0, 2.0, 1.0, 0.0, 1.0, 3.0, 9.0, 9.0, 3.0, 7.0, 5.0, 1.0, 7.0, 4.0, 1.0, 3.0, 0.0, 3.0, 5.0, 3.0, 3.0, 4.0, 3.0, 11.0, 7.0, 2.0, 3.0, 8.0, 8.0, 5.0, 2.0, 5.0, 5.0, 0.0, 0.0, 2.0, 7.0, 9.0, 8.0, 9.0, 1.0, 2.0, 9.0, 2.0, 0.0, 2.0, 7.0, 0.0, 3.0, 5.0, 0.0, 8.0, 0.0, 2.0, 1.0, 0.0, 6.0, 3.0, 3.0, 10.0, 1.0, 1.0, 6.0, 4.0, 7.0, 8.0, 10.0, 7.0, 7.0, 9.0, 6.0, 0.0, 7.0, 1.0, 8.0, 0.0, 2.0, 8.0, 0.0, 9.0, 5.0, 2.0, 2.0, 3.0, 0.0, 2.0, 9.0, 5.0, 4.0, 9.0, 7.0, 3.0, 7.0, 3.0, 5.0, 6.0, 1.0, 3.0, 3.0, 1.0, 3.0, 5.0, 9.0, 9.0, 4.0, 3.0, 9.0, 0.0, 7.0, 3.0, 7.0, 8.0, 0.0, 4.0, 0.0, 4.0, 9.0, 0.0, 0.0, 9.0, 0.0, 8.0, 9.0, 1.0, 1.0, 2.0, 10.0, 5.0, 7.0, 0.0, 2.0, 8.0, 3.0, 6.0, 9.0, 3.0, 1.0, 7.0, 7.0, 5.0, 9.0, 6.0, 0.0, 8.0, 8.0, 8.0, 10.0, 2.0, 1.0, 3.0, 1.0, 5.0, 5.0, 2.0, 5.0, 9.0, 8.0, 0.0, 1.0, 7.0, 9.0, 2.0, 1.0, 2.0, 5.0, 3.0, 2.0, 6.0, 6.0, 0.0, 4.0, 8.0, 6.0, 0.0, 1.0, 2.0, 5.0, 10.0, 2.0, 5.0, 6.0, 1.0, 0.0, 1.0, 7.0, 0.0, 5.0, 1.0, 4.0, 1.0, 9.0, 11.0, 9.0, 5.0, 0.0, 1.0, 4.0, 3.0, 3.0, 4.0, 0.0, 0.0, 1.0, 3.0, 5.0, 2.0, 9.0, 4.0, 1.0, 1.0, 3.0, 0.0, 0.0, 4.0, 2.0, 3.0, 3.0, 6.0, 4.0, 1.0, 9.0, 2.0, 0.0, 10.0, 2.0, 3.0, 8.0, 1.0, 3.0, 9.0, 2.0, 7.0, 3.0, 1.0, 9.0, 9.0, 3.0, 3.0, 2.0, 7.0, 2.0, 8.0, 1.0, 8.0, 3.0, 6.0, 7.0, 2.0, 1.0, 4.0, 1.0, 0.0, 1.0, 0.0, 2.0, 9.0, 3.0, 0.0, 2.0, 8.0, 5.0, 9.0, 8.0, 9.0, 0.0, 0.0, 2.0, 2.0, 0.0, 3.0, 6.0, 9.0, 1.0, 8.0, 8.0, 1.0, 2.0, 5.0, 8.0, 3.0, 9.0, 5.0, 10.0, 0.0, 9.0, 2.0, 1.0, 7.0, 1.0, 4.0, 0.0, 1.0, 0.0, 0.0, 7.0, 7.0, 7.0, 6.0, 2.0, 0.0, 1.0, 4.0, 1.0, 0.0, 3.0, 7.0, 0.0, 0.0, 2.0, 0.0, 1.0, 1.0, 5.0, 4.0, 6.0, 1.0, 0.0, 8.0, 7.0, 3.0, 8.0, 1.0, 10.0, 4.0, 4.0, 5.0, 1.0, 1.0, 8.0, 3.0, 0.0, 2.0, 1.0, 4.0, 6.0, 7.0, 0.0, 4.0, 9.0, 9.0, 2.0, 6.0, 1.0, 1.0, 10.0, 4.0, 9.0, 4.0, 0.0, 4.0, 3.0, 8.0, 4.0, 11.0, 0.0, 6.0, 6.0, 1.0, 0.0, 3.0, 4.0, 2.0, 5.0, 3.0, 1.0, 3.0, 6.0, 10.0, 5.0, 7.0, 7.0, 5.0, 0.0, 2.0, 9.0, 3.0, 1.0, 11.0, 7.0, 3.0, 9.0, 5.0, 3.0, 8.0, 8.0, 2.0, 6.0, 10.0, 10.0, 2.0, 9.0, 2.0, 5.0, 0.0, 7.0, 10.0, 2.0, 4.0, 0.0, 3.0, 1.0, 2.0, 2.0, 5.0, 4.0, 4.0, 2.0, 5.0, 5.0, 3.0, 9.0, 2.0, 5.0, 3.0, 1.0, 10.0, 1.0, 7.0, 1.0, 8.0, 8.0, 3.0, 3.0, 0.0, 0.0, 1.0, 4.0, 4.0, 4.0, 6.0, 9.0, 8.0, 0.0, 5.0, 8.0, 8.0, 3.0, 5.0, 9.0, 0.0, 0.0, 4.0, 5.0, 2.0, 5.0, 5.0, 0.0, 6.0, 7.0, 0.0, 2.0, 0.0, 1.0, 5.0, 1.0, 8.0, 6.0, 2.0, 2.0, 10.0, 4.0, 6.0, 2.0, 7.0, 1.0, 0.0, 9.0, 5.0, 1.0, 10.0, 0.0, 8.0, 6.0, 2.0, 2.0, 5.0, 0.0, 0.0, 4.0, 0.0, 4.0, 5.0, 3.0, 8.0, 2.0, 2.0, 0.0, 0.0, 7.0, 2.0, 2.0, 4.0, 9.0, 0.0, 1.0, 3.0, 8.0, 4.0, 6.0, 7.0, 6.0, 1.0, 1.0, 2.0, 2.0, 7.0, 0.0, 2.0, 10.0, 1.0, 1.0, 4.0, 3.0, 3.0, 3.0, 0.0, 11.0, 10.0, 5.0, 0.0, 1.0, 3.0, 7.0, 4.0, 0.0, 2.0, 0.0, 4.0, 4.0, 3.0, 7.0, 9.0, 5.0, 4.0, 1.0, 2.0, 4.0, 2.0, 9.0, 6.0, 4.0, 3.0, 9.0, 3.0, 7.0, 0.0, 6.0, 3.0, 9.0, 5.0, 3.0, 0.0, 11.0, 2.0, 2.0, 2.0, 7.0, 2.0, 4.0, 3.0, 0.0, 3.0, 3.0, 2.0, 7.0, 2.0, 9.0, 2.0, 6.0, 8.0, 9.0, 4.0, 9.0, 1.0, 9.0, 0.0, 3.0, 5.0, 8.0, 10.0, 0.0, 5.0, 3.0, 1.0, 3.0, 6.0, 0.0, 10.0, 7.0, 10.0, 2.0, 1.0, 6.0, 2.0, 6.0, 2.0, 9.0, 3.0, 3.0, 2.0, 10.0, 5.0, 8.0, 3.0, 0.0, 10.0, 2.0, 8.0, 6.0, 3.0, 2.0, 3.0, 4.0, 1.0, 1.0, 10.0, 0.0, 6.0, 0.0, 4.0, 1.0, 3.0, 6.0, 5.0, 9.0, 1.0, 1.0, 9.0, 7.0, 2.0, 3.0, 3.0, 3.0, 5.0, 3.0, 0.0, 6.0, 6.0, 0.0, 0.0, 8.0, 1.0, 0.0, 7.0, 2.0, 8.0, 10.0, 0.0, 3.0, 10.0, 0.0, 8.0, 1.0, 9.0, 8.0, 2.0, 3.0, 0.0, 0.0, 3.0, 8.0, 4.0, 7.0, 9.0, 5.0, 0.0, 2.0, 1.0, 10.0, 0.0, 2.0, 9.0, 5.0, 3.0, 10.0, 9.0, 9.0, 7.0, 0.0, 0.0, 9.0, 0.0, 5.0, 9.0, 9.0, 1.0, 9.0, 4.0, 1.0, 4.0, 4.0, 3.0, 3.0, 9.0, 5.0, 5.0, 1.0, 1.0, 3.0, 11.0, 6.0, 2.0, 1.0, 4.0, 3.0, 8.0, 3.0, 0.0, 0.0, 1.0, 8.0, 8.0, 2.0, 1.0, 0.0, 3.0, 2.0, 1.0, 2.0, 0.0, 9.0, 2.0, 6.0, 5.0, 3.0, 5.0, 6.0, 0.0, 1.0, 8.0, 3.0, 6.0, 1.0, 4.0, 2.0, 8.0, 3.0, 2.0, 8.0, 0.0, 3.0, 3.0, 1.0, 6.0, 10.0, 6.0, 2.0, 9.0, 0.0, 5.0, 3.0, 8.0, 3.0, 6.0, 0.0, 7.0, 5.0, 2.0, 2.0, 5.0, 2.0, 8.0, 7.0, 7.0, 3.0, 1.0, 2.0, 0.0, 6.0, 4.0, 3.0, 2.0, 3.0, 1.0, 9.0, 5.0, 8.0, 2.0, 3.0, 7.0, 2.0, 2.0, 6.0, 10.0, 7.0, 6.0, 5.0, 1.0, 4.0, 9.0, 4.0, 3.0, 7.0, 3.0, 4.0, 9.0, 1.0, 0.0, 4.0, 1.0, 0.0, 3.0, 10.0, 3.0, 3.0, 1.0, 7.0, 4.0, 0.0, 3.0, 9.0, 7.0, 5.0, 3.0, 1.0, 8.0, 8.0, 0.0, 3.0, 4.0, 5.0, 1.0, 0.0, 4.0, 3.0, 1.0, 0.0, 5.0, 9.0, 0.0, 3.0, 4.0, 0.0, 4.0, 4.0, 0.0, 9.0, 0.0, 3.0, 2.0, 11.0, 3.0, 7.0, 2.0, 2.0, 3.0, 0.0, 10.0, 0.0, 8.0, 3.0, 7.0, 9.0, 5.0, 0.0, 3.0, 3.0, 3.0, 9.0, 0.0, 4.0, 5.0, 4.0, 1.0, 7.0, 8.0, 0.0, 1.0, 4.0, 9.0, 3.0, 1.0, 1.0, 6.0, 7.0, 0.0, 0.0, 0.0, 5.0, 1.0, 0.0, 6.0, 9.0, 4.0, 5.0, 7.0, 3.0, 3.0, 2.0, 3.0, 4.0, 0.0, 3.0, 8.0, 6.0, 7.0, 2.0, 0.0, 3.0, 1.0, 3.0, 0.0, 8.0, 3.0, 6.0, 0.0, 0.0, 8.0, 11.0, 7.0, 4.0, 2.0, 5.0, 9.0, 9.0, 3.0, 4.0, 3.0, 2.0, 3.0, 3.0, 3.0, 0.0, 8.0, 6.0, 8.0, 2.0, 2.0, 0.0, 2.0, 5.0, 4.0, 2.0, 3.0, 2.0, 1.0, 2.0, 5.0, 6.0, 0.0, 3.0, 6.0, 6.0, 3.0, 0.0, 6.0, 1.0, 2.0, 3.0, 1.0, 0.0, 7.0, 5.0, 4.0, 1.0, 3.0, 4.0, 8.0, 9.0, 5.0, 0.0, 3.0, 7.0, 1.0, 9.0, 10.0, 3.0, 0.0, 2.0, 9.0, 0.0, 0.0, 6.0, 2.0, 2.0, 4.0, 2.0, 1.0, 0.0, 0.0, 8.0, 8.0, 3.0, 2.0, 2.0, 3.0, 6.0, 2.0, 2.0, 0.0, 8.0, 10.0, 3.0, 2.0, 7.0, 1.0, 6.0, 8.0, 10.0, 2.0, 7.0, 0.0, 7.0, 3.0, 5.0, 6.0, 9.0, 4.0, 10.0, 11.0, 0.0, 8.0, 0.0, 6.0, 10.0, 2.0, 4.0, 2.0, 1.0, 0.0, 9.0, 2.0, 0.0, 7.0, 1.0, 0.0, 8.0, 10.0, 8.0, 10.0, 0.0, 3.0, 1.0, 0.0, 3.0, 1.0, 3.0, 1.0, 0.0, 0.0, 2.0, 6.0, 10.0, 5.0, 0.0, 7.0, 0.0, 3.0, 7.0, 1.0, 5.0, 3.0, 10.0, 0.0, 7.0, 10.0, 5.0, 3.0, 9.0, 8.0, 3.0, 7.0, 0.0, 0.0, 2.0, 7.0, 0.0, 0.0, 1.0, 8.0, 9.0, 5.0, 3.0, 0.0, 1.0, 1.0, 6.0, 3.0, 4.0, 8.0, 1.0, 0.0, 5.0, 9.0, 0.0, 6.0, 3.0, 2.0, 1.0, 2.0, 8.0, 8.0, 2.0, 4.0, 0.0, 2.0, 7.0, 4.0, 0.0, 2.0, 7.0, 1.0, 7.0, 3.0, 5.0, 3.0, 3.0, 6.0, 0.0, 4.0, 0.0, 2.0, 11.0, 11.0, 8.0, 0.0, 0.0, 2.0, 7.0, 0.0, 3.0, 4.0, 0.0, 1.0, 2.0, 11.0, 6.0, 6.0, 6.0, 10.0, 8.0, 8.0, 4.0, 5.0, 3.0, 0.0, 4.0, 0.0, 6.0, 6.0, 1.0, 3.0, 6.0, 5.0, 0.0, 3.0, 8.0, 0.0, 0.0, 6.0, 9.0, 4.0, 7.0, 5.0, 0.0, 2.0, 0.0, 7.0, 7.0, 1.0, 2.0, 4.0, 10.0, 2.0, 1.0, 4.0, 8.0, 2.0, 1.0, 3.0, 0.0, 5.0, 1.0, 1.0, 4.0, 2.0, 10.0, 5.0, 9.0, 8.0, 8.0, 10.0, 4.0, 1.0, 6.0, 9.0, 6.0, 4.0, 2.0, 0.0, 2.0, 10.0, 10.0, 0.0, 7.0, 3.0, 0.0, 4.0, 3.0, 1.0, 5.0, 6.0, 2.0, 5.0, 1.0, 2.0, 8.0, 3.0, 3.0, 1.0, 3.0, 5.0, 5.0, 3.0, 2.0, 1.0, 8.0, 4.0, 4.0, 11.0, 4.0, 9.0, 7.0, 3.0, 2.0, 7.0, 3.0, 1.0, 7.0, 8.0, 1.0, 3.0, 0.0, 10.0, 8.0, 6.0, 8.0, 2.0, 3.0, 6.0, 2.0, 0.0, 3.0, 6.0, 2.0, 2.0, 3.0, 0.0, 7.0, 5.0, 0.0, 5.0, 5.0, 3.0, 2.0, 1.0, 9.0, 2.0, 0.0, 7.0, 0.0, 3.0, 1.0, 1.0, 4.0, 3.0, 4.0, 3.0, 5.0, 5.0, 2.0, 6.0, 5.0, 2.0, 3.0, 8.0, 6.0, 9.0, 9.0, 10.0, 1.0, 7.0, 6.0, 3.0, 1.0, 9.0, 0.0, 2.0, 1.0, 6.0, 0.0, 2.0, 2.0, 1.0, 2.0, 2.0, 8.0, 4.0, 6.0, 2.0, 3.0, 6.0, 7.0, 1.0, 3.0, 8.0, 2.0, 5.0, 1.0, 4.0, 3.0, 0.0, 8.0, 8.0, 6.0, 7.0, 4.0, 1.0, 3.0, 0.0, 9.0, 9.0, 0.0, 5.0, 9.0, 1.0, 0.0, 8.0, 2.0, 4.0, 2.0, 7.0, 3.0, 7.0, 5.0, 9.0, 7.0, 0.0, 0.0, 3.0, 9.0, 1.0, 10.0, 0.0, 2.0, 10.0, 0.0, 8.0, 7.0, 11.0, 2.0, 2.0, 8.0, 5.0, 1.0, 1.0, 3.0, 2.0, 3.0, 4.0, 6.0, 3.0, 3.0, 5.0, 0.0, 10.0, 1.0, 8.0, 0.0, 4.0, 3.0, 1.0, 1.0, 3.0, 8.0, 5.0, 5.0, 8.0, 4.0, 4.0, 2.0, 0.0, 0.0, 3.0, 0.0, 4.0, 4.0, 1.0, 5.0, 0.0, 0.0, 1.0, 9.0, 9.0, 11.0, 1.0, 10.0, 3.0, 0.0, 11.0, 1.0, 1.0, 1.0, 2.0, 7.0, 11.0, 10.0, 5.0, 1.0, 2.0, 1.0, 2.0, 0.0, 9.0, 4.0, 0.0, 2.0, 4.0, 3.0, 6.0, 9.0, 0.0, 10.0, 0.0, 7.0, 3.0, 3.0, 6.0, 7.0, 3.0, 2.0, 7.0, 4.0, 1.0, 2.0, 8.0, 10.0, 7.0, 0.0, 8.0, 2.0, 2.0, 7.0, 2.0, 2.0, 3.0, 1.0, 9.0, 11.0, 0.0, 9.0, 4.0, 1.0, 1.0, 3.0, 6.0, 10.0, 6.0, 5.0, 0.0, 8.0, 5.0, 8.0, 4.0, 4.0, 7.0, 7.0, 8.0, 8.0, 4.0, 9.0, 6.0, 2.0, 1.0, 0.0, 4.0, 6.0, 10.0, 4.0, 9.0, 0.0, 7.0, 0.0, 0.0, 7.0, 9.0, 7.0, 4.0, 1.0, 3.0, 10.0, 7.0, 9.0, 1.0, 8.0, 1.0, 11.0, 4.0, 9.0, 9.0, 5.0, 1.0, 7.0, 8.0, 9.0, 1.0, 2.0, 3.0, 0.0, 1.0, 5.0, 0.0, 3.0, 3.0, 0.0, 1.0, 10.0, 7.0, 0.0, 2.0, 8.0, 8.0, 1.0, 3.0, 5.0, 8.0, 1.0, 4.0, 2.0, 0.0, 7.0, 5.0, 4.0, 3.0, 0.0, 4.0, 3.0, 3.0, 7.0, 1.0, 0.0, 6.0, 1.0, 1.0, 2.0, 6.0, 4.0, 8.0, 1.0, 3.0, 2.0, 1.0, 2.0, 0.0, 5.0, 3.0, 2.0, 5.0, 7.0, 3.0, 0.0, 7.0, 5.0, 2.0, 0.0, 0.0, 4.0, 9.0, 1.0, 5.0, 9.0, 1.0, 5.0, 6.0, 0.0, 5.0, 5.0, 7.0, 6.0, 1.0, 8.0, 0.0, 2.0, 5.0, 3.0, 6.0, 7.0, 7.0, 3.0, 10.0, 3.0, 10.0, 1.0, 3.0, 4.0, 1.0, 0.0, 9.0, 1.0, 9.0, 0.0, 2.0, 9.0, 8.0, 10.0, 2.0, 8.0, 0.0, 1.0, 1.0, 4.0, 9.0, 0.0, 0.0, 3.0, 1.0, 5.0, 0.0, 9.0, 4.0, 11.0, 11.0, 11.0, 7.0, 0.0, 0.0, 2.0, 3.0, 1.0, 3.0, 9.0, 1.0, 2.0, 0.0, 2.0, 8.0, 6.0, 3.0, 2.0, 2.0, 3.0, 3.0, 8.0, 9.0, 1.0, 4.0, 8.0, 3.0, 0.0, 0.0, 3.0, 0.0, 2.0, 1.0, 3.0, 0.0, 7.0, 3.0, 4.0, 3.0, 8.0, 2.0, 4.0, 8.0, 3.0, 2.0, 4.0, 2.0, 0.0, 6.0, 8.0, 0.0, 0.0, 5.0, 2.0, 4.0, 7.0, 5.0, 5.0, 9.0, 0.0, 0.0, 5.0, 9.0, 3.0, 7.0, 7.0, 1.0, 6.0, 4.0, 9.0, 7.0, 3.0, 11.0, 0.0, 2.0, 7.0, 1.0, 2.0, 8.0, 8.0, 3.0, 0.0, 9.0, 4.0, 10.0, 6.0, 1.0, 3.0, 4.0, 1.0, 2.0, 10.0, 3.0, 4.0, 5.0, 3.0, 3.0, 10.0, 1.0, 1.0, 0.0, 0.0, 0.0, 2.0, 9.0, 10.0, 1.0, 0.0, 11.0, 8.0, 1.0, 9.0, 1.0, 6.0, 1.0, 4.0, 1.0, 1.0, 5.0, 0.0, 3.0, 1.0, 7.0, 5.0, 6.0, 1.0, 3.0, 7.0, 2.0, 0.0, 5.0, 2.0, 1.0, 2.0, 5.0, 7.0, 11.0, 0.0, 1.0, 1.0, 9.0, 5.0, 1.0, 2.0, 1.0, 0.0, 2.0, 3.0, 7.0, 1.0, 1.0, 0.0, 1.0, 4.0, 3.0, 3.0, 2.0, 1.0, 2.0, 8.0, 3.0, 2.0, 4.0, 6.0, 10.0, 8.0, 10.0, 0.0, 6.0, 1.0, 0.0, 0.0, 2.0, 4.0, 7.0, 0.0, 1.0, 2.0, 2.0, 1.0, 4.0, 3.0, 5.0, 1.0, 5.0, 2.0, 5.0, 2.0, 2.0, 4.0, 3.0, 8.0, 10.0, 7.0, 1.0, 7.0, 3.0, 2.0, 0.0, 1.0, 3.0, 0.0, 0.0, 2.0, 7.0, 6.0, 0.0, 3.0, 9.0, 0.0, 3.0, 3.0, 0.0, 9.0, 0.0, 3.0, 9.0, 3.0, 3.0, 3.0, 0.0, 2.0, 1.0, 2.0, 7.0, 1.0, 2.0, 2.0, 11.0, 1.0, 9.0, 2.0, 1.0, 7.0, 9.0, 11.0, 9.0, 10.0, 4.0, 1.0, 1.0, 2.0, 7.0, 5.0, 4.0, 9.0, 11.0, 0.0, 3.0, 0.0, 0.0, 3.0, 4.0, 9.0, 7.0, 0.0, 4.0, 2.0, 6.0, 3.0, 8.0, 7.0, 0.0, 0.0, 4.0, 3.0, 4.0, 2.0, 6.0, 0.0, 0.0, 5.0, 0.0, 0.0, 6.0, 8.0, 9.0, 0.0, 2.0, 0.0, 9.0, 0.0, 6.0, 0.0, 7.0, 4.0, 3.0, 10.0, 0.0, 2.0, 0.0, 5.0, 6.0, 1.0, 3.0, 9.0, 0.0, 3.0, 8.0, 6.0, 3.0, 4.0, 3.0, 0.0, 3.0, 2.0, 0.0, 4.0, 1.0, 3.0, 0.0, 0.0, 2.0, 5.0, 0.0, 3.0, 7.0, 4.0, 9.0, 3.0, 4.0, 7.0, 10.0, 9.0, 6.0, 1.0, 3.0, 3.0, 2.0, 9.0, 3.0, 0.0, 7.0, 3.0, 8.0, 1.0, 2.0, 1.0, 1.0, 9.0, 2.0, 4.0, 4.0, 0.0, 0.0, 1.0, 9.0, 1.0, 0.0, 5.0, 4.0, 1.0, 5.0, 4.0, 0.0, 2.0, 1.0, 7.0, 2.0, 8.0, 2.0, 9.0, 8.0, 3.0, 0.0, 8.0, 2.0, 1.0, 4.0, 9.0, 7.0, 3.0, 5.0, 3.0, 5.0, 9.0, 4.0, 2.0, 6.0, 0.0, 5.0, 9.0, 10.0, 1.0, 6.0, 9.0, 2.0, 11.0, 2.0, 7.0, 5.0, 2.0, 2.0, 2.0, 10.0, 4.0, 3.0, 1.0, 8.0, 7.0, 4.0, 2.0, 2.0, 4.0, 2.0, 10.0, 3.0, 1.0, 1.0, 1.0, 11.0, 11.0, 2.0, 3.0, 3.0, 0.0, 3.0, 0.0, 1.0, 5.0, 4.0, 11.0, 1.0, 0.0, 5.0, 2.0, 0.0, 2.0, 2.0, 1.0, 3.0, 6.0, 1.0, 1.0, 1.0, 2.0, 0.0, 0.0, 9.0, 7.0, 0.0, 5.0, 7.0, 1.0, 0.0, 3.0, 0.0, 1.0, 0.0, 9.0, 1.0, 2.0, 10.0, 8.0, 5.0, 8.0, 4.0, 1.0, 11.0, 1.0, 10.0, 1.0, 4.0, 3.0, 3.0, 1.0, 3.0, 10.0, 1.0, 3.0, 0.0, 6.0, 4.0, 1.0, 9.0, 7.0, 0.0, 11.0, 8.0, 1.0, 2.0, 5.0, 5.0, 2.0, 8.0, 4.0, 7.0, 3.0, 4.0, 1.0, 0.0, 8.0, 1.0, 0.0, 4.0, 9.0, 8.0, 11.0, 4.0, 0.0, 0.0, 6.0, 5.0, 1.0, 0.0, 2.0, 2.0, 0.0, 4.0, 2.0, 4.0, 3.0, 7.0, 6.0, 9.0, 7.0, 1.0, 5.0, 1.0, 5.0, 7.0, 1.0, 9.0, 1.0, 1.0, 7.0, 4.0, 5.0, 5.0, 5.0, 2.0, 5.0, 2.0, 8.0, 2.0, 3.0, 7.0, 2.0, 9.0, 4.0, 9.0, 1.0, 4.0, 9.0, 2.0, 0.0, 2.0, 5.0, 2.0, 0.0, 3.0, 10.0, 5.0, 4.0, 0.0, 0.0, 5.0, 5.0, 5.0, 3.0, 0.0, 3.0, 8.0, 1.0, 2.0, 4.0, 9.0, 3.0, 9.0, 0.0, 8.0, 9.0, 0.0, 3.0, 8.0, 5.0, 5.0, 1.0, 2.0, 3.0, 4.0, 4.0, 9.0, 0.0, 4.0, 3.0, 9.0, 5.0, 10.0, 2.0, 4.0, 5.0, 7.0, 1.0, 5.0, 1.0, 0.0, 2.0, 7.0, 9.0, 9.0, 11.0, 9.0, 1.0, 1.0, 5.0, 0.0, 11.0, 6.0, 0.0, 1.0, 2.0, 7.0, 3.0, 3.0, 9.0, 0.0, 7.0, 8.0, 0.0, 0.0, 5.0, 3.0, 9.0, 0.0, 3.0, 1.0, 0.0, 5.0, 5.0, 9.0, 4.0, 3.0, 4.0, 3.0, 2.0, 1.0, 3.0, 5.0, 6.0, 2.0, 6.0, 4.0, 6.0, 5.0, 1.0, 9.0, 5.0, 3.0, 9.0, 6.0, 2.0, 0.0, 0.0, 9.0, 1.0, 7.0, 2.0, 3.0, 10.0, 1.0, 2.0, 0.0, 9.0, 1.0, 11.0, 6.0, 4.0, 3.0, 6.0, 3.0, 9.0, 2.0, 7.0, 0.0, 4.0, 2.0, 0.0, 7.0, 1.0, 4.0, 0.0, 3.0, 0.0, 6.0, 1.0, 10.0, 10.0, 0.0, 9.0, 11.0, 1.0, 7.0, 1.0, 2.0, 1.0, 8.0, 8.0, 8.0, 3.0, 1.0, 2.0, 1.0, 0.0, 7.0, 2.0, 6.0, 4.0, 4.0, 9.0, 4.0, 2.0, 7.0, 9.0, 0.0, 3.0, 8.0, 1.0, 0.0, 4.0, 10.0, 0.0, 5.0, 0.0, 0.0, 4.0, 1.0, 9.0, 8.0, 5.0, 1.0, 0.0, 2.0, 1.0, 1.0, 0.0, 1.0, 4.0, 9.0, 7.0, 3.0, 2.0, 6.0, 1.0, 2.0, 7.0, 0.0, 0.0, 7.0, 1.0, 4.0, 10.0, 8.0, 10.0, 0.0, 9.0, 1.0, 0.0, 4.0, 8.0, 8.0, 7.0, 9.0, 4.0, 7.0, 1.0, 1.0, 5.0, 3.0, 4.0, 1.0, 1.0, 4.0, 1.0, 9.0, 6.0, 1.0, 1.0, 1.0, 6.0, 0.0, 1.0, 11.0, 0.0, 3.0, 5.0, 1.0, 8.0, 5.0, 7.0, 1.0, 2.0, 4.0, 1.0, 0.0, 4.0, 2.0, 8.0, 9.0, 3.0, 7.0, 1.0, 9.0, 2.0, 0.0, 4.0, 4.0, 5.0, 7.0, 2.0, 3.0, 7.0, 5.0, 1.0, 1.0, 4.0, 2.0, 2.0, 7.0, 6.0, 9.0, 4.0, 9.0, 5.0, 3.0, 5.0, 1.0, 2.0, 2.0, 1.0, 9.0, 4.0, 4.0, 5.0, 7.0, 1.0, 10.0, 0.0, 3.0, 3.0, 9.0, 2.0, 2.0, 1.0, 2.0, 9.0, 7.0, 6.0, 10.0, 0.0, 3.0, 6.0, 3.0, 10.0, 6.0, 8.0, 11.0, 2.0, 3.0, 1.0, 1.0, 2.0, 0.0, 2.0, 3.0, 3.0, 9.0, 3.0, 0.0, 0.0, 4.0, 0.0, 8.0, 5.0, 1.0, 0.0, 10.0, 1.0, 11.0, 0.0, 8.0, 3.0, 3.0, 4.0, 3.0, 1.0, 1.0, 4.0, 9.0, 7.0, 0.0, 4.0, 11.0, 2.0, 0.0, 6.0, 7.0, 2.0, 1.0, 5.0, 9.0, 9.0, 6.0, 4.0, 1.0, 0.0, 3.0, 7.0, 4.0, 3.0, 0.0, 6.0, 3.0, 8.0, 4.0, 2.0, 7.0, 0.0, 8.0, 7.0, 3.0, 7.0, 2.0, 0.0, 7.0, 4.0, 2.0, 7.0, 4.0, 7.0, 3.0, 10.0, 3.0, 10.0, 7.0, 0.0, 2.0, 4.0, 7.0, 8.0, 6.0, 8.0, 11.0, 9.0, 3.0, 7.0, 3.0, 5.0, 0.0, 8.0, 11.0, 2.0, 4.0, 0.0, 10.0, 3.0, 11.0, 5.0, 0.0, 3.0, 2.0, 7.0, 0.0, 10.0, 0.0, 2.0, 9.0, 0.0, 5.0, 9.0, 4.0, 3.0, 1.0, 3.0, 7.0, 2.0, 4.0, 10.0, 0.0, 4.0, 11.0, 0.0, 0.0, 1.0, 5.0, 8.0, 11.0, 3.0, 2.0, 1.0, 0.0, 7.0, 3.0, 3.0, 5.0, 3.0, 4.0, 4.0, 4.0, 11.0, 6.0, 2.0, 2.0, 1.0, 7.0, 0.0, 3.0, 7.0, 0.0, 1.0, 0.0, 0.0, 7.0, 7.0, 7.0, 1.0, 8.0, 1.0, 3.0, 1.0, 10.0, 1.0, 0.0, 6.0, 0.0, 3.0, 5.0, 6.0, 4.0, 7.0, 1.0, 8.0, 0.0, 11.0, 2.0, 9.0, 9.0, 4.0, 10.0, 0.0, 4.0, 9.0, 4.0, 4.0, 4.0, 10.0, 2.0, 0.0, 3.0, 1.0, 1.0, 2.0, 2.0, 8.0, 3.0, 1.0, 1.0, 0.0, 7.0, 2.0, 0.0, 9.0, 3.0, 8.0, 2.0, 4.0, 8.0, 2.0, 4.0, 9.0, 7.0, 0.0, 0.0, 5.0, 8.0, 1.0, 3.0, 2.0, 7.0, 9.0, 3.0, 3.0, 10.0, 1.0, 2.0, 6.0, 11.0, 3.0, 0.0, 2.0, 9.0, 10.0, 1.0, 3.0, 3.0, 6.0, 5.0, 2.0, 9.0, 7.0, 6.0, 0.0, 11.0, 2.0, 8.0, 9.0, 9.0, 0.0, 11.0, 7.0, 4.0, 9.0, 7.0, 1.0, 1.0, 4.0, 9.0, 2.0, 1.0, 3.0, 7.0, 0.0, 3.0, 1.0, 1.0, 2.0, 2.0, 7.0, 4.0, 3.0, 2.0, 9.0, 1.0, 3.0, 7.0, 1.0, 3.0, 7.0, 0.0, 3.0, 9.0, 8.0, 9.0, 4.0, 0.0, 7.0, 7.0, 2.0, 2.0, 1.0, 2.0, 1.0, 10.0, 8.0, 3.0, 0.0, 1.0, 3.0, 1.0, 0.0, 1.0, 2.0, 3.0, 9.0, 6.0, 0.0, 3.0, 9.0, 4.0, 7.0, 6.0, 0.0, 1.0, 3.0, 7.0, 9.0, 7.0, 7.0, 4.0, 4.0, 0.0, 2.0, 4.0, 2.0, 5.0, 11.0, 2.0, 11.0, 5.0, 6.0, 9.0, 1.0, 0.0, 0.0, 3.0, 3.0, 3.0, 5.0, 4.0, 11.0, 10.0, 1.0, 7.0, 9.0, 9.0, 11.0, 0.0, 0.0, 1.0, 1.0, 8.0, 9.0, 5.0, 2.0, 1.0, 2.0, 9.0, 10.0, 8.0, 11.0, 2.0, 1.0, 3.0, 4.0, 3.0, 6.0, 10.0, 0.0, 0.0, 3.0, 7.0, 3.0, 1.0, 0.0, 0.0, 2.0, 6.0, 4.0, 4.0, 0.0, 2.0, 6.0, 2.0, 6.0, 2.0, 2.0, 4.0, 10.0, 1.0, 2.0, 0.0, 3.0, 0.0, 7.0, 5.0, 6.0, 3.0, 6.0, 10.0, 6.0, 4.0, 0.0, 7.0, 1.0, 10.0, 8.0, 7.0, 2.0, 5.0, 4.0, 2.0, 2.0, 1.0, 7.0, 3.0, 9.0, 5.0, 9.0, 1.0, 3.0, 0.0, 10.0, 3.0, 9.0, 8.0, 2.0, 7.0, 1.0, 2.0, 8.0, 1.0, 2.0, 1.0, 1.0, 8.0, 4.0, 3.0, 3.0, 1.0, 8.0, 5.0, 0.0, 7.0, 0.0, 7.0, 0.0, 0.0, 6.0, 4.0, 3.0, 0.0, 8.0, 5.0, 7.0, 2.0, 8.0, 3.0, 10.0, 0.0, 4.0, 9.0, 4.0, 6.0, 7.0, 1.0, 2.0, 7.0, 1.0, 4.0, 6.0, 10.0, 9.0, 3.0, 5.0, 2.0, 7.0, 5.0, 10.0, 8.0, 5.0, 8.0, 2.0, 6.0, 9.0, 3.0, 7.0, 9.0, 2.0, 1.0, 10.0, 9.0, 4.0, 10.0, 0.0, 5.0, 0.0, 3.0, 6.0, 8.0, 5.0, 3.0, 10.0, 9.0, 6.0, 7.0, 7.0, 0.0, 8.0, 3.0, 9.0, 9.0, 11.0, 3.0, 1.0, 9.0, 3.0, 9.0, 2.0, 0.0, 3.0, 2.0, 1.0, 8.0, 1.0, 0.0, 0.0, 9.0, 9.0, 2.0, 1.0, 7.0, 0.0, 9.0, 7.0, 0.0, 9.0, 2.0, 0.0, 6.0, 3.0, 8.0, 2.0, 4.0, 4.0, 1.0, 5.0, 0.0, 9.0, 1.0, 5.0, 2.0, 5.0, 2.0, 6.0, 6.0, 11.0, 1.0, 4.0, 0.0, 9.0, 0.0, 1.0, 8.0, 9.0, 3.0, 4.0, 5.0, 9.0, 1.0, 0.0, 0.0, 9.0, 2.0, 6.0, 5.0, 0.0, 10.0, 3.0, 0.0, 0.0, 0.0, 3.0, 8.0, 0.0, 4.0, 9.0, 1.0, 4.0, 3.0, 5.0, 3.0, 3.0, 8.0, 5.0, 8.0, 10.0, 4.0, 9.0, 11.0, 11.0, 5.0, 10.0, 9.0, 7.0, 8.0, 3.0, 0.0, 7.0, 0.0, 10.0, 3.0, 10.0, 2.0, 8.0, 9.0, 1.0, 3.0, 8.0, 7.0, 7.0, 4.0, 9.0, 6.0, 8.0, 2.0, 0.0, 8.0, 7.0, 0.0, 1.0, 2.0, 0.0, 8.0, 0.0, 3.0, 8.0, 0.0, 10.0, 1.0, 7.0, 0.0, 1.0, 2.0, 8.0, 5.0, 4.0, 8.0, 5.0, 3.0, 3.0, 10.0, 1.0, 9.0, 1.0, 4.0, 4.0, 1.0, 3.0, 6.0, 8.0, 0.0, 3.0, 0.0, 3.0, 2.0, 1.0, 0.0, 8.0, 0.0, 7.0, 10.0, 2.0, 1.0, 4.0, 3.0, 7.0, 8.0, 5.0, 1.0, 0.0, 4.0, 1.0, 1.0, 9.0, 0.0, 8.0, 6.0, 9.0, 0.0, 10.0, 8.0, 7.0, 9.0, 5.0, 9.0, 10.0, 2.0, 9.0, 11.0, 0.0, 0.0, 5.0, 6.0, 10.0, 0.0, 3.0, 0.0, 0.0, 3.0, 9.0, 2.0, 9.0, 6.0, 10.0, 7.0, 1.0, 3.0, 9.0, 1.0, 0.0, 8.0, 1.0, 2.0, 1.0, 8.0, 2.0, 3.0, 8.0, 2.0, 5.0, 9.0, 5.0, 5.0, 2.0, 2.0, 3.0, 8.0, 11.0, 8.0, 0.0, 9.0, 3.0, 8.0, 11.0, 6.0, 10.0, 6.0, 5.0, 2.0, 3.0, 8.0, 0.0, 10.0, 6.0, 6.0, 1.0, 2.0, 1.0, 1.0, 9.0, 0.0, 5.0, 2.0, 5.0, 9.0, 2.0, 6.0, 10.0, 0.0, 7.0, 3.0, 0.0, 4.0, 8.0, 0.0, 7.0, 1.0, 11.0, 1.0, 3.0, 1.0, 5.0, 0.0, 2.0, 0.0, 0.0, 1.0, 3.0, 0.0, 10.0, 0.0, 3.0, 3.0, 1.0, 0.0, 0.0, 8.0, 6.0, 2.0, 7.0, 5.0, 2.0, 3.0, 4.0, 0.0, 9.0, 7.0, 9.0, 5.0, 8.0, 0.0, 8.0, 5.0, 4.0, 5.0, 5.0, 0.0, 0.0, 9.0, 2.0, 3.0, 8.0, 0.0, 3.0, 2.0, 6.0, 1.0, 2.0, 2.0, 3.0, 4.0, 4.0, 7.0, 1.0, 1.0, 1.0, 4.0, 8.0, 0.0, 2.0, 9.0, 0.0, 1.0, 0.0, 11.0, 11.0, 1.0, 0.0, 2.0, 6.0, 8.0, 1.0, 0.0, 7.0, 3.0, 1.0, 0.0, 1.0, 4.0, 4.0, 4.0, 3.0, 1.0, 3.0, 8.0, 3.0, 3.0, 3.0, 7.0, 4.0, 0.0, 5.0, 0.0, 3.0, 7.0, 7.0, 4.0, 9.0, 11.0, 2.0, 0.0, 2.0, 9.0, 0.0, 6.0, 0.0, 11.0, 2.0, 6.0, 4.0, 9.0, 2.0, 0.0, 2.0, 3.0, 6.0, 3.0, 8.0, 0.0, 1.0, 4.0, 10.0, 3.0, 2.0, 6.0, 9.0, 9.0, 5.0, 3.0, 0.0, 0.0, 10.0, 4.0, 2.0, 3.0, 0.0, 10.0, 9.0, 2.0, 8.0, 11.0, 10.0, 3.0, 9.0, 5.0, 3.0, 0.0, 1.0, 6.0, 8.0, 3.0, 0.0, 2.0, 2.0, 4.0, 7.0, 3.0, 1.0, 2.0, 4.0, 1.0, 1.0, 4.0, 1.0, 3.0, 2.0, 7.0, 6.0, 1.0, 4.0, 1.0, 2.0, 0.0, 1.0, 0.0, 10.0, 4.0, 6.0, 10.0, 4.0, 4.0, 7.0, 6.0, 7.0, 4.0, 0.0, 8.0, 3.0, 0.0, 7.0, 2.0, 9.0, 3.0, 6.0, 9.0, 1.0, 6.0, 6.0, 4.0, 3.0, 5.0, 1.0, 10.0, 4.0, 10.0, 7.0, 1.0, 0.0, 1.0, 5.0, 8.0, 8.0, 11.0, 4.0, 0.0, 3.0, 4.0, 0.0, 3.0, 0.0, 1.0, 6.0, 9.0, 1.0, 3.0, 9.0, 7.0, 3.0, 8.0, 0.0, 4.0, 9.0, 9.0, 1.0, 4.0, 2.0, 0.0, 8.0, 1.0, 2.0, 2.0, 6.0, 8.0, 1.0, 7.0, 0.0, 10.0, 4.0, 6.0, 8.0, 4.0, 1.0, 4.0, 10.0, 2.0, 6.0, 2.0, 5.0, 9.0, 0.0, 1.0, 0.0, 8.0, 5.0, 11.0, 2.0, 0.0, 9.0, 7.0, 2.0, 8.0, 0.0, 0.0, 0.0, 5.0, 0.0, 2.0, 8.0, 1.0, 3.0, 4.0, 4.0, 3.0, 0.0, 2.0, 9.0, 6.0, 7.0, 0.0, 2.0, 5.0, 7.0, 9.0, 1.0, 4.0, 0.0, 4.0, 6.0, 5.0, 10.0, 1.0, 8.0, 5.0, 7.0, 9.0, 8.0, 0.0, 0.0, 0.0, 1.0, 8.0, 2.0, 8.0, 5.0, 1.0, 8.0, 0.0, 4.0, 0.0, 0.0, 4.0, 10.0, 2.0, 1.0, 4.0, 1.0, 2.0, 8.0, 5.0, 1.0, 8.0, 0.0, 3.0, 7.0, 2.0, 8.0, 8.0, 5.0, 2.0, 9.0, 8.0, 1.0, 8.0, 2.0, 2.0, 7.0, 5.0, 4.0, 2.0, 7.0, 9.0, 3.0, 7.0, 4.0, 0.0, 7.0, 6.0, 3.0, 1.0, 0.0, 6.0, 1.0, 6.0, 1.0, 10.0, 2.0, 8.0, 5.0, 10.0, 6.0, 4.0, 9.0, 1.0, 1.0, 1.0, 2.0, 3.0, 3.0, 5.0, 6.0, 7.0, 7.0, 6.0, 9.0, 10.0, 3.0, 0.0, 5.0, 6.0, 9.0, 3.0, 3.0, 3.0, 7.0, 3.0, 0.0, 5.0, 4.0, 5.0, 3.0, 4.0, 5.0, 3.0, 8.0, 9.0, 2.0, 3.0, 5.0, 2.0, 8.0, 2.0, 5.0, 9.0, 0.0, 11.0, 9.0, 5.0, 8.0, 1.0, 0.0, 2.0, 2.0, 9.0, 2.0, 7.0, 8.0, 4.0, 3.0, 0.0, 0.0, 8.0, 3.0, 6.0, 3.0, 0.0, 4.0, 2.0, 7.0, 9.0, 1.0, 6.0, 4.0, 10.0, 8.0, 4.0, 11.0, 10.0, 2.0, 11.0, 9.0, 0.0, 4.0, 10.0, 8.0, 6.0, 0.0, 3.0, 2.0, 4.0, 0.0, 1.0, 2.0, 0.0, 9.0, 6.0, 4.0, 1.0, 7.0, 0.0, 2.0, 3.0, 8.0, 0.0, 5.0, 4.0, 1.0, 3.0, 7.0, 2.0, 0.0, 1.0, 1.0, 1.0, 5.0, 8.0, 7.0, 6.0, 1.0, 8.0, 10.0, 2.0, 0.0, 7.0, 8.0, 2.0, 3.0, 2.0, 5.0, 0.0, 1.0, 5.0, 7.0, 1.0, 7.0, 4.0, 1.0, 4.0, 0.0, 4.0, 3.0, 0.0, 5.0, 2.0, 7.0, 3.0, 0.0, 1.0, 2.0, 1.0, 0.0, 0.0, 5.0, 0.0, 5.0, 2.0, 1.0, 1.0, 4.0, 7.0, 2.0, 7.0, 3.0, 0.0, 7.0, 2.0, 5.0, 3.0, 1.0, 7.0, 0.0, 4.0, 7.0, 9.0, 3.0, 1.0, 10.0, 7.0, 3.0, 7.0, 3.0, 5.0, 2.0, 0.0, 10.0, 1.0, 9.0, 8.0, 3.0, 3.0, 8.0, 9.0, 2.0, 2.0, 2.0, 1.0, 6.0, 5.0, 2.0, 8.0, 7.0, 5.0, 4.0, 4.0, 7.0, 4.0, 5.0, 0.0, 0.0, 11.0, 8.0, 2.0, 9.0, 5.0, 8.0, 10.0, 7.0, 2.0, 5.0, 2.0, 4.0, 5.0, 4.0, 11.0, 5.0, 4.0, 6.0, 5.0, 4.0, 9.0, 1.0, 4.0, 2.0, 2.0, 2.0, 4.0, 2.0, 9.0, 10.0, 11.0, 8.0, 0.0, 8.0, 3.0, 10.0, 3.0, 11.0, 5.0, 1.0, 3.0, 3.0, 10.0, 0.0, 7.0, 1.0, 1.0, 0.0, 9.0, 7.0, 0.0, 2.0, 0.0, 3.0, 3.0, 1.0, 5.0, 0.0, 2.0, 3.0, 2.0, 3.0, 1.0, 0.0, 0.0, 1.0, 0.0, 7.0, 5.0, 2.0, 10.0, 0.0, 1.0, 8.0, 2.0, 3.0, 2.0, 4.0, 1.0, 3.0, 1.0, 4.0, 3.0, 8.0, 3.0, 0.0, 6.0, 5.0, 8.0, 3.0, 11.0, 3.0, 8.0, 3.0, 9.0, 8.0, 11.0, 2.0, 0.0, 9.0, 1.0, 0.0, 1.0, 4.0, 5.0, 10.0, 3.0, 9.0, 10.0, 6.0, 1.0, 2.0, 8.0, 9.0, 0.0, 3.0, 3.0, 4.0, 8.0, 0.0, 1.0, 3.0, 3.0, 10.0, 1.0, 11.0, 0.0, 5.0, 0.0, 0.0, 11.0, 7.0, 0.0, 4.0, 8.0, 11.0, 1.0, 9.0, 0.0, 0.0, 1.0, 0.0, 7.0, 7.0, 10.0, 6.0, 1.0, 3.0, 9.0, 1.0, 9.0, 5.0, 8.0, 3.0, 0.0, 10.0, 6.0, 0.0, 9.0, 5.0, 0.0, 7.0, 8.0, 0.0, 0.0, 0.0, 0.0, 1.0, 9.0, 11.0, 4.0, 0.0, 1.0, 1.0, 3.0, 4.0, 0.0, 10.0, 4.0, 2.0, 2.0, 7.0, 0.0, 9.0, 8.0, 3.0, 2.0, 9.0, 6.0, 1.0, 2.0, 3.0, 10.0, 2.0, 1.0, 1.0, 1.0, 0.0, 10.0, 2.0, 1.0, 7.0, 2.0, 2.0, 4.0, 0.0, 1.0, 9.0, 8.0, 6.0, 1.0, 1.0, 6.0, 0.0, 0.0, 1.0, 5.0, 4.0, 10.0, 9.0, 1.0, 7.0, 8.0, 2.0, 0.0, 4.0, 7.0, 10.0, 2.0, 6.0, 8.0, 6.0, 0.0, 4.0, 5.0, 3.0, 3.0, 8.0, 1.0, 2.0, 4.0, 5.0, 7.0, 4.0, 0.0, 7.0, 4.0, 5.0, 2.0, 6.0, 1.0, 5.0, 7.0, 7.0, 4.0, 3.0, 7.0, 3.0, 2.0, 9.0, 4.0, 7.0, 10.0, 5.0, 10.0, 6.0, 0.0, 10.0, 7.0, 9.0, 1.0, 4.0, 9.0, 5.0, 6.0, 10.0, 7.0, 5.0, 9.0, 3.0, 9.0, 7.0, 1.0, 4.0, 3.0, 1.0, 10.0, 8.0, 10.0, 9.0, 4.0, 6.0, 8.0, 9.0, 9.0, 1.0, 4.0, 2.0, 7.0, 5.0, 7.0, 9.0, 5.0, 2.0, 10.0, 1.0, 1.0, 8.0, 9.0, 2.0, 4.0, 3.0, 10.0, 3.0, 4.0, 7.0, 8.0, 0.0, 8.0, 3.0, 9.0, 0.0, 1.0, 0.0, 1.0, 2.0, 2.0, 3.0, 6.0, 9.0, 3.0, 2.0, 8.0, 2.0, 1.0, 3.0, 2.0, 10.0, 8.0, 0.0, 8.0, 1.0, 2.0, 4.0, 8.0, 3.0, 9.0, 0.0, 2.0, 8.0, 3.0, 7.0, 2.0, 0.0, 5.0, 2.0, 0.0, 6.0, 0.0, 4.0, 9.0, 3.0, 5.0, 10.0, 1.0, 3.0, 6.0, 9.0, 2.0, 6.0, 2.0, 3.0, 6.0, 8.0, 9.0, 9.0, 5.0, 2.0, 0.0, 7.0, 3.0, 5.0, 5.0, 1.0, 2.0, 11.0, 2.0, 2.0, 10.0, 7.0, 3.0, 4.0, 1.0, 2.0, 1.0, 3.0, 5.0, 1.0, 9.0, 8.0, 7.0, 1.0, 8.0, 8.0, 2.0, 0.0, 9.0, 9.0, 3.0, 0.0, 4.0, 3.0, 2.0, 2.0, 3.0, 1.0, 1.0, 9.0, 6.0, 5.0, 8.0, 1.0, 8.0, 3.0, 10.0, 3.0, 11.0, 3.0, 7.0, 0.0, 2.0, 10.0, 3.0, 4.0, 8.0, 5.0, 6.0, 4.0, 7.0, 2.0, 5.0, 3.0, 7.0, 0.0, 10.0, 1.0, 4.0, 1.0, 2.0, 9.0, 2.0, 0.0, 10.0, 2.0, 10.0, 9.0, 2.0, 8.0, 2.0, 8.0, 0.0, 9.0, 6.0, 7.0, 0.0, 2.0, 8.0, 0.0, 3.0, 3.0, 3.0, 11.0, 4.0, 8.0, 6.0, 7.0, 3.0, 5.0, 5.0, 8.0, 7.0, 3.0, 2.0, 3.0, 0.0, 4.0, 1.0, 0.0, 6.0, 3.0, 7.0, 2.0, 2.0, 0.0, 0.0, 11.0, 5.0, 2.0, 4.0, 0.0, 0.0, 1.0, 4.0, 1.0, 0.0, 3.0, 11.0, 4.0, 0.0, 0.0, 0.0, 8.0, 10.0, 10.0, 9.0, 0.0, 6.0, 11.0, 6.0, 0.0, 8.0, 9.0, 5.0, 0.0, 8.0, 6.0, 6.0, 4.0, 1.0, 3.0, 4.0, 8.0, 7.0, 9.0, 0.0, 3.0, 4.0, 7.0, 7.0, 7.0, 0.0, 1.0, 4.0, 1.0, 9.0, 6.0, 2.0, 3.0, 2.0, 10.0, 2.0, 3.0, 6.0, 3.0, 1.0, 4.0, 0.0, 4.0, 4.0, 8.0, 1.0, 0.0, 3.0, 1.0, 8.0, 4.0, 0.0, 5.0, 6.0, 1.0, 6.0, 2.0, 4.0, 2.0, 11.0, 1.0, 0.0, 5.0, 7.0, 0.0, 1.0, 6.0, 4.0, 9.0, 9.0, 7.0, 3.0, 2.0, 3.0, 0.0, 10.0, 8.0, 4.0, 3.0, 9.0, 8.0, 3.0, 7.0, 8.0, 9.0, 4.0, 3.0, 2.0, 6.0, 0.0, 8.0, 8.0, 1.0, 7.0, 0.0, 5.0, 2.0, 2.0, 9.0, 0.0, 6.0, 2.0, 6.0, 6.0, 3.0, 3.0, 4.0, 5.0, 4.0, 3.0, 10.0, 5.0, 7.0, 5.0, 8.0, 3.0, 0.0, 3.0, 5.0, 8.0, 5.0, 2.0, 7.0, 4.0, 4.0, 7.0, 4.0, 10.0, 8.0, 6.0, 2.0, 8.0, 7.0, 5.0, 6.0, 2.0, 4.0, 10.0, 1.0, 2.0, 7.0, 2.0, 4.0, 1.0, 3.0, 1.0, 7.0, 7.0, 1.0, 10.0, 2.0, 3.0, 0.0, 0.0, 7.0, 1.0, 3.0, 2.0, 8.0, 1.0, 0.0, 3.0, 2.0, 6.0, 9.0, 8.0, 0.0, 7.0, 5.0, 3.0, 4.0, 1.0, 2.0, 6.0, 7.0, 0.0, 2.0, 7.0, 1.0, 2.0, 7.0, 9.0, 3.0, 4.0, 0.0, 6.0, 0.0, 7.0, 9.0, 3.0, 3.0, 9.0, 4.0, 8.0, 6.0, 2.0, 2.0, 11.0, 3.0, 2.0, 1.0, 4.0, 1.0, 4.0, 9.0, 1.0, 0.0, 4.0, 5.0, 7.0, 2.0, 2.0, 3.0, 0.0, 9.0, 1.0, 1.0, 2.0, 0.0, 8.0, 3.0, 1.0, 0.0, 8.0, 1.0, 3.0, 4.0, 0.0, 3.0, 10.0, 1.0, 7.0, 0.0, 5.0, 9.0, 3.0, 5.0, 8.0, 6.0, 2.0, 0.0, 1.0, 3.0, 2.0, 4.0, 0.0, 7.0, 6.0, 9.0, 4.0, 4.0, 9.0, 9.0, 3.0, 10.0, 7.0, 0.0, 0.0, 3.0, 2.0, 5.0, 11.0, 2.0, 4.0, 0.0, 3.0, 9.0, 2.0, 4.0, 3.0, 2.0, 5.0, 9.0, 3.0, 0.0, 6.0, 0.0, 9.0, 1.0, 0.0, 8.0, 9.0, 2.0, 5.0, 0.0, 0.0, 1.0, 10.0, 8.0, 0.0, 3.0, 8.0, 7.0, 8.0, 0.0, 3.0, 3.0, 9.0, 3.0, 6.0, 11.0, 6.0, 4.0, 0.0, 5.0, 8.0, 3.0, 0.0, 1.0, 8.0, 2.0, 2.0, 0.0, 3.0, 4.0, 0.0, 1.0, 10.0, 3.0, 10.0, 2.0, 3.0, 10.0, 9.0, 3.0, 3.0, 8.0, 10.0, 10.0, 8.0, 2.0, 0.0, 0.0, 0.0, 4.0, 4.0, 0.0, 1.0, 3.0, 2.0, 0.0, 6.0, 5.0, 0.0, 0.0, 4.0, 7.0, 1.0, 6.0, 2.0, 9.0, 3.0, 0.0, 0.0, 0.0, 1.0, 2.0, 7.0, 0.0, 8.0, 9.0, 5.0, 9.0, 1.0, 0.0, 2.0, 2.0, 4.0, 0.0, 4.0, 1.0, 7.0, 2.0, 5.0, 5.0, 3.0, 7.0, 1.0, 5.0, 0.0, 0.0, 0.0, 3.0, 3.0, 3.0, 8.0, 2.0, 8.0, 10.0, 0.0, 3.0, 7.0, 10.0, 6.0, 0.0, 2.0, 7.0, 4.0, 3.0, 7.0, 0.0, 6.0, 9.0, 8.0, 0.0, 0.0, 2.0, 4.0, 5.0, 3.0, 11.0, 10.0, 4.0, 3.0, 3.0, 4.0, 0.0, 2.0, 4.0, 0.0, 5.0, 0.0, 0.0, 0.0, 0.0, 1.0, 1.0, 0.0, 2.0, 3.0, 1.0, 4.0, 6.0, 1.0, 0.0, 6.0, 4.0, 1.0, 3.0, 4.0, 3.0, 9.0, 5.0, 8.0, 1.0, 3.0, 7.0, 1.0, 2.0, 1.0, 1.0, 3.0, 0.0, 5.0, 5.0, 3.0, 3.0, 5.0, 2.0, 0.0, 4.0, 0.0, 8.0, 7.0, 3.0, 0.0, 8.0, 1.0, 0.0, 8.0, 1.0, 0.0, 0.0, 6.0, 3.0, 8.0, 3.0, 2.0, 7.0, 0.0, 11.0, 0.0, 0.0, 0.0, 8.0, 0.0, 8.0, 2.0, 3.0, 3.0, 0.0, 8.0, 8.0, 2.0, 2.0, 1.0, 1.0, 1.0, 5.0, 3.0, 3.0, 8.0, 1.0, 1.0, 2.0, 1.0, 3.0, 3.0, 7.0, 2.0, 4.0, 0.0, 0.0, 9.0, 3.0, 7.0, 7.0, 1.0, 1.0, 4.0, 8.0, 8.0, 9.0, 0.0, 6.0, 7.0, 5.0, 3.0, 2.0, 5.0, 1.0, 6.0, 1.0, 6.0, 1.0, 4.0, 8.0, 2.0, 5.0, 2.0, 1.0, 7.0, 1.0, 7.0, 0.0, 0.0, 5.0, 2.0, 6.0, 9.0, 0.0, 0.0, 7.0, 0.0, 7.0, 5.0, 11.0, 0.0, 3.0, 4.0, 4.0, 1.0, 7.0, 1.0, 4.0, 4.0, 3.0, 0.0, 0.0, 7.0, 1.0, 9.0, 2.0, 1.0, 3.0, 6.0, 9.0, 4.0, 1.0, 8.0, 10.0, 7.0, 2.0, 6.0, 10.0, 3.0, 3.0, 3.0, 0.0, 2.0, 8.0, 5.0, 0.0, 2.0, 0.0, 3.0, 1.0, 6.0, 4.0, 0.0, 2.0, 1.0, 10.0, 2.0, 2.0, 2.0, 11.0, 2.0, 2.0, 0.0, 2.0, 7.0, 9.0, 3.0, 3.0, 8.0, 11.0, 2.0, 7.0, 5.0, 2.0, 1.0, 5.0, 7.0, 1.0, 6.0, 9.0, 4.0, 2.0, 2.0, 2.0, 8.0, 2.0, 2.0, 4.0, 2.0, 7.0, 6.0, 9.0, 7.0, 0.0, 7.0, 3.0, 5.0, 4.0, 2.0, 6.0, 5.0, 9.0, 8.0, 4.0, 8.0, 8.0, 10.0, 9.0, 7.0, 3.0, 3.0, 4.0, 5.0, 0.0, 4.0, 7.0, 4.0, 2.0, 0.0, 0.0, 4.0, 1.0, 5.0, 2.0, 1.0, 5.0, 2.0, 3.0, 10.0, 3.0, 3.0, 0.0, 1.0, 1.0, 4.0, 9.0, 1.0, 2.0, 2.0, 7.0, 2.0, 1.0, 7.0, 11.0, 9.0, 0.0, 2.0, 8.0, 3.0, 8.0, 4.0, 1.0, 0.0, 8.0, 3.0, 8.0, 1.0, 3.0, 1.0, 6.0, 4.0, 8.0, 8.0, 9.0, 3.0, 3.0, 6.0, 9.0, 0.0, 1.0, 5.0, 7.0, 2.0, 4.0, 9.0, 10.0, 0.0, 0.0, 8.0, 1.0, 6.0, 9.0, 1.0, 9.0, 3.0, 5.0, 7.0, 0.0, 8.0, 6.0, 7.0, 3.0, 10.0, 3.0, 8.0, 5.0, 1.0, 10.0, 8.0, 3.0, 2.0, 3.0, 0.0, 2.0, 4.0, 9.0, 10.0, 3.0, 1.0, 7.0, 2.0, 3.0, 0.0, 4.0, 9.0, 3.0, 0.0, 9.0, 1.0, 3.0, 2.0, 6.0, 5.0, 5.0, 5.0, 4.0, 6.0, 4.0, 2.0, 4.0, 0.0, 3.0, 4.0, 1.0, 1.0, 9.0, 0.0, 1.0, 3.0, 3.0, 8.0, 3.0, 3.0, 10.0, 8.0, 3.0, 4.0, 5.0, 3.0, 8.0, 6.0, 8.0, 0.0, 9.0, 1.0, 3.0, 2.0, 6.0, 7.0, 10.0, 8.0, 9.0, 7.0, 8.0, 1.0, 1.0, 3.0, 7.0, 10.0, 7.0, 1.0, 2.0, 5.0, 5.0, 4.0, 8.0, 9.0, 3.0, 8.0, 4.0, 2.0, 1.0, 2.0, 3.0, 7.0, 3.0, 8.0, 2.0, 3.0, 1.0, 10.0, 0.0, 4.0, 1.0, 6.0, 2.0, 8.0, 7.0, 2.0, 3.0, 10.0, 4.0, 0.0, 6.0, 0.0, 3.0, 2.0, 1.0, 0.0, 2.0, 0.0, 0.0, 0.0, 1.0, 1.0, 0.0, 2.0, 8.0, 3.0, 8.0, 0.0, 1.0, 0.0, 0.0, 5.0, 0.0, 0.0, 7.0, 5.0, 1.0, 3.0, 1.0, 0.0, 0.0, 2.0, 3.0, 3.0, 8.0, 10.0, 7.0, 0.0, 3.0, 2.0, 5.0, 2.0, 0.0, 1.0, 8.0, 5.0, 3.0, 7.0, 5.0, 4.0, 6.0, 6.0, 5.0, 1.0, 2.0, 1.0, 8.0, 1.0, 0.0, 3.0, 0.0, 1.0, 3.0, 2.0, 2.0, 7.0, 0.0, 8.0, 0.0, 8.0, 8.0, 3.0, 3.0, 1.0, 9.0, 3.0, 1.0, 9.0, 0.0, 0.0, 1.0, 9.0, 3.0, 11.0, 1.0, 0.0, 7.0, 10.0, 3.0, 2.0, 2.0, 9.0, 11.0, 1.0, 7.0, 2.0, 9.0, 0.0, 1.0, 5.0, 0.0, 7.0, 2.0, 7.0, 3.0, 8.0, 1.0, 0.0, 8.0, 0.0, 9.0, 1.0, 1.0, 3.0, 10.0, 8.0, 2.0, 3.0, 8.0, 2.0, 2.0, 3.0, 8.0, 0.0, 0.0, 0.0, 0.0, 10.0, 9.0, 5.0, 1.0, 0.0, 0.0, 2.0, 1.0, 9.0, 1.0, 0.0, 5.0, 11.0, 2.0, 4.0, 7.0, 0.0, 1.0, 10.0, 0.0, 2.0, 1.0, 4.0, 4.0, 2.0, 10.0, 3.0, 9.0, 3.0, 0.0, 1.0, 2.0, 0.0, 8.0, 0.0, 4.0, 10.0, 1.0, 1.0, 3.0, 2.0, 3.0, 0.0, 5.0, 9.0, 7.0, 10.0, 0.0, 4.0, 3.0, 2.0, 0.0, 11.0, 5.0, 0.0, 4.0, 7.0, 4.0, 2.0, 10.0, 10.0, 1.0, 2.0, 3.0, 5.0, 0.0, 9.0, 6.0, 11.0, 0.0, 7.0, 0.0, 10.0, 2.0, 7.0, 4.0, 1.0, 0.0, 1.0, 2.0, 1.0, 0.0, 9.0, 5.0, 6.0, 4.0, 2.0, 1.0, 5.0, 9.0, 10.0, 2.0, 3.0, 6.0, 1.0, 1.0, 5.0, 7.0, 3.0, 9.0, 0.0, 5.0, 7.0, 0.0, 0.0, 5.0, 0.0, 1.0, 1.0, 1.0, 9.0, 0.0, 5.0, 8.0, 3.0, 3.0, 1.0, 8.0, 4.0, 5.0, 9.0, 0.0, 1.0, 6.0, 0.0, 9.0, 3.0, 0.0, 0.0, 2.0, 5.0, 9.0, 0.0, 7.0, 2.0, 0.0, 2.0, 1.0, 8.0, 3.0, 5.0, 9.0, 9.0, 4.0, 3.0, 5.0, 1.0, 1.0, 4.0, 0.0, 9.0, 6.0, 9.0, 5.0, 2.0, 1.0, 0.0, 9.0, 5.0, 7.0, 5.0, 5.0, 6.0, 10.0, 2.0, 2.0, 7.0, 10.0, 2.0, 1.0, 1.0, 2.0, 10.0, 8.0, 1.0, 1.0, 8.0, 3.0, 6.0, 8.0, 5.0, 4.0, 8.0, 10.0, 7.0, 7.0, 1.0, 2.0, 5.0, 9.0, 10.0, 4.0, 3.0, 4.0, 11.0, 5.0, 7.0, 8.0, 2.0, 8.0, 2.0, 2.0, 3.0, 0.0, 2.0, 7.0, 7.0, 1.0, 8.0, 5.0, 1.0, 3.0, 4.0, 0.0, 0.0, 4.0, 2.0, 0.0, 0.0, 0.0, 8.0, 0.0, 7.0, 6.0, 0.0, 4.0, 1.0, 5.0, 1.0, 1.0, 11.0, 10.0, 3.0, 7.0, 1.0, 4.0, 11.0, 1.0, 1.0, 0.0, 7.0, 3.0, 2.0, 9.0, 1.0, 9.0, 3.0, 4.0, 1.0, 11.0, 1.0, 8.0, 9.0, 4.0, 3.0, 9.0, 2.0, 2.0, 9.0, 0.0, 1.0, 0.0, 3.0, 4.0, 7.0, 0.0, 7.0, 8.0, 9.0, 6.0, 0.0, 2.0, 8.0, 1.0, 5.0, 3.0, 8.0, 9.0, 4.0, 10.0, 3.0, 2.0, 0.0, 4.0, 5.0, 0.0, 10.0, 3.0, 1.0, 8.0, 7.0, 8.0, 1.0, 0.0, 2.0, 3.0, 1.0, 0.0, 2.0, 2.0, 1.0, 8.0, 7.0, 7.0, 4.0, 7.0, 8.0, 2.0, 0.0, 1.0, 10.0, 0.0, 9.0, 1.0, 3.0, 4.0, 4.0, 1.0, 4.0, 9.0, 0.0, 6.0, 6.0, 10.0, 2.0, 5.0, 3.0, 3.0, 4.0, 2.0, 1.0, 5.0, 0.0, 0.0, 10.0, 5.0, 7.0, 4.0, 4.0, 1.0, 1.0, 5.0, 7.0, 6.0, 10.0, 0.0, 0.0, 3.0, 5.0, 9.0, 5.0, 6.0, 4.0, 2.0, 8.0, 5.0, 7.0, 9.0, 2.0, 3.0, 3.0, 3.0, 2.0, 1.0, 5.0, 0.0, 3.0, 10.0, 3.0, 6.0, 2.0, 10.0, 0.0, 10.0, 9.0, 2.0, 7.0, 10.0, 9.0, 4.0, 3.0, 8.0, 4.0, 3.0, 1.0, 3.0, 9.0, 2.0, 8.0, 0.0, 1.0, 4.0, 3.0, 10.0, 9.0, 1.0, 5.0, 3.0, 2.0, 0.0, 3.0, 4.0, 6.0, 6.0, 2.0, 2.0, 6.0, 9.0, 10.0, 3.0, 6.0, 1.0, 8.0, 9.0, 3.0, 1.0, 5.0, 2.0, 7.0, 5.0, 3.0, 4.0, 6.0, 2.0, 6.0, 3.0, 8.0, 3.0, 0.0, 3.0, 1.0, 1.0, 3.0, 5.0, 0.0, 8.0, 2.0, 9.0, 0.0, 7.0, 1.0, 1.0, 0.0, 5.0, 2.0, 7.0, 4.0, 0.0, 4.0, 9.0, 0.0, 3.0, 3.0, 0.0, 4.0, 8.0, 6.0, 6.0, 0.0, 6.0, 6.0, 2.0, 7.0, 9.0, 5.0, 9.0, 4.0, 5.0, 1.0, 0.0, 10.0, 0.0, 2.0, 0.0, 2.0, 1.0, 9.0, 0.0, 6.0, 1.0, 0.0, 2.0, 3.0, 0.0, 4.0, 9.0, 2.0, 11.0, 11.0, 10.0, 0.0, 3.0, 9.0, 7.0, 10.0, 2.0, 0.0, 7.0, 3.0, 6.0, 1.0, 5.0, 0.0, 7.0, 10.0, 11.0, 4.0, 7.0, 4.0, 9.0, 1.0, 7.0, 4.0, 8.0, 5.0, 7.0, 6.0, 7.0, 2.0, 2.0, 1.0, 0.0, 1.0, 4.0, 2.0, 10.0, 6.0, 3.0, 3.0, 1.0, 4.0, 0.0, 2.0, 1.0, 8.0, 4.0, 2.0, 8.0, 0.0, 8.0, 2.0, 7.0, 10.0, 11.0, 2.0, 2.0, 9.0, 9.0, 2.0, 9.0, 3.0, 9.0, 7.0, 9.0, 7.0, 2.0, 11.0, 4.0, 8.0, 2.0, 0.0, 2.0, 3.0, 1.0, 9.0, 4.0, 2.0, 8.0, 1.0, 9.0, 7.0, 9.0, 10.0, 2.0, 3.0, 5.0, 0.0, 8.0, 4.0, 9.0, 5.0, 0.0, 4.0, 8.0, 10.0, 4.0, 6.0, 8.0, 7.0, 5.0, 1.0, 9.0, 3.0, 1.0, 6.0, 3.0, 3.0, 5.0, 1.0, 1.0, 6.0, 4.0, 4.0, 2.0, 3.0, 10.0, 0.0, 0.0, 7.0, 11.0, 3.0, 3.0, 8.0, 2.0, 4.0, 1.0, 9.0, 10.0, 6.0, 10.0, 0.0, 8.0, 3.0, 0.0, 4.0, 1.0, 4.0, 0.0, 6.0, 4.0, 4.0, 6.0, 2.0, 0.0, 4.0, 2.0, 1.0, 3.0, 9.0, 9.0, 5.0, 4.0, 0.0, 8.0, 4.0, 2.0, 3.0, 1.0, 3.0, 3.0, 3.0, 1.0, 3.0, 9.0, 3.0, 5.0, 10.0, 0.0, 4.0, 3.0, 1.0, 1.0, 3.0, 0.0, 2.0, 0.0, 1.0, 7.0, 0.0, 2.0, 0.0, 6.0, 8.0, 2.0, 1.0, 2.0, 10.0, 1.0, 3.0, 10.0, 1.0, 0.0, 6.0, 3.0, 4.0, 7.0, 2.0, 7.0, 2.0, 8.0, 4.0, 3.0, 6.0, 7.0, 3.0, 10.0, 2.0, 1.0, 6.0, 1.0, 0.0, 2.0, 1.0, 8.0, 2.0, 5.0, 0.0, 2.0, 1.0, 5.0, 2.0, 3.0, 4.0, 0.0, 0.0, 1.0, 10.0, 2.0, 4.0, 7.0, 7.0, 2.0, 2.0, 3.0, 1.0, 5.0, 0.0, 8.0, 0.0, 1.0, 0.0, 3.0, 0.0, 3.0, 5.0, 2.0, 3.0, 9.0, 1.0, 5.0, 1.0, 9.0, 10.0, 5.0, 7.0, 8.0, 0.0, 2.0, 8.0, 0.0, 7.0, 5.0, 3.0, 7.0, 2.0, 1.0, 1.0, 1.0, 4.0, 8.0, 5.0, 0.0, 3.0, 5.0, 4.0, 3.0, 7.0, 1.0, 9.0, 3.0, 10.0, 5.0, 9.0, 5.0, 1.0, 5.0, 1.0, 7.0, 9.0, 5.0, 0.0, 1.0, 4.0, 0.0, 3.0, 0.0, 1.0, 3.0, 5.0, 9.0, 5.0, 0.0, 1.0, 4.0, 8.0, 9.0, 3.0, 7.0, 2.0, 9.0, 0.0, 3.0, 8.0, 7.0, 5.0, 8.0, 0.0, 0.0, 2.0, 6.0, 1.0, 3.0, 0.0, 4.0, 5.0, 8.0, 5.0, 1.0, 1.0, 8.0, 2.0, 8.0, 2.0, 0.0, 4.0, 1.0, 9.0, 8.0, 1.0, 1.0, 0.0, 5.0, 1.0, 9.0, 10.0, 1.0, 2.0, 10.0, 5.0, 6.0, 3.0, 10.0, 1.0, 8.0, 3.0, 0.0, 9.0, 2.0, 8.0, 2.0, 0.0, 2.0, 3.0, 0.0, 3.0, 0.0, 2.0, 5.0, 3.0, 2.0, 0.0, 1.0, 2.0, 10.0, 9.0, 2.0, 3.0, 2.0, 0.0, 0.0, 3.0, 2.0, 2.0, 10.0, 2.0, 9.0, 3.0, 3.0, 0.0, 1.0, 4.0, 0.0, 6.0, 2.0, 9.0, 7.0, 2.0, 8.0, 0.0, 3.0, 2.0, 6.0, 0.0, 0.0, 2.0, 0.0, 5.0, 7.0, 4.0, 5.0, 9.0, 0.0, 4.0, 9.0, 0.0, 5.0, 8.0, 9.0, 8.0, 11.0, 5.0, 0.0, 3.0, 0.0, 3.0, 4.0, 6.0, 4.0, 3.0, 8.0, 11.0, 10.0, 2.0, 7.0, 2.0, 8.0, 6.0, 8.0, 0.0, 8.0, 3.0, 6.0, 3.0, 3.0, 3.0, 1.0, 9.0, 2.0, 0.0, 7.0, 10.0, 3.0, 5.0, 9.0, 7.0, 10.0, 2.0, 9.0, 0.0, 9.0, 7.0, 7.0, 3.0, 5.0, 1.0, 8.0, 3.0, 1.0, 6.0, 8.0, 7.0, 5.0, 7.0, 3.0, 0.0, 0.0, 9.0, 7.0, 7.0, 4.0, 11.0, 4.0, 5.0, 3.0, 0.0, 4.0, 11.0, 5.0, 8.0, 3.0, 0.0, 4.0, 7.0, 9.0, 0.0, 4.0, 3.0, 7.0, 5.0, 8.0, 2.0, 3.0, 7.0, 9.0, 9.0, 10.0, 0.0, 0.0, 5.0, 6.0, 0.0, 1.0, 9.0, 4.0, 0.0, 3.0, 6.0, 2.0, 9.0, 1.0, 0.0, 2.0, 10.0, 11.0, 1.0, 6.0, 4.0, 5.0, 0.0, 5.0, 1.0, 8.0, 3.0, 1.0, 9.0, 0.0, 0.0, 0.0, 3.0, 2.0, 2.0, 1.0, 0.0, 9.0, 5.0, 0.0, 7.0, 4.0, 3.0, 0.0, 4.0, 8.0, 3.0, 3.0, 7.0, 4.0, 4.0, 5.0, 4.0, 9.0, 6.0, 5.0, 3.0, 5.0, 5.0, 0.0, 1.0, 10.0, 3.0, 0.0, 0.0, 5.0, 0.0, 2.0, 10.0, 6.0, 5.0, 5.0, 9.0, 10.0, 0.0, 0.0, 5.0, 0.0, 10.0, 1.0, 4.0, 4.0, 6.0, 6.0, 8.0, 5.0, 8.0, 2.0, 8.0, 6.0, 9.0, 5.0, 3.0, 5.0, 4.0, 1.0, 7.0, 1.0, 6.0, 3.0, 11.0, 1.0, 5.0, 8.0, 4.0, 3.0, 5.0, 9.0, 3.0, 7.0, 8.0, 3.0, 10.0, 0.0, 1.0, 1.0, 7.0, 2.0, 10.0, 4.0, 4.0, 3.0, 3.0, 6.0, 2.0, 0.0, 8.0, 1.0, 0.0, 4.0, 3.0, 5.0, 8.0, 3.0, 10.0, 5.0, 1.0, 4.0, 10.0, 1.0, 0.0, 1.0, 2.0, 0.0, 0.0, 5.0, 10.0, 1.0, 4.0, 11.0, 4.0, 0.0, 2.0, 2.0, 4.0, 9.0, 0.0, 2.0, 3.0, 8.0, 3.0, 8.0, 6.0, 0.0, 2.0, 2.0, 4.0, 7.0, 8.0, 7.0, 6.0, 2.0, 4.0, 3.0, 8.0, 7.0, 3.0, 2.0, 7.0, 8.0, 8.0, 2.0, 5.0, 4.0, 1.0, 3.0, 1.0, 10.0, 2.0, 10.0, 7.0, 10.0, 7.0, 4.0, 2.0, 2.0, 9.0, 7.0, 4.0, 0.0, 0.0, 0.0, 1.0, 5.0, 7.0, 1.0, 2.0, 2.0, 7.0, 1.0, 8.0, 10.0, 3.0, 9.0, 4.0, 0.0, 1.0, 9.0, 3.0, 3.0, 4.0, 0.0, 4.0, 2.0, 5.0, 7.0, 3.0, 1.0, 0.0, 1.0, 8.0, 9.0, 10.0, 5.0, 2.0, 1.0, 0.0, 0.0, 6.0, 10.0, 5.0, 0.0, 0.0, 3.0, 3.0, 5.0, 10.0, 0.0, 8.0, 3.0, 9.0, 2.0, 2.0, 1.0, 11.0, 5.0, 1.0, 3.0, 9.0, 2.0, 11.0, 4.0, 3.0, 0.0, 10.0, 0.0, 7.0, 3.0, 0.0, 4.0, 0.0, 8.0, 1.0, 7.0, 7.0, 8.0, 3.0, 3.0, 6.0, 2.0, 4.0, 8.0, 0.0, 7.0, 3.0, 9.0, 11.0, 1.0, 3.0, 9.0, 1.0, 8.0, 2.0, 8.0, 5.0, 3.0, 10.0, 2.0, 2.0, 3.0, 7.0, 0.0, 7.0, 2.0, 1.0, 4.0, 9.0, 8.0, 7.0, 2.0, 9.0, 0.0, 3.0, 5.0, 1.0, 0.0, 9.0, 2.0, 2.0, 7.0, 3.0, 2.0, 5.0, 9.0, 10.0, 6.0, 7.0, 9.0, 2.0, 9.0, 11.0, 0.0, 10.0, 2.0, 0.0, 4.0, 2.0, 1.0, 3.0, 1.0, 0.0, 2.0, 3.0, 11.0, 11.0, 9.0, 0.0, 0.0, 1.0, 1.0, 4.0, 5.0, 10.0, 9.0, 4.0, 3.0, 3.0, 6.0, 4.0, 4.0, 1.0, 4.0, 3.0, 7.0, 6.0, 2.0, 1.0, 4.0, 2.0, 5.0, 5.0, 0.0, 3.0, 10.0, 2.0, 5.0, 3.0, 2.0, 1.0, 0.0, 3.0, 4.0, 3.0, 1.0, 5.0, 9.0, 6.0, 1.0, 9.0, 0.0, 4.0, 2.0, 2.0, 4.0, 2.0, 3.0, 1.0, 7.0, 0.0, 2.0, 3.0, 6.0, 0.0, 4.0, 0.0, 4.0, 7.0, 3.0, 6.0, 5.0, 4.0, 5.0, 1.0, 1.0, 1.0, 2.0, 4.0, 8.0, 0.0, 3.0, 0.0, 7.0, 2.0, 9.0, 4.0, 8.0, 8.0, 0.0, 9.0, 6.0, 1.0, 1.0, 1.0, 2.0, 9.0, 6.0, 4.0, 0.0, 3.0, 0.0, 1.0, 9.0, 9.0, 1.0, 11.0, 3.0, 0.0, 0.0, 0.0, 5.0, 3.0, 0.0, 1.0, 9.0, 0.0, 7.0, 9.0, 2.0, 2.0, 7.0, 1.0, 4.0, 11.0, 9.0, 0.0, 5.0, 1.0, 7.0, 8.0, 1.0, 3.0, 2.0, 0.0, 3.0, 1.0, 1.0, 9.0, 6.0, 7.0, 8.0, 3.0, 7.0, 2.0, 9.0, 4.0, 8.0, 3.0, 9.0, 4.0, 4.0, 9.0, 2.0, 9.0, 7.0, 0.0, 3.0, 2.0, 7.0, 5.0, 3.0, 0.0, 5.0, 8.0, 10.0, 3.0, 1.0, 1.0, 2.0, 4.0, 4.0, 1.0, 8.0, 3.0, 2.0, 3.0, 1.0, 3.0, 2.0, 1.0, 2.0, 8.0, 2.0, 7.0, 1.0, 9.0, 8.0, 3.0, 1.0, 3.0, 4.0, 1.0, 9.0, 3.0, 6.0, 4.0, 0.0, 3.0, 5.0, 9.0, 0.0, 4.0, 9.0, 3.0, 3.0, 8.0, 3.0, 1.0, 7.0, 10.0, 0.0, 7.0, 8.0, 4.0, 5.0, 5.0, 0.0, 2.0, 3.0, 2.0, 2.0, 4.0, 2.0, 7.0, 0.0, 7.0, 1.0, 1.0, 6.0, 3.0, 4.0, 3.0, 2.0, 6.0, 2.0, 3.0, 7.0, 1.0, 8.0, 6.0, 1.0, 7.0, 1.0, 2.0, 2.0, 3.0, 10.0, 7.0, 7.0, 0.0, 9.0, 0.0, 1.0, 1.0, 7.0, 2.0, 4.0, 1.0, 2.0, 9.0, 1.0, 6.0, 2.0, 7.0, 2.0, 9.0, 3.0, 7.0, 3.0, 4.0, 0.0, 7.0, 3.0, 1.0, 5.0, 6.0, 5.0, 9.0, 8.0, 5.0, 4.0, 10.0, 2.0, 11.0, 1.0, 0.0, 10.0, 10.0, 0.0, 10.0, 4.0, 0.0, 3.0, 0.0, 3.0, 4.0, 1.0, 9.0, 3.0, 1.0, 8.0, 1.0, 2.0, 0.0, 4.0, 5.0, 0.0, 1.0, 3.0, 0.0, 4.0, 0.0, 7.0, 1.0, 4.0, 0.0, 9.0, 9.0, 0.0, 7.0, 9.0, 7.0, 0.0, 4.0, 4.0, 2.0, 2.0, 1.0, 3.0, 1.0, 10.0, 0.0, 7.0, 5.0, 2.0, 1.0, 3.0, 2.0, 0.0, 0.0, 1.0, 2.0, 3.0, 0.0, 1.0, 2.0, 2.0, 3.0, 6.0, 2.0, 0.0, 9.0, 0.0, 4.0, 1.0, 1.0, 0.0, 2.0, 9.0, 1.0, 0.0, 1.0, 11.0, 1.0, 10.0, 3.0, 5.0, 4.0, 0.0, 0.0, 4.0, 4.0, 9.0, 1.0, 5.0, 3.0, 2.0, 7.0, 2.0, 0.0, 1.0, 1.0, 8.0, 8.0, 7.0, 0.0, 1.0, 1.0, 2.0, 1.0, 2.0, 2.0, 3.0, 9.0, 2.0, 5.0, 10.0, 1.0, 1.0, 0.0, 1.0, 8.0, 7.0, 8.0, 9.0, 0.0, 7.0, 3.0, 0.0, 4.0, 9.0, 1.0, 3.0, 9.0, 7.0, 4.0, 1.0, 3.0, 2.0, 2.0, 0.0, 4.0, 2.0, 1.0, 4.0, 2.0, 10.0, 1.0, 10.0, 2.0, 2.0, 5.0, 1.0, 0.0, 9.0, 6.0, 7.0, 2.0, 0.0, 2.0, 9.0, 0.0, 0.0, 1.0, 8.0, 6.0, 8.0, 1.0, 0.0, 0.0, 3.0, 2.0, 7.0, 0.0, 1.0, 3.0, 7.0, 0.0, 3.0, 2.0, 7.0, 1.0, 3.0, 2.0, 6.0, 2.0, 0.0, 9.0, 0.0, 3.0, 0.0, 3.0, 9.0, 3.0, 8.0, 7.0, 2.0, 5.0, 6.0, 7.0, 6.0, 0.0, 10.0, 10.0, 1.0, 2.0, 1.0, 5.0, 7.0, 0.0, 1.0, 10.0, 5.0, 1.0, 4.0, 3.0, 6.0, 0.0, 4.0, 3.0, 4.0, 10.0, 9.0, 8.0, 7.0, 10.0, 8.0, 10.0, 1.0, 3.0, 5.0, 4.0, 1.0, 1.0, 5.0, 1.0, 0.0, 3.0, 10.0, 7.0, 3.0, 9.0, 2.0, 6.0, 5.0, 2.0, 1.0, 5.0, 3.0, 0.0, 8.0, 5.0, 6.0, 9.0, 2.0, 7.0, 6.0, 11.0, 4.0, 4.0, 8.0, 1.0, 9.0, 1.0, 9.0, 8.0, 0.0, 4.0, 5.0, 8.0, 1.0, 8.0, 2.0, 3.0, 2.0, 2.0, 7.0, 7.0, 3.0, 3.0, 6.0, 5.0, 4.0, 2.0, 5.0, 1.0, 0.0, 0.0, 6.0, 1.0, 5.0, 11.0, 1.0, 3.0, 1.0, 3.0, 5.0, 1.0, 4.0, 3.0, 0.0, 0.0, 2.0, 2.0, 2.0, 9.0, 0.0, 0.0, 4.0, 3.0, 5.0, 2.0, 7.0, 0.0, 9.0, 1.0, 2.0, 4.0, 0.0, 2.0, 4.0, 11.0, 0.0, 2.0, 0.0, 3.0, 10.0, 10.0, 5.0, 5.0, 0.0, 3.0, 6.0, 0.0, 0.0, 1.0, 1.0, 3.0, 4.0, 8.0, 2.0, 1.0, 5.0, 4.0, 2.0, 2.0, 0.0, 7.0, 3.0, 1.0, 7.0, 8.0, 0.0, 2.0, 1.0, 6.0, 2.0, 0.0, 0.0, 3.0, 8.0, 8.0, 1.0, 7.0, 1.0, 1.0, 3.0, 8.0, 0.0, 7.0, 2.0, 9.0, 2.0, 0.0, 3.0, 1.0, 4.0, 9.0, 1.0, 10.0, 7.0, 3.0, 7.0, 4.0, 1.0, 2.0, 2.0, 1.0, 5.0, 7.0, 2.0, 10.0, 10.0, 4.0, 10.0, 7.0, 2.0, 3.0, 10.0, 7.0, 5.0, 2.0, 4.0, 3.0, 6.0, 3.0, 1.0, 0.0, 6.0, 1.0, 10.0, 7.0, 3.0, 6.0, 7.0, 9.0, 0.0, 11.0, 0.0, 3.0, 8.0, 2.0, 3.0, 7.0, 3.0, 0.0, 0.0, 6.0, 2.0, 2.0, 9.0, 5.0, 1.0, 10.0, 6.0, 4.0, 3.0, 8.0, 7.0, 10.0, 7.0, 1.0, 1.0, 7.0, 1.0, 3.0, 0.0, 1.0, 3.0, 2.0, 5.0, 2.0, 4.0, 11.0, 5.0, 5.0, 9.0, 5.0, 5.0, 9.0, 1.0, 6.0, 5.0, 1.0, 0.0, 5.0, 9.0, 3.0, 3.0, 2.0, 6.0, 1.0, 3.0, 6.0, 4.0, 0.0, 7.0, 2.0, 2.0, 9.0, 0.0, 3.0, 5.0, 3.0, 0.0, 0.0, 3.0, 3.0, 8.0, 9.0, 1.0, 7.0, 2.0, 11.0, 3.0, 2.0, 2.0, 8.0, 0.0, 6.0, 7.0, 8.0, 8.0, 11.0, 2.0, 2.0, 9.0, 0.0, 7.0, 7.0, 0.0, 7.0, 0.0, 8.0, 7.0, 0.0, 1.0, 0.0, 8.0, 0.0, 9.0, 0.0, 0.0, 6.0, 11.0, 3.0, 11.0, 10.0, 7.0, 1.0, 3.0, 4.0, 10.0, 8.0, 10.0, 4.0, 0.0, 1.0, 7.0, 4.0, 0.0, 4.0, 0.0, 2.0, 2.0, 1.0, 3.0, 8.0, 1.0, 7.0, 2.0, 0.0, 4.0, 2.0, 2.0, 4.0, 2.0, 5.0, 2.0, 3.0, 2.0, 4.0, 2.0, 2.0, 7.0, 2.0, 9.0, 7.0, 3.0, 7.0, 1.0, 8.0, 3.0, 2.0, 7.0, 4.0, 0.0, 7.0, 6.0, 3.0, 0.0, 1.0, 1.0, 0.0, 5.0, 4.0, 3.0, 7.0, 3.0, 11.0, 0.0, 4.0, 1.0, 11.0, 1.0, 3.0, 2.0, 9.0, 2.0, 0.0, 3.0, 4.0, 4.0, 9.0, 3.0, 3.0, 9.0, 10.0, 1.0, 1.0, 8.0, 9.0, 4.0, 3.0, 11.0, 10.0, 1.0, 3.0, 3.0, 9.0, 9.0, 3.0, 1.0, 0.0, 0.0, 5.0, 10.0, 10.0, 8.0, 8.0, 7.0, 3.0, 1.0, 9.0, 7.0, 5.0, 3.0, 5.0, 0.0, 3.0, 1.0, 0.0, 3.0, 0.0, 1.0, 5.0, 10.0, 1.0, 2.0, 5.0, 9.0, 0.0, 2.0, 5.0, 1.0, 8.0, 8.0, 1.0, 2.0, 1.0, 3.0, 1.0, 3.0, 4.0, 0.0, 3.0, 0.0, 3.0, 2.0, 1.0, 2.0, 5.0, 1.0, 10.0, 4.0, 5.0, 2.0, 5.0, 6.0, 2.0, 6.0, 3.0, 5.0, 7.0, 1.0, 8.0, 2.0, 0.0, 1.0, 4.0, 4.0, 11.0, 2.0, 6.0, 2.0, 2.0, 2.0, 5.0, 3.0, 4.0, 2.0, 9.0, 0.0, 7.0, 2.0, 7.0, 0.0, 8.0, 1.0, 3.0, 2.0, 4.0, 0.0, 2.0, 3.0, 9.0, 2.0, 9.0, 7.0, 5.0, 1.0, 1.0, 6.0, 3.0, 3.0, 5.0, 2.0, 2.0, 9.0, 5.0, 4.0, 8.0, 4.0, 9.0, 1.0, 4.0, 7.0, 11.0, 5.0, 9.0, 7.0, 11.0, 8.0, 1.0, 0.0, 7.0, 10.0, 4.0, 7.0, 2.0, 6.0, 3.0, 4.0, 1.0, 5.0, 10.0, 0.0, 3.0, 3.0, 3.0, 5.0, 2.0, 0.0, 8.0, 0.0, 10.0, 10.0, 0.0, 0.0, 1.0, 2.0, 7.0, 9.0, 1.0, 1.0, 0.0, 6.0, 0.0, 4.0, 1.0, 1.0, 9.0, 7.0, 0.0, 2.0, 7.0, 1.0, 10.0, 5.0, 2.0, 0.0, 5.0, 5.0, 6.0, 0.0, 9.0, 10.0, 7.0, 2.0, 7.0, 8.0, 3.0, 0.0, 1.0, 7.0, 0.0, 1.0, 2.0, 1.0, 4.0, 6.0, 5.0, 3.0, 10.0, 8.0, 1.0, 1.0, 3.0, 2.0, 9.0, 9.0, 8.0, 9.0, 3.0, 8.0, 1.0, 6.0, 10.0, 8.0, 8.0, 9.0, 7.0, 1.0, 0.0, 9.0, 4.0, 1.0, 7.0, 6.0, 1.0, 9.0, 5.0, 9.0, 3.0, 9.0, 3.0, 10.0, 7.0, 0.0, 2.0, 0.0, 2.0, 11.0, 6.0, 0.0, 2.0, 1.0, 4.0, 9.0, 3.0, 6.0, 2.0, 2.0, 9.0, 10.0, 4.0, 8.0, 1.0, 2.0, 7.0, 5.0, 6.0, 9.0, 1.0, 1.0, 9.0, 7.0, 4.0, 8.0, 5.0, 3.0, 1.0, 8.0, 1.0, 1.0, 2.0, 1.0, 2.0, 2.0, 9.0, 6.0, 7.0, 0.0, 8.0, 0.0, 0.0, 2.0, 8.0, 3.0, 5.0, 7.0, 1.0, 3.0, 3.0, 8.0, 6.0, 3.0, 1.0, 4.0, 2.0, 8.0, 1.0, 1.0, 5.0, 2.0, 9.0, 3.0, 1.0, 0.0, 4.0, 7.0, 2.0, 0.0, 4.0, 11.0, 3.0, 5.0, 11.0, 6.0, 2.0, 4.0, 3.0, 0.0, 5.0, 5.0, 7.0, 0.0, 8.0, 1.0, 4.0, 3.0, 0.0, 0.0, 0.0, 2.0, 11.0, 5.0, 4.0, 3.0, 7.0, 4.0, 4.0, 5.0, 3.0, 5.0, 4.0, 3.0, 11.0, 3.0, 10.0, 7.0, 0.0, 0.0, 5.0, 0.0, 2.0, 5.0, 9.0, 5.0, 1.0, 1.0, 10.0, 0.0, 0.0, 8.0, 8.0, 10.0, 1.0, 1.0, 6.0, 1.0, 11.0, 1.0, 0.0, 4.0, 1.0, 0.0, 4.0, 3.0, 1.0, 8.0, 3.0, 6.0, 5.0, 3.0, 0.0, 1.0, 7.0, 0.0, 4.0, 4.0, 3.0, 11.0, 8.0, 10.0, 11.0, 5.0, 4.0, 1.0, 0.0, 8.0, 7.0, 0.0, 5.0, 6.0, 0.0, 11.0, 8.0, 9.0, 2.0, 9.0, 0.0, 0.0, 8.0, 1.0, 0.0, 6.0, 0.0, 1.0, 1.0, 0.0, 0.0, 5.0, 5.0, 4.0, 7.0, 1.0, 8.0, 3.0, 3.0, 5.0, 0.0, 6.0, 8.0, 5.0, 2.0, 2.0, 2.0, 5.0, 11.0, 0.0, 4.0, 3.0, 0.0, 1.0, 0.0, 0.0, 3.0, 6.0, 5.0, 5.0, 3.0, 11.0, 1.0, 7.0, 5.0, 0.0, 0.0, 0.0, 10.0, 0.0, 8.0, 0.0, 6.0, 5.0, 1.0, 3.0, 3.0, 6.0, 1.0, 2.0, 4.0, 9.0, 4.0, 3.0, 1.0, 9.0, 1.0, 0.0, 4.0, 0.0, 6.0, 3.0, 3.0, 2.0, 0.0, 0.0, 3.0, 1.0, 8.0, 2.0, 2.0, 5.0, 8.0, 1.0, 1.0, 0.0, 7.0, 2.0, 2.0, 8.0, 1.0, 4.0, 0.0, 2.0, 3.0, 4.0, 0.0, 0.0, 2.0, 0.0, 11.0, 3.0, 0.0, 5.0, 4.0, 5.0, 4.0, 3.0, 3.0, 5.0, 3.0, 0.0, 6.0, 1.0, 5.0, 4.0, 9.0, 9.0, 9.0, 3.0, 2.0, 8.0, 1.0, 2.0, 3.0, 9.0, 3.0, 7.0, 1.0, 3.0, 7.0, 2.0, 2.0, 4.0, 2.0, 10.0, 10.0, 3.0, 1.0, 2.0, 6.0, 7.0, 0.0, 4.0, 0.0, 6.0, 1.0, 9.0, 2.0, 2.0, 7.0, 3.0, 11.0, 0.0, 1.0, 5.0, 0.0, 1.0, 2.0, 9.0, 2.0, 6.0, 0.0, 5.0, 10.0, 8.0, 8.0, 2.0, 1.0, 11.0, 10.0, 10.0, 5.0, 8.0, 10.0, 3.0, 8.0, 1.0, 10.0, 11.0, 5.0, 9.0, 2.0, 0.0, 1.0, 1.0, 0.0, 5.0, 5.0, 0.0, 0.0, 1.0, 9.0, 9.0, 0.0, 5.0, 6.0, 0.0, 5.0, 2.0, 11.0, 6.0, 1.0, 3.0, 1.0, 6.0, 1.0, 3.0, 1.0, 0.0, 10.0, 2.0, 0.0, 3.0, 10.0, 1.0, 7.0, 3.0, 9.0, 6.0, 0.0, 7.0, 2.0, 0.0, 5.0, 4.0, 2.0, 6.0, 7.0, 1.0, 2.0, 2.0, 0.0, 3.0, 3.0, 7.0, 5.0, 5.0, 0.0, 3.0, 5.0, 1.0, 5.0, 6.0, 3.0, 6.0, 1.0, 1.0, 5.0, 8.0, 4.0, 0.0, 3.0, 1.0, 5.0, 3.0, 1.0, 7.0, 7.0, 1.0, 1.0, 4.0, 4.0, 3.0, 9.0, 0.0, 0.0, 4.0, 5.0, 3.0, 5.0, 11.0, 3.0, 0.0, 0.0, 1.0, 3.0, 7.0, 6.0, 9.0, 6.0, 0.0, 7.0, 8.0, 1.0, 2.0, 2.0, 6.0, 0.0, 1.0, 10.0, 7.0, 4.0, 0.0, 3.0, 9.0, 7.0, 3.0, 0.0, 5.0, 8.0, 3.0, 3.0, 2.0, 4.0, 2.0, 6.0, 10.0, 10.0, 7.0, 0.0, 7.0, 0.0, 0.0, 8.0, 9.0, 2.0, 4.0, 3.0, 10.0, 0.0, 3.0, 0.0, 5.0, 3.0, 5.0, 4.0, 11.0, 9.0, 2.0, 2.0, 6.0, 4.0, 7.0, 2.0, 1.0, 0.0, 3.0, 3.0, 11.0, 8.0, 9.0, 1.0, 6.0, 3.0, 1.0, 5.0, 2.0, 2.0, 2.0, 0.0, 8.0, 1.0, 3.0, 1.0, 1.0, 8.0, 2.0, 2.0, 0.0, 7.0, 7.0, 2.0, 2.0, 0.0, 3.0, 8.0, 7.0, 1.0, 4.0, 3.0, 4.0, 9.0, 1.0, 2.0, 0.0, 6.0, 9.0, 0.0, 2.0, 5.0, 11.0, 8.0, 1.0, 9.0, 3.0, 4.0, 1.0, 2.0, 2.0, 9.0, 4.0, 0.0, 11.0, 1.0, 11.0, 9.0, 2.0, 1.0, 7.0, 0.0, 0.0, 2.0, 1.0, 0.0, 1.0, 5.0, 7.0, 2.0, 4.0, 0.0, 9.0, 1.0, 5.0, 8.0, 3.0, 3.0, 6.0, 2.0, 11.0, 3.0, 3.0, 9.0, 0.0, 0.0, 5.0, 4.0, 2.0, 1.0, 2.0, 4.0, 0.0, 1.0, 6.0, 8.0, 10.0, 0.0, 6.0, 0.0, 9.0, 3.0, 1.0, 7.0, 3.0, 1.0, 7.0, 0.0, 8.0, 4.0, 1.0, 8.0, 2.0, 6.0, 9.0, 5.0, 5.0, 5.0, 9.0, 1.0, 9.0, 3.0, 8.0, 3.0, 2.0, 1.0, 10.0, 0.0, 1.0, 0.0, 1.0, 9.0, 8.0, 1.0, 2.0, 0.0, 5.0, 7.0, 9.0, 1.0, 2.0, 5.0, 5.0, 7.0, 0.0, 1.0, 6.0, 1.0, 0.0, 0.0, 4.0, 5.0, 2.0, 3.0, 0.0, 1.0, 2.0, 7.0, 6.0, 1.0, 4.0, 2.0, 3.0, 8.0, 8.0, 1.0, 8.0, 3.0, 2.0, 3.0, 1.0, 1.0, 8.0, 0.0, 2.0, 8.0, 10.0, 0.0, 6.0, 2.0, 3.0, 7.0, 0.0, 8.0, 0.0, 9.0, 0.0, 11.0, 7.0, 1.0, 1.0, 7.0, 11.0, 1.0, 4.0, 1.0, 4.0, 4.0, 0.0, 4.0, 2.0, 0.0, 2.0, 3.0, 1.0, 0.0, 1.0, 1.0, 9.0, 8.0, 0.0, 2.0, 1.0, 9.0, 4.0, 6.0, 8.0, 5.0, 5.0, 10.0, 3.0, 2.0, 7.0, 0.0, 1.0, 8.0, 2.0, 5.0, 9.0, 3.0, 9.0, 7.0, 0.0, 7.0, 4.0, 2.0, 0.0, 1.0, 8.0, 10.0, 3.0, 3.0, 7.0, 1.0, 0.0, 2.0, 7.0, 2.0, 8.0, 8.0, 0.0, 2.0, 0.0, 6.0, 0.0, 10.0, 9.0, 0.0, 7.0, 1.0, 6.0, 2.0, 2.0, 3.0, 3.0, 5.0, 3.0, 9.0, 2.0, 1.0, 7.0, 0.0, 1.0, 3.0, 3.0, 0.0, 3.0, 1.0, 2.0, 3.0, 1.0, 2.0, 0.0, 9.0, 8.0, 10.0, 2.0, 8.0, 4.0, 7.0, 3.0, 7.0, 3.0, 3.0, 8.0, 10.0, 2.0, 1.0, 8.0, 1.0, 11.0, 0.0, 2.0, 2.0, 1.0, 8.0, 4.0, 0.0, 2.0, 7.0, 3.0, 5.0, 11.0, 7.0, 9.0, 0.0, 7.0, 0.0, 4.0, 4.0, 10.0, 1.0, 9.0, 5.0, 0.0, 6.0, 11.0, 0.0, 7.0, 7.0, 0.0, 1.0, 6.0, 7.0, 10.0, 4.0, 2.0, 9.0, 0.0, 1.0, 10.0, 11.0, 9.0, 9.0, 7.0, 11.0, 8.0, 6.0, 0.0, 4.0, 1.0, 8.0, 8.0, 6.0, 8.0, 5.0, 0.0, 4.0, 10.0, 0.0, 5.0, 2.0, 8.0, 1.0, 9.0, 2.0, 4.0, 9.0, 6.0, 8.0, 0.0, 3.0, 1.0, 4.0, 7.0, 8.0, 1.0, 9.0, 9.0, 10.0, 4.0, 5.0, 7.0, 4.0, 0.0, 3.0, 9.0, 4.0, 1.0, 5.0, 0.0, 9.0, 4.0, 9.0, 5.0, 1.0, 10.0, 2.0, 3.0, 4.0, 8.0, 7.0, 5.0, 0.0, 4.0, 2.0, 2.0, 1.0, 1.0, 1.0, 0.0, 1.0, 8.0, 2.0, 2.0, 4.0, 11.0, 3.0, 7.0, 11.0, 0.0, 3.0, 7.0, 3.0, 3.0, 11.0, 3.0, 2.0, 1.0, 0.0, 5.0, 0.0, 1.0, 7.0, 4.0, 4.0, 0.0, 6.0, 1.0, 6.0, 10.0, 1.0, 3.0, 10.0, 0.0, 0.0, 3.0, 7.0, 9.0, 8.0, 3.0, 3.0, 0.0, 2.0, 11.0, 6.0, 3.0, 10.0, 5.0, 2.0, 0.0, 0.0, 5.0, 2.0, 3.0, 0.0, 1.0, 5.0, 0.0, 0.0, 8.0, 2.0, 8.0, 8.0, 3.0, 0.0, 2.0, 5.0, 4.0, 6.0, 3.0, 0.0, 0.0, 6.0, 3.0, 1.0, 8.0, 0.0, 4.0, 0.0, 6.0, 3.0, 3.0, 3.0, 0.0, 0.0, 9.0, 4.0, 1.0, 8.0, 7.0, 5.0, 2.0, 3.0, 0.0, 0.0, 6.0, 2.0, 0.0, 1.0, 3.0, 3.0, 4.0, 4.0, 0.0, 5.0, 3.0, 2.0, 9.0, 2.0, 0.0, 0.0, 1.0, 6.0, 0.0, 7.0, 3.0, 2.0, 7.0, 10.0, 8.0, 6.0, 7.0, 9.0, 3.0, 5.0, 1.0, 8.0, 1.0, 10.0, 3.0, 4.0, 8.0, 8.0, 9.0, 3.0, 4.0, 7.0, 5.0, 0.0, 10.0, 7.0, 0.0, 1.0, 10.0, 2.0, 0.0, 1.0, 8.0, 1.0, 1.0, 5.0, 0.0, 11.0, 7.0, 6.0, 10.0, 0.0, 4.0, 3.0, 6.0, 8.0, 3.0, 11.0, 6.0, 8.0, 0.0, 8.0, 2.0, 4.0, 3.0, 5.0, 1.0, 8.0, 1.0, 2.0, 8.0, 7.0, 7.0, 1.0, 6.0, 2.0, 2.0, 5.0, 0.0, 1.0, 2.0, 8.0, 2.0, 0.0, 6.0, 2.0, 8.0, 2.0, 3.0, 6.0, 8.0, 1.0, 10.0, 6.0, 2.0, 11.0, 1.0, 7.0, 8.0, 10.0, 7.0, 3.0, 8.0, 4.0, 4.0, 8.0, 3.0, 7.0, 1.0, 0.0, 3.0, 9.0, 3.0, 4.0, 4.0, 2.0, 1.0, 6.0, 4.0, 0.0, 7.0, 9.0, 11.0, 8.0, 8.0, 2.0, 8.0, 8.0, 1.0, 5.0, 7.0, 1.0, 0.0, 10.0, 3.0, 1.0, 0.0, 0.0, 2.0, 1.0, 10.0, 0.0, 1.0, 3.0, 7.0, 2.0, 10.0, 10.0, 1.0, 11.0, 1.0, 9.0, 1.0, 4.0, 6.0, 2.0, 7.0, 2.0, 3.0, 3.0, 11.0, 0.0, 5.0, 6.0, 5.0, 11.0, 1.0, 2.0, 3.0, 9.0, 6.0, 4.0, 9.0, 8.0, 8.0, 5.0, 5.0, 7.0, 7.0, 6.0, 6.0, 10.0, 9.0, 1.0, 2.0, 1.0, 4.0, 3.0, 10.0, 4.0, 9.0, 5.0, 1.0, 8.0, 10.0, 4.0, 9.0, 4.0, 9.0, 0.0, 2.0, 8.0, 9.0, 5.0, 8.0, 8.0, 0.0, 1.0, 9.0, 1.0, 9.0, 2.0, 7.0, 0.0, 5.0, 10.0, 4.0, 0.0, 2.0, 1.0, 11.0, 3.0, 7.0, 4.0, 8.0, 1.0, 2.0, 11.0, 4.0, 1.0, 8.0, 4.0, 0.0, 2.0, 0.0, 1.0, 3.0, 1.0, 8.0, 6.0, 7.0, 9.0, 1.0, 0.0, 2.0, 4.0, 1.0, 7.0, 3.0, 5.0, 4.0, 3.0, 0.0, 4.0, 5.0, 0.0, 7.0, 2.0, 3.0, 5.0, 1.0, 8.0, 7.0, 8.0, 3.0, 2.0, 4.0, 2.0, 0.0, 8.0, 5.0, 9.0, 1.0, 11.0, 2.0, 0.0, 10.0, 8.0, 9.0, 8.0, 1.0, 8.0, 0.0, 2.0, 9.0, 1.0, 2.0, 2.0, 0.0, 9.0, 6.0, 4.0, 1.0, 2.0, 2.0, 0.0, 2.0, 8.0, 3.0, 0.0, 9.0, 0.0, 10.0, 8.0, 0.0, 4.0, 0.0, 6.0, 5.0, 4.0, 7.0, 4.0, 0.0, 4.0, 2.0, 2.0, 6.0, 0.0, 4.0, 9.0, 7.0, 1.0, 11.0, 8.0, 7.0, 0.0, 7.0, 7.0, 3.0, 0.0, 8.0, 10.0, 9.0, 7.0, 4.0, 11.0, 8.0, 5.0, 0.0, 10.0, 8.0, 9.0, 5.0, 3.0, 1.0, 7.0, 4.0, 9.0, 7.0, 4.0, 5.0, 9.0, 9.0, 11.0, 0.0, 1.0, 1.0, 8.0, 7.0, 3.0, 4.0, 4.0, 0.0, 1.0, 5.0, 4.0, 6.0, 1.0, 8.0, 1.0, 3.0, 1.0, 2.0, 3.0, 2.0, 0.0, 7.0, 9.0, 2.0, 3.0, 4.0, 3.0, 2.0, 2.0, 0.0, 0.0, 2.0, 3.0, 0.0, 9.0, 7.0, 9.0, 1.0, 9.0, 11.0, 9.0, 0.0, 3.0, 3.0, 1.0, 8.0, 7.0, 8.0, 2.0, 3.0, 3.0, 1.0, 4.0, 4.0, 0.0, 10.0, 8.0, 1.0, 8.0, 1.0, 7.0, 3.0, 9.0, 9.0, 11.0, 1.0, 0.0, 0.0, 5.0, 2.0, 4.0, 4.0, 1.0, 7.0, 3.0, 4.0, 8.0, 8.0, 2.0, 6.0, 0.0, 7.0, 8.0, 0.0, 1.0, 6.0, 6.0, 2.0, 3.0, 1.0, 10.0, 4.0, 3.0, 2.0, 8.0, 1.0, 8.0, 10.0, 3.0, 1.0, 3.0, 4.0, 4.0, 2.0, 2.0, 2.0, 1.0, 0.0, 2.0, 10.0, 4.0, 11.0, 6.0, 0.0, 2.0, 4.0, 1.0, 0.0, 1.0, 5.0, 4.0, 6.0, 0.0, 6.0, 3.0, 2.0, 0.0, 3.0, 1.0, 5.0, 3.0, 5.0, 2.0, 3.0, 5.0, 6.0, 4.0, 2.0, 5.0, 0.0, 3.0, 2.0, 2.0, 1.0, 6.0, 1.0, 9.0, 2.0, 9.0, 4.0, 0.0, 2.0, 3.0, 8.0, 3.0, 11.0, 8.0, 10.0, 4.0, 4.0, 11.0, 8.0, 1.0, 9.0, 6.0, 8.0, 2.0, 1.0, 6.0, 2.0, 2.0, 1.0, 2.0, 2.0, 2.0, 1.0, 4.0, 2.0, 2.0, 10.0, 1.0, 6.0, 1.0, 1.0, 7.0, 3.0, 3.0, 5.0, 6.0, 4.0, 5.0, 3.0, 5.0, 11.0, 3.0, 7.0, 9.0, 6.0, 4.0, 4.0, 3.0, 5.0, 0.0, 1.0, 7.0, 2.0, 5.0, 1.0, 1.0, 0.0, 10.0, 10.0, 4.0, 0.0, 4.0, 9.0, 4.0, 7.0, 8.0, 5.0, 0.0, 3.0, 3.0, 0.0, 6.0, 3.0, 7.0, 8.0, 0.0, 1.0, 7.0, 1.0, 1.0, 3.0, 10.0, 5.0, 7.0, 0.0, 0.0, 5.0, 6.0, 2.0, 3.0, 0.0, 4.0, 6.0, 3.0, 6.0, 3.0, 0.0, 3.0, 7.0, 7.0, 1.0, 2.0, 5.0, 2.0, 6.0, 6.0, 1.0, 10.0, 1.0, 3.0, 3.0, 7.0, 2.0, 0.0, 0.0, 6.0, 6.0, 7.0, 0.0, 6.0, 8.0, 2.0, 11.0, 3.0, 3.0, 10.0, 1.0, 1.0, 1.0, 7.0, 1.0, 10.0, 10.0, 1.0, 5.0, 5.0, 1.0, 3.0, 10.0, 3.0, 6.0, 2.0, 0.0, 8.0, 4.0, 7.0, 3.0, 6.0, 7.0, 3.0, 6.0, 7.0, 0.0, 4.0, 6.0, 2.0, 4.0, 6.0, 10.0, 0.0, 6.0, 9.0, 8.0, 1.0, 6.0, 7.0, 10.0, 3.0, 3.0, 6.0, 0.0, 8.0, 5.0, 5.0, 6.0, 2.0, 3.0, 0.0, 1.0, 2.0, 9.0, 8.0, 1.0, 7.0, 3.0, 5.0, 4.0, 6.0, 3.0, 4.0, 9.0, 0.0, 9.0, 5.0, 5.0, 3.0, 2.0, 3.0, 2.0, 3.0, 3.0, 3.0, 4.0, 5.0, 3.0, 2.0, 8.0, 1.0, 8.0, 0.0, 0.0, 9.0, 1.0, 9.0, 7.0, 11.0, 6.0, 0.0, 9.0, 1.0, 3.0, 3.0, 9.0, 9.0, 8.0, 9.0, 8.0, 10.0, 1.0, 5.0, 0.0, 11.0, 7.0, 3.0, 0.0, 1.0, 9.0, 7.0, 5.0, 11.0, 0.0, 7.0, 2.0, 2.0, 9.0, 2.0, 8.0, 4.0, 1.0, 1.0, 4.0, 6.0, 1.0, 4.0, 8.0, 3.0, 3.0, 1.0, 1.0, 0.0, 7.0, 5.0, 6.0, 1.0, 1.0, 2.0, 2.0, 3.0, 7.0, 1.0, 0.0, 0.0, 6.0, 9.0, 3.0, 0.0, 1.0, 2.0, 1.0, 8.0, 6.0, 3.0, 3.0, 1.0, 1.0, 11.0, 3.0, 6.0, 10.0, 2.0, 3.0, 3.0, 2.0, 0.0, 0.0, 0.0, 0.0, 0.0, 0.0, 0.0, 0.0, 0.0, 0.0, 0.0, 0.0, 0.0, 0.0, 8.0, 6.0, 8.0, 0.0, 1.0, 4.0, 7.0, 2.0, 10.0, 7.0, 9.0, 2.0, 6.0, 2.0, 0.0, 2.0, 3.0, 9.0, 8.0, 9.0, 3.0, 11.0, 3.0, 7.0, 10.0, 0.0, 2.0, 0.0, 5.0, 6.0, 1.0, 0.0, 1.0, 3.0, 1.0, 4.0, 0.0, 6.0, 3.0, 1.0, 3.0, 5.0, 1.0, 7.0, 4.0, 8.0, 4.0, 0.0, 7.0, 3.0, 4.0, 0.0, 6.0, 5.0, 1.0, 6.0, 9.0, 0.0, 1.0, 3.0, 0.0, 4.0, 0.0, 5.0, 10.0, 7.0, 7.0, 2.0, 9.0, 1.0, 5.0, 5.0, 4.0, 4.0, 1.0, 1.0, 9.0, 9.0, 7.0, 1.0, 2.0, 7.0, 2.0, 1.0, 9.0, 5.0, 11.0, 3.0, 3.0, 3.0, 7.0, 1.0, 9.0, 1.0, 7.0, 3.0, 2.0, 2.0, 0.0, 8.0, 1.0, 0.0, 0.0, 0.0, 2.0, 10.0, 3.0, 7.0, 5.0, 4.0, 8.0, 3.0, 8.0, 9.0, 9.0, 2.0, 7.0, 1.0, 0.0, 7.0, 5.0, 0.0, 4.0, 2.0, 9.0, 8.0, 0.0, 10.0, 3.0, 0.0, 4.0, 1.0, 5.0, 2.0, 6.0, 3.0, 8.0, 2.0, 2.0, 5.0, 9.0, 9.0, 9.0, 2.0, 3.0, 3.0, 4.0, 8.0, 3.0, 9.0, 2.0, 3.0, 9.0, 3.0, 0.0, 5.0, 10.0, 0.0, 3.0, 1.0, 1.0, 0.0, 3.0, 6.0, 7.0, 11.0, 2.0, 5.0, 5.0, 5.0, 0.0, 2.0, 6.0, 8.0, 2.0, 4.0, 3.0, 8.0, 2.0, 3.0, 10.0, 8.0, 4.0, 3.0, 4.0, 3.0, 5.0, 7.0, 5.0, 2.0, 1.0, 7.0, 10.0, 0.0, 7.0, 6.0, 6.0, 8.0, 3.0, 8.0, 8.0, 10.0, 7.0, 9.0, 2.0, 9.0, 0.0, 10.0, 6.0, 7.0, 0.0, 3.0, 2.0, 2.0, 9.0, 3.0, 9.0, 2.0, 5.0, 3.0, 9.0, 9.0, 0.0, 0.0, 0.0, 7.0, 0.0, 2.0, 9.0, 5.0, 8.0, 4.0, 10.0, 1.0, 9.0, 2.0, 7.0, 1.0, 0.0, 2.0, 2.0, 5.0, 0.0, 4.0, 4.0, 9.0, 3.0, 1.0, 3.0, 6.0, 1.0, 5.0, 1.0, 2.0, 2.0, 0.0, 8.0, 11.0, 4.0, 7.0, 0.0, 5.0, 3.0, 5.0, 4.0, 7.0, 6.0, 4.0, 1.0, 7.0, 2.0, 1.0, 2.0, 1.0, 5.0, 2.0, 0.0, 9.0, 7.0, 4.0, 10.0, 0.0, 7.0, 6.0, 9.0, 2.0, 9.0, 1.0, 5.0, 1.0, 9.0, 3.0, 1.0, 5.0, 7.0, 5.0, 7.0, 8.0, 5.0, 4.0, 0.0, 9.0, 4.0, 10.0, 0.0, 2.0, 1.0, 4.0, 3.0, 0.0, 3.0, 0.0, 2.0, 9.0, 6.0, 0.0, 2.0, 2.0, 5.0, 10.0, 1.0, 4.0, 7.0, 10.0, 1.0, 6.0, 1.0, 10.0, 5.0, 11.0, 10.0, 0.0, 8.0, 0.0, 7.0, 9.0, 5.0, 11.0, 10.0, 1.0, 9.0, 2.0, 2.0, 3.0, 7.0, 9.0, 10.0, 5.0, 3.0, 5.0, 11.0, 0.0, 0.0, 10.0, 9.0, 11.0, 4.0, 8.0, 6.0, 6.0, 3.0, 4.0, 2.0, 6.0, 2.0, 0.0, 3.0, 2.0, 5.0, 0.0, 1.0, 3.0, 9.0, 3.0, 1.0, 3.0, 4.0, 0.0, 4.0, 4.0, 8.0, 7.0, 3.0, 9.0, 11.0, 4.0, 8.0, 0.0, 1.0, 2.0, 1.0, 2.0, 1.0, 2.0, 3.0, 0.0, 3.0, 0.0, 2.0, 4.0, 10.0, 1.0, 2.0, 3.0, 4.0, 3.0, 10.0, 5.0, 4.0, 3.0, 8.0, 2.0, 3.0, 3.0, 8.0, 8.0, 0.0, 9.0, 0.0, 1.0, 5.0, 8.0, 9.0, 8.0, 1.0, 1.0, 3.0, 0.0, 10.0, 10.0, 11.0, 1.0, 3.0, 10.0, 7.0, 4.0, 7.0, 6.0, 4.0, 7.0, 4.0, 8.0, 4.0, 4.0, 3.0, 0.0, 7.0, 7.0, 10.0, 3.0, 3.0, 10.0, 9.0, 3.0, 3.0, 2.0, 10.0, 2.0, 0.0, 1.0, 4.0, 1.0, 4.0, 4.0, 2.0, 1.0, 7.0, 9.0, 1.0, 4.0, 1.0, 4.0, 2.0, 3.0, 5.0, 4.0, 2.0, 11.0, 1.0, 8.0, 5.0, 8.0, 1.0, 8.0, 2.0, 9.0, 0.0, 11.0, 7.0, 0.0, 3.0, 3.0, 4.0, 3.0, 1.0, 9.0, 9.0, 4.0, 2.0, 3.0, 0.0, 0.0, 1.0, 5.0, 1.0, 0.0, 11.0, 4.0, 7.0, 1.0, 5.0, 5.0, 8.0, 7.0, 3.0, 9.0, 4.0, 4.0, 2.0, 6.0, 1.0, 4.0, 4.0, 0.0, 3.0, 6.0, 1.0, 0.0, 2.0, 2.0, 6.0, 0.0, 10.0, 11.0, 2.0, 9.0, 6.0, 0.0, 6.0, 1.0, 1.0, 6.0, 8.0, 10.0, 7.0, 1.0, 8.0, 3.0, 2.0, 10.0, 9.0, 8.0, 6.0, 2.0, 2.0, 2.0, 3.0, 0.0, 3.0, 10.0, 1.0, 2.0, 9.0, 1.0, 1.0, 2.0, 0.0, 8.0, 0.0, 7.0, 3.0, 8.0, 1.0, 4.0, 0.0, 5.0, 7.0, 3.0, 5.0, 1.0, 4.0, 9.0, 5.0, 5.0, 0.0, 2.0, 9.0, 5.0, 7.0, 10.0, 1.0, 1.0, 3.0, 9.0, 4.0, 3.0, 8.0, 4.0, 4.0, 1.0, 3.0, 8.0, 10.0, 0.0, 4.0, 2.0, 5.0, 3.0, 5.0, 2.0, 3.0, 1.0, 2.0, 1.0, 4.0, 8.0, 3.0, 4.0, 2.0, 0.0, 1.0, 1.0, 8.0, 7.0, 5.0, 0.0, 2.0, 11.0, 4.0, 2.0, 9.0, 5.0, 2.0, 7.0, 3.0, 6.0, 2.0, 4.0, 1.0, 3.0, 9.0, 1.0, 8.0, 11.0, 0.0, 1.0, 0.0, 0.0, 8.0, 2.0, 0.0, 5.0, 1.0, 11.0, 0.0, 2.0, 1.0, 7.0, 3.0, 8.0, 9.0, 2.0, 0.0, 8.0, 3.0, 2.0, 0.0, 0.0, 0.0, 1.0, 5.0, 2.0, 3.0, 3.0, 0.0, 3.0, 8.0, 1.0, 1.0, 4.0, 7.0, 8.0, 2.0, 0.0, 2.0, 4.0, 2.0, 2.0, 4.0, 8.0, 5.0, 3.0, 2.0, 3.0, 6.0, 7.0, 2.0, 10.0, 3.0, 0.0, 0.0, 2.0, 11.0, 0.0, 0.0, 3.0, 3.0, 3.0, 4.0, 3.0, 4.0, 3.0, 11.0, 9.0, 11.0, 2.0, 7.0, 10.0, 10.0, 6.0, 2.0, 5.0, 6.0, 0.0, 4.0, 1.0, 10.0, 1.0, 8.0, 10.0, 7.0, 2.0, 0.0, 5.0, 10.0, 7.0, 7.0, 1.0, 3.0, 3.0, 4.0, 8.0, 9.0, 0.0, 11.0, 6.0, 2.0, 2.0, 4.0, 11.0, 2.0, 4.0, 4.0, 0.0, 6.0, 1.0, 4.0, 1.0, 0.0, 9.0, 1.0, 9.0, 7.0, 0.0, 9.0, 3.0, 0.0, 4.0, 8.0, 2.0, 8.0, 5.0, 8.0, 0.0, 3.0, 2.0, 0.0, 3.0, 1.0, 5.0, 8.0, 7.0, 3.0, 6.0, 8.0, 3.0, 0.0, 2.0, 8.0, 5.0, 10.0, 9.0, 10.0, 0.0, 7.0, 2.0, 4.0, 10.0, 7.0, 2.0, 4.0, 2.0, 10.0, 5.0, 1.0, 10.0, 7.0, 6.0], \"xaxis\": \"x\", \"yaxis\": \"y\"}],                        {\"barmode\": \"relative\", \"height\": 600, \"legend\": {\"bgcolor\": \"white\", \"title\": {\"font\": {\"size\": 12}}, \"tracegroupgap\": 0, \"x\": 1.15, \"xanchor\": \"right\", \"y\": 0.9, \"yanchor\": \"top\"}, \"paper_bgcolor\": \"rgb(0,0,0,0)\", \"plot_bgcolor\": \"rgb(0,0,0,0)\", \"template\": {\"data\": {\"bar\": [{\"error_x\": {\"color\": \"#2a3f5f\"}, \"error_y\": {\"color\": \"#2a3f5f\"}, \"marker\": {\"line\": {\"color\": \"#E5ECF6\", \"width\": 0.5}}, \"type\": \"bar\"}], \"barpolar\": [{\"marker\": {\"line\": {\"color\": \"#E5ECF6\", \"width\": 0.5}}, \"type\": \"barpolar\"}], \"carpet\": [{\"aaxis\": {\"endlinecolor\": \"#2a3f5f\", \"gridcolor\": \"white\", \"linecolor\": \"white\", \"minorgridcolor\": \"white\", \"startlinecolor\": \"#2a3f5f\"}, \"baxis\": {\"endlinecolor\": \"#2a3f5f\", \"gridcolor\": \"white\", \"linecolor\": \"white\", \"minorgridcolor\": \"white\", \"startlinecolor\": \"#2a3f5f\"}, \"type\": \"carpet\"}], \"choropleth\": [{\"colorbar\": {\"outlinewidth\": 0, \"ticks\": \"\"}, \"type\": \"choropleth\"}], \"contour\": [{\"colorbar\": {\"outlinewidth\": 0, \"ticks\": \"\"}, \"colorscale\": [[0.0, \"#0d0887\"], [0.1111111111111111, \"#46039f\"], [0.2222222222222222, \"#7201a8\"], [0.3333333333333333, \"#9c179e\"], [0.4444444444444444, \"#bd3786\"], [0.5555555555555556, \"#d8576b\"], [0.6666666666666666, \"#ed7953\"], [0.7777777777777778, \"#fb9f3a\"], [0.8888888888888888, \"#fdca26\"], [1.0, \"#f0f921\"]], \"type\": \"contour\"}], \"contourcarpet\": [{\"colorbar\": {\"outlinewidth\": 0, \"ticks\": \"\"}, \"type\": \"contourcarpet\"}], \"heatmap\": [{\"colorbar\": {\"outlinewidth\": 0, \"ticks\": \"\"}, \"colorscale\": [[0.0, \"#0d0887\"], [0.1111111111111111, \"#46039f\"], [0.2222222222222222, \"#7201a8\"], [0.3333333333333333, \"#9c179e\"], [0.4444444444444444, \"#bd3786\"], [0.5555555555555556, \"#d8576b\"], [0.6666666666666666, \"#ed7953\"], [0.7777777777777778, \"#fb9f3a\"], [0.8888888888888888, \"#fdca26\"], [1.0, \"#f0f921\"]], \"type\": \"heatmap\"}], \"heatmapgl\": [{\"colorbar\": {\"outlinewidth\": 0, \"ticks\": \"\"}, \"colorscale\": [[0.0, \"#0d0887\"], [0.1111111111111111, \"#46039f\"], [0.2222222222222222, \"#7201a8\"], [0.3333333333333333, \"#9c179e\"], [0.4444444444444444, \"#bd3786\"], [0.5555555555555556, \"#d8576b\"], [0.6666666666666666, \"#ed7953\"], [0.7777777777777778, \"#fb9f3a\"], [0.8888888888888888, \"#fdca26\"], [1.0, \"#f0f921\"]], \"type\": \"heatmapgl\"}], \"histogram\": [{\"marker\": {\"colorbar\": {\"outlinewidth\": 0, \"ticks\": \"\"}}, \"type\": \"histogram\"}], \"histogram2d\": [{\"colorbar\": {\"outlinewidth\": 0, \"ticks\": \"\"}, \"colorscale\": [[0.0, \"#0d0887\"], [0.1111111111111111, \"#46039f\"], [0.2222222222222222, \"#7201a8\"], [0.3333333333333333, \"#9c179e\"], [0.4444444444444444, \"#bd3786\"], [0.5555555555555556, \"#d8576b\"], [0.6666666666666666, \"#ed7953\"], [0.7777777777777778, \"#fb9f3a\"], [0.8888888888888888, \"#fdca26\"], [1.0, \"#f0f921\"]], \"type\": \"histogram2d\"}], \"histogram2dcontour\": [{\"colorbar\": {\"outlinewidth\": 0, \"ticks\": \"\"}, \"colorscale\": [[0.0, \"#0d0887\"], [0.1111111111111111, \"#46039f\"], [0.2222222222222222, \"#7201a8\"], [0.3333333333333333, \"#9c179e\"], [0.4444444444444444, \"#bd3786\"], [0.5555555555555556, \"#d8576b\"], [0.6666666666666666, \"#ed7953\"], [0.7777777777777778, \"#fb9f3a\"], [0.8888888888888888, \"#fdca26\"], [1.0, \"#f0f921\"]], \"type\": \"histogram2dcontour\"}], \"mesh3d\": [{\"colorbar\": {\"outlinewidth\": 0, \"ticks\": \"\"}, \"type\": \"mesh3d\"}], \"parcoords\": [{\"line\": {\"colorbar\": {\"outlinewidth\": 0, \"ticks\": \"\"}}, \"type\": \"parcoords\"}], \"pie\": [{\"automargin\": true, \"type\": \"pie\"}], \"scatter\": [{\"marker\": {\"colorbar\": {\"outlinewidth\": 0, \"ticks\": \"\"}}, \"type\": \"scatter\"}], \"scatter3d\": [{\"line\": {\"colorbar\": {\"outlinewidth\": 0, \"ticks\": \"\"}}, \"marker\": {\"colorbar\": {\"outlinewidth\": 0, \"ticks\": \"\"}}, \"type\": \"scatter3d\"}], \"scattercarpet\": [{\"marker\": {\"colorbar\": {\"outlinewidth\": 0, \"ticks\": \"\"}}, \"type\": \"scattercarpet\"}], \"scattergeo\": [{\"marker\": {\"colorbar\": {\"outlinewidth\": 0, \"ticks\": \"\"}}, \"type\": \"scattergeo\"}], \"scattergl\": [{\"marker\": {\"colorbar\": {\"outlinewidth\": 0, \"ticks\": \"\"}}, \"type\": \"scattergl\"}], \"scattermapbox\": [{\"marker\": {\"colorbar\": {\"outlinewidth\": 0, \"ticks\": \"\"}}, \"type\": \"scattermapbox\"}], \"scatterpolar\": [{\"marker\": {\"colorbar\": {\"outlinewidth\": 0, \"ticks\": \"\"}}, \"type\": \"scatterpolar\"}], \"scatterpolargl\": [{\"marker\": {\"colorbar\": {\"outlinewidth\": 0, \"ticks\": \"\"}}, \"type\": \"scatterpolargl\"}], \"scatterternary\": [{\"marker\": {\"colorbar\": {\"outlinewidth\": 0, \"ticks\": \"\"}}, \"type\": \"scatterternary\"}], \"surface\": [{\"colorbar\": {\"outlinewidth\": 0, \"ticks\": \"\"}, \"colorscale\": [[0.0, \"#0d0887\"], [0.1111111111111111, \"#46039f\"], [0.2222222222222222, \"#7201a8\"], [0.3333333333333333, \"#9c179e\"], [0.4444444444444444, \"#bd3786\"], [0.5555555555555556, \"#d8576b\"], [0.6666666666666666, \"#ed7953\"], [0.7777777777777778, \"#fb9f3a\"], [0.8888888888888888, \"#fdca26\"], [1.0, \"#f0f921\"]], \"type\": \"surface\"}], \"table\": [{\"cells\": {\"fill\": {\"color\": \"#EBF0F8\"}, \"line\": {\"color\": \"white\"}}, \"header\": {\"fill\": {\"color\": \"#C8D4E3\"}, \"line\": {\"color\": \"white\"}}, \"type\": \"table\"}]}, \"layout\": {\"annotationdefaults\": {\"arrowcolor\": \"#2a3f5f\", \"arrowhead\": 0, \"arrowwidth\": 1}, \"autotypenumbers\": \"strict\", \"coloraxis\": {\"colorbar\": {\"outlinewidth\": 0, \"ticks\": \"\"}}, \"colorscale\": {\"diverging\": [[0, \"#8e0152\"], [0.1, \"#c51b7d\"], [0.2, \"#de77ae\"], [0.3, \"#f1b6da\"], [0.4, \"#fde0ef\"], [0.5, \"#f7f7f7\"], [0.6, \"#e6f5d0\"], [0.7, \"#b8e186\"], [0.8, \"#7fbc41\"], [0.9, \"#4d9221\"], [1, \"#276419\"]], \"sequential\": [[0.0, \"#0d0887\"], [0.1111111111111111, \"#46039f\"], [0.2222222222222222, \"#7201a8\"], [0.3333333333333333, \"#9c179e\"], [0.4444444444444444, \"#bd3786\"], [0.5555555555555556, \"#d8576b\"], [0.6666666666666666, \"#ed7953\"], [0.7777777777777778, \"#fb9f3a\"], [0.8888888888888888, \"#fdca26\"], [1.0, \"#f0f921\"]], \"sequentialminus\": [[0.0, \"#0d0887\"], [0.1111111111111111, \"#46039f\"], [0.2222222222222222, \"#7201a8\"], [0.3333333333333333, \"#9c179e\"], [0.4444444444444444, \"#bd3786\"], [0.5555555555555556, \"#d8576b\"], [0.6666666666666666, \"#ed7953\"], [0.7777777777777778, \"#fb9f3a\"], [0.8888888888888888, \"#fdca26\"], [1.0, \"#f0f921\"]]}, \"colorway\": [\"#636efa\", \"#EF553B\", \"#00cc96\", \"#ab63fa\", \"#FFA15A\", \"#19d3f3\", \"#FF6692\", \"#B6E880\", \"#FF97FF\", \"#FECB52\"], \"font\": {\"color\": \"#2a3f5f\"}, \"geo\": {\"bgcolor\": \"white\", \"lakecolor\": \"white\", \"landcolor\": \"#E5ECF6\", \"showlakes\": true, \"showland\": true, \"subunitcolor\": \"white\"}, \"hoverlabel\": {\"align\": \"left\"}, \"hovermode\": \"closest\", \"mapbox\": {\"style\": \"light\"}, \"paper_bgcolor\": \"white\", \"plot_bgcolor\": \"#E5ECF6\", \"polar\": {\"angularaxis\": {\"gridcolor\": \"white\", \"linecolor\": \"white\", \"ticks\": \"\"}, \"bgcolor\": \"#E5ECF6\", \"radialaxis\": {\"gridcolor\": \"white\", \"linecolor\": \"white\", \"ticks\": \"\"}}, \"scene\": {\"xaxis\": {\"backgroundcolor\": \"#E5ECF6\", \"gridcolor\": \"white\", \"gridwidth\": 2, \"linecolor\": \"white\", \"showbackground\": true, \"ticks\": \"\", \"zerolinecolor\": \"white\"}, \"yaxis\": {\"backgroundcolor\": \"#E5ECF6\", \"gridcolor\": \"white\", \"gridwidth\": 2, \"linecolor\": \"white\", \"showbackground\": true, \"ticks\": \"\", \"zerolinecolor\": \"white\"}, \"zaxis\": {\"backgroundcolor\": \"#E5ECF6\", \"gridcolor\": \"white\", \"gridwidth\": 2, \"linecolor\": \"white\", \"showbackground\": true, \"ticks\": \"\", \"zerolinecolor\": \"white\"}}, \"shapedefaults\": {\"line\": {\"color\": \"#2a3f5f\"}}, \"ternary\": {\"aaxis\": {\"gridcolor\": \"white\", \"linecolor\": \"white\", \"ticks\": \"\"}, \"baxis\": {\"gridcolor\": \"white\", \"linecolor\": \"white\", \"ticks\": \"\"}, \"bgcolor\": \"#E5ECF6\", \"caxis\": {\"gridcolor\": \"white\", \"linecolor\": \"white\", \"ticks\": \"\"}}, \"title\": {\"x\": 0.05}, \"xaxis\": {\"automargin\": true, \"gridcolor\": \"white\", \"linecolor\": \"white\", \"ticks\": \"\", \"title\": {\"standoff\": 15}, \"zerolinecolor\": \"white\", \"zerolinewidth\": 2}, \"yaxis\": {\"automargin\": true, \"gridcolor\": \"white\", \"linecolor\": \"white\", \"ticks\": \"\", \"title\": {\"standoff\": 15}, \"zerolinecolor\": \"white\", \"zerolinewidth\": 2}}}, \"title\": {\"text\": \"Distribution of Turrets Lost\", \"x\": 0.5}, \"width\": 800, \"xaxis\": {\"anchor\": \"y\", \"domain\": [0.0, 1.0], \"title\": {\"text\": \"Turrets Lost\"}}, \"yaxis\": {\"anchor\": \"x\", \"domain\": [0.0, 1.0], \"ticksuffix\": \"\", \"title\": {\"text\": \"# of Games\"}, \"visible\": true}},                        {\"responsive\": true}                    ).then(function(){\n                            \nvar gd = document.getElementById('5590e7f4-af3c-4a04-8633-0007c35a9b6c');\nvar x = new MutationObserver(function (mutations, observer) {{\n        var display = window.getComputedStyle(gd).display;\n        if (!display || display === 'none') {{\n            console.log([gd, 'removed!']);\n            Plotly.purge(gd);\n            observer.disconnect();\n        }}\n}});\n\n// Listen for the removal of the full notebook cells\nvar notebookContainer = gd.closest('#notebook-container');\nif (notebookContainer) {{\n    x.observe(notebookContainer, {childList: true});\n}}\n\n// Listen for the clearing of the current output cell\nvar outputEl = gd.closest('.output');\nif (outputEl) {{\n    x.observe(outputEl, {childList: true});\n}}\n\n                        })                };                });            </script>        </div>"
     },
     "metadata": {}
    }
   ],
   "source": [
    "# highest correlated variable - turretsLost\n",
    "\n",
    "fig = px.histogram(match_data_total_deduped, x = 'turretsLost', nbins = 20,\n",
    "                  labels = {'turretsLost': 'Turrets Lost'}, title = 'Distribution of Turrets Lost')\n",
    "fig.update_layout(\n",
    "    plot_bgcolor = 'rgb(0,0,0,0)',\n",
    "    paper_bgcolor = 'rgb(0,0,0,0)',\n",
    "    yaxis_title_text = '# of Games',\n",
    "    width = 800,\n",
    "    height = 600,\n",
    "    title_x = 0.5,\n",
    "    legend = dict(bgcolor = 'white', yanchor = 'top', y = 0.9, xanchor = 'right', x = 1.15),\n",
    "    legend_title = dict(font = dict(size = 12))\n",
    "    )\n",
    "fig.update_yaxes(ticksuffix = '', visible = True)\n",
    "\n",
    "fig.show(renderer = 'notebook_connected')"
   ]
  },
  {
   "cell_type": "code",
   "execution_count": 52,
   "metadata": {},
   "outputs": [],
   "source": [
    "average_kda = match_data_total_deduped.loc[:, ['championName', 'kills', 'deaths', 'assists', 'matchId']].groupby('championName').agg({\n",
    "    'kills': 'mean', 'deaths': 'mean', 'assists': 'mean', 'matchId': 'count'\n",
    "})\n",
    "average_kda.rename(columns = {'matchId': 'game_count'}, inplace = True)\n",
    "average_kda_df = average_kda.reset_index()\n",
    "average_kda_df_top_10_gamecount = average_kda_df.sort_values(by = 'game_count', ascending = False).iloc[:10, :]\n",
    "\n",
    "average_kda_df_top_10_gamecount_cleaned = average_kda_df_top_10_gamecount.rename(\n",
    "    columns = {'championName': 'Champion', 'kills': 'Average Kills', 'deaths': 'Average Deaths', 'assists': 'Average Assists', 'game_count': '# of Games'}\n",
    ")\n",
    "average_kda_df_top_10_gamecount_cleaned['Average Kills'] = round(average_kda_df_top_10_gamecount_cleaned['Average Kills'], 1)\n",
    "average_kda_df_top_10_gamecount_cleaned['Average Deaths'] = round(average_kda_df_top_10_gamecount_cleaned['Average Deaths'], 1)\n",
    "average_kda_df_top_10_gamecount_cleaned['Average Assists'] = round(average_kda_df_top_10_gamecount_cleaned['Average Assists'], 1)\n",
    "\n",
    "average_kda_df_top_10_nogamecount =  average_kda_df_top_10_gamecount_cleaned.drop(columns = '# of Games')\n",
    "average_kda_df_long = pd.melt(average_kda_df_top_10_nogamecount, id_vars = ['Champion'], var_name = 'stat_type', value_name = 'stat_count')"
   ]
  },
  {
   "cell_type": "code",
   "execution_count": 53,
   "metadata": {},
   "outputs": [
    {
     "output_type": "display_data",
     "data": {
      "text/html": "        <script type=\"text/javascript\">\n        window.PlotlyConfig = {MathJaxConfig: 'local'};\n        if (window.MathJax) {MathJax.Hub.Config({SVG: {font: \"STIX-Web\"}});}\n        if (typeof require !== 'undefined') {\n        require.undef(\"plotly\");\n        requirejs.config({\n            paths: {\n                'plotly': ['https://cdn.plot.ly/plotly-latest.min']\n            }\n        });\n        require(['plotly'], function(Plotly) {\n            window._Plotly = Plotly;\n        });\n        }\n        </script>\n        "
     },
     "metadata": {}
    },
    {
     "output_type": "display_data",
     "data": {
      "text/html": "<div>                            <div id=\"b2213742-98a2-4678-aced-651e9303c98b\" class=\"plotly-graph-div\" style=\"height:600px; width:950px;\"></div>            <script type=\"text/javascript\">                require([\"plotly\"], function(Plotly) {                    window.PLOTLYENV=window.PLOTLYENV || {};                                    if (document.getElementById(\"b2213742-98a2-4678-aced-651e9303c98b\")) {                    Plotly.newPlot(                        \"b2213742-98a2-4678-aced-651e9303c98b\",                        [{\"alignmentgroup\": \"True\", \"hovertemplate\": \"Stat Type=Average Kills<br>Champion=%{x}<br>=%{text}<extra></extra>\", \"insidetextanchor\": \"end\", \"legendgroup\": \"Average Kills\", \"marker\": {\"color\": \"#636efa\"}, \"name\": \"Average Kills\", \"offsetgroup\": \"Average Kills\", \"orientation\": \"v\", \"showlegend\": true, \"text\": [6.3, 4.1, 5.6, 1.3, 1.6, 2.1, 6.5, 5.7, 6.5, 4.9], \"textfont\": {\"color\": \"#000000\"}, \"textposition\": \"inside\", \"texttemplate\": \"%{text}\", \"type\": \"bar\", \"x\": [\"LeeSin\", \"Sett\", \"Ezreal\", \"Thresh\", \"Nautilus\", \"Karma\", \"Kaisa\", \"Sylas\", \"Tristana\", \"Jayce\"], \"xaxis\": \"x\", \"y\": [6.3, 4.1, 5.6, 1.3, 1.6, 2.1, 6.5, 5.7, 6.5, 4.9], \"yaxis\": \"y\"}, {\"alignmentgroup\": \"True\", \"hovertemplate\": \"Stat Type=Average Deaths<br>Champion=%{x}<br>=%{text}<extra></extra>\", \"insidetextanchor\": \"end\", \"legendgroup\": \"Average Deaths\", \"marker\": {\"color\": \"#EF553B\"}, \"name\": \"Average Deaths\", \"offsetgroup\": \"Average Deaths\", \"orientation\": \"v\", \"showlegend\": true, \"text\": [4.2, 5.5, 4.1, 4.1, 4.7, 4.1, 4.2, 4.7, 3.9, 5.1], \"textfont\": {\"color\": \"#000000\"}, \"textposition\": \"inside\", \"texttemplate\": \"%{text}\", \"type\": \"bar\", \"x\": [\"LeeSin\", \"Sett\", \"Ezreal\", \"Thresh\", \"Nautilus\", \"Karma\", \"Kaisa\", \"Sylas\", \"Tristana\", \"Jayce\"], \"xaxis\": \"x\", \"y\": [4.2, 5.5, 4.1, 4.1, 4.7, 4.1, 4.2, 4.7, 3.9, 5.1], \"yaxis\": \"y\"}, {\"alignmentgroup\": \"True\", \"hovertemplate\": \"Stat Type=Average Assists<br>Champion=%{x}<br>=%{text}<extra></extra>\", \"insidetextanchor\": \"end\", \"legendgroup\": \"Average Assists\", \"marker\": {\"color\": \"#00cc96\"}, \"name\": \"Average Assists\", \"offsetgroup\": \"Average Assists\", \"orientation\": \"v\", \"showlegend\": true, \"text\": [6.7, 7.6, 6.4, 12.8, 11.4, 11.5, 5.7, 6.1, 5.3, 5.7], \"textfont\": {\"color\": \"#000000\"}, \"textposition\": \"inside\", \"texttemplate\": \"%{text}\", \"type\": \"bar\", \"x\": [\"LeeSin\", \"Sett\", \"Ezreal\", \"Thresh\", \"Nautilus\", \"Karma\", \"Kaisa\", \"Sylas\", \"Tristana\", \"Jayce\"], \"xaxis\": \"x\", \"y\": [6.7, 7.6, 6.4, 12.8, 11.4, 11.5, 5.7, 6.1, 5.3, 5.7], \"yaxis\": \"y\"}],                        {\"barmode\": \"group\", \"height\": 600, \"legend\": {\"bgcolor\": \"white\", \"bordercolor\": \"Black\", \"borderwidth\": 1, \"title\": {\"font\": {\"size\": 11}, \"text\": \"Stat Type\"}, \"tracegroupgap\": 0, \"x\": 0.0, \"y\": 1.2}, \"paper_bgcolor\": \"rgb(0,0,0,0)\", \"plot_bgcolor\": \"rgb(0,0,0,0)\", \"template\": {\"data\": {\"bar\": [{\"error_x\": {\"color\": \"#2a3f5f\"}, \"error_y\": {\"color\": \"#2a3f5f\"}, \"marker\": {\"line\": {\"color\": \"#E5ECF6\", \"width\": 0.5}}, \"type\": \"bar\"}], \"barpolar\": [{\"marker\": {\"line\": {\"color\": \"#E5ECF6\", \"width\": 0.5}}, \"type\": \"barpolar\"}], \"carpet\": [{\"aaxis\": {\"endlinecolor\": \"#2a3f5f\", \"gridcolor\": \"white\", \"linecolor\": \"white\", \"minorgridcolor\": \"white\", \"startlinecolor\": \"#2a3f5f\"}, \"baxis\": {\"endlinecolor\": \"#2a3f5f\", \"gridcolor\": \"white\", \"linecolor\": \"white\", \"minorgridcolor\": \"white\", \"startlinecolor\": \"#2a3f5f\"}, \"type\": \"carpet\"}], \"choropleth\": [{\"colorbar\": {\"outlinewidth\": 0, \"ticks\": \"\"}, \"type\": \"choropleth\"}], \"contour\": [{\"colorbar\": {\"outlinewidth\": 0, \"ticks\": \"\"}, \"colorscale\": [[0.0, \"#0d0887\"], [0.1111111111111111, \"#46039f\"], [0.2222222222222222, \"#7201a8\"], [0.3333333333333333, \"#9c179e\"], [0.4444444444444444, \"#bd3786\"], [0.5555555555555556, \"#d8576b\"], [0.6666666666666666, \"#ed7953\"], [0.7777777777777778, \"#fb9f3a\"], [0.8888888888888888, \"#fdca26\"], [1.0, \"#f0f921\"]], \"type\": \"contour\"}], \"contourcarpet\": [{\"colorbar\": {\"outlinewidth\": 0, \"ticks\": \"\"}, \"type\": \"contourcarpet\"}], \"heatmap\": [{\"colorbar\": {\"outlinewidth\": 0, \"ticks\": \"\"}, \"colorscale\": [[0.0, \"#0d0887\"], [0.1111111111111111, \"#46039f\"], [0.2222222222222222, \"#7201a8\"], [0.3333333333333333, \"#9c179e\"], [0.4444444444444444, \"#bd3786\"], [0.5555555555555556, \"#d8576b\"], [0.6666666666666666, \"#ed7953\"], [0.7777777777777778, \"#fb9f3a\"], [0.8888888888888888, \"#fdca26\"], [1.0, \"#f0f921\"]], \"type\": \"heatmap\"}], \"heatmapgl\": [{\"colorbar\": {\"outlinewidth\": 0, \"ticks\": \"\"}, \"colorscale\": [[0.0, \"#0d0887\"], [0.1111111111111111, \"#46039f\"], [0.2222222222222222, \"#7201a8\"], [0.3333333333333333, \"#9c179e\"], [0.4444444444444444, \"#bd3786\"], [0.5555555555555556, \"#d8576b\"], [0.6666666666666666, \"#ed7953\"], [0.7777777777777778, \"#fb9f3a\"], [0.8888888888888888, \"#fdca26\"], [1.0, \"#f0f921\"]], \"type\": \"heatmapgl\"}], \"histogram\": [{\"marker\": {\"colorbar\": {\"outlinewidth\": 0, \"ticks\": \"\"}}, \"type\": \"histogram\"}], \"histogram2d\": [{\"colorbar\": {\"outlinewidth\": 0, \"ticks\": \"\"}, \"colorscale\": [[0.0, \"#0d0887\"], [0.1111111111111111, \"#46039f\"], [0.2222222222222222, \"#7201a8\"], [0.3333333333333333, \"#9c179e\"], [0.4444444444444444, \"#bd3786\"], [0.5555555555555556, \"#d8576b\"], [0.6666666666666666, \"#ed7953\"], [0.7777777777777778, \"#fb9f3a\"], [0.8888888888888888, \"#fdca26\"], [1.0, \"#f0f921\"]], \"type\": \"histogram2d\"}], \"histogram2dcontour\": [{\"colorbar\": {\"outlinewidth\": 0, \"ticks\": \"\"}, \"colorscale\": [[0.0, \"#0d0887\"], [0.1111111111111111, \"#46039f\"], [0.2222222222222222, \"#7201a8\"], [0.3333333333333333, \"#9c179e\"], [0.4444444444444444, \"#bd3786\"], [0.5555555555555556, \"#d8576b\"], [0.6666666666666666, \"#ed7953\"], [0.7777777777777778, \"#fb9f3a\"], [0.8888888888888888, \"#fdca26\"], [1.0, \"#f0f921\"]], \"type\": \"histogram2dcontour\"}], \"mesh3d\": [{\"colorbar\": {\"outlinewidth\": 0, \"ticks\": \"\"}, \"type\": \"mesh3d\"}], \"parcoords\": [{\"line\": {\"colorbar\": {\"outlinewidth\": 0, \"ticks\": \"\"}}, \"type\": \"parcoords\"}], \"pie\": [{\"automargin\": true, \"type\": \"pie\"}], \"scatter\": [{\"marker\": {\"colorbar\": {\"outlinewidth\": 0, \"ticks\": \"\"}}, \"type\": \"scatter\"}], \"scatter3d\": [{\"line\": {\"colorbar\": {\"outlinewidth\": 0, \"ticks\": \"\"}}, \"marker\": {\"colorbar\": {\"outlinewidth\": 0, \"ticks\": \"\"}}, \"type\": \"scatter3d\"}], \"scattercarpet\": [{\"marker\": {\"colorbar\": {\"outlinewidth\": 0, \"ticks\": \"\"}}, \"type\": \"scattercarpet\"}], \"scattergeo\": [{\"marker\": {\"colorbar\": {\"outlinewidth\": 0, \"ticks\": \"\"}}, \"type\": \"scattergeo\"}], \"scattergl\": [{\"marker\": {\"colorbar\": {\"outlinewidth\": 0, \"ticks\": \"\"}}, \"type\": \"scattergl\"}], \"scattermapbox\": [{\"marker\": {\"colorbar\": {\"outlinewidth\": 0, \"ticks\": \"\"}}, \"type\": \"scattermapbox\"}], \"scatterpolar\": [{\"marker\": {\"colorbar\": {\"outlinewidth\": 0, \"ticks\": \"\"}}, \"type\": \"scatterpolar\"}], \"scatterpolargl\": [{\"marker\": {\"colorbar\": {\"outlinewidth\": 0, \"ticks\": \"\"}}, \"type\": \"scatterpolargl\"}], \"scatterternary\": [{\"marker\": {\"colorbar\": {\"outlinewidth\": 0, \"ticks\": \"\"}}, \"type\": \"scatterternary\"}], \"surface\": [{\"colorbar\": {\"outlinewidth\": 0, \"ticks\": \"\"}, \"colorscale\": [[0.0, \"#0d0887\"], [0.1111111111111111, \"#46039f\"], [0.2222222222222222, \"#7201a8\"], [0.3333333333333333, \"#9c179e\"], [0.4444444444444444, \"#bd3786\"], [0.5555555555555556, \"#d8576b\"], [0.6666666666666666, \"#ed7953\"], [0.7777777777777778, \"#fb9f3a\"], [0.8888888888888888, \"#fdca26\"], [1.0, \"#f0f921\"]], \"type\": \"surface\"}], \"table\": [{\"cells\": {\"fill\": {\"color\": \"#EBF0F8\"}, \"line\": {\"color\": \"white\"}}, \"header\": {\"fill\": {\"color\": \"#C8D4E3\"}, \"line\": {\"color\": \"white\"}}, \"type\": \"table\"}]}, \"layout\": {\"annotationdefaults\": {\"arrowcolor\": \"#2a3f5f\", \"arrowhead\": 0, \"arrowwidth\": 1}, \"autotypenumbers\": \"strict\", \"coloraxis\": {\"colorbar\": {\"outlinewidth\": 0, \"ticks\": \"\"}}, \"colorscale\": {\"diverging\": [[0, \"#8e0152\"], [0.1, \"#c51b7d\"], [0.2, \"#de77ae\"], [0.3, \"#f1b6da\"], [0.4, \"#fde0ef\"], [0.5, \"#f7f7f7\"], [0.6, \"#e6f5d0\"], [0.7, \"#b8e186\"], [0.8, \"#7fbc41\"], [0.9, \"#4d9221\"], [1, \"#276419\"]], \"sequential\": [[0.0, \"#0d0887\"], [0.1111111111111111, \"#46039f\"], [0.2222222222222222, \"#7201a8\"], [0.3333333333333333, \"#9c179e\"], [0.4444444444444444, \"#bd3786\"], [0.5555555555555556, \"#d8576b\"], [0.6666666666666666, \"#ed7953\"], [0.7777777777777778, \"#fb9f3a\"], [0.8888888888888888, \"#fdca26\"], [1.0, \"#f0f921\"]], \"sequentialminus\": [[0.0, \"#0d0887\"], [0.1111111111111111, \"#46039f\"], [0.2222222222222222, \"#7201a8\"], [0.3333333333333333, \"#9c179e\"], [0.4444444444444444, \"#bd3786\"], [0.5555555555555556, \"#d8576b\"], [0.6666666666666666, \"#ed7953\"], [0.7777777777777778, \"#fb9f3a\"], [0.8888888888888888, \"#fdca26\"], [1.0, \"#f0f921\"]]}, \"colorway\": [\"#636efa\", \"#EF553B\", \"#00cc96\", \"#ab63fa\", \"#FFA15A\", \"#19d3f3\", \"#FF6692\", \"#B6E880\", \"#FF97FF\", \"#FECB52\"], \"font\": {\"color\": \"#2a3f5f\"}, \"geo\": {\"bgcolor\": \"white\", \"lakecolor\": \"white\", \"landcolor\": \"#E5ECF6\", \"showlakes\": true, \"showland\": true, \"subunitcolor\": \"white\"}, \"hoverlabel\": {\"align\": \"left\"}, \"hovermode\": \"closest\", \"mapbox\": {\"style\": \"light\"}, \"paper_bgcolor\": \"white\", \"plot_bgcolor\": \"#E5ECF6\", \"polar\": {\"angularaxis\": {\"gridcolor\": \"white\", \"linecolor\": \"white\", \"ticks\": \"\"}, \"bgcolor\": \"#E5ECF6\", \"radialaxis\": {\"gridcolor\": \"white\", \"linecolor\": \"white\", \"ticks\": \"\"}}, \"scene\": {\"xaxis\": {\"backgroundcolor\": \"#E5ECF6\", \"gridcolor\": \"white\", \"gridwidth\": 2, \"linecolor\": \"white\", \"showbackground\": true, \"ticks\": \"\", \"zerolinecolor\": \"white\"}, \"yaxis\": {\"backgroundcolor\": \"#E5ECF6\", \"gridcolor\": \"white\", \"gridwidth\": 2, \"linecolor\": \"white\", \"showbackground\": true, \"ticks\": \"\", \"zerolinecolor\": \"white\"}, \"zaxis\": {\"backgroundcolor\": \"#E5ECF6\", \"gridcolor\": \"white\", \"gridwidth\": 2, \"linecolor\": \"white\", \"showbackground\": true, \"ticks\": \"\", \"zerolinecolor\": \"white\"}}, \"shapedefaults\": {\"line\": {\"color\": \"#2a3f5f\"}}, \"ternary\": {\"aaxis\": {\"gridcolor\": \"white\", \"linecolor\": \"white\", \"ticks\": \"\"}, \"baxis\": {\"gridcolor\": \"white\", \"linecolor\": \"white\", \"ticks\": \"\"}, \"bgcolor\": \"#E5ECF6\", \"caxis\": {\"gridcolor\": \"white\", \"linecolor\": \"white\", \"ticks\": \"\"}}, \"title\": {\"x\": 0.05}, \"xaxis\": {\"automargin\": true, \"gridcolor\": \"white\", \"linecolor\": \"white\", \"ticks\": \"\", \"title\": {\"standoff\": 15}, \"zerolinecolor\": \"white\", \"zerolinewidth\": 2}, \"yaxis\": {\"automargin\": true, \"gridcolor\": \"white\", \"linecolor\": \"white\", \"ticks\": \"\", \"title\": {\"standoff\": 15}, \"zerolinecolor\": \"white\", \"zerolinewidth\": 2}}}, \"title\": {\"text\": \"KDA for Top 10 Played Champions\", \"x\": 0.5}, \"width\": 950, \"xaxis\": {\"anchor\": \"y\", \"categoryorder\": \"total ascending\", \"domain\": [0.0, 1.0], \"title\": {\"text\": \"Champion\"}}, \"yaxis\": {\"anchor\": \"x\", \"domain\": [0.0, 1.0], \"title\": {\"text\": \"\"}}},                        {\"responsive\": true}                    ).then(function(){\n                            \nvar gd = document.getElementById('b2213742-98a2-4678-aced-651e9303c98b');\nvar x = new MutationObserver(function (mutations, observer) {{\n        var display = window.getComputedStyle(gd).display;\n        if (!display || display === 'none') {{\n            console.log([gd, 'removed!']);\n            Plotly.purge(gd);\n            observer.disconnect();\n        }}\n}});\n\n// Listen for the removal of the full notebook cells\nvar notebookContainer = gd.closest('#notebook-container');\nif (notebookContainer) {{\n    x.observe(notebookContainer, {childList: true});\n}}\n\n// Listen for the clearing of the current output cell\nvar outputEl = gd.closest('.output');\nif (outputEl) {{\n    x.observe(outputEl, {childList: true});\n}}\n\n                        })                };                });            </script>        </div>"
     },
     "metadata": {}
    }
   ],
   "source": [
    "fig = px.bar(average_kda_df_long, x = 'Champion', y = 'stat_count', color = 'stat_type', barmode = 'group', text = 'stat_count',\n",
    "             labels = {'stat_count': '', 'stat_type': 'Stat Type'}, title = 'KDA for Top 10 Played Champions')\n",
    "\n",
    "fig.update_layout(\n",
    "    plot_bgcolor = 'rgb(0,0,0,0)',\n",
    "    paper_bgcolor = 'rgb(0,0,0,0)',\n",
    "    width = 950,\n",
    "    height = 600,\n",
    "    title_x = 0.5,\n",
    "    legend = dict(bgcolor = 'white', y = 1.2, x = 0.0, bordercolor = 'Black', borderwidth = 1),\n",
    "    legend_title = dict(font = dict(size = 11)),\n",
    ")\n",
    "fig.update_xaxes(categoryorder = 'total ascending')\n",
    "fig.update_traces(texttemplate = '%{text}', textposition = 'inside', insidetextanchor = 'end', \n",
    "                      textfont_color = '#000000')\n",
    "fig.show(renderer = 'notebook_connected')"
   ]
  },
  {
   "source": [
    "# Part 2C"
   ],
   "cell_type": "markdown",
   "metadata": {}
  },
  {
   "source": [
    "## Logistic Regression to Determine Win/Loss"
   ],
   "cell_type": "markdown",
   "metadata": {}
  },
  {
   "cell_type": "code",
   "execution_count": 54,
   "metadata": {},
   "outputs": [],
   "source": [
    "import matplotlib.pyplot as plt\n",
    "import seaborn as sns\n",
    "from sklearn import metrics\n",
    "from sklearn.linear_model import LogisticRegression\n",
    "from sklearn.model_selection import train_test_split"
   ]
  },
  {
   "cell_type": "code",
   "execution_count": 55,
   "metadata": {},
   "outputs": [
    {
     "output_type": "execute_result",
     "data": {
      "text/plain": [
       "win                        1.000000\n",
       "bountyLevel                0.461929\n",
       "assists                    0.373235\n",
       "turretKills                0.362904\n",
       "largestKillingSpree        0.356634\n",
       "damageDealtToBuildings     0.345849\n",
       "damageDealtToTurrets       0.345254\n",
       "kills                      0.307865\n",
       "damageDealtToObjectives    0.284228\n",
       "killingSprees              0.270374\n",
       "inhibitorKills             0.255280\n",
       "largestMultiKill           0.253910\n",
       "totalTimeSpentDead        -0.343363\n",
       "deaths                    -0.443197\n",
       "inhibitorsLost            -0.571607\n",
       "nexusLost                 -0.607605\n",
       "turretsLost               -0.714582\n",
       "Name: win, dtype: float64"
      ]
     },
     "metadata": {},
     "execution_count": 55
    }
   ],
   "source": [
    "strong_corr_cols = win_correlations.loc[(win_correlations >= 0.25) | (win_correlations <= -.25)]\n",
    "strong_corr_cols"
   ]
  },
  {
   "source": [
    "## Checking for Mulitcollinearity\n",
    "- running a correlation matrix to see if any of hte independent variables have a correlation greater than .80 or less than -.80"
   ],
   "cell_type": "markdown",
   "metadata": {}
  },
  {
   "cell_type": "code",
   "execution_count": 56,
   "metadata": {},
   "outputs": [
    {
     "output_type": "execute_result",
     "data": {
      "text/plain": [
       "                         bountyLevel   assists  turretKills  \\\n",
       "bountyLevel                 1.000000  0.030387     0.343059   \n",
       "assists                     0.030387  1.000000     0.081210   \n",
       "turretKills                 0.343059  0.081210     1.000000   \n",
       "largestKillingSpree         0.664497  0.027069     0.416001   \n",
       "damageDealtToBuildings      0.332917  0.049964     0.823537   \n",
       "damageDealtToTurrets        0.332292  0.050010     0.824520   \n",
       "kills                       0.508234  0.088397     0.440596   \n",
       "damageDealtToObjectives     0.331835  0.127766     0.459038   \n",
       "killingSprees               0.296690  0.086309     0.370994   \n",
       "inhibitorKills              0.208941  0.126782     0.392533   \n",
       "largestMultiKill            0.435765  0.037541     0.341544   \n",
       "totalTimeSpentDead         -0.326288  0.146986    -0.014665   \n",
       "deaths                     -0.390560  0.101129    -0.126724   \n",
       "inhibitorsLost             -0.258576 -0.038628    -0.167416   \n",
       "nexusLost                  -0.274982 -0.067860    -0.165411   \n",
       "turretsLost                -0.336182 -0.033105    -0.187334   \n",
       "\n",
       "                         largestKillingSpree  damageDealtToBuildings  \\\n",
       "bountyLevel                         0.664497                0.332917   \n",
       "assists                             0.027069                0.049964   \n",
       "turretKills                         0.416001                0.823537   \n",
       "largestKillingSpree                 1.000000                0.405693   \n",
       "damageDealtToBuildings              0.405693                1.000000   \n",
       "damageDealtToTurrets                0.405079                0.997767   \n",
       "kills                               0.837760                0.437269   \n",
       "damageDealtToObjectives             0.484396                0.394665   \n",
       "killingSprees                       0.614736                0.369127   \n",
       "inhibitorKills                      0.230083                0.403890   \n",
       "largestMultiKill                    0.660166                0.346316   \n",
       "totalTimeSpentDead                 -0.137000                0.006850   \n",
       "deaths                             -0.256308               -0.107440   \n",
       "inhibitorsLost                     -0.145601               -0.151510   \n",
       "nexusLost                          -0.143446               -0.158914   \n",
       "turretsLost                        -0.197381               -0.162551   \n",
       "\n",
       "                         damageDealtToTurrets     kills  \\\n",
       "bountyLevel                          0.332292  0.508234   \n",
       "assists                              0.050010  0.088397   \n",
       "turretKills                          0.824520  0.440596   \n",
       "largestKillingSpree                  0.405079  0.837760   \n",
       "damageDealtToBuildings               0.997767  0.437269   \n",
       "damageDealtToTurrets                 1.000000  0.436557   \n",
       "kills                                0.436557  1.000000   \n",
       "damageDealtToObjectives              0.395312  0.526528   \n",
       "killingSprees                        0.368719  0.829219   \n",
       "inhibitorKills                       0.404259  0.260619   \n",
       "largestMultiKill                     0.346515  0.715675   \n",
       "totalTimeSpentDead                   0.008017  0.147890   \n",
       "deaths                              -0.106804  0.006332   \n",
       "inhibitorsLost                      -0.152346 -0.065957   \n",
       "nexusLost                           -0.159663 -0.080221   \n",
       "turretsLost                         -0.164461 -0.077814   \n",
       "\n",
       "                         damageDealtToObjectives  killingSprees  \\\n",
       "bountyLevel                             0.331835       0.296690   \n",
       "assists                                 0.127766       0.086309   \n",
       "turretKills                             0.459038       0.370994   \n",
       "largestKillingSpree                     0.484396       0.614736   \n",
       "damageDealtToBuildings                  0.394665       0.369127   \n",
       "damageDealtToTurrets                    0.395312       0.368719   \n",
       "kills                                   0.526528       0.829219   \n",
       "damageDealtToObjectives                 1.000000       0.443386   \n",
       "killingSprees                           0.443386       1.000000   \n",
       "inhibitorKills                          0.262904       0.208092   \n",
       "largestMultiKill                        0.375000       0.589696   \n",
       "totalTimeSpentDead                      0.039557       0.164360   \n",
       "deaths                                 -0.089559       0.021401   \n",
       "inhibitorsLost                         -0.082178      -0.049300   \n",
       "nexusLost                              -0.097923      -0.064594   \n",
       "turretsLost                            -0.085333      -0.062175   \n",
       "\n",
       "                         inhibitorKills  largestMultiKill  totalTimeSpentDead  \\\n",
       "bountyLevel                    0.208941          0.435765           -0.326288   \n",
       "assists                        0.126782          0.037541            0.146986   \n",
       "turretKills                    0.392533          0.341544           -0.014665   \n",
       "largestKillingSpree            0.230083          0.660166           -0.137000   \n",
       "damageDealtToBuildings         0.403890          0.346316            0.006850   \n",
       "damageDealtToTurrets           0.404259          0.346515            0.008017   \n",
       "kills                          0.260619          0.715675            0.147890   \n",
       "damageDealtToObjectives        0.262904          0.375000            0.039557   \n",
       "killingSprees                  0.208092          0.589696            0.164360   \n",
       "inhibitorKills                 1.000000          0.184468            0.002039   \n",
       "largestMultiKill               0.184468          1.000000            0.062660   \n",
       "totalTimeSpentDead             0.002039          0.062660            1.000000   \n",
       "deaths                        -0.052819         -0.038176            0.909162   \n",
       "inhibitorsLost                -0.133114         -0.069749            0.437580   \n",
       "nexusLost                     -0.145225         -0.075262            0.395785   \n",
       "turretsLost                   -0.135875         -0.091449            0.565749   \n",
       "\n",
       "                           deaths  inhibitorsLost  nexusLost  turretsLost  \n",
       "bountyLevel             -0.390560       -0.258576  -0.274982    -0.336182  \n",
       "assists                  0.101129       -0.038628  -0.067860    -0.033105  \n",
       "turretKills             -0.126724       -0.167416  -0.165411    -0.187334  \n",
       "largestKillingSpree     -0.256308       -0.145601  -0.143446    -0.197381  \n",
       "damageDealtToBuildings  -0.107440       -0.151510  -0.158914    -0.162551  \n",
       "damageDealtToTurrets    -0.106804       -0.152346  -0.159663    -0.164461  \n",
       "kills                    0.006332       -0.065957  -0.080221    -0.077814  \n",
       "damageDealtToObjectives -0.089559       -0.082178  -0.097923    -0.085333  \n",
       "killingSprees            0.021401       -0.049300  -0.064594    -0.062175  \n",
       "inhibitorKills          -0.052819       -0.133114  -0.145225    -0.135875  \n",
       "largestMultiKill        -0.038176       -0.069749  -0.075262    -0.091449  \n",
       "totalTimeSpentDead       0.909162        0.437580   0.395785     0.565749  \n",
       "deaths                   1.000000        0.437276   0.393596     0.579993  \n",
       "inhibitorsLost           0.437276        1.000000   0.716334     0.819845  \n",
       "nexusLost                0.393596        0.716334   1.000000     0.750431  \n",
       "turretsLost              0.579993        0.819845   0.750431     1.000000  "
      ],
      "text/html": "<div>\n<style scoped>\n    .dataframe tbody tr th:only-of-type {\n        vertical-align: middle;\n    }\n\n    .dataframe tbody tr th {\n        vertical-align: top;\n    }\n\n    .dataframe thead th {\n        text-align: right;\n    }\n</style>\n<table border=\"1\" class=\"dataframe\">\n  <thead>\n    <tr style=\"text-align: right;\">\n      <th></th>\n      <th>bountyLevel</th>\n      <th>assists</th>\n      <th>turretKills</th>\n      <th>largestKillingSpree</th>\n      <th>damageDealtToBuildings</th>\n      <th>damageDealtToTurrets</th>\n      <th>kills</th>\n      <th>damageDealtToObjectives</th>\n      <th>killingSprees</th>\n      <th>inhibitorKills</th>\n      <th>largestMultiKill</th>\n      <th>totalTimeSpentDead</th>\n      <th>deaths</th>\n      <th>inhibitorsLost</th>\n      <th>nexusLost</th>\n      <th>turretsLost</th>\n    </tr>\n  </thead>\n  <tbody>\n    <tr>\n      <th>bountyLevel</th>\n      <td>1.000000</td>\n      <td>0.030387</td>\n      <td>0.343059</td>\n      <td>0.664497</td>\n      <td>0.332917</td>\n      <td>0.332292</td>\n      <td>0.508234</td>\n      <td>0.331835</td>\n      <td>0.296690</td>\n      <td>0.208941</td>\n      <td>0.435765</td>\n      <td>-0.326288</td>\n      <td>-0.390560</td>\n      <td>-0.258576</td>\n      <td>-0.274982</td>\n      <td>-0.336182</td>\n    </tr>\n    <tr>\n      <th>assists</th>\n      <td>0.030387</td>\n      <td>1.000000</td>\n      <td>0.081210</td>\n      <td>0.027069</td>\n      <td>0.049964</td>\n      <td>0.050010</td>\n      <td>0.088397</td>\n      <td>0.127766</td>\n      <td>0.086309</td>\n      <td>0.126782</td>\n      <td>0.037541</td>\n      <td>0.146986</td>\n      <td>0.101129</td>\n      <td>-0.038628</td>\n      <td>-0.067860</td>\n      <td>-0.033105</td>\n    </tr>\n    <tr>\n      <th>turretKills</th>\n      <td>0.343059</td>\n      <td>0.081210</td>\n      <td>1.000000</td>\n      <td>0.416001</td>\n      <td>0.823537</td>\n      <td>0.824520</td>\n      <td>0.440596</td>\n      <td>0.459038</td>\n      <td>0.370994</td>\n      <td>0.392533</td>\n      <td>0.341544</td>\n      <td>-0.014665</td>\n      <td>-0.126724</td>\n      <td>-0.167416</td>\n      <td>-0.165411</td>\n      <td>-0.187334</td>\n    </tr>\n    <tr>\n      <th>largestKillingSpree</th>\n      <td>0.664497</td>\n      <td>0.027069</td>\n      <td>0.416001</td>\n      <td>1.000000</td>\n      <td>0.405693</td>\n      <td>0.405079</td>\n      <td>0.837760</td>\n      <td>0.484396</td>\n      <td>0.614736</td>\n      <td>0.230083</td>\n      <td>0.660166</td>\n      <td>-0.137000</td>\n      <td>-0.256308</td>\n      <td>-0.145601</td>\n      <td>-0.143446</td>\n      <td>-0.197381</td>\n    </tr>\n    <tr>\n      <th>damageDealtToBuildings</th>\n      <td>0.332917</td>\n      <td>0.049964</td>\n      <td>0.823537</td>\n      <td>0.405693</td>\n      <td>1.000000</td>\n      <td>0.997767</td>\n      <td>0.437269</td>\n      <td>0.394665</td>\n      <td>0.369127</td>\n      <td>0.403890</td>\n      <td>0.346316</td>\n      <td>0.006850</td>\n      <td>-0.107440</td>\n      <td>-0.151510</td>\n      <td>-0.158914</td>\n      <td>-0.162551</td>\n    </tr>\n    <tr>\n      <th>damageDealtToTurrets</th>\n      <td>0.332292</td>\n      <td>0.050010</td>\n      <td>0.824520</td>\n      <td>0.405079</td>\n      <td>0.997767</td>\n      <td>1.000000</td>\n      <td>0.436557</td>\n      <td>0.395312</td>\n      <td>0.368719</td>\n      <td>0.404259</td>\n      <td>0.346515</td>\n      <td>0.008017</td>\n      <td>-0.106804</td>\n      <td>-0.152346</td>\n      <td>-0.159663</td>\n      <td>-0.164461</td>\n    </tr>\n    <tr>\n      <th>kills</th>\n      <td>0.508234</td>\n      <td>0.088397</td>\n      <td>0.440596</td>\n      <td>0.837760</td>\n      <td>0.437269</td>\n      <td>0.436557</td>\n      <td>1.000000</td>\n      <td>0.526528</td>\n      <td>0.829219</td>\n      <td>0.260619</td>\n      <td>0.715675</td>\n      <td>0.147890</td>\n      <td>0.006332</td>\n      <td>-0.065957</td>\n      <td>-0.080221</td>\n      <td>-0.077814</td>\n    </tr>\n    <tr>\n      <th>damageDealtToObjectives</th>\n      <td>0.331835</td>\n      <td>0.127766</td>\n      <td>0.459038</td>\n      <td>0.484396</td>\n      <td>0.394665</td>\n      <td>0.395312</td>\n      <td>0.526528</td>\n      <td>1.000000</td>\n      <td>0.443386</td>\n      <td>0.262904</td>\n      <td>0.375000</td>\n      <td>0.039557</td>\n      <td>-0.089559</td>\n      <td>-0.082178</td>\n      <td>-0.097923</td>\n      <td>-0.085333</td>\n    </tr>\n    <tr>\n      <th>killingSprees</th>\n      <td>0.296690</td>\n      <td>0.086309</td>\n      <td>0.370994</td>\n      <td>0.614736</td>\n      <td>0.369127</td>\n      <td>0.368719</td>\n      <td>0.829219</td>\n      <td>0.443386</td>\n      <td>1.000000</td>\n      <td>0.208092</td>\n      <td>0.589696</td>\n      <td>0.164360</td>\n      <td>0.021401</td>\n      <td>-0.049300</td>\n      <td>-0.064594</td>\n      <td>-0.062175</td>\n    </tr>\n    <tr>\n      <th>inhibitorKills</th>\n      <td>0.208941</td>\n      <td>0.126782</td>\n      <td>0.392533</td>\n      <td>0.230083</td>\n      <td>0.403890</td>\n      <td>0.404259</td>\n      <td>0.260619</td>\n      <td>0.262904</td>\n      <td>0.208092</td>\n      <td>1.000000</td>\n      <td>0.184468</td>\n      <td>0.002039</td>\n      <td>-0.052819</td>\n      <td>-0.133114</td>\n      <td>-0.145225</td>\n      <td>-0.135875</td>\n    </tr>\n    <tr>\n      <th>largestMultiKill</th>\n      <td>0.435765</td>\n      <td>0.037541</td>\n      <td>0.341544</td>\n      <td>0.660166</td>\n      <td>0.346316</td>\n      <td>0.346515</td>\n      <td>0.715675</td>\n      <td>0.375000</td>\n      <td>0.589696</td>\n      <td>0.184468</td>\n      <td>1.000000</td>\n      <td>0.062660</td>\n      <td>-0.038176</td>\n      <td>-0.069749</td>\n      <td>-0.075262</td>\n      <td>-0.091449</td>\n    </tr>\n    <tr>\n      <th>totalTimeSpentDead</th>\n      <td>-0.326288</td>\n      <td>0.146986</td>\n      <td>-0.014665</td>\n      <td>-0.137000</td>\n      <td>0.006850</td>\n      <td>0.008017</td>\n      <td>0.147890</td>\n      <td>0.039557</td>\n      <td>0.164360</td>\n      <td>0.002039</td>\n      <td>0.062660</td>\n      <td>1.000000</td>\n      <td>0.909162</td>\n      <td>0.437580</td>\n      <td>0.395785</td>\n      <td>0.565749</td>\n    </tr>\n    <tr>\n      <th>deaths</th>\n      <td>-0.390560</td>\n      <td>0.101129</td>\n      <td>-0.126724</td>\n      <td>-0.256308</td>\n      <td>-0.107440</td>\n      <td>-0.106804</td>\n      <td>0.006332</td>\n      <td>-0.089559</td>\n      <td>0.021401</td>\n      <td>-0.052819</td>\n      <td>-0.038176</td>\n      <td>0.909162</td>\n      <td>1.000000</td>\n      <td>0.437276</td>\n      <td>0.393596</td>\n      <td>0.579993</td>\n    </tr>\n    <tr>\n      <th>inhibitorsLost</th>\n      <td>-0.258576</td>\n      <td>-0.038628</td>\n      <td>-0.167416</td>\n      <td>-0.145601</td>\n      <td>-0.151510</td>\n      <td>-0.152346</td>\n      <td>-0.065957</td>\n      <td>-0.082178</td>\n      <td>-0.049300</td>\n      <td>-0.133114</td>\n      <td>-0.069749</td>\n      <td>0.437580</td>\n      <td>0.437276</td>\n      <td>1.000000</td>\n      <td>0.716334</td>\n      <td>0.819845</td>\n    </tr>\n    <tr>\n      <th>nexusLost</th>\n      <td>-0.274982</td>\n      <td>-0.067860</td>\n      <td>-0.165411</td>\n      <td>-0.143446</td>\n      <td>-0.158914</td>\n      <td>-0.159663</td>\n      <td>-0.080221</td>\n      <td>-0.097923</td>\n      <td>-0.064594</td>\n      <td>-0.145225</td>\n      <td>-0.075262</td>\n      <td>0.395785</td>\n      <td>0.393596</td>\n      <td>0.716334</td>\n      <td>1.000000</td>\n      <td>0.750431</td>\n    </tr>\n    <tr>\n      <th>turretsLost</th>\n      <td>-0.336182</td>\n      <td>-0.033105</td>\n      <td>-0.187334</td>\n      <td>-0.197381</td>\n      <td>-0.162551</td>\n      <td>-0.164461</td>\n      <td>-0.077814</td>\n      <td>-0.085333</td>\n      <td>-0.062175</td>\n      <td>-0.135875</td>\n      <td>-0.091449</td>\n      <td>0.565749</td>\n      <td>0.579993</td>\n      <td>0.819845</td>\n      <td>0.750431</td>\n      <td>1.000000</td>\n    </tr>\n  </tbody>\n</table>\n</div>"
     },
     "metadata": {},
     "execution_count": 56
    }
   ],
   "source": [
    "multicollinearity =  match_data_total_deduped.loc[:, list(strong_corr_cols.index)[1:]].corr()\n",
    "multicollinearity"
   ]
  },
  {
   "cell_type": "code",
   "execution_count": 57,
   "metadata": {},
   "outputs": [
    {
     "output_type": "stream",
     "name": "stdout",
     "text": [
      "damageDealtToBuildings is highly correlated with turretKills at a value of 0.8235372106988683\n\ndamageDealtToTurrets is highly correlated with turretKills at a value of 0.8245198554665287\n\nkills is highly correlated with largestKillingSpree at a value of 0.8377601723145559\n\nturretKills is highly correlated with damageDealtToBuildings at a value of 0.8235372106988683\n\ndamageDealtToTurrets is highly correlated with damageDealtToBuildings at a value of 0.9977668625335011\n\nturretKills is highly correlated with damageDealtToTurrets at a value of 0.8245198554665287\n\ndamageDealtToBuildings is highly correlated with damageDealtToTurrets at a value of 0.9977668625335011\n\nlargestKillingSpree is highly correlated with kills at a value of 0.8377601723145559\n\nkillingSprees is highly correlated with kills at a value of 0.8292185152185427\n\nkills is highly correlated with killingSprees at a value of 0.8292185152185427\n\ndeaths is highly correlated with totalTimeSpentDead at a value of 0.9091622520908432\n\ntotalTimeSpentDead is highly correlated with deaths at a value of 0.9091622520908432\n\nturretsLost is highly correlated with inhibitorsLost at a value of 0.8198447923736323\n\ninhibitorsLost is highly correlated with turretsLost at a value of 0.8198447923736323\n\n"
     ]
    }
   ],
   "source": [
    "for col in list(multicollinearity.columns):\n",
    "    col_to_check = multicollinearity.loc[:, col]\n",
    "    for index, value in col_to_check.iteritems():\n",
    "        if value >= .80 and value != 1.0:\n",
    "            print(f'{index} is highly correlated with {col} at a value of {value}')\n",
    "            print()"
   ]
  },
  {
   "cell_type": "code",
   "execution_count": 58,
   "metadata": {},
   "outputs": [],
   "source": [
    "# remove damageDealtToBuildings\n",
    "# remove damageDealtToTurrets\n",
    "# remove kills\n",
    "# remove totalTimeSpentDead\n",
    "# remove inhibitorsLost\n",
    "x = match_data_total_deduped.loc[:, [\n",
    " 'bountyLevel',\n",
    " 'assists',\n",
    " 'turretKills',\n",
    " 'largestKillingSpree',\n",
    " 'damageDealtToObjectives',\n",
    " 'killingSprees',\n",
    " 'inhibitorKills',\n",
    " 'largestMultiKill',\n",
    " 'deaths',\n",
    " 'nexusLost',\n",
    " 'turretsLost']]\n",
    "y = match_data_total_deduped['win']"
   ]
  },
  {
   "cell_type": "code",
   "execution_count": 59,
   "metadata": {},
   "outputs": [
    {
     "output_type": "execute_result",
     "data": {
      "text/plain": [
       "   bountyLevel  assists  turretKills  largestKillingSpree  \\\n",
       "0            0       13            0                    0   \n",
       "1            0       11            0                    2   \n",
       "2            0        0            0                    0   \n",
       "3            0       20            0                    0   \n",
       "4            1       18            0                    0   \n",
       "\n",
       "   damageDealtToObjectives  killingSprees  inhibitorKills  largestMultiKill  \\\n",
       "0                     1419              0               0                 1   \n",
       "1                      174              1               0                 1   \n",
       "2                        0              0               0                 1   \n",
       "3                      999              0               0                 0   \n",
       "4                      796              0               0                 1   \n",
       "\n",
       "   deaths  nexusLost  turretsLost  \n",
       "0       6        0.0          0.0  \n",
       "1       5        1.0          9.0  \n",
       "2       5        0.0          3.0  \n",
       "3       7        0.0          1.0  \n",
       "4       4        0.0          1.0  "
      ],
      "text/html": "<div>\n<style scoped>\n    .dataframe tbody tr th:only-of-type {\n        vertical-align: middle;\n    }\n\n    .dataframe tbody tr th {\n        vertical-align: top;\n    }\n\n    .dataframe thead th {\n        text-align: right;\n    }\n</style>\n<table border=\"1\" class=\"dataframe\">\n  <thead>\n    <tr style=\"text-align: right;\">\n      <th></th>\n      <th>bountyLevel</th>\n      <th>assists</th>\n      <th>turretKills</th>\n      <th>largestKillingSpree</th>\n      <th>damageDealtToObjectives</th>\n      <th>killingSprees</th>\n      <th>inhibitorKills</th>\n      <th>largestMultiKill</th>\n      <th>deaths</th>\n      <th>nexusLost</th>\n      <th>turretsLost</th>\n    </tr>\n  </thead>\n  <tbody>\n    <tr>\n      <th>0</th>\n      <td>0</td>\n      <td>13</td>\n      <td>0</td>\n      <td>0</td>\n      <td>1419</td>\n      <td>0</td>\n      <td>0</td>\n      <td>1</td>\n      <td>6</td>\n      <td>0.0</td>\n      <td>0.0</td>\n    </tr>\n    <tr>\n      <th>1</th>\n      <td>0</td>\n      <td>11</td>\n      <td>0</td>\n      <td>2</td>\n      <td>174</td>\n      <td>1</td>\n      <td>0</td>\n      <td>1</td>\n      <td>5</td>\n      <td>1.0</td>\n      <td>9.0</td>\n    </tr>\n    <tr>\n      <th>2</th>\n      <td>0</td>\n      <td>0</td>\n      <td>0</td>\n      <td>0</td>\n      <td>0</td>\n      <td>0</td>\n      <td>0</td>\n      <td>1</td>\n      <td>5</td>\n      <td>0.0</td>\n      <td>3.0</td>\n    </tr>\n    <tr>\n      <th>3</th>\n      <td>0</td>\n      <td>20</td>\n      <td>0</td>\n      <td>0</td>\n      <td>999</td>\n      <td>0</td>\n      <td>0</td>\n      <td>0</td>\n      <td>7</td>\n      <td>0.0</td>\n      <td>1.0</td>\n    </tr>\n    <tr>\n      <th>4</th>\n      <td>1</td>\n      <td>18</td>\n      <td>0</td>\n      <td>0</td>\n      <td>796</td>\n      <td>0</td>\n      <td>0</td>\n      <td>1</td>\n      <td>4</td>\n      <td>0.0</td>\n      <td>1.0</td>\n    </tr>\n  </tbody>\n</table>\n</div>"
     },
     "metadata": {},
     "execution_count": 59
    }
   ],
   "source": [
    "d_types = ['int16', 'int32', 'int64', 'float16', 'float32', 'float64', 'bool']\n",
    "x = x.select_dtypes(include = d_types)\n",
    "x.head()"
   ]
  },
  {
   "cell_type": "code",
   "execution_count": 60,
   "metadata": {},
   "outputs": [
    {
     "output_type": "execute_result",
     "data": {
      "text/plain": [
       "0    1\n",
       "1    0\n",
       "2    0\n",
       "3    1\n",
       "4    1\n",
       "Name: win, dtype: int32"
      ]
     },
     "metadata": {},
     "execution_count": 60
    }
   ],
   "source": [
    "y = y.astype('int')\n",
    "y.head()"
   ]
  },
  {
   "cell_type": "code",
   "execution_count": 61,
   "metadata": {},
   "outputs": [],
   "source": [
    "x_train, x_test, y_train, y_test = train_test_split(x, y, random_state = 4)"
   ]
  },
  {
   "source": [
    "## Training the Model"
   ],
   "cell_type": "markdown",
   "metadata": {}
  },
  {
   "cell_type": "code",
   "execution_count": 62,
   "metadata": {},
   "outputs": [
    {
     "output_type": "execute_result",
     "data": {
      "text/plain": [
       "LogisticRegression(solver='liblinear')"
      ]
     },
     "metadata": {},
     "execution_count": 62
    }
   ],
   "source": [
    "logistic_regression = LogisticRegression(solver='liblinear')\n",
    "logistic_regression.fit(x_train, y_train)"
   ]
  },
  {
   "source": [
    "## Testing the Model"
   ],
   "cell_type": "markdown",
   "metadata": {}
  },
  {
   "cell_type": "code",
   "execution_count": 63,
   "metadata": {},
   "outputs": [],
   "source": [
    "# use the model tuned by the x_train and y_train to get predicted values for y\n",
    "y_pred = logistic_regression.predict(x_test)"
   ]
  },
  {
   "cell_type": "code",
   "execution_count": 64,
   "metadata": {},
   "outputs": [
    {
     "output_type": "execute_result",
     "data": {
      "text/plain": [
       "95.66916313904265"
      ]
     },
     "metadata": {},
     "execution_count": 64
    }
   ],
   "source": [
    "# get the accuracy of the model\n",
    "accuracy = metrics.accuracy_score(y_test, y_pred)\n",
    "accuracy_percentage = 100 * accuracy\n",
    "accuracy_percentage"
   ]
  },
  {
   "cell_type": "code",
   "execution_count": 65,
   "metadata": {},
   "outputs": [
    {
     "output_type": "execute_result",
     "data": {
      "text/plain": [
       "array([[1335,   65],\n",
       "       [  68, 1603]], dtype=int64)"
      ]
     },
     "metadata": {},
     "execution_count": 65
    }
   ],
   "source": [
    "cm = metrics.confusion_matrix(y_test, y_pred)\n",
    "cm"
   ]
  },
  {
   "cell_type": "code",
   "execution_count": 66,
   "metadata": {},
   "outputs": [
    {
     "output_type": "display_data",
     "data": {
      "text/html": "        <script type=\"text/javascript\">\n        window.PlotlyConfig = {MathJaxConfig: 'local'};\n        if (window.MathJax) {MathJax.Hub.Config({SVG: {font: \"STIX-Web\"}});}\n        if (typeof require !== 'undefined') {\n        require.undef(\"plotly\");\n        requirejs.config({\n            paths: {\n                'plotly': ['https://cdn.plot.ly/plotly-latest.min']\n            }\n        });\n        require(['plotly'], function(Plotly) {\n            window._Plotly = Plotly;\n        });\n        }\n        </script>\n        "
     },
     "metadata": {}
    },
    {
     "output_type": "display_data",
     "data": {
      "text/html": "<div>                            <div id=\"bd13eb27-fa8c-47dc-ab6a-4e88b1d8a731\" class=\"plotly-graph-div\" style=\"height:800px; width:800px;\"></div>            <script type=\"text/javascript\">                require([\"plotly\"], function(Plotly) {                    window.PLOTLYENV=window.PLOTLYENV || {};                                    if (document.getElementById(\"bd13eb27-fa8c-47dc-ab6a-4e88b1d8a731\")) {                    Plotly.newPlot(                        \"bd13eb27-fa8c-47dc-ab6a-4e88b1d8a731\",                        [{\"colorscale\": [[0.0, \"rgb(103,0,31)\"], [0.1, \"rgb(178,24,43)\"], [0.2, \"rgb(214,96,77)\"], [0.3, \"rgb(244,165,130)\"], [0.4, \"rgb(253,219,199)\"], [0.5, \"rgb(247,247,247)\"], [0.6, \"rgb(209,229,240)\"], [0.7, \"rgb(146,197,222)\"], [0.8, \"rgb(67,147,195)\"], [0.9, \"rgb(33,102,172)\"], [1.0, \"rgb(5,48,97)\"]], \"reversescale\": false, \"showscale\": true, \"type\": \"heatmap\", \"x\": [\"Predicted Loss\", \"Predicted Win\"], \"y\": [\"Actual Loss\", \"Actual Win\"], \"z\": [[1335, 65], [68, 1603]]}],                        {\"annotations\": [{\"font\": {\"color\": \"#FFFFFF\"}, \"showarrow\": false, \"text\": \"1335\", \"x\": \"Predicted Loss\", \"xref\": \"x\", \"y\": \"Actual Loss\", \"yref\": \"y\"}, {\"font\": {\"color\": \"#FFFFFF\"}, \"showarrow\": false, \"text\": \"65\", \"x\": \"Predicted Win\", \"xref\": \"x\", \"y\": \"Actual Loss\", \"yref\": \"y\"}, {\"font\": {\"color\": \"#FFFFFF\"}, \"showarrow\": false, \"text\": \"68\", \"x\": \"Predicted Loss\", \"xref\": \"x\", \"y\": \"Actual Win\", \"yref\": \"y\"}, {\"font\": {\"color\": \"#FFFFFF\"}, \"showarrow\": false, \"text\": \"1603\", \"x\": \"Predicted Win\", \"xref\": \"x\", \"y\": \"Actual Win\", \"yref\": \"y\"}], \"height\": 800, \"template\": {\"data\": {\"bar\": [{\"error_x\": {\"color\": \"#2a3f5f\"}, \"error_y\": {\"color\": \"#2a3f5f\"}, \"marker\": {\"line\": {\"color\": \"#E5ECF6\", \"width\": 0.5}}, \"type\": \"bar\"}], \"barpolar\": [{\"marker\": {\"line\": {\"color\": \"#E5ECF6\", \"width\": 0.5}}, \"type\": \"barpolar\"}], \"carpet\": [{\"aaxis\": {\"endlinecolor\": \"#2a3f5f\", \"gridcolor\": \"white\", \"linecolor\": \"white\", \"minorgridcolor\": \"white\", \"startlinecolor\": \"#2a3f5f\"}, \"baxis\": {\"endlinecolor\": \"#2a3f5f\", \"gridcolor\": \"white\", \"linecolor\": \"white\", \"minorgridcolor\": \"white\", \"startlinecolor\": \"#2a3f5f\"}, \"type\": \"carpet\"}], \"choropleth\": [{\"colorbar\": {\"outlinewidth\": 0, \"ticks\": \"\"}, \"type\": \"choropleth\"}], \"contour\": [{\"colorbar\": {\"outlinewidth\": 0, \"ticks\": \"\"}, \"colorscale\": [[0.0, \"#0d0887\"], [0.1111111111111111, \"#46039f\"], [0.2222222222222222, \"#7201a8\"], [0.3333333333333333, \"#9c179e\"], [0.4444444444444444, \"#bd3786\"], [0.5555555555555556, \"#d8576b\"], [0.6666666666666666, \"#ed7953\"], [0.7777777777777778, \"#fb9f3a\"], [0.8888888888888888, \"#fdca26\"], [1.0, \"#f0f921\"]], \"type\": \"contour\"}], \"contourcarpet\": [{\"colorbar\": {\"outlinewidth\": 0, \"ticks\": \"\"}, \"type\": \"contourcarpet\"}], \"heatmap\": [{\"colorbar\": {\"outlinewidth\": 0, \"ticks\": \"\"}, \"colorscale\": [[0.0, \"#0d0887\"], [0.1111111111111111, \"#46039f\"], [0.2222222222222222, \"#7201a8\"], [0.3333333333333333, \"#9c179e\"], [0.4444444444444444, \"#bd3786\"], [0.5555555555555556, \"#d8576b\"], [0.6666666666666666, \"#ed7953\"], [0.7777777777777778, \"#fb9f3a\"], [0.8888888888888888, \"#fdca26\"], [1.0, \"#f0f921\"]], \"type\": \"heatmap\"}], \"heatmapgl\": [{\"colorbar\": {\"outlinewidth\": 0, \"ticks\": \"\"}, \"colorscale\": [[0.0, \"#0d0887\"], [0.1111111111111111, \"#46039f\"], [0.2222222222222222, \"#7201a8\"], [0.3333333333333333, \"#9c179e\"], [0.4444444444444444, \"#bd3786\"], [0.5555555555555556, \"#d8576b\"], [0.6666666666666666, \"#ed7953\"], [0.7777777777777778, \"#fb9f3a\"], [0.8888888888888888, \"#fdca26\"], [1.0, \"#f0f921\"]], \"type\": \"heatmapgl\"}], \"histogram\": [{\"marker\": {\"colorbar\": {\"outlinewidth\": 0, \"ticks\": \"\"}}, \"type\": \"histogram\"}], \"histogram2d\": [{\"colorbar\": {\"outlinewidth\": 0, \"ticks\": \"\"}, \"colorscale\": [[0.0, \"#0d0887\"], [0.1111111111111111, \"#46039f\"], [0.2222222222222222, \"#7201a8\"], [0.3333333333333333, \"#9c179e\"], [0.4444444444444444, \"#bd3786\"], [0.5555555555555556, \"#d8576b\"], [0.6666666666666666, \"#ed7953\"], [0.7777777777777778, \"#fb9f3a\"], [0.8888888888888888, \"#fdca26\"], [1.0, \"#f0f921\"]], \"type\": \"histogram2d\"}], \"histogram2dcontour\": [{\"colorbar\": {\"outlinewidth\": 0, \"ticks\": \"\"}, \"colorscale\": [[0.0, \"#0d0887\"], [0.1111111111111111, \"#46039f\"], [0.2222222222222222, \"#7201a8\"], [0.3333333333333333, \"#9c179e\"], [0.4444444444444444, \"#bd3786\"], [0.5555555555555556, \"#d8576b\"], [0.6666666666666666, \"#ed7953\"], [0.7777777777777778, \"#fb9f3a\"], [0.8888888888888888, \"#fdca26\"], [1.0, \"#f0f921\"]], \"type\": \"histogram2dcontour\"}], \"mesh3d\": [{\"colorbar\": {\"outlinewidth\": 0, \"ticks\": \"\"}, \"type\": \"mesh3d\"}], \"parcoords\": [{\"line\": {\"colorbar\": {\"outlinewidth\": 0, \"ticks\": \"\"}}, \"type\": \"parcoords\"}], \"pie\": [{\"automargin\": true, \"type\": \"pie\"}], \"scatter\": [{\"marker\": {\"colorbar\": {\"outlinewidth\": 0, \"ticks\": \"\"}}, \"type\": \"scatter\"}], \"scatter3d\": [{\"line\": {\"colorbar\": {\"outlinewidth\": 0, \"ticks\": \"\"}}, \"marker\": {\"colorbar\": {\"outlinewidth\": 0, \"ticks\": \"\"}}, \"type\": \"scatter3d\"}], \"scattercarpet\": [{\"marker\": {\"colorbar\": {\"outlinewidth\": 0, \"ticks\": \"\"}}, \"type\": \"scattercarpet\"}], \"scattergeo\": [{\"marker\": {\"colorbar\": {\"outlinewidth\": 0, \"ticks\": \"\"}}, \"type\": \"scattergeo\"}], \"scattergl\": [{\"marker\": {\"colorbar\": {\"outlinewidth\": 0, \"ticks\": \"\"}}, \"type\": \"scattergl\"}], \"scattermapbox\": [{\"marker\": {\"colorbar\": {\"outlinewidth\": 0, \"ticks\": \"\"}}, \"type\": \"scattermapbox\"}], \"scatterpolar\": [{\"marker\": {\"colorbar\": {\"outlinewidth\": 0, \"ticks\": \"\"}}, \"type\": \"scatterpolar\"}], \"scatterpolargl\": [{\"marker\": {\"colorbar\": {\"outlinewidth\": 0, \"ticks\": \"\"}}, \"type\": \"scatterpolargl\"}], \"scatterternary\": [{\"marker\": {\"colorbar\": {\"outlinewidth\": 0, \"ticks\": \"\"}}, \"type\": \"scatterternary\"}], \"surface\": [{\"colorbar\": {\"outlinewidth\": 0, \"ticks\": \"\"}, \"colorscale\": [[0.0, \"#0d0887\"], [0.1111111111111111, \"#46039f\"], [0.2222222222222222, \"#7201a8\"], [0.3333333333333333, \"#9c179e\"], [0.4444444444444444, \"#bd3786\"], [0.5555555555555556, \"#d8576b\"], [0.6666666666666666, \"#ed7953\"], [0.7777777777777778, \"#fb9f3a\"], [0.8888888888888888, \"#fdca26\"], [1.0, \"#f0f921\"]], \"type\": \"surface\"}], \"table\": [{\"cells\": {\"fill\": {\"color\": \"#EBF0F8\"}, \"line\": {\"color\": \"white\"}}, \"header\": {\"fill\": {\"color\": \"#C8D4E3\"}, \"line\": {\"color\": \"white\"}}, \"type\": \"table\"}]}, \"layout\": {\"annotationdefaults\": {\"arrowcolor\": \"#2a3f5f\", \"arrowhead\": 0, \"arrowwidth\": 1}, \"autotypenumbers\": \"strict\", \"coloraxis\": {\"colorbar\": {\"outlinewidth\": 0, \"ticks\": \"\"}}, \"colorscale\": {\"diverging\": [[0, \"#8e0152\"], [0.1, \"#c51b7d\"], [0.2, \"#de77ae\"], [0.3, \"#f1b6da\"], [0.4, \"#fde0ef\"], [0.5, \"#f7f7f7\"], [0.6, \"#e6f5d0\"], [0.7, \"#b8e186\"], [0.8, \"#7fbc41\"], [0.9, \"#4d9221\"], [1, \"#276419\"]], \"sequential\": [[0.0, \"#0d0887\"], [0.1111111111111111, \"#46039f\"], [0.2222222222222222, \"#7201a8\"], [0.3333333333333333, \"#9c179e\"], [0.4444444444444444, \"#bd3786\"], [0.5555555555555556, \"#d8576b\"], [0.6666666666666666, \"#ed7953\"], [0.7777777777777778, \"#fb9f3a\"], [0.8888888888888888, \"#fdca26\"], [1.0, \"#f0f921\"]], \"sequentialminus\": [[0.0, \"#0d0887\"], [0.1111111111111111, \"#46039f\"], [0.2222222222222222, \"#7201a8\"], [0.3333333333333333, \"#9c179e\"], [0.4444444444444444, \"#bd3786\"], [0.5555555555555556, \"#d8576b\"], [0.6666666666666666, \"#ed7953\"], [0.7777777777777778, \"#fb9f3a\"], [0.8888888888888888, \"#fdca26\"], [1.0, \"#f0f921\"]]}, \"colorway\": [\"#636efa\", \"#EF553B\", \"#00cc96\", \"#ab63fa\", \"#FFA15A\", \"#19d3f3\", \"#FF6692\", \"#B6E880\", \"#FF97FF\", \"#FECB52\"], \"font\": {\"color\": \"#2a3f5f\"}, \"geo\": {\"bgcolor\": \"white\", \"lakecolor\": \"white\", \"landcolor\": \"#E5ECF6\", \"showlakes\": true, \"showland\": true, \"subunitcolor\": \"white\"}, \"hoverlabel\": {\"align\": \"left\"}, \"hovermode\": \"closest\", \"mapbox\": {\"style\": \"light\"}, \"paper_bgcolor\": \"white\", \"plot_bgcolor\": \"#E5ECF6\", \"polar\": {\"angularaxis\": {\"gridcolor\": \"white\", \"linecolor\": \"white\", \"ticks\": \"\"}, \"bgcolor\": \"#E5ECF6\", \"radialaxis\": {\"gridcolor\": \"white\", \"linecolor\": \"white\", \"ticks\": \"\"}}, \"scene\": {\"xaxis\": {\"backgroundcolor\": \"#E5ECF6\", \"gridcolor\": \"white\", \"gridwidth\": 2, \"linecolor\": \"white\", \"showbackground\": true, \"ticks\": \"\", \"zerolinecolor\": \"white\"}, \"yaxis\": {\"backgroundcolor\": \"#E5ECF6\", \"gridcolor\": \"white\", \"gridwidth\": 2, \"linecolor\": \"white\", \"showbackground\": true, \"ticks\": \"\", \"zerolinecolor\": \"white\"}, \"zaxis\": {\"backgroundcolor\": \"#E5ECF6\", \"gridcolor\": \"white\", \"gridwidth\": 2, \"linecolor\": \"white\", \"showbackground\": true, \"ticks\": \"\", \"zerolinecolor\": \"white\"}}, \"shapedefaults\": {\"line\": {\"color\": \"#2a3f5f\"}}, \"ternary\": {\"aaxis\": {\"gridcolor\": \"white\", \"linecolor\": \"white\", \"ticks\": \"\"}, \"baxis\": {\"gridcolor\": \"white\", \"linecolor\": \"white\", \"ticks\": \"\"}, \"bgcolor\": \"#E5ECF6\", \"caxis\": {\"gridcolor\": \"white\", \"linecolor\": \"white\", \"ticks\": \"\"}}, \"title\": {\"x\": 0.05}, \"xaxis\": {\"automargin\": true, \"gridcolor\": \"white\", \"linecolor\": \"white\", \"ticks\": \"\", \"title\": {\"standoff\": 15}, \"zerolinecolor\": \"white\", \"zerolinewidth\": 2}, \"yaxis\": {\"automargin\": true, \"gridcolor\": \"white\", \"linecolor\": \"white\", \"ticks\": \"\", \"title\": {\"standoff\": 15}, \"zerolinecolor\": \"white\", \"zerolinewidth\": 2}}}, \"title\": {\"text\": \"Correlation Matrix - Accuracy Score: 96%\", \"x\": 0.5}, \"width\": 800, \"xaxis\": {\"dtick\": 1, \"gridcolor\": \"rgb(0, 0, 0)\", \"side\": \"top\", \"ticks\": \"\"}, \"yaxis\": {\"dtick\": 1, \"ticks\": \"\", \"ticksuffix\": \"  \"}},                        {\"responsive\": true}                    ).then(function(){\n                            \nvar gd = document.getElementById('bd13eb27-fa8c-47dc-ab6a-4e88b1d8a731');\nvar x = new MutationObserver(function (mutations, observer) {{\n        var display = window.getComputedStyle(gd).display;\n        if (!display || display === 'none') {{\n            console.log([gd, 'removed!']);\n            Plotly.purge(gd);\n            observer.disconnect();\n        }}\n}});\n\n// Listen for the removal of the full notebook cells\nvar notebookContainer = gd.closest('#notebook-container');\nif (notebookContainer) {{\n    x.observe(notebookContainer, {childList: true});\n}}\n\n// Listen for the clearing of the current output cell\nvar outputEl = gd.closest('.output');\nif (outputEl) {{\n    x.observe(outputEl, {childList: true});\n}}\n\n                        })                };                });            </script>        </div>"
     },
     "metadata": {}
    }
   ],
   "source": [
    "import plotly.figure_factory as ff\n",
    "fig = ff.create_annotated_heatmap(cm,\n",
    "                x = ['Predicted Loss', 'Predicted Win'],\n",
    "                y= ['Actual Loss', 'Actual Win'],\n",
    "                colorscale='RdBu',\n",
    "                showscale = True)\n",
    "\n",
    "fig.update_layout(title = f'Correlation Matrix - Accuracy Score: {round(accuracy_percentage)}%',\n",
    "                  width = 800,\n",
    "                  height = 800,\n",
    "                  title_x = 0.5)\n",
    "fig.show(renderer = 'notebook_connected')"
   ]
  }
 ],
 "metadata": {
  "kernelspec": {
   "name": "python3",
   "display_name": "Python 3.9.2 64-bit"
  },
  "language_info": {
   "codemirror_mode": {
    "name": "ipython",
    "version": 3
   },
   "file_extension": ".py",
   "mimetype": "text/x-python",
   "name": "python",
   "nbconvert_exporter": "python",
   "pygments_lexer": "ipython3",
   "version": "3.9.2"
  },
  "metadata": {
   "interpreter": {
    "hash": "65722d08b9c0bc5cbeb1591a99d644545f6f4506367bb583be773e1987c2af01"
   }
  },
  "interpreter": {
   "hash": "65722d08b9c0bc5cbeb1591a99d644545f6f4506367bb583be773e1987c2af01"
  }
 },
 "nbformat": 4,
 "nbformat_minor": 4
}